{
 "cells": [
  {
   "cell_type": "code",
   "execution_count": 25,
   "id": "5035723e",
   "metadata": {},
   "outputs": [],
   "source": [
    "import numpy as np\n",
    "import cs_vqe as c"
   ]
  },
  {
   "cell_type": "code",
   "execution_count": 26,
   "id": "890ed9d8",
   "metadata": {},
   "outputs": [],
   "source": [
    "ham = {'III':-6.823060333, 'ZII':-0.1110098029, 'IZI':-0.5370907285, 'IIZ':-0.3127149146, 'ZZI':0.383637914, 'ZIZ':0.2581256772, 'IZZ':0.2523178271, 'XXI':0.06593809513, 'YYI':-0.06593809513, 'XIX':0.0121680127, 'YIY':0.0121680127, 'IXX':0.01764480014, 'IYY':0.01764480014}"
   ]
  },
  {
   "cell_type": "code",
   "execution_count": 27,
   "id": "1706a6db",
   "metadata": {},
   "outputs": [
    {
     "data": {
      "text/plain": [
       "True"
      ]
     },
     "execution_count": 27,
     "metadata": {},
     "output_type": "execute_result"
    }
   ],
   "source": [
    "c.contextualQ_ham(ham)"
   ]
  },
  {
   "cell_type": "code",
   "execution_count": 28,
   "id": "497dabf5",
   "metadata": {},
   "outputs": [
    {
     "data": {
      "text/plain": [
       "[[], ['III', 'IZI', 'ZZI', 'IIZ', 'ZIZ', 'IZZ', 'ZII', 'XXI', 'YYI']]"
      ]
     },
     "execution_count": 28,
     "metadata": {},
     "output_type": "execute_result"
    }
   ],
   "source": [
    "c.greedy_dfs(ham, 10, criterion='weight')"
   ]
  },
  {
   "cell_type": "code",
   "execution_count": 29,
   "id": "1e7dec71",
   "metadata": {},
   "outputs": [],
   "source": [
    "terms_noncon = {'III', 'ZII', 'IZI', 'IIZ', 'ZZI', 'ZIZ', 'IZZ', 'IXX', 'IYY'}\n",
    "ham_noncon = {p:ham[p] for p in terms_noncon}\n",
    "model = c.quasi_model(ham_noncon)\n",
    "#model"
   ]
  },
  {
   "cell_type": "code",
   "execution_count": 30,
   "id": "f361b315",
   "metadata": {},
   "outputs": [
    {
     "data": {
      "text/plain": [
       "False"
      ]
     },
     "execution_count": 30,
     "metadata": {},
     "output_type": "execute_result"
    }
   ],
   "source": [
    "c.contextualQ_ham(ham_noncon)"
   ]
  },
  {
   "cell_type": "code",
   "execution_count": 31,
   "id": "c1fb9601",
   "metadata": {},
   "outputs": [
    {
     "name": "stdout",
     "output_type": "stream",
     "text": [
      "commuting generators: ['ZII', 'IZZ'] \n",
      "\n",
      "anticommuting generators: ['IXX', 'IIZ'] \n",
      "\n",
      "term reconstruction: {'IYY': [['IZZ'], ['IXX'], (-1+0j)], 'IZI': [['IZZ'], ['IIZ'], 1], 'ZIZ': [['ZII'], ['IIZ'], 1], 'III': [[], [], 1], 'IXX': [[], ['IXX'], 1], 'ZII': [['ZII'], [], 1], 'ZZI': [['ZII', 'IZZ'], ['IIZ'], 1], 'IIZ': [[], ['IIZ'], 1], 'IZZ': [['IZZ'], [], 1]} \n",
      "\n"
     ]
    }
   ],
   "source": [
    "print('commuting generators:',model[0], '\\n')\n",
    "print('anticommuting generators:',model[1], '\\n')\n",
    "print('term reconstruction:',model[2], '\\n')"
   ]
  },
  {
   "cell_type": "code",
   "execution_count": 32,
   "id": "300b44f2",
   "metadata": {},
   "outputs": [
    {
     "name": "stdout",
     "output_type": "stream",
     "text": [
      "dim of q:  2\n",
      "dim of r:  2\n",
      "encoding of function:  [[(-0.01764480014+0j), [1], [0], 'IYY'], [-0.5370907285, [1], [1], 'IZI'], [0.2581256772, [0], [1], 'ZIZ'], [-6.823060333, [], [], 'III'], [0.01764480014, [], [0], 'IXX'], [-0.1110098029, [0], [], 'ZII'], [0.383637914, [0, 1], [1], 'ZZI'], [-0.3127149146, [], [1], 'IIZ'], [0.2523178271, [1], [], 'IZZ']] \n",
      "\n"
     ]
    }
   ],
   "source": [
    "fn_form = c.energy_function_form(ham_noncon, model)\n",
    "print('dim of q: ', fn_form[0])\n",
    "print('dim of r: ', fn_form[1])\n",
    "print('encoding of function: ', fn_form[2], '\\n')"
   ]
  },
  {
   "cell_type": "code",
   "execution_count": 33,
   "id": "5752a75a",
   "metadata": {},
   "outputs": [
    {
     "name": "stdout",
     "output_type": "stream",
     "text": [
      "ground state energy estimate: -7.951301937300001 \n",
      "\n",
      "energy-minimizing parameter setting: [[-1, 1], [2.3209029648311383e-08, 0.9999999999999998]]\n"
     ]
    }
   ],
   "source": [
    "gs_noncon = c.find_gs_noncon(ham_noncon)\n",
    "print('ground state energy estimate:', gs_noncon[0], '\\n')\n",
    "print('energy-minimizing parameter setting:', gs_noncon[1])\n",
    "ep_state = gs_noncon[1]"
   ]
  },
  {
   "cell_type": "code",
   "execution_count": 34,
   "id": "40a5185e",
   "metadata": {},
   "outputs": [
    {
     "data": {
      "text/plain": [
       "-7.951301937300001"
      ]
     },
     "execution_count": 34,
     "metadata": {},
     "output_type": "execute_result"
    }
   ],
   "source": [
    "c.quantum_correction(ham, model, fn_form, ep_state)"
   ]
  },
  {
   "cell_type": "code",
   "execution_count": 51,
   "id": "6828dd49",
   "metadata": {},
   "outputs": [
    {
     "name": "stdout",
     "output_type": "stream",
     "text": [
      "pure noncontextual approximation: {'': -7.951301937300001} \n",
      "\n",
      "using 1 qubits on quantum processor: {'I': -6.459732703, 'X': -3.4617874580971315e-08, 'Z': -1.4915692342999998} \n",
      "\n",
      "using 2 qubits on quantum processor: {'II': -6.7120505301, 'IX': 0.017644778770781636, 'ZZ': 0.9207286429095184, 'ZX': 0.017644813388656217, 'IZ': -0.5708405913904813, 'ZI': -0.2523178271} \n",
      "\n",
      "using 3 qubits on quantum processor: {'III': -6.823060333, 'ZII': -0.1110098029, 'IIX': 0.017644787674645356, 'IZZ': 0.5370907289095185, 'IZX': 0.01764480739780972, 'IIZ': -0.31271491419048125, 'ZIX': 8.903863720242333e-09, 'ZZZ': -0.3836379139999999, 'ZZX': -5.990846495125254e-09, 'ZIZ': 0.25812567719999996, 'IZI': -0.2523178271, 'XXZ': -0.06593809513, 'YXY': -1.5303592048253463e-09, 'YYI': -0.06593809512999999, 'XXI': -2.8240776751532946e-10, 'XYY': -0.012168012699999996, 'YYX': 0.0121680127} \n",
      "\n"
     ]
    }
   ],
   "source": [
    "order = [2,1,0]\n",
    "reduced_hamiltonians = c.get_reduced_hamiltonians(ham, model, fn_form, ep_state, order)\n",
    "\n",
    "print('pure noncontextual approximation:',reduced_hamiltonians[0],'\\n')\n",
    "\n",
    "for i in range(1, fn_form[0]+fn_form[1]):\n",
    "    print('using %i qubits on quantum processor:' % i, reduced_hamiltonians[i], '\\n')\n",
    "    \n",
    "q3 = reduced_hamiltonians[3] "
   ]
  },
  {
   "cell_type": "code",
   "execution_count": 61,
   "id": "48d436fe",
   "metadata": {},
   "outputs": [],
   "source": [
    "from qiskit.quantum_info import Pauli\n",
    "from qiskit.aqua.operators.legacy import WeightedPauliOperator\n",
    "\n",
    "ham_P = []\n",
    "\n",
    "for p in q3:\n",
    "    P = Pauli(label = str(p))\n",
    "    ham_P.append([q3[p], P])\n",
    "\n",
    "ham_P = WeightedPauliOperator(ham_P)\n",
    "num_particles = 2\n",
    "num_spin_orbitals = 6\n",
    "shift=-6.609784771130335"
   ]
  },
  {
   "cell_type": "code",
   "execution_count": 62,
   "id": "080336d0",
   "metadata": {},
   "outputs": [
    {
     "name": "stdout",
     "output_type": "stream",
     "text": [
      "{'eigenvalues': array([-7.95219971+1.03207409e-16j]), 'eigenstates': ListOp([VectorStateFn(Statevector([-9.57392408e-04+1.16066514e-03j,\n",
      "              2.34582942e-02-2.84389390e-02j,\n",
      "             -1.11022302e-16+6.66133815e-16j,\n",
      "             -1.31838984e-15+3.16413562e-15j,\n",
      "             -4.21884749e-15+0.00000000e+00j,\n",
      "             -4.37150316e-16+6.10622664e-16j,\n",
      "              6.35887015e-01-7.70897997e-01j,\n",
      "             -1.03670606e-03+1.25681859e-03j],\n",
      "            dims=(2, 2, 2)), coeff=1.0, is_measurement=False)], coeff=1.0, abelian=False)}\n"
     ]
    },
    {
     "name": "stderr",
     "output_type": "stream",
     "text": [
      "C:\\Users\\Tim\\Anaconda3\\envs\\Qiskit\\lib\\site-packages\\qiskit\\chemistry\\components\\initial_states\\hartree_fock.py:61: DeprecationWarning: The HartreeFock class is deprecated as of Aqua 0.9 and will be removed no earlier than 3 months after the release date. Instead, all algorithms and circuits accept a plain QuantumCircuit. \n",
      "  super().__init__()\n",
      "C:\\Users\\Tim\\Anaconda3\\envs\\Qiskit\\lib\\site-packages\\qiskit\\aqua\\components\\variational_forms\\variational_form.py:48: DeprecationWarning: The package qiskit.aqua.components.variational_forms is deprecated. For more information see <https://github.com/Qiskit/qiskit-aqua/blob/master/README.md#migration-guide>\n",
      "  warn_package('aqua.components.variational_forms')\n",
      "C:\\Users\\Tim\\Anaconda3\\envs\\Qiskit\\lib\\site-packages\\qiskit\\chemistry\\components\\variational_forms\\uccsd.py:248: DeprecationWarning: The variable qiskit.aqua.aqua_globals is deprecated. It was moved/refactored to qiskit.utils.algorithm_globals (pip install qiskit-terra). For more information see <https://github.com/Qiskit/qiskit-aqua/blob/master/README.md#migration-guide>\n",
      "  num_processes=aqua_globals.num_processes)\n",
      "C:\\Users\\Tim\\Anaconda3\\envs\\Qiskit\\lib\\site-packages\\qiskit\\aqua\\algorithms\\vq_algorithm.py:72: DeprecationWarning: The class qiskit.aqua.algorithms.VQAlgorithm is deprecated. It was moved/refactored to qiskit.algorithms.VariationalAlgorithm (pip install qiskit-terra). For more information see <https://github.com/Qiskit/qiskit-aqua/blob/master/README.md#migration-guide>\n",
      "  'qiskit-terra')\n"
     ]
    },
    {
     "ename": "AquaError",
     "evalue": "'The number of qubits of the variational form does not match the operator, and the variational form does not allow setting the number of qubits using `num_qubits`.'",
     "output_type": "error",
     "traceback": [
      "\u001b[1;31m---------------------------------------------------------------------------\u001b[0m",
      "\u001b[1;31mAttributeError\u001b[0m                            Traceback (most recent call last)",
      "\u001b[1;32m~\\Anaconda3\\envs\\Qiskit\\lib\\site-packages\\qiskit\\aqua\\algorithms\\minimum_eigen_solvers\\vqe.py\u001b[0m in \u001b[0;36m_check_operator_varform\u001b[1;34m(self)\u001b[0m\n\u001b[0;32m    275\u001b[0m                 \u001b[1;32mtry\u001b[0m\u001b[1;33m:\u001b[0m\u001b[1;33m\u001b[0m\u001b[1;33m\u001b[0m\u001b[0m\n\u001b[1;32m--> 276\u001b[1;33m                     \u001b[0mself\u001b[0m\u001b[1;33m.\u001b[0m\u001b[0mvar_form\u001b[0m\u001b[1;33m.\u001b[0m\u001b[0mnum_qubits\u001b[0m \u001b[1;33m=\u001b[0m \u001b[0mself\u001b[0m\u001b[1;33m.\u001b[0m\u001b[0moperator\u001b[0m\u001b[1;33m.\u001b[0m\u001b[0mnum_qubits\u001b[0m\u001b[1;33m\u001b[0m\u001b[1;33m\u001b[0m\u001b[0m\n\u001b[0m\u001b[0;32m    277\u001b[0m                     \u001b[0mself\u001b[0m\u001b[1;33m.\u001b[0m\u001b[0m_var_form_params\u001b[0m \u001b[1;33m=\u001b[0m \u001b[0msorted\u001b[0m\u001b[1;33m(\u001b[0m\u001b[0mself\u001b[0m\u001b[1;33m.\u001b[0m\u001b[0mvar_form\u001b[0m\u001b[1;33m.\u001b[0m\u001b[0mparameters\u001b[0m\u001b[1;33m,\u001b[0m \u001b[0mkey\u001b[0m\u001b[1;33m=\u001b[0m\u001b[1;32mlambda\u001b[0m \u001b[0mp\u001b[0m\u001b[1;33m:\u001b[0m \u001b[0mp\u001b[0m\u001b[1;33m.\u001b[0m\u001b[0mname\u001b[0m\u001b[1;33m)\u001b[0m\u001b[1;33m\u001b[0m\u001b[1;33m\u001b[0m\u001b[0m\n",
      "\u001b[1;31mAttributeError\u001b[0m: can't set attribute",
      "\nThe above exception was the direct cause of the following exception:\n",
      "\u001b[1;31mAquaError\u001b[0m                                 Traceback (most recent call last)",
      "\u001b[1;32m<ipython-input-62-ad1f86bbe321>\u001b[0m in \u001b[0;36m<module>\u001b[1;34m\u001b[0m\n\u001b[0;32m     21\u001b[0m     \u001b[0mqubit_mapping\u001b[0m\u001b[1;33m=\u001b[0m\u001b[1;34m'parity'\u001b[0m\u001b[1;33m\u001b[0m\u001b[1;33m\u001b[0m\u001b[0m\n\u001b[0;32m     22\u001b[0m )\n\u001b[1;32m---> 23\u001b[1;33m \u001b[0mvqe\u001b[0m \u001b[1;33m=\u001b[0m \u001b[0mVQE\u001b[0m\u001b[1;33m(\u001b[0m\u001b[0mqubitOp\u001b[0m\u001b[1;33m,\u001b[0m \u001b[0mvar_form\u001b[0m\u001b[1;33m,\u001b[0m \u001b[0moptimizer\u001b[0m\u001b[1;33m)\u001b[0m\u001b[1;33m\u001b[0m\u001b[1;33m\u001b[0m\u001b[0m\n\u001b[0m\u001b[0;32m     24\u001b[0m \u001b[0mvqe_result\u001b[0m \u001b[1;33m=\u001b[0m \u001b[0mnp\u001b[0m\u001b[1;33m.\u001b[0m\u001b[0mreal\u001b[0m\u001b[1;33m(\u001b[0m\u001b[0mvqe\u001b[0m\u001b[1;33m.\u001b[0m\u001b[0mrun\u001b[0m\u001b[1;33m(\u001b[0m\u001b[0mbackend\u001b[0m\u001b[1;33m)\u001b[0m\u001b[1;33m[\u001b[0m\u001b[1;34m'eigenvalue'\u001b[0m\u001b[1;33m]\u001b[0m \u001b[1;33m+\u001b[0m \u001b[0mshift\u001b[0m\u001b[1;33m)\u001b[0m\u001b[1;33m\u001b[0m\u001b[1;33m\u001b[0m\u001b[0m\n\u001b[0;32m     25\u001b[0m \u001b[0mvqe_energies\u001b[0m\u001b[1;33m.\u001b[0m\u001b[0mappend\u001b[0m\u001b[1;33m(\u001b[0m\u001b[0mvqe_result\u001b[0m\u001b[1;33m)\u001b[0m\u001b[1;33m\u001b[0m\u001b[1;33m\u001b[0m\u001b[0m\n",
      "\u001b[1;32m~\\Anaconda3\\envs\\Qiskit\\lib\\site-packages\\qiskit\\aqua\\algorithms\\minimum_eigen_solvers\\vqe.py\u001b[0m in \u001b[0;36m__init__\u001b[1;34m(self, operator, var_form, optimizer, initial_point, gradient, expectation, include_custom, max_evals_grouped, aux_operators, callback, quantum_instance)\u001b[0m\n\u001b[0;32m    173\u001b[0m \u001b[1;33m\u001b[0m\u001b[0m\n\u001b[0;32m    174\u001b[0m         \u001b[1;32mif\u001b[0m \u001b[0moperator\u001b[0m \u001b[1;32mis\u001b[0m \u001b[1;32mnot\u001b[0m \u001b[1;32mNone\u001b[0m\u001b[1;33m:\u001b[0m\u001b[1;33m\u001b[0m\u001b[1;33m\u001b[0m\u001b[0m\n\u001b[1;32m--> 175\u001b[1;33m             \u001b[0mself\u001b[0m\u001b[1;33m.\u001b[0m\u001b[0moperator\u001b[0m \u001b[1;33m=\u001b[0m \u001b[0moperator\u001b[0m\u001b[1;33m\u001b[0m\u001b[1;33m\u001b[0m\u001b[0m\n\u001b[0m\u001b[0;32m    176\u001b[0m         \u001b[0mself\u001b[0m\u001b[1;33m.\u001b[0m\u001b[0maux_operators\u001b[0m \u001b[1;33m=\u001b[0m \u001b[0maux_operators\u001b[0m\u001b[1;33m\u001b[0m\u001b[1;33m\u001b[0m\u001b[0m\n\u001b[0;32m    177\u001b[0m \u001b[1;33m\u001b[0m\u001b[0m\n",
      "\u001b[1;32m~\\Anaconda3\\envs\\Qiskit\\lib\\site-packages\\qiskit\\aqua\\algorithms\\minimum_eigen_solvers\\vqe.py\u001b[0m in \u001b[0;36moperator\u001b[1;34m(self, operator)\u001b[0m\n\u001b[0;32m    191\u001b[0m         \u001b[0mself\u001b[0m\u001b[1;33m.\u001b[0m\u001b[0m_operator\u001b[0m \u001b[1;33m=\u001b[0m \u001b[0moperator\u001b[0m\u001b[1;33m\u001b[0m\u001b[1;33m\u001b[0m\u001b[0m\n\u001b[0;32m    192\u001b[0m         \u001b[0mself\u001b[0m\u001b[1;33m.\u001b[0m\u001b[0m_expect_op\u001b[0m \u001b[1;33m=\u001b[0m \u001b[1;32mNone\u001b[0m\u001b[1;33m\u001b[0m\u001b[1;33m\u001b[0m\u001b[0m\n\u001b[1;32m--> 193\u001b[1;33m         \u001b[0mself\u001b[0m\u001b[1;33m.\u001b[0m\u001b[0m_check_operator_varform\u001b[0m\u001b[1;33m(\u001b[0m\u001b[1;33m)\u001b[0m\u001b[1;33m\u001b[0m\u001b[1;33m\u001b[0m\u001b[0m\n\u001b[0m\u001b[0;32m    194\u001b[0m         \u001b[1;31m# Expectation was not passed by user, try to create one\u001b[0m\u001b[1;33m\u001b[0m\u001b[1;33m\u001b[0m\u001b[1;33m\u001b[0m\u001b[0m\n\u001b[0;32m    195\u001b[0m         \u001b[1;32mif\u001b[0m \u001b[1;32mnot\u001b[0m \u001b[0mself\u001b[0m\u001b[1;33m.\u001b[0m\u001b[0m_user_valid_expectation\u001b[0m\u001b[1;33m:\u001b[0m\u001b[1;33m\u001b[0m\u001b[1;33m\u001b[0m\u001b[0m\n",
      "\u001b[1;32m~\\Anaconda3\\envs\\Qiskit\\lib\\site-packages\\qiskit\\aqua\\algorithms\\minimum_eigen_solvers\\vqe.py\u001b[0m in \u001b[0;36m_check_operator_varform\u001b[1;34m(self)\u001b[0m\n\u001b[0;32m    279\u001b[0m                     raise AquaError(\"The number of qubits of the variational form does not match \"\n\u001b[0;32m    280\u001b[0m                                     \u001b[1;34m\"the operator, and the variational form does not allow setting \"\u001b[0m\u001b[1;33m\u001b[0m\u001b[1;33m\u001b[0m\u001b[0m\n\u001b[1;32m--> 281\u001b[1;33m                                     \"the number of qubits using `num_qubits`.\") from ex\n\u001b[0m\u001b[0;32m    282\u001b[0m \u001b[1;33m\u001b[0m\u001b[0m\n\u001b[0;32m    283\u001b[0m     \u001b[1;33m@\u001b[0m\u001b[0mVQAlgorithm\u001b[0m\u001b[1;33m.\u001b[0m\u001b[0moptimizer\u001b[0m\u001b[1;33m.\u001b[0m\u001b[0msetter\u001b[0m  \u001b[1;31m# type: ignore\u001b[0m\u001b[1;33m\u001b[0m\u001b[1;33m\u001b[0m\u001b[0m\n",
      "\u001b[1;31mAquaError\u001b[0m: 'The number of qubits of the variational form does not match the operator, and the variational form does not allow setting the number of qubits using `num_qubits`.'"
     ]
    }
   ],
   "source": [
    "backend = BasicAer.get_backend(\"statevector_simulator\")\n",
    "#distances = np.arange(0.5, 4.0, 0.1)\n",
    "exact_energies = []\n",
    "vqe_energies = []\n",
    "optimizer = SLSQP(maxiter=5)\n",
    "\n",
    "qubitOp = ham_P\n",
    "result = NumPyEigensolver(ham_P).run()\n",
    "print(result)\n",
    "\n",
    "exact_energies.append(np.real(result.eigenvalues) + shift)\n",
    "initial_state = HartreeFock(\n",
    "    num_spin_orbitals,\n",
    "    num_particles,\n",
    "    qubit_mapping='parity'\n",
    ") \n",
    "var_form = UCCSD(\n",
    "    num_orbitals=num_spin_orbitals,\n",
    "    num_particles=num_particles,\n",
    "    initial_state=initial_state,\n",
    "    qubit_mapping='parity'\n",
    ")\n",
    "vqe = VQE(qubitOp, var_form, optimizer)\n",
    "vqe_result = np.real(vqe.run(backend)['eigenvalue'] + shift)\n",
    "vqe_energies.append(vqe_result)\n",
    "print(\"Interatomic Distance:\", np.round(dist, 2), \"VQE Result:\", vqe_result, \"Exact Energy:\", exact_energies[-1])\n",
    "\n",
    "print(\"All energies have been calculated\")\n"
   ]
  },
  {
   "cell_type": "markdown",
   "id": "c0e4eb83",
   "metadata": {},
   "source": []
  },
  {
   "cell_type": "code",
   "execution_count": 56,
   "id": "3977122b",
   "metadata": {},
   "outputs": [],
   "source": [
    "from qiskit.aqua.algorithms import VQE, NumPyEigensolver\n",
    "import matplotlib.pyplot as plt\n",
    "import numpy as np\n",
    "from qiskit.chemistry.components.variational_forms import UCCSD\n",
    "from qiskit.chemistry.components.initial_states import HartreeFock\n",
    "from qiskit.circuit.library import EfficientSU2\n",
    "from qiskit.aqua.components.optimizers import COBYLA, SPSA, SLSQP\n",
    "from qiskit.aqua.operators import Z2Symmetries\n",
    "from qiskit import IBMQ, BasicAer, Aer\n",
    "from qiskit.chemistry.drivers import PySCFDriver, UnitsType\n",
    "from qiskit.chemistry import FermionicOperator\n",
    "from qiskit.aqua import QuantumInstance\n",
    "from qiskit.ignis.mitigation.measurement import CompleteMeasFitter\n",
    "from qiskit.providers.aer.noise import NoiseModel"
   ]
  },
  {
   "cell_type": "code",
   "execution_count": null,
   "id": "eb485f18",
   "metadata": {},
   "outputs": [],
   "source": [
    "backend = BasicAer.get_backend(\"statevector_simulator\")\n",
    "distances = np.arange(0.5, 4.0, 0.1)\n",
    "exact_energies = []\n",
    "vqe_energies = []\n",
    "optimizer = SLSQP(maxiter=5)\n",
    "for dist in distances:\n",
    "    qubitOp, num_particles, num_spin_orbitals, shift = get_qubit_op(dist)\n",
    "    result = NumPyEigensolver(qubitOp).run()\n",
    "    exact_energies.append(np.real(result.eigenvalues) + shift)\n",
    "    initial_state = HartreeFock(\n",
    "        num_spin_orbitals,\n",
    "        num_particles,\n",
    "        qubit_mapping='parity'\n",
    "    ) \n",
    "    var_form = UCCSD(\n",
    "        num_orbitals=num_spin_orbitals,\n",
    "        num_particles=num_particles,\n",
    "        initial_state=initial_state,\n",
    "        qubit_mapping='parity'\n",
    "    )\n",
    "    vqe = VQE(qubitOp, var_form, optimizer)\n",
    "    vqe_result = np.real(vqe.run(backend)['eigenvalue'] + shift)\n",
    "    vqe_energies.append(vqe_result)\n",
    "    print(\"Interatomic Distance:\", np.round(dist, 2), \"VQE Result:\", vqe_result, \"Exact Energy:\", exact_energies[-1])\n",
    "    \n",
    "print(\"All energies have been calculated\")"
   ]
  },
  {
   "cell_type": "code",
   "execution_count": 16,
   "id": "6be88c85",
   "metadata": {},
   "outputs": [
    {
     "ename": "AttributeError",
     "evalue": "'dict' object has no attribute 'num_qubits'",
     "output_type": "error",
     "traceback": [
      "\u001b[1;31m---------------------------------------------------------------------------\u001b[0m",
      "\u001b[1;31mAttributeError\u001b[0m                            Traceback (most recent call last)",
      "\u001b[1;32m<ipython-input-16-391476a312fb>\u001b[0m in \u001b[0;36m<module>\u001b[1;34m\u001b[0m\n\u001b[0;32m      6\u001b[0m \u001b[1;33m\u001b[0m\u001b[0m\n\u001b[0;32m      7\u001b[0m \u001b[0mqubitOp\u001b[0m \u001b[1;33m=\u001b[0m \u001b[0mreduced_hamiltonians\u001b[0m\u001b[1;33m[\u001b[0m\u001b[1;36m2\u001b[0m\u001b[1;33m]\u001b[0m\u001b[1;33m\u001b[0m\u001b[1;33m\u001b[0m\u001b[0m\n\u001b[1;32m----> 8\u001b[1;33m \u001b[0mresult\u001b[0m \u001b[1;33m=\u001b[0m \u001b[0mNumPyEigensolver\u001b[0m\u001b[1;33m(\u001b[0m\u001b[0mqubitOp\u001b[0m\u001b[1;33m)\u001b[0m\u001b[1;33m.\u001b[0m\u001b[0mrun\u001b[0m\u001b[1;33m(\u001b[0m\u001b[1;33m)\u001b[0m\u001b[1;33m\u001b[0m\u001b[1;33m\u001b[0m\u001b[0m\n\u001b[0m\u001b[0;32m      9\u001b[0m \u001b[0mprint\u001b[0m\u001b[1;33m(\u001b[0m\u001b[0mresult\u001b[0m\u001b[1;33m)\u001b[0m\u001b[1;33m\u001b[0m\u001b[1;33m\u001b[0m\u001b[0m\n\u001b[0;32m     10\u001b[0m \"\"\"\n",
      "\u001b[1;32m~\\Anaconda3\\envs\\Qiskit\\lib\\site-packages\\qiskit\\aqua\\algorithms\\eigen_solvers\\numpy_eigen_solver.py\u001b[0m in \u001b[0;36m__init__\u001b[1;34m(self, operator, k, aux_operators, filter_criterion)\u001b[0m\n\u001b[0;32m     76\u001b[0m         \u001b[0mself\u001b[0m\u001b[1;33m.\u001b[0m\u001b[0m_k\u001b[0m \u001b[1;33m=\u001b[0m \u001b[0mk\u001b[0m\u001b[1;33m\u001b[0m\u001b[1;33m\u001b[0m\u001b[0m\n\u001b[0;32m     77\u001b[0m \u001b[1;33m\u001b[0m\u001b[0m\n\u001b[1;32m---> 78\u001b[1;33m         \u001b[0mself\u001b[0m\u001b[1;33m.\u001b[0m\u001b[0moperator\u001b[0m \u001b[1;33m=\u001b[0m \u001b[0moperator\u001b[0m\u001b[1;33m\u001b[0m\u001b[1;33m\u001b[0m\u001b[0m\n\u001b[0m\u001b[0;32m     79\u001b[0m         \u001b[0mself\u001b[0m\u001b[1;33m.\u001b[0m\u001b[0maux_operators\u001b[0m \u001b[1;33m=\u001b[0m \u001b[0maux_operators\u001b[0m\u001b[1;33m\u001b[0m\u001b[1;33m\u001b[0m\u001b[0m\n\u001b[0;32m     80\u001b[0m \u001b[1;33m\u001b[0m\u001b[0m\n",
      "\u001b[1;32m~\\Anaconda3\\envs\\Qiskit\\lib\\site-packages\\qiskit\\aqua\\algorithms\\eigen_solvers\\numpy_eigen_solver.py\u001b[0m in \u001b[0;36moperator\u001b[1;34m(self, operator)\u001b[0m\n\u001b[0;32m     92\u001b[0m             \u001b[0moperator\u001b[0m \u001b[1;33m=\u001b[0m \u001b[0moperator\u001b[0m\u001b[1;33m.\u001b[0m\u001b[0mto_opflow\u001b[0m\u001b[1;33m(\u001b[0m\u001b[1;33m)\u001b[0m\u001b[1;33m\u001b[0m\u001b[1;33m\u001b[0m\u001b[0m\n\u001b[0;32m     93\u001b[0m         \u001b[0mself\u001b[0m\u001b[1;33m.\u001b[0m\u001b[0m_operator\u001b[0m \u001b[1;33m=\u001b[0m \u001b[0moperator\u001b[0m\u001b[1;33m\u001b[0m\u001b[1;33m\u001b[0m\u001b[0m\n\u001b[1;32m---> 94\u001b[1;33m         \u001b[0mself\u001b[0m\u001b[1;33m.\u001b[0m\u001b[0m_check_set_k\u001b[0m\u001b[1;33m(\u001b[0m\u001b[1;33m)\u001b[0m\u001b[1;33m\u001b[0m\u001b[1;33m\u001b[0m\u001b[0m\n\u001b[0m\u001b[0;32m     95\u001b[0m \u001b[1;33m\u001b[0m\u001b[0m\n\u001b[0;32m     96\u001b[0m     \u001b[1;33m@\u001b[0m\u001b[0mproperty\u001b[0m\u001b[1;33m\u001b[0m\u001b[1;33m\u001b[0m\u001b[0m\n",
      "\u001b[1;32m~\\Anaconda3\\envs\\Qiskit\\lib\\site-packages\\qiskit\\aqua\\algorithms\\eigen_solvers\\numpy_eigen_solver.py\u001b[0m in \u001b[0;36m_check_set_k\u001b[1;34m(self)\u001b[0m\n\u001b[0;32m    150\u001b[0m     \u001b[1;32mdef\u001b[0m \u001b[0m_check_set_k\u001b[0m\u001b[1;33m(\u001b[0m\u001b[0mself\u001b[0m\u001b[1;33m)\u001b[0m \u001b[1;33m->\u001b[0m \u001b[1;32mNone\u001b[0m\u001b[1;33m:\u001b[0m\u001b[1;33m\u001b[0m\u001b[1;33m\u001b[0m\u001b[0m\n\u001b[0;32m    151\u001b[0m         \u001b[1;32mif\u001b[0m \u001b[0mself\u001b[0m\u001b[1;33m.\u001b[0m\u001b[0m_operator\u001b[0m \u001b[1;32mis\u001b[0m \u001b[1;32mnot\u001b[0m \u001b[1;32mNone\u001b[0m\u001b[1;33m:\u001b[0m\u001b[1;33m\u001b[0m\u001b[1;33m\u001b[0m\u001b[0m\n\u001b[1;32m--> 152\u001b[1;33m             \u001b[1;32mif\u001b[0m \u001b[0mself\u001b[0m\u001b[1;33m.\u001b[0m\u001b[0m_in_k\u001b[0m \u001b[1;33m>\u001b[0m \u001b[1;36m2\u001b[0m\u001b[1;33m**\u001b[0m\u001b[1;33m(\u001b[0m\u001b[0mself\u001b[0m\u001b[1;33m.\u001b[0m\u001b[0m_operator\u001b[0m\u001b[1;33m.\u001b[0m\u001b[0mnum_qubits\u001b[0m\u001b[1;33m)\u001b[0m\u001b[1;33m:\u001b[0m\u001b[1;33m\u001b[0m\u001b[1;33m\u001b[0m\u001b[0m\n\u001b[0m\u001b[0;32m    153\u001b[0m                 \u001b[0mself\u001b[0m\u001b[1;33m.\u001b[0m\u001b[0m_k\u001b[0m \u001b[1;33m=\u001b[0m \u001b[1;36m2\u001b[0m\u001b[1;33m**\u001b[0m\u001b[1;33m(\u001b[0m\u001b[0mself\u001b[0m\u001b[1;33m.\u001b[0m\u001b[0m_operator\u001b[0m\u001b[1;33m.\u001b[0m\u001b[0mnum_qubits\u001b[0m\u001b[1;33m)\u001b[0m\u001b[1;33m\u001b[0m\u001b[1;33m\u001b[0m\u001b[0m\n\u001b[0;32m    154\u001b[0m                 logger.debug(\"WARNING: Asked for %s eigenvalues but max possible is %s.\",\n",
      "\u001b[1;31mAttributeError\u001b[0m: 'dict' object has no attribute 'num_qubits'"
     ]
    }
   ],
   "source": []
  },
  {
   "cell_type": "code",
   "execution_count": null,
   "id": "73261fcd",
   "metadata": {},
   "outputs": [],
   "source": []
  }
 ],
 "metadata": {
  "kernelspec": {
   "display_name": "Python 3",
   "language": "python",
   "name": "python3"
  },
  "language_info": {
   "codemirror_mode": {
    "name": "ipython",
    "version": 3
   },
   "file_extension": ".py",
   "mimetype": "text/x-python",
   "name": "python",
   "nbconvert_exporter": "python",
   "pygments_lexer": "ipython3",
   "version": "3.7.1"
  }
 },
 "nbformat": 4,
 "nbformat_minor": 5
}
