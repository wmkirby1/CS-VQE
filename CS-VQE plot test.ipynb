{
 "cells": [
  {
   "cell_type": "code",
   "execution_count": 1,
   "metadata": {},
   "outputs": [
    {
     "name": "stderr",
     "output_type": "stream",
     "text": [
      "/home/tim/anaconda3/lib/python3.7/site-packages/qiskit/aqua/components/optimizers/optimizer.py:50: DeprecationWarning: The package qiskit.aqua.components.optimizers is deprecated. It was moved/refactored to qiskit.algorithms.optimizers (pip install qiskit-terra). For more information see <https://github.com/Qiskit/qiskit-aqua/blob/master/README.md#migration-guide>\n",
      "  'qiskit.algorithms.optimizers', 'qiskit-terra')\n"
     ]
    }
   ],
   "source": [
    "import utils.cs_vqe_tools as c_tools\n",
    "import utils.qonversion_tools as qonvert\n",
    "import utils.bit_tools as bit\n",
    "import utils.circuit_tools as circ\n",
    "import utils.linalg_tools as la\n",
    "import utils.plotting_tools as plot\n",
    "\n",
    "import cs_vqe_classes.cs_vqe as c\n",
    "import cs_vqe_classes.eigenstate as eig\n",
    "import cs_vqe_classes.cs_vqe_circuit as cs_circ\n",
    "\n",
    "import ast\n",
    "import numpy as np\n",
    "import matplotlib\n",
    "import matplotlib.pyplot as plt\n",
    "from copy import deepcopy\n",
    "from openfermion.linalg import LinearQubitOperator, get_sparse_operator, get_ground_state\n",
    "import itertools\n",
    "from statistics import median\n",
    "\n",
    "from qiskit.circuit.parameter import Parameter\n",
    "from qiskit.circuit.quantumcircuit import QuantumCircuit, QuantumRegister\n",
    "from qiskit import QuantumCircuit, BasicAer, execute\n",
    "from qiskit.visualization import plot_histogram\n",
    "from qiskit.utils import QuantumInstance\n",
    "from qiskit.aqua.components.optimizers import SLSQP, COBYLA\n",
    "from qiskit.algorithms import VQE\n",
    "from qiskit import Aer\n",
    "\n",
    "import cirq\n",
    "\n",
    "from qiskit.providers.aer import AerError"
   ]
  },
  {
   "cell_type": "code",
   "execution_count": 2,
   "metadata": {},
   "outputs": [
    {
     "name": "stdout",
     "output_type": "stream",
     "text": [
      "Hamiltonian: \n",
      " (-0.017210915659800333+0j) [] +\n",
      "(-0.036089282737986006+0j) [X0 X1 Y2 Y3] +\n",
      "(-0.034934999375448306+0j) [X0 X1 Y4 Y5] +\n",
      "(0.036089282737986006+0j) [X0 Y1 Y2 X3] +\n",
      "(0.034934999375448306+0j) [X0 Y1 Y4 X5] +\n",
      "(-0.026365874906949322+0j) [X0 Z1 X2 X3 Z4 X5] +\n",
      "(-0.026365874906949322+0j) [X0 Z1 X2 Y3 Z4 Y5] +\n",
      "(0.00922106569069939+0j) [X0 Z1 Z2 Z3 X4] +\n",
      "(-0.023828207722769775+0j) [X0 Z1 Z2 Z3 X4 Z5] +\n",
      "(0.014536731246500907+0j) [X0 Z1 Z2 X4] +\n",
      "(-0.011829143660448417+0j) [X0 Z1 Z3 X4] +\n",
      "(-0.011899632382875806+0j) [X0 Z2 Z3 X4] +\n",
      "(0.036089282737986006+0j) [Y0 X1 X2 Y3] +\n",
      "(0.034934999375448306+0j) [Y0 X1 X4 Y5] +\n",
      "(-0.036089282737986006+0j) [Y0 Y1 X2 X3] +\n",
      "(-0.034934999375448306+0j) [Y0 Y1 X4 X5] +\n",
      "(-0.026365874906949322+0j) [Y0 Z1 Y2 X3 Z4 X5] +\n",
      "(-0.026365874906949322+0j) [Y0 Z1 Y2 Y3 Z4 Y5] +\n",
      "(0.00922106569069939+0j) [Y0 Z1 Z2 Z3 Y4] +\n",
      "(-0.023828207722769775+0j) [Y0 Z1 Z2 Z3 Y4 Z5] +\n",
      "(0.014536731246500907+0j) [Y0 Z1 Z2 Y4] +\n",
      "(-0.011829143660448417+0j) [Y0 Z1 Z3 Y4] +\n",
      "(-0.011899632382875806+0j) [Y0 Z2 Z3 Y4] +\n",
      "(0.24093218844628447+0j) [Z0] +\n",
      "(-0.011899632382875806+0j) [Z0 X1 Z2 Z3 Z4 X5] +\n",
      "(-0.011899632382875806+0j) [Z0 Y1 Z2 Z3 Z4 Y5] +\n",
      "(0.15583588853146804+0j) [Z0 Z1] +\n",
      "(0.10794267014710082+0j) [Z0 Z2] +\n",
      "(0.14403195288508686+0j) [Z0 Z3] +\n",
      "(0.12012345481282447+0j) [Z0 Z4] +\n",
      "(0.15505845418827277+0j) [Z0 Z5] +\n",
      "(0.026365874906949322+0j) [X1 X2 Y3 Y4] +\n",
      "(-0.026365874906949322+0j) [X1 Y2 Y3 X4] +\n",
      "(0.009221065690699392+0j) [X1 Z2 Z3 Z4 X5] +\n",
      "(-0.023828207722769775+0j) [X1 Z2 Z3 X5] +\n",
      "(-0.011829143660448417+0j) [X1 Z2 Z4 X5] +\n",
      "(0.014536731246500907+0j) [X1 Z3 Z4 X5] +\n",
      "(-0.026365874906949322+0j) [Y1 X2 X3 Y4] +\n",
      "(0.026365874906949322+0j) [Y1 Y2 X3 X4] +\n",
      "(0.009221065690699392+0j) [Y1 Z2 Z3 Z4 Y5] +\n",
      "(-0.023828207722769775+0j) [Y1 Z2 Z3 Y5] +\n",
      "(-0.011829143660448417+0j) [Y1 Z2 Z4 Y5] +\n",
      "(0.014536731246500907+0j) [Y1 Z3 Z4 Y5] +\n",
      "(0.24093218844628447+0j) [Z1] +\n",
      "(0.14403195288508686+0j) [Z1 Z2] +\n",
      "(0.10794267014710082+0j) [Z1 Z3] +\n",
      "(0.15505845418827277+0j) [Z1 Z4] +\n",
      "(0.12012345481282447+0j) [Z1 Z5] +\n",
      "(-0.024686524576696477+0j) [X2 X3 Y4 Y5] +\n",
      "(0.024686524576696477+0j) [X2 Y3 Y4 X5] +\n",
      "(0.024686524576696477+0j) [Y2 X3 X4 Y5] +\n",
      "(-0.024686524576696477+0j) [Y2 Y3 X4 X5] +\n",
      "(-0.0698801471218367+0j) [Z2] +\n",
      "(0.1596830241274912+0j) [Z2 Z3] +\n",
      "(0.11354701841155589+0j) [Z2 Z4] +\n",
      "(0.13823354298825236+0j) [Z2 Z5] +\n",
      "(-0.06988014712183672+0j) [Z3] +\n",
      "(0.13823354298825236+0j) [Z3 Z4] +\n",
      "(0.11354701841155589+0j) [Z3 Z5] +\n",
      "(-0.2553799869910319+0j) [Z4] +\n",
      "(0.16809445375139276+0j) [Z4 Z5] +\n",
      "(-0.255379986991032+0j) [Z5] \n",
      "\n"
     ]
    }
   ],
   "source": [
    "import openfermion\n",
    "import openfermionpyscf\n",
    "from openfermion import MolecularData\n",
    "from openfermionpyscf import run_pyscf\n",
    "from openfermion.ops import FermionOperator, QubitOperator\n",
    "from openfermion.transforms import jordan_wigner, bravyi_kitaev\n",
    "from openfermion.transforms import get_fermion_operator\n",
    "from openfermion.circuits import (uccsd_singlet_get_packed_amplitudes,\n",
    "                               uccsd_singlet_generator, uccsd_generator,\n",
    "                               uccsd_convert_amplitude_format)\n",
    "\n",
    "singlet_bool = True # Set general UCCSD or singlet UCCSD.\n",
    "\n",
    "bond_len = 0.772#1.45\n",
    "atom_1 = 'H'\n",
    "atom_2 = 'H'\n",
    "atom_3 = 'H'\n",
    "basis = 'sto-3g'\n",
    "multiplicity = 1\n",
    "charge = 1\n",
    "\n",
    "coordinate_1 = (0.0, 0.0, 0.0)\n",
    "coordinate_2 = (0.0, 0.0, bond_len)\n",
    "coordinate_3 = (0.0, bond_len, 0.0)\n",
    "geometry = [(atom_1, coordinate_1), (atom_2, coordinate_2), (atom_3, coordinate_3)]\n",
    "\n",
    "molecule_data = MolecularData(geometry, basis, multiplicity, charge, description='Test')\n",
    "#molecule.load()\n",
    "\n",
    "# Set calculation parameters.\n",
    "run_scf = 1\n",
    "run_mp2 = 1\n",
    "run_cisd = 0\n",
    "run_ccsd = 0\n",
    "run_fci = 1\n",
    "delete_input = True\n",
    "delete_output = True\n",
    "\n",
    "# Run pyscf.\n",
    "molecule = run_pyscf(molecule_data,\n",
    "                     run_scf=run_scf,\n",
    "                     run_mp2=run_mp2,\n",
    "                     run_cisd=run_cisd,\n",
    "                     run_ccsd=run_ccsd,\n",
    "                     run_fci=run_fci)\n",
    "\n",
    "#molecule.load()\n",
    "#print(molecule)\n",
    "\n",
    "ham_f = get_fermion_operator(molecule.get_molecular_hamiltonian())\n",
    "ham_q = jordan_wigner(ham_f)\n",
    "print('Hamiltonian:', '\\n', ham_q, '\\n')\n",
    "\n",
    "scf = True      # Hartree-Fock.\n",
    "mp2 = True      # Moller-Plesset 2.\n",
    "cisd = True     # Configuration interaction singles and doubles.\n",
    "ccsd = True     # Coupled cluster singles and doubles.\n",
    "fci = True      # Full configuration interaction.\n",
    "\n",
    "calculated_molecule = run_pyscf(molecule_data, scf, mp2, cisd, ccsd, fci)\n",
    "\n",
    "if ccsd:\n",
    "    ccsd_single_amps = calculated_molecule.ccsd_single_amps\n",
    "    ccsd_double_amps = calculated_molecule.ccsd_double_amps\n",
    "\n",
    "num_electrons = calculated_molecule.n_electrons\n",
    "num_qubits = 2*calculated_molecule.n_orbitals\n",
    "\n",
    "if singlet_bool:\n",
    "    # Get singlet UCCSD generator.\n",
    "    packed_amps = uccsd_singlet_get_packed_amplitudes(ccsd_single_amps,  ccsd_double_amps, num_qubits, num_electrons)\n",
    "    ucc_sing = uccsd_singlet_generator(packed_amps, num_qubits, num_electrons)\n",
    "    #print(ucc_sing)\n",
    "\n",
    "else:\n",
    "    # Get general UCCSD operator.\n",
    "    ucc_op = uccsd_generator(ccsd_single_amps, ccsd_double_amps)\n",
    "    #print(ucc_op)\n",
    "    \n",
    "ucc_q = jordan_wigner(ucc_sing)\n",
    "ucc = qonvert.QubitOperator_to_dict(ucc_q, num_qubits)\n",
    "#print('UCCSD ansatz:', '\\n', ucc_q)"
   ]
  },
  {
   "cell_type": "code",
   "execution_count": 3,
   "metadata": {},
   "outputs": [],
   "source": [
    "hamiltonian = qonvert.QubitOperator_to_dict(ham_q, num_qubits)#\n",
    "terms_noncon = c_tools.greedy_dfs(hamiltonian, 1, criterion='weight')[-1]"
   ]
  },
  {
   "cell_type": "code",
   "execution_count": null,
   "metadata": {},
   "outputs": [],
   "source": []
  },
  {
   "cell_type": "code",
   "execution_count": 4,
   "metadata": {},
   "outputs": [],
   "source": [
    "order = [0,1,2,3,4,5]# [6, 7, 0, 1, 2, 3, 4, 5, 8, 9, 10, 11]\n",
    "circs = cs_circ.cs_vqe_circuit(hamiltonian, terms_noncon, num_qubits, order, rot_A=True)\n",
    "mol = c.cs_vqe(hamiltonian, terms_noncon, num_qubits, rot_G=True, rot_A=True)\n",
    "A = mol.generators()[1]\n",
    "#A_sim=[]\n",
    "#ucc_terms={}\n",
    "#for i in ucc.keys():\n",
    "#    ucc_terms[i] = ucc[i]\n",
    "#    A_sim.append(circs.CS_VQE(ucc_terms, 8, A)[0])\n",
    "\n",
    "#fig, ax = plt.subplots(1, 1)\n",
    "#ax.plot(list(range(len(A_sim))), A_sim)\n",
    "#ax.set_ylim(0,1.1)\n",
    "#ax.get_yaxis().get_major_formatter().set_useOffset(False)\n",
    "#print('Expectation Value of A:', circs.CS_VQE(['IIIIYYYY', 'YYYYIIII', 'IXIXIXIX'], 8, A)[0])\n",
    "\n",
    "#mol.init_state()"
   ]
  },
  {
   "cell_type": "code",
   "execution_count": 13,
   "metadata": {},
   "outputs": [
    {
     "name": "stdout",
     "output_type": "stream",
     "text": [
      "*Performing CS-VQE over the following qubit positions: (5,)\n",
      "*Performing CS-VQE over the following qubit positions: (5,)\n"
     ]
    },
    {
     "name": "stderr",
     "output_type": "stream",
     "text": [
      "/home/tim/anaconda3/lib/python3.7/site-packages/scipy/sparse/linalg/eigen/arpack/arpack.py:1268: RuntimeWarning: k >= N - 1 for N * N square matrix. Attempting to use scipy.linalg.eig instead.\n",
      "  RuntimeWarning)\n"
     ]
    },
    {
     "name": "stdout",
     "output_type": "stream",
     "text": [
      "*Performing CS-VQE over the following qubit positions: (5,)\n",
      "*Performing CS-VQE over the following qubit positions: (5,)\n",
      "*Performing CS-VQE over the following qubit positions: (5,)\n",
      "*Performing CS-VQE over the following qubit positions: (5, 4)\n",
      "*Performing CS-VQE over the following qubit positions: (5, 4)\n",
      "*Performing CS-VQE over the following qubit positions: (5, 4)\n",
      "*Performing CS-VQE over the following qubit positions: (5, 4)\n",
      "*Performing CS-VQE over the following qubit positions: (5, 4)\n",
      "*Performing CS-VQE over the following qubit positions: (5, 4, 3)\n",
      "*Performing CS-VQE over the following qubit positions: (5, 4, 3)\n",
      "*Performing CS-VQE over the following qubit positions: (5, 4, 3)\n",
      "*Performing CS-VQE over the following qubit positions: (5, 4, 3)\n",
      "*Performing CS-VQE over the following qubit positions: (5, 4, 3)\n"
     ]
    }
   ],
   "source": [
    "cs_vqe_results = circs.run_cs_vqe(ucc, max_sim_q = 3, iters=5)"
   ]
  },
  {
   "cell_type": "code",
   "execution_count": 14,
   "metadata": {},
   "outputs": [
    {
     "data": {
      "image/png": "[encoded data removed]",
      "text/plain": [
       "<Figure size 1296x432 with 6 Axes>"
      ]
     },
     "metadata": {
      "needs_background": "light"
     },
     "output_type": "display_data"
    }
   ],
   "source": [
    "fig = plot.plot_cs_vqe_convergence(data=cs_vqe_results)"
   ]
  },
  {
   "cell_type": "code",
   "execution_count": 7,
   "metadata": {},
   "outputs": [],
   "source": [
    "#fig.savefig(\"plots/HeH+-CS-VQE-uccsd_ansatz.png\", dpi=300)"
   ]
  },
  {
   "cell_type": "code",
   "execution_count": 8,
   "metadata": {},
   "outputs": [],
   "source": [
    "#data={}\n",
    "#for k in cs_vqe_results.keys():\n",
    "#    data[str(k)] = cs_vqe_results[k]\n",
    "#        \n",
    "#json.dumps(data)"
   ]
  },
  {
   "cell_type": "code",
   "execution_count": 9,
   "metadata": {},
   "outputs": [],
   "source": [
    "#import json \n",
    "#     \n",
    "#with open(\"data/HeH+_3-21G_UCCSD_CS_VQE_results.json\", \"w\") as outfile: \n",
    "#    json.dump(data, outfile)"
   ]
  },
  {
   "cell_type": "code",
   "execution_count": 10,
   "metadata": {},
   "outputs": [],
   "source": [
    "#circs.build_circuit(['IXIXIXIX'], 8).draw()"
   ]
  },
  {
   "cell_type": "code",
   "execution_count": 11,
   "metadata": {
    "scrolled": false
   },
   "outputs": [],
   "source": [
    "#cs_vqe_plot = plot.plot_cs_vqe_convergence(hamiltonian, terms_noncon, ucc, num_qubits, order, 4, rot_A=True)"
   ]
  },
  {
   "cell_type": "code",
   "execution_count": null,
   "metadata": {},
   "outputs": [],
   "source": []
  },
  {
   "cell_type": "code",
   "execution_count": null,
   "metadata": {},
   "outputs": [],
   "source": []
  },
  {
   "cell_type": "code",
   "execution_count": null,
   "metadata": {},
   "outputs": [],
   "source": []
  },
  {
   "cell_type": "code",
   "execution_count": null,
   "metadata": {},
   "outputs": [],
   "source": []
  },
  {
   "cell_type": "code",
   "execution_count": null,
   "metadata": {},
   "outputs": [],
   "source": []
  },
  {
   "cell_type": "code",
   "execution_count": null,
   "metadata": {
    "scrolled": true
   },
   "outputs": [],
   "source": []
  },
  {
   "cell_type": "code",
   "execution_count": 12,
   "metadata": {},
   "outputs": [
    {
     "name": "stderr",
     "output_type": "stream",
     "text": [
      "/home/tim/anaconda3/lib/python3.7/site-packages/qiskit/quantum_info/operators/symplectic/pauli.py:187: DeprecationWarning: Initializing Pauli from `Pauli(label=l)` kwarg is deprecated as of version 0.17.0 and will be removed no earlier than 3 months after the release date. Use `Pauli(l)` instead.\n",
      "  base_z, base_x, base_phase = self._from_label_deprecated(label)\n"
     ]
    },
    {
     "ename": "ExtensionError",
     "evalue": "'Input matrix is not unitary.'",
     "output_type": "error",
     "traceback": [
      "\u001b[0;31m---------------------------------------------------------------------------\u001b[0m",
      "\u001b[0;31mExtensionError\u001b[0m                            Traceback (most recent call last)",
      "\u001b[0;32m<ipython-input-12-0dbf16fe3b08>\u001b[0m in \u001b[0;36m<module>\u001b[0;34m()\u001b[0m\n\u001b[1;32m      6\u001b[0m \u001b[0;31m# Add to a circuit\u001b[0m\u001b[0;34m\u001b[0m\u001b[0;34m\u001b[0m\u001b[0m\n\u001b[1;32m      7\u001b[0m \u001b[0mcirc\u001b[0m \u001b[0;34m=\u001b[0m \u001b[0mQuantumCircuit\u001b[0m\u001b[0;34m(\u001b[0m\u001b[0;36m8\u001b[0m\u001b[0;34m)\u001b[0m\u001b[0;34m\u001b[0m\u001b[0m\n\u001b[0;32m----> 8\u001b[0;31m \u001b[0mcirc\u001b[0m\u001b[0;34m.\u001b[0m\u001b[0mappend\u001b[0m\u001b[0;34m(\u001b[0m\u001b[0;36m0.618\u001b[0m\u001b[0;34m*\u001b[0m\u001b[0mP1\u001b[0m\u001b[0;34m+\u001b[0m\u001b[0;36m0.618\u001b[0m\u001b[0;34m*\u001b[0m\u001b[0mP2\u001b[0m\u001b[0;34m,\u001b[0m\u001b[0;34m[\u001b[0m\u001b[0;36m0\u001b[0m\u001b[0;34m,\u001b[0m\u001b[0;36m1\u001b[0m\u001b[0;34m,\u001b[0m\u001b[0;36m2\u001b[0m\u001b[0;34m,\u001b[0m\u001b[0;36m3\u001b[0m\u001b[0;34m,\u001b[0m\u001b[0;36m4\u001b[0m\u001b[0;34m,\u001b[0m\u001b[0;36m5\u001b[0m\u001b[0;34m,\u001b[0m\u001b[0;36m6\u001b[0m\u001b[0;34m,\u001b[0m\u001b[0;36m7\u001b[0m\u001b[0;34m]\u001b[0m\u001b[0;34m)\u001b[0m\u001b[0;34m\u001b[0m\u001b[0m\n\u001b[0m\u001b[1;32m      9\u001b[0m \u001b[0mcirc\u001b[0m\u001b[0;34m.\u001b[0m\u001b[0mdraw\u001b[0m\u001b[0;34m(\u001b[0m\u001b[0;34m)\u001b[0m\u001b[0;34m\u001b[0m\u001b[0m\n",
      "\u001b[0;32m~/anaconda3/lib/python3.7/site-packages/qiskit/circuit/quantumcircuit.py\u001b[0m in \u001b[0;36mappend\u001b[0;34m(self, instruction, qargs, cargs)\u001b[0m\n\u001b[1;32m    998\u001b[0m                                'have a to_instruction() method.')\n\u001b[1;32m    999\u001b[0m         \u001b[0;32mif\u001b[0m \u001b[0;32mnot\u001b[0m \u001b[0misinstance\u001b[0m\u001b[0;34m(\u001b[0m\u001b[0minstruction\u001b[0m\u001b[0;34m,\u001b[0m \u001b[0mInstruction\u001b[0m\u001b[0;34m)\u001b[0m \u001b[0;32mand\u001b[0m \u001b[0mhasattr\u001b[0m\u001b[0;34m(\u001b[0m\u001b[0minstruction\u001b[0m\u001b[0;34m,\u001b[0m \u001b[0;34m\"to_instruction\"\u001b[0m\u001b[0;34m)\u001b[0m\u001b[0;34m:\u001b[0m\u001b[0;34m\u001b[0m\u001b[0m\n\u001b[0;32m-> 1000\u001b[0;31m             \u001b[0minstruction\u001b[0m \u001b[0;34m=\u001b[0m \u001b[0minstruction\u001b[0m\u001b[0;34m.\u001b[0m\u001b[0mto_instruction\u001b[0m\u001b[0;34m(\u001b[0m\u001b[0;34m)\u001b[0m\u001b[0;34m\u001b[0m\u001b[0m\n\u001b[0m\u001b[1;32m   1001\u001b[0m \u001b[0;34m\u001b[0m\u001b[0m\n\u001b[1;32m   1002\u001b[0m         \u001b[0;31m# Make copy of parameterized gate instances\u001b[0m\u001b[0;34m\u001b[0m\u001b[0;34m\u001b[0m\u001b[0m\n",
      "\u001b[0;32m~/anaconda3/lib/python3.7/site-packages/qiskit/quantum_info/operators/operator.py\u001b[0m in \u001b[0;36mto_instruction\u001b[0;34m(self)\u001b[0m\n\u001b[1;32m    203\u001b[0m         \u001b[0;31m# pylint: disable=cyclic-import\u001b[0m\u001b[0;34m\u001b[0m\u001b[0;34m\u001b[0m\u001b[0m\n\u001b[1;32m    204\u001b[0m         \u001b[0;32mfrom\u001b[0m \u001b[0mqiskit\u001b[0m\u001b[0;34m.\u001b[0m\u001b[0mextensions\u001b[0m\u001b[0;34m.\u001b[0m\u001b[0munitary\u001b[0m \u001b[0;32mimport\u001b[0m \u001b[0mUnitaryGate\u001b[0m\u001b[0;34m\u001b[0m\u001b[0m\n\u001b[0;32m--> 205\u001b[0;31m         \u001b[0;32mreturn\u001b[0m \u001b[0mUnitaryGate\u001b[0m\u001b[0;34m(\u001b[0m\u001b[0mself\u001b[0m\u001b[0;34m.\u001b[0m\u001b[0mdata\u001b[0m\u001b[0;34m)\u001b[0m\u001b[0;34m\u001b[0m\u001b[0m\n\u001b[0m\u001b[1;32m    206\u001b[0m \u001b[0;34m\u001b[0m\u001b[0m\n\u001b[1;32m    207\u001b[0m     \u001b[0;32mdef\u001b[0m \u001b[0mconjugate\u001b[0m\u001b[0;34m(\u001b[0m\u001b[0mself\u001b[0m\u001b[0;34m)\u001b[0m\u001b[0;34m:\u001b[0m\u001b[0;34m\u001b[0m\u001b[0m\n",
      "\u001b[0;32m~/anaconda3/lib/python3.7/site-packages/qiskit/extensions/unitary.py\u001b[0m in \u001b[0;36m__init__\u001b[0;34m(self, data, label)\u001b[0m\n\u001b[1;32m     60\u001b[0m         \u001b[0;31m# Check input is unitary\u001b[0m\u001b[0;34m\u001b[0m\u001b[0;34m\u001b[0m\u001b[0m\n\u001b[1;32m     61\u001b[0m         \u001b[0;32mif\u001b[0m \u001b[0;32mnot\u001b[0m \u001b[0mis_unitary_matrix\u001b[0m\u001b[0;34m(\u001b[0m\u001b[0mdata\u001b[0m\u001b[0;34m)\u001b[0m\u001b[0;34m:\u001b[0m\u001b[0;34m\u001b[0m\u001b[0m\n\u001b[0;32m---> 62\u001b[0;31m             \u001b[0;32mraise\u001b[0m \u001b[0mExtensionError\u001b[0m\u001b[0;34m(\u001b[0m\u001b[0;34m\"Input matrix is not unitary.\"\u001b[0m\u001b[0;34m)\u001b[0m\u001b[0;34m\u001b[0m\u001b[0m\n\u001b[0m\u001b[1;32m     63\u001b[0m         \u001b[0;31m# Check input is N-qubit matrix\u001b[0m\u001b[0;34m\u001b[0m\u001b[0;34m\u001b[0m\u001b[0m\n\u001b[1;32m     64\u001b[0m         \u001b[0minput_dim\u001b[0m\u001b[0;34m,\u001b[0m \u001b[0moutput_dim\u001b[0m \u001b[0;34m=\u001b[0m \u001b[0mdata\u001b[0m\u001b[0;34m.\u001b[0m\u001b[0mshape\u001b[0m\u001b[0;34m\u001b[0m\u001b[0m\n",
      "\u001b[0;31mExtensionError\u001b[0m: 'Input matrix is not unitary.'"
     ]
    }
   ],
   "source": [
    "from qiskit.quantum_info.operators import Operator, Pauli\n",
    "# Create an operator\n",
    "P1 = Operator(Pauli(label='IZZZZZXI'))\n",
    "P2 = Operator(Pauli(label='IIIIIIZI'))\n",
    "\n",
    "# Add to a circuit\n",
    "circ = QuantumCircuit(8)\n",
    "circ.append(0.618*P1+0.618*P2,[0,1,2,3,4,5,6,7])\n",
    "circ.draw()"
   ]
  },
  {
   "cell_type": "code",
   "execution_count": null,
   "metadata": {},
   "outputs": [],
   "source": [
    "print(eig.eigenstate(A, 16, num_qubits).construct())\n",
    "print(eig.eigenstate(A, 18, num_qubits).construct())"
   ]
  },
  {
   "cell_type": "code",
   "execution_count": null,
   "metadata": {},
   "outputs": [],
   "source": []
  },
  {
   "cell_type": "code",
   "execution_count": null,
   "metadata": {},
   "outputs": [],
   "source": [
    "I_op = openfermion.ops.QubitOperator.identity()\n",
    "A_op = qonvert.dict_to_QubitOperator(A)\n",
    "A_array = get_sparse_operator(A_op, n_qubits=8).toarray()"
   ]
  },
  {
   "cell_type": "code",
   "execution_count": null,
   "metadata": {},
   "outputs": [],
   "source": [
    "psi = la.random_complex_vector(2**8)\n",
    "projector = get_sparse_operator((A_op+I_op)/2, n_qubits=8).toarray()"
   ]
  },
  {
   "cell_type": "code",
   "execution_count": null,
   "metadata": {},
   "outputs": [],
   "source": [
    "psi_sub = np.dot(projector, psi)\n",
    "psi_conj = np.conjugate(psi_sub)\n",
    "norm = np.sqrt(np.dot(psi_conj, psi_sub))"
   ]
  },
  {
   "cell_type": "code",
   "execution_count": null,
   "metadata": {},
   "outputs": [],
   "source": [
    "psi_sub = psi_sub/norm\n",
    "psi_conj = np.conjugate(psi_sub)\n",
    "np.dot(psi_conj, psi_sub)"
   ]
  },
  {
   "cell_type": "code",
   "execution_count": null,
   "metadata": {},
   "outputs": [],
   "source": []
  },
  {
   "cell_type": "code",
   "execution_count": null,
   "metadata": {},
   "outputs": [],
   "source": [
    "la.expectation(A_op, psi_sub, 8)"
   ]
  },
  {
   "cell_type": "code",
   "execution_count": null,
   "metadata": {},
   "outputs": [],
   "source": [
    "conj_psi = np.conjugate(psi)\n",
    "conj_psi.dot(psi)"
   ]
  },
  {
   "cell_type": "code",
   "execution_count": null,
   "metadata": {
    "scrolled": true
   },
   "outputs": [],
   "source": [
    "type(projector)"
   ]
  },
  {
   "cell_type": "code",
   "execution_count": null,
   "metadata": {},
   "outputs": [],
   "source": []
  },
  {
   "cell_type": "code",
   "execution_count": null,
   "metadata": {},
   "outputs": [],
   "source": [
    "qc=QuantumCircuit(2,1)\n",
    "qc.h(0), qc.h(1)\n",
    "qc.cx(1,0)\n",
    "qc.reset(1)\n",
    "qc.measure_all()\n",
    "qc.draw()\n",
    "\n",
    "\n",
    "# execute the quantum circuit\n",
    "backend = BasicAer.get_backend('qasm_simulator') # the device to run on\n",
    "result = execute(qc, backend, shots=1000).result()\n",
    "counts  = result.get_counts(qc)\n",
    "print(counts)\n",
    "plot_histogram(counts)"
   ]
  },
  {
   "cell_type": "code",
   "execution_count": null,
   "metadata": {},
   "outputs": [],
   "source": [
    "test_list=[(0, 2, 4), (5, 2, 3), (3, 1, 8)]"
   ]
  },
  {
   "cell_type": "code",
   "execution_count": null,
   "metadata": {},
   "outputs": [],
   "source": [
    "sorted([i for i in test_list], key=lambda i:i[0])"
   ]
  },
  {
   "cell_type": "code",
   "execution_count": null,
   "metadata": {},
   "outputs": [],
   "source": [
    "circs.qubit_map(7)"
   ]
  },
  {
   "cell_type": "code",
   "execution_count": null,
   "metadata": {},
   "outputs": [],
   "source": [
    "circs.reference_state()"
   ]
  },
  {
   "cell_type": "code",
   "execution_count": null,
   "metadata": {},
   "outputs": [],
   "source": []
  }
 ],
 "metadata": {
  "kernelspec": {
   "display_name": "Python 3",
   "language": "python",
   "name": "python3"
  },
  "language_info": {
   "codemirror_mode": {
    "name": "ipython",
    "version": 3
   },
   "file_extension": ".py",
   "mimetype": "text/x-python",
   "name": "python",
   "nbconvert_exporter": "python",
   "pygments_lexer": "ipython3",
   "version": "3.7.0"
  }
 },
 "nbformat": 4,
 "nbformat_minor": 2
}
