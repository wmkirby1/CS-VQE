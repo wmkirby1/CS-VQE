{
 "cells": [
  {
   "cell_type": "code",
   "execution_count": 1,
   "metadata": {},
   "outputs": [
    {
     "name": "stderr",
     "output_type": "stream",
     "text": [
      "/home/tim/anaconda3/lib/python3.7/site-packages/qiskit/aqua/components/optimizers/optimizer.py:50: DeprecationWarning: The package qiskit.aqua.components.optimizers is deprecated. It was moved/refactored to qiskit.algorithms.optimizers (pip install qiskit-terra). For more information see <https://github.com/Qiskit/qiskit-aqua/blob/master/README.md#migration-guide>\n",
      "  'qiskit.algorithms.optimizers', 'qiskit-terra')\n"
     ]
    }
   ],
   "source": [
    "import utils.cs_vqe_tools as c_tools\n",
    "import utils.qonversion_tools as qonvert\n",
    "import utils.bit_tools as bit\n",
    "import utils.circuit_tools as circ\n",
    "import utils.linalg_tools as la\n",
    "import utils.plotting_tools as plot\n",
    "from utils.UCCSD_ansatz import Get_UCCSD_ia_terms, Get_UCCSD_ijab_terms, Fermi_ops_to_qubit_ops\n",
    "\n",
    "import cs_vqe_classes.cs_vqe as c\n",
    "import cs_vqe_classes.eigenstate as eig\n",
    "import cs_vqe_classes.cs_vqe_circuit as cs_circ\n",
    "\n",
    "import ast\n",
    "import numpy as np\n",
    "import matplotlib\n",
    "import matplotlib.pyplot as plt\n",
    "from copy import deepcopy\n",
    "from openfermion.linalg import LinearQubitOperator, get_sparse_operator, get_ground_state\n",
    "import itertools\n",
    "from statistics import median\n",
    "\n",
    "from qiskit.circuit.parameter import Parameter\n",
    "from qiskit.circuit.quantumcircuit import QuantumCircuit, QuantumRegister\n",
    "from qiskit import QuantumCircuit, BasicAer, execute\n",
    "from qiskit.visualization import plot_histogram\n",
    "from qiskit.utils import QuantumInstance\n",
    "from qiskit.aqua.components.optimizers import SLSQP, COBYLA\n",
    "from qiskit.algorithms import VQE\n",
    "from qiskit import Aer\n",
    "\n",
    "import cirq\n",
    "\n",
    "from qiskit.providers.aer import AerError"
   ]
  },
  {
   "cell_type": "code",
   "execution_count": 2,
   "metadata": {},
   "outputs": [
    {
     "name": "stdout",
     "output_type": "stream",
     "text": [
      "Hamiltonian: \n",
      " (-1.5419759528969692+0j) [] +\n",
      "(-0.03640948355953764+0j) [X0 X1 Y2 Y3] +\n",
      "(0.03640948355953764+0j) [X0 Y1 Y2 X3] +\n",
      "(0.05246557037552685+0j) [X0 Z1 X2] +\n",
      "(-0.009234661837974558+0j) [X0 Z1 X2 Z3] +\n",
      "(0.04322997146404521+0j) [X0 X2] +\n",
      "(0.03640948355953764+0j) [Y0 X1 X2 Y3] +\n",
      "(-0.03640948355953764+0j) [Y0 Y1 X2 X3] +\n",
      "(0.05246557037552685+0j) [Y0 Z1 Y2] +\n",
      "(-0.009234661837974558+0j) [Y0 Z1 Y2 Z3] +\n",
      "(0.04322997146404521+0j) [Y0 Y2] +\n",
      "(0.7589136134172096+0j) [Z0] +\n",
      "(0.04322997146404521+0j) [Z0 X1 Z2 X3] +\n",
      "(0.04322997146404521+0j) [Z0 Y1 Z2 Y3] +\n",
      "(0.23578727153769516+0j) [Z0 Z1] +\n",
      "(0.12887693985157755+0j) [Z0 Z2] +\n",
      "(0.1652864234111152+0j) [Z0 Z3] +\n",
      "(0.05246557037552685+0j) [X1 Z2 X3] +\n",
      "(-0.009234661837974558+0j) [X1 X3] +\n",
      "(0.05246557037552685+0j) [Y1 Z2 Y3] +\n",
      "(-0.009234661837974558+0j) [Y1 Y3] +\n",
      "(0.7589136134172096+0j) [Z1] +\n",
      "(0.1652864234111152+0j) [Z1 Z2] +\n",
      "(0.12887693985157755+0j) [Z1 Z3] +\n",
      "(0.19140054473500764+0j) [Z2] +\n",
      "(0.18815905542064587+0j) [Z2 Z3] +\n",
      "(0.19140054473500764+0j) [Z3] \n",
      "\n",
      "UCCSD ansatz: \n",
      " 0.008295116013698348j [X0 X1 X2 Y3] +\n",
      "0.008295116013698348j [X0 X1 Y2 X3] +\n",
      "-0.008295116013698348j [X0 Y1 X2 X3] +\n",
      "0.008295116013698348j [X0 Y1 Y2 Y3] +\n",
      "-0.006293861055900036j [X0 Z1 Y2] +\n",
      "-0.008295116013698348j [Y0 X1 X2 X3] +\n",
      "0.008295116013698348j [Y0 X1 Y2 Y3] +\n",
      "-0.008295116013698348j [Y0 Y1 X2 Y3] +\n",
      "-0.008295116013698348j [Y0 Y1 Y2 X3] +\n",
      "0.006293861055900036j [Y0 Z1 X2] +\n",
      "-0.006293861055900036j [X1 Z2 Y3] +\n",
      "0.006293861055900036j [Y1 Z2 X3]\n"
     ]
    }
   ],
   "source": [
    "import openfermion\n",
    "import openfermionpyscf\n",
    "from openfermion import MolecularData\n",
    "from openfermionpyscf import run_pyscf\n",
    "from openfermion.ops import FermionOperator, QubitOperator\n",
    "from openfermion.transforms import jordan_wigner, bravyi_kitaev\n",
    "from openfermion.transforms import get_fermion_operator\n",
    "from openfermion.circuits import (uccsd_singlet_get_packed_amplitudes,\n",
    "                               uccsd_singlet_generator, uccsd_generator,\n",
    "                               uccsd_convert_amplitude_format)\n",
    "\n",
    "singlet_bool = True # Set general UCCSD or singlet UCCSD.\n",
    "\n",
    "bond_len = 0.772#1.45\n",
    "atom_1 = 'He'\n",
    "atom_2 = 'H'\n",
    "#atom_3 = 'O'\n",
    "basis = 'sto-3g'\n",
    "multiplicity = 1\n",
    "charge = 1\n",
    "\n",
    "coordinate_1 = (0.0, 0.0, 0.0)\n",
    "coordinate_2 = (0.0, 0.0, bond_len)\n",
    "#coordinate_3 = (0.0, bond_len, 0.0)\n",
    "\n",
    "geometry = [(atom_1, coordinate_1), (atom_2, coordinate_2)]#, (atom_3, coordinate_3)]\n",
    "\n",
    "molecule_data = MolecularData(geometry, basis, multiplicity, charge, description='Test')\n",
    "#molecule.load()\n",
    "\n",
    "# Set calculation parameters.\n",
    "run_scf = 1\n",
    "run_mp2 = 1\n",
    "run_cisd = 0\n",
    "run_ccsd = 0\n",
    "run_fci = 1\n",
    "delete_input = True\n",
    "delete_output = True\n",
    "\n",
    "# Run pyscf.\n",
    "molecule = run_pyscf(molecule_data,\n",
    "                     run_scf=run_scf,\n",
    "                     run_mp2=run_mp2,\n",
    "                     run_cisd=run_cisd,\n",
    "                     run_ccsd=run_ccsd,\n",
    "                     run_fci=run_fci)\n",
    "\n",
    "#molecule.load()\n",
    "#print(molecule)\n",
    "\n",
    "ham_f = get_fermion_operator(molecule.get_molecular_hamiltonian())\n",
    "ham_q = jordan_wigner(ham_f)\n",
    "print('Hamiltonian:', '\\n', ham_q, '\\n')\n",
    "\n",
    "scf = True      # Hartree-Fock.\n",
    "mp2 = True      # Moller-Plesset 2.\n",
    "cisd = True     # Configuration interaction singles and doubles.\n",
    "ccsd = True     # Coupled cluster singles and doubles.\n",
    "fci = True      # Full configuration interaction.\n",
    "\n",
    "calculated_molecule = run_pyscf(molecule_data, scf, mp2, cisd, ccsd, fci)\n",
    "\n",
    "if ccsd:\n",
    "    ccsd_single_amps = calculated_molecule.ccsd_single_amps\n",
    "    ccsd_double_amps = calculated_molecule.ccsd_double_amps\n",
    "\n",
    "num_electrons = calculated_molecule.n_electrons\n",
    "num_qubits = 2*calculated_molecule.n_orbitals\n",
    "\n",
    "if singlet_bool:\n",
    "    # Get singlet UCCSD generator.\n",
    "    packed_amps = uccsd_singlet_get_packed_amplitudes(ccsd_single_amps,  ccsd_double_amps, num_qubits, num_electrons)\n",
    "    ucc_op = uccsd_singlet_generator(packed_amps, num_qubits, num_electrons)\n",
    "    #print(ucc_sing)\n",
    "\n",
    "else:\n",
    "    # Get general UCCSD operator.\n",
    "    ucc_op = uccsd_generator(ccsd_single_amps, ccsd_double_amps)\n",
    "    #print(ucc_op)\n",
    "    \n",
    "ucc_q = jordan_wigner(ucc_op)\n",
    "ucc = qonvert.QubitOperator_to_dict(ucc_q, num_qubits)\n",
    "print('UCCSD ansatz:', '\\n', ucc_q)"
   ]
  },
  {
   "cell_type": "code",
   "execution_count": 3,
   "metadata": {},
   "outputs": [],
   "source": [
    "#ia, theta1 = Get_UCCSD_ia_terms(calculated_molecule.n_electrons, calculated_molecule.n_orbitals)\n",
    "#ijab, theta2 = Get_UCCSD_ijab_terms(calculated_molecule.n_electrons, calculated_molecule.n_orbitals)"
   ]
  },
  {
   "cell_type": "code",
   "execution_count": 4,
   "metadata": {},
   "outputs": [],
   "source": [
    "hamiltonian = qonvert.QubitOperator_to_dict(ham_q, num_qubits)#\n",
    "terms_noncon = c_tools.greedy_dfs(hamiltonian, 3, criterion='weight')[-1]"
   ]
  },
  {
   "cell_type": "code",
   "execution_count": 5,
   "metadata": {},
   "outputs": [
    {
     "data": {
      "text/plain": [
       "{'IZXI': -0.07087650179757096, 'ZIZI': 0.9974850983813939}"
      ]
     },
     "execution_count": 5,
     "metadata": {},
     "output_type": "execute_result"
    }
   ],
   "source": [
    "circs = cs_circ.cs_vqe_circuit(hamiltonian, terms_noncon, num_qubits)\n",
    "A = circs.A\n",
    "A"
   ]
  },
  {
   "cell_type": "code",
   "execution_count": 6,
   "metadata": {
    "scrolled": true
   },
   "outputs": [
    {
     "name": "stdout",
     "output_type": "stream",
     "text": [
      "*** specified maximum number of qubits to simulate exceeds total ***\n",
      "*Performing 2-qubit CS-VQE over qubit positions 1 + ancilla\n"
     ]
    },
    {
     "name": "stderr",
     "output_type": "stream",
     "text": [
      "/home/tim/anaconda3/lib/python3.7/site-packages/qiskit/circuit/quantumcircuit.py:876: DeprecationWarning: The QuantumCircuit.extend() method is being deprecated. Use the compose() (potentially with the inplace=True argument) and tensor() methods which are more flexible w.r.t circuit register compatibility.\n",
      "  return self.extend(rhs)\n"
     ]
    },
    {
     "name": "stdout",
     "output_type": "stream",
     "text": [
      "Expectation value of A: 0.9999999999999997\n",
      "Reached target energy in fewer iterations than specified\n",
      "*Performing 3-qubit CS-VQE over qubit positions 3, 1 + ancilla\n",
      "Expectation value of A: 0.9999999999999987\n",
      "*Performing 3-qubit CS-VQE over qubit positions 3, 1 + ancilla\n",
      "Expectation value of A: 0.9999999999999987\n",
      "*Performing 3-qubit CS-VQE over qubit positions 3, 1 + ancilla\n",
      "Expectation value of A: 0.9999999999999987\n",
      "*Performing 4-qubit CS-VQE over qubit positions 3, 2, 1 + ancilla\n",
      "Expectation value of A: 0.999999999999997\n",
      "Reached target energy in fewer iterations than specified\n",
      "*Performing 5-qubit CS-VQE over qubit positions 3, 2, 1, 0 + ancilla\n",
      "Expectation value of A: 0.9999999999999967\n",
      "*Performing 5-qubit CS-VQE over qubit positions 3, 2, 1, 0 + ancilla\n",
      "Expectation value of A: 0.999999999999998\n",
      "Reached target energy in fewer iterations than specified\n"
     ]
    }
   ],
   "source": [
    "circs.run_cs_vqe(ucc, max_sim_q = 12, iters=3)"
   ]
  },
  {
   "cell_type": "code",
   "execution_count": 7,
   "metadata": {},
   "outputs": [],
   "source": [
    "cs_vqe_results = circs.cs_vqe_results"
   ]
  },
  {
   "cell_type": "code",
   "execution_count": 8,
   "metadata": {},
   "outputs": [
    {
     "data": {
      "image/png": "[encoded data removed]",
      "text/plain": [
       "<Figure size 864x864 with 8 Axes>"
      ]
     },
     "metadata": {
      "needs_background": "light"
     },
     "output_type": "display_data"
    }
   ],
   "source": [
    "fig = plot.plot_cs_vqe_convergence(data=cs_vqe_results, title='test')"
   ]
  },
  {
   "cell_type": "code",
   "execution_count": null,
   "metadata": {},
   "outputs": [],
   "source": []
  },
  {
   "cell_type": "code",
   "execution_count": 9,
   "metadata": {},
   "outputs": [],
   "source": [
    "#import json \n",
    "\n",
    "#data={}\n",
    "#for k in cs_vqe_results.keys():\n",
    "#    data[str(k)] = cs_vqe_results[k]\n",
    "     \n",
    "#with open(\"data/LiH_STO-3G_singlet_UCCSD_CS-VQE_convergence_with_ground_state_projection.json\", \"w\") as outfile: \n",
    "#    json.dump(data, outfile)"
   ]
  },
  {
   "cell_type": "code",
   "execution_count": 10,
   "metadata": {},
   "outputs": [
    {
     "data": {
      "text/plain": [
       "[2, 0, 1, 3]"
      ]
     },
     "execution_count": 10,
     "metadata": {},
     "output_type": "execute_result"
    }
   ],
   "source": [
    "circs.order"
   ]
  },
  {
   "cell_type": "code",
   "execution_count": 11,
   "metadata": {},
   "outputs": [
    {
     "name": "stdout",
     "output_type": "stream",
     "text": [
      "[] []\n",
      "['ZIII'] [0]\n",
      "['IZII', 'ZIII'] [1, 0]\n",
      "['IIIZ', 'IZII', 'ZIII'] [3, 1, 0]\n"
     ]
    },
    {
     "data": {
      "text/plain": [
       "{0: {'exact': -3.0134857192955504, '+1eig': -3.0134857192955558},\n",
       " 1: {'exact': -2.5265073501206285, '+1eig': -2.511706495710962},\n",
       " 2: {'exact': -1.7767278261670678, '+1eig': -1.7300609068611328},\n",
       " 3: {'exact': -1.7381977635033339, '+1eig': -1.5371998959132047}}"
      ]
     },
     "execution_count": 11,
     "metadata": {},
     "output_type": "execute_result"
    }
   ],
   "source": [
    "mol = c.cs_vqe(hamiltonian, terms_noncon, num_qubits)\n",
    "generators = list((mol.generators()[0]).keys())\n",
    "initial_state = mol.init_state()\n",
    "results={}\n",
    "shots=10\n",
    "c_order = [0,1,2,3,4,5]\n",
    "\n",
    "eig_proj = la.eigenstate_projector(A, num_qubits)\n",
    "nan_check = []\n",
    "\n",
    "for index in range(num_qubits):\n",
    "    removed_index = c_order[0:index]#list(range(index))\n",
    "    removed_index.reverse()\n",
    "    removed_generators = [generators[i] for i in removed_index]\n",
    "    Z_indices = [g.find('Z') for g in removed_generators]\n",
    "    print(removed_generators, Z_indices)\n",
    "    nc_proj = la.noncon_projector(initial_state, Z_indices, num_qubits)\n",
    "\n",
    "    new_ham_noncon, new_ham_context = mol.move_generator(removed_generators)\n",
    "    new_ham_noncon_q = qonvert.dict_to_QubitOperator(new_ham_noncon)\n",
    "    new_ham_context_q = qonvert.dict_to_QubitOperator(new_ham_context)\n",
    "\n",
    "    results[index] = {}\n",
    "    results[index]['exact'] = get_ground_state(get_sparse_operator(new_ham_noncon_q, num_qubits).toarray())[0]\n",
    "\n",
    "    expectations = []\n",
    "    for r in range(shots):\n",
    "        rand_vec = la.random_complex_vector(2**num_qubits)\n",
    "        psi = la.apply_projections(rand_vec, [nc_proj, eig_proj])\n",
    "        expect_noncon = la.expectation(new_ham_noncon_q, psi, num_qubits)\n",
    "        expectations.append(expect_noncon)\n",
    "    #print(expectations)\n",
    "    nc_value = (sum(expectations)/shots).real\n",
    "    results[index]['+1eig'] = nc_value\n",
    "    nan_check.append(nc_value)\n",
    "\n",
    "results"
   ]
  },
  {
   "cell_type": "code",
   "execution_count": 12,
   "metadata": {},
   "outputs": [
    {
     "name": "stdout",
     "output_type": "stream",
     "text": [
      "[(-3.0134857192955504, -2.5265073501206285, -1.7767278261670678, -1.7381977635033339), (-3.0134857192955558, -2.511706495710962, -1.7300609068611328, -1.5371998959132047)]\n"
     ]
    },
    {
     "data": {
      "text/plain": [
       "<matplotlib.legend.Legend at 0x7f422ead4080>"
      ]
     },
     "execution_count": 12,
     "metadata": {},
     "output_type": "execute_result"
    },
    {
     "data": {
      "image/png": "[encoded data removed]",
      "text/plain": [
       "<Figure size 432x288 with 1 Axes>"
      ]
     },
     "metadata": {
      "needs_background": "light"
     },
     "output_type": "display_data"
    }
   ],
   "source": [
    "X=range(num_qubits)\n",
    "values = list(zip(*[list(results[i].values()) for i in X]))\n",
    "print(values)\n",
    "Y1=values[0]\n",
    "Y2=values[1]\n",
    "#axs[grid].set_title(str(h))\n",
    "plt.plot(X, Y1, label='Exact noncontextual gs')\n",
    "plt.plot(X, Y2, label='Restriction to +1-eigenspace')\n",
    "plt.legend()"
   ]
  },
  {
   "cell_type": "code",
   "execution_count": 13,
   "metadata": {},
   "outputs": [],
   "source": [
    "#fig.savefig(\"plots/HeH+-CS-VQE-uccsd_ansatz.png\", dpi=300)"
   ]
  },
  {
   "cell_type": "code",
   "execution_count": 14,
   "metadata": {},
   "outputs": [
    {
     "name": "stderr",
     "output_type": "stream",
     "text": [
      "/home/tim/anaconda3/lib/python3.7/site-packages/scipy/sparse/linalg/eigen/arpack/arpack.py:1268: RuntimeWarning: k >= N - 1 for N * N square matrix. Attempting to use scipy.linalg.eig instead.\n",
      "  RuntimeWarning)\n",
      "/home/tim/anaconda3/lib/python3.7/site-packages/numpy/core/_asarray.py:102: ComplexWarning: Casting complex values to real discards the imaginary part\n",
      "  return array(a, dtype, copy=False, order=order)\n"
     ]
    },
    {
     "data": {
      "text/plain": [
       "<matplotlib.legend.Legend at 0x7f422c522f60>"
      ]
     },
     "execution_count": 14,
     "metadata": {},
     "output_type": "execute_result"
    },
    {
     "data": {
      "image/png": "[encoded data removed]",
      "text/plain": [
       "<Figure size 432x288 with 1 Axes>"
      ]
     },
     "metadata": {
      "needs_background": "light"
     },
     "output_type": "display_data"
    }
   ],
   "source": [
    "circs.ancilla = False\n",
    "X = list(range(1, 6))\n",
    "Y_true = []\n",
    "Y_proj = []\n",
    "A = circs.A\n",
    "\n",
    "for n_q in X:\n",
    "    ham_red = circs.ham_reduced[n_q-1]\n",
    "    ham_red_q = qonvert.dict_to_QubitOperator(ham_red)\n",
    "    gs_red = get_ground_state(get_sparse_operator(ham_red_q, n_q).toarray())\n",
    "    Y_true.append(gs_red[0])\n",
    "    \n",
    "    A_red = circs.reduce_anz_terms(A, n_q)\n",
    "    eig_proj = la.eigenstate_projector(A_red, n_q)\n",
    "    psi = gs_red[1]\n",
    "    psi_proj = la.apply_projections(psi, [eig_proj])\n",
    "    gs_proj = la.expectation(ham_red, psi_proj, n_q)\n",
    "    Y_proj.append(gs_proj)\n",
    "    \n",
    "plt.plot(X, Y_true, label = 'True ground state energy')\n",
    "plt.plot(X, Y_proj, label = 'Expectation value after projection')\n",
    "plt.legend()"
   ]
  },
  {
   "cell_type": "code",
   "execution_count": 15,
   "metadata": {},
   "outputs": [
    {
     "ename": "AttributeError",
     "evalue": "'cs_vqe_circuit' object has no attribute 'all_rotations'",
     "output_type": "error",
     "traceback": [
      "\u001b[0;31m---------------------------------------------------------------------------\u001b[0m",
      "\u001b[0;31mAttributeError\u001b[0m                            Traceback (most recent call last)",
      "\u001b[0;32m<ipython-input-15-ef48f990c727>\u001b[0m in \u001b[0;36m<module>\u001b[0;34m()\u001b[0m\n\u001b[0;32m----> 1\u001b[0;31m \u001b[0mrots\u001b[0m \u001b[0;34m=\u001b[0m \u001b[0mcircs\u001b[0m\u001b[0;34m.\u001b[0m\u001b[0mall_rotations\u001b[0m\u001b[0;34m\u001b[0m\u001b[0m\n\u001b[0m\u001b[1;32m      2\u001b[0m \u001b[0mprint\u001b[0m\u001b[0;34m(\u001b[0m\u001b[0mrots\u001b[0m\u001b[0;34m)\u001b[0m\u001b[0;34m\u001b[0m\u001b[0m\n\u001b[1;32m      3\u001b[0m \u001b[0mrots\u001b[0m\u001b[0;34m.\u001b[0m\u001b[0mreverse\u001b[0m\u001b[0;34m(\u001b[0m\u001b[0;34m)\u001b[0m\u001b[0;34m\u001b[0m\u001b[0m\n\u001b[1;32m      4\u001b[0m \u001b[0mc_tools\u001b[0m\u001b[0;34m.\u001b[0m\u001b[0mrotate_operator\u001b[0m\u001b[0;34m(\u001b[0m\u001b[0mrots\u001b[0m\u001b[0;34m,\u001b[0m \u001b[0mA\u001b[0m\u001b[0;34m)\u001b[0m\u001b[0;34m\u001b[0m\u001b[0m\n",
      "\u001b[0;31mAttributeError\u001b[0m: 'cs_vqe_circuit' object has no attribute 'all_rotations'"
     ]
    }
   ],
   "source": [
    "rots = circs.all_rotations\n",
    "print(rots)\n",
    "rots.reverse()\n",
    "c_tools.rotate_operator(rots, A)"
   ]
  },
  {
   "cell_type": "code",
   "execution_count": null,
   "metadata": {},
   "outputs": [],
   "source": [
    "circs.G"
   ]
  },
  {
   "cell_type": "code",
   "execution_count": null,
   "metadata": {},
   "outputs": [],
   "source": [
    "P1, P2 = A.keys()\n",
    "r1 = A[P1]\n",
    "r2 = A[P2]\n",
    "rot = c_tools.pauli_mult(P1, P2)\n",
    "t = np.arctan(r1/r2)\n",
    "single_A = c_tools.rotate_operator([[t*(rot[1]*1j).real, rot[0]]], A)"
   ]
  },
  {
   "cell_type": "code",
   "execution_count": null,
   "metadata": {
    "scrolled": false
   },
   "outputs": [],
   "source": [
    "Z_indices = [g.find('Z') for g in circs.G]"
   ]
  },
  {
   "cell_type": "code",
   "execution_count": null,
   "metadata": {},
   "outputs": [],
   "source": [
    "single_A_indices = [i for i, p in enumerate(list(single_A.keys())[0]) if p == 'Z']"
   ]
  },
  {
   "cell_type": "code",
   "execution_count": null,
   "metadata": {},
   "outputs": [],
   "source": [
    "ind_Z = [i for i in single_A_indices if i not in Z_indices]"
   ]
  },
  {
   "cell_type": "code",
   "execution_count": null,
   "metadata": {},
   "outputs": [],
   "source": [
    "ind_Z"
   ]
  },
  {
   "cell_type": "code",
   "execution_count": null,
   "metadata": {},
   "outputs": [],
   "source": [
    "diag_A = []\n",
    "for i in ind_Z:    \n",
    "    blank_op = ['I' for i in range(num_qubits)]\n",
    "    blank_op[i] = 'Y'\n",
    "    rot = ''.join(blank_op)\n",
    "    diag_A.append(['pi/2', rot])\n",
    "    rotated = c_tools.pauli_mult(rot, list(single_A.keys())[0])[0]\n",
    "    print(rotated)\n",
    "    blank_op = ['I' for i in range(num_qubits)]\n",
    "    for j in single_A_indices:\n",
    "        if rotated[j]=='Z':\n",
    "            blank_op[j] = 'Z'\n",
    "        elif rotated[j] == 'X':\n",
    "            blank_op[j] = 'Y'\n",
    "    rot = ''.join(blank_op)\n",
    "    diag_A.append(['pi/2', rot])"
   ]
  },
  {
   "cell_type": "code",
   "execution_count": null,
   "metadata": {},
   "outputs": [],
   "source": [
    "c_tools.pauli_mult(rot_G, list(single_A.keys())[0])"
   ]
  },
  {
   "cell_type": "code",
   "execution_count": null,
   "metadata": {},
   "outputs": [],
   "source": []
  },
  {
   "cell_type": "code",
   "execution_count": null,
   "metadata": {},
   "outputs": [],
   "source": [
    "A_proj = np.matrix(la.eigenstate_projector(circs.A, num_qubits))\n",
    "A_proj.trace()"
   ]
  },
  {
   "cell_type": "code",
   "execution_count": null,
   "metadata": {},
   "outputs": [],
   "source": []
  },
  {
   "cell_type": "code",
   "execution_count": null,
   "metadata": {},
   "outputs": [],
   "source": []
  },
  {
   "cell_type": "code",
   "execution_count": null,
   "metadata": {},
   "outputs": [],
   "source": []
  }
 ],
 "metadata": {
  "kernelspec": {
   "display_name": "Python 3",
   "language": "python",
   "name": "python3"
  },
  "language_info": {
   "codemirror_mode": {
    "name": "ipython",
    "version": 3
   },
   "file_extension": ".py",
   "mimetype": "text/x-python",
   "name": "python",
   "nbconvert_exporter": "python",
   "pygments_lexer": "ipython3",
   "version": "3.7.0"
  }
 },
 "nbformat": 4,
 "nbformat_minor": 2
}
