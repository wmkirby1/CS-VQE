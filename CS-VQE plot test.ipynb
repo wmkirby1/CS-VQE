{
 "cells": [
  {
   "cell_type": "code",
   "execution_count": 1,
   "metadata": {},
   "outputs": [],
   "source": [
    "import utils.cs_vqe_tools as c_tools\n",
    "import utils.qonversion_tools as qonvert\n",
    "import utils.bit_tools as bit\n",
    "import utils.circuit_tools as circ\n",
    "import utils.linalg_tools as la\n",
    "import utils.plotting_tools as plot\n",
    "from utils.UCCSD_ansatz import Get_UCCSD_ia_terms, Get_UCCSD_ijab_terms, Fermi_ops_to_qubit_ops\n",
    "\n",
    "import cs_vqe_classes.cs_vqe as c\n",
    "import cs_vqe_classes.eigenstate as eig\n",
    "import cs_vqe_classes.cs_vqe_circuit as cs_circ\n",
    "\n",
    "import ast\n",
    "import numpy as np\n",
    "import matplotlib\n",
    "import matplotlib.pyplot as plt\n",
    "from copy import deepcopy\n",
    "from openfermion.linalg import LinearQubitOperator, get_sparse_operator, get_ground_state\n",
    "import itertools\n",
    "from statistics import median\n",
    "\n",
    "from qiskit.circuit.parameter import Parameter\n",
    "from qiskit.circuit.quantumcircuit import QuantumCircuit, QuantumRegister\n",
    "from qiskit import QuantumCircuit, BasicAer, execute\n",
    "from qiskit.visualization import plot_histogram\n",
    "from qiskit.utils import QuantumInstance\n",
    "from qiskit.aqua.components.optimizers import SLSQP, COBYLA\n",
    "from qiskit.algorithms import VQE\n",
    "from qiskit import Aer\n",
    "\n",
    "import cirq\n",
    "\n",
    "from qiskit.providers.aer import AerError"
   ]
  },
  {
   "cell_type": "code",
   "execution_count": 2,
   "metadata": {},
   "outputs": [
    {
     "name": "stdout",
     "output_type": "stream",
     "text": [
      "Hamiltonian: \n",
      " (1.1324434021069387+0j) [] +\n",
      "(-0.025810254414814857+0j) [X0 X1 Y2 Y3] +\n",
      "(-0.012799934786437067+0j) [X0 X1 Y2 Z3 Z4 Y5] +\n",
      "(-0.02515964583989785+0j) [X0 X1 Y2 Z3 Z4 Z5 Z6 Y7] +\n",
      "(-0.012799934786437067+0j) [X0 X1 X3 X4] +\n",
      "(-0.02515964583989785+0j) [X0 X1 X3 Z4 Z5 X6] +\n",
      "(-0.01711452882177468+0j) [X0 X1 Y4 Y5] +\n",
      "(-0.0009891049103628584+0j) [X0 X1 Y4 Z5 Z6 Y7] +\n",
      "(-0.0009891049103628584+0j) [X0 X1 X5 X6] +\n",
      "(-0.054698565746849455+0j) [X0 X1 Y6 Y7] +\n",
      "(0.025810254414814857+0j) [X0 Y1 Y2 X3] +\n",
      "(0.012799934786437067+0j) [X0 Y1 Y2 Z3 Z4 X5] +\n",
      "(0.02515964583989785+0j) [X0 Y1 Y2 Z3 Z4 Z5 Z6 X7] +\n",
      "(-0.012799934786437067+0j) [X0 Y1 Y3 X4] +\n",
      "(-0.02515964583989785+0j) [X0 Y1 Y3 Z4 Z5 X6] +\n",
      "(0.01711452882177468+0j) [X0 Y1 Y4 X5] +\n",
      "(0.0009891049103628584+0j) [X0 Y1 Y4 Z5 Z6 X7] +\n",
      "(-0.0009891049103628584+0j) [X0 Y1 Y5 X6] +\n",
      "(0.054698565746849455+0j) [X0 Y1 Y6 X7] +\n",
      "(0.00257790517941155+0j) [X0 Z1 X2] +\n",
      "(0.004766148105680643+0j) [X0 Z1 X2 X3 Z4 X5] +\n",
      "(-0.009264702923307774+0j) [X0 Z1 X2 X3 Z4 Z5 Z6 X7] +\n",
      "(0.004766148105680643+0j) [X0 Z1 X2 Y3 Z4 Y5] +\n",
      "(-0.009264702923307774+0j) [X0 Z1 X2 Y3 Z4 Z5 Z6 Y7] +\n",
      "(-0.00816554467721447+0j) [X0 Z1 X2 Z3] +\n",
      "(0.011039175390082806+0j) [X0 Z1 X2 X4 Z5 X6] +\n",
      "(0.004031429608004318+0j) [X0 Z1 X2 Y4 Z5 Y6] +\n",
      "(-0.0012599890155228469+0j) [X0 Z1 X2 Z4] +\n",
      "(0.008519234528352909+0j) [X0 Z1 X2 X5 Z6 X7] +\n",
      "(0.008519234528352909+0j) [X0 Z1 X2 Y5 Z6 Y7] +\n",
      "(-0.016838291919083+0j) [X0 Z1 X2 Z5] +\n",
      "(0.018855524349035244+0j) [X0 Z1 X2 Z6] +\n",
      "(0.04260557457088636+0j) [X0 Z1 X2 Z7] +\n",
      "(0.007007745782078484+0j) [X0 Z1 Y2 Y4 Z5 X6] +\n",
      "(-0.015578302903560156+0j) [X0 Z1 Z2 X3 Y4 Y5] +\n",
      "(-0.0044878049203485905+0j) [X0 Z1 Z2 X3 Y4 Z5 Z6 Y7] +\n",
      "(0.0025199408617298928+0j) [X0 Z1 Z2 X3 X5 X6] +\n",
      "(0.023750050221851116+0j) [X0 Z1 Z2 X3 Y6 Y7] +\n",
      "(0.015578302903560156+0j) [X0 Z1 Z2 Y3 Y4 X5] +\n",
      "(0.0044878049203485905+0j) [X0 Z1 Z2 Y3 Y4 Z5 Z6 X7] +\n",
      "(0.0025199408617298928+0j) [X0 Z1 Z2 Y3 Y5 X6] +\n",
      "(-0.023750050221851116+0j) [X0 Z1 Z2 Y3 Y6 X7] +\n",
      "(0.05776205910137969+0j) [X0 Z1 Z2 Z3 X4] +\n",
      "(0.00904315100958098+0j) [X0 Z1 Z2 Z3 X4 X5 Z6 X7] +\n",
      "(0.00904315100958098+0j) [X0 Z1 Z2 Z3 X4 Y5 Z6 Y7] +\n",
      "(-0.03282295150197554+0j) [X0 Z1 Z2 Z3 X4 Z5] +\n",
      "(-0.0008004024320858147+0j) [X0 Z1 Z2 Z3 X4 Z6] +\n",
      "(-0.00029621267986835667+0j) [X0 Z1 Z2 Z3 X4 Z7] +\n",
      "(0.0005041897522174581+0j) [X0 Z1 Z2 Z3 Z4 X5 Y6 Y7] +\n",
      "(-0.0005041897522174581+0j) [X0 Z1 Z2 Z3 Z4 Y5 Y6 X7] +\n",
      "(-0.03866070666863633+0j) [X0 Z1 Z2 Z3 Z4 Z5 X6] +\n",
      "(0.07064370485657402+0j) [X0 Z1 Z2 Z3 Z4 Z5 X6 Z7] +\n",
      "(0.0041305179968442+0j) [X0 Z1 Z2 Z3 Z4 X6] +\n",
      "(0.013173669006425177+0j) [X0 Z1 Z2 Z3 Z5 X6] +\n",
      "(-0.018902191774470507+0j) [X0 Z1 Z2 X4] +\n",
      "(0.012909964467237616+0j) [X0 Z1 Z2 Z4 Z5 X6] +\n",
      "(-0.014136043668789863+0j) [X0 Z1 Z3 X4] +\n",
      "(0.0036452615439298438+0j) [X0 Z1 Z3 Z4 Z5 X6] +\n",
      "(0.03777517825610069+0j) [X0 X2] +\n",
      "(-0.00919574296442882+0j) [X0 Z2 Z3 X4] +\n",
      "(0.06584241123629478+0j) [X0 Z2 Z3 Z4 Z5 X6] +\n",
      "(0.025810254414814857+0j) [Y0 X1 X2 Y3] +\n",
      "(0.012799934786437067+0j) [Y0 X1 X2 Z3 Z4 Y5] +\n",
      "(0.02515964583989785+0j) [Y0 X1 X2 Z3 Z4 Z5 Z6 Y7] +\n",
      "(-0.012799934786437067+0j) [Y0 X1 X3 Y4] +\n",
      "(-0.02515964583989785+0j) [Y0 X1 X3 Z4 Z5 Y6] +\n",
      "(0.01711452882177468+0j) [Y0 X1 X4 Y5] +\n",
      "(0.0009891049103628584+0j) [Y0 X1 X4 Z5 Z6 Y7] +\n",
      "(-0.0009891049103628584+0j) [Y0 X1 X5 Y6] +\n",
      "(0.054698565746849455+0j) [Y0 X1 X6 Y7] +\n",
      "(-0.025810254414814857+0j) [Y0 Y1 X2 X3] +\n",
      "(-0.012799934786437067+0j) [Y0 Y1 X2 Z3 Z4 X5] +\n",
      "(-0.02515964583989785+0j) [Y0 Y1 X2 Z3 Z4 Z5 Z6 X7] +\n",
      "(-0.012799934786437067+0j) [Y0 Y1 Y3 Y4] +\n",
      "(-0.02515964583989785+0j) [Y0 Y1 Y3 Z4 Z5 Y6] +\n",
      "(-0.01711452882177468+0j) [Y0 Y1 X4 X5] +\n",
      "(-0.0009891049103628584+0j) [Y0 Y1 X4 Z5 Z6 X7] +\n",
      "(-0.0009891049103628584+0j) [Y0 Y1 Y5 Y6] +\n",
      "(-0.054698565746849455+0j) [Y0 Y1 X6 X7] +\n",
      "(0.007007745782078484+0j) [Y0 Z1 X2 X4 Z5 Y6] +\n",
      "(0.00257790517941155+0j) [Y0 Z1 Y2] +\n",
      "(0.004766148105680643+0j) [Y0 Z1 Y2 X3 Z4 X5] +\n",
      "(-0.009264702923307774+0j) [Y0 Z1 Y2 X3 Z4 Z5 Z6 X7] +\n",
      "(0.004766148105680643+0j) [Y0 Z1 Y2 Y3 Z4 Y5] +\n",
      "(-0.009264702923307774+0j) [Y0 Z1 Y2 Y3 Z4 Z5 Z6 Y7] +\n",
      "(-0.00816554467721447+0j) [Y0 Z1 Y2 Z3] +\n",
      "(0.004031429608004318+0j) [Y0 Z1 Y2 X4 Z5 X6] +\n",
      "(0.011039175390082806+0j) [Y0 Z1 Y2 Y4 Z5 Y6] +\n",
      "(-0.0012599890155228469+0j) [Y0 Z1 Y2 Z4] +\n",
      "(0.008519234528352909+0j) [Y0 Z1 Y2 X5 Z6 X7] +\n",
      "(0.008519234528352909+0j) [Y0 Z1 Y2 Y5 Z6 Y7] +\n",
      "(-0.016838291919083+0j) [Y0 Z1 Y2 Z5] +\n",
      "(0.018855524349035244+0j) [Y0 Z1 Y2 Z6] +\n",
      "(0.04260557457088636+0j) [Y0 Z1 Y2 Z7] +\n",
      "(0.015578302903560156+0j) [Y0 Z1 Z2 X3 X4 Y5] +\n",
      "(0.0044878049203485905+0j) [Y0 Z1 Z2 X3 X4 Z5 Z6 Y7] +\n",
      "(0.0025199408617298928+0j) [Y0 Z1 Z2 X3 X5 Y6] +\n",
      "(-0.023750050221851116+0j) [Y0 Z1 Z2 X3 X6 Y7] +\n",
      "(-0.015578302903560156+0j) [Y0 Z1 Z2 Y3 X4 X5] +\n",
      "(-0.0044878049203485905+0j) [Y0 Z1 Z2 Y3 X4 Z5 Z6 X7] +\n",
      "(0.0025199408617298928+0j) [Y0 Z1 Z2 Y3 Y5 Y6] +\n",
      "(0.023750050221851116+0j) [Y0 Z1 Z2 Y3 X6 X7] +\n",
      "(0.05776205910137969+0j) [Y0 Z1 Z2 Z3 Y4] +\n",
      "(0.00904315100958098+0j) [Y0 Z1 Z2 Z3 Y4 X5 Z6 X7] +\n",
      "(0.00904315100958098+0j) [Y0 Z1 Z2 Z3 Y4 Y5 Z6 Y7] +\n",
      "(-0.03282295150197554+0j) [Y0 Z1 Z2 Z3 Y4 Z5] +\n",
      "(-0.0008004024320858147+0j) [Y0 Z1 Z2 Z3 Y4 Z6] +\n",
      "(-0.00029621267986835667+0j) [Y0 Z1 Z2 Z3 Y4 Z7] +\n",
      "(-0.0005041897522174581+0j) [Y0 Z1 Z2 Z3 Z4 X5 X6 Y7] +\n",
      "(0.0005041897522174581+0j) [Y0 Z1 Z2 Z3 Z4 Y5 X6 X7] +\n",
      "(-0.03866070666863633+0j) [Y0 Z1 Z2 Z3 Z4 Z5 Y6] +\n",
      "(0.07064370485657402+0j) [Y0 Z1 Z2 Z3 Z4 Z5 Y6 Z7] +\n",
      "(0.0041305179968442+0j) [Y0 Z1 Z2 Z3 Z4 Y6] +\n",
      "(0.013173669006425177+0j) [Y0 Z1 Z2 Z3 Z5 Y6] +\n",
      "(-0.018902191774470507+0j) [Y0 Z1 Z2 Y4] +\n",
      "(0.012909964467237616+0j) [Y0 Z1 Z2 Z4 Z5 Y6] +\n",
      "(-0.014136043668789863+0j) [Y0 Z1 Z3 Y4] +\n",
      "(0.0036452615439298438+0j) [Y0 Z1 Z3 Z4 Z5 Y6] +\n",
      "(0.03777517825610069+0j) [Y0 Y2] +\n",
      "(-0.00919574296442882+0j) [Y0 Z2 Z3 Y4] +\n",
      "(0.06584241123629478+0j) [Y0 Z2 Z3 Z4 Z5 Y6] +\n",
      "(0.13990631760825956+0j) [Z0] +\n",
      "(0.03777517825610069+0j) [Z0 X1 Z2 X3] +\n",
      "(-0.00919574296442882+0j) [Z0 X1 Z2 Z3 Z4 X5] +\n",
      "(0.06584241123629476+0j) [Z0 X1 Z2 Z3 Z4 Z5 Z6 X7] +\n",
      "(0.03777517825610069+0j) [Z0 Y1 Z2 Y3] +\n",
      "(-0.00919574296442882+0j) [Z0 Y1 Z2 Z3 Z4 Y5] +\n",
      "(0.06584241123629476+0j) [Z0 Y1 Z2 Z3 Z4 Z5 Z6 Y7] +\n",
      "(0.24991838793690854+0j) [Z0 Z1] +\n",
      "(-0.022845258753351378+0j) [Z0 X2 Z3 X4] +\n",
      "(-0.018031114213528963+0j) [Z0 X2 Z3 Z4 Z5 X6] +\n",
      "(-0.022845258753351378+0j) [Z0 Y2 Z3 Y4] +\n",
      "(-0.018031114213528963+0j) [Z0 Y2 Z3 Z4 Z5 Y6] +\n",
      "(0.11107234328900775+0j) [Z0 Z2] +\n",
      "(-0.03564519353978844+0j) [Z0 X3 Z4 X5] +\n",
      "(-0.043190760053426806+0j) [Z0 X3 Z4 Z5 Z6 X7] +\n",
      "(-0.03564519353978844+0j) [Z0 Y3 Z4 Y5] +\n",
      "(-0.043190760053426806+0j) [Z0 Y3 Z4 Z5 Z6 Y7] +\n",
      "(0.1368825977038226+0j) [Z0 Z3] +\n",
      "(0.004190195454530474+0j) [Z0 X4 Z5 X6] +\n",
      "(0.004190195454530474+0j) [Z0 Y4 Z5 Y6] +\n",
      "(0.1260266089945915+0j) [Z0 Z4] +\n",
      "(0.003201090544167615+0j) [Z0 X5 Z6 X7] +\n",
      "(0.003201090544167615+0j) [Z0 Y5 Z6 Y7] +\n",
      "(0.1431411378163662+0j) [Z0 Z5] +\n",
      "(0.1764219495897227+0j) [Z0 Z6] +\n",
      "(0.23112051533657219+0j) [Z0 Z7] +\n",
      "(-0.0047661481056806435+0j) [X1 X2 Y3 Y4] +\n",
      "(0.009264702923307774+0j) [X1 X2 Y3 Z4 Z5 Y6] +\n",
      "(-0.015578302903560156+0j) [X1 X2 X4 X5] +\n",
      "(0.0025199408617298928+0j) [X1 X2 X4 Z5 Z6 X7] +\n",
      "(-0.0044878049203485905+0j) [X1 X2 Y5 Y6] +\n",
      "(0.023750050221851116+0j) [X1 X2 X6 X7] +\n",
      "(0.0047661481056806435+0j) [X1 Y2 Y3 X4] +\n",
      "(-0.009264702923307774+0j) [X1 Y2 Y3 Z4 Z5 X6] +\n",
      "(-0.015578302903560156+0j) [X1 Y2 Y4 X5] +\n",
      "(0.0025199408617298928+0j) [X1 Y2 Y4 Z5 Z6 X7] +\n",
      "(0.0044878049203485905+0j) [X1 Y2 Y5 X6] +\n",
      "(0.023750050221851116+0j) [X1 Y2 Y6 X7] +\n",
      "(0.002577905179411542+0j) [X1 Z2 X3] +\n",
      "(0.008519234528352909+0j) [X1 Z2 X3 X4 Z5 X6] +\n",
      "(0.008519234528352909+0j) [X1 Z2 X3 Y4 Z5 Y6] +\n",
      "(-0.016838291919083+0j) [X1 Z2 X3 Z4] +\n",
      "(0.011039175390082806+0j) [X1 Z2 X3 X5 Z6 X7] +\n",
      "(0.004031429608004318+0j) [X1 Z2 X3 Y5 Z6 Y7] +\n",
      "(-0.0012599890155228469+0j) [X1 Z2 X3 Z5] +\n",
      "(0.04260557457088636+0j) [X1 Z2 X3 Z6] +\n",
      "(0.018855524349035244+0j) [X1 Z2 X3 Z7] +\n",
      "(0.007007745782078484+0j) [X1 Z2 Y3 Y5 Z6 X7] +\n",
      "(-0.00904315100958098+0j) [X1 Z2 Z3 X4 Y5 Y6] +\n",
      "(0.0005041897522174581+0j) [X1 Z2 Z3 X4 X6 X7] +\n",
      "(0.00904315100958098+0j) [X1 Z2 Z3 Y4 Y5 X6] +\n",
      "(0.0005041897522174581+0j) [X1 Z2 Z3 Y4 Y6 X7] +\n",
      "(0.05776205910137969+0j) [X1 Z2 Z3 Z4 X5] +\n",
      "(-0.00029621267986835667+0j) [X1 Z2 Z3 Z4 X5 Z6] +\n",
      "(-0.0008004024320858147+0j) [X1 Z2 Z3 Z4 X5 Z7] +\n",
      "(-0.0386607066686363+0j) [X1 Z2 Z3 Z4 Z5 Z6 X7] +\n",
      "(0.07064370485657402+0j) [X1 Z2 Z3 Z4 Z5 X7] +\n",
      "(0.013173669006425177+0j) [X1 Z2 Z3 Z4 Z6 X7] +\n",
      "(-0.03282295150197555+0j) [X1 Z2 Z3 X5] +\n",
      "(0.0041305179968442+0j) [X1 Z2 Z3 Z5 Z6 X7] +\n",
      "(-0.014136043668789863+0j) [X1 Z2 Z4 X5] +\n",
      "(0.0036452615439298438+0j) [X1 Z2 Z4 Z5 Z6 X7] +\n",
      "(-0.00816554467721447+0j) [X1 X3] +\n",
      "(-0.018902191774470507+0j) [X1 Z3 Z4 X5] +\n",
      "(0.012909964467237616+0j) [X1 Z3 Z4 Z5 Z6 X7] +\n",
      "(0.0047661481056806435+0j) [Y1 X2 X3 Y4] +\n",
      "(-0.009264702923307774+0j) [Y1 X2 X3 Z4 Z5 Y6] +\n",
      "(-0.015578302903560156+0j) [Y1 X2 X4 Y5] +\n",
      "(0.0025199408617298928+0j) [Y1 X2 X4 Z5 Z6 Y7] +\n",
      "(0.0044878049203485905+0j) [Y1 X2 X5 Y6] +\n",
      "(0.023750050221851116+0j) [Y1 X2 X6 Y7] +\n",
      "(-0.0047661481056806435+0j) [Y1 Y2 X3 X4] +\n",
      "(0.009264702923307774+0j) [Y1 Y2 X3 Z4 Z5 X6] +\n",
      "(-0.015578302903560156+0j) [Y1 Y2 Y4 Y5] +\n",
      "(0.0025199408617298928+0j) [Y1 Y2 Y4 Z5 Z6 Y7] +\n",
      "(-0.0044878049203485905+0j) [Y1 Y2 X5 X6] +\n",
      "(0.023750050221851116+0j) [Y1 Y2 Y6 Y7] +\n",
      "(0.007007745782078484+0j) [Y1 Z2 X3 X5 Z6 Y7] +\n",
      "(0.002577905179411542+0j) [Y1 Z2 Y3] +\n",
      "(0.008519234528352909+0j) [Y1 Z2 Y3 X4 Z5 X6] +\n",
      "(0.008519234528352909+0j) [Y1 Z2 Y3 Y4 Z5 Y6] +\n",
      "(-0.016838291919083+0j) [Y1 Z2 Y3 Z4] +\n",
      "(0.004031429608004318+0j) [Y1 Z2 Y3 X5 Z6 X7] +\n",
      "(0.011039175390082806+0j) [Y1 Z2 Y3 Y5 Z6 Y7] +\n",
      "(-0.0012599890155228469+0j) [Y1 Z2 Y3 Z5] +\n",
      "(0.04260557457088636+0j) [Y1 Z2 Y3 Z6] +\n",
      "(0.018855524349035244+0j) [Y1 Z2 Y3 Z7] +\n",
      "(0.00904315100958098+0j) [Y1 Z2 Z3 X4 X5 Y6] +\n",
      "(0.0005041897522174581+0j) [Y1 Z2 Z3 X4 X6 Y7] +\n",
      "(-0.00904315100958098+0j) [Y1 Z2 Z3 Y4 X5 X6] +\n",
      "(0.0005041897522174581+0j) [Y1 Z2 Z3 Y4 Y6 Y7] +\n",
      "(0.05776205910137969+0j) [Y1 Z2 Z3 Z4 Y5] +\n",
      "(-0.00029621267986835667+0j) [Y1 Z2 Z3 Z4 Y5 Z6] +\n",
      "(-0.0008004024320858147+0j) [Y1 Z2 Z3 Z4 Y5 Z7] +\n",
      "(-0.0386607066686363+0j) [Y1 Z2 Z3 Z4 Z5 Z6 Y7] +\n",
      "(0.07064370485657402+0j) [Y1 Z2 Z3 Z4 Z5 Y7] +\n",
      "(0.013173669006425177+0j) [Y1 Z2 Z3 Z4 Z6 Y7] +\n",
      "(-0.03282295150197555+0j) [Y1 Z2 Z3 Y5] +\n",
      "(0.0041305179968442+0j) [Y1 Z2 Z3 Z5 Z6 Y7] +\n",
      "(-0.014136043668789863+0j) [Y1 Z2 Z4 Y5] +\n",
      "(0.0036452615439298438+0j) [Y1 Z2 Z4 Z5 Z6 Y7] +\n",
      "(-0.00816554467721447+0j) [Y1 Y3] +\n",
      "(-0.018902191774470507+0j) [Y1 Z3 Z4 Y5] +\n",
      "(0.012909964467237616+0j) [Y1 Z3 Z4 Z5 Z6 Y7] +\n",
      "(0.1399063176082592+0j) [Z1] +\n",
      "(-0.03564519353978844+0j) [Z1 X2 Z3 X4] +\n",
      "(-0.043190760053426806+0j) [Z1 X2 Z3 Z4 Z5 X6] +\n",
      "(-0.03564519353978844+0j) [Z1 Y2 Z3 Y4] +\n",
      "(-0.043190760053426806+0j) [Z1 Y2 Z3 Z4 Z5 Y6] +\n",
      "(0.1368825977038226+0j) [Z1 Z2] +\n",
      "(-0.022845258753351378+0j) [Z1 X3 Z4 X5] +\n",
      "(-0.018031114213528963+0j) [Z1 X3 Z4 Z5 Z6 X7] +\n",
      "(-0.022845258753351378+0j) [Z1 Y3 Z4 Y5] +\n",
      "(-0.018031114213528963+0j) [Z1 Y3 Z4 Z5 Z6 Y7] +\n",
      "(0.11107234328900775+0j) [Z1 Z3] +\n",
      "(0.003201090544167615+0j) [Z1 X4 Z5 X6] +\n",
      "(0.003201090544167615+0j) [Z1 Y4 Z5 Y6] +\n",
      "(0.1431411378163662+0j) [Z1 Z4] +\n",
      "(0.004190195454530474+0j) [Z1 X5 Z6 X7] +\n",
      "(0.004190195454530474+0j) [Z1 Y5 Z6 Y7] +\n",
      "(0.1260266089945915+0j) [Z1 Z5] +\n",
      "(0.23112051533657219+0j) [Z1 Z6] +\n",
      "(0.1764219495897227+0j) [Z1 Z7] +\n",
      "(-0.026562524812130558+0j) [X2 X3 Y4 Y5] +\n",
      "(-0.009524965740543916+0j) [X2 X3 Y4 Z5 Z6 Y7] +\n",
      "(-0.009524965740543916+0j) [X2 X3 X5 X6] +\n",
      "(-0.015257972303396428+0j) [X2 X3 Y6 Y7] +\n",
      "(0.026562524812130558+0j) [X2 Y3 Y4 X5] +\n",
      "(0.009524965740543916+0j) [X2 Y3 Y4 Z5 Z6 X7] +\n",
      "(-0.009524965740543916+0j) [X2 Y3 Y5 X6] +\n",
      "(0.015257972303396428+0j) [X2 Y3 Y6 X7] +\n",
      "(0.061555459243432996+0j) [X2 Z3 X4] +\n",
      "(0.0049245567981603304+0j) [X2 Z3 X4 X5 Z6 X7] +\n",
      "(0.0049245567981603304+0j) [X2 Z3 X4 Y5 Z6 Y7] +\n",
      "(-0.04391861024579745+0j) [X2 Z3 X4 Z5] +\n",
      "(-0.024349063112351667+0j) [X2 Z3 X4 Z6] +\n",
      "(-0.02553824321562361+0j) [X2 Z3 X4 Z7] +\n",
      "(-0.0011891801032719498+0j) [X2 Z3 Z4 X5 Y6 Y7] +\n",
      "(0.0011891801032719498+0j) [X2 Z3 Z4 Y5 Y6 X7] +\n",
      "(0.02021832180251949+0j) [X2 Z3 Z4 Z5 X6] +\n",
      "(-0.04084731997672772+0j) [X2 Z3 Z4 Z5 X6 Z7] +\n",
      "(-0.016404649210113323+0j) [X2 Z3 Z4 X6] +\n",
      "(-0.011480092411952993+0j) [X2 Z3 Z5 X6] +\n",
      "(-0.026239994906975466+0j) [X2 X4] +\n",
      "(-0.012708134346713322+0j) [X2 Z4 Z5 X6] +\n",
      "(0.026562524812130558+0j) [Y2 X3 X4 Y5] +\n",
      "(0.009524965740543916+0j) [Y2 X3 X4 Z5 Z6 Y7] +\n",
      "(-0.009524965740543916+0j) [Y2 X3 X5 Y6] +\n",
      "(0.015257972303396428+0j) [Y2 X3 X6 Y7] +\n",
      "(-0.026562524812130558+0j) [Y2 Y3 X4 X5] +\n",
      "(-0.009524965740543916+0j) [Y2 Y3 X4 Z5 Z6 X7] +\n",
      "(-0.009524965740543916+0j) [Y2 Y3 Y5 Y6] +\n",
      "(-0.015257972303396428+0j) [Y2 Y3 X6 X7] +\n",
      "(0.061555459243432996+0j) [Y2 Z3 Y4] +\n",
      "(0.0049245567981603304+0j) [Y2 Z3 Y4 X5 Z6 X7] +\n",
      "(0.0049245567981603304+0j) [Y2 Z3 Y4 Y5 Z6 Y7] +\n",
      "(-0.04391861024579745+0j) [Y2 Z3 Y4 Z5] +\n",
      "(-0.024349063112351667+0j) [Y2 Z3 Y4 Z6] +\n",
      "(-0.02553824321562361+0j) [Y2 Z3 Y4 Z7] +\n",
      "(0.0011891801032719498+0j) [Y2 Z3 Z4 X5 X6 Y7] +\n",
      "(-0.0011891801032719498+0j) [Y2 Z3 Z4 Y5 X6 X7] +\n",
      "(0.02021832180251949+0j) [Y2 Z3 Z4 Z5 Y6] +\n",
      "(-0.04084731997672772+0j) [Y2 Z3 Z4 Z5 Y6 Z7] +\n",
      "(-0.016404649210113323+0j) [Y2 Z3 Z4 Y6] +\n",
      "(-0.011480092411952993+0j) [Y2 Z3 Z5 Y6] +\n",
      "(-0.026239994906975466+0j) [Y2 Y4] +\n",
      "(-0.012708134346713322+0j) [Y2 Z4 Z5 Y6] +\n",
      "(-0.24607368520019784+0j) [Z2] +\n",
      "(-0.026239994906975466+0j) [Z2 X3 Z4 X5] +\n",
      "(-0.012708134346713322+0j) [Z2 X3 Z4 Z5 Z6 X7] +\n",
      "(-0.026239994906975466+0j) [Z2 Y3 Z4 Y5] +\n",
      "(-0.012708134346713322+0j) [Z2 Y3 Z4 Z5 Z6 Y7] +\n",
      "(0.13657384315761112+0j) [Z2 Z3] +\n",
      "(-0.0006235414810887348+0j) [Z2 X4 Z5 X6] +\n",
      "(-0.0006235414810887348+0j) [Z2 Y4 Z5 Y6] +\n",
      "(0.1140766441811932+0j) [Z2 Z4] +\n",
      "(-0.01014850722163265+0j) [Z2 X5 Z6 X7] +\n",
      "(-0.01014850722163265+0j) [Z2 Y5 Z6 Y7] +\n",
      "(0.14063916899332374+0j) [Z2 Z5] +\n",
      "(0.10734715467055676+0j) [Z2 Z6] +\n",
      "(0.12260512697395319+0j) [Z2 Z7] +\n",
      "(-0.00492455679816033+0j) [X3 X4 Y5 Y6] +\n",
      "(-0.0011891801032719498+0j) [X3 X4 X6 X7] +\n",
      "(0.00492455679816033+0j) [X3 Y4 Y5 X6] +\n",
      "(-0.0011891801032719498+0j) [X3 Y4 Y6 X7] +\n",
      "(0.06155545924343299+0j) [X3 Z4 X5] +\n",
      "(-0.02553824321562361+0j) [X3 Z4 X5 Z6] +\n",
      "(-0.024349063112351667+0j) [X3 Z4 X5 Z7] +\n",
      "(0.0202183218025195+0j) [X3 Z4 Z5 Z6 X7] +\n",
      "(-0.04084731997672772+0j) [X3 Z4 Z5 X7] +\n",
      "(-0.011480092411952993+0j) [X3 Z4 Z6 X7] +\n",
      "(-0.04391861024579745+0j) [X3 X5] +\n",
      "(-0.016404649210113323+0j) [X3 Z5 Z6 X7] +\n",
      "(0.00492455679816033+0j) [Y3 X4 X5 Y6] +\n",
      "(-0.0011891801032719498+0j) [Y3 X4 X6 Y7] +\n",
      "(-0.00492455679816033+0j) [Y3 Y4 X5 X6] +\n",
      "(-0.0011891801032719498+0j) [Y3 Y4 Y6 Y7] +\n",
      "(0.06155545924343299+0j) [Y3 Z4 Y5] +\n",
      "(-0.02553824321562361+0j) [Y3 Z4 Y5 Z6] +\n",
      "(-0.024349063112351667+0j) [Y3 Z4 Y5 Z7] +\n",
      "(0.0202183218025195+0j) [Y3 Z4 Z5 Z6 Y7] +\n",
      "(-0.04084731997672772+0j) [Y3 Z4 Z5 Y7] +\n",
      "(-0.011480092411952993+0j) [Y3 Z4 Z6 Y7] +\n",
      "(-0.04391861024579745+0j) [Y3 Y5] +\n",
      "(-0.016404649210113323+0j) [Y3 Z5 Z6 Y7] +\n",
      "(-0.24607368520019784+0j) [Z3] +\n",
      "(-0.01014850722163265+0j) [Z3 X4 Z5 X6] +\n",
      "(-0.01014850722163265+0j) [Z3 Y4 Z5 Y6] +\n",
      "(0.14063916899332374+0j) [Z3 Z4] +\n",
      "(-0.0006235414810887348+0j) [Z3 X5 Z6 X7] +\n",
      "(-0.0006235414810887348+0j) [Z3 Y5 Z6 Y7] +\n",
      "(0.1140766441811932+0j) [Z3 Z5] +\n",
      "(0.12260512697395319+0j) [Z3 Z6] +\n",
      "(0.10734715467055676+0j) [Z3 Z7] +\n",
      "(-0.007546384867913551+0j) [X4 X5 Y6 Y7] +\n",
      "(0.007546384867913551+0j) [X4 Y5 Y6 X7] +\n",
      "(0.025076832570125388+0j) [X4 Z5 X6] +\n",
      "(0.007525507498881422+0j) [X4 Z5 X6 Z7] +\n",
      "(-0.014439005534589724+0j) [X4 X6] +\n",
      "(0.007546384867913551+0j) [Y4 X5 X6 Y7] +\n",
      "(-0.007546384867913551+0j) [Y4 Y5 X6 X7] +\n",
      "(0.025076832570125388+0j) [Y4 Z5 Y6] +\n",
      "(0.007525507498881422+0j) [Y4 Z5 Y6 Z7] +\n",
      "(-0.014439005534589724+0j) [Y4 Y6] +\n",
      "(-0.6730850144698564+0j) [Z4] +\n",
      "(-0.014439005534589726+0j) [Z4 X5 Z6 X7] +\n",
      "(-0.014439005534589726+0j) [Z4 Y5 Z6 Y7] +\n",
      "(0.17095384888864107+0j) [Z4 Z5] +\n",
      "(0.11356297243590359+0j) [Z4 Z6] +\n",
      "(0.12110935730381714+0j) [Z4 Z7] +\n",
      "(0.025076832570125388+0j) [X5 Z6 X7] +\n",
      "(0.007525507498881423+0j) [X5 X7] +\n",
      "(0.025076832570125388+0j) [Y5 Z6 Y7] +\n",
      "(0.007525507498881423+0j) [Y5 Y7] +\n",
      "(-0.6730850144698564+0j) [Z5] +\n",
      "(0.12110935730381714+0j) [Z5 Z6] +\n",
      "(0.11356297243590359+0j) [Z5 Z7] +\n",
      "(-1.1402165324907318+0j) [Z6] +\n",
      "(0.23196260932848478+0j) [Z6 Z7] +\n",
      "(-1.1402165324907318+0j) [Z7] \n",
      "\n"
     ]
    },
    {
     "name": "stdout",
     "output_type": "stream",
     "text": [
      "UCCSD ansatz: \n",
      " 0.006478936130102838j [X0 X1 X2 Y3] +\n",
      "0.006478936130102838j [X0 X1 Y2 X3] +\n",
      "0.0020562744029710704j [X0 X1 X4 Y5] +\n",
      "0.0020562744029710704j [X0 X1 Y4 X5] +\n",
      "0.005083283191416048j [X0 X1 X6 Y7] +\n",
      "0.005083283191416048j [X0 X1 Y6 X7] +\n",
      "-0.006478936130102838j [X0 Y1 X2 X3] +\n",
      "0.006478936130102838j [X0 Y1 Y2 Y3] +\n",
      "-0.0020562744029710704j [X0 Y1 X4 X5] +\n",
      "0.0020562744029710704j [X0 Y1 Y4 Y5] +\n",
      "-0.005083283191416048j [X0 Y1 X6 X7] +\n",
      "0.005083283191416048j [X0 Y1 Y6 Y7] +\n",
      "-0.006360390047729467j [X0 Z1 Y2] +\n",
      "-0.002645411873769119j [X0 Z1 Z2 Z3 Y4] +\n",
      "0.0009221551709274561j [X0 Z1 Z2 Z3 Z4 Z5 Y6] +\n",
      "-0.006478936130102838j [Y0 X1 X2 X3] +\n",
      "0.006478936130102838j [Y0 X1 Y2 Y3] +\n",
      "-0.0020562744029710704j [Y0 X1 X4 X5] +\n",
      "0.0020562744029710704j [Y0 X1 Y4 Y5] +\n",
      "-0.005083283191416048j [Y0 X1 X6 X7] +\n",
      "0.005083283191416048j [Y0 X1 Y6 Y7] +\n",
      "-0.006478936130102838j [Y0 Y1 X2 Y3] +\n",
      "-0.006478936130102838j [Y0 Y1 Y2 X3] +\n",
      "-0.0020562744029710704j [Y0 Y1 X4 Y5] +\n",
      "-0.0020562744029710704j [Y0 Y1 Y4 X5] +\n",
      "-0.005083283191416048j [Y0 Y1 X6 Y7] +\n",
      "-0.005083283191416048j [Y0 Y1 Y6 X7] +\n",
      "0.006360390047729467j [Y0 Z1 X2] +\n",
      "0.002645411873769119j [Y0 Z1 Z2 Z3 X4] +\n",
      "-0.0009221551709274561j [Y0 Z1 Z2 Z3 Z4 Z5 X6] +\n",
      "-0.006360390047729467j [X1 Z2 Y3] +\n",
      "-0.002645411873769119j [X1 Z2 Z3 Z4 Y5] +\n",
      "0.0009221551709274561j [X1 Z2 Z3 Z4 Z5 Z6 Y7] +\n",
      "0.006360390047729467j [Y1 Z2 X3] +\n",
      "0.002645411873769119j [Y1 Z2 Z3 Z4 X5] +\n",
      "-0.0009221551709274561j [Y1 Z2 Z3 Z4 Z5 Z6 X7]\n"
     ]
    }
   ],
   "source": [
    "import openfermion\n",
    "import openfermionpyscf\n",
    "from openfermion import MolecularData\n",
    "from openfermionpyscf import run_pyscf\n",
    "from openfermion.ops import FermionOperator, QubitOperator\n",
    "from openfermion.transforms import jordan_wigner, bravyi_kitaev\n",
    "from openfermion.transforms import get_fermion_operator\n",
    "from openfermion.circuits import (uccsd_singlet_get_packed_amplitudes,\n",
    "                               uccsd_singlet_generator, uccsd_generator,\n",
    "                               uccsd_convert_amplitude_format)\n",
    "\n",
    "singlet_bool = True # Set general UCCSD or singlet UCCSD.\n",
    "\n",
    "bond_len = 0.772#1.45\n",
    "atom_1 = 'He'\n",
    "atom_2 = 'H'\n",
    "basis = '3-21g'\n",
    "multiplicity = 1\n",
    "charge = 1\n",
    "\n",
    "coordinate_1 = (0.0, 0.0, 0.0)\n",
    "coordinate_2 = (0.0, 0.0, bond_len)\n",
    "geometry = [(atom_1, coordinate_1), (atom_2, coordinate_2)]\n",
    "\n",
    "molecule_data = MolecularData(geometry, basis, multiplicity, charge, description='Test')\n",
    "#molecule.load()\n",
    "\n",
    "# Set calculation parameters.\n",
    "run_scf = 1\n",
    "run_mp2 = 1\n",
    "run_cisd = 0\n",
    "run_ccsd = 0\n",
    "run_fci = 1\n",
    "delete_input = True\n",
    "delete_output = True\n",
    "\n",
    "# Run pyscf.\n",
    "molecule = run_pyscf(molecule_data,\n",
    "                     run_scf=run_scf,\n",
    "                     run_mp2=run_mp2,\n",
    "                     run_cisd=run_cisd,\n",
    "                     run_ccsd=run_ccsd,\n",
    "                     run_fci=run_fci)\n",
    "\n",
    "#molecule.load()\n",
    "#print(molecule)\n",
    "\n",
    "ham_f = get_fermion_operator(molecule.get_molecular_hamiltonian())\n",
    "ham_q = jordan_wigner(ham_f)\n",
    "print('Hamiltonian:', '\\n', ham_q, '\\n')\n",
    "\n",
    "scf = True      # Hartree-Fock.\n",
    "mp2 = True      # Moller-Plesset 2.\n",
    "cisd = True     # Configuration interaction singles and doubles.\n",
    "ccsd = True     # Coupled cluster singles and doubles.\n",
    "fci = True      # Full configuration interaction.\n",
    "\n",
    "calculated_molecule = run_pyscf(molecule_data, scf, mp2, cisd, ccsd, fci)\n",
    "\n",
    "if ccsd:\n",
    "    ccsd_single_amps = calculated_molecule.ccsd_single_amps\n",
    "    ccsd_double_amps = calculated_molecule.ccsd_double_amps\n",
    "\n",
    "num_electrons = calculated_molecule.n_electrons\n",
    "num_qubits = 2*calculated_molecule.n_orbitals\n",
    "\n",
    "if singlet_bool:\n",
    "    # Get singlet UCCSD generator.\n",
    "    packed_amps = uccsd_singlet_get_packed_amplitudes(ccsd_single_amps,  ccsd_double_amps, num_qubits, num_electrons)\n",
    "    ucc_sing = uccsd_singlet_generator(packed_amps, num_qubits, num_electrons)\n",
    "    #print(ucc_sing)\n",
    "\n",
    "else:\n",
    "    # Get general UCCSD operator.\n",
    "    ucc_op = uccsd_generator(ccsd_single_amps, ccsd_double_amps)\n",
    "    #print(ucc_op)\n",
    "    \n",
    "ucc_q = jordan_wigner(ucc_sing)\n",
    "ucc = qonvert.QubitOperator_to_dict(ucc_q, num_qubits)\n",
    "print('UCCSD ansatz:', '\\n', ucc_q)"
   ]
  },
  {
   "cell_type": "code",
   "execution_count": 3,
   "metadata": {},
   "outputs": [],
   "source": [
    "#ia, theta1 = Get_UCCSD_ia_terms(calculated_molecule.n_electrons, calculated_molecule.n_orbitals)\n",
    "#ijab, theta2 = Get_UCCSD_ijab_terms(calculated_molecule.n_electrons, calculated_molecule.n_orbitals)"
   ]
  },
  {
   "cell_type": "code",
   "execution_count": null,
   "metadata": {},
   "outputs": [],
   "source": []
  },
  {
   "cell_type": "code",
   "execution_count": 4,
   "metadata": {},
   "outputs": [],
   "source": [
    "hamiltonian = qonvert.QubitOperator_to_dict(ham_q, num_qubits)#\n",
    "terms_noncon = c_tools.greedy_dfs(hamiltonian, 1, criterion='weight')[-1]"
   ]
  },
  {
   "cell_type": "code",
   "execution_count": 5,
   "metadata": {},
   "outputs": [],
   "source": [
    "order = [6, 7, 0, 1, 2, 3, 4, 5]\n",
    "circs = cs_circ.cs_vqe_circuit(hamiltonian, terms_noncon, num_qubits, order, rot_A=True, rot_override=True)"
   ]
  },
  {
   "cell_type": "code",
   "execution_count": 6,
   "metadata": {},
   "outputs": [
    {
     "data": {
      "text/plain": [
       "{'IZZZZZXI': -0.04017214146220663, 'IIIIIIZI': 0.999192773718035}"
      ]
     },
     "execution_count": 6,
     "metadata": {},
     "output_type": "execute_result"
    }
   ],
   "source": [
    "A = circs.A\n",
    "A"
   ]
  },
  {
   "cell_type": "code",
   "execution_count": 7,
   "metadata": {},
   "outputs": [],
   "source": [
    "#print('Expectation Value of A:', circs.CS_VQE(ucc, 8, A)['result'])"
   ]
  },
  {
   "cell_type": "code",
   "execution_count": 8,
   "metadata": {},
   "outputs": [
    {
     "name": "stdout",
     "output_type": "stream",
     "text": [
      "*Performing CS-VQE over the following qubit positions: (1,)\n"
     ]
    },
    {
     "name": "stderr",
     "output_type": "stream",
     "text": [
      "/home/tim/anaconda3/lib/python3.7/site-packages/qiskit/circuit/quantumcircuit.py:876: DeprecationWarning: The QuantumCircuit.extend() method is being deprecated. Use the compose() (potentially with the inplace=True argument) and tensor() methods which are more flexible w.r.t circuit register compatibility.\n",
      "  return self.extend(rhs)\n",
      "/home/tim/anaconda3/lib/python3.7/site-packages/scipy/sparse/linalg/eigen/arpack/arpack.py:1268: RuntimeWarning: k >= N - 1 for N * N square matrix. Attempting to use scipy.linalg.eig instead.\n",
      "  RuntimeWarning)\n"
     ]
    },
    {
     "name": "stdout",
     "output_type": "stream",
     "text": [
      "*Performing CS-VQE over the following qubit positions: (1, 0)\n",
      "*Performing CS-VQE over the following qubit positions: (7, 1, 0)\n",
      "*Performing CS-VQE over the following qubit positions: (7, 6, 1, 0)\n"
     ]
    }
   ],
   "source": [
    "cs_vqe_results = circs.run_cs_vqe(ucc, max_sim_q = 4, iters=1)"
   ]
  },
  {
   "cell_type": "code",
   "execution_count": 9,
   "metadata": {},
   "outputs": [
    {
     "data": {
      "image/png": "[encoded data removed]",
      "text/plain": [
       "<Figure size 864x864 with 8 Axes>"
      ]
     },
     "metadata": {
      "needs_background": "light"
     },
     "output_type": "display_data"
    }
   ],
   "source": [
    "fig = plot.plot_cs_vqe_convergence(data=cs_vqe_results, title='test')"
   ]
  },
  {
   "cell_type": "code",
   "execution_count": 10,
   "metadata": {},
   "outputs": [
    {
     "data": {
      "text/plain": [
       "{'IZZZZZXI': -0.04017214146220663, 'IIIIIIZI': 0.999192773718035}"
      ]
     },
     "execution_count": 10,
     "metadata": {},
     "output_type": "execute_result"
    }
   ],
   "source": [
    "A"
   ]
  },
  {
   "cell_type": "code",
   "execution_count": 11,
   "metadata": {},
   "outputs": [
    {
     "name": "stdout",
     "output_type": "stream",
     "text": [
      "[[1.5306133725051196, 'YZZZZZXZ'], ['pi/2', 'IZZZZZYI']] -0.04018295428977698\n"
     ]
    },
    {
     "data": {
      "text/plain": [
       "{'IIIIIIZI': 1.0}"
      ]
     },
     "execution_count": 11,
     "metadata": {},
     "output_type": "execute_result"
    }
   ],
   "source": [
    "rot_A = circs.A_rotations\n",
    "A = circs.A\n",
    "r1 = list(A.values())[0]\n",
    "r2 = list(A.values())[1]\n",
    "t = np.arctan(r1/r2)\n",
    "print(rot_A, t)\n",
    "c_tools.rotate_operator([[t, 'IZZZZZYI']], A)"
   ]
  },
  {
   "cell_type": "code",
   "execution_count": 12,
   "metadata": {},
   "outputs": [
    {
     "name": "stdout",
     "output_type": "stream",
     "text": [
      "[-0.04018295428977698, 'IZZZZZYI']\n"
     ]
    }
   ],
   "source": [
    "print([t, 'IZZZZZYI'])"
   ]
  },
  {
   "cell_type": "code",
   "execution_count": 13,
   "metadata": {},
   "outputs": [],
   "source": [
    "#fig.savefig(\"plots/HeH+-CS-VQE-uccsd_ansatz.png\", dpi=300)"
   ]
  },
  {
   "cell_type": "code",
   "execution_count": 14,
   "metadata": {},
   "outputs": [],
   "source": [
    "#import json \n",
    "\n",
    "#data={}\n",
    "#for k in cs_vqe_results.keys():\n",
    "#    data[str(k)] = cs_vqe_results[k]\n",
    "     \n",
    "#with open(\"data/supplement_7.json\", \"w\") as outfile: \n",
    "#    json.dump(data, outfile)"
   ]
  },
  {
   "cell_type": "code",
   "execution_count": 15,
   "metadata": {
    "scrolled": false
   },
   "outputs": [
    {
     "data": {
      "text/plain": [
       "{'IZZZZZXI': -0.04017214146220663, 'IIIIIIZI': 0.999192773718035}"
      ]
     },
     "execution_count": 15,
     "metadata": {},
     "output_type": "execute_result"
    }
   ],
   "source": [
    "A"
   ]
  },
  {
   "cell_type": "code",
   "execution_count": 16,
   "metadata": {},
   "outputs": [
    {
     "name": "stdout",
     "output_type": "stream",
     "text": [
      "[] []\n",
      "['ZIIIIIII'] [0]\n",
      "['IZIIIIII', 'ZIIIIIII'] [1, 0]\n",
      "['IIZIIIII', 'IZIIIIII', 'ZIIIIIII'] [2, 1, 0]\n",
      "['IIIZIIII', 'IIZIIIII', 'IZIIIIII', 'ZIIIIIII'] [3, 2, 1, 0]\n",
      "['IIIIZIII', 'IIIZIIII', 'IIZIIIII', 'IZIIIIII', 'ZIIIIIII'] [4, 3, 2, 1, 0]\n",
      "['IIIIIZII', 'IIIIZIII', 'IIIZIIII', 'IIZIIIII', 'IZIIIIII', 'ZIIIIIII'] [5, 4, 3, 2, 1, 0]\n",
      "['IIIIIIIZ', 'IIIIIZII', 'IIIIZIII', 'IIIZIIII', 'IIZIIIII', 'IZIIIIII', 'ZIIIIIII'] [7, 5, 4, 3, 2, 1, 0]\n"
     ]
    },
    {
     "data": {
      "text/plain": [
       "{0: {'exact': -3.1428247492681787, '+1eig': -3.142824749268177},\n",
       " 1: {'exact': -2.601261465393688, '+1eig': -2.6011938269188786},\n",
       " 2: {'exact': -1.9649094110986862, '+1eig': -1.757690264074064},\n",
       " 3: {'exact': -1.8604929837365127, '+1eig': -1.8598502808904442},\n",
       " 4: {'exact': -1.6218985741176768, '+1eig': -1.6213548413524117},\n",
       " 5: {'exact': -1.3544397382761775, '+1eig': -1.353804334494909},\n",
       " 6: {'exact': -0.9160270535460407, '+1eig': -0.915293887108566},\n",
       " 7: {'exact': -0.007773130383793309, '+1eig': -0.0068527176316357}}"
      ]
     },
     "execution_count": 16,
     "metadata": {},
     "output_type": "execute_result"
    }
   ],
   "source": [
    "mol = c.cs_vqe(hamiltonian, terms_noncon, num_qubits)\n",
    "generators = list((mol.generators()[0]).keys())\n",
    "initial_state = mol.init_state()\n",
    "results={}\n",
    "shots=10\n",
    "\n",
    "eig_proj = la.eigenstate_projector(A, num_qubits)\n",
    "nan_check = []\n",
    "\n",
    "for index in range(num_qubits):\n",
    "    removed_index = list(range(index))\n",
    "    removed_index.reverse()\n",
    "    removed_generators = [generators[i] for i in removed_index]\n",
    "    Z_indices = [g.find('Z') for g in removed_generators]\n",
    "    print(removed_generators, Z_indices)\n",
    "    nc_proj = la.noncon_projector(initial_state, Z_indices, num_qubits)\n",
    "\n",
    "    new_ham_noncon, new_ham_context = mol.move_generator(removed_generators)\n",
    "    new_ham_noncon_q = qonvert.dict_to_QubitOperator(new_ham_noncon)\n",
    "    new_ham_context_q = qonvert.dict_to_QubitOperator(new_ham_context)\n",
    "\n",
    "    results[index] = {}\n",
    "\n",
    "    results[index]['exact'] = get_ground_state(get_sparse_operator(new_ham_noncon_q, num_qubits).toarray())[0]\n",
    "\n",
    "    expectations = []\n",
    "    for r in range(shots):\n",
    "        rand_vec = la.random_complex_vector(2**num_qubits)\n",
    "        psi = la.apply_projections(rand_vec, [nc_proj, eig_proj])\n",
    "        expect_noncon = la.expectation(new_ham_noncon_q, psi, num_qubits)\n",
    "        expectations.append(expect_noncon)\n",
    "        nc_value = (sum(expectations)/shots).real\n",
    "\n",
    "    results[index]['+1eig'] = nc_value\n",
    "    nan_check.append(nc_value)\n",
    "\n",
    "results"
   ]
  },
  {
   "cell_type": "code",
   "execution_count": 17,
   "metadata": {},
   "outputs": [
    {
     "name": "stdout",
     "output_type": "stream",
     "text": [
      "[(-3.1428247492681787, -2.601261465393688, -1.9649094110986862, -1.8604929837365127, -1.6218985741176768, -1.3544397382761775, -0.9160270535460407, -0.007773130383793309), (-3.142824749268177, -2.6011938269188786, -1.757690264074064, -1.8598502808904442, -1.6213548413524117, -1.353804334494909, -0.915293887108566, -0.0068527176316357)]\n"
     ]
    },
    {
     "data": {
      "text/plain": [
       "<matplotlib.legend.Legend at 0x7fd7f9ce0588>"
      ]
     },
     "execution_count": 17,
     "metadata": {},
     "output_type": "execute_result"
    },
    {
     "data": {
      "image/png": "[encoded data removed]",
      "text/plain": [
       "<Figure size 432x288 with 1 Axes>"
      ]
     },
     "metadata": {
      "needs_background": "light"
     },
     "output_type": "display_data"
    }
   ],
   "source": [
    "X=range(num_qubits)\n",
    "values = list(zip(*[list(results[i].values()) for i in X]))\n",
    "print(values)\n",
    "Y1=values[0]\n",
    "Y2=values[1]\n",
    "#axs[grid].set_title(str(h))\n",
    "plt.plot(X, Y1, label='Exact noncontextual gs')\n",
    "plt.plot(X, Y2, label='Restriction to +1-eigenspace')\n",
    "plt.legend()"
   ]
  },
  {
   "cell_type": "code",
   "execution_count": 18,
   "metadata": {},
   "outputs": [],
   "source": [
    "#fig.savefig(\"plots/HeH+-CS-VQE-uccsd_ansatz.png\", dpi=300)"
   ]
  },
  {
   "cell_type": "code",
   "execution_count": 19,
   "metadata": {},
   "outputs": [],
   "source": [
    "#data={}\n",
    "#for k in cs_vqe_results.keys():\n",
    "#    data[str(k)] = cs_vqe_results[k]\n",
    "#        \n",
    "#json.dumps(data)"
   ]
  },
  {
   "cell_type": "code",
   "execution_count": 20,
   "metadata": {},
   "outputs": [],
   "source": [
    "#import json \n",
    "#     \n",
    "#with open(\"data/HeH+_3-21G_UCCSD_CS_VQE_results.json\", \"w\") as outfile: \n",
    "#    json.dump(data, outfile)"
   ]
  },
  {
   "cell_type": "code",
   "execution_count": 21,
   "metadata": {},
   "outputs": [],
   "source": [
    "#circs.build_circuit(['IXIXIXIX'], 8).draw()"
   ]
  },
  {
   "cell_type": "code",
   "execution_count": 22,
   "metadata": {
    "scrolled": false
   },
   "outputs": [],
   "source": [
    "#cs_vqe_plot = plot.plot_cs_vqe_convergence(hamiltonian, terms_noncon, ucc, num_qubits, order, 4, rot_A=True)"
   ]
  },
  {
   "cell_type": "code",
   "execution_count": null,
   "metadata": {},
   "outputs": [],
   "source": []
  },
  {
   "cell_type": "code",
   "execution_count": 23,
   "metadata": {},
   "outputs": [
    {
     "data": {
      "text/plain": [
       "['ZIIIIIII',\n",
       " 'IZIIIIII',\n",
       " 'IIZIIIII',\n",
       " 'IIIZIIII',\n",
       " 'IIIIZIII',\n",
       " 'IIIIIZII',\n",
       " 'IIIIIIIZ']"
      ]
     },
     "execution_count": 23,
     "metadata": {},
     "output_type": "execute_result"
    }
   ],
   "source": [
    "generators"
   ]
  },
  {
   "cell_type": "code",
   "execution_count": 24,
   "metadata": {},
   "outputs": [
    {
     "data": {
      "text/plain": [
       "{'IZZZZZXI': -0.04017214146220663, 'IIIIIIZI': 0.999192773718035}"
      ]
     },
     "execution_count": 24,
     "metadata": {},
     "output_type": "execute_result"
    }
   ],
   "source": [
    "A"
   ]
  },
  {
   "cell_type": "code",
   "execution_count": null,
   "metadata": {},
   "outputs": [],
   "source": []
  },
  {
   "cell_type": "code",
   "execution_count": null,
   "metadata": {},
   "outputs": [],
   "source": []
  },
  {
   "cell_type": "code",
   "execution_count": null,
   "metadata": {
    "scrolled": true
   },
   "outputs": [],
   "source": []
  },
  {
   "cell_type": "code",
   "execution_count": 25,
   "metadata": {},
   "outputs": [
    {
     "name": "stderr",
     "output_type": "stream",
     "text": [
      "/home/tim/anaconda3/lib/python3.7/site-packages/qiskit/quantum_info/operators/symplectic/pauli.py:187: DeprecationWarning: Initializing Pauli from `Pauli(label=l)` kwarg is deprecated as of version 0.17.0 and will be removed no earlier than 3 months after the release date. Use `Pauli(l)` instead.\n",
      "  base_z, base_x, base_phase = self._from_label_deprecated(label)\n"
     ]
    },
    {
     "ename": "ExtensionError",
     "evalue": "'Input matrix is not unitary.'",
     "output_type": "error",
     "traceback": [
      "\u001b[0;31m---------------------------------------------------------------------------\u001b[0m",
      "\u001b[0;31mExtensionError\u001b[0m                            Traceback (most recent call last)",
      "\u001b[0;32m<ipython-input-25-0dbf16fe3b08>\u001b[0m in \u001b[0;36m<module>\u001b[0;34m()\u001b[0m\n\u001b[1;32m      6\u001b[0m \u001b[0;31m# Add to a circuit\u001b[0m\u001b[0;34m\u001b[0m\u001b[0;34m\u001b[0m\u001b[0m\n\u001b[1;32m      7\u001b[0m \u001b[0mcirc\u001b[0m \u001b[0;34m=\u001b[0m \u001b[0mQuantumCircuit\u001b[0m\u001b[0;34m(\u001b[0m\u001b[0;36m8\u001b[0m\u001b[0;34m)\u001b[0m\u001b[0;34m\u001b[0m\u001b[0m\n\u001b[0;32m----> 8\u001b[0;31m \u001b[0mcirc\u001b[0m\u001b[0;34m.\u001b[0m\u001b[0mappend\u001b[0m\u001b[0;34m(\u001b[0m\u001b[0;36m0.618\u001b[0m\u001b[0;34m*\u001b[0m\u001b[0mP1\u001b[0m\u001b[0;34m+\u001b[0m\u001b[0;36m0.618\u001b[0m\u001b[0;34m*\u001b[0m\u001b[0mP2\u001b[0m\u001b[0;34m,\u001b[0m\u001b[0;34m[\u001b[0m\u001b[0;36m0\u001b[0m\u001b[0;34m,\u001b[0m\u001b[0;36m1\u001b[0m\u001b[0;34m,\u001b[0m\u001b[0;36m2\u001b[0m\u001b[0;34m,\u001b[0m\u001b[0;36m3\u001b[0m\u001b[0;34m,\u001b[0m\u001b[0;36m4\u001b[0m\u001b[0;34m,\u001b[0m\u001b[0;36m5\u001b[0m\u001b[0;34m,\u001b[0m\u001b[0;36m6\u001b[0m\u001b[0;34m,\u001b[0m\u001b[0;36m7\u001b[0m\u001b[0;34m]\u001b[0m\u001b[0;34m)\u001b[0m\u001b[0;34m\u001b[0m\u001b[0m\n\u001b[0m\u001b[1;32m      9\u001b[0m \u001b[0mcirc\u001b[0m\u001b[0;34m.\u001b[0m\u001b[0mdraw\u001b[0m\u001b[0;34m(\u001b[0m\u001b[0;34m)\u001b[0m\u001b[0;34m\u001b[0m\u001b[0m\n",
      "\u001b[0;32m~/anaconda3/lib/python3.7/site-packages/qiskit/circuit/quantumcircuit.py\u001b[0m in \u001b[0;36mappend\u001b[0;34m(self, instruction, qargs, cargs)\u001b[0m\n\u001b[1;32m    998\u001b[0m                                'have a to_instruction() method.')\n\u001b[1;32m    999\u001b[0m         \u001b[0;32mif\u001b[0m \u001b[0;32mnot\u001b[0m \u001b[0misinstance\u001b[0m\u001b[0;34m(\u001b[0m\u001b[0minstruction\u001b[0m\u001b[0;34m,\u001b[0m \u001b[0mInstruction\u001b[0m\u001b[0;34m)\u001b[0m \u001b[0;32mand\u001b[0m \u001b[0mhasattr\u001b[0m\u001b[0;34m(\u001b[0m\u001b[0minstruction\u001b[0m\u001b[0;34m,\u001b[0m \u001b[0;34m\"to_instruction\"\u001b[0m\u001b[0;34m)\u001b[0m\u001b[0;34m:\u001b[0m\u001b[0;34m\u001b[0m\u001b[0m\n\u001b[0;32m-> 1000\u001b[0;31m             \u001b[0minstruction\u001b[0m \u001b[0;34m=\u001b[0m \u001b[0minstruction\u001b[0m\u001b[0;34m.\u001b[0m\u001b[0mto_instruction\u001b[0m\u001b[0;34m(\u001b[0m\u001b[0;34m)\u001b[0m\u001b[0;34m\u001b[0m\u001b[0m\n\u001b[0m\u001b[1;32m   1001\u001b[0m \u001b[0;34m\u001b[0m\u001b[0m\n\u001b[1;32m   1002\u001b[0m         \u001b[0;31m# Make copy of parameterized gate instances\u001b[0m\u001b[0;34m\u001b[0m\u001b[0;34m\u001b[0m\u001b[0m\n",
      "\u001b[0;32m~/anaconda3/lib/python3.7/site-packages/qiskit/quantum_info/operators/operator.py\u001b[0m in \u001b[0;36mto_instruction\u001b[0;34m(self)\u001b[0m\n\u001b[1;32m    203\u001b[0m         \u001b[0;31m# pylint: disable=cyclic-import\u001b[0m\u001b[0;34m\u001b[0m\u001b[0;34m\u001b[0m\u001b[0m\n\u001b[1;32m    204\u001b[0m         \u001b[0;32mfrom\u001b[0m \u001b[0mqiskit\u001b[0m\u001b[0;34m.\u001b[0m\u001b[0mextensions\u001b[0m\u001b[0;34m.\u001b[0m\u001b[0munitary\u001b[0m \u001b[0;32mimport\u001b[0m \u001b[0mUnitaryGate\u001b[0m\u001b[0;34m\u001b[0m\u001b[0m\n\u001b[0;32m--> 205\u001b[0;31m         \u001b[0;32mreturn\u001b[0m \u001b[0mUnitaryGate\u001b[0m\u001b[0;34m(\u001b[0m\u001b[0mself\u001b[0m\u001b[0;34m.\u001b[0m\u001b[0mdata\u001b[0m\u001b[0;34m)\u001b[0m\u001b[0;34m\u001b[0m\u001b[0m\n\u001b[0m\u001b[1;32m    206\u001b[0m \u001b[0;34m\u001b[0m\u001b[0m\n\u001b[1;32m    207\u001b[0m     \u001b[0;32mdef\u001b[0m \u001b[0mconjugate\u001b[0m\u001b[0;34m(\u001b[0m\u001b[0mself\u001b[0m\u001b[0;34m)\u001b[0m\u001b[0;34m:\u001b[0m\u001b[0;34m\u001b[0m\u001b[0m\n",
      "\u001b[0;32m~/anaconda3/lib/python3.7/site-packages/qiskit/extensions/unitary.py\u001b[0m in \u001b[0;36m__init__\u001b[0;34m(self, data, label)\u001b[0m\n\u001b[1;32m     60\u001b[0m         \u001b[0;31m# Check input is unitary\u001b[0m\u001b[0;34m\u001b[0m\u001b[0;34m\u001b[0m\u001b[0m\n\u001b[1;32m     61\u001b[0m         \u001b[0;32mif\u001b[0m \u001b[0;32mnot\u001b[0m \u001b[0mis_unitary_matrix\u001b[0m\u001b[0;34m(\u001b[0m\u001b[0mdata\u001b[0m\u001b[0;34m)\u001b[0m\u001b[0;34m:\u001b[0m\u001b[0;34m\u001b[0m\u001b[0m\n\u001b[0;32m---> 62\u001b[0;31m             \u001b[0;32mraise\u001b[0m \u001b[0mExtensionError\u001b[0m\u001b[0;34m(\u001b[0m\u001b[0;34m\"Input matrix is not unitary.\"\u001b[0m\u001b[0;34m)\u001b[0m\u001b[0;34m\u001b[0m\u001b[0m\n\u001b[0m\u001b[1;32m     63\u001b[0m         \u001b[0;31m# Check input is N-qubit matrix\u001b[0m\u001b[0;34m\u001b[0m\u001b[0;34m\u001b[0m\u001b[0m\n\u001b[1;32m     64\u001b[0m         \u001b[0minput_dim\u001b[0m\u001b[0;34m,\u001b[0m \u001b[0moutput_dim\u001b[0m \u001b[0;34m=\u001b[0m \u001b[0mdata\u001b[0m\u001b[0;34m.\u001b[0m\u001b[0mshape\u001b[0m\u001b[0;34m\u001b[0m\u001b[0m\n",
      "\u001b[0;31mExtensionError\u001b[0m: 'Input matrix is not unitary.'"
     ]
    }
   ],
   "source": [
    "from qiskit.quantum_info.operators import Operator, Pauli\n",
    "# Create an operator\n",
    "P1 = Operator(Pauli(label='IZZZZZXI'))\n",
    "P2 = Operator(Pauli(label='IIIIIIZI'))\n",
    "\n",
    "# Add to a circuit\n",
    "circ = QuantumCircuit(8)\n",
    "circ.append(0.618*P1+0.618*P2,[0,1,2,3,4,5,6,7])\n",
    "circ.draw()"
   ]
  },
  {
   "cell_type": "code",
   "execution_count": null,
   "metadata": {},
   "outputs": [],
   "source": [
    "print(eig.eigenstate(A, 16, num_qubits).construct())\n",
    "print(eig.eigenstate(A, 18, num_qubits).construct())"
   ]
  },
  {
   "cell_type": "code",
   "execution_count": null,
   "metadata": {},
   "outputs": [],
   "source": []
  },
  {
   "cell_type": "code",
   "execution_count": null,
   "metadata": {},
   "outputs": [],
   "source": [
    "I_op = openfermion.ops.QubitOperator.identity()\n",
    "A_op = qonvert.dict_to_QubitOperator(A)\n",
    "A_array = get_sparse_operator(A_op, n_qubits=8).toarray()"
   ]
  },
  {
   "cell_type": "code",
   "execution_count": null,
   "metadata": {},
   "outputs": [],
   "source": [
    "psi = la.random_complex_vector(2**8)\n",
    "projector = get_sparse_operator((A_op+I_op)/2, n_qubits=8).toarray()"
   ]
  },
  {
   "cell_type": "code",
   "execution_count": null,
   "metadata": {},
   "outputs": [],
   "source": [
    "psi_sub = np.dot(projector, psi)\n",
    "psi_conj = np.conjugate(psi_sub)\n",
    "norm = np.sqrt(np.dot(psi_conj, psi_sub))"
   ]
  },
  {
   "cell_type": "code",
   "execution_count": null,
   "metadata": {},
   "outputs": [],
   "source": [
    "psi_sub = psi_sub/norm\n",
    "psi_conj = np.conjugate(psi_sub)\n",
    "np.dot(psi_conj, psi_sub)"
   ]
  },
  {
   "cell_type": "code",
   "execution_count": null,
   "metadata": {},
   "outputs": [],
   "source": []
  },
  {
   "cell_type": "code",
   "execution_count": null,
   "metadata": {},
   "outputs": [],
   "source": [
    "la.expectation(A_op, psi_sub, 8)"
   ]
  },
  {
   "cell_type": "code",
   "execution_count": null,
   "metadata": {},
   "outputs": [],
   "source": [
    "conj_psi = np.conjugate(psi)\n",
    "conj_psi.dot(psi)"
   ]
  },
  {
   "cell_type": "code",
   "execution_count": null,
   "metadata": {
    "scrolled": true
   },
   "outputs": [],
   "source": [
    "type(projector)"
   ]
  },
  {
   "cell_type": "code",
   "execution_count": null,
   "metadata": {},
   "outputs": [],
   "source": []
  },
  {
   "cell_type": "code",
   "execution_count": null,
   "metadata": {},
   "outputs": [],
   "source": [
    "qc=QuantumCircuit(2,1)\n",
    "qc.h(0), qc.h(1)\n",
    "qc.cx(1,0)\n",
    "qc.reset(1)\n",
    "qc.measure_all()\n",
    "qc.draw()\n",
    "\n",
    "\n",
    "# execute the quantum circuit\n",
    "backend = BasicAer.get_backend('qasm_simulator') # the device to run on\n",
    "result = execute(qc, backend, shots=1000).result()\n",
    "counts  = result.get_counts(qc)\n",
    "print(counts)\n",
    "plot_histogram(counts)"
   ]
  },
  {
   "cell_type": "code",
   "execution_count": null,
   "metadata": {},
   "outputs": [],
   "source": [
    "test_list=[(0, 2, 4), (5, 2, 3), (3, 1, 8)]"
   ]
  },
  {
   "cell_type": "code",
   "execution_count": null,
   "metadata": {},
   "outputs": [],
   "source": [
    "sorted([i for i in test_list], key=lambda i:i[0])"
   ]
  },
  {
   "cell_type": "code",
   "execution_count": null,
   "metadata": {},
   "outputs": [],
   "source": [
    "circs.qubit_map(7)"
   ]
  },
  {
   "cell_type": "code",
   "execution_count": null,
   "metadata": {},
   "outputs": [],
   "source": [
    "circs.reference_state()"
   ]
  },
  {
   "cell_type": "code",
   "execution_count": null,
   "metadata": {},
   "outputs": [],
   "source": [
    "qc = QuantumCircuit(2) # We are redefining qc\n",
    "initial_state = [1/2, 1/2, 1/2, 1/2]\n",
    "qc.initialize(initial_state)\n",
    "qc.measure_all()\n",
    "qc.save_statevector()\n",
    "qc.draw()"
   ]
  },
  {
   "cell_type": "code",
   "execution_count": null,
   "metadata": {},
   "outputs": [],
   "source": [
    "initial_state = mol.init_state()\n",
    "\n",
    "bit.unconstrain(initial_state, [7])"
   ]
  },
  {
   "cell_type": "code",
   "execution_count": null,
   "metadata": {},
   "outputs": [],
   "source": [
    "num_sim_q = 3\n",
    "sim_indices=[7,1,0]"
   ]
  },
  {
   "cell_type": "code",
   "execution_count": null,
   "metadata": {},
   "outputs": [],
   "source": [
    "bin_strings = list(itertools.product([0, 1], repeat=num_sim_q))"
   ]
  },
  {
   "cell_type": "code",
   "execution_count": null,
   "metadata": {},
   "outputs": [],
   "source": [
    "keep_indices=[]\n",
    "for b in bin_strings:\n",
    "    bin_expand = list(zip(b, sim_indices))\n",
    "    keep_indices.append(sum([a*2**b for a, b in bin_expand]))\n",
    "    \n",
    "keep_indices       "
   ]
  },
  {
   "cell_type": "code",
   "execution_count": null,
   "metadata": {},
   "outputs": [],
   "source": [
    "ucc.values()"
   ]
  },
  {
   "cell_type": "code",
   "execution_count": null,
   "metadata": {},
   "outputs": [],
   "source": []
  }
 ],
 "metadata": {
  "kernelspec": {
   "display_name": "Python 3",
   "language": "python",
   "name": "python3"
  },
  "language_info": {
   "codemirror_mode": {
    "name": "ipython",
    "version": 3
   },
   "file_extension": ".py",
   "mimetype": "text/x-python",
   "name": "python",
   "nbconvert_exporter": "python",
   "pygments_lexer": "ipython3",
   "version": "3.7.0"
  }
 },
 "nbformat": 4,
 "nbformat_minor": 2
}
