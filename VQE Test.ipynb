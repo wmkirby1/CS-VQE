{
 "cells": [
  {
   "cell_type": "code",
   "execution_count": 44,
   "metadata": {},
   "outputs": [],
   "source": [
    "from qiskit.aqua.algorithms import VQE, NumPyEigensolver\n",
    "import matplotlib.pyplot as plt\n",
    "import numpy as np\n",
    "from qiskit.chemistry.components.variational_forms import UCCSD\n",
    "from qiskit.chemistry.components.initial_states import HartreeFock\n",
    "from qiskit.circuit.library import EfficientSU2\n",
    "from qiskit.aqua.components.optimizers import COBYLA, SPSA, SLSQP\n",
    "from qiskit.aqua.operators import Z2Symmetries\n",
    "from qiskit import IBMQ, BasicAer, Aer\n",
    "from qiskit.chemistry.drivers import PySCFDriver, UnitsType\n",
    "from qiskit.chemistry import FermionicOperator\n",
    "from qiskit.aqua import QuantumInstance\n",
    "from qiskit.ignis.mitigation.measurement import CompleteMeasFitter\n",
    "from qiskit.providers.aer.noise import NoiseModel\n",
    "from qiskit.visualization import plot_histogram\n",
    "from qiskit.quantum_info.operators.symplectic.pauli import Pauli\n",
    "from qiskit.aqua.operators.legacy import WeightedPauliOperator"
   ]
  },
  {
   "cell_type": "code",
   "execution_count": 196,
   "metadata": {},
   "outputs": [],
   "source": [
    "def get_qubit_op(dist):\n",
    "    driver = PySCFDriver(atom=\"Li .0 .0 .0; H .0 .0 \" + str(dist), unit=UnitsType.ANGSTROM, \n",
    "                         charge=0, spin=0, basis='sto3g')\n",
    "    molecule = driver.run()\n",
    "    freeze_list = [0]\n",
    "    remove_list = [-3, -2]\n",
    "    repulsion_energy = molecule.nuclear_repulsion_energy\n",
    "    num_particles = molecule.num_alpha + molecule.num_beta\n",
    "    num_spin_orbitals = molecule.num_orbitals * 2\n",
    "    remove_list = [x % molecule.num_orbitals for x in remove_list]\n",
    "    freeze_list = [x % molecule.num_orbitals for x in freeze_list]\n",
    "    remove_list = [x - len(freeze_list) for x in remove_list]\n",
    "    remove_list += [x + molecule.num_orbitals - len(freeze_list)  for x in remove_list]\n",
    "    freeze_list += [x + molecule.num_orbitals for x in freeze_list]\n",
    "    ferOp = FermionicOperator(h1=molecule.one_body_integrals, h2=molecule.two_body_integrals)\n",
    "    ferOp, energy_shift = ferOp.fermion_mode_freezing(freeze_list)\n",
    "    num_spin_orbitals -= len(freeze_list)\n",
    "    num_particles -= len(freeze_list)\n",
    "    ferOp = ferOp.fermion_mode_elimination(remove_list)\n",
    "    num_spin_orbitals -= len(remove_list)\n",
    "    qubitOp = ferOp.mapping(map_type='parity', threshold=0.00000001)\n",
    "    qubitOp = Z2Symmetries.two_qubit_reduction(qubitOp, num_particles)\n",
    "    shift = energy_shift + repulsion_energy\n",
    "    return qubitOp, num_particles, num_spin_orbitals, shift"
   ]
  },
  {
   "cell_type": "code",
   "execution_count": 3,
   "metadata": {},
   "outputs": [
    {
     "name": "stdout",
     "output_type": "stream",
     "text": [
      "Interatomic Distance: 2 VQE Result: -7.860068380038318 Exact Energy: [-7.86015321]\n",
      "All energies have been calculated\n"
     ]
    }
   ],
   "source": [
    "import warnings\n",
    "warnings.filterwarnings(\"ignore\", category=DeprecationWarning)\n",
    "\n",
    "backend = BasicAer.get_backend(\"statevector_simulator\")\n",
    "distances = np.arange(0.5, 4.0, 0.1)\n",
    "exact_energies = []\n",
    "vqe_energies = []\n",
    "optimizer = SLSQP(maxiter=5)\n",
    "\n",
    "for dist in [2]:#distances:\n",
    "    qubitOp, num_particles, num_spin_orbitals, shift = get_qubit_op(dist)\n",
    "    result = NumPyEigensolver(qubitOp).run()\n",
    "    exact_energies.append(np.real(result.eigenvalues) + shift)\n",
    "    initial_state = HartreeFock(\n",
    "        num_spin_orbitals,\n",
    "        num_particles,\n",
    "        qubit_mapping='parity'\n",
    "    ) \n",
    "    var_form = UCCSD(\n",
    "        num_orbitals=num_spin_orbitals,\n",
    "        num_particles=num_particles,\n",
    "        initial_state=initial_state,\n",
    "        qubit_mapping='parity'\n",
    "    )\n",
    "    vqe = VQE(qubitOp, var_form, optimizer)\n",
    "    vqe_result = np.real(vqe.run(backend)['eigenvalue'] + shift)\n",
    "    vqe_energies.append(vqe_result)\n",
    "    print(\"Interatomic Distance:\", np.round(dist, 2), \"VQE Result:\", vqe_result, \"Exact Energy:\", exact_energies[-1])\n",
    "    \n",
    "print(\"All energies have been calculated\")"
   ]
  },
  {
   "cell_type": "code",
   "execution_count": 4,
   "metadata": {},
   "outputs": [
    {
     "data": {
      "image/png": "[encoded data removed]",
      "text/plain": [
       "<Figure size 432x288 with 1 Axes>"
      ]
     },
     "metadata": {
      "needs_background": "light"
     },
     "output_type": "display_data"
    }
   ],
   "source": [
    "plt.plot(distances, exact_energies, label=\"Exact Energy\")\n",
    "plt.plot(distances, vqe_energies, label=\"VQE Energy\")\n",
    "plt.xlabel('Atomic distance (Angstrom)')\n",
    "plt.ylabel('Energy')\n",
    "plt.legend()\n",
    "plt.show()"
   ]
  },
  {
   "cell_type": "code",
   "execution_count": 215,
   "metadata": {},
   "outputs": [],
   "source": [
    "import cs_vqe as c\n",
    "import copy\n",
    "\n",
    "def construct_reduced_hamiltonian(ham, terms_noncon, num_qubits = 0, output_WPO = True) -> WeightedPauliOperator:\n",
    "    \"\"\"Determine reduced Hamiltonian on minimal contextual subset\n",
    "    \n",
    "    \"\"\"\n",
    "    #restructure WeightedPauliOperator ham from Qiskit list [[complex, Pauli]] -> dict {str:complex}\n",
    "    if str(type(ham)) == \"<class 'qiskit.aqua.operators.legacy.weighted_pauli_operator.WeightedPauliOperator'>\":\n",
    "        Paulis = ham.paulis\n",
    "        ham = {(p[1]).to_label():p[0] for p in Paulis}\n",
    "        \n",
    "    #Leave if already in correct format\n",
    "    elif str(type(ham)) == \"<class 'dict'>\":\n",
    "        pass\n",
    "    \n",
    "    #Reserved for alternative formats\n",
    "    else:\n",
    "        raise Exception(\"Unrecognised Hamiltonian Format\")\n",
    "            \n",
    "    #Find largest noncontextual subset\n",
    "    #terms_noncon = c.greedy_dfs(ham, 10, criterion='weight')[-1]\n",
    "    ham_noncon = {p:ham[p] for p in terms_noncon}\n",
    "    \n",
    "    #Contrusct epistricted model\n",
    "    model = c.quasi_model(ham_noncon)\n",
    "    fn_form = c.energy_function_form(ham_noncon, model)\n",
    "    gs_noncon = c.find_gs_noncon(ham_noncon)\n",
    "    ep_state = gs_noncon[1]\n",
    "    \n",
    "    #Determine contextual subspace Hamiltonians\n",
    "    order = list(range(len(model[0][0]))) #this can be user-specified in future\n",
    "    order_ref = copy.deepcopy(order) #since get_reduced_hamiltonians empties original order\n",
    "    reduced_hamiltonians = c.get_reduced_hamiltonians(ham, model, fn_form, ep_state, order)\n",
    "    red_ham = reduced_hamiltonians[num_qubits]\n",
    "    \n",
    "    if output_WPO == True:\n",
    "        return WeightedPauliOperator([[red_ham[k], Pauli(k)] for k in red_ham.keys()]), gs_noncon[0]\n",
    "    else:\n",
    "        return red_ham, gs_noncon[0]"
   ]
  },
  {
   "cell_type": "code",
   "execution_count": 219,
   "metadata": {},
   "outputs": [],
   "source": [
    "def CS_VQE(ham, terms_noncon, num_qubits, num_orbitals, num_particles, shift=0, \n",
    "           backend=BasicAer.get_backend(\"statevector_simulator\"), optimizer = SLSQP(maxiter=20)):\n",
    "    \"\"\"\n",
    "    \"\"\"\n",
    "    red_ham, gs_approx = construct_reduced_hamiltonian(ham, terms_noncon, num_qubits)\n",
    "\n",
    "    initial_state = HartreeFock(\n",
    "        num_orbitals=num_orbitals,\n",
    "        num_particles=num_particles,\n",
    "        qubit_mapping='parity')\n",
    "    #print(initial_state.construct_circuit(mode='vector'))\n",
    "    \n",
    "    var_form = UCCSD(\n",
    "        num_orbitals=num_orbitals,\n",
    "        num_particles=num_particles,\n",
    "        initial_state=initial_state,\n",
    "        qubit_mapping='parity')\n",
    "    \n",
    "    vqe = VQE(red_ham, var_form, optimizer)\n",
    "    vqe_result = np.real(vqe.run(backend)['eigenvalue']) + shift\n",
    "    \n",
    "    return vqe_result"
   ]
  },
  {
   "cell_type": "code",
   "execution_count": 214,
   "metadata": {},
   "outputs": [
    {
     "data": {
      "text/plain": [
       "['IIZI',\n",
       " 'ZIII',\n",
       " 'IIII',\n",
       " 'IIZZ',\n",
       " 'ZZII',\n",
       " 'IZIZ',\n",
       " 'ZIIZ',\n",
       " 'IZZI',\n",
       " 'ZIZI',\n",
       " 'IIIZ',\n",
       " 'IZII',\n",
       " 'ZZZZ',\n",
       " 'ZZIZ',\n",
       " 'IZZZ',\n",
       " 'ZIZZ',\n",
       " 'ZZZI',\n",
       " 'IZXX',\n",
       " 'IZYY',\n",
       " 'ZIXX',\n",
       " 'ZIYY',\n",
       " 'ZZXX',\n",
       " 'ZZYY',\n",
       " 'IIXX',\n",
       " 'IIYY']"
      ]
     },
     "execution_count": 214,
     "metadata": {},
     "output_type": "execute_result"
    }
   ],
   "source": [
    "pre_ham = {(p[1]).to_label():p[0] for p in get_qubit_op(1)[0].paulis}\n",
    "terms_noncon = (c.greedy_dfs(pre_ham, 10, criterion='weight'))[-1]\n",
    "terms_noncon"
   ]
  },
  {
   "cell_type": "code",
   "execution_count": 223,
   "metadata": {},
   "outputs": [
    {
     "name": "stdout",
     "output_type": "stream",
     "text": [
      "Interatomic Distance: 0.5 VQE Result: -7.031351025624939 Exact Energy: [-7.03973252]\n",
      "Interatomic Distance: 0.6 VQE Result: -7.3013112076428754 Exact Energy: [-7.31334583]\n",
      "Interatomic Distance: 0.7 VQE Result: -7.486249065044777 Exact Energy: [-7.50092209]\n",
      "Interatomic Distance: 0.8 VQE Result: -7.61459809317051 Exact Energy: [-7.63097825]\n",
      "Interatomic Distance: 0.9 VQE Result: -7.705828324548403 Exact Energy: [-7.72081241]\n",
      "Interatomic Distance: 1.0 VQE Result: -7.767420034384079 Exact Energy: [-7.7822424]\n",
      "Interatomic Distance: 1.1 VQE Result: -7.8087446962414155 Exact Energy: [-7.82359928]\n",
      "Interatomic Distance: 1.2 VQE Result: -7.83567404393764 Exact Energy: [-7.85069838]\n",
      "Interatomic Distance: 1.3 VQE Result: -7.852608262673456 Exact Energy: [-7.86756329]\n",
      "Interatomic Distance: 1.4 VQE Result: -7.86150664190578 Exact Energy: [-7.87700149]\n",
      "Interatomic Distance: 1.5 VQE Result: -7.864950880257563 Exact Energy: [-7.88101572]\n",
      "Interatomic Distance: 1.6 VQE Result: -7.8645888001385345 Exact Energy: [-7.88107204]\n",
      "Interatomic Distance: 1.7 VQE Result: -7.860176353076491 Exact Energy: [-7.87826817]\n",
      "Interatomic Distance: 1.8 VQE Result: -7.851663822561379 Exact Energy: [-7.87344029]\n",
      "Interatomic Distance: 1.9 VQE Result: -7.843528507082005 Exact Energy: [-7.86723396]\n",
      "Interatomic Distance: 2.0 VQE Result: -7.831495685131005 Exact Energy: [-7.86015321]\n",
      "Interatomic Distance: 2.1 VQE Result: -7.819472796166824 Exact Energy: [-7.85259583]\n",
      "Interatomic Distance: 2.2 VQE Result: -7.8066529661286195 Exact Energy: [-7.84487909]\n",
      "Interatomic Distance: 2.3 VQE Result: -7.800925503359215 Exact Energy: [-7.83725797]\n",
      "Interatomic Distance: 2.4 VQE Result: -7.799270652582925 Exact Energy: [-7.829937]\n",
      "Interatomic Distance: 2.5 VQE Result: -7.796631692263254 Exact Energy: [-7.82307664]\n",
      "Interatomic Distance: 2.6 VQE Result: -7.7934350715545095 Exact Energy: [-7.81679515]\n",
      "Interatomic Distance: 2.7 VQE Result: -7.788199057318275 Exact Energy: [-7.81116828]\n",
      "Interatomic Distance: 2.8 VQE Result: -7.783783740749564 Exact Energy: [-7.80622956]\n",
      "Interatomic Distance: 2.9 VQE Result: -7.779896163944932 Exact Energy: [-7.8019736]\n",
      "Interatomic Distance: 3.0 VQE Result: -7.779710252733135 Exact Energy: [-7.79836343]\n",
      "Interatomic Distance: 3.1 VQE Result: -7.7798475898800605 Exact Energy: [-7.79534045]\n",
      "Interatomic Distance: 3.2 VQE Result: -7.780092206106214 Exact Energy: [-7.79283481]\n",
      "Interatomic Distance: 3.3 VQE Result: -7.780348827602033 Exact Energy: [-7.79077401]\n",
      "Interatomic Distance: 3.4 VQE Result: -7.780546602299466 Exact Energy: [-7.7890889]\n",
      "Interatomic Distance: 3.5 VQE Result: -7.780750504284886 Exact Energy: [-7.78771697]\n",
      "Interatomic Distance: 3.6 VQE Result: -7.780960752338957 Exact Energy: [-7.78660376]\n",
      "Interatomic Distance: 3.7 VQE Result: -7.781107638387551 Exact Energy: [-7.78570291]\n",
      "Interatomic Distance: 3.8 VQE Result: -7.781214115976022 Exact Energy: [-7.78497559]\n",
      "Interatomic Distance: 3.9 VQE Result: -7.78135200524128 Exact Energy: [-7.78438961]\n",
      "All energies have been calculated\n"
     ]
    }
   ],
   "source": [
    "import warnings\n",
    "warnings.filterwarnings(\"ignore\", category=DeprecationWarning)\n",
    "\n",
    "distances = np.arange(0.5, 4, 0.1)\n",
    "exact_energies = []\n",
    "vqe_energies = []\n",
    "\n",
    "for dist in distances:\n",
    "    qubitOp, num_particles, num_spin_orbitals, shift = get_qubit_op(dist)\n",
    "    \n",
    "    result = NumPyEigensolver(qubitOp).run()\n",
    "    exact_energies.append(np.real(result.eigenvalues) + shift)\n",
    "    \n",
    "    vqe_result = CS_VQE(qubitOp, terms_noncon, 4, num_spin_orbitals, num_particles, shift=shift)\n",
    "    vqe_energies.append(vqe_result)\n",
    "    print(\"Interatomic Distance:\", np.round(dist, 2), \"VQE Result:\", vqe_result, \"Exact Energy:\", exact_energies[-1])\n",
    "    \n",
    "print(\"All energies have been calculated\")"
   ]
  },
  {
   "cell_type": "code",
   "execution_count": 224,
   "metadata": {},
   "outputs": [
    {
     "data": {
      "image/png": "[encoded data removed]",
      "text/plain": [
       "<Figure size 432x288 with 1 Axes>"
      ]
     },
     "metadata": {
      "needs_background": "light"
     },
     "output_type": "display_data"
    }
   ],
   "source": [
    "plt.plot(distances, exact_energies, label=\"Exact Energy\")\n",
    "plt.plot(distances, vqe_energies, label=\"VQE Energy\")\n",
    "plt.xlabel('Atomic distance (Angstrom)')\n",
    "plt.ylabel('Energy')\n",
    "plt.legend()\n",
    "plt.show()"
   ]
  },
  {
   "cell_type": "code",
   "execution_count": null,
   "metadata": {},
   "outputs": [],
   "source": []
  },
  {
   "cell_type": "code",
   "execution_count": 144,
   "metadata": {},
   "outputs": [
    {
     "data": {
      "text/plain": [
       "(<qiskit.aqua.operators.legacy.weighted_pauli_operator.WeightedPauliOperator at 0x7fba368407f0>,\n",
       " -7.830905584637077)"
      ]
     },
     "execution_count": 144,
     "metadata": {},
     "output_type": "execute_result"
    }
   ],
   "source": [
    "construct_reduced_hamiltonian(qubitOp, 3)"
   ]
  },
  {
   "cell_type": "code",
   "execution_count": null,
   "metadata": {},
   "outputs": [],
   "source": []
  },
  {
   "cell_type": "code",
   "execution_count": 26,
   "metadata": {},
   "outputs": [
    {
     "name": "stdout",
     "output_type": "stream",
     "text": [
      "[-0.960490906211567, -0.96049094, -0.9604912, -0.9668129, -0.989739]\n",
      "true ground state energy: -7.86015321 \n",
      "\n",
      "CS-VQE approximations: [-7.830905584637077, -7.830905560822208, -7.834841911167819, -7.855121795506198, -7.860153321594913] \n",
      "\n",
      "CS-VQE errors: [array([ 2.92476254e-02,  2.92476492e-02,  2.53112988e-02,  5.03141449e-03,\n",
      "       -1.11594913e-07])] \n",
      "\n",
      "chosen order: [1, 3, 0, 2]\n"
     ]
    }
   ],
   "source": [
    "n_qubits = 4\n",
    "true_gs = -7.86015321\n",
    "order = [0, 1, 2, 3]\n",
    "\n",
    "csvqe = c.csvqe_approximations_heuristic(ham, ham_noncon, n_qubits, true_gs)\n",
    "print(c.contextual_subspace_approximations(ham, model, fn_form, ep_state, order))\n",
    "\n",
    "print('true ground state energy:', csvqe[0], '\\n')\n",
    "print('CS-VQE approximations:', [c+shift for c in csvqe[1]], '\\n')\n",
    "print('CS-VQE errors:', [csvqe[2]+shift], '\\n')\n",
    "print('chosen order:', csvqe[3])"
   ]
  },
  {
   "cell_type": "code",
   "execution_count": 107,
   "metadata": {},
   "outputs": [
    {
     "data": {
      "text/plain": [
       "4"
      ]
     },
     "execution_count": 107,
     "metadata": {},
     "output_type": "execute_result"
    }
   ],
   "source": [
    "red_ham = reduced_hamiltonians[4]\n",
    "reconstruct_Qham = WeightedPauliOperator([[red_ham[k], Pauli(k)] for k in red_ham.keys()])\n",
    "reconstruct_Qham.num_qubits"
   ]
  },
  {
   "cell_type": "code",
   "execution_count": 108,
   "metadata": {},
   "outputs": [
    {
     "name": "stdout",
     "output_type": "stream",
     "text": [
      "[0. 0. 0. 1. 0. 0. 0. 0. 0. 0. 0. 0. 0. 0. 0. 0.]\n",
      "     ┌───┐┌──────────────┐┌──────────────┐┌──────────────┐┌──────────────┐»\n",
      "q_0: ┤ X ├┤0             ├┤0             ├┤0             ├┤0             ├»\n",
      "     ├───┤│              ││              ││              ││              │»\n",
      "q_1: ┤ X ├┤1             ├┤1             ├┤1             ├┤1             ├»\n",
      "     └───┘│  Evolution^1 ││  Evolution^1 ││  Evolution^1 ││  Evolution^1 │»\n",
      "q_2: ─────┤2             ├┤2             ├┤2             ├┤2             ├»\n",
      "          │              ││              ││              ││              │»\n",
      "q_3: ─────┤3             ├┤3             ├┤3             ├┤3             ├»\n",
      "          └──────────────┘└──────────────┘└──────────────┘└──────────────┘»\n",
      "«     ┌──────────────┐┌──────────────┐┌──────────────┐┌──────────────┐\n",
      "«q_0: ┤0             ├┤0             ├┤0             ├┤0             ├\n",
      "«     │              ││              ││              ││              │\n",
      "«q_1: ┤1             ├┤1             ├┤1             ├┤1             ├\n",
      "«     │  Evolution^1 ││  Evolution^1 ││  Evolution^1 ││  Evolution^1 │\n",
      "«q_2: ┤2             ├┤2             ├┤2             ├┤2             ├\n",
      "«     │              ││              ││              ││              │\n",
      "«q_3: ┤3             ├┤3             ├┤3             ├┤3             ├\n",
      "«     └──────────────┘└──────────────┘└──────────────┘└──────────────┘\n"
     ]
    }
   ],
   "source": [
    "initial_state = HartreeFock(\n",
    "        num_orbitals=6,\n",
    "        num_particles=2,\n",
    "        qubit_mapping='parity')\n",
    "print(initial_state.construct_circuit(mode='vector'))\n",
    "var_form = UCCSD(\n",
    "        num_orbitals=6,\n",
    "        num_particles=2,\n",
    "        initial_state=initial_state,\n",
    "        qubit_mapping='parity')\n",
    "print(var_form.construct_circuit([0,0,0,0,0,0,0,0]))\n",
    "vqe = VQE(reconstruct_Qham, var_form, optimizer)\n",
    "vqe_result = np.real(vqe.run(backend)['eigenvalue'] + shift)"
   ]
  },
  {
   "cell_type": "code",
   "execution_count": 109,
   "metadata": {},
   "outputs": [
    {
     "data": {
      "text/plain": [
       "-7.699323240312931"
      ]
     },
     "execution_count": 109,
     "metadata": {},
     "output_type": "execute_result"
    }
   ],
   "source": [
    "vqe_result"
   ]
  },
  {
   "cell_type": "code",
   "execution_count": 130,
   "metadata": {},
   "outputs": [
    {
     "data": {
      "text/plain": [
       "\"<class 'qiskit.aqua.operators.legacy.weighted_pauli_operator.WeightedPauliOperator'>\""
      ]
     },
     "execution_count": 130,
     "metadata": {},
     "output_type": "execute_result"
    }
   ],
   "source": [
    "str(type(qubitOp))"
   ]
  },
  {
   "cell_type": "code",
   "execution_count": 133,
   "metadata": {},
   "outputs": [
    {
     "data": {
      "text/plain": [
       "\"<class 'dict'>\""
      ]
     },
     "execution_count": 133,
     "metadata": {},
     "output_type": "execute_result"
    }
   ],
   "source": [
    "str(type({p:ham[p] for p in terms_noncon}))"
   ]
  },
  {
   "cell_type": "code",
   "execution_count": null,
   "metadata": {},
   "outputs": [],
   "source": []
  }
 ],
 "metadata": {
  "kernelspec": {
   "display_name": "Python 3",
   "language": "python",
   "name": "python3"
  },
  "language_info": {
   "codemirror_mode": {
    "name": "ipython",
    "version": 3
   },
   "file_extension": ".py",
   "mimetype": "text/x-python",
   "name": "python",
   "nbconvert_exporter": "python",
   "pygments_lexer": "ipython3",
   "version": "3.7.0"
  }
 },
 "nbformat": 4,
 "nbformat_minor": 5
}
