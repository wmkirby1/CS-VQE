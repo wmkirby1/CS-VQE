{
 "cells": [
  {
   "cell_type": "code",
   "execution_count": 5,
   "metadata": {},
   "outputs": [],
   "source": [
    "from qiskit.aqua.algorithms import NumPyEigensolver#, VQE\n",
    "from qiskit.algorithms import VQE\n",
    "import matplotlib.pyplot as plt\n",
    "import numpy as np\n",
    "import warnings\n",
    "warnings.filterwarnings(\"ignore\", category=DeprecationWarning)\n",
    "\n",
    "from qiskit.chemistry.components.variational_forms import UCCSD\n",
    "from qiskit.chemistry.components.initial_states import HartreeFock\n",
    "from qiskit.circuit.library import EfficientSU2\n",
    "from qiskit.aqua.components.optimizers import COBYLA, SPSA, SLSQP\n",
    "from qiskit.aqua.operators import Z2Symmetries\n",
    "from qiskit import IBMQ, BasicAer, Aer\n",
    "from qiskit.chemistry.drivers import PySCFDriver, UnitsType\n",
    "from qiskit.chemistry import FermionicOperator\n",
    "from qiskit.aqua import QuantumInstance\n",
    "from qiskit.ignis.mitigation.measurement import CompleteMeasFitter\n",
    "from qiskit.providers.aer.noise import NoiseModel\n",
    "from qiskit.visualization import plot_histogram\n",
    "from qiskit.quantum_info.operators.symplectic.pauli import Pauli\n",
    "from qiskit.aqua.operators.legacy import WeightedPauliOperator\n",
    "from qiskit.circuit.library import TwoLocal\n",
    "from qiskit import QuantumCircuit\n",
    "from qiskit.circuit import Parameter\n",
    "\n",
    "\n",
    "from qiskit.utils import QuantumInstance, algorithm_globals\n"
   ]
  },
  {
   "cell_type": "markdown",
   "metadata": {},
   "source": [
    "# Connect with IBMQ"
   ]
  },
  {
   "cell_type": "code",
   "execution_count": 6,
   "metadata": {},
   "outputs": [
    {
     "name": "stdout",
     "output_type": "stream",
     "text": [
      "ibmq_armonk\n"
     ]
    }
   ],
   "source": [
    "import numpy as np\n",
    "from qiskit import QuantumCircuit, ClassicalRegister, QuantumRegister, IBMQ, execute\n",
    "from qiskit import execute, Aer\n",
    "from qiskit.providers.ibmq import IBMQBackend, least_busy\n",
    "from qiskit.tools.visualization import circuit_drawer\n",
    "from qiskit.providers.ibmq import least_busy\n",
    "from IPython.display import clear_output\n",
    "\n",
    "def connect_to_ibm(simulator: bool = False) -> IBMQBackend:\n",
    "    \"\"\"Connect to IBMQ chip and return backend.\n",
    "\n",
    "    Parameters\n",
    "    ----------\n",
    "    simulator : bool, optional\n",
    "        Whether to use the simulator or the least busy IBMQ chip, by default False\n",
    "\n",
    "    Returns\n",
    "    -------\n",
    "    IBMQBackend\n",
    "        Backend object of the device used to run calculations\n",
    "    \"\"\"\n",
    "    # load individual IBMQ account\n",
    "    #if len(IBMQ.stored_account()) == 0:\n",
    "    with open(\"token.txt\", \"r\") as token_f:\n",
    "        token = token_f.read()\n",
    "    IBMQ.save_account(token, overwrite=True)\n",
    "    IBMQ.load_account()\n",
    "    provider = IBMQ.get_provider(hub='ibm-q', group='open', project='main')\n",
    "\n",
    "    # select backend\n",
    "    if simulator:\n",
    "        backend = Aer.get_backend(\"qasm_simulator\")\n",
    "    else:\n",
    "        small_devices = provider.backends(filters=lambda x: not x.configuration().simulator)\n",
    "        backend = least_busy(small_devices)\n",
    "\n",
    "    print(backend)\n",
    "\n",
    "    return backend\n",
    "\n",
    "backend = connect_to_ibm()"
   ]
  },
  {
   "cell_type": "markdown",
   "metadata": {},
   "source": [
    "# Obtain Hamiltoians\n",
    "Either from PySCF Library or hamiltonians.txt. These have different formats but are handled accordingly by the construct_reduced_hamiltonian function."
   ]
  },
  {
   "cell_type": "code",
   "execution_count": 7,
   "metadata": {},
   "outputs": [],
   "source": [
    "def get_qubit_op(dist):\n",
    "    driver = PySCFDriver(atom=\"Li .0 .0 .0; H .0 .0 \" + str(dist), unit=UnitsType.ANGSTROM, \n",
    "                         charge=0, spin=0, basis='sto3g')\n",
    "    molecule = driver.run()\n",
    "    freeze_list = [0]\n",
    "    remove_list = [-3, -2]\n",
    "    repulsion_energy = molecule.nuclear_repulsion_energy\n",
    "    num_particles = molecule.num_alpha + molecule.num_beta\n",
    "    num_spin_orbitals = molecule.num_orbitals * 2\n",
    "    remove_list = [x % molecule.num_orbitals for x in remove_list]\n",
    "    freeze_list = [x % molecule.num_orbitals for x in freeze_list]\n",
    "    remove_list = [x - len(freeze_list) for x in remove_list]\n",
    "    remove_list += [x + molecule.num_orbitals - len(freeze_list)  for x in remove_list]\n",
    "    freeze_list += [x + molecule.num_orbitals for x in freeze_list]\n",
    "    ferOp = FermionicOperator(h1=molecule.one_body_integrals, h2=molecule.two_body_integrals)\n",
    "    ferOp, energy_shift = ferOp.fermion_mode_freezing(freeze_list)\n",
    "    num_spin_orbitals -= len(freeze_list)\n",
    "    num_particles -= len(freeze_list)\n",
    "    ferOp = ferOp.fermion_mode_elimination(remove_list)\n",
    "    num_spin_orbitals -= len(remove_list)\n",
    "    qubitOp = ferOp.mapping(map_type='parity', threshold=0.00000001)\n",
    "    qubitOp = Z2Symmetries.two_qubit_reduction(qubitOp, num_particles)\n",
    "    shift = energy_shift + repulsion_energy\n",
    "    return qubitOp, num_particles, num_spin_orbitals, shift\n",
    "\n",
    "def get_qubit_op_2(dist):\n",
    "    driver = PySCFDriver(atom=\"He .0 .0 .0; H .0 .0 \" + str(dist), unit=UnitsType.ANGSTROM, \n",
    "                         charge=1, spin=0, basis='sto3g')\n",
    "    molecule = driver.run()\n",
    "    #freeze_list = [0]\n",
    "    #remove_list = [-3, -2]\n",
    "    repulsion_energy = molecule.nuclear_repulsion_energy\n",
    "    num_particles = molecule.num_alpha + molecule.num_beta\n",
    "    num_spin_orbitals = molecule.num_orbitals * 2\n",
    "    #remove_list = [x % molecule.num_orbitals for x in remove_list]\n",
    "    #freeze_list = [x % molecule.num_orbitals for x in freeze_list]\n",
    "    #remove_list = [x - len(freeze_list) for x in remove_list]\n",
    "    #remove_list += [x + molecule.num_orbitals - len(freeze_list)  for x in remove_list]\n",
    "    #freeze_list += [x + molecule.num_orbitals for x in freeze_list]\n",
    "    ferOp = FermionicOperator(h1=molecule.one_body_integrals, h2=molecule.two_body_integrals)\n",
    "    #ferOp, energy_shift = ferOp.fermion_mode_freezing(freeze_list)\n",
    "    energy_shift=0\n",
    "    #num_spin_orbitals -= len(freeze_list)\n",
    "    #num_particles -= len(freeze_list)\n",
    "    #ferOp = ferOp.fermion_mode_elimination(remove_list)\n",
    "    #num_spin_orbitals -= len(remove_list)\n",
    "    qubitOp = ferOp.mapping(map_type='parity', threshold=0.00000001)\n",
    "    qubitOp = Z2Symmetries.two_qubit_reduction(qubitOp, num_particles)\n",
    "    shift = energy_shift + repulsion_energy\n",
    "    return qubitOp, num_particles, num_spin_orbitals, shift"
   ]
  },
  {
   "cell_type": "code",
   "execution_count": 35,
   "metadata": {},
   "outputs": [
    {
     "name": "stdout",
     "output_type": "stream",
     "text": [
      "     ┌───┐ ░  ┌───┐                           ┌───┐      ░  ┌───┐           »\n",
      "q_0: ┤ X ├─░──┤ H ├────────■───────────────■──┤ H ├──────░──┤ H ├────────■──»\n",
      "     ├───┤ ░ ┌┴───┴┐┌───┐┌─┴─┐┌─────────┐┌─┴─┐├───┤┌───┐ ░  └───┘        │  »\n",
      "q_1: ┤ X ├─░─┤ SDG ├┤ H ├┤ X ├┤ RZ(2*α) ├┤ X ├┤ H ├┤ S ├─░───────────────┼──»\n",
      "     ├───┤ ░ └─────┘└───┘└───┘└─────────┘└───┘└───┘└───┘ ░ ┌─────┐┌───┐┌─┴─┐»\n",
      "q_2: ┤ X ├─░─────────────────────────────────────────────░─┤ SDG ├┤ H ├┤ X ├»\n",
      "     └───┘ ░                                             ░ └─────┘└───┘└───┘»\n",
      "«                     ┌───┐     \n",
      "«q_0: ─────────────■──┤ H ├─────\n",
      "«                  │  └───┘     \n",
      "«q_1: ─────────────┼────────────\n",
      "«     ┌─────────┐┌─┴─┐┌───┐┌───┐\n",
      "«q_2: ┤ RZ(2*β) ├┤ X ├┤ H ├┤ S ├\n",
      "«     └─────────┘└───┘└───┘└───┘\n",
      "-7.952197416866345 [-7.95219971]\n"
     ]
    }
   ],
   "source": [
    "ham_noncon = {'III':-6.823060333, 'ZII':-0.1110098029, 'IZI':-0.5370907285, 'IIZ':-0.3127149146, \n",
    "              'ZZI':0.383637914, 'ZIZ':0.2581256772, 'IZZ':0.2523178271, 'IXX':0.01764480014, 'IYY':0.01764480014}\n",
    "\n",
    "terms_noncon = ham_noncon.keys()\n",
    "\n",
    "ham_con = {'XXI':0.06593809513, 'YYI':-0.06593809513, 'XIX':0.0121680127, 'YIY':0.0121680127}\n",
    "\n",
    "ham = {'III':-6.823060333, 'ZII':-0.1110098029, 'IZI':-0.5370907285, 'IIZ':-0.3127149146, \n",
    "       'ZZI':0.383637914, 'ZIZ':0.2581256772, 'IZZ':0.2523178271, 'IXX':0.01764480014, \n",
    "       'IYY':0.01764480014, 'XXI':0.06593809513, 'YYI':-0.06593809513, 'XIX':0.0121680127, 'YIY':0.0121680127}\n",
    "\n",
    "vqe = CS_VQE(ham, terms_noncon, num_qubits=3, num_orbitals=6, num_particles=2)\n",
    "result = NumPyEigensolver(sum([PauliOp(Pauli(k), ham[k]) for k in ham.keys()])).run()\n",
    "exact_energy = np.real(result.eigenvalues)\n",
    "\n",
    "print(vqe, exact_energy)"
   ]
  },
  {
   "cell_type": "code",
   "execution_count": 24,
   "metadata": {},
   "outputs": [
    {
     "name": "stdout",
     "output_type": "stream",
     "text": [
      "H2-S1_STO-3G_singlet\n",
      "C1-O1_STO-3G_singlet\n",
      "H1-Cl1_STO-3G_singlet\n",
      "H1-Na1_STO-3G_singlet\n",
      "H2-Mg1_STO-3G_singlet\n",
      "H1-F1_3-21G_singlet\n",
      "H1-Li1_3-21G_singlet\n",
      "Be1_STO-3G_singlet\n",
      "H1-F1_STO-3G_singlet\n",
      "H1-Li1_STO-3G_singlet\n",
      "Ar1_STO-3G_singlet\n",
      "F2_STO-3G_singlet\n",
      "H1-O1_STO-3G_singlet\n",
      "H2-Be1_STO-3G_singlet\n",
      "H2-O1_STO-3G_singlet\n",
      "H2_3-21G_singlet\n",
      "H2_6-31G_singlet\n",
      "H3-N1_STO-3G_singlet\n",
      "H4-C1_STO-3G_singlet\n",
      "Mg1_STO-3G_singlet\n",
      "N2_STO-3G_singlet\n",
      "Ne1_STO-3G_singlet\n",
      "O2_STO-3G_singlet\n",
      "H1-Li1-O1_STO-3G_singlet\n",
      "H1-He1_STO-3G_singlet\n",
      "H3_STO-3G_singlet_1+\n",
      "H1-He1_3-21G_singlet_1+\n",
      "H3_3-21G_singlet_1+\n",
      "H4-N1_STO-3G_singlet_1+\n"
     ]
    }
   ],
   "source": [
    "import ast\n",
    "\n",
    "f = open(\"hamiltonians.txt\",\"r\")\n",
    "hamiltonians = ast.literal_eval(f.read())\n",
    "f.close()\n",
    "\n",
    "for k in hamiltonians.keys():\n",
    "    print(k)"
   ]
  },
  {
   "cell_type": "code",
   "execution_count": 113,
   "metadata": {},
   "outputs": [
    {
     "name": "stdout",
     "output_type": "stream",
     "text": [
      "number of qubits: 8\n",
      "true ground state energy: -8.933276065676191\n",
      "noncontextual approximation to ground state energy: -8.914131227844836\n",
      "{'IIIIIIII': -5.001425458221718, 'IIIIIIIZ': 1.0104418175624195, 'IIIIIIZI': 1.0104418175624192, 'ZIIIIIII': -0.4579624763565428, 'IZIIIIII': -0.4579624763565425, 'IIIIIIZZ': 0.41455546243330654, 'ZZIZIZIZ': -0.39690605678468144, 'ZZZIZIZI': -0.39690605678468144, 'ZZIIIIII': 0.2707726623751819, 'IIIZIIII': -0.19741969863049835, 'IIZIIIII': -0.1974196986304983, 'IZIIIIIZ': 0.19570005174416316, 'IZIIIIZI': 0.19570005174416316, 'ZIIIIIIZ': 0.19570005174416316, 'ZIIIIIZI': 0.19570005174416316, 'IZIIIZII': 0.1313183119904171, 'IZIIZIII': 0.1313183119904171, 'ZIIIIZII': 0.1313183119904171, 'ZIIIZIII': 0.1313183119904171, 'IZIZIIII': 0.13077016464474733, 'IZZIIIII': 0.13077016464474733, 'ZIIZIIII': 0.13077016464474733, 'ZIZIIIII': 0.13077016464474733, 'IZIZIZIZ': 0.12971451752077234, 'IZZIZIZI': 0.12971451752077234, 'ZIIZIZIZ': 0.12971451752077234, 'ZIZIZIZI': 0.12971451752077234, 'IIIIZZII': 0.12338082226742374, 'IIIIIZII': -0.11536854093063532, 'IIIIZIII': -0.11536854093063532, 'ZZIZZZIZ': 0.11425577006377113, 'ZZZIZZZI': 0.11425577006377113, 'IIZZZZZZ': 0.11404443186403874, 'IIIZIIZI': 0.09898377244525777, 'IIZIIIIZ': 0.09898377244525777, 'IIIIIZZI': 0.09450446372057475, 'IIIIZIIZ': 0.09450446372057475, 'IIIZIIIZ': 0.09360099466745045, 'IIZIIIZI': 0.09360099466745045, 'IIIIIZIZ': 0.0908717615562679, 'IIIIZIZI': 0.0908717615562679, 'ZZIZIZZZ': 0.09042746455820946, 'ZZZIZIZZ': 0.09042746455820946, 'ZZIZIZII': 0.08857801254613343, 'ZZZIZIII': 0.08857801254613343, 'IIZZIIII': 0.08468170939963947, 'ZZIZIIIZ': 0.08349406473042321, 'ZZZIIIZI': 0.08349406473042321, 'ZZZZIZIZ': 0.060491340749721755, 'ZZZZZIZI': 0.060491340749721755, 'IIIZZIII': 0.056570323857124016, 'IIZIIZII': 0.056570323857124016, 'ZZIIIZIZ': 0.05391367939397465, 'ZZIIZIZI': 0.05391367939397465, 'IIIZIZII': 0.053512399991895616, 'IIZIZIII': 0.053512399991895616, 'IIIIIXZZ': -0.03495312426599749, 'ZZIZIXZI': 0.03495312426599749, 'IIZZIXII': 0.03290395741989794, 'ZZZIIXIZ': -0.03290395741989794, 'IIZZZXZI': -0.007538341367506473, 'ZZZIZXZZ': 0.007538341367506473, 'IIZZZXII': -0.006252994193872958, 'ZZZIZXIZ': 0.006252994193872958, 'IIZZZXIZ': -0.005477331994841993, 'ZZZIZXII': 0.005477331994841993, 'IIZIZXII': -0.0045917229253296995, 'ZZZZZXIZ': 0.0045917229253296995, 'IIIZZXII': -0.002455848829893685, 'ZZIIZXIZ': 0.002455848829893685, 'IZZIZXIZ': 0.0008821359371306427, 'IZZZZXII': -0.0008821359371306427, 'ZIZIZXIZ': 0.0008821359371306427, 'ZIZZZXII': -0.0008821359371306427}\n"
     ]
    }
   ],
   "source": [
    "speciesname = 'H1-Li1_STO-3G_singlet'\n",
    "\n",
    "encoding = hamiltonians[speciesname][0] # in this dataset, always 'JW' for Jordan-Wigner, but leaves room for trying Bravyi-Kitaev as well\n",
    "n_qubits = hamiltonians[speciesname][1] # number of qubits (all of these Hamiltonians have been tapered for molecular symmetries)\n",
    "ham = hamiltonians[speciesname][2] # full Hamiltonian\n",
    "ham_noncon = hamiltonians[speciesname][3] # noncontextual part of Hamiltonian, found by greedy DFS\n",
    "true_gs = hamiltonians[speciesname][4] # ground state energy of full Hamiltonian (in Hartree)\n",
    "gs_noncon = hamiltonians[speciesname][5] # list containing information about noncontextual ground state: zeroth entry is ground state energy of noncontextual part of Hamiltonian\n",
    "\n",
    "print('number of qubits:', n_qubits)\n",
    "print('true ground state energy:', true_gs)\n",
    "print('noncontextual approximation to ground state energy:', gs_noncon[0])\n",
    "print(ham_noncon)"
   ]
  },
  {
   "cell_type": "code",
   "execution_count": 26,
   "metadata": {},
   "outputs": [
    {
     "data": {
      "text/plain": [
       "['JW',\n",
       " 2,\n",
       " {'II': -3.0847221710636843,\n",
       "  'IX': 0.11608931072343519,\n",
       "  'IZ': 0.5160798861830592,\n",
       "  'XI': -0.1160893107234352,\n",
       "  'XZ': -0.11608931078542636,\n",
       "  'YY': -0.1268228395694077,\n",
       "  'ZI': 0.5160798861830591,\n",
       "  'ZX': 0.11608931078542635,\n",
       "  'ZZ': 0.12386724435775806},\n",
       " {'II': -3.0847221710636843,\n",
       "  'IZ': 0.5160798861830592,\n",
       "  'ZI': 0.5160798861830591,\n",
       "  'ZZ': 0.12386724435775806,\n",
       "  'XZ': -0.11608931078542636,\n",
       "  'XI': -0.1160893107234352},\n",
       " -4.001240607721688,\n",
       " [-3.9930146990720448,\n",
       "  (-1,),\n",
       "  (1.7385187128963406e-08, -0.9999999999999999),\n",
       "  (['IZ'],\n",
       "   ['XZ', 'ZI'],\n",
       "   {'II': [[], [], 1],\n",
       "    'IZ': [['IZ'], [], 1],\n",
       "    'ZI': [[], ['ZI'], 1],\n",
       "    'ZZ': [['IZ'], ['ZI'], 1],\n",
       "    'XZ': [[], ['XZ'], 1],\n",
       "    'XI': [['IZ'], ['XZ'], 1]}),\n",
       "  [1,\n",
       "   2,\n",
       "   [[-3.0847221710636843, [], [], 'II'],\n",
       "    [0.5160798861830592, [0], [], 'IZ'],\n",
       "    [0.5160798861830591, [], [1], 'ZI'],\n",
       "    [0.12386724435775806, [0], [1], 'ZZ'],\n",
       "    [-0.11608931078542636, [], [0], 'XZ'],\n",
       "    [-0.1160893107234352, [0], [0], 'XI']]]]]"
      ]
     },
     "execution_count": 26,
     "metadata": {},
     "output_type": "execute_result"
    }
   ],
   "source": [
    "hamiltonians[speciesname]"
   ]
  },
  {
   "cell_type": "markdown",
   "metadata": {},
   "source": [
    "# Construct m-qubit CS-VQE Hamiltonian"
   ]
  },
  {
   "cell_type": "code",
   "execution_count": 31,
   "metadata": {},
   "outputs": [],
   "source": [
    "import cs_vqe as c\n",
    "import copy\n",
    "from qiskit.opflow import X, Z, I\n",
    "from qiskit.opflow.primitive_ops import PauliOp\n",
    "\n",
    "def construct_reduced_hamiltonian(ham, terms_noncon, num_qubits = 0, out_raw_dict = False) -> PauliOp:\n",
    "    \"\"\"Determine reduced Hamiltonian on minimal contextual subset\n",
    "    \n",
    "    \"\"\"\n",
    "    #restructure WeightedPauliOperator ham from Qiskit list [[complex, Pauli]] -> dict {str:complex}\n",
    "    if str(type(ham)) == \"<class 'qiskit.aqua.operators.legacy.weighted_pauli_operator.WeightedPauliOperator'>\":\n",
    "        Paulis = ham.paulis\n",
    "        ham = {(p[1]).to_label():p[0] for p in Paulis}\n",
    "        \n",
    "    #Leave if already in correct format\n",
    "    elif str(type(ham)) == \"<class 'dict'>\":\n",
    "        pass\n",
    "    \n",
    "    #Reserved for alternative formats\n",
    "    else:\n",
    "        raise Exception(\"Unrecognised Hamiltonian Format\")\n",
    "            \n",
    "    #Find largest noncontextual subset\n",
    "    #terms_noncon = c.greedy_dfs(ham, 10, criterion='weight')[-1]\n",
    "    ham_noncon = {p:ham[p] for p in terms_noncon}\n",
    "    \n",
    "    #Contrusct epistricted model\n",
    "    model = c.quasi_model(ham_noncon)\n",
    "    fn_form = c.energy_function_form(ham_noncon, model)\n",
    "    gs_noncon = c.find_gs_noncon(ham_noncon)\n",
    "    ep_state = gs_noncon[1]\n",
    "    \n",
    "    if num_qubits == 0:\n",
    "        return [], gs_noncon[0]\n",
    "    \n",
    "    elif num_qubits == len(model[0][0]):\n",
    "        return sum([PauliOp(Pauli(k), ham[k]) for k in ham.keys()]), gs_noncon[0]\n",
    "    \n",
    "    else:\n",
    "        #Determine contextual subspace Hamiltonians\n",
    "        order = list(range(len(model[0][0]))) #this can be user-specified in future\n",
    "        order_ref = copy.deepcopy(order) #since get_reduced_hamiltonians empties original order\n",
    "        reduced_hamiltonians = c.get_reduced_hamiltonians(ham, model, fn_form, ep_state, order)\n",
    "        red_ham = reduced_hamiltonians[num_qubits]\n",
    "\n",
    "        if out_raw_dict == True:\n",
    "            return red_ham, gs_noncon[0]\n",
    "        else:\n",
    "            #return WeightedPauliOperator([[red_ham[k], Pauli(k)] for k in red_ham.keys()]), gs_noncon[0]\n",
    "            return sum([PauliOp(Pauli(k), red_ham[k]) for k in red_ham.keys()]), gs_noncon[0]            "
   ]
  },
  {
   "cell_type": "code",
   "execution_count": 32,
   "metadata": {},
   "outputs": [],
   "source": [
    "def CS_VQE(ham, terms_noncon, num_qubits, num_orbitals, num_particles, shift=0, \n",
    "           backend=BasicAer.get_backend(\"statevector_simulator\"), optimizer = SLSQP(maxiter=20)):\n",
    "    \"\"\"\n",
    "    \"\"\"\n",
    "    red_ham, gs_approx = construct_reduced_hamiltonian(ham, terms_noncon, num_qubits)\n",
    "    \n",
    "    if num_qubits == 0:\n",
    "        return gs_approx + shift\n",
    "    \n",
    "    else:\n",
    "        \"\"\"\n",
    "        initial_state = HartreeFock(\n",
    "            num_orbitals=num_orbitals,\n",
    "            num_particles=num_particles,\n",
    "            qubit_mapping='parity')\n",
    "        #print(initial_state.construct_circuit(mode='vector'))\n",
    "\n",
    "        var_form = UCCSD(\n",
    "            num_orbitals=num_orbitals,\n",
    "            num_particles=num_particles,\n",
    "            initial_state=initial_state,\n",
    "            qubit_mapping='parity')\n",
    "\n",
    "        ent_map = var_form.get_entangler_map('full', num_qubits)\n",
    "        ansatz = TwoLocal(num_qubits, 'ry', 'cx', ent_map, reps=2, insert_barriers=True)\n",
    "        \"\"\"\n",
    "        alpha = Parameter('α')\n",
    "        beta  = Parameter('β')\n",
    "              \n",
    "        anz = QuantumCircuit(3)\n",
    "        \n",
    "        anz.x(0), anz.x(1), anz.x(2)\n",
    "        \n",
    "        anz.barrier()\n",
    "        \n",
    "        anz.sdg(1)\n",
    "        anz.h(0), anz.h(1)\n",
    "        anz.cx(0, 1)\n",
    "        anz.rz(2 * alpha, 1)\n",
    "        anz.cx(0, 1)\n",
    "        anz.h(0), anz.h(1)\n",
    "        anz.s(1)\n",
    "        \n",
    "        anz.barrier()\n",
    "        \n",
    "        anz.sdg(2)\n",
    "        anz.h(0), anz.h(2)\n",
    "        anz.cx(0, 2)\n",
    "        anz.rz(2 * beta,2)\n",
    "        anz.cx(0, 2)\n",
    "        anz.h(0), anz.h(2)\n",
    "        anz.s(2)\n",
    "\n",
    "        print(anz.draw())\n",
    "        \n",
    "        seed = 50\n",
    "        algorithm_globals.random_seed = seed\n",
    "        qi = QuantumInstance(Aer.get_backend('statevector_simulator'), seed_transpiler=seed, seed_simulator=seed)\n",
    "        \n",
    "        slsqp = SLSQP(maxiter=30)\n",
    "        vqe = VQE(anz, optimizer=slsqp, quantum_instance=qi)\n",
    "        #vqe_result = np.real(vqe.run(backend)['eigenvalue']) + shift\n",
    "        vqe_run    = vqe.compute_minimum_eigenvalue(operator=red_ham)\n",
    "        vqe_result = vqe_run.optimal_value# + shift\n",
    "\n",
    "        return vqe_result"
   ]
  },
  {
   "cell_type": "code",
   "execution_count": 4,
   "metadata": {},
   "outputs": [
    {
     "name": "stdout",
     "output_type": "stream",
     "text": [
      "     ┌───┐ ░  ┌───┐                           ┌───┐      ░  ┌───┐           »\n",
      "q_0: ┤ X ├─░──┤ H ├────────■───────────────■──┤ H ├──────░──┤ H ├────────■──»\n",
      "     ├───┤ ░ ┌┴───┴┐┌───┐┌─┴─┐┌─────────┐┌─┴─┐├───┤┌───┐ ░  └───┘        │  »\n",
      "q_1: ┤ X ├─░─┤ SDG ├┤ H ├┤ X ├┤ RZ(2*α) ├┤ X ├┤ H ├┤ S ├─░───────────────┼──»\n",
      "     ├───┤ ░ └─────┘└───┘└───┘└─────────┘└───┘└───┘└───┘ ░ ┌─────┐┌───┐┌─┴─┐»\n",
      "q_2: ┤ X ├─░─────────────────────────────────────────────░─┤ SDG ├┤ H ├┤ X ├»\n",
      "     └───┘ ░                                             ░ └─────┘└───┘└───┘»\n",
      "«                     ┌───┐     \n",
      "«q_0: ─────────────■──┤ H ├─────\n",
      "«                  │  └───┘     \n",
      "«q_1: ─────────────┼────────────\n",
      "«     ┌─────────┐┌─┴─┐┌───┐┌───┐\n",
      "«q_2: ┤ RZ(2*β) ├┤ X ├┤ H ├┤ S ├\n",
      "«     └─────────┘└───┘└───┘└───┘\n",
      "-7.952197416866345 [-7.95219971]\n"
     ]
    }
   ],
   "source": [
    "alpha = Parameter('α')\n",
    "beta  = Parameter('β')\n",
    "\n",
    "anz = QuantumCircuit(3)\n",
    "\n",
    "anz.x(0), anz.x(1), anz.x(2)\n",
    "\n",
    "anz.barrier()\n",
    "\n",
    "anz.sdg(1)\n",
    "anz.h(0), anz.h(1)\n",
    "anz.cx(0, 1)\n",
    "anz.rz(2 * alpha, 1)\n",
    "anz.cx(0, 1)\n",
    "anz.h(0), anz.h(1)\n",
    "anz.s(1)\n",
    "\n",
    "anz.barrier()\n",
    "\n",
    "anz.sdg(2)\n",
    "anz.h(0), anz.h(2)\n",
    "anz.cx(0, 2)\n",
    "anz.rz(2 * beta,2)\n",
    "anz.cx(0, 2)\n",
    "anz.h(0), anz.h(2)\n",
    "anz.s(2)\n",
    "\n",
    "print(anz.draw())\n",
    "\n",
    "seed = 50\n",
    "algorithm_globals.random_seed = seed\n",
    "qi = QuantumInstance(Aer.get_backend('statevector_simulator'), seed_transpiler=seed, seed_simulator=seed)\n",
    "\n",
    "#ham_noncon = {'III':-6.823060333, 'ZII':-0.1110098029, 'IZI':-0.5370907285, 'IIZ':-0.3127149146, \n",
    "#              'ZZI':0.383637914, 'ZIZ':0.2581256772, 'IZZ':0.2523178271, 'IXX':0.01764480014, 'IYY':0.01764480014}\n",
    "\n",
    "#ham_con = {'XXI':0.06593809513, 'YYI':-0.06593809513, 'XIX':0.0121680127, 'YIY':0.0121680127}\n",
    "\n",
    "ham = {'III':-6.823060333, 'ZII':-0.1110098029, 'IZI':-0.5370907285, 'IIZ':-0.3127149146, \n",
    "       'ZZI':0.383637914, 'ZIZ':0.2581256772, 'IZZ':0.2523178271, 'IXX':0.01764480014, \n",
    "       'IYY':0.01764480014, 'XXI':0.06593809513, 'YYI':-0.06593809513, 'XIX':0.0121680127, 'YIY':0.0121680127}\n",
    "\n",
    "ham = sum([PauliOp(Pauli(k), ham[k]) for k in ham.keys()])\n",
    "\n",
    "result = NumPyEigensolver(ham).run()\n",
    "exact_energy = np.real(result.eigenvalues)\n",
    "\n",
    "slsqp = SLSQP(maxiter=20)\n",
    "vqe = VQE(anz, optimizer=slsqp, quantum_instance=qi)\n",
    "vqe_run    = vqe.compute_minimum_eigenvalue(operator=ham)\n",
    "vqe_result = vqe_run.optimal_value\n",
    "\n",
    "print(vqe_result, exact_energy)"
   ]
  },
  {
   "cell_type": "code",
   "execution_count": 102,
   "metadata": {},
   "outputs": [
    {
     "data": {
      "text/plain": [
       "['II', 'IZ', 'ZI', 'ZZ', 'IX', 'ZX']"
      ]
     },
     "execution_count": 102,
     "metadata": {},
     "output_type": "execute_result"
    }
   ],
   "source": [
    "pre_ham = {(p[1]).to_label():p[0] for p in get_qubit_op_2(1)[0].paulis}\n",
    "terms_noncon = (c.greedy_dfs(pre_ham, 10, criterion='weight'))[-1]\n",
    "terms_noncon"
   ]
  },
  {
   "cell_type": "code",
   "execution_count": 33,
   "metadata": {},
   "outputs": [
    {
     "ename": "KeyError",
     "evalue": "'III'",
     "output_type": "error",
     "traceback": [
      "\u001b[0;31m---------------------------------------------------------------------------\u001b[0m",
      "\u001b[0;31mKeyError\u001b[0m                                  Traceback (most recent call last)",
      "\u001b[0;32m<ipython-input-33-a27afcd40c98>\u001b[0m in \u001b[0;36m<module>\u001b[0;34m()\u001b[0m\n\u001b[1;32m     17\u001b[0m     \u001b[0;31m#print(exact_energies[-1])\u001b[0m\u001b[0;34m\u001b[0m\u001b[0;34m\u001b[0m\u001b[0m\n\u001b[1;32m     18\u001b[0m \u001b[0;34m\u001b[0m\u001b[0m\n\u001b[0;32m---> 19\u001b[0;31m     \u001b[0mvqe_result_0\u001b[0m \u001b[0;34m=\u001b[0m \u001b[0mCS_VQE\u001b[0m\u001b[0;34m(\u001b[0m\u001b[0mqubitOp\u001b[0m\u001b[0;34m,\u001b[0m \u001b[0mterms_noncon\u001b[0m\u001b[0;34m,\u001b[0m \u001b[0;36m0\u001b[0m\u001b[0;34m,\u001b[0m \u001b[0mnum_spin_orbitals\u001b[0m\u001b[0;34m,\u001b[0m \u001b[0mnum_particles\u001b[0m\u001b[0;34m,\u001b[0m \u001b[0mshift\u001b[0m\u001b[0;34m=\u001b[0m\u001b[0mshift\u001b[0m\u001b[0;34m)\u001b[0m\u001b[0;34m\u001b[0m\u001b[0m\n\u001b[0m\u001b[1;32m     20\u001b[0m     \u001b[0mvqe_energies_0\u001b[0m\u001b[0;34m.\u001b[0m\u001b[0mappend\u001b[0m\u001b[0;34m(\u001b[0m\u001b[0mvqe_result_0\u001b[0m\u001b[0;34m)\u001b[0m\u001b[0;34m\u001b[0m\u001b[0m\n\u001b[1;32m     21\u001b[0m     \u001b[0;31m#print(\"0 done\", vqe_result_0)\u001b[0m\u001b[0;34m\u001b[0m\u001b[0;34m\u001b[0m\u001b[0m\n",
      "\u001b[0;32m<ipython-input-32-3aa1d8cd5c27>\u001b[0m in \u001b[0;36mCS_VQE\u001b[0;34m(ham, terms_noncon, num_qubits, num_orbitals, num_particles, shift, backend, optimizer)\u001b[0m\n\u001b[1;32m      3\u001b[0m     \"\"\"\n\u001b[1;32m      4\u001b[0m     \"\"\"\n\u001b[0;32m----> 5\u001b[0;31m     \u001b[0mred_ham\u001b[0m\u001b[0;34m,\u001b[0m \u001b[0mgs_approx\u001b[0m \u001b[0;34m=\u001b[0m \u001b[0mconstruct_reduced_hamiltonian\u001b[0m\u001b[0;34m(\u001b[0m\u001b[0mham\u001b[0m\u001b[0;34m,\u001b[0m \u001b[0mterms_noncon\u001b[0m\u001b[0;34m,\u001b[0m \u001b[0mnum_qubits\u001b[0m\u001b[0;34m)\u001b[0m\u001b[0;34m\u001b[0m\u001b[0m\n\u001b[0m\u001b[1;32m      6\u001b[0m \u001b[0;34m\u001b[0m\u001b[0m\n\u001b[1;32m      7\u001b[0m     \u001b[0;32mif\u001b[0m \u001b[0mnum_qubits\u001b[0m \u001b[0;34m==\u001b[0m \u001b[0;36m0\u001b[0m\u001b[0;34m:\u001b[0m\u001b[0;34m\u001b[0m\u001b[0m\n",
      "\u001b[0;32m<ipython-input-31-70b8f6601c00>\u001b[0m in \u001b[0;36mconstruct_reduced_hamiltonian\u001b[0;34m(ham, terms_noncon, num_qubits, out_raw_dict)\u001b[0m\n\u001b[1;32m     23\u001b[0m     \u001b[0;31m#Find largest noncontextual subset\u001b[0m\u001b[0;34m\u001b[0m\u001b[0;34m\u001b[0m\u001b[0m\n\u001b[1;32m     24\u001b[0m     \u001b[0;31m#terms_noncon = c.greedy_dfs(ham, 10, criterion='weight')[-1]\u001b[0m\u001b[0;34m\u001b[0m\u001b[0;34m\u001b[0m\u001b[0m\n\u001b[0;32m---> 25\u001b[0;31m     \u001b[0mham_noncon\u001b[0m \u001b[0;34m=\u001b[0m \u001b[0;34m{\u001b[0m\u001b[0mp\u001b[0m\u001b[0;34m:\u001b[0m\u001b[0mham\u001b[0m\u001b[0;34m[\u001b[0m\u001b[0mp\u001b[0m\u001b[0;34m]\u001b[0m \u001b[0;32mfor\u001b[0m \u001b[0mp\u001b[0m \u001b[0;32min\u001b[0m \u001b[0mterms_noncon\u001b[0m\u001b[0;34m}\u001b[0m\u001b[0;34m\u001b[0m\u001b[0m\n\u001b[0m\u001b[1;32m     26\u001b[0m \u001b[0;34m\u001b[0m\u001b[0m\n\u001b[1;32m     27\u001b[0m     \u001b[0;31m#Contrusct epistricted model\u001b[0m\u001b[0;34m\u001b[0m\u001b[0;34m\u001b[0m\u001b[0m\n",
      "\u001b[0;32m<ipython-input-31-70b8f6601c00>\u001b[0m in \u001b[0;36m<dictcomp>\u001b[0;34m(.0)\u001b[0m\n\u001b[1;32m     23\u001b[0m     \u001b[0;31m#Find largest noncontextual subset\u001b[0m\u001b[0;34m\u001b[0m\u001b[0;34m\u001b[0m\u001b[0m\n\u001b[1;32m     24\u001b[0m     \u001b[0;31m#terms_noncon = c.greedy_dfs(ham, 10, criterion='weight')[-1]\u001b[0m\u001b[0;34m\u001b[0m\u001b[0;34m\u001b[0m\u001b[0m\n\u001b[0;32m---> 25\u001b[0;31m     \u001b[0mham_noncon\u001b[0m \u001b[0;34m=\u001b[0m \u001b[0;34m{\u001b[0m\u001b[0mp\u001b[0m\u001b[0;34m:\u001b[0m\u001b[0mham\u001b[0m\u001b[0;34m[\u001b[0m\u001b[0mp\u001b[0m\u001b[0;34m]\u001b[0m \u001b[0;32mfor\u001b[0m \u001b[0mp\u001b[0m \u001b[0;32min\u001b[0m \u001b[0mterms_noncon\u001b[0m\u001b[0;34m}\u001b[0m\u001b[0;34m\u001b[0m\u001b[0m\n\u001b[0m\u001b[1;32m     26\u001b[0m \u001b[0;34m\u001b[0m\u001b[0m\n\u001b[1;32m     27\u001b[0m     \u001b[0;31m#Contrusct epistricted model\u001b[0m\u001b[0;34m\u001b[0m\u001b[0;34m\u001b[0m\u001b[0m\n",
      "\u001b[0;31mKeyError\u001b[0m: 'III'"
     ]
    }
   ],
   "source": [
    "import warnings\n",
    "warnings.filterwarnings(\"ignore\", category=DeprecationWarning)\n",
    "\n",
    "distances = np.arange(0.5, 4, 0.1)\n",
    "exact_energies = []\n",
    "vqe_energies_0 = []\n",
    "vqe_energies_1 = []\n",
    "vqe_energies_2 = []\n",
    "vqe_energies_3 = []\n",
    "vqe_energies_4 = []\n",
    "\n",
    "for dist in distances:\n",
    "    qubitOp, num_particles, num_spin_orbitals, shift = get_qubit_op_2(dist)\n",
    "    \n",
    "    result = NumPyEigensolver(qubitOp).run()\n",
    "    exact_energies.append(np.real(result.eigenvalues) + shift)\n",
    "    #print(exact_energies[-1])\n",
    "    \n",
    "    vqe_result_0 = CS_VQE(qubitOp, terms_noncon, 0, num_spin_orbitals, num_particles, shift=shift)\n",
    "    vqe_energies_0.append(vqe_result_0)\n",
    "    #print(\"0 done\", vqe_result_0)\n",
    "    \n",
    "    #vqe_result_1 = CS_VQE(qubitOp, terms_noncon, 1, num_spin_orbitals, num_particles, shift=shift)#, backend=backend)\n",
    "    #vqe_energies_1.append(vqe_result_1)\n",
    "    #print(\"1 done\", vqe_result_1)\n",
    "    \n",
    "    vqe_result_2 = CS_VQE(qubitOp, terms_noncon, 2, num_spin_orbitals, num_particles, shift=shift)#, backend=backend)\n",
    "    vqe_energies_2.append(vqe_result_2)\n",
    "    #print(\"2 done\", vqe_result_2)\n",
    "    \n",
    "    #vqe_result_3 = CS_VQE(qubitOp, terms_noncon, 3, num_spin_orbitals, num_particles, shift=shift)#, backend=backend)\n",
    "    #vqe_energies_3.append(vqe_result_3)\n",
    "    #print(\"3 done\", vqe_result_3)\n",
    "    \n",
    "    #vqe_result_4 = CS_VQE(qubitOp, terms_noncon, 4, num_spin_orbitals, num_particles, shift=shift)#, backend=backend)\n",
    "    #vqe_energies_4.append(vqe_result_4)\n",
    "    #print(\"4 done\", vqe_result_4)\n",
    "    \n",
    "    print(\"Interatomic Distance:\", np.round(dist, 2), \"VQE Result:\", vqe_result_2, \"Exact Energy:\", exact_energies[-1])\n",
    "    \n",
    "print(\"All energies have been calculated\")"
   ]
  },
  {
   "cell_type": "code",
   "execution_count": null,
   "metadata": {},
   "outputs": [],
   "source": [
    "ON IMBQ Device: Interatomic Distance: 2 VQE Result: -7.728168138392638 Exact Energy: [-7.86015321]"
   ]
  },
  {
   "cell_type": "code",
   "execution_count": 107,
   "metadata": {},
   "outputs": [
    {
     "data": {
      "image/png": "[encoded data removed]",
      "text/plain": [
       "<Figure size 432x288 with 1 Axes>"
      ]
     },
     "metadata": {
      "needs_background": "light"
     },
     "output_type": "display_data"
    }
   ],
   "source": [
    "plt.plot(distances, exact_energies, label=\"Exact Energy\", color='black')\n",
    "plt.scatter(distances, vqe_energies_0, color='b',marker='o',s=28, label=\"CS_VQE Energy 0 qubits (classical)\")\n",
    "#plt.scatter(distances, vqe_energies_1, color='g',marker='d',s=20, label=\"CS_VQE Energy 1 qubits\")\n",
    "plt.scatter(distances, vqe_energies_2, color='y',marker='x',s=12, label=\"CS_VQE Energy 2 qubits (full)\")\n",
    "#plt.scatter(distances, vqe_energies_3, color='c',marker='x',s=12, label=\"CS_VQE Energy 3 qubits\")\n",
    "#plt.scatter(distances, vqe_energies_4, color='m',marker='x',s=12, label=\"CS_VQE Energy 4 qubits (full)\")\n",
    "#plt.scatter(distances, vqe_energies, label=\"VQE Energy\",marker='x')\n",
    "\n",
    "#plt.xlim([0.5, 3.5])\n",
    "#plt.ylim([-7.9, -7.6])\n",
    "plt.xlabel('Atomic distance (Angstrom)')\n",
    "plt.ylabel('Energy')\n",
    "plt.legend()\n",
    "plt.title('LiH Bond Dissociation Curve')\n",
    "\n",
    "\n",
    "plt.savefig(\"HeH+ CS_VQE qubit comparisons.png\", dpi=300)\n",
    "plt.show()"
   ]
  },
  {
   "cell_type": "code",
   "execution_count": null,
   "metadata": {},
   "outputs": [],
   "source": []
  },
  {
   "cell_type": "code",
   "execution_count": 144,
   "metadata": {},
   "outputs": [
    {
     "data": {
      "text/plain": [
       "(<qiskit.aqua.operators.legacy.weighted_pauli_operator.WeightedPauliOperator at 0x7fba368407f0>,\n",
       " -7.830905584637077)"
      ]
     },
     "execution_count": 144,
     "metadata": {},
     "output_type": "execute_result"
    }
   ],
   "source": [
    "construct_reduced_hamiltonian(qubitOp, 3)"
   ]
  },
  {
   "cell_type": "code",
   "execution_count": null,
   "metadata": {},
   "outputs": [],
   "source": []
  },
  {
   "cell_type": "code",
   "execution_count": 26,
   "metadata": {},
   "outputs": [
    {
     "name": "stdout",
     "output_type": "stream",
     "text": [
      "[-0.960490906211567, -0.96049094, -0.9604912, -0.9668129, -0.989739]\n",
      "true ground state energy: -7.86015321 \n",
      "\n",
      "CS-VQE approximations: [-7.830905584637077, -7.830905560822208, -7.834841911167819, -7.855121795506198, -7.860153321594913] \n",
      "\n",
      "CS-VQE errors: [array([ 2.92476254e-02,  2.92476492e-02,  2.53112988e-02,  5.03141449e-03,\n",
      "       -1.11594913e-07])] \n",
      "\n",
      "chosen order: [1, 3, 0, 2]\n"
     ]
    }
   ],
   "source": [
    "n_qubits = 4\n",
    "true_gs = -7.86015321\n",
    "order = [0, 1, 2, 3]\n",
    "\n",
    "csvqe = c.csvqe_approximations_heuristic(ham, ham_noncon, n_qubits, true_gs)\n",
    "print(c.contextual_subspace_approximations(ham, model, fn_form, ep_state, order))\n",
    "\n",
    "print('true ground state energy:', csvqe[0], '\\n')\n",
    "print('CS-VQE approximations:', [c+shift for c in csvqe[1]], '\\n')\n",
    "print('CS-VQE errors:', [csvqe[2]+shift], '\\n')\n",
    "print('chosen order:', csvqe[3])"
   ]
  },
  {
   "cell_type": "code",
   "execution_count": 107,
   "metadata": {},
   "outputs": [
    {
     "data": {
      "text/plain": [
       "4"
      ]
     },
     "execution_count": 107,
     "metadata": {},
     "output_type": "execute_result"
    }
   ],
   "source": [
    "red_ham = reduced_hamiltonians[4]\n",
    "reconstruct_Qham = WeightedPauliOperator([[red_ham[k], Pauli(k)] for k in red_ham.keys()])\n",
    "reconstruct_Qham.num_qubits"
   ]
  },
  {
   "cell_type": "code",
   "execution_count": 4,
   "metadata": {},
   "outputs": [
    {
     "name": "stdout",
     "output_type": "stream",
     "text": [
      "[0. 0. 0. 1. 0. 0. 0. 0. 0. 0. 0. 0. 0. 0. 0. 0.]\n"
     ]
    }
   ],
   "source": [
    "g = globals()\n",
    "\n",
    "initial_state = HartreeFock(\n",
    "        num_orbitals=6,\n",
    "        num_particles=2,\n",
    "        qubit_mapping='parity')\n",
    "print(initial_state.construct_circuit(mode='vector'))\n",
    "\n",
    "var_form = UCCSD(\n",
    "        num_orbitals=6,\n",
    "        num_particles=2,\n",
    "        initial_state=initial_state,\n",
    "        qubit_mapping='parity')\n",
    "\n",
    "for q in range(1,6):\n",
    "    g['ent_map_{0}'.format(q)] = var_form.get_entangler_map('sca', q)\n",
    "    g['ansatz_{}'.format(q)]  = TwoLocal(q, 'ry', 'cx', g['ent_map_{0}'.format(q)], reps=1, insert_barriers=True)"
   ]
  },
  {
   "cell_type": "code",
   "execution_count": 58,
   "metadata": {},
   "outputs": [
    {
     "data": {
      "text/plain": [
       "2"
      ]
     },
     "execution_count": 58,
     "metadata": {},
     "output_type": "execute_result"
    }
   ],
   "source": [
    "from qiskit import QuantumCircuit\n",
    "from qiskit.circuit import Parameter\n",
    "\n",
    "theta = Parameter('θ')\n",
    "\n",
    "anz = QuantumCircuit(2)\n",
    "anz.sdg(1)\n",
    "anz.h(0), anz.h(1)\n",
    "anz.cx(0, 1)\n",
    "anz.rz(2 * theta,1)\n",
    "anz.cx(0, 1)\n",
    "anz.h(0), anz.h(1)\n",
    "anz.s(1)\n",
    "\n",
    "anz.num_qubits"
   ]
  },
  {
   "cell_type": "code",
   "execution_count": 56,
   "metadata": {},
   "outputs": [
    {
     "data": {
      "text/plain": [
       "qiskit.circuit.quantumcircuit.QuantumCircuit"
      ]
     },
     "execution_count": 56,
     "metadata": {},
     "output_type": "execute_result"
    }
   ],
   "source": [
    "type(anz)"
   ]
  },
  {
   "cell_type": "code",
   "execution_count": 133,
   "metadata": {},
   "outputs": [
    {
     "data": {
      "text/plain": [
       "\"<class 'dict'>\""
      ]
     },
     "execution_count": 133,
     "metadata": {},
     "output_type": "execute_result"
    }
   ],
   "source": [
    "str(type({p:ham[p] for p in terms_noncon}))"
   ]
  },
  {
   "cell_type": "code",
   "execution_count": 62,
   "metadata": {},
   "outputs": [],
   "source": [
    "from qiskit.opflow import X, Z, I\n",
    "\n",
    "H2_op = (-1.052373245772859 * I ^ I) + \\\n",
    "        (0.39793742484318045 * I ^ Z) + \\\n",
    "        (-0.39793742484318045 * Z ^ I) + \\\n",
    "        (-0.01128010425623538 * Z ^ Z) + \\\n",
    "        (0.18093119978423156 * X ^ X)"
   ]
  },
  {
   "cell_type": "code",
   "execution_count": 63,
   "metadata": {},
   "outputs": [
    {
     "data": {
      "text/plain": [
       "qiskit.opflow.primitive_ops.pauli_sum_op.PauliSumOp"
      ]
     },
     "execution_count": 63,
     "metadata": {},
     "output_type": "execute_result"
    }
   ],
   "source": [
    "type(H2_op)"
   ]
  },
  {
   "cell_type": "code",
   "execution_count": 76,
   "metadata": {},
   "outputs": [],
   "source": []
  },
  {
   "cell_type": "code",
   "execution_count": 84,
   "metadata": {},
   "outputs": [
    {
     "data": {
      "text/plain": [
       "qiskit.quantum_info.operators.symplectic.pauli.Pauli"
      ]
     },
     "execution_count": 84,
     "metadata": {},
     "output_type": "execute_result"
    }
   ],
   "source": []
  },
  {
   "cell_type": "code",
   "execution_count": null,
   "metadata": {},
   "outputs": [],
   "source": []
  }
 ],
 "metadata": {
  "kernelspec": {
   "display_name": "Python 3",
   "language": "python",
   "name": "python3"
  },
  "language_info": {
   "codemirror_mode": {
    "name": "ipython",
    "version": 3
   },
   "file_extension": ".py",
   "mimetype": "text/x-python",
   "name": "python",
   "nbconvert_exporter": "python",
   "pygments_lexer": "ipython3",
   "version": "3.7.0"
  }
 },
 "nbformat": 4,
 "nbformat_minor": 5
}
