{
 "cells": [
  {
   "cell_type": "code",
   "execution_count": 23,
   "metadata": {
    "scrolled": true
   },
   "outputs": [],
   "source": [
    "import json\n",
    "import numpy as np\n",
    "import cs_vqe.circuit as cs_circ\n",
    "import utils.plotting_tools as plot\n",
    "import utils.qonversion_tools as qonvert\n",
    "import utils.linalg_tools as la\n",
    "import utils.bit_tools as bit\n",
    "import utils.cs_vqe_tools_original as cs_tools\n",
    "from qat.lang.AQASM import Program, X, H, S, CNOT, RZ\n",
    "from qat.core.variables import Variable\n",
    "from qat.core import Observable, Term\n",
    "from matplotlib import pyplot as plt"
   ]
  },
  {
   "cell_type": "code",
   "execution_count": 24,
   "metadata": {},
   "outputs": [
    {
     "data": {
      "text/plain": [
       "dict_keys(['H2_3-21G_SINGLET', 'H6_STO-3G_SINGLET', 'H2_6-31G_SINGLET', 'H2_6-311G_SINGLET', 'H3+_STO-3G_SINGLET', 'H3+_3-21G_SINGLET', 'H3+_STO-3G_SINGLET_alt', 'HeH+_3-21G_SINGLET', 'HeH+_3-21G_SINGLET_alt', 'HeH+_6-311G_SINGLET', 'H2O_STO-3G_SINGLET', 'H2O_STO-3G_SINGLET_alt', 'BeH+_STO-3G_SINGLET', 'LiH_STO-3G_SINGLET', 'CH+_STO-3G_SINGLET', 'HF_STO-3G_SINGLET', 'B+_STO-3G_SINGLET', 'N+_STO-3G_SINGLET', 'OH+_STO-3G_SINGLET', 'CH2_STO-3G_SINGLET', 'BeH2_STO-3G_SINGLET', 'Be_STO-3G_SINGLET', 'C_STO-3G_SINGLET', 'NH_STO-3G_SINGLET', 'F+_STO-3G_SINGLET', 'Li+_STO-3G_SINGLET', 'BH_STO-3G_SINGLET', 'NeH+_STO-3G_SINGLET', 'NH2+_STO-3G_SINGLET', 'BH2+_STO-3G_SINGLET'])"
      ]
     },
     "execution_count": 24,
     "metadata": {},
     "output_type": "execute_result"
    }
   ],
   "source": [
    "with open('data/model_data.json', 'r') as json_file:\n",
    "    model_data = json.load(json_file)\n",
    "    \n",
    "model_data.keys()"
   ]
  },
  {
   "cell_type": "code",
   "execution_count": 25,
   "metadata": {},
   "outputs": [],
   "source": [
    "speciesname = \"Be_STO-3G_SINGLET\"\n",
    "molecule    = model_data[speciesname]\n",
    "\n",
    "ham         = molecule['ham']\n",
    "uccsd       = molecule['uccsd']\n",
    "hf_config   = molecule['hf_config']\n",
    "num_qubits  = molecule['num_qubits']\n",
    "terms_noncon= molecule['terms_noncon']\n",
    "#num_tapered = molecule['num_tapered']"
   ]
  },
  {
   "cell_type": "code",
   "execution_count": 26,
   "metadata": {},
   "outputs": [
    {
     "name": "stdout",
     "output_type": "stream",
     "text": [
      "Be_STO-3G_SINGLET reaches chemical accuracy for 3-qubit CS-VQE\n"
     ]
    },
    {
     "name": "stderr",
     "output_type": "stream",
     "text": [
      "/usr/local/lib64/python3.6/site-packages/scipy/sparse/linalg/eigen/arpack/arpack.py:1269: RuntimeWarning: k >= N - 1 for N * N square matrix. Attempting to use scipy.linalg.eig instead.\n",
      "  RuntimeWarning)\n"
     ]
    },
    {
     "data": {
      "image/png": "[encoded data removed]",
      "text/plain": [
       "<Figure size 432x288 with 1 Axes>"
      ]
     },
     "metadata": {},
     "output_type": "display_data"
    }
   ],
   "source": [
    "mol_circ = cs_circ.cs_vqe_circuit(hamiltonian = ham,\n",
    "                                  terms_noncon= terms_noncon,\n",
    "                                  num_qubits  = num_qubits,\n",
    "                                  hf_config   = hf_config)\n",
    "\n",
    "num_sim_q = mol_circ.chem_acc_num_q\n",
    "print('%s reaches chemical accuracy for %i-qubit CS-VQE' % (speciesname, num_sim_q))\n",
    "mol_circ.plot_cs_vqe_errors()"
   ]
  },
  {
   "cell_type": "code",
   "execution_count": 28,
   "metadata": {},
   "outputs": [
    {
     "name": "stdout",
     "output_type": "stream",
     "text": [
      "Exact ground state energy:  -14.40365512171954\n",
      "[(0.3333333335946387, '01001'), (0.33229651727306736, '01010'), (0.16666666650648967, '01100'), (0.1661189547138682, '01101'), (0.0009227362769283821, '11001')]\n"
     ]
    },
    {
     "name": "stderr",
     "output_type": "stream",
     "text": [
      "/usr/local/lib/python3.6/site-packages/ipykernel_launcher.py:18: UserWarning: FixedFormatter should only be used together with FixedLocator\n"
     ]
    },
    {
     "data": {
      "image/png": "[encoded data removed]",
      "text/plain": [
       "<Figure size 432x288 with 1 Axes>"
      ]
     },
     "metadata": {},
     "output_type": "display_data"
    }
   ],
   "source": [
    "import numpy as np\n",
    "from qat.dqs.hamiltonians import SpinHamiltonian\n",
    "\n",
    "ham_rot = cs_tools.rotate_operator(mol_circ.ham_rotations, ham)\n",
    "full_terms = [Term(coeff, op, list(range(num_qubits))) for op, coeff in ham_rot.items()]\n",
    "ham_spin = SpinHamiltonian(nqbits=num_qubits, pauli_terms=full_terms)\n",
    "ham_matrix = ham_spin.get_matrix()\n",
    "eigvals, eigvecs = np.linalg.eigh(ham_matrix)\n",
    "gs = sorted(list(zip(eigvals, eigvecs)), key=lambda x:x[0])[0]\n",
    "\n",
    "print(\"Exact ground state energy: \", gs[0])\n",
    "basis_states = [bit.int_to_bin(i, num_qubits) for i in range(2**num_qubits)]\n",
    "sig_states = sorted(list(zip(abs(gs[1])**2, basis_states)), key=lambda x:-x[0])\n",
    "print(sig_states[:5])\n",
    "\n",
    "fig, ax = plt.subplots()\n",
    "l1=ax.bar(basis_states, [abs(a)**2 for a in gs[1]])\n",
    "l2=ax.set_xticklabels(basis_states, rotation=90)"
   ]
  },
  {
   "cell_type": "code",
   "execution_count": 33,
   "metadata": {},
   "outputs": [
    {
     "name": "stdout",
     "output_type": "stream",
     "text": [
      "01011\n",
      "00100\n",
      "{'ZZIZZ': 1.3207745626178302e-06, 'ZIIYZ': 0.7214346440063115, 'ZZIXZ': -0.6924825300509336}\n",
      "{'YZYIY': 1.0}\n",
      "{'ZXZZX': -0.7214346440075206, 'ZXZXX': 1.2677701554057557e-06, 'ZYZIX': -0.6924825300497731}\n",
      "{'XYXZZ': 0.7214346440075206, 'XYXXZ': -1.2677701554057557e-06, 'XXXIZ': -0.6924825300497731}\n"
     ]
    }
   ],
   "source": [
    "nonconstate = mol_circ.reference_state()\n",
    "print(nonconstate)\n",
    "print(cs_tools.rotate_operator(mol_circ.ham_rotations, {''.join(blank_op):1}))\n",
    "anz={}\n",
    "for amp, state in sig_states[:4]:\n",
    "    differs=[index for index, b in enumerate(state) if nonconstate[index]!=b]\n",
    "    pot_ops=[]\n",
    "    for op in uccsd.keys():\n",
    "        diff_bits = {op[i] for i in differs}\n",
    "        same_bits = {op[i] for i in range(num_qubits) if i not in differs}\n",
    "        if diff_bits in [{'X'}, {'Y'}, {'X', 'Y'}] and same_bits in [{'I'},{'Z'},{'I', 'Z'}]:\n",
    "            pot_ops.append(op)\n",
    "    blank_op = ['I' for i in range(num_qubits)]\n",
    "    for i in differs:\n",
    "        blank_op[i] = 'Y'\n",
    "    unrot_ops = cs_tools.rotate_operator(mol_circ.ham_rotations, {''.join(blank_op):1})\n",
    "    print(unrot_ops)"
   ]
  },
  {
   "cell_type": "code",
   "execution_count": 21,
   "metadata": {},
   "outputs": [
    {
     "data": {
      "text/plain": [
       "{'IIIII': 1.0}"
      ]
     },
     "execution_count": 21,
     "metadata": {},
     "output_type": "execute_result"
    }
   ],
   "source": [
    "anz = cs_tools.rotate_operator(mol_circ.ham_rotations, {'IIIII':1})\n",
    "anz"
   ]
  },
  {
   "cell_type": "code",
   "execution_count": 14,
   "metadata": {},
   "outputs": [],
   "source": [
    "#anz_ops = ['XIZXX', 'IYZXX'] #for B+ \n",
    "#anz_ops = ['YXIIXXII', 'IXIIZZZY', 'XYIIZZXX', 'YYIIXYII'] #for HF\n",
    "#anz = {op:uccsd[op] for op in anz_ops}\n",
    "#anz={'YYYIY':1, 'YYYYY':1}\n",
    "ham_dict, num_sim_q, num_params, instructions = mol_circ.qlm_circuit(anz, num_sim_q).values()"
   ]
  },
  {
   "cell_type": "code",
   "execution_count": 15,
   "metadata": {},
   "outputs": [
    {
     "name": "stdout",
     "output_type": "stream",
     "text": [
      "Hamiltonian: -12.488597999526664 * I^3 +\n",
      "-0.8582942510393043 * (ZZ|[0, 2]) +\n",
      "-0.8582942510393037 * (ZZZ|[0, 1, 2]) +\n",
      "0.02304318020306532 * (Z|[1]) +\n",
      "0.8582942510393039 * (ZZ|[1, 2]) +\n",
      "-0.023043180203062546 * (ZZ|[0, 1]) +\n",
      "-0.02304318020306378 * (Z|[0]) +\n",
      "-0.6424707358333475 * (Z|[2]) +\n",
      "0.004106477226173261 * (XZ|[0, 1]) +\n",
      "0.01140810864884969 * (YZ|[0, 1]) +\n",
      "-0.004106477226173261 * (X|[0]) +\n",
      "-0.01140810864884969 * (Y|[0]) +\n",
      "-0.004106477226173261 * (YYZ|[0, 1, 2]) +\n",
      "0.01140810864884969 * (XYZ|[0, 1, 2]) +\n",
      "0.01140810864884969 * (YXZ|[0, 1, 2]) +\n",
      "0.004106477226173261 * (XXZ|[0, 1, 2]) +\n",
      "-0.012124689610585465 * (ZXZ|[0, 1, 2]) +\n",
      "-0.012124689610585465 * (XZ|[1, 2]) +\n",
      "-0.043404490470751914 * (ZYX|[0, 1, 2]) +\n",
      "0.043404490470751914 * (YX|[1, 2]) +\n",
      "-0.040839242911408766 * (XXX|[0, 1, 2]) +\n",
      "-0.040839242911408766 * (YYX|[0, 1, 2]) +\n",
      "-0.040839242911408766 * (YY|[0, 2]) +\n",
      "-0.040839242911408766 * (YZY|[0, 1, 2]) +\n",
      "0.014700545277252224 * (YXX|[0, 1, 2]) +\n",
      "-0.014700545277252224 * (XYX|[0, 1, 2]) +\n",
      "-0.014700545277252224 * (XY|[0, 2]) +\n",
      "-0.014700545277252224 * (XZY|[0, 1, 2])\n"
     ]
    }
   ],
   "source": [
    "pauli_terms = [Term(coeff, op, list(range(num_sim_q))) for op, coeff in ham_dict.items()]\n",
    "hamiltonian = Observable(num_sim_q,\n",
    "               pauli_terms=pauli_terms)\n",
    "print(\"Hamiltonian:\", hamiltonian)"
   ]
  },
  {
   "cell_type": "code",
   "execution_count": 16,
   "metadata": {},
   "outputs": [],
   "source": [
    "gate_dict = {'X':X,'H':H,'S':S,'SDG':S.dag(),'RZ':RZ,'CX':CNOT}\n",
    "prog = Program()\n",
    "qbits_reg = prog.qalloc(num_sim_q)\n",
    "params = [prog.new_var(float, \"\\\\P{}\".format(i)) for i in range(num_params)]\n",
    "\n",
    "for gate, var_num, q_pos in instructions:\n",
    "    q_pos = [num_sim_q-p-1 for p in q_pos] #qubit ordering is reversed compared with Qiskit\n",
    "    if gate == 'RZ':\n",
    "        prog.apply(RZ(params[var_num[0]]), qbits_reg[q_pos[0]])\n",
    "    elif gate == 'CX':\n",
    "        prog.apply(CNOT, qbits_reg[q_pos[0]], qbits_reg[q_pos[1]])\n",
    "    else:\n",
    "        prog.apply(gate_dict[gate], qbits_reg[q_pos[0]])\n",
    "\n",
    "qc = prog.to_circ()"
   ]
  },
  {
   "cell_type": "code",
   "execution_count": 17,
   "metadata": {},
   "outputs": [
    {
     "name": "stdout",
     "output_type": "stream",
     "text": [
      "Minimum energy = -14.351880476202037\n"
     ]
    }
   ],
   "source": [
    "from qat.plugins import ScipyMinimizePlugin\n",
    "from qat.qpus import Stabs, LinAlg, MPS, Feynman\n",
    "from qat.plugins import SPSAMinimizePlugin\n",
    "from qat.plugins import PSOMinimizePlugin\n",
    "\n",
    "theta0 = np.zeros(2**num_sim_q)#mol_circ.init_param\n",
    "linalg_qpu = LinAlg(use_GPU=False)\n",
    "\n",
    "optimizer_pso = PSOMinimizePlugin(theta0, max_iter=50, swarm_number=10)\n",
    "optimizer_spsa = SPSAMinimizePlugin(theta0)\n",
    "optimizer_scipy = ScipyMinimizePlugin(method=\"Nelder-Mead\",\n",
    "                                      tol=1e-3,\n",
    "                                      options={\"maxiter\": 1000})\n",
    "\n",
    "qpu = optimizer_scipy | linalg_qpu\n",
    "\n",
    "job = qc.to_job(job_type=\"OBS\", observable=hamiltonian)\n",
    "\n",
    "result = qpu.submit(job)\n",
    "\n",
    "print(\"Minimum energy =\", result.value)\n",
    "#print(\"Optimal angles =\", result.meta_data[\"parameters\"])"
   ]
  },
  {
   "cell_type": "code",
   "execution_count": 18,
   "metadata": {
    "scrolled": true
   },
   "outputs": [
    {
     "data": {
      "text/plain": [
       "<matplotlib.legend.Legend at 0x1527a67d7c18>"
      ]
     },
     "execution_count": 18,
     "metadata": {},
     "output_type": "execute_result"
    },
    {
     "data": {
      "image/png": "[encoded data removed]",
      "text/plain": [
       "<Figure size 432x288 with 1 Axes>"
      ]
     },
     "metadata": {},
     "output_type": "display_data"
    }
   ],
   "source": [
    "nfev = len(eval(result.meta_data['optimization_trace']))\n",
    "energy=eval(result.meta_data['optimization_trace'])\n",
    "plt.plot([np.log10(abs(x-mol_circ.truegs)) for x in energy], label='CS-VQE convergence')\n",
    "plt.hlines(np.log10(0.0016), 0, nfev, color='green', label='Chemical accuracy')\n",
    "#plt.hlines(true_gs+0.0016, 0, nfev, color='pink')\n",
    "plt.xlabel(\"optimization count\")\n",
    "plt.ylabel(\"Energy (Ha)\")\n",
    "plt.legend()"
   ]
  },
  {
   "cell_type": "code",
   "execution_count": null,
   "metadata": {},
   "outputs": [],
   "source": []
  }
 ],
 "metadata": {
  "kernelspec": {
   "display_name": "Python 3",
   "language": "python",
   "name": "python3"
  },
  "language_info": {
   "codemirror_mode": {
    "name": "ipython",
    "version": 3
   },
   "file_extension": ".py",
   "mimetype": "text/x-python",
   "name": "python",
   "nbconvert_exporter": "python",
   "pygments_lexer": "ipython3",
   "version": "3.6.8"
  }
 },
 "nbformat": 4,
 "nbformat_minor": 2
}
