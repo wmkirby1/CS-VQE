{
 "cells": [
  {
   "cell_type": "code",
   "execution_count": 1,
   "metadata": {
    "scrolled": true
   },
   "outputs": [
    {
     "name": "stdout",
     "output_type": "stream",
     "text": [
      "Will store matrices in dense form\n",
      "Qiskit Nature not installed\n"
     ]
    }
   ],
   "source": [
    "import json\n",
    "import numpy as np\n",
    "import cs_vqe.circuit as cs_circ\n",
    "import utils.plotting_tools as plot\n",
    "import utils.qonversion_tools as qonvert\n",
    "import utils.linalg_tools as la\n",
    "import utils.bit_tools as bit\n",
    "import utils.cs_vqe_tools_original as cs_tools\n",
    "from qat.lang.AQASM import Program, X, H, S, CNOT, RZ\n",
    "from qat.core.variables import Variable\n",
    "from qat.core import Observable, Term\n",
    "from matplotlib import pyplot as plt\n",
    "from qat.plugins import ScipyMinimizePlugin\n",
    "from qat.qpus import Stabs, LinAlg, MPS, Feynman\n",
    "import random"
   ]
  },
  {
   "cell_type": "code",
   "execution_count": 2,
   "metadata": {},
   "outputs": [
    {
     "name": "stdout",
     "output_type": "stream",
     "text": [
      "H2O_STO-3G_SINGLET 7 84 184\n",
      "LiH_STO-3G_SINGLET 4 36 56\n",
      "HF_STO-3G_SINGLET 4 8 44\n",
      "CH2_STO-3G_SINGLET 8 34 204\n",
      "BeH2_STO-3G_SINGLET 7 60 92\n",
      "Be_STO-3G_SINGLET 3 12 36\n",
      "C_STO-3G_SINGLET 4 28 44\n",
      "NH_STO-3G_SINGLET 6 24 168\n",
      "BH_STO-3G_SINGLET 6 64 72\n"
     ]
    }
   ],
   "source": [
    "with open('data/model_data.json', 'r') as json_file:\n",
    "    model_data = json.load(json_file)\n",
    "\n",
    "for mol in model_data.keys():\n",
    "    print(mol, model_data[mol]['chem_acc_num_q'], len(model_data[mol]['uccsd3']), len(model_data[mol]['uccsd5']))"
   ]
  },
  {
   "cell_type": "code",
   "execution_count": 19,
   "metadata": {},
   "outputs": [],
   "source": [
    "speciesname = \"C_STO-3G_SINGLET\"\n",
    "mol_model    = model_data[speciesname]\n",
    "uccsd = mol_model['uccsd5']"
   ]
  },
  {
   "cell_type": "code",
   "execution_count": 20,
   "metadata": {},
   "outputs": [
    {
     "name": "stdout",
     "output_type": "stream",
     "text": [
      "Number of terms in the UCCSD ansatz: 44\n",
      "C_STO-3G_SINGLET reaches chemical accuracy for 4-qubit CS-VQE\n"
     ]
    }
   ],
   "source": [
    "mol_circ = cs_circ.cs_vqe_circuit(model_data=mol_model)\n",
    "\n",
    "num_sim_q = mol_circ.chem_acc_num_q\n",
    "print('Number of terms in the UCCSD ansatz:', len(uccsd))\n",
    "print('%s reaches chemical accuracy for %i-qubit CS-VQE' % (speciesname, num_sim_q))\n",
    "#mol_circ.plot_cs_vqe_errors()"
   ]
  },
  {
   "cell_type": "code",
   "execution_count": 21,
   "metadata": {},
   "outputs": [],
   "source": [
    "def plot_qlm_result(result):\n",
    "    nfev = len(eval(result.meta_data['optimization_trace']))\n",
    "    energy=eval(result.meta_data['optimization_trace'])\n",
    "\n",
    "    fig, ax = plt.subplots(figsize=(10,4))\n",
    "    ax.plot([np.log10(abs(e-mol_circ.truegs)) for e in energy], label='CS-VQE convergence', color = \"black\")\n",
    "    ax.hlines(np.log10(0.0016), 0, nfev, color='green', label='Chemical accuracy', ls='--')\n",
    "    ax.hlines(np.log10(mol_circ.noncon-mol_circ.truegs), 0, nfev, color='red', label='Noncontextual ground state energy', ls='--')\n",
    "    #plt.hlines(true_gs+0.0016, 0, nfev, color='pink')\n",
    "    ax.set_title('{}: {}-qubit CS-VQE simulation'.format(speciesname, num_sim_q))\n",
    "    ax.set_xlabel(\"Optimization count\")\n",
    "    ax.set_ylabel(\"Logarithmic error [log(Ha)]\")\n",
    "    ax.legend()\n",
    "    return fig"
   ]
  },
  {
   "cell_type": "code",
   "execution_count": 22,
   "metadata": {},
   "outputs": [],
   "source": [
    "class QLM_circuit():\n",
    "    \"\"\"Class for building and executing QLM circuits\n",
    "    \"\"\"\n",
    "    gate_dict = {'X':X,'H':H,'S':S,'SDG':S.dag(),'RZ':RZ,'CX':CNOT}\n",
    "    \n",
    "    def __init__(self,\n",
    "                 n_qubits,\n",
    "                 qpu_type   = LinAlg(use_GPU=False),\n",
    "                 opt_method = 'COBYLA',\n",
    "                 maxiter    = 1000\n",
    "                 ):\n",
    "        \n",
    "        optimizer=ScipyMinimizePlugin(method=opt_method,\n",
    "                                    tol=1e-3,\n",
    "                                    options={\"maxiter\": maxiter})\n",
    "        self.qpu = optimizer | qpu_type\n",
    "        self.n_qubits = n_qubits\n",
    "        \n",
    "        \n",
    "    def construct_hamiltonian(self, ham_dict):\n",
    "        assert(len(list(ham_dict.keys())[0])==self.n_qubits)\n",
    "        pauli_terms = [Term(coeff, op, list(range(self.n_qubits))) for op, coeff in ham_dict.items()]\n",
    "        hamiltonian = Observable(self.n_qubits,pauli_terms=pauli_terms)\n",
    "        return hamiltonian\n",
    "        \n",
    "        \n",
    "    def build_qlm_circuit(self, instructions):\n",
    "        for i in instructions[::-1]:\n",
    "            if i[1]!=[]:\n",
    "                num_params = i[1][0] + 1\n",
    "                break\n",
    "\n",
    "        prog = Program()\n",
    "        qbits_reg = prog.qalloc(self.n_qubits)\n",
    "        params = [prog.new_var(float, \"\\\\P{}\".format(i)) for i in range(num_params)]\n",
    "\n",
    "        for gate, var_num, q_pos in instructions:\n",
    "            q_pos = [self.n_qubits-p-1 for p in q_pos] #qubit ordering is reversed compared with Qiskit\n",
    "            if gate == 'RZ':\n",
    "                prog.apply(RZ(params[var_num[0]]), qbits_reg[q_pos[0]])\n",
    "            elif gate == 'CX':\n",
    "                prog.apply(CNOT, qbits_reg[q_pos[0]], qbits_reg[q_pos[1]])\n",
    "            else:\n",
    "                prog.apply(self.gate_dict[gate], qbits_reg[q_pos[0]])\n",
    "\n",
    "        qc = prog.to_circ()\n",
    "\n",
    "        return qc\n",
    "    \n",
    "    \n",
    "    def run_vqe(self, ham_dict, instructions):\n",
    "        \n",
    "        hamiltonian = self.construct_hamiltonian(ham_dict)\n",
    "        qc = self.build_qlm_circuit(instructions)\n",
    "        job = qc.to_job(job_type=\"OBS\", observable=hamiltonian)\n",
    "        result = self.qpu.submit(job)\n",
    "        \n",
    "        return result"
   ]
  },
  {
   "cell_type": "code",
   "execution_count": 23,
   "metadata": {},
   "outputs": [
    {
     "name": "stdout",
     "output_type": "stream",
     "text": [
      "0.007489478753790024\n"
     ]
    },
    {
     "data": {
      "image/png": "[encoded data removed]",
      "text/plain": [
       "<Figure size 720x288 with 1 Axes>"
      ]
     },
     "metadata": {},
     "output_type": "display_data"
    }
   ],
   "source": [
    "qlm_circ = QLM_circuit(num_sim_q, opt_method='COBYLA', maxiter=1000)\n",
    "ham_dict, num_sim_q, num_params, instructions = mol_circ.qlm_circuit(uccsd, num_sim_q).values()\n",
    "result = qlm_circ.run_vqe(ham_dict, instructions)\n",
    "error  = result.value-mol_circ.truegs; print(error)\n",
    "fig = plot_qlm_result(result)"
   ]
  },
  {
   "cell_type": "code",
   "execution_count": null,
   "metadata": {},
   "outputs": [
    {
     "name": "stdout",
     "output_type": "stream",
     "text": [
      "Noncon error: 0.07075434472042019 \n",
      "\n",
      "<!> QLM error \n",
      "\n",
      "<!> QLM error \n",
      "\n",
      "<!> QLM error \n",
      "\n",
      "<!> QLM error \n",
      "\n",
      "<!> QLM error \n",
      "\n",
      "<!> QLM error \n",
      "\n",
      "<!> QLM error \n",
      "\n",
      "<!> QLM error \n",
      "\n",
      "<!> QLM error \n",
      "\n",
      "<!> QLM error \n",
      "\n",
      "<!> QLM error \n",
      "\n",
      "<!> QLM error \n",
      "\n",
      "<!> QLM error \n",
      "\n",
      "<!> QLM error \n",
      "\n",
      "<!> QLM error \n",
      "\n",
      "Ansatz terms: ['IXXIZZYI'] | error = 0.06920550440547402 \n",
      "\n",
      "QLM error on terms: ['IIZZIIII', 'IIXXIIII', 'IIYYIIII', 'IYXIZZXI', 'IYYZZZXI', 'IYYIZZYI', 'IYXZZZYI', 'YZIXZZZX', 'XZZXZZZX', 'XZIYZZZX', 'YZZYZZZX', 'XZIXZZZY', 'YZZXZZZY', 'YZIYZZZY', 'XZZYZZZY']\n",
      "Ansatz terms: ['IXXIZZYI', 'YZIXZZZX'] | error = 0.0676568218543494 \n",
      "\n",
      "Ansatz terms: ['IXXIZZYI', 'YZIXZZZX', 'IXYIZZXI'] | error = 0.06765144588336369 \n",
      "\n",
      "<!> QLM error \n",
      "\n",
      "Ansatz terms: ['IXXIZZYI', 'YZIXZZZX', 'IXYIZZXI', 'IIIIIIII'] | error = 0.06765111981763994 \n",
      "\n",
      "QLM error on terms: ['ZZZXZZZZ']\n",
      "Ansatz terms: ['IXXIZZYI', 'YZIXZZZX', 'IXYIZZXI', 'IIIIIIII', 'IYXZZZYI'] | error = 0.06765237690150627 \n",
      "\n"
     ]
    }
   ],
   "source": [
    "print('Noncon error:', mol_circ.noncon-mol_circ.truegs, '\\n')\n",
    "qlm_circ = QLM_circuit(num_sim_q, opt_method='COBYLA', maxiter=5000)\n",
    "chemacc=0.0016\n",
    "current_error=1\n",
    "final_ops = []\n",
    "while current_error > chemacc:\n",
    "    pauli_errors = []\n",
    "    lost = []\n",
    "    for pauli in uccsd.keys():\n",
    "        if pauli not in final_ops:\n",
    "            anz_ops = final_ops + [pauli] #random.choices(list(uccsd.keys()), k=30)\n",
    "            #print('Ansatz operators:', anz_ops)\n",
    "            anz = {op:uccsd[op] for op in anz_ops}\n",
    "            ham_dict, num_sim_q, num_params, instructions = mol_circ.qlm_circuit(anz, num_sim_q).values()\n",
    "            try:\n",
    "                result = qlm_circ.run_vqe(ham_dict, instructions)\n",
    "                error  = result.value-mol_circ.truegs\n",
    "                pauli_errors.append((pauli, error))\n",
    "                #print(\"Minimum energy =\", result.value, '| error =', error, '| Chemical accuracy?', error<0.0016)\n",
    "                #print(\"Optimal angles =\", result.meta_data[\"parameters\"], '\\n')\n",
    "\n",
    "                if error<0.0016:\n",
    "                    #final_ops.append(pauli)\n",
    "                    plot_qlm_result(result)\n",
    "                    break\n",
    "            except:\n",
    "                print('<!> QLM error \\n')\n",
    "                lost.append(pauli)\n",
    "\n",
    "    pauli_out, current_error = sorted(pauli_errors, key=lambda x:x[1])[0]\n",
    "    final_ops.append(pauli_out)\n",
    "    \n",
    "    print('Ansatz terms:', final_ops, '| error =', current_error, '\\n')\n",
    "    if lost!=[]:\n",
    "        print('QLM error on terms:', lost)\n",
    "    \n",
    "print(final_ops)"
   ]
  },
  {
   "cell_type": "code",
   "execution_count": null,
   "metadata": {},
   "outputs": [],
   "source": [
    "#fig.savefig('plots/'+speciesname+'_CS-VQE_test.png', dpi=300, bbox_inches='tight')"
   ]
  },
  {
   "cell_type": "code",
   "execution_count": null,
   "metadata": {},
   "outputs": [],
   "source": []
  },
  {
   "cell_type": "code",
   "execution_count": null,
   "metadata": {},
   "outputs": [],
   "source": [
    "#data={}\n",
    "#for k in result.meta_data.keys():\n",
    "#    data[str(k)] = result.meta_data[k]\n",
    "#    \n",
    "#with open(\"data/QLM_circuits/\"+speciesname+\"_CS-VQE_test.json\", \"w\") as outfile: \n",
    "#    json.dump(data, outfile)"
   ]
  },
  {
   "cell_type": "code",
   "execution_count": null,
   "metadata": {},
   "outputs": [],
   "source": []
  }
 ],
 "metadata": {
  "kernelspec": {
   "display_name": "Python 3",
   "language": "python",
   "name": "python3"
  },
  "language_info": {
   "codemirror_mode": {
    "name": "ipython",
    "version": 3
   },
   "file_extension": ".py",
   "mimetype": "text/x-python",
   "name": "python",
   "nbconvert_exporter": "python",
   "pygments_lexer": "ipython3",
   "version": "3.6.8"
  }
 },
 "nbformat": 4,
 "nbformat_minor": 2
}
