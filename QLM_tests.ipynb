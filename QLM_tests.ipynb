{
 "cells": [
  {
   "cell_type": "code",
   "execution_count": 1,
   "metadata": {
    "scrolled": true
   },
   "outputs": [
    {
     "name": "stdout",
     "output_type": "stream",
     "text": [
      "Package not installed\n"
     ]
    }
   ],
   "source": [
    "import json\n",
    "import numpy as np\n",
    "import cs_vqe.circuit as cs_circ\n",
    "import utils.plotting_tools as plot\n",
    "import utils.qonversion_tools as qonvert\n",
    "import utils.linalg_tools as la\n",
    "import utils.bit_tools as bit\n",
    "import utils.cs_vqe_tools_original as cs_tools\n",
    "from qat.lang.AQASM import Program, X, H, S, CNOT, RZ\n",
    "from qat.core.variables import Variable\n",
    "from qat.core import Observable, Term\n",
    "from matplotlib import pyplot as plt\n",
    "from qat.plugins import ScipyMinimizePlugin\n",
    "from qat.qpus import Stabs, LinAlg, MPS, Feynman\n",
    "import random"
   ]
  },
  {
   "cell_type": "code",
   "execution_count": 2,
   "metadata": {},
   "outputs": [
    {
     "data": {
      "text/plain": [
       "dict_keys(['H2_3-21G_SINGLET', 'H6_STO-3G_SINGLET', 'H2_6-31G_SINGLET', 'H2_6-311G_SINGLET', 'H3+_STO-3G_SINGLET', 'H3+_3-21G_SINGLET', 'H3+_STO-3G_SINGLET_alt', 'HeH+_3-21G_SINGLET', 'HeH+_3-21G_SINGLET_alt', 'HeH+_6-311G_SINGLET', 'H2O_STO-3G_SINGLET', 'H2O_STO-3G_SINGLET_alt', 'BeH+_STO-3G_SINGLET', 'LiH_STO-3G_SINGLET', 'CH+_STO-3G_SINGLET', 'HF_STO-3G_SINGLET', 'B+_STO-3G_SINGLET', 'N+_STO-3G_SINGLET', 'OH+_STO-3G_SINGLET', 'CH2_STO-3G_SINGLET', 'BeH2_STO-3G_SINGLET', 'Be_STO-3G_SINGLET', 'C_STO-3G_SINGLET', 'NH_STO-3G_SINGLET', 'F+_STO-3G_SINGLET', 'Li+_STO-3G_SINGLET', 'BH_STO-3G_SINGLET', 'NeH+_STO-3G_SINGLET', 'NH2+_STO-3G_SINGLET', 'BH2+_STO-3G_SINGLET'])"
      ]
     },
     "execution_count": 2,
     "metadata": {},
     "output_type": "execute_result"
    }
   ],
   "source": [
    "with open('data/model_data.json', 'r') as json_file:\n",
    "    model_data = json.load(json_file)\n",
    "    \n",
    "model_data.keys()"
   ]
  },
  {
   "cell_type": "code",
   "execution_count": 3,
   "metadata": {},
   "outputs": [],
   "source": [
    "speciesname = \"LiH_STO-3G_SINGLET\"\n",
    "molecule    = model_data[speciesname]\n",
    "\n",
    "ham         = molecule['ham']\n",
    "uccsd       = molecule['uccsd']\n",
    "hf_config   = molecule['hf_config']\n",
    "num_qubits  = molecule['num_qubits']\n",
    "terms_noncon= molecule['terms_noncon']\n",
    "#num_tapered = molecule['num_tapered']"
   ]
  },
  {
   "cell_type": "code",
   "execution_count": 4,
   "metadata": {},
   "outputs": [
    {
     "name": "stdout",
     "output_type": "stream",
     "text": [
      "LiH_STO-3G_SINGLET reaches chemical accuracy for 4-qubit CS-VQE\n"
     ]
    }
   ],
   "source": [
    "mol_circ = cs_circ.cs_vqe_circuit(hamiltonian = ham,\n",
    "                                  terms_noncon= terms_noncon,\n",
    "                                  num_qubits  = num_qubits,\n",
    "                                  hf_config   = hf_config)\n",
    "\n",
    "num_sim_q = mol_circ.chem_acc_num_q\n",
    "print('%s reaches chemical accuracy for %i-qubit CS-VQE' % (speciesname, num_sim_q))\n",
    "#mol_circ.plot_cs_vqe_errors()"
   ]
  },
  {
   "cell_type": "code",
   "execution_count": 5,
   "metadata": {
    "scrolled": false
   },
   "outputs": [
    {
     "name": "stdout",
     "output_type": "stream",
     "text": [
      "['XXIIIIXY', 'IYIIZZZX', 'ZIYZZIZI', 'IIIIYXYY', 'IXZZYZYI', 'IYZZZXIX', 'IIIIYZXI', 'ZZZIXYZZ']\n",
      "Minimum energy = -7.86315866399358 | error = 0.019603566978441123 | Chemical accuracy? False\n",
      "Optimal angles = [-1.5975347228195032, -0.0017732296773913029, 3.142965517286732, 0.0012906093388923424, 0.007065325585700671, 0.0027480279399316027]\n",
      "['XXIIIIXY', 'IYIIZZZX', 'ZIYZZIZI', 'IIIIYXYY', 'IXZZYZYI', 'IYIIYIYZ', 'ZXIZIYZX', 'IXZZYZYI']\n",
      "Minimum energy = -7.87724228618896 | error = 0.00551994478306117 | Chemical accuracy? False\n",
      "Optimal angles = [0.11206133724026617, -0.00444864302761019, 0.002432810386549398, 0.011799248180631756]\n",
      "['XXIIIIXY', 'IYIIZZZX', 'ZIYZZIZI', 'IIIIYXYY', 'IXZZYZYI', 'ZZIIZXII', 'IIYIIIXX', 'XIZZZYIX']\n",
      "Minimum energy = -7.877241956515188 | error = 0.005520274456833896 | Chemical accuracy? False\n",
      "Optimal angles = [0.11221891889287716, -0.005127863959968563, 0.0010605414364005703, 0.011797866152397281]\n",
      "['XXIIIIXY', 'IYIIZZZX', 'ZIYZZIZI', 'IIIIYXYY', 'IXZZYZYI', 'XZIIZZYI', 'ZXIZIYZX', 'YIIIYZXI']\n",
      "Minimum energy = -7.863115545623132 | error = 0.01964668534888947 | Chemical accuracy? False\n",
      "Optimal angles = [-0.35590343640999506, 0.0039017958801373666, -0.0008365002134643482, 0.09794313718730947, -0.0034223530248758587, 3.141517667915007]\n",
      "['XXIIIIXY', 'IYIIZZZX', 'ZIYZZIZI', 'IIIIYXYY', 'IXZZYZYI', 'XXZIZZZZ', 'IZXIIZIZ', 'XZIIZYYZ']\n",
      "Minimum energy = -7.877242641999743 | error = 0.005519588972278555 | Chemical accuracy? False\n",
      "Optimal angles = [0.11211715050999851, -0.0040200377252386284, 0.0019002430268813312, 0.012208164303238678]\n",
      "['XXIIIIXY', 'IYIIZZZX', 'ZIYZZIZI', 'IIIIYXYY', 'IXZZYZYI', 'ZYIIXZYI', 'ZIXZZIXY', 'XZIIZZZZ']\n",
      "Minimum energy = -7.877242252226225 | error = 0.005519978745796905 | Chemical accuracy? False\n",
      "Optimal angles = [0.11240559145079074, -0.0034952414325156336, 0.0014700189045986386, -0.0013350174959921622, 0.012834150928508587]\n",
      "['XXIIIIXY', 'IYIIZZZX', 'ZIYZZIZI', 'IIIIYXYY', 'IXZZYZYI', 'XZZZIXYZ', 'XIZZZYYI', 'ZZXZZZZZ']\n",
      "Minimum energy = -7.876902144573369 | error = 0.005860086398652875 | Chemical accuracy? False\n",
      "Optimal angles = [3.255919148333744, -0.00019341739753079554, 0.38498001343347776, -0.005221649508465468]\n",
      "['XXIIIIXY', 'IYIIZZZX', 'ZIYZZIZI', 'IIIIYXYY', 'IXZZYZYI', 'YXZIIIII', 'YZIIZZZZ', 'YZZZIYXZ']\n",
      "Minimum energy = -7.877258789434742 | error = 0.005503441537279663 | Chemical accuracy? False\n",
      "Optimal angles = [0.11256642692180995, -0.004303033610596332, 0.0019554134852433724, -0.005049188616159783, 0.011895341107387486]\n",
      "['XXIIIIXY', 'IYIIZZZX', 'ZIYZZIZI', 'IIIIYXYY', 'IXZZYZYI', 'XZZZIXXZ', 'YZZZIYZX', 'XIIIIYZX']\n",
      "Minimum energy = -7.877073668110527 | error = 0.0056885628614944395 | Chemical accuracy? False\n",
      "Optimal angles = [0.11191219905239662, 3.132872113662015, 0.002009414369403967, 3.0728560585302533]\n",
      "['XXIIIIXY', 'IYIIZZZX', 'ZIYZZIZI', 'IIIIYXYY', 'IXZZYZYI', 'YZZZIYZX', 'YXIIIIYY', 'ZXIZIYZX']\n",
      "Minimum energy = -7.876103801542397 | error = 0.006658429429624135 | Chemical accuracy? False\n",
      "Optimal angles = [1.3050975259492337, -0.0040146659929272905, 0.8622882524566042, 1.9631420482566104, 0.009746505862702867]\n",
      "['XXIIIIXY', 'IYIIZZZX', 'ZIYZZIZI', 'IIIIYXYY', 'IXZZYZYI', 'IIZIXYII', 'XZIIZXIX', 'IXZZYZYI']\n",
      "Minimum energy = -7.877094456260591 | error = 0.005667774711430873 | Chemical accuracy? False\n",
      "Optimal angles = [0.11211178536999285, 3.066965713849062, 0.001785278463494098, 0.9569256851894535, 3.1244620124156635]\n",
      "['XXIIIIXY', 'IYIIZZZX', 'ZIYZZIZI', 'IIIIYXYY', 'IXZZYZYI', 'XIIIIIYZ', 'ZZZYZZZZ', 'ZXZZIZIY']\n",
      "Minimum energy = -7.877244076439972 | error = 0.005518154532049735 | Chemical accuracy? False\n",
      "Optimal angles = [0.112522233930594, -0.005058075186066427, 0.0012948455630848682, 0.0017066629409628175, 0.012774023365864839]\n",
      "['XXIIIIXY', 'IYIIZZZX', 'ZIYZZIZI', 'IIIIYXYY', 'IXZZYZYI', 'IIZXIIII', 'ZZIIZXII', 'XZIIZXIX']\n",
      "Minimum energy = -7.877242256068446 | error = 0.005519974903575253 | Chemical accuracy? False\n",
      "Optimal angles = [0.11293098123312863, -0.005125557515886563, 0.0014191188182814, 0.0004703394975683849, 0.011900950388035772]\n",
      "['XXIIIIXY', 'IYIIZZZX', 'ZIYZZIZI', 'IIIIYXYY', 'IXZZYZYI', 'XIIIIXYI', 'ZXZZIZIZ', 'XYZIIIII']\n",
      "Minimum energy = -7.863240668611537 | error = 0.019521562360484523 | Chemical accuracy? False\n",
      "Optimal angles = [0.7759871950746123, -0.0033024557630956346, 3.142581278854323, 0.011424140217092253]\n",
      "['XXIIIIXY', 'IYIIZZZX', 'ZIYZZIZI', 'IIIIYXYY', 'IXZZYZYI', 'YZIIYIYZ', 'IYZZZIZX', 'ZXZZXIXZ']\n",
      "Minimum energy = -7.863144815281984 | error = 0.019617415690037276 | Chemical accuracy? False\n",
      "Optimal angles = [1.5785846604233589, -0.0017100591777161579, 3.1325137164138104, -0.008370157046390757, 0.006455932306107851]\n",
      "['XXIIIIXY', 'IYIIZZZX', 'ZIYZZIZI', 'IIIIYXYY', 'IXZZYZYI', 'IIIYIIYY', 'XYZZIZIZ', 'ZIZZXXZI']\n",
      "Minimum energy = -7.877028659328173 | error = 0.0057335716438489115 | Chemical accuracy? False\n",
      "Optimal angles = [0.1113565058636019, 3.0851761132434903, 0.001593635332739569, 3.061616718969075]\n",
      "['XXIIIIXY', 'IYIIZZZX', 'ZIYZZIZI', 'IIIIYXYY', 'IXZZYZYI', 'IIIIYXYY', 'YZIZXIXZ', 'IXIIXIXZ']\n"
     ]
    },
    {
     "ename": "FileNotFoundError",
     "evalue": "[Errno 2] No usable temporary directory found in ['/tmp', '/var/tmp', '/usr/tmp', '/home/di46kaq/qc-research/CS-VQE']",
     "output_type": "error",
     "traceback": [
      "\u001b[0;31m---------------------------------------------------------------------------\u001b[0m",
      "\u001b[0;31mOSError\u001b[0m                                   Traceback (most recent call last)",
      "\u001b[0;32m/usr/lib64/python3.6/site-packages/qat/plugins/junction.so\u001b[0m in \u001b[0;36mqat.plugins.junction.Junction._submit_batch\u001b[0;34m()\u001b[0m\n",
      "\u001b[0;32m/usr/lib64/python3.6/site-packages/qat/plugins/optimizer.so\u001b[0m in \u001b[0;36mqat.plugins.optimizer.Optimizer.run\u001b[0;34m()\u001b[0m\n",
      "\u001b[0;32m/usr/lib64/python3.6/site-packages/qat/vsolve/optimize/scipy_binder.so\u001b[0m in \u001b[0;36mqat.vsolve.optimize.scipy_binder.ScipyMinimizePlugin.optimize\u001b[0;34m()\u001b[0m\n",
      "\u001b[0;32m/usr/local/lib64/python3.6/site-packages/scipy/optimize/_minimize.py\u001b[0m in \u001b[0;36mminimize\u001b[0;34m(fun, x0, args, method, jac, hess, hessp, bounds, constraints, tol, callback, options)\u001b[0m\n",
      "\u001b[0;32m/usr/local/lib64/python3.6/site-packages/scipy/optimize/cobyla.py\u001b[0m in \u001b[0;36mwrapper\u001b[0;34m(*args, **kwargs)\u001b[0m\n",
      "\u001b[0;32m/usr/local/lib64/python3.6/site-packages/scipy/optimize/cobyla.py\u001b[0m in \u001b[0;36m_minimize_cobyla\u001b[0;34m(fun, x0, args, constraints, rhobeg, tol, maxiter, disp, catol, **unknown_options)\u001b[0m\n",
      "\u001b[0;32m/usr/local/lib64/python3.6/site-packages/scipy/optimize/cobyla.py\u001b[0m in \u001b[0;36mcalcfc\u001b[0;34m(x, con)\u001b[0m\n",
      "\u001b[0;32m/usr/lib64/python3.6/site-packages/qat/vsolve/optimize/scipy_binder.so\u001b[0m in \u001b[0;36mqat.vsolve.optimize.scipy_binder.ScipyMinimizePlugin.optimize.evaluate_aux\u001b[0;34m()\u001b[0m\n",
      "\u001b[0;32m/usr/lib64/python3.6/site-packages/qat/plugins/optimizer.so\u001b[0m in \u001b[0;36mqat.plugins.optimizer.Optimizer.evaluate\u001b[0;34m()\u001b[0m\n",
      "\u001b[0;32m/usr/lib64/python3.6/site-packages/qat/plugins/junction.so\u001b[0m in \u001b[0;36mqat.plugins.junction.Junction.execute\u001b[0;34m()\u001b[0m\n",
      "\u001b[0;32m/usr/lib64/python3.6/site-packages/qat/core/qpu/qpu.so\u001b[0m in \u001b[0;36mqat.core.qpu.qpu.CommonQPU.submit\u001b[0;34m()\u001b[0m\n",
      "\u001b[0;32m/usr/lib64/python3.6/site-packages/qat/resourcemanager/convenience_contextmanager.so\u001b[0m in \u001b[0;36mqat.resourcemanager.convenience_contextmanager.ResourceManagement.__enter__\u001b[0;34m()\u001b[0m\n",
      "\u001b[0;32m/usr/lib64/python3.6/site-packages/qat/resourcemanager/resourcemanagement_client.so\u001b[0m in \u001b[0;36mqat.resourcemanager.resourcemanagement_client.ResourceManagementClient.perform_resource_management_for_batch\u001b[0;34m()\u001b[0m\n",
      "\u001b[0;32m/usr/lib64/python3.6/site-packages/qat/resourcemanager/resourcemanagement_client.so\u001b[0m in \u001b[0;36mqat.resourcemanager.resourcemanagement_client.ResourceManagementClient._lock_resources\u001b[0;34m()\u001b[0m\n",
      "\u001b[0;31mOSError\u001b[0m: [Errno 24] Too many open files: '/run/qlm/resourcemanager/locks/bf7b8c20-6775-4879-855b-3200d468b626'",
      "\nDuring handling of the above exception, another exception occurred:\n",
      "\u001b[0;31mFileNotFoundError\u001b[0m                         Traceback (most recent call last)",
      "\u001b[0;32m<ipython-input-5-76fa42746e30>\u001b[0m in \u001b[0;36m<module>\u001b[0;34m\u001b[0m\n\u001b[1;32m     33\u001b[0m     \u001b[0mjob\u001b[0m \u001b[0;34m=\u001b[0m \u001b[0mqc\u001b[0m\u001b[0;34m.\u001b[0m\u001b[0mto_job\u001b[0m\u001b[0;34m(\u001b[0m\u001b[0mjob_type\u001b[0m\u001b[0;34m=\u001b[0m\u001b[0;34m\"OBS\"\u001b[0m\u001b[0;34m,\u001b[0m \u001b[0mobservable\u001b[0m\u001b[0;34m=\u001b[0m\u001b[0mhamiltonian\u001b[0m\u001b[0;34m)\u001b[0m\u001b[0;34m\u001b[0m\u001b[0;34m\u001b[0m\u001b[0m\n\u001b[1;32m     34\u001b[0m \u001b[0;34m\u001b[0m\u001b[0m\n\u001b[0;32m---> 35\u001b[0;31m     \u001b[0mresult\u001b[0m \u001b[0;34m=\u001b[0m \u001b[0mqpu\u001b[0m\u001b[0;34m.\u001b[0m\u001b[0msubmit\u001b[0m\u001b[0;34m(\u001b[0m\u001b[0mjob\u001b[0m\u001b[0;34m)\u001b[0m\u001b[0;34m\u001b[0m\u001b[0;34m\u001b[0m\u001b[0m\n\u001b[0m\u001b[1;32m     36\u001b[0m     \u001b[0merror\u001b[0m \u001b[0;34m=\u001b[0m \u001b[0mresult\u001b[0m\u001b[0;34m.\u001b[0m\u001b[0mvalue\u001b[0m\u001b[0;34m-\u001b[0m\u001b[0mmol_circ\u001b[0m\u001b[0;34m.\u001b[0m\u001b[0mtruegs\u001b[0m\u001b[0;34m\u001b[0m\u001b[0;34m\u001b[0m\u001b[0m\n\u001b[1;32m     37\u001b[0m     \u001b[0;32mif\u001b[0m \u001b[0merror\u001b[0m\u001b[0;34m<\u001b[0m\u001b[0;36m0.0016\u001b[0m\u001b[0;34m:\u001b[0m\u001b[0;34m\u001b[0m\u001b[0;34m\u001b[0m\u001b[0m\n",
      "\u001b[0;32m/usr/lib64/python3.6/site-packages/qat/core/qpu/qpu.so\u001b[0m in \u001b[0;36mqat.core.qpu.qpu.CommonQPU.submit\u001b[0;34m()\u001b[0m\n",
      "\u001b[0;32m/usr/lib64/python3.6/site-packages/qat/core/qpu/qpu.so\u001b[0m in \u001b[0;36mqat.core.qpu.qpu.CommonQPU.submit\u001b[0;34m()\u001b[0m\n",
      "\u001b[0;32m/usr/lib64/python3.6/site-packages/qat/plugins/junction.so\u001b[0m in \u001b[0;36mqat.plugins.junction.Junction._submit_batch\u001b[0;34m()\u001b[0m\n",
      "\u001b[0;32m/usr/lib64/python3.6/tempfile.py\u001b[0m in \u001b[0;36mmkstemp\u001b[0;34m(suffix, prefix, dir, text)\u001b[0m\n",
      "\u001b[0;32m/usr/lib64/python3.6/tempfile.py\u001b[0m in \u001b[0;36m_sanitize_params\u001b[0;34m(prefix, suffix, dir)\u001b[0m\n",
      "\u001b[0;32m/usr/lib64/python3.6/tempfile.py\u001b[0m in \u001b[0;36mgettempdir\u001b[0;34m()\u001b[0m\n",
      "\u001b[0;32m/usr/lib64/python3.6/tempfile.py\u001b[0m in \u001b[0;36m_get_default_tempdir\u001b[0;34m()\u001b[0m\n",
      "\u001b[0;31mFileNotFoundError\u001b[0m: [Errno 2] No usable temporary directory found in ['/tmp', '/var/tmp', '/usr/tmp', '/home/di46kaq/qc-research/CS-VQE']"
     ]
    }
   ],
   "source": [
    "gate_dict = {'X':X,'H':H,'S':S,'SDG':S.dag(),'RZ':RZ,'CX':CNOT}\n",
    "theta0 = mol_circ.init_param\n",
    "linalg_qpu = LinAlg(use_GPU=False)\n",
    "optimizer_scipy = ScipyMinimizePlugin(method=\"COBYLA\",\n",
    "                                      tol=1e-3,\n",
    "                                      options={\"maxiter\": 2500})\n",
    "\n",
    "qpu = optimizer_scipy | linalg_qpu\n",
    "\n",
    "for i in range(100):\n",
    "    #anz_ops = ['YXIIXXII', 'YYIIZZYX', 'IYIIZXII', 'YYIIIIYX', 'XZIIZZYI'] + \n",
    "    anz_ops = ['XXIIIIXY', 'IYIIZZZX', 'ZIYZZIZI', 'IIIIYXYY', 'IXZZYZYI'] + random.choices(list(uccsd.keys()), k=3)\n",
    "    print(anz_ops)\n",
    "    anz = {op:uccsd[op] for op in anz_ops}\n",
    "    ham_dict, num_sim_q, num_params, instructions = mol_circ.qlm_circuit(anz, num_sim_q).values()\n",
    "    pauli_terms = [Term(coeff, op, list(range(num_sim_q))) for op, coeff in ham_dict.items()]\n",
    "    hamiltonian = Observable(num_sim_q,pauli_terms=pauli_terms)\n",
    "    \n",
    "    prog = Program()\n",
    "    qbits_reg = prog.qalloc(num_sim_q)\n",
    "    params = [prog.new_var(float, \"\\\\P{}\".format(i)) for i in range(num_params)]\n",
    "\n",
    "    for gate, var_num, q_pos in instructions:\n",
    "        q_pos = [num_sim_q-p-1 for p in q_pos] #qubit ordering is reversed compared with Qiskit\n",
    "        if gate == 'RZ':\n",
    "            prog.apply(RZ(params[var_num[0]]), qbits_reg[q_pos[0]])\n",
    "        elif gate == 'CX':\n",
    "            prog.apply(CNOT, qbits_reg[q_pos[0]], qbits_reg[q_pos[1]])\n",
    "        else:\n",
    "            prog.apply(gate_dict[gate], qbits_reg[q_pos[0]])\n",
    "\n",
    "    qc = prog.to_circ()\n",
    "    job = qc.to_job(job_type=\"OBS\", observable=hamiltonian)\n",
    "\n",
    "    result = qpu.submit(job)\n",
    "    error = result.value-mol_circ.truegs\n",
    "    if error<0.0016:\n",
    "        nfev = len(eval(result.meta_data['optimization_trace']))\n",
    "        energy=eval(result.meta_data['optimization_trace'])\n",
    "\n",
    "        fig, ax = plt.subplots(figsize=(10,6))\n",
    "        ax.plot([np.log10(abs(e-mol_circ.truegs)) for e in energy], label='CS-VQE convergence', color = \"black\")\n",
    "        ax.hlines(np.log10(0.0016), 0, nfev, color='green', label='Chemical accuracy', ls='--')\n",
    "        ax.hlines(np.log10(mol_circ.noncon-mol_circ.truegs), 0, nfev, color='red', label='Noncontextual ground state energy', ls='--')\n",
    "        #plt.hlines(true_gs+0.0016, 0, nfev, color='pink')\n",
    "        ax.set_title('{}: {}-qubit CS-VQE simulation'.format(speciesname, num_sim_q))\n",
    "        ax.set_xlabel(\"Optimization count\")\n",
    "        ax.set_ylabel(\"Logarithmic error [log(Ha)]\")\n",
    "        ax.legend()\n",
    "        \n",
    "        break\n",
    "        \n",
    "    print(\"Minimum energy =\", result.value, '| error =', error, '| Chemical accuracy?', error<0.0016)\n",
    "    print(\"Optimal angles =\", result.meta_data[\"parameters\"])"
   ]
  },
  {
   "cell_type": "code",
   "execution_count": 5,
   "metadata": {},
   "outputs": [
    {
     "name": "stdout",
     "output_type": "stream",
     "text": [
      "Exact ground state energy:  -14.403655108067708\n",
      "[(0.33333333333204324, '01001'), (0.33229656531957236, '01011'), (0.1666666666641409, '01100'), (0.1661189578993115, '01101'), (0.0009227361359955192, '11001')]\n"
     ]
    },
    {
     "name": "stderr",
     "output_type": "stream",
     "text": [
      "/usr/local/lib/python3.6/site-packages/ipykernel_launcher.py:18: UserWarning: FixedFormatter should only be used together with FixedLocator\n"
     ]
    },
    {
     "data": {
      "image/png": "[encoded data removed]",
      "text/plain": [
       "<Figure size 432x288 with 1 Axes>"
      ]
     },
     "metadata": {},
     "output_type": "display_data"
    }
   ],
   "source": [
    "import numpy as np\n",
    "from qat.dqs.hamiltonians import SpinHamiltonian\n",
    "\n",
    "ham_rot = cs_tools.rotate_operator(mol_circ.ham_rotations, ham)\n",
    "full_terms = [Term(coeff, op, list(range(num_qubits))) for op, coeff in ham_rot.items()]\n",
    "ham_spin = SpinHamiltonian(nqbits=num_qubits, pauli_terms=full_terms)\n",
    "ham_matrix = ham_spin.get_matrix()\n",
    "eigvals, eigvecs = np.linalg.eigh(ham_matrix)\n",
    "gs = sorted(list(zip(eigvals, eigvecs)), key=lambda x:x[0])[0]\n",
    "\n",
    "print(\"Exact ground state energy: \", gs[0])\n",
    "basis_states = [bit.int_to_bin(i, num_qubits) for i in range(2**num_qubits)]\n",
    "sig_states = sorted(list(zip(abs(gs[1])**2, basis_states)), key=lambda x:-x[0])\n",
    "print(sig_states[:5])\n",
    "\n",
    "fig, ax = plt.subplots()\n",
    "l1=ax.bar(basis_states, [abs(a)**2 for a in gs[1]])\n",
    "l2=ax.set_xticklabels(basis_states, rotation=90)"
   ]
  },
  {
   "cell_type": "code",
   "execution_count": 6,
   "metadata": {},
   "outputs": [
    {
     "name": "stdout",
     "output_type": "stream",
     "text": [
      "01011\n"
     ]
    },
    {
     "data": {
      "text/plain": [
       "{'IIIXI': -0.23868905930642, 'ZIIYI': -0.23267712409617614}"
      ]
     },
     "execution_count": 6,
     "metadata": {},
     "output_type": "execute_result"
    }
   ],
   "source": [
    "nonconstate = mol_circ.reference_state()\n",
    "print(nonconstate)\n",
    "reverse_rot = []\n",
    "for angle, rot in mol_circ.ham_rotations[::-1]:\n",
    "    if angle == 'pi/2':\n",
    "        reverse_rot.append([-np.pi/2, rot])\n",
    "    else:\n",
    "        reverse_rot.append([-angle, rot])\n",
    "\n",
    "anz={}\n",
    "for amp, state in sig_states[:2]:\n",
    "    differs=[index for index, b in enumerate(state) if nonconstate[index]!=b]\n",
    "    #pot_ops=[]\n",
    "    #for op in uccsd.keys():\n",
    "    #    diff_bits = {op[i] for i in differs}\n",
    "    #    same_bits = {op[i] for i in range(num_qubits) if i not in differs}\n",
    "    #    if diff_bits in [{'X'}, {'Y'}, {'X', 'Y'}] and same_bits in [{'I'},{'Z'},{'I', 'Z'}]:\n",
    "    #        pot_ops.append(op)\n",
    "    blank_op = ['I' for i in range(num_qubits)]\n",
    "    for i in differs:\n",
    "        blank_op[i] = 'X'\n",
    "    op = ''.join(blank_op)\n",
    "    if set(op)!={'I'}:\n",
    "        anz[op] = amp\n",
    "\n",
    "out_anz = cs_tools.rotate_operator(reverse_rot, anz)\n",
    "out_anz"
   ]
  },
  {
   "cell_type": "code",
   "execution_count": 80,
   "metadata": {},
   "outputs": [],
   "source": [
    "import random\n",
    "\n",
    "#anz_ops = ['ZYXZI', 'YIIYX']#for C\n",
    "#anz_ops = ['XIIYX', 'IYZYY'] #for B+\n",
    "anz_ops = random.choices(list(uccsd.keys()), k=5)\n",
    "#print(anz_ops)\n",
    "anz = {op:uccsd[op] for op in anz_ops}\n",
    "#anz=uccsd\n",
    "ham_dict, num_sim_q, num_params, instructions = mol_circ.qlm_circuit(anz, num_sim_q).values()"
   ]
  },
  {
   "cell_type": "code",
   "execution_count": 81,
   "metadata": {},
   "outputs": [
    {
     "data": {
      "text/plain": [
       "['IIXXY', 'ZZYYY', 'ZYZIZ', 'IYIIZ', 'ZXIII']"
      ]
     },
     "execution_count": 81,
     "metadata": {},
     "output_type": "execute_result"
    }
   ],
   "source": [
    "anz_ops"
   ]
  },
  {
   "cell_type": "code",
   "execution_count": 82,
   "metadata": {},
   "outputs": [
    {
     "data": {
      "text/plain": [
       "{'IYIXX': 1.3873153572284228e-07,\n",
       " 'IXIIX': 0.03525800009116136,\n",
       " 'IYIZX': 0.034369945930894166,\n",
       " 'XYZII': 8.326428663729759e-10,\n",
       " 'XXZXI': 0.0002116124650788359,\n",
       " 'YXIII': -3.332865768781443e-27,\n",
       " 'YYIXI': 8.470329472477433e-22,\n",
       " 'XXZIZ': -3.332865768781443e-27,\n",
       " 'XYZXZ': 8.470329472477433e-22}"
      ]
     },
     "execution_count": 82,
     "metadata": {},
     "output_type": "execute_result"
    }
   ],
   "source": [
    "cs_tools.rotate_operator(mol_circ.ham_rotations, anz)"
   ]
  },
  {
   "cell_type": "code",
   "execution_count": 83,
   "metadata": {},
   "outputs": [],
   "source": [
    "mol_dict = mol_circ.qlm_circuit(anz, num_sim_q)"
   ]
  },
  {
   "cell_type": "code",
   "execution_count": 84,
   "metadata": {},
   "outputs": [],
   "source": [
    "#data={}\n",
    "#for k in mol_dict.keys():\n",
    "#    data[str(k)] = mol_dict[k]\n",
    "    \n",
    "#with open(\"data/QLM_circuits/\"+speciesname+\"_UCCSD_CS-VQE_circuit.json\", \"w\") as outfile: \n",
    "#    json.dump(data, outfile)"
   ]
  },
  {
   "cell_type": "code",
   "execution_count": 85,
   "metadata": {},
   "outputs": [
    {
     "name": "stdout",
     "output_type": "stream",
     "text": [
      "Hamiltonian: -12.488598009446665 * I^3 +\n",
      "-0.8582942466478601 * (ZZ|[0, 2]) +\n",
      "-0.8582942466478596 * (ZZZ|[0, 1, 2]) +\n",
      "0.02304317581163877 * (Z|[1]) +\n",
      "0.8582942466478598 * (ZZ|[1, 2]) +\n",
      "-0.023043175811635994 * (ZZ|[0, 1]) +\n",
      "-0.02304317581163723 * (Z|[0]) +\n",
      "-0.6424707457533954 * (Z|[2]) +\n",
      "-0.0013878749793264473 * (XZ|[0, 1]) +\n",
      "-0.012044994860721135 * (YZ|[0, 1]) +\n",
      "0.0013878749793264473 * (X|[0]) +\n",
      "0.012044994860721135 * (Y|[0]) +\n",
      "0.0013878749793264473 * (YYZ|[0, 1, 2]) +\n",
      "-0.012044994860721135 * (XYZ|[0, 1, 2]) +\n",
      "-0.012044994860721135 * (YXZ|[0, 1, 2]) +\n",
      "-0.0013878749793264473 * (XXZ|[0, 1, 2]) +\n",
      "-0.012124689610585465 * (ZXZ|[0, 1, 2]) +\n",
      "-0.012124689610585465 * (XZ|[1, 2]) +\n",
      "-0.04340448812180735 * (ZYX|[0, 1, 2]) +\n",
      "0.04340448812180735 * (YX|[1, 2]) +\n",
      "0.043119193389137625 * (XXX|[0, 1, 2]) +\n",
      "0.043119193389137625 * (YYX|[0, 1, 2]) +\n",
      "0.043119193389137625 * (YY|[0, 2]) +\n",
      "0.043119193389137625 * (YZY|[0, 1, 2]) +\n",
      "-0.004968375044847624 * (YXX|[0, 1, 2]) +\n",
      "0.004968375044847624 * (XYX|[0, 1, 2]) +\n",
      "0.004968375044847624 * (XY|[0, 2]) +\n",
      "0.004968375044847624 * (XZY|[0, 1, 2])\n"
     ]
    }
   ],
   "source": [
    "pauli_terms = [Term(coeff, op, list(range(num_sim_q))) for op, coeff in ham_dict.items()]\n",
    "hamiltonian = Observable(num_sim_q,\n",
    "               pauli_terms=pauli_terms)\n",
    "print(\"Hamiltonian:\", hamiltonian)"
   ]
  },
  {
   "cell_type": "code",
   "execution_count": 86,
   "metadata": {},
   "outputs": [],
   "source": [
    "gate_dict = {'X':X,'H':H,'S':S,'SDG':S.dag(),'RZ':RZ,'CX':CNOT}\n",
    "prog = Program()\n",
    "qbits_reg = prog.qalloc(num_sim_q)\n",
    "params = [prog.new_var(float, \"\\\\P{}\".format(i)) for i in range(num_params)]\n",
    "\n",
    "for gate, var_num, q_pos in instructions:\n",
    "    q_pos = [num_sim_q-p-1 for p in q_pos] #qubit ordering is reversed compared with Qiskit\n",
    "    if gate == 'RZ':\n",
    "        prog.apply(RZ(params[var_num[0]]), qbits_reg[q_pos[0]])\n",
    "    elif gate == 'CX':\n",
    "        prog.apply(CNOT, qbits_reg[q_pos[0]], qbits_reg[q_pos[1]])\n",
    "    else:\n",
    "        prog.apply(gate_dict[gate], qbits_reg[q_pos[0]])\n",
    "\n",
    "qc = prog.to_circ()"
   ]
  },
  {
   "cell_type": "code",
   "execution_count": 87,
   "metadata": {},
   "outputs": [
    {
     "name": "stdout",
     "output_type": "stream",
     "text": [
      "Minimum energy = -14.372790082541965 ... chemacc? False\n",
      "Optimal angles = [1.8418151282616417, 2.511573292072408]\n"
     ]
    }
   ],
   "source": [
    "\n",
    "#from qat.plugins import SPSAMinimizePlugin\n",
    "#from qat.plugins import PSOMinimizePlugin\n",
    "\n",
    "theta0 = mol_circ.init_param\n",
    "linalg_qpu = LinAlg(use_GPU=False)\n",
    "\n",
    "#optimizer_pso = PSOMinimizePlugin(theta0, max_iter=50, swarm_number=10)\n",
    "#optimizer_spsa = SPSAMinimizePlugin(theta0)\n",
    "optimizer_scipy = ScipyMinimizePlugin(method=\"COBYLA\",\n",
    "                                      tol=1e-3,\n",
    "                                      options={\"maxiter\": 2000})\n",
    "\n",
    "qpu = optimizer_scipy | linalg_qpu\n",
    "\n",
    "job = qc.to_job(job_type=\"OBS\", observable=hamiltonian)\n",
    "\n",
    "result = qpu.submit(job)\n",
    "\n",
    "print(\"Minimum energy =\", result.value, \"... chemacc?\", result.value-mol_circ.truegs<0.0016)\n",
    "print(\"Optimal angles =\", result.meta_data[\"parameters\"])"
   ]
  },
  {
   "cell_type": "code",
   "execution_count": 88,
   "metadata": {
    "scrolled": true
   },
   "outputs": [
    {
     "data": {
      "text/plain": [
       "<matplotlib.legend.Legend at 0x149c8bae1898>"
      ]
     },
     "execution_count": 88,
     "metadata": {},
     "output_type": "execute_result"
    },
    {
     "data": {
      "image/png": "[encoded data removed]",
      "text/plain": [
       "<Figure size 720x432 with 1 Axes>"
      ]
     },
     "metadata": {},
     "output_type": "display_data"
    }
   ],
   "source": [
    "nfev = len(eval(result.meta_data['optimization_trace']))\n",
    "energy=eval(result.meta_data['optimization_trace'])\n",
    "\n",
    "fig, ax = plt.subplots(figsize=(10,6))\n",
    "ax.plot([np.log10(abs(e-mol_circ.truegs)) for e in energy], label='CS-VQE convergence', color = \"black\")\n",
    "ax.hlines(np.log10(0.0016), 0, nfev, color='green', label='Chemical accuracy', ls='--')\n",
    "ax.hlines(np.log10(mol_circ.noncon-mol_circ.truegs), 0, nfev, color='red', label='Noncontextual ground state energy', ls='--')\n",
    "#plt.hlines(true_gs+0.0016, 0, nfev, color='pink')\n",
    "ax.set_title('{}: {}-qubit CS-VQE simulation'.format(speciesname, num_sim_q))\n",
    "ax.set_xlabel(\"Optimization count\")\n",
    "ax.set_ylabel(\"Logarithmic error [log(Ha)]\")\n",
    "ax.legend()"
   ]
  },
  {
   "cell_type": "code",
   "execution_count": 25,
   "metadata": {},
   "outputs": [],
   "source": [
    "#fig.savefig('plots/'+speciesname+'_CS-VQE_test.png', dpi=300, bbox_inches='tight')"
   ]
  },
  {
   "cell_type": "code",
   "execution_count": 91,
   "metadata": {},
   "outputs": [
    {
     "name": "stdout",
     "output_type": "stream",
     "text": [
      "['IYIIZ', 'IYIZI', 'XIZII', 'ZXIXY', 'ZZYZZ']\n"
     ]
    },
    {
     "ename": "FileNotFoundError",
     "evalue": "[Errno 2] No usable temporary directory found in ['/tmp', '/var/tmp', '/usr/tmp', '/home/di46kaq/qc-research/CS-VQE']",
     "output_type": "error",
     "traceback": [
      "\u001b[0;31m---------------------------------------------------------------------------\u001b[0m",
      "\u001b[0;31mOSError\u001b[0m                                   Traceback (most recent call last)",
      "\u001b[0;32m/usr/lib64/python3.6/site-packages/qat/plugins/junction.so\u001b[0m in \u001b[0;36mqat.plugins.junction.Junction._submit_batch\u001b[0;34m()\u001b[0m\n",
      "\u001b[0;32m/usr/lib64/python3.6/site-packages/qat/plugins/optimizer.so\u001b[0m in \u001b[0;36mqat.plugins.optimizer.Optimizer.run\u001b[0;34m()\u001b[0m\n",
      "\u001b[0;32m/usr/lib64/python3.6/site-packages/qat/vsolve/optimize/scipy_binder.so\u001b[0m in \u001b[0;36mqat.vsolve.optimize.scipy_binder.ScipyMinimizePlugin.optimize\u001b[0;34m()\u001b[0m\n",
      "\u001b[0;32m/usr/local/lib64/python3.6/site-packages/scipy/optimize/_minimize.py\u001b[0m in \u001b[0;36mminimize\u001b[0;34m(fun, x0, args, method, jac, hess, hessp, bounds, constraints, tol, callback, options)\u001b[0m\n",
      "\u001b[0;32m/usr/local/lib64/python3.6/site-packages/scipy/optimize/cobyla.py\u001b[0m in \u001b[0;36mwrapper\u001b[0;34m(*args, **kwargs)\u001b[0m\n",
      "\u001b[0;32m/usr/local/lib64/python3.6/site-packages/scipy/optimize/cobyla.py\u001b[0m in \u001b[0;36m_minimize_cobyla\u001b[0;34m(fun, x0, args, constraints, rhobeg, tol, maxiter, disp, catol, **unknown_options)\u001b[0m\n",
      "\u001b[0;32m/usr/local/lib64/python3.6/site-packages/scipy/optimize/cobyla.py\u001b[0m in \u001b[0;36mcalcfc\u001b[0;34m(x, con)\u001b[0m\n",
      "\u001b[0;32m/usr/lib64/python3.6/site-packages/qat/vsolve/optimize/scipy_binder.so\u001b[0m in \u001b[0;36mqat.vsolve.optimize.scipy_binder.ScipyMinimizePlugin.optimize.evaluate_aux\u001b[0;34m()\u001b[0m\n",
      "\u001b[0;32m/usr/lib64/python3.6/site-packages/qat/plugins/optimizer.so\u001b[0m in \u001b[0;36mqat.plugins.optimizer.Optimizer.evaluate\u001b[0;34m()\u001b[0m\n",
      "\u001b[0;32m/usr/lib64/python3.6/site-packages/qat/plugins/junction.so\u001b[0m in \u001b[0;36mqat.plugins.junction.Junction.execute\u001b[0;34m()\u001b[0m\n",
      "\u001b[0;32m/usr/lib64/python3.6/site-packages/qat/core/qpu/qpu.so\u001b[0m in \u001b[0;36mqat.core.qpu.qpu.CommonQPU.submit\u001b[0;34m()\u001b[0m\n",
      "\u001b[0;32m/usr/lib64/python3.6/site-packages/qat/resourcemanager/convenience_contextmanager.so\u001b[0m in \u001b[0;36mqat.resourcemanager.convenience_contextmanager.ResourceManagement.__enter__\u001b[0;34m()\u001b[0m\n",
      "\u001b[0;32m/usr/lib64/python3.6/site-packages/qat/resourcemanager/resourcemanagement_client.so\u001b[0m in \u001b[0;36mqat.resourcemanager.resourcemanagement_client.ResourceManagementClient.perform_resource_management_for_batch\u001b[0;34m()\u001b[0m\n",
      "\u001b[0;32m/usr/lib64/python3.6/site-packages/qat/resourcemanager/resourcemanagement_client.so\u001b[0m in \u001b[0;36mqat.resourcemanager.resourcemanagement_client.ResourceManagementClient._lock_resources\u001b[0;34m()\u001b[0m\n",
      "\u001b[0;31mOSError\u001b[0m: [Errno 24] Too many open files: '/run/qlm/resourcemanager/locks/41786213-7d17-4f00-a406-2f12165f6b3b'",
      "\nDuring handling of the above exception, another exception occurred:\n",
      "\u001b[0;31mFileNotFoundError\u001b[0m                         Traceback (most recent call last)",
      "\u001b[0;32m<ipython-input-91-f57daf6d2ac3>\u001b[0m in \u001b[0;36m<module>\u001b[0;34m\u001b[0m\n\u001b[1;32m     35\u001b[0m     \u001b[0mjob\u001b[0m \u001b[0;34m=\u001b[0m \u001b[0mqc\u001b[0m\u001b[0;34m.\u001b[0m\u001b[0mto_job\u001b[0m\u001b[0;34m(\u001b[0m\u001b[0mjob_type\u001b[0m\u001b[0;34m=\u001b[0m\u001b[0;34m\"OBS\"\u001b[0m\u001b[0;34m,\u001b[0m \u001b[0mobservable\u001b[0m\u001b[0;34m=\u001b[0m\u001b[0mhamiltonian\u001b[0m\u001b[0;34m)\u001b[0m\u001b[0;34m\u001b[0m\u001b[0;34m\u001b[0m\u001b[0m\n\u001b[1;32m     36\u001b[0m \u001b[0;34m\u001b[0m\u001b[0m\n\u001b[0;32m---> 37\u001b[0;31m     \u001b[0mresult\u001b[0m \u001b[0;34m=\u001b[0m \u001b[0mqpu\u001b[0m\u001b[0;34m.\u001b[0m\u001b[0msubmit\u001b[0m\u001b[0;34m(\u001b[0m\u001b[0mjob\u001b[0m\u001b[0;34m)\u001b[0m\u001b[0;34m\u001b[0m\u001b[0;34m\u001b[0m\u001b[0m\n\u001b[0m\u001b[1;32m     38\u001b[0m \u001b[0;34m\u001b[0m\u001b[0m\n\u001b[1;32m     39\u001b[0m     \u001b[0mprint\u001b[0m\u001b[0;34m(\u001b[0m\u001b[0;34m\"Minimum energy =\"\u001b[0m\u001b[0;34m,\u001b[0m \u001b[0mresult\u001b[0m\u001b[0;34m.\u001b[0m\u001b[0mvalue\u001b[0m\u001b[0;34m,\u001b[0m \u001b[0;34m\"... chemacc?\"\u001b[0m\u001b[0;34m,\u001b[0m \u001b[0mresult\u001b[0m\u001b[0;34m.\u001b[0m\u001b[0mvalue\u001b[0m\u001b[0;34m-\u001b[0m\u001b[0mmol_circ\u001b[0m\u001b[0;34m.\u001b[0m\u001b[0mtruegs\u001b[0m\u001b[0;34m<\u001b[0m\u001b[0;36m0.0016\u001b[0m\u001b[0;34m)\u001b[0m\u001b[0;34m\u001b[0m\u001b[0;34m\u001b[0m\u001b[0m\n",
      "\u001b[0;32m/usr/lib64/python3.6/site-packages/qat/core/qpu/qpu.so\u001b[0m in \u001b[0;36mqat.core.qpu.qpu.CommonQPU.submit\u001b[0;34m()\u001b[0m\n",
      "\u001b[0;32m/usr/lib64/python3.6/site-packages/qat/core/qpu/qpu.so\u001b[0m in \u001b[0;36mqat.core.qpu.qpu.CommonQPU.submit\u001b[0;34m()\u001b[0m\n",
      "\u001b[0;32m/usr/lib64/python3.6/site-packages/qat/plugins/junction.so\u001b[0m in \u001b[0;36mqat.plugins.junction.Junction._submit_batch\u001b[0;34m()\u001b[0m\n",
      "\u001b[0;32m/usr/lib64/python3.6/tempfile.py\u001b[0m in \u001b[0;36mmkstemp\u001b[0;34m(suffix, prefix, dir, text)\u001b[0m\n",
      "\u001b[0;32m/usr/lib64/python3.6/tempfile.py\u001b[0m in \u001b[0;36m_sanitize_params\u001b[0;34m(prefix, suffix, dir)\u001b[0m\n",
      "\u001b[0;32m/usr/lib64/python3.6/tempfile.py\u001b[0m in \u001b[0;36mgettempdir\u001b[0;34m()\u001b[0m\n",
      "\u001b[0;32m/usr/lib64/python3.6/tempfile.py\u001b[0m in \u001b[0;36m_get_default_tempdir\u001b[0;34m()\u001b[0m\n",
      "\u001b[0;31mFileNotFoundError\u001b[0m: [Errno 2] No usable temporary directory found in ['/tmp', '/var/tmp', '/usr/tmp', '/home/di46kaq/qc-research/CS-VQE']"
     ]
    }
   ],
   "source": []
  },
  {
   "cell_type": "code",
   "execution_count": 29,
   "metadata": {},
   "outputs": [],
   "source": [
    "#data={}\n",
    "#for k in result.meta_data.keys():\n",
    "#    data[str(k)] = result.meta_data[k]\n",
    "#    \n",
    "#with open(\"data/QLM_circuits/\"+speciesname+\"_CS-VQE_test.json\", \"w\") as outfile: \n",
    "#    json.dump(data, outfile)"
   ]
  },
  {
   "cell_type": "code",
   "execution_count": null,
   "metadata": {},
   "outputs": [],
   "source": []
  }
 ],
 "metadata": {
  "kernelspec": {
   "display_name": "Python 3",
   "language": "python",
   "name": "python3"
  },
  "language_info": {
   "codemirror_mode": {
    "name": "ipython",
    "version": 3
   },
   "file_extension": ".py",
   "mimetype": "text/x-python",
   "name": "python",
   "nbconvert_exporter": "python",
   "pygments_lexer": "ipython3",
   "version": "3.6.8"
  }
 },
 "nbformat": 4,
 "nbformat_minor": 2
}
