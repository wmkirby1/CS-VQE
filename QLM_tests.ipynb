{
 "cells": [
  {
   "cell_type": "code",
   "execution_count": 1,
   "metadata": {
    "scrolled": true
   },
   "outputs": [
    {
     "name": "stdout",
     "output_type": "stream",
     "text": [
      "Package not installed\n"
     ]
    }
   ],
   "source": [
    "import json\n",
    "import numpy as np\n",
    "import cs_vqe.circuit as cs_circ\n",
    "import utils.plotting_tools as plot\n",
    "import utils.qonversion_tools as qonvert\n",
    "import utils.linalg_tools as la\n",
    "import utils.bit_tools as bit\n",
    "import utils.cs_vqe_tools_original as cs_tools\n",
    "from qat.lang.AQASM import Program, X, H, S, CNOT, RZ\n",
    "from qat.core.variables import Variable\n",
    "from qat.core import Observable, Term\n",
    "from matplotlib import pyplot as plt"
   ]
  },
  {
   "cell_type": "code",
   "execution_count": 2,
   "metadata": {},
   "outputs": [
    {
     "data": {
      "text/plain": [
       "dict_keys(['H2_3-21G_SINGLET', 'H6_STO-3G_SINGLET', 'H2_6-31G_SINGLET', 'H2_6-311G_SINGLET', 'H3+_STO-3G_SINGLET', 'H3+_3-21G_SINGLET', 'H3+_STO-3G_SINGLET_alt', 'HeH+_3-21G_SINGLET', 'HeH+_3-21G_SINGLET_alt', 'HeH+_6-311G_SINGLET', 'H2O_STO-3G_SINGLET', 'H2O_STO-3G_SINGLET_alt', 'BeH+_STO-3G_SINGLET', 'LiH_STO-3G_SINGLET', 'CH+_STO-3G_SINGLET', 'HF_STO-3G_SINGLET', 'B+_STO-3G_SINGLET', 'N+_STO-3G_SINGLET', 'OH+_STO-3G_SINGLET', 'CH2_STO-3G_SINGLET', 'BeH2_STO-3G_SINGLET', 'Be_STO-3G_SINGLET', 'C_STO-3G_SINGLET', 'NH_STO-3G_SINGLET', 'F+_STO-3G_SINGLET', 'Li+_STO-3G_SINGLET', 'BH_STO-3G_SINGLET', 'NeH+_STO-3G_SINGLET', 'NH2+_STO-3G_SINGLET', 'BH2+_STO-3G_SINGLET'])"
      ]
     },
     "execution_count": 2,
     "metadata": {},
     "output_type": "execute_result"
    }
   ],
   "source": [
    "with open('data/model_data.json', 'r') as json_file:\n",
    "    model_data = json.load(json_file)\n",
    "    \n",
    "model_data.keys()"
   ]
  },
  {
   "cell_type": "code",
   "execution_count": 3,
   "metadata": {},
   "outputs": [],
   "source": [
    "speciesname = \"B+_STO-3G_SINGLET\"\n",
    "molecule    = model_data[speciesname]\n",
    "\n",
    "ham         = molecule['ham']\n",
    "uccsd       = molecule['uccsd']\n",
    "hf_config   = molecule['hf_config']\n",
    "num_qubits  = molecule['num_qubits']\n",
    "terms_noncon= molecule['terms_noncon']\n",
    "#num_tapered = molecule['num_tapered']"
   ]
  },
  {
   "cell_type": "code",
   "execution_count": 4,
   "metadata": {},
   "outputs": [
    {
     "name": "stdout",
     "output_type": "stream",
     "text": [
      "B+_STO-3G_SINGLET reaches chemical accuracy for 3-qubit CS-VQE\n"
     ]
    },
    {
     "name": "stderr",
     "output_type": "stream",
     "text": [
      "/usr/local/lib64/python3.6/site-packages/scipy/sparse/linalg/eigen/arpack/arpack.py:1269: RuntimeWarning: k >= N - 1 for N * N square matrix. Attempting to use scipy.linalg.eig instead.\n",
      "  RuntimeWarning)\n"
     ]
    },
    {
     "data": {
      "image/png": "[encoded data removed]",
      "text/plain": [
       "<Figure size 432x288 with 1 Axes>"
      ]
     },
     "metadata": {},
     "output_type": "display_data"
    }
   ],
   "source": [
    "mol_circ = cs_circ.cs_vqe_circuit(hamiltonian = ham,\n",
    "                                  terms_noncon= terms_noncon,\n",
    "                                  num_qubits  = num_qubits,\n",
    "                                  hf_config   = hf_config)\n",
    "\n",
    "num_sim_q = mol_circ.chem_acc_num_q\n",
    "print('%s reaches chemical accuracy for %i-qubit CS-VQE' % (speciesname, num_sim_q))\n",
    "mol_circ.plot_cs_vqe_errors()"
   ]
  },
  {
   "cell_type": "code",
   "execution_count": 5,
   "metadata": {},
   "outputs": [
    {
     "name": "stdout",
     "output_type": "stream",
     "text": [
      "Exact ground state energy:  -24.189264917100267\n",
      "[(1.0, '11111'), (0.0, '00000'), (0.0, '00001'), (0.0, '00010'), (0.0, '00011')]\n"
     ]
    },
    {
     "name": "stderr",
     "output_type": "stream",
     "text": [
      "/usr/local/lib/python3.6/site-packages/ipykernel_launcher.py:18: UserWarning: FixedFormatter should only be used together with FixedLocator\n"
     ]
    },
    {
     "data": {
      "image/png": "[encoded data removed]",
      "text/plain": [
       "<Figure size 432x288 with 1 Axes>"
      ]
     },
     "metadata": {},
     "output_type": "display_data"
    }
   ],
   "source": [
    "import numpy as np\n",
    "from qat.dqs.hamiltonians import SpinHamiltonian\n",
    "\n",
    "ham_rot = cs_tools.rotate_operator(mol_circ.ham_rotations, ham)\n",
    "full_terms = [Term(coeff, op, list(range(num_qubits))) for op, coeff in ham.items()]\n",
    "ham_spin = SpinHamiltonian(nqbits=num_qubits, pauli_terms=full_terms)\n",
    "ham_matrix = ham_spin.get_matrix()\n",
    "eigvals, eigvecs = np.linalg.eigh(ham_matrix)\n",
    "gs = sorted(list(zip(eigvals, eigvecs)), key=lambda x:x[0])[0]\n",
    "\n",
    "print(\"Exact ground state energy: \", gs[0])\n",
    "basis_states = [bit.int_to_bin(i, num_qubits) for i in range(2**num_qubits)]\n",
    "sig_states = sorted(list(zip(abs(gs[1])**2, basis_states)), key=lambda x:-x[0])\n",
    "print(sig_states[:5])\n",
    "\n",
    "fig, ax = plt.subplots()\n",
    "l1=ax.bar(basis_states, [abs(a)**2 for a in gs[1]])\n",
    "l2=ax.set_xticklabels(basis_states, rotation=90)"
   ]
  },
  {
   "cell_type": "code",
   "execution_count": 6,
   "metadata": {},
   "outputs": [
    {
     "data": {
      "text/plain": [
       "{'XXXII': 9.242537443310976e-89,\n",
       " 'XXYZX': -8.192848691747605e-82,\n",
       " 'YYYIY': 2.641133142686878e-82,\n",
       " 'ZXXII': -1.436617050493236e-72,\n",
       " 'IYXZZ': -4.631230293839831e-73,\n",
       " 'ZXYZX': 1.405799628556206e-65,\n",
       " 'ZYYZI': 1.436617050493236e-72,\n",
       " 'IXYIZ': -4.631230293839831e-73,\n",
       " 'ZYXIX': 1.405799628556206e-65,\n",
       " 'XYYZI': 2.465071420146179e-56,\n",
       " 'XYXIX': 2.185109585271443e-49,\n",
       " 'YXXZY': 7.0441497984410455e-50,\n",
       " 'XZXII': -2.3461736910486595e-56,\n",
       " 'YIXZZ': -7.56337304284676e-57,\n",
       " 'XZYZX': 2.2958450216584542e-49,\n",
       " 'ZZXII': 4.025767138512847e-40,\n",
       " 'ZZYZX': -3.5685547650029405e-33,\n",
       " 'IIYIY': -1.1503969639810363e-33,\n",
       " 'XXZII': -1.405799628556214e-65,\n",
       " 'ZXZII': 2.185109585271456e-49,\n",
       " 'IYZZZ': 7.044149798441086e-50,\n",
       " 'XZZII': 1.3379937296944444e-65,\n",
       " 'YIZZZ': 4.313297751687675e-66,\n",
       " 'ZZZII': -2.2958450216584675e-49,\n",
       " 'ZIIZI': -2.2958450216584675e-49,\n",
       " 'XIIZI': -3.568554765002961e-33,\n",
       " 'YZIIZ': -1.150396963981043e-33,\n",
       " 'XZIZI': 1.3379937296944444e-65,\n",
       " 'YIIIZ': 4.313297751687675e-66,\n",
       " 'ZZIZI': -2.2958450216584675e-49,\n",
       " 'ZIZII': -2.2958450216584675e-49,\n",
       " 'XIZII': -3.568554765002961e-33,\n",
       " 'YZZZZ': -1.150396963981043e-33,\n",
       " 'XXIZI': 3.749399456654644e-33,\n",
       " 'ZXIZI': -5.827892201224922e-17,\n",
       " 'IYIIZ': -1.8787408169963686e-17,\n",
       " 'XXZZI': -1.405799628556214e-65,\n",
       " 'ZXZZI': 2.185109585271456e-49,\n",
       " 'IYZIZ': 7.044149798441086e-50,\n",
       " 'XZZZI': 1.3379937296944444e-65,\n",
       " 'YIZIZ': 4.313297751687675e-66,\n",
       " 'ZZZZI': -2.2958450216584675e-49,\n",
       " 'ZIIII': -2.2958450216584675e-49,\n",
       " 'XIIII': -3.568554765002961e-33,\n",
       " 'YZIZZ': -1.150396963981043e-33,\n",
       " 'XZIII': 1.3379937296944444e-65,\n",
       " 'YIIZZ': 4.313297751687675e-66,\n",
       " 'ZZIII': -2.2958450216584675e-49,\n",
       " 'ZIZZI': -2.2958450216584675e-49,\n",
       " 'XIZZI': -3.568554765002961e-33,\n",
       " 'YZZIZ': -1.150396963981043e-33,\n",
       " 'XXIII': 3.749399456654644e-33,\n",
       " 'ZXIII': -5.827892201224922e-17,\n",
       " 'IYIZZ': -1.8787408169963686e-17,\n",
       " 'XXXZI': -2.465071420146179e-56,\n",
       " 'XXYIX': 2.185109585271443e-49,\n",
       " 'YYYZY': -7.0441497984410455e-50,\n",
       " 'ZXXZI': 3.83159241126855e-40,\n",
       " 'IYXIZ': 1.23519255480236e-40,\n",
       " 'ZXYIX': -3.749399456654622e-33,\n",
       " 'ZYYII': -3.83159241126855e-40,\n",
       " 'IXYZZ': 1.23519255480236e-40,\n",
       " 'ZYXZX': -3.749399456654622e-33,\n",
       " 'XYYII': -6.574576671928173e-24,\n",
       " 'XYXZX': -5.827892201224887e-17,\n",
       " 'YXXIY': -1.8787408169963575e-17,\n",
       " 'XZXZI': 6.257465277231368e-24,\n",
       " 'YIXIZ': 2.0172225259762232e-24,\n",
       " 'XZYIX': -6.12323399573673e-17,\n",
       " 'ZZXZI': -1.0737098527519362e-07,\n",
       " 'ZZYIX': 0.9517670246282428,\n",
       " 'IIYZY': 0.30682165964985336}"
      ]
     },
     "execution_count": 6,
     "metadata": {},
     "output_type": "execute_result"
    }
   ],
   "source": [
    "nonconstate = mol_circ.reference_state()\n",
    "reverse_rot = []\n",
    "for angle, rot in mol_circ.ham_rotations[::-1]:\n",
    "    if angle == 'pi/2':\n",
    "        reverse_rot.append([-np.pi/2, rot])\n",
    "    else:\n",
    "        reverse_rot.append([-angle, rot])\n",
    "\n",
    "anz={}\n",
    "for amp, state in sig_states[:2]:\n",
    "    differs=[index for index, b in enumerate(state) if nonconstate[index]!=b]\n",
    "    #pot_ops=[]\n",
    "    #for op in uccsd.keys():\n",
    "    #    diff_bits = {op[i] for i in differs}\n",
    "    #    same_bits = {op[i] for i in range(num_qubits) if i not in differs}\n",
    "    #    if diff_bits in [{'X'}, {'Y'}, {'X', 'Y'}] and same_bits in [{'I'},{'Z'},{'I', 'Z'}]:\n",
    "    #        pot_ops.append(op)\n",
    "    blank_op = ['I' for i in range(num_qubits)]\n",
    "    for i in differs:\n",
    "        blank_op[i] = 'X'\n",
    "    op = ''.join(blank_op)\n",
    "    if set(op)!={'I'}:\n",
    "        anz[op] = amp\n",
    "\n",
    "out_anz = cs_tools.rotate_operator(reverse_rot, anz)\n",
    "out_anz"
   ]
  },
  {
   "cell_type": "code",
   "execution_count": 7,
   "metadata": {},
   "outputs": [],
   "source": [
    "import random\n",
    "#anz_ops = ['XIZXX', 'IYZXX'] #for B+ \n",
    "#anz_ops = ['YXIIXXII', 'IXIIZZZY', 'XYIIZZXX', 'YYIIXYII'] #for HF\n",
    "#anz_ops = ['IIYXX', 'ZYIYX', 'YZZXY', 'IYIZI', 'ZZYYY']#random.choices(list(uccsd.keys()), k=5)\n",
    "#print(anz_ops)\n",
    "#anz = {op:uccsd[op] for op in anz_ops}\n",
    "anz=uccsd\n",
    "ham_dict, num_sim_q, num_params, instructions = mol_circ.qlm_circuit(anz, num_sim_q).values()"
   ]
  },
  {
   "cell_type": "code",
   "execution_count": 8,
   "metadata": {},
   "outputs": [
    {
     "name": "stdout",
     "output_type": "stream",
     "text": [
      "Hamiltonian: -22.759376450401625 * I^3 +\n",
      "-0.6311272727525714 * (Z|[0]) +\n",
      "-0.6311272727525677 * (ZZ|[0, 1]) +\n",
      "0.5076986662124542 * (Z|[1]) +\n",
      "0.4771381984710478 * (ZZZ|[0, 1, 2]) +\n",
      "0.47713819847104905 * (ZZ|[0, 2]) +\n",
      "-0.31922012815549117 * (Z|[2]) +\n",
      "0.015814815627810057 * (XZ|[0, 1]) +\n",
      "-0.015814815627810057 * (X|[0]) +\n",
      "-0.021704251968601714 * (YXY|[0, 1, 2]) +\n",
      "-0.052041087385551514 * (YYY|[0, 1, 2]) +\n",
      "-0.052041087385551514 * (XYX|[0, 1, 2]) +\n",
      "-0.021704251968601714 * (XXX|[0, 1, 2]) +\n",
      "0.021704251968601714 * (ZYY|[0, 1, 2]) +\n",
      "-0.052041087385551514 * (ZXY|[0, 1, 2]) +\n",
      "0.021704251968601714 * (XX|[1, 2]) +\n",
      "0.052041087385551514 * (YX|[1, 2])\n"
     ]
    }
   ],
   "source": [
    "pauli_terms = [Term(coeff, op, list(range(num_sim_q))) for op, coeff in ham_dict.items()]\n",
    "hamiltonian = Observable(num_sim_q,\n",
    "               pauli_terms=pauli_terms)\n",
    "print(\"Hamiltonian:\", hamiltonian)"
   ]
  },
  {
   "cell_type": "code",
   "execution_count": 9,
   "metadata": {},
   "outputs": [],
   "source": [
    "gate_dict = {'X':X,'H':H,'S':S,'SDG':S.dag(),'RZ':RZ,'CX':CNOT}\n",
    "prog = Program()\n",
    "qbits_reg = prog.qalloc(num_sim_q)\n",
    "params = [prog.new_var(float, \"\\\\P{}\".format(i)) for i in range(num_params)]\n",
    "\n",
    "for gate, var_num, q_pos in instructions:\n",
    "    q_pos = [num_sim_q-p-1 for p in q_pos] #qubit ordering is reversed compared with Qiskit\n",
    "    if gate == 'RZ':\n",
    "        prog.apply(RZ(params[var_num[0]]), qbits_reg[q_pos[0]])\n",
    "    elif gate == 'CX':\n",
    "        prog.apply(CNOT, qbits_reg[q_pos[0]], qbits_reg[q_pos[1]])\n",
    "    else:\n",
    "        prog.apply(gate_dict[gate], qbits_reg[q_pos[0]])\n",
    "\n",
    "qc = prog.to_circ()"
   ]
  },
  {
   "cell_type": "code",
   "execution_count": 10,
   "metadata": {},
   "outputs": [
    {
     "name": "stdout",
     "output_type": "stream",
     "text": [
      "Minimum energy = -24.189062662993997\n",
      "Optimal angles = [0.8741594815832474, 0.04942889370896615, 0.28199661096676887, 0.9187258142668033, -0.2530022460543896, -0.24306661516304243, 0.13516086284343737, 0.016207531239776703, -0.09508815485175692, -0.277236245420194, 0.5276448786289901, 0.064221395592067, 0.11221863272133144, 0.15467041599424497, 0.23877357791827902, 0.12918760100414023, 0.9181705558909798, 0.10502796174224606, 2.2081418536620774, -0.2433366849126981]\n"
     ]
    }
   ],
   "source": [
    "from qat.plugins import ScipyMinimizePlugin\n",
    "from qat.qpus import Stabs, LinAlg, MPS, Feynman\n",
    "#from qat.plugins import SPSAMinimizePlugin\n",
    "#from qat.plugins import PSOMinimizePlugin\n",
    "\n",
    "theta0 = mol_circ.init_param\n",
    "linalg_qpu = LinAlg(use_GPU=False)\n",
    "\n",
    "#optimizer_pso = PSOMinimizePlugin(theta0, max_iter=50, swarm_number=10)\n",
    "#optimizer_spsa = SPSAMinimizePlugin(theta0)\n",
    "optimizer_scipy = ScipyMinimizePlugin(method=\"Nelder-Mead\",\n",
    "                                      tol=1e-3,\n",
    "                                      options={\"maxiter\": 3000})\n",
    "\n",
    "qpu = optimizer_scipy | linalg_qpu\n",
    "\n",
    "job = qc.to_job(job_type=\"OBS\", observable=hamiltonian)\n",
    "\n",
    "result = qpu.submit(job)\n",
    "\n",
    "print(\"Minimum energy =\", result.value)\n",
    "print(\"Optimal angles =\", result.meta_data[\"parameters\"])"
   ]
  },
  {
   "cell_type": "code",
   "execution_count": 11,
   "metadata": {
    "scrolled": true
   },
   "outputs": [
    {
     "data": {
      "text/plain": [
       "<matplotlib.legend.Legend at 0x1498e81c6a58>"
      ]
     },
     "execution_count": 11,
     "metadata": {},
     "output_type": "execute_result"
    },
    {
     "data": {
      "image/png": "[encoded data removed]",
      "text/plain": [
       "<Figure size 432x288 with 1 Axes>"
      ]
     },
     "metadata": {},
     "output_type": "display_data"
    }
   ],
   "source": [
    "nfev = len(eval(result.meta_data['optimization_trace']))\n",
    "energy=eval(result.meta_data['optimization_trace'])\n",
    "plt.plot([np.log10(abs(x-mol_circ.truegs)) for x in energy], label='CS-VQE convergence')\n",
    "plt.hlines(np.log10(0.0016), 0, nfev, color='green', label='Chemical accuracy')\n",
    "#plt.hlines(true_gs+0.0016, 0, nfev, color='pink')\n",
    "plt.xlabel(\"optimization count\")\n",
    "plt.ylabel(\"Energy (Ha)\")\n",
    "plt.legend()"
   ]
  },
  {
   "cell_type": "code",
   "execution_count": null,
   "metadata": {},
   "outputs": [],
   "source": []
  },
  {
   "cell_type": "code",
   "execution_count": null,
   "metadata": {},
   "outputs": [],
   "source": []
  }
 ],
 "metadata": {
  "kernelspec": {
   "display_name": "Python 3",
   "language": "python",
   "name": "python3"
  },
  "language_info": {
   "codemirror_mode": {
    "name": "ipython",
    "version": 3
   },
   "file_extension": ".py",
   "mimetype": "text/x-python",
   "name": "python",
   "nbconvert_exporter": "python",
   "pygments_lexer": "ipython3",
   "version": "3.6.8"
  }
 },
 "nbformat": 4,
 "nbformat_minor": 2
}
