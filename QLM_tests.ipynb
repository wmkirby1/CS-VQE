{
 "cells": [
  {
   "cell_type": "code",
   "execution_count": 2,
   "metadata": {
    "scrolled": true
   },
   "outputs": [
    {
     "ename": "ModuleNotFoundError",
     "evalue": "No module named 'qat'",
     "output_type": "error",
     "traceback": [
      "\u001b[0;31m---------------------------------------------------------------------------\u001b[0m",
      "\u001b[0;31mModuleNotFoundError\u001b[0m                       Traceback (most recent call last)",
      "\u001b[0;32m/tmp/ipykernel_24928/3772106724.py\u001b[0m in \u001b[0;36m<module>\u001b[0;34m\u001b[0m\n\u001b[1;32m      9\u001b[0m \u001b[0;32mimport\u001b[0m \u001b[0mutils\u001b[0m\u001b[0;34m.\u001b[0m\u001b[0mbit_tools\u001b[0m \u001b[0;32mas\u001b[0m \u001b[0mbit\u001b[0m\u001b[0;34m\u001b[0m\u001b[0;34m\u001b[0m\u001b[0m\n\u001b[1;32m     10\u001b[0m \u001b[0;32mimport\u001b[0m \u001b[0mutils\u001b[0m\u001b[0;34m.\u001b[0m\u001b[0mcs_vqe_tools_original\u001b[0m \u001b[0;32mas\u001b[0m \u001b[0mcs_tools\u001b[0m\u001b[0;34m\u001b[0m\u001b[0;34m\u001b[0m\u001b[0m\n\u001b[0;32m---> 11\u001b[0;31m \u001b[0;32mfrom\u001b[0m \u001b[0mqat\u001b[0m\u001b[0;34m.\u001b[0m\u001b[0mlang\u001b[0m\u001b[0;34m.\u001b[0m\u001b[0mAQASM\u001b[0m \u001b[0;32mimport\u001b[0m \u001b[0mProgram\u001b[0m\u001b[0;34m,\u001b[0m \u001b[0mX\u001b[0m\u001b[0;34m,\u001b[0m \u001b[0mH\u001b[0m\u001b[0;34m,\u001b[0m \u001b[0mS\u001b[0m\u001b[0;34m,\u001b[0m \u001b[0mCNOT\u001b[0m\u001b[0;34m,\u001b[0m \u001b[0mRZ\u001b[0m\u001b[0;34m\u001b[0m\u001b[0;34m\u001b[0m\u001b[0m\n\u001b[0m\u001b[1;32m     12\u001b[0m \u001b[0;32mfrom\u001b[0m \u001b[0mqat\u001b[0m\u001b[0;34m.\u001b[0m\u001b[0mcore\u001b[0m\u001b[0;34m.\u001b[0m\u001b[0mvariables\u001b[0m \u001b[0;32mimport\u001b[0m \u001b[0mVariable\u001b[0m\u001b[0;34m\u001b[0m\u001b[0;34m\u001b[0m\u001b[0m\n\u001b[1;32m     13\u001b[0m \u001b[0;32mfrom\u001b[0m \u001b[0mqat\u001b[0m\u001b[0;34m.\u001b[0m\u001b[0mcore\u001b[0m \u001b[0;32mimport\u001b[0m \u001b[0mObservable\u001b[0m\u001b[0;34m,\u001b[0m \u001b[0mTerm\u001b[0m\u001b[0;34m\u001b[0m\u001b[0;34m\u001b[0m\u001b[0m\n",
      "\u001b[0;31mModuleNotFoundError\u001b[0m: No module named 'qat'"
     ]
    }
   ],
   "source": [
    "import json\n",
    "import random\n",
    "import numpy as np\n",
    "from matplotlib import pyplot as plt\n",
    "import cs_vqe.circuit as cs_circ\n",
    "import utils.plotting_tools as plot\n",
    "import utils.qonversion_tools as qonvert\n",
    "import utils.linalg_tools as la\n",
    "import utils.bit_tools as bit\n",
    "import utils.cs_vqe_tools_original as cs_tools\n",
    "from qat.lang.AQASM import Program, X, H, S, CNOT, RZ\n",
    "from qat.core.variables import Variable\n",
    "from qat.core import Observable, Term\n",
    "from qat.plugins import ScipyMinimizePlugin\n",
    "from qat.qpus import Stabs, LinAlg, MPS, Feynman"
   ]
  },
  {
   "cell_type": "code",
   "execution_count": 3,
   "metadata": {},
   "outputs": [
    {
     "name": "stdout",
     "output_type": "stream",
     "text": [
      "H2O_STO-3G_SINGLET 7\n",
      "- uccsd 228\n",
      "- excite3 84\n",
      "- excite4 168\n",
      "- excite5 184\n",
      "LiH_STO-3G_SINGLET 4\n",
      "- uccsd 112\n",
      "- excite3 36\n",
      "- excite4 44\n",
      "- excite5 56\n",
      "HF_STO-3G_SINGLET 4\n",
      "- uccsd 44\n",
      "- excite3 8\n",
      "- excite4 44\n",
      "- excite5 44\n",
      "CH2_STO-3G_SINGLET 8\n",
      "- uccsd 220\n",
      "- excite3 26\n",
      "- excite4 208\n",
      "- excite5 344\n",
      "BeH2_STO-3G_SINGLET 7\n",
      "- uccsd 176\n",
      "- excite3 60\n",
      "- excite4 72\n",
      "- excite5 92\n",
      "Be_STO-3G_SINGLET 3\n",
      "- uccsd 24\n",
      "- excite3 12\n",
      "- excite4 12\n",
      "- excite5 36\n",
      "C_STO-3G_SINGLET 4\n",
      "- uccsd 8\n",
      "- excite3 30\n",
      "- excite4 46\n",
      "- excite5 46\n",
      "NH_STO-3G_SINGLET 6\n",
      "- uccsd 36\n",
      "- excite3 16\n",
      "- excite4 128\n",
      "- excite5 152\n",
      "BH_STO-3G_SINGLET 6\n",
      "- uccsd 60\n",
      "- excite3 64\n",
      "- excite4 72\n",
      "- excite5 72\n"
     ]
    }
   ],
   "source": [
    "with open('data/model_data.json', 'r') as json_file:\n",
    "    model_data = json.load(json_file)\n",
    "\n",
    "for mol in model_data.keys():\n",
    "    print(mol, model_data[mol]['chem_acc_num_q'])\n",
    "    for name, a in model_data[mol]['ansatze'].items():\n",
    "        print('-', name, len(a))"
   ]
  },
  {
   "cell_type": "code",
   "execution_count": 3,
   "metadata": {},
   "outputs": [],
   "source": [
    "speciesname = \"H2O_STO-3G_SINGLET\"\n",
    "mol_model    = model_data[speciesname]\n",
    "anz_op = mol_model['ansatze']['excite4']"
   ]
  },
  {
   "cell_type": "code",
   "execution_count": 4,
   "metadata": {},
   "outputs": [
    {
     "name": "stdout",
     "output_type": "stream",
     "text": [
      "Number of terms in the ansatz: 168\n",
      "H2O_STO-3G_SINGLET reaches chemical accuracy for 7-qubit CS-VQE\n"
     ]
    }
   ],
   "source": [
    "mol_circ = cs_circ.cs_vqe_circuit(model_data=mol_model)\n",
    "\n",
    "num_sim_q = mol_circ.chem_acc_num_q\n",
    "print('Number of terms in the ansatz:', len(anz_op))\n",
    "print('%s reaches chemical accuracy for %i-qubit CS-VQE' % (speciesname, num_sim_q))\n",
    "#mol_circ.plot_cs_vqe_errors()"
   ]
  },
  {
   "cell_type": "code",
   "execution_count": 5,
   "metadata": {},
   "outputs": [],
   "source": [
    "def plot_qlm_result(result):\n",
    "    nfev = len(eval(result.meta_data['optimization_trace']))\n",
    "    energy=eval(result.meta_data['optimization_trace'])\n",
    "\n",
    "    fig, ax = plt.subplots(figsize=(10,4))\n",
    "    ax.plot([np.log10(abs(e-mol_circ.truegs)) for e in energy], label='CS-VQE convergence', color = \"black\")\n",
    "    ax.hlines(np.log10(0.0016), 0, nfev, color='green', label='Chemical accuracy', ls='--')\n",
    "    ax.hlines(np.log10(mol_circ.HF_energy-mol_circ.truegs), 0, nfev, color='red', label='Hartree-Fock energy', ls='--')\n",
    "    ax.hlines(np.log10(mol_circ.noncon-mol_circ.truegs), 0, nfev, color='orange', label='Noncontextual ground state energy', ls='--')\n",
    "    #plt.hlines(true_gs+0.0016, 0, nfev, color='pink')\n",
    "    ax.set_title('{}: {}-qubit CS-VQE simulation'.format(speciesname, num_sim_q))\n",
    "    ax.set_xlabel(\"Optimization count\")\n",
    "    ax.set_ylabel(\"Logarithmic error [log(Ha)]\")\n",
    "    ax.legend()\n",
    "    return fig"
   ]
  },
  {
   "cell_type": "code",
   "execution_count": 6,
   "metadata": {},
   "outputs": [],
   "source": [
    "class QLM_circuit():\n",
    "    \"\"\"Class for building and executing QLM circuits\n",
    "    \"\"\"\n",
    "    gate_dict = {'X':X,'H':H,'S':S,'SDG':S.dag(),'RZ':RZ,'CX':CNOT}\n",
    "    \n",
    "    def __init__(self,\n",
    "                 n_qubits,\n",
    "                 qpu_type   = LinAlg(use_GPU=False),\n",
    "                 opt_method = 'COBYLA',\n",
    "                 maxiter    = 1000,\n",
    "                 theta0     = None\n",
    "                 ):\n",
    "        \n",
    "        optimizer=ScipyMinimizePlugin(method=opt_method,\n",
    "                                    tol=1e-3,\n",
    "                                    options={\"maxiter\": maxiter},\n",
    "                                    x0=theta0)\n",
    "        self.qpu = optimizer | qpu_type\n",
    "        self.n_qubits = n_qubits\n",
    "        \n",
    "        \n",
    "    def construct_hamiltonian(self, ham_dict):\n",
    "        assert(len(list(ham_dict.keys())[0])==self.n_qubits)\n",
    "        pauli_terms = [Term(coeff, op, list(range(self.n_qubits))) for op, coeff in ham_dict.items()]\n",
    "        hamiltonian = Observable(self.n_qubits,pauli_terms=pauli_terms)\n",
    "        return hamiltonian\n",
    "        \n",
    "        \n",
    "    def build_qlm_circuit(self, instructions):\n",
    "        for i in instructions[::-1]:\n",
    "            if i[1]!=[]:\n",
    "                num_params = i[1][0] + 1\n",
    "                break\n",
    "\n",
    "        prog = Program()\n",
    "        qbits_reg = prog.qalloc(self.n_qubits)\n",
    "        params = [prog.new_var(float, \"\\\\P{}\".format(i)) for i in range(num_params)]\n",
    "\n",
    "        for gate, var_num, q_pos in instructions:\n",
    "            q_pos = [self.n_qubits-p-1 for p in q_pos] #qubit ordering is reversed compared with Qiskit\n",
    "            if gate == 'RZ':\n",
    "                prog.apply(RZ(params[var_num[0]]), qbits_reg[q_pos[0]])\n",
    "            elif gate == 'CX':\n",
    "                prog.apply(CNOT, qbits_reg[q_pos[0]], qbits_reg[q_pos[1]])\n",
    "            else:\n",
    "                prog.apply(self.gate_dict[gate], qbits_reg[q_pos[0]])\n",
    "\n",
    "        qc = prog.to_circ()\n",
    "\n",
    "        return qc\n",
    "    \n",
    "    \n",
    "    def run_vqe(self, ham_dict, instructions):\n",
    "        \n",
    "        hamiltonian = self.construct_hamiltonian(ham_dict)\n",
    "        qc = self.build_qlm_circuit(instructions)\n",
    "        job = qc.to_job(job_type=\"OBS\", observable=hamiltonian)\n",
    "        result = self.qpu.submit(job)\n",
    "        \n",
    "        return result"
   ]
  },
  {
   "cell_type": "code",
   "execution_count": null,
   "metadata": {},
   "outputs": [],
   "source": [
    "ham_dict, num_sim_q, num_params, instructions = mol_circ.qlm_circuit(anz_op, num_sim_q).values()\n",
    "qlm_circ = QLM_circuit(num_sim_q, opt_method='COBYLA', maxiter=5000, theta0=mol_circ.init_param)\n",
    "result = qlm_circ.run_vqe(ham_dict, instructions)\n",
    "error  = result.value-mol_circ.truegs; print(error)\n",
    "fig = plot_qlm_result(result)"
   ]
  },
  {
   "cell_type": "code",
   "execution_count": 18,
   "metadata": {},
   "outputs": [],
   "source": [
    "theta0=np.array([ 1.82542011e-02,  5.86059619e-03,  7.84996606e-03, -1.11218671e-03,\n",
    "        8.25936394e-03, -1.20183855e-02, -1.57995366e-02,  5.14283275e-03,\n",
    "       -2.42391937e-02,  1.68741384e-03,  8.44720656e-03,  7.80205732e-03,\n",
    "        5.88355069e-03,  8.87433588e-04,  3.14620821e-03,  3.16959863e-03,\n",
    "        8.54769785e-03, -5.01993702e-03, -9.04387800e-03, -7.63631164e-04,\n",
    "       -1.17210775e-03,  6.02426491e-03,  3.71585537e-02, -2.73654577e-02,\n",
    "        2.05603662e-04,  7.31525616e-03, -1.15314589e-02,  2.64563078e-03,\n",
    "       -1.27612693e-02, -4.86472833e-04, -2.42131264e-02, -2.00821238e-03,\n",
    "       -1.87104163e-03,  1.44847174e-02,  3.68854738e-03,  2.93937353e-03,\n",
    "        7.71078020e-04,  5.54846585e-03,  1.19716806e-03, -3.08661559e-02,\n",
    "       -4.19407595e-02, -2.53918107e-05, -1.07715285e-02,  2.15274898e-02,\n",
    "       -3.96799627e-02, -6.16255636e-03,  1.77936258e-03, -2.60403055e-03,\n",
    "        3.01681176e-03, -6.30344287e-03,  1.08539870e-03,  6.67109880e-03,\n",
    "        1.52198712e-02, -4.80997520e-02,  1.58288849e-03,  1.73723190e-02,\n",
    "        1.94308980e-02,  3.47692455e-03,  1.99616999e-03,  1.19103234e-02,\n",
    "        3.50478136e-03,  6.26139838e-03, -4.02159428e-03,  3.07813025e-03,\n",
    "       -2.08948139e-02,  2.22350321e-02, -1.33957309e-01,  3.68571734e-03,\n",
    "        4.07331062e-03, -5.15380735e-03, -9.53410889e-03,  1.92487461e-02,\n",
    "        1.30707563e-02,  1.51308873e-02,  8.10653288e-03, -1.11666039e-02,\n",
    "       -4.64891138e-03, -7.71690579e-03, -1.59156924e-03,  2.90268708e-03,\n",
    "       -2.20680113e-02,  2.29720807e-02, -1.75356892e-03,  2.12012289e-03,\n",
    "       -4.51101063e-04, -8.94576366e-03, -3.63933149e-02,  2.35407001e-03,\n",
    "        3.30661905e-03,  1.56194378e-02, -1.47247481e-02, -7.13176762e-03,\n",
    "        2.61434236e-03,  3.41670936e-02, -2.98792123e-03, -3.24041343e-02,\n",
    "       -2.79870998e-03,  3.70870665e-03, -8.99472190e-03, -1.17400813e-03,\n",
    "        6.78930543e-03, -2.27399471e-03, -3.61618498e-03,  1.15166746e-02,\n",
    "       -2.39012315e-02,  1.06311579e-02, -5.86290336e-03,  1.65156523e-02,\n",
    "       -1.35581270e-03, -1.64973389e-03,  5.77428470e-03,  5.15779005e-02,\n",
    "        1.60133347e-03,  1.41828149e-02, -3.31696481e-03, -2.78510675e-03,\n",
    "        2.23418907e-02,  3.28570619e-02, -1.34353672e-02,  1.94866757e-03,\n",
    "        1.06339692e-02,  4.46688087e-02,  5.36264512e-03, -1.38705713e-02,\n",
    "       -1.01268077e-05, -1.91108864e-02,  1.30106453e-02,  3.63018691e-02,\n",
    "       -4.84143634e-03, -7.37972981e-03, -5.69644622e-03, -2.03458229e-02,\n",
    "       -3.27741471e-02, -7.44354556e-03, -1.15079242e-02,  1.15721763e-02,\n",
    "        2.53861362e-02,  1.93654510e-02, -2.24511220e-03, -2.11297970e-03,\n",
    "       -1.32067809e-02,  9.74356733e-03, -3.15025286e-03, -5.04100471e-03,\n",
    "       -1.44930951e-02, -2.74816989e-04,  5.71089957e-03, -9.34491382e-03,\n",
    "       -3.19169702e-02, -1.53104350e-02, -2.26575027e-02, -1.71489424e-02,\n",
    "       -9.83487595e-03,  3.09897055e-03,  2.02678697e-02,  2.34173855e-02,\n",
    "       -1.59192217e-02,  2.87832899e-02, -5.61193336e-03, -4.81490030e-03,\n",
    "       -6.95154663e-03, -3.36184413e-03, -6.34374065e-04,  1.15658707e-02,\n",
    "        1.20610343e-02, -3.15914116e-03,  4.45759708e-03,  2.25625381e-03,\n",
    "       -1.46687309e-02, -5.69229184e-03,  7.99660415e-03, -1.03804886e-02,\n",
    "        1.56393541e-02,  3.37929316e-02, -1.20912058e-02, -7.33574184e-03,\n",
    "       -1.05140911e-02,  7.26756891e-03,  2.85205748e-02,  4.44919700e-02,\n",
    "       -9.60150810e-03, -9.04090828e-03, -7.04441008e-03, -6.75504663e-03,\n",
    "       -1.64289985e-02,  1.92351595e-03, -1.17017726e-03, -8.45844181e-03,\n",
    "       -1.55735278e-02, -9.81100490e-04,  7.60480222e-03,  4.26922580e-02,\n",
    "       -1.50721981e-02,  1.89845112e-02, -7.02985411e-03, -9.21079923e-03,\n",
    "       -7.78323162e-03, -5.67951280e-03,  1.77834314e-02, -4.16971097e-03,\n",
    "       -7.04818245e-03, -1.88516204e-02,  2.05904791e-02,  3.32218758e-02,\n",
    "       -9.79248557e-03, -3.93590718e-03])"
   ]
  },
  {
   "cell_type": "code",
   "execution_count": 8,
   "metadata": {},
   "outputs": [],
   "source": [
    "fig.savefig('plots/'+speciesname+'_CS-VQE_test.png', dpi=300, bbox_inches='tight')\n",
    "\n",
    "data={}\n",
    "for k in result.meta_data.keys():\n",
    "    data[str(k)] = result.meta_data[k]\n",
    "    \n",
    "with open(\"data/QLM_circuits/\"+speciesname+\"_CS-VQE_test.json\", \"w\") as outfile: \n",
    "    json.dump(data, outfile)"
   ]
  },
  {
   "cell_type": "code",
   "execution_count": null,
   "metadata": {},
   "outputs": [
    {
     "name": "stdout",
     "output_type": "stream",
     "text": [
      "Noncon error: 0.07075434472042019 \n",
      "\n",
      "<!> QLM error \n",
      "\n",
      "<!> QLM error \n",
      "\n",
      "<!> QLM error \n",
      "\n",
      "<!> QLM error \n",
      "\n",
      "<!> QLM error \n",
      "\n",
      "<!> QLM error \n",
      "\n",
      "<!> QLM error \n",
      "\n",
      "<!> QLM error \n",
      "\n",
      "<!> QLM error \n",
      "\n",
      "<!> QLM error \n",
      "\n",
      "<!> QLM error \n",
      "\n",
      "<!> QLM error \n",
      "\n",
      "<!> QLM error \n",
      "\n",
      "<!> QLM error \n",
      "\n",
      "<!> QLM error \n",
      "\n",
      "Ansatz terms: ['IXXIZZYI'] | error = 0.06920550440547402 \n",
      "\n",
      "QLM error on terms: ['IIZZIIII', 'IIXXIIII', 'IIYYIIII', 'IYXIZZXI', 'IYYZZZXI', 'IYYIZZYI', 'IYXZZZYI', 'YZIXZZZX', 'XZZXZZZX', 'XZIYZZZX', 'YZZYZZZX', 'XZIXZZZY', 'YZZXZZZY', 'YZIYZZZY', 'XZZYZZZY']\n",
      "Ansatz terms: ['IXXIZZYI', 'YZIXZZZX'] | error = 0.0676568218543494 \n",
      "\n",
      "Ansatz terms: ['IXXIZZYI', 'YZIXZZZX', 'IXYIZZXI'] | error = 0.06765144588336369 \n",
      "\n",
      "<!> QLM error \n",
      "\n",
      "Ansatz terms: ['IXXIZZYI', 'YZIXZZZX', 'IXYIZZXI', 'IIIIIIII'] | error = 0.06765111981763994 \n",
      "\n",
      "QLM error on terms: ['ZZZXZZZZ']\n",
      "Ansatz terms: ['IXXIZZYI', 'YZIXZZZX', 'IXYIZZXI', 'IIIIIIII', 'IYXZZZYI'] | error = 0.06765237690150627 \n",
      "\n"
     ]
    }
   ],
   "source": [
    "print('Noncon error:', mol_circ.noncon-mol_circ.truegs, '\\n')\n",
    "qlm_circ = QLM_circuit(num_sim_q, opt_method='COBYLA', maxiter=5000)\n",
    "chemacc=0.0016\n",
    "current_error=1\n",
    "final_ops = []\n",
    "while current_error > chemacc:\n",
    "    pauli_errors = []\n",
    "    lost = []\n",
    "    for pauli in uccsd.keys():\n",
    "        if pauli not in final_ops:\n",
    "            anz_ops = final_ops + [pauli] #random.choices(list(uccsd.keys()), k=30)\n",
    "            #print('Ansatz operators:', anz_ops)\n",
    "            anz = {op:uccsd[op] for op in anz_ops}\n",
    "            ham_dict, num_sim_q, num_params, instructions = mol_circ.qlm_circuit(anz, num_sim_q).values()\n",
    "            try:\n",
    "                result = qlm_circ.run_vqe(ham_dict, instructions)\n",
    "                error  = result.value-mol_circ.truegs\n",
    "                pauli_errors.append((pauli, error))\n",
    "                #print(\"Minimum energy =\", result.value, '| error =', error, '| Chemical accuracy?', error<0.0016)\n",
    "                #print(\"Optimal angles =\", result.meta_data[\"parameters\"], '\\n')\n",
    "\n",
    "                if error<0.0016:\n",
    "                    #final_ops.append(pauli)\n",
    "                    plot_qlm_result(result)\n",
    "                    break\n",
    "            except:\n",
    "                print('<!> QLM error \\n')\n",
    "                lost.append(pauli)\n",
    "\n",
    "    pauli_out, current_error = sorted(pauli_errors, key=lambda x:x[1])[0]\n",
    "    final_ops.append(pauli_out)\n",
    "    \n",
    "    print('Ansatz terms:', final_ops, '| error =', current_error, '\\n')\n",
    "    if lost!=[]:\n",
    "        print('QLM error on terms:', lost)\n",
    "    \n",
    "print(final_ops)"
   ]
  },
  {
   "cell_type": "code",
   "execution_count": null,
   "metadata": {},
   "outputs": [],
   "source": [
    "#fig.savefig('plots/'+speciesname+'_CS-VQE_test.png', dpi=300, bbox_inches='tight')"
   ]
  },
  {
   "cell_type": "code",
   "execution_count": null,
   "metadata": {},
   "outputs": [],
   "source": []
  },
  {
   "cell_type": "code",
   "execution_count": null,
   "metadata": {},
   "outputs": [],
   "source": [
    "#data={}\n",
    "#for k in result.meta_data.keys():\n",
    "#    data[str(k)] = result.meta_data[k]\n",
    "#    \n",
    "#with open(\"data/QLM_circuits/\"+speciesname+\"_CS-VQE_test.json\", \"w\") as outfile: \n",
    "#    json.dump(data, outfile)"
   ]
  },
  {
   "cell_type": "code",
   "execution_count": 31,
   "metadata": {},
   "outputs": [],
   "source": [
    "plot_mols = ['Be_STO-3G_SINGLET',\n",
    "             'C_STO-3G_SINGLET',\n",
    "             'LiH_STO-3G_SINGLET', \n",
    "             'HF_STO-3G_SINGLET', \n",
    "             'BeH2_STO-3G_SINGLET']"
   ]
  },
  {
   "cell_type": "code",
   "execution_count": 63,
   "metadata": {},
   "outputs": [
    {
     "name": "stdout",
     "output_type": "stream",
     "text": [
      "Be_STO-3G_SINGLET\n",
      "C_STO-3G_SINGLET\n",
      "LiH_STO-3G_SINGLET\n",
      "HF_STO-3G_SINGLET\n",
      "BeH2_STO-3G_SINGLET\n"
     ]
    },
    {
     "data": {
      "text/plain": [
       "<matplotlib.legend.Legend at 0x7fd1dc1d07c0>"
      ]
     },
     "execution_count": 63,
     "metadata": {},
     "output_type": "execute_result"
    },
    {
     "data": {
      "image/png": "[encoded data removed]",
      "text/plain": [
       "<Figure size 1440x360 with 5 Axes>"
      ]
     },
     "metadata": {},
     "output_type": "display_data"
    }
   ],
   "source": [
    "fig, axes = plt.subplots(ncols=5, nrows=1, figsize=(20,5))\n",
    "\n",
    "for index, speciesname in enumerate(plot_mols):\n",
    "    print(speciesname)\n",
    "    with open('data/QLM_circuits/'+speciesname+'_CS-VQE_test.json', 'r') as json_file:\n",
    "        data = json.load(json_file)\n",
    "        \n",
    "    nfev = len(eval(data['optimization_trace']))\n",
    "    energy=eval(data['optimization_trace'])\n",
    "    \n",
    "    l1=axes[index].plot([np.log10(abs(e-model_data[speciesname]['truegs'])) for e in energy], label='CS-VQE convergence', color = \"black\")\n",
    "    l2=axes[index].hlines(np.log10(0.0016), 0, nfev, color='green', label='Chemical accuracy', ls='--')\n",
    "    l3=axes[index].hlines(np.log10(model_data[speciesname]['hf_energy']-model_data[speciesname]['truegs']), 0, nfev, color='red', label='Hartree-Fock energy', ls='--')\n",
    "    l4=axes[index].hlines(np.log10(model_data[speciesname]['noncon']-model_data[speciesname]['truegs']), 0, nfev, color='orange', label='Noncontextual ground state energy', ls='--')\n",
    "\n",
    "    axes[index].set_title('{}:\\n {}-qubit CS-VQE simulation'.format(speciesname, model_data[speciesname]['chem_acc_num_q']))\n",
    "    axes[index].set_xlabel(\"Optimization count\")\n",
    "    \n",
    "axes[0].set_ylabel(\"Logarithmic error [log(Ha)]\")\n",
    "axes[3].legend(loc=\"right\",   # Position of legend\n",
    "                borderaxespad=0.1,    # Small spacing around legend box\n",
    "                bbox_to_anchor=(1, -0.2),\n",
    "                ncol=4,\n",
    "                fancybox=True, \n",
    "                shadow=True)"
   ]
  },
  {
   "cell_type": "code",
   "execution_count": 65,
   "metadata": {},
   "outputs": [],
   "source": [
    "fig.savefig('plots/QLM_tests.png', dpi=300, bbox_inches='tight')"
   ]
  },
  {
   "cell_type": "code",
   "execution_count": null,
   "metadata": {},
   "outputs": [],
   "source": []
  }
 ],
 "metadata": {
  "kernelspec": {
   "display_name": "Python 3 (ipykernel)",
   "language": "python",
   "name": "python3"
  },
  "language_info": {
   "codemirror_mode": {
    "name": "ipython",
    "version": 3
   },
   "file_extension": ".py",
   "mimetype": "text/x-python",
   "name": "python",
   "nbconvert_exporter": "python",
   "pygments_lexer": "ipython3",
   "version": "3.8.8"
  }
 },
 "nbformat": 4,
 "nbformat_minor": 2
}
