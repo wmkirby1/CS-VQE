{
 "cells": [
  {
   "cell_type": "code",
   "execution_count": 1,
   "metadata": {
    "scrolled": true
   },
   "outputs": [
    {
     "name": "stdout",
     "output_type": "stream",
     "text": [
      "Will store matrices in dense form\n",
      "Qiskit Nature not installed\n"
     ]
    }
   ],
   "source": [
    "import json\n",
    "import numpy as np\n",
    "import cs_vqe.circuit as cs_circ\n",
    "import utils.plotting_tools as plot\n",
    "import utils.qonversion_tools as qonvert\n",
    "import utils.linalg_tools as la\n",
    "import utils.bit_tools as bit\n",
    "import utils.cs_vqe_tools_original as cs_tools\n",
    "from qat.lang.AQASM import Program, X, H, S, CNOT, RZ\n",
    "from qat.core.variables import Variable\n",
    "from qat.core import Observable, Term\n",
    "from matplotlib import pyplot as plt\n",
    "from qat.plugins import ScipyMinimizePlugin\n",
    "from qat.qpus import Stabs, LinAlg, MPS, Feynman, NoisyQProc\n",
    "import random"
   ]
  },
  {
   "cell_type": "code",
   "execution_count": 2,
   "metadata": {},
   "outputs": [
    {
     "name": "stdout",
     "output_type": "stream",
     "text": [
      "H2O_STO-3G_SINGLET 7\n",
      "- uccsd 228\n",
      "- excite3 84\n",
      "- excite4 168\n",
      "- excite5 184\n",
      "LiH_STO-3G_SINGLET 4\n",
      "- uccsd 112\n",
      "- excite3 36\n",
      "- excite4 44\n",
      "- excite5 56\n",
      "HF_STO-3G_SINGLET 4\n",
      "- uccsd 44\n",
      "- excite3 8\n",
      "- excite4 44\n",
      "- excite5 44\n",
      "CH2_STO-3G_SINGLET 8\n",
      "- uccsd 220\n",
      "- excite3 26\n",
      "- excite4 208\n",
      "- excite5 344\n",
      "BeH2_STO-3G_SINGLET 7\n",
      "- uccsd 176\n",
      "- excite3 60\n",
      "- excite4 72\n",
      "- excite5 92\n",
      "Be_STO-3G_SINGLET 3\n",
      "- uccsd 24\n",
      "- excite3 12\n",
      "- excite4 12\n",
      "- excite5 36\n",
      "C_STO-3G_SINGLET 4\n",
      "- uccsd 8\n",
      "- excite3 30\n",
      "- excite4 46\n",
      "- excite5 46\n",
      "NH_STO-3G_SINGLET 6\n",
      "- uccsd 36\n",
      "- excite3 16\n",
      "- excite4 128\n",
      "- excite5 152\n",
      "BH_STO-3G_SINGLET 6\n",
      "- uccsd 60\n",
      "- excite3 64\n",
      "- excite4 72\n",
      "- excite5 72\n"
     ]
    }
   ],
   "source": [
    "with open('data/model_data.json', 'r') as json_file:\n",
    "    model_data = json.load(json_file)\n",
    "\n",
    "for mol in model_data.keys():\n",
    "    print(mol, model_data[mol]['chem_acc_num_q'])\n",
    "    for name, a in model_data[mol]['ansatze'].items():\n",
    "        print('-', name, len(a))"
   ]
  },
  {
   "cell_type": "code",
   "execution_count": 3,
   "metadata": {},
   "outputs": [],
   "source": [
    "speciesname = \"BeH2_STO-3G_SINGLET\"\n",
    "mol_model    = model_data[speciesname]\n",
    "anz_op = mol_model['ansatze']['excite3']"
   ]
  },
  {
   "cell_type": "code",
   "execution_count": 4,
   "metadata": {},
   "outputs": [
    {
     "name": "stdout",
     "output_type": "stream",
     "text": [
      "Number of terms in the ansatz: 60\n",
      "BeH2_STO-3G_SINGLET reaches chemical accuracy for 7-qubit CS-VQE\n"
     ]
    }
   ],
   "source": [
    "mol_circ = cs_circ.cs_vqe_circuit(model_data=mol_model)\n",
    "\n",
    "num_sim_q = mol_circ.chem_acc_num_q\n",
    "print('Number of terms in the ansatz:', len(anz_op))\n",
    "print('%s reaches chemical accuracy for %i-qubit CS-VQE' % (speciesname, num_sim_q))\n",
    "#mol_circ.plot_cs_vqe_errors()"
   ]
  },
  {
   "cell_type": "code",
   "execution_count": 5,
   "metadata": {},
   "outputs": [],
   "source": [
    "def plot_qlm_result(result):\n",
    "    nfev = len(eval(result.meta_data['optimization_trace']))\n",
    "    energy=eval(result.meta_data['optimization_trace'])\n",
    "\n",
    "    fig, ax = plt.subplots(figsize=(10,4))\n",
    "    ax.plot([np.log10(abs(e-mol_circ.truegs)) for e in energy], label='CS-VQE convergence', color = \"black\")\n",
    "    ax.hlines(np.log10(abs(result.value-mol_circ.truegs)), 0, nfev, color='black', label='Convergence value', ls='--')\n",
    "    ax.hlines(np.log10(0.0016), 0, nfev, color='green', label='Chemical accuracy', ls='--')\n",
    "    ax.hlines(np.log10(mol_circ.HF_energy-mol_circ.truegs), 0, nfev, color='red', label='Hartree-Fock energy', ls='--')\n",
    "    ax.hlines(np.log10(mol_circ.noncon-mol_circ.truegs), 0, nfev, color='orange', label='Noncontextual ground state energy', ls='--')\n",
    "\n",
    "    ax.set_title('{}: {}-qubit CS-VQE simulation'.format(speciesname, num_sim_q))\n",
    "    ax.set_xlabel(\"Optimization count\")\n",
    "    ax.set_ylabel(\"Logarithmic error [log(Ha)]\")\n",
    "    ax.legend()\n",
    "    \n",
    "    return fig"
   ]
  },
  {
   "cell_type": "code",
   "execution_count": 10,
   "metadata": {},
   "outputs": [],
   "source": [
    "class QLM_circuit():\n",
    "    \"\"\"Class for building and executing QLM circuits\n",
    "    \"\"\"\n",
    "    gate_dict = {'X':X,'H':H,'S':S,'SDG':S.dag(),'RZ':RZ,'CX':CNOT}\n",
    "    \n",
    "    def __init__(self,\n",
    "                 n_qubits,\n",
    "                 qpu_type   = NoisyQProc(sim_method=\"stochastic\", \n",
    "                                         backend_simulator=LinAlg(),\n",
    "                                         n_samples=10),\n",
    "                 opt_method = 'COBYLA',\n",
    "                 maxiter    = 1000,\n",
    "                 theta0     = None\n",
    "                 ):\n",
    "        \n",
    "        optimizer=ScipyMinimizePlugin(method=opt_method,\n",
    "                                    tol=1e-4,\n",
    "                                    options={\"maxiter\": maxiter},\n",
    "                                    x0=theta0)\n",
    "        self.qpu = optimizer | qpu_type\n",
    "        self.n_qubits = n_qubits\n",
    "        \n",
    "        \n",
    "    def construct_hamiltonian(self, ham_dict):\n",
    "        assert(len(list(ham_dict.keys())[0])==self.n_qubits)\n",
    "        pauli_terms = [Term(coeff, op, list(range(self.n_qubits))) for op, coeff in ham_dict.items()]\n",
    "        hamiltonian = Observable(self.n_qubits,pauli_terms=pauli_terms)\n",
    "        return hamiltonian\n",
    "        \n",
    "        \n",
    "    def build_qlm_circuit(self, instructions):\n",
    "        for i in instructions[::-1]:\n",
    "            if i[1]!=[]:\n",
    "                num_params = i[1][0] + 1\n",
    "                break\n",
    "\n",
    "        prog = Program()\n",
    "        qbits_reg = prog.qalloc(self.n_qubits)\n",
    "        params = [prog.new_var(float, \"\\\\P{}\".format(i)) for i in range(num_params)]\n",
    "\n",
    "        for gate, var_num, q_pos in instructions:\n",
    "            q_pos = [self.n_qubits-p-1 for p in q_pos] #qubit ordering is reversed compared with Qiskit\n",
    "            if gate == 'RZ':\n",
    "                prog.apply(RZ(params[var_num[0]]), qbits_reg[q_pos[0]])\n",
    "            elif gate == 'CX':\n",
    "                prog.apply(CNOT, qbits_reg[q_pos[0]], qbits_reg[q_pos[1]])\n",
    "            else:\n",
    "                prog.apply(self.gate_dict[gate], qbits_reg[q_pos[0]])\n",
    "\n",
    "        qc = prog.to_circ()\n",
    "\n",
    "        return qc\n",
    "    \n",
    "    \n",
    "    def run_vqe(self, ham_dict, instructions):\n",
    "        \n",
    "        hamiltonian = self.construct_hamiltonian(ham_dict)\n",
    "        qc = self.build_qlm_circuit(instructions)\n",
    "        job = qc.to_job(job_type=\"OBS\", nbshots=2048, observable=hamiltonian)\n",
    "        result = self.qpu.submit(job)\n",
    "        \n",
    "        return result"
   ]
  },
  {
   "cell_type": "code",
   "execution_count": null,
   "metadata": {},
   "outputs": [],
   "source": [
    "ham_dict, num_sim_q, num_params, instructions = mol_circ.qlm_circuit(anz_op, num_sim_q).values()\n",
    "qlm_circ = QLM_circuit(num_sim_q, opt_method='COBYLA', maxiter=350, theta0=mol_circ.init_param)\n",
    "result = qlm_circ.run_vqe(ham_dict, instructions)\n",
    "error  = result.value-mol_circ.truegs; print(error)\n",
    "fig = plot_qlm_result(result)"
   ]
  },
  {
   "cell_type": "code",
   "execution_count": 9,
   "metadata": {},
   "outputs": [],
   "source": [
    "fig.savefig('plots/'+speciesname+'_CS-VQE_noisy_test.png', dpi=300, bbox_inches='tight')\n",
    "\n",
    "data={}\n",
    "for k in result.meta_data.keys():\n",
    "    data[str(k)] = result.meta_data[k]\n",
    "    \n",
    "with open(\"data/QLM_circuits/\"+speciesname+\"_CS-VQE_noisy_test.json\", \"w\") as outfile: \n",
    "    json.dump(data, outfile)"
   ]
  },
  {
   "cell_type": "code",
   "execution_count": null,
   "metadata": {},
   "outputs": [
    {
     "name": "stdout",
     "output_type": "stream",
     "text": [
      "Noncon error: 0.07075434472042019 \n",
      "\n",
      "<!> QLM error \n",
      "\n",
      "<!> QLM error \n",
      "\n",
      "<!> QLM error \n",
      "\n",
      "<!> QLM error \n",
      "\n",
      "<!> QLM error \n",
      "\n",
      "<!> QLM error \n",
      "\n",
      "<!> QLM error \n",
      "\n",
      "<!> QLM error \n",
      "\n",
      "<!> QLM error \n",
      "\n",
      "<!> QLM error \n",
      "\n",
      "<!> QLM error \n",
      "\n",
      "<!> QLM error \n",
      "\n",
      "<!> QLM error \n",
      "\n",
      "<!> QLM error \n",
      "\n",
      "<!> QLM error \n",
      "\n",
      "Ansatz terms: ['IXXIZZYI'] | error = 0.06920550440547402 \n",
      "\n",
      "QLM error on terms: ['IIZZIIII', 'IIXXIIII', 'IIYYIIII', 'IYXIZZXI', 'IYYZZZXI', 'IYYIZZYI', 'IYXZZZYI', 'YZIXZZZX', 'XZZXZZZX', 'XZIYZZZX', 'YZZYZZZX', 'XZIXZZZY', 'YZZXZZZY', 'YZIYZZZY', 'XZZYZZZY']\n",
      "Ansatz terms: ['IXXIZZYI', 'YZIXZZZX'] | error = 0.0676568218543494 \n",
      "\n",
      "Ansatz terms: ['IXXIZZYI', 'YZIXZZZX', 'IXYIZZXI'] | error = 0.06765144588336369 \n",
      "\n",
      "<!> QLM error \n",
      "\n",
      "Ansatz terms: ['IXXIZZYI', 'YZIXZZZX', 'IXYIZZXI', 'IIIIIIII'] | error = 0.06765111981763994 \n",
      "\n",
      "QLM error on terms: ['ZZZXZZZZ']\n",
      "Ansatz terms: ['IXXIZZYI', 'YZIXZZZX', 'IXYIZZXI', 'IIIIIIII', 'IYXZZZYI'] | error = 0.06765237690150627 \n",
      "\n"
     ]
    }
   ],
   "source": [
    "print('Noncon error:', mol_circ.noncon-mol_circ.truegs, '\\n')\n",
    "qlm_circ = QLM_circuit(num_sim_q, opt_method='COBYLA', maxiter=5000)\n",
    "chemacc=0.0016\n",
    "current_error=1\n",
    "final_ops = []\n",
    "while current_error > chemacc:\n",
    "    pauli_errors = []\n",
    "    lost = []\n",
    "    for pauli in uccsd.keys():\n",
    "        if pauli not in final_ops:\n",
    "            anz_ops = final_ops + [pauli] #random.choices(list(uccsd.keys()), k=30)\n",
    "            #print('Ansatz operators:', anz_ops)\n",
    "            anz = {op:uccsd[op] for op in anz_ops}\n",
    "            ham_dict, num_sim_q, num_params, instructions = mol_circ.qlm_circuit(anz, num_sim_q).values()\n",
    "            try:\n",
    "                result = qlm_circ.run_vqe(ham_dict, instructions)\n",
    "                error  = result.value-mol_circ.truegs\n",
    "                pauli_errors.append((pauli, error))\n",
    "                #print(\"Minimum energy =\", result.value, '| error =', error, '| Chemical accuracy?', error<0.0016)\n",
    "                #print(\"Optimal angles =\", result.meta_data[\"parameters\"], '\\n')\n",
    "\n",
    "                if error<0.0016:\n",
    "                    #final_ops.append(pauli)\n",
    "                    plot_qlm_result(result)\n",
    "                    break\n",
    "            except:\n",
    "                print('<!> QLM error \\n')\n",
    "                lost.append(pauli)\n",
    "\n",
    "    pauli_out, current_error = sorted(pauli_errors, key=lambda x:x[1])[0]\n",
    "    final_ops.append(pauli_out)\n",
    "    \n",
    "    print('Ansatz terms:', final_ops, '| error =', current_error, '\\n')\n",
    "    if lost!=[]:\n",
    "        print('QLM error on terms:', lost)\n",
    "    \n",
    "print(final_ops)"
   ]
  },
  {
   "cell_type": "code",
   "execution_count": null,
   "metadata": {},
   "outputs": [],
   "source": [
    "#fig.savefig('plots/'+speciesname+'_CS-VQE_test.png', dpi=300, bbox_inches='tight')"
   ]
  },
  {
   "cell_type": "code",
   "execution_count": null,
   "metadata": {},
   "outputs": [],
   "source": []
  },
  {
   "cell_type": "code",
   "execution_count": null,
   "metadata": {},
   "outputs": [],
   "source": [
    "#data={}\n",
    "#for k in result.meta_data.keys():\n",
    "#    data[str(k)] = result.meta_data[k]\n",
    "#    \n",
    "#with open(\"data/QLM_circuits/\"+speciesname+\"_CS-VQE_test.json\", \"w\") as outfile: \n",
    "#    json.dump(data, outfile)"
   ]
  },
  {
   "cell_type": "code",
   "execution_count": null,
   "metadata": {},
   "outputs": [],
   "source": []
  }
 ],
 "metadata": {
  "kernelspec": {
   "display_name": "Python 3",
   "language": "python",
   "name": "python3"
  },
  "language_info": {
   "codemirror_mode": {
    "name": "ipython",
    "version": 3
   },
   "file_extension": ".py",
   "mimetype": "text/x-python",
   "name": "python",
   "nbconvert_exporter": "python",
   "pygments_lexer": "ipython3",
   "version": "3.6.8"
  }
 },
 "nbformat": 4,
 "nbformat_minor": 2
}
