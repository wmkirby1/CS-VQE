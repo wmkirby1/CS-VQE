{
 "cells": [
  {
   "cell_type": "markdown",
   "metadata": {},
   "source": [
    "# Quantum Learning Machine: jupyter notebooks tutorial\n",
    "<span style=\"color:green\">[ qat-tutorial-1.4.1 ]</span>\n",
    "\n",
    "The Quantum Learning Machine provides a software environment to program, compile and execute quantum programs, either on one of the provided simulators or on an actual chip whose interface has been implemented.\n",
    "\n",
    "It comes with a python software stack named \"*Quantum Application Toolset*\" (QAT), available under the general namespace ``qat``."
   ]
  },
  {
   "cell_type": "markdown",
   "metadata": {},
   "source": [
    "## Getting started\n",
    "\n",
    "The [getting started](getting_started.ipynb) notebook provides the basic steps to write and simulate your first quantum circuit."
   ]
  },
  {
   "cell_type": "markdown",
   "metadata": {},
   "source": [
    "## Tutorial notebooks: overview per theme\n",
    "- ### [Basics](tutorials/basic/overview_basic.ipynb)\n",
    "- ### [AQASM: the quantum programming language of the QLM](tutorials/lang/overview.ipynb)\n",
    "- ### [Circuit optimization and compilation](tutorials/circuit_optimization/overview.ipynb)\n",
    "- ### [Ideal (noise-less) circuit simulation](tutorials/simulation/simulation_overview.ipynb)\n",
    "- ### [Noisy simulation](tutorials/noisy_simulation/overview.ipynb)\n",
    "- ### [Digital quantum simulation](tutorials/digital_quantum_simulation/overview.ipynb)\n",
    "- ### [Variational algorithms (QAOA, VQE...)](tutorials/variational_algorithms/overview.ipynb)\n",
    "- ### [Customizing computational stack with **Plugins**](tutorials/plugins/overview.ipynb)\n",
    "- ### [Quantum annealing and QUBO on the QLM](tutorials/combinatorial_optimization/overview_combinatorial_optimization.ipynb)\n",
    "- ### [GPU acceleration feature in QLM](tutorials/gpu/overview.ipynb)"
   ]
  },
  {
   "cell_type": "markdown",
   "metadata": {},
   "source": [
    "# Full table of contents\n",
    "\n",
    "- ## [Basics](tutorials/basic/overview_basic.ipynb)\n",
    "    * [EPR pair circuit creation and simulation](tutorials/basic/epr_pair.ipynb)\n",
    "    * [Asking a simulator for an observable average](tutorials/basic/observables.ipynb)\n",
    "    * [Asking a simulator results on a subset of the qubits](tutorials/basic/partial_measures.ipynb)\n",
    "- ## [AQASM: the quantum programming language of the qlm](tutorials/lang/overview.ipynb)\n",
    "    * [Writing a basic Quantum Program](tutorials/lang/writing_quantum_program.ipynb)\n",
    "    * [PyAQASM fundamental features](tutorials/lang/py_aqasm.ipynb)\n",
    "    * [Creating your custom gate set](tutorials/lang/custom_gate_set.ipynb)\n",
    "        * [Creating abstract gates and black-boxing routines](tutorials/lang/gate_sets.ipynb)\n",
    "    * [AQASM Language: text format](tutorials/lang/aqasm.ipynb)\n",
    "- ## [Circuit optimization and compilation](tutorials/circuit_optimization/overview.ipynb)\n",
    "    * [SWAP insertion tools for constrained connectivities](tutorials/circuit_optimization/satisfying_connectivity_constraints.ipynb)\n",
    "    * [Phase-polynomials-based optimization tools](tutorials/circuit_optimization/graphopt.ipynb)\n",
    "    * [Generic pattern-based rewriting](tutorials/circuit_optimization/graph_circuit.ipynb)\n",
    "    * [Example: Pattern-based optimization of QAOA](tutorials/circuit_optimization/pattern_manager.ipynb)\n",
    "- ## [Ideal (noise-less) circuit simulation](tutorials/simulation/simulation_overview.ipynb)\n",
    "   * [Demonstration of available execution options](tutorials/simulation/simulation_overview.ipynb)\n",
    "   * [Analyzing the output of a run](tutorials/simulation/run_analysis.ipynb)\n",
    "   * [Getting numpy vector as simulation results](tutorials/simulation/in_memory_return.ipynb)\n",
    "   * [Overview of available simulators (MPS, Feynman, Stabs...)](tutorials/simulation/quantum_simulators_overview.ipynb)\n",
    "   * [Emulating QRAMs with ``qat.linalg``](tutorials/simulation/qram.ipynb)\n",
    "   * [Emulating state preparation with ``qat.linalg``](tutorials/simulation/state_preparation.ipynb)\n",
    "   \n",
    "- ## [Noisy simulation](tutorials/noisy_simulation/overview.ipynb)\n",
    "    - #### Basic\n",
    "        * [setting up a noisy simulation](tutorials/noisy_simulation/noisy_simulation_service.ipynb)\n",
    "        * [a noisy Quantum Fourier transform](tutorials/noisy_simulation/noisy_qft_on_ibm_hardware.ipynb)\n",
    "        * [creating one's own hardware model](tutorials/noisy_simulation/create_own_hardware_model.ipynb)\n",
    "        * [learning about noise models, aka quantum channels](tutorials/noisy_simulation/quantum_channels.ipynb)\n",
    "\n",
    "    - #### Advanced\n",
    "        * [computing the density matrix](tutorials/noisy_simulation/density_matrix_simulation.ipynb)\n",
    "        * [parametric quantum channels to describe idling noise](tutorials/noisy_simulation/parametric_channels.ipynb)\n",
    "        * [noisy state preparation and measurement](tutorials/noisy_simulation/noisy_spam.ipynb)\n",
    "        * [adding gate noise](tutorials/noisy_simulation/gate_noise_example.ipynb)\n",
    "        * [how to do tomography](tutorials/noisy_simulation/tomography_basics.ipynb)\n",
    "        * [generate and process data for tomography](tutorials/noisy_simulation/tomography_data_collection_and_processing.ipynb)\n",
    "- ## [Varational Algorithms (QAOA, VQE...)](tutorials/variational_algorithms/overview.ipynb)\n",
    "    * [Combinatorial problems that can generate QAOA Ansätze](tutorials/combinatorial_optimization/overview_combinatorial_optimization.ipynb)\n",
    "    * [A presentation of the QAOA circuit generation routines](tutorials/variational_algorithms/qaoa.ipynb)\n",
    "    * [Adaptative plugins and variational optimizers](tutorials/plugins/junctions_and_optimizers.ipynb)\n",
    "    * [Fun and interactive plugins for variational optimization](tutorials/variational_algorithms/displaying_informations.ipynb)\n",
    "    * [Binding with Scipy optimizers](tutorials/variational_algorithms/scipy_optimize_binder.ipynb)\n",
    "- ## [Digital quantum simulation](tutorials/digital_quantum_simulation/overview.ipynb)\n",
    "    * [VQE for fermions](tutorials/digital_quantum_simulation/vqe_fermions.ipynb)\n",
    "    * [Fermion-spin transforms](tutorials/digital_quantum_simulation/spin_fermion_transforms.ipynb)\n",
    "    * [Quantum phase estimation](tutorials/digital_quantum_simulation/qpe_hubbard_molecule.ipynb)\n",
    "    * [VQE for a H2 molecule using the UCC ansatz](tutorials/digital_quantum_simulation/vqe_ucc_h2.ipynb)\n",
    "    * [Quantum subspace expansion on a H2 molecule](tutorials/digital_quantum_simulation/quantum_subspace_expansion_h2.ipynb)\n",
    "    * [VQE on a Hubbard molecule](tutorials/digital_quantum_simulation/vqe_hubbard_molecule.ipynb)\n",
    "- ## [Customizing computational stack with **Plugins**](tutorials/plugins/overview.ipynb)\n",
    "    * [Example: emulating constrained connectivity](tutorials/plugins/emulating_custom_hardware_specs.ipynb)\n",
    "- ## [Quantum annealing on the QLM](tutorials/combinatorial_optimization/overview_combinatorial_optimization.ipynb)\n",
    "    - #### Unconstrained Graph Problems\n",
    "        * [Max Cut](tutorials/combinatorial_optimization/max_cut.ipynb)\n",
    "        * [Graph Partitioning](tutorials/combinatorial_optimization/graph_partitioning.ipynb)\n",
    "\n",
    "    - #### Constrained Graph Problems\n",
    "        * [Graph Colouring](tutorials/combinatorial_optimization/graph_colouring.ipynb)\n",
    "        * [K-Clique](tutorials/combinatorial_optimization/k_clique.ipynb)\n",
    "        * [Vertex Cover](tutorials/combinatorial_optimization/vertex_cover.ipynb)\n",
    "\n",
    "    - #### Other NP Problems\n",
    "        * [Number Partitioning](tutorials/combinatorial_optimization/number_partitioning.ipynb)\n",
    "        * [Binary Integer Linear Programming](tutorials/combinatorial_optimization/binary_integer_linear_programming.ipynb)"
   ]
  },
  {
   "cell_type": "markdown",
   "metadata": {},
   "source": [
    "## Additional Information\n",
    "\n",
    "[Command-line usage](commands.ipynb)"
   ]
  }
 ],
 "metadata": {
  "authors": [
   "Jerome Pioux"
  ],
  "kernelspec": {
   "display_name": "Python 3",
   "language": "python",
   "name": "python3"
  },
  "language_info": {
   "codemirror_mode": {
    "name": "ipython",
    "version": 3
   },
   "file_extension": ".py",
   "mimetype": "text/x-python",
   "name": "python",
   "nbconvert_exporter": "python",
   "pygments_lexer": "ipython3",
   "version": "3.6.8"
  },
  "nbsphinx-toctree": {
   "maxdepth": 3,
   "numbered": true
  }
 },
 "nbformat": 4,
 "nbformat_minor": 2
}
