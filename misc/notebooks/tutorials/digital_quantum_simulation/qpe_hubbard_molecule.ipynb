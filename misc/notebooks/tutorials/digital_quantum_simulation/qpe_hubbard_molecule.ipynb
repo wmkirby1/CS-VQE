{
 "cells": [
  {
   "cell_type": "markdown",
   "metadata": {},
   "source": [
    "# Quantum Phase Estimation on the Hubbard molecule\n",
    "\n",
    "We would like to study the \"Hubbard dimer\" molecule, whose Hamiltonian reads:\n",
    "\n",
    "$$H=-t\\sum_{\\sigma=\\uparrow,\\downarrow}\\left(c_{1\\sigma}^{\\dagger}c_{2\\sigma}+c_{2\\sigma}^{\\dagger}c_{1\\sigma}\\right)-\\mu\\sum_{i=1,2}\\sum_{\\sigma=\\uparrow,\\downarrow}n_{i\\sigma}+U\\sum_{i=1,2}n_{i\\uparrow}n_{i\\downarrow}$$\n",
    "\n",
    "with $n_{i\\sigma} = c^\\dagger_{i\\sigma} c_{i\\sigma}$. We will choose $\\mu=U/2$ to keep the number of electrons at one per site.\n",
    "\n",
    "## Defining the Hubbard dimer Hamiltonian"
   ]
  },
  {
   "cell_type": "code",
   "execution_count": null,
   "metadata": {},
   "outputs": [],
   "source": [
    "%load_ext autoreload\n",
    "%autoreload 2\n",
    "\n",
    "import numpy as np\n",
    "import itertools\n",
    "from qat.dqs.hamiltonians import make_hubbard_model\n",
    "\n",
    "U = 1.0\n",
    "t = 0.2\n",
    "t_mat = - t * np.array([[0., 1.],\n",
    "                        [1., 0.]])\n",
    "hamilt = make_hubbard_model(t_mat, U, mu=U/2)\n",
    "\n",
    "eigvals = np.linalg.eigvalsh(hamilt.get_matrix())\n",
    "E0 = min(eigvals)\n",
    "print(\"Exact energy = \", E0)"
   ]
  },
  {
   "cell_type": "markdown",
   "metadata": {},
   "source": [
    "## Performing phase estimation"
   ]
  },
  {
   "cell_type": "code",
   "execution_count": null,
   "metadata": {},
   "outputs": [],
   "source": [
    "from qat.qpus import LinAlg\n",
    "from qat.dqs.phase_estimation import perform_phase_estimation\n",
    "qpu = LinAlg()\n",
    "nqbits_adiab = 6\n",
    "nqbits_phase = 6\n",
    "target_energy = E0 + 0.05\n",
    "\n",
    "print(\"Guess energy =\", target_energy)\n",
    "\n",
    "for n_adiab_steps, n_trotter_steps in itertools.product([2, 4, 6], [4]):\n",
    "    energy, prob, eigvec = perform_phase_estimation(hamilt, nqbits_adiab, nqbits_phase,\n",
    "                                                    n_adiab_steps, n_trotter_steps,\n",
    "                                                    target_energy, 0.2, 0.2,\n",
    "                                                    qpu=qpu,\n",
    "                                                    n_shots=np.inf, verbose=True)\n",
    "    print(\"-> n_adiab_steps = %s, n_trotter = %s ==> E = %s\"%(n_adiab_steps,n_trotter_steps, energy))"
   ]
  },
  {
   "cell_type": "markdown",
   "metadata": {},
   "source": [
    "Note that one can of course replace an ideal QPU with a noisy one.\n",
    "\n",
    "The circuit used for phase estimation is accessible via the function ``make_phase_estimation_circuit``:"
   ]
  },
  {
   "cell_type": "code",
   "execution_count": null,
   "metadata": {},
   "outputs": [],
   "source": [
    "from qat.dqs.phase_estimation import make_phase_estimation_circuit\n",
    "\n",
    "n_adiab_steps = 2\n",
    "n_trotter_steps = 1\n",
    "circ = make_phase_estimation_circuit(hamilt,\n",
    "                                     nqbits_adiab,\n",
    "                                     nqbits_phase,\n",
    "                                     n_adiab_steps,\n",
    "                                     n_trotter_steps,\n",
    "                                     target_energy, 0.2, 0.2)\n",
    "\n",
    "print(\"Depth of PEA circuit =\", len(circ))"
   ]
  },
  {
   "cell_type": "markdown",
   "metadata": {},
   "source": [
    "## Trotterisation\n",
    "\n",
    "The ``qat.dqs.trotterisation`` module also provides a trotterization routine (in Jordan-Wigner representation) that returns a ``QRoutine`` approximating the unitary evolution $\\exp(-i H t)$. In the cell below, $H$ is ``hamilt``, and $t$ is ``final_time``."
   ]
  },
  {
   "cell_type": "code",
   "execution_count": null,
   "metadata": {},
   "outputs": [],
   "source": [
    "from qat.dqs.trotterisation import make_trotterisation_routine\n",
    "from qat.lang.AQASM import Program\n",
    "\n",
    "n_trotter_steps = 1\n",
    "final_time = 1\n",
    "\n",
    "prog = Program()\n",
    "reg = prog.qalloc(hamilt.hpq.shape[0])\n",
    "prog.apply(make_trotterisation_routine(hamilt, n_trotter_steps, final_time), reg)\n",
    "\n",
    "circ = prog.to_circ()\n",
    "\n",
    "%qatdisplay circ"
   ]
  }
 ],
 "metadata": {
  "authors": [
   "Jerome Pioux",
   "Thomas Ayral"
  ],
  "kernelspec": {
   "display_name": "Python 3",
   "language": "python",
   "name": "python3"
  },
  "language_info": {
   "codemirror_mode": {
    "name": "ipython",
    "version": 3
   },
   "file_extension": ".py",
   "mimetype": "text/x-python",
   "name": "python",
   "nbconvert_exporter": "python",
   "pygments_lexer": "ipython3",
   "version": "3.6.8"
  }
 },
 "nbformat": 4,
 "nbformat_minor": 2
}
