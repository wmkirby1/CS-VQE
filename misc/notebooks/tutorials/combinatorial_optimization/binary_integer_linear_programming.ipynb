{
 "cells": [
  {
   "cell_type": "markdown",
   "metadata": {},
   "source": [
    "# Binary Integer Linear Programming (BILP)\n",
    "\n",
    "### Definition\n",
    "\n",
    "We are given a vector $c$ of size $N$ and we want to find the vector $x$ of the same size, but with binary values (i.e. $0$ and $1$) such that their dot product $c*x$ is largest. We are also given a constraint for $x$, namely $S*x = b$ for some specified $m \\times N$ matrix $S$ and vector $b$ of size $m$.\n",
    "\n",
    "### Applications\n",
    "\n",
    "An example real world application of the Binary Integer Linear Programming (BILP) is when a supplier wants to maximize profit, given regulatory constraints.\n",
    "\n",
    "### Path to solving the problem\n",
    "\n",
    "BILP is a maximization problem and its cost function can be cast to a QUBO problem through its respective Hamiltonian (see the [Introduction](./introduction_combinatorial_optimization.ipynb) and a [reference](https://arxiv.org/abs/1302.5843)),\n",
    "\n",
    "$$ \\displaystyle \\large\n",
    "H = A \\displaystyle \\textstyle\\sum\\limits_{j=1}^{m} \\left[ b_j -\\textstyle\\sum\\limits_{i=1}^{N} S_{ji} x_i  \\right] ^2 - B \\textstyle\\sum\\limits_{i=1}^{N} c_i x_i\n",
    "$$\n",
    "\n",
    "where $i$ and $j$ specify the components of $b$, $S$, $c$ and $x$. $A$ and $B$ are positive constants that need to be chosen such that $A \\gg B$. This would ensure that the problem is correctly encoded. Otherwise, the spin configuration for the lowest energy $H$ may not correspond to the best solution of our BILP problem or even to a valid one. \n",
    "\n",
    "The QLM allows us to encode a problem in this Hamiltonian form by using the `BILP` class and providing $b$, $S$, $c$ and constants $A$ and $B$. We can then create a job from the problem and send it to a heuristic Simulated Quantum Annealer (SQA) wrapped inside a Quantum Processing Unit (QPU). The SQA will minimize the Hamiltonian, hence find the best solution to our BILP problem.\n",
    "\n",
    "For a more detailed explanation and a step-by-step guidance, please follow the sections below.\n",
    "\n",
    "### Quantum resources\n",
    "\n",
    "To represent the problem as QUBO the QLM would need $N$ spins for encoding each of the binary values in $x$. "
   ]
  },
  {
   "cell_type": "markdown",
   "metadata": {},
   "source": [
    "# Example problem\n",
    "\n",
    "We will construct a problem, which will have more than one $x$ obeying the constraint $S*x = b$. However, we will specify $c$ such that only one $x$ gives a largest value and we will find it! With the procedure to be described, one will be able to solve any instance of a BILP problem."
   ]
  },
  {
   "cell_type": "code",
   "execution_count": 1,
   "metadata": {},
   "outputs": [],
   "source": [
    "import numpy as np\n",
    "\n",
    "# Specify the problem; the solution is x = [0, 1, 1, 0]\n",
    "c = np.array([0, 1, 1, 1])\n",
    "S = np.array([[1, 0, 1, 1], [0, 1, 0, 1]])\n",
    "b = np.array([1, 1])\n",
    "\n",
    "# Impose constraints for the right encoding\n",
    "B = 1 \n",
    "A = 10 * B"
   ]
  },
  {
   "cell_type": "markdown",
   "metadata": {},
   "source": [
    "Once the problem is specified and the constants $A$ and $B$ properly chosen, we can call our `BILP` class to encode the problem."
   ]
  },
  {
   "cell_type": "code",
   "execution_count": 2,
   "metadata": {},
   "outputs": [],
   "source": [
    "from qat.opt import BILP\n",
    "\n",
    "bilp_problem = BILP(c, S, b, A, B)"
   ]
  },
  {
   "cell_type": "markdown",
   "metadata": {},
   "source": [
    "# Solution"
   ]
  },
  {
   "cell_type": "markdown",
   "metadata": {},
   "source": [
    "Now we can proceed to compute the solution by following the steps:\n",
    "\n",
    "1. Extract the best SQA parameters found for BILP by calling the method `get_best_parameters()`.\n",
    "\n",
    "    The number of Monte Carlo updates is the total number of updates performed for each temperature (and gamma) on the spins of the equivalent 2D classical system. These updates are the product of the number of annealing steps $-$ `n_steps`, the number of \"Trotter replicas\" $-$ `n_trotters`, and the problem size, i.e. the number of qubits needed. Hence, we can use these parameters to get the best inferred value for `n_steps`. In general, the more these steps are, the finer and better the annealing will be. However this will cause the process to take longer to complete.\n",
    "    \n",
    "    Similarly for the `n_trotters` field in `SQAQPU` $-$ the higher it is, the better the final solution could be, but the more time taken by the annealer to reach an answer.\n",
    "\n",
    "\n",
    "2. Create a temperature and a gamma schedule for the annealing.\n",
    "\n",
    "    We use the extracted max and min temperatures and gammas to create a (linear) temperature and a (linear) gamma schedule. These schedules evolve in time from higher to lower values since we simulate the reduction of temperatures and magnetic fields. If one wishes to vary them it may help if the min values are close to $0$, as this will cause the Hamiltonian to reach a lower energy state, potentially closer to its ground state (where the solution is encoded).\n",
    "\n",
    "    It should be noted that non-linear schedules may be investigated too, but for the same number of steps they could lead to a slower annealing. The best min and max values for gamma and the temperature were found for linear schedules.\n",
    "\n",
    "\n",
    "3. Generate the SQAQPU and create a job for the problem. The job is then sent to the QPU and the annealing is performed.\n",
    "\n",
    "\n",
    "4. Present the solution spin configuration and the respective $x$. \n",
    "\n",
    "\n",
    "5. Calculate the value of $c*x$.\n",
    "\n",
    "The solution configuration is a sequence of spins. The position $i$ of each spin in the array corresponds to the position of the $i$-th component of the vector $x$. If a spin has the value $1$ or $-1$, this means that $x_i$ is $1$ or $0$, respectively. "
   ]
  },
  {
   "cell_type": "code",
   "execution_count": 3,
   "metadata": {},
   "outputs": [
    {
     "name": "stdout",
     "output_type": "stream",
     "text": [
      "Solution configuration: \n",
      "[-1.  1.  1. -1.]\n",
      "\n",
      "x is respectively: \n",
      "[0, 1, 1, 0]\n",
      "\n",
      "Largest value of c * x:\n",
      "2\n"
     ]
    }
   ],
   "source": [
    "from qat.sqa import SQAQPU\n",
    "from qat.core import Variable\n",
    "from qat.sqa.sqa_qpu import integer_to_spins\n",
    "\n",
    "# 1. Extract parameters for SQA\n",
    "problem_parameters_dict = bilp_problem.get_best_parameters()\n",
    "n_monte_carlo_updates = problem_parameters_dict[\"n_monte_carlo_updates\"]\n",
    "n_trotters = problem_parameters_dict[\"n_trotters\"]\n",
    "n_steps = int(n_monte_carlo_updates /\n",
    "              (n_trotters * len(c))) # the last one is the number of spins, i.e. the problem size\n",
    "temp_max = problem_parameters_dict[\"temp_max\"]\n",
    "temp_min = problem_parameters_dict[\"temp_min\"]\n",
    "gamma_max = problem_parameters_dict[\"gamma_max\"]\n",
    "gamma_min = problem_parameters_dict[\"gamma_min\"]\n",
    "\n",
    "# 2. Create a temperature and a gamma schedule\n",
    "tmax = 1.0\n",
    "t = Variable(\"t\", float)\n",
    "temp_t = temp_min * (t / tmax) + temp_max * (1 - t / tmax)\n",
    "gamma_t = gamma_min * (t / tmax) + gamma_max * (1 - t / tmax)\n",
    "\n",
    "\n",
    "# 3. Create a job and send it to a QPU\n",
    "problem_job = bilp_problem.to_job(gamma_t=gamma_t, tmax=tmax, nbshots=1)\n",
    "sqa_qpu = SQAQPU(temp_t=temp_t, n_steps=n_steps, n_trotters=n_trotters, seed=9999)\n",
    "problem_result = sqa_qpu.submit(problem_job)\n",
    "\n",
    "# 4. Present best configuration\n",
    "state_int = problem_result.raw_data[0].state.int  # raw_data is a list of Samples - one per shot\n",
    "solution_configuration = integer_to_spins(state_int, len(c))\n",
    "print(\"Solution configuration: \\n\" + str(solution_configuration) + \"\\n\")\n",
    "x = [1 if spin == 1 else 0 for spin in solution_configuration]\n",
    "print(\"x is respectively: \\n\" + str(x) + \"\\n\")\n",
    "\n",
    "# 5. Calculate c * x\n",
    "print(\"Largest value of c * x:\\n\" + str(np.dot(c,x)))"
   ]
  },
  {
   "cell_type": "markdown",
   "metadata": {},
   "source": [
    "# Solution analysis\n",
    "\n",
    "A simple check of the validity of the answer would be whether $S * x$ actually equals $b$ $-$ the problem constraint that the final result should obey."
   ]
  },
  {
   "cell_type": "code",
   "execution_count": 4,
   "metadata": {},
   "outputs": [
    {
     "name": "stdout",
     "output_type": "stream",
     "text": [
      "The constraint S * x = b is obeyed!\n"
     ]
    }
   ],
   "source": [
    "print(\"The constraint S * x = b is \" + (\"obeyed!\" if np.array_equal(np.dot(S, x), b) else \"not obeyed.\"))"
   ]
  },
  {
   "cell_type": "markdown",
   "metadata": {},
   "source": [
    "If the constraint is not obeyed, we can determine how much the initial $b$ and the resulting $b$ actually differ, by absolute value."
   ]
  },
  {
   "cell_type": "code",
   "execution_count": 5,
   "metadata": {},
   "outputs": [
    {
     "name": "stdout",
     "output_type": "stream",
     "text": [
      "The vectors differ by 0.0%\n"
     ]
    }
   ],
   "source": [
    "resulting_b = np.dot(S, x)\n",
    "difference = b - resulting_b\n",
    "\n",
    "difference_magnitude = np.linalg.norm(difference)\n",
    "b_magnitude = np.linalg.norm(b)\n",
    "fractional_difference = difference_magnitude / b_magnitude\n",
    "\n",
    "print(\"The vectors differ by {:.1%}\".format(fractional_difference))"
   ]
  }
 ],
 "metadata": {
  "authors": [
   "Grigori Matein"
  ],
  "kernelspec": {
   "display_name": "Python 3",
   "language": "python",
   "name": "python3"
  },
  "language_info": {
   "codemirror_mode": {
    "name": "ipython",
    "version": 3
   },
   "file_extension": ".py",
   "mimetype": "text/x-python",
   "name": "python",
   "nbconvert_exporter": "python",
   "pygments_lexer": "ipython3",
   "version": "3.6.8"
  }
 },
 "nbformat": 4,
 "nbformat_minor": 2
}
