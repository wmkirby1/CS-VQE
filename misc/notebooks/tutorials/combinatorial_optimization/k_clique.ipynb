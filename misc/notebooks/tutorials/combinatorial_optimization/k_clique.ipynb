{
 "cells": [
  {
   "cell_type": "markdown",
   "metadata": {},
   "source": [
    "# K-Clique\n",
    "\n",
    "### Definition\n",
    "\n",
    "We are given an undirected graph with vertex set $V$ and edge set $E$.\n",
    "\n",
    "Our aim is to find out whether there exists a complete subgraph of size $K$ in this graph. \n",
    "\n",
    "### Applications\n",
    "\n",
    "The Clique problem is important in areas like Bioinformatics, Computational Chemistry, Motion Segmentation and for finding structures in a graph. For example, anomalously large cliques in a network may be a sign that the underlying node connectivity is not random.\n",
    "\n",
    "### Path to solving the problem\n",
    "K-Clique can be formulated as a maximization problem and its cost function can be cast to a QUBO problem through its respective Hamiltonian (see the [Introduction](./introduction_combinatorial_optimization.ipynb) and a [reference](https://arxiv.org/abs/1302.5843)),\n",
    "\n",
    "$$ \\displaystyle \\large\n",
    "H = A \\displaystyle \\left( K - \\textstyle\\sum\\limits_{v} x_v \\right) ^2 + B \\left[ \\frac{K(K-1)}{2} - \\textstyle\\sum\\limits_{uv \\in E}  x_u x_v \\right]\n",
    "$$\n",
    "\n",
    "where $A$ and $B$ are positive constants, $v, u \\in V$ and $x_v$ is a binary variable, which is $1$ if vertex $v$ is part of the clique and $0$ if it is not. For a valid encoding, the constants $A$ and $B$ need to obey the relation $$A > B * K$$\n",
    "\n",
    "Otherwise, if the rule is not followed, the spin configuration for the lowest energy $H$ may not correspond to the best solution of our K-Clique problem or even to a valid one. At the same time, it should not be overspecified, i.e. the left side being much bigger than the right side. If  $A$ is much larger, this would cause a large energy separation in $H$, impeding our solution approach.\n",
    "\n",
    "The QLM allows us to encode a problem in this Hamiltonian form by using the `KClique` class for a given graph, clique size $K$ and constants $A$ and $B$. We can then create a job from the problem and send it to a heuristic Simulated Quantum Annealer (SQA)  wrapped inside a Quantum Processing Unit (QPU). The SQA will minimize the Hamiltonian, hence find the best solution to our K-Clique problem.\n",
    "\n",
    "For a more detailed explanation and a step-by-step guidance, please follow the sections below.\n",
    "\n",
    "### Quantum resources\n",
    "\n",
    "To represent the problem as QUBO the QLM would need $N$ spins for each of the $N$ vertices. "
   ]
  },
  {
   "cell_type": "markdown",
   "metadata": {},
   "source": [
    "# Example problem\n",
    "\n",
    "Imagine we are given a graph with $6$ vertices and $7$ edges, as shown below (left) and we want to find a complete subgraph of size $K = 3$. For this problem, the solution is straightforward $-$ one can notice that nodes $0$, $1$ and either $2$ or $5$ constitute such a complete graph (right).\n",
    "\n",
    "<br><img src=\"./k_clique_example_solution.png\" style=\"width: 850px\"><br>\n",
    "\n",
    "However, let us describe a procedure, which will allow us to find if there are complete subgraphs of any size in whatever graph!\n",
    "\n",
    "We will start by specifying a graph with the `networkx` library, which should give us a huge scope for graph exploration.  One can also choose the size $K$ of the desired subgraph and the constants $A$ and $B$ accordingly."
   ]
  },
  {
   "cell_type": "code",
   "execution_count": 1,
   "metadata": {},
   "outputs": [
    {
     "data": {
      "image/png": "[encoded data removed]",
      "text/plain": [
       "<Figure size 720x432 with 1 Axes>"
      ]
     },
     "metadata": {},
     "output_type": "display_data"
    }
   ],
   "source": [
    "import networkx as nx\n",
    "import numpy as np\n",
    "import matplotlib.pyplot as plt\n",
    "\n",
    "# Specify the graph \n",
    "# First example\n",
    "graph = nx.Graph()\n",
    "graph.add_nodes_from(np.arange(5))\n",
    "graph.add_edges_from([(0, 1), (0, 2), (0, 3), (0, 4),\n",
    "                      (0, 5), (1, 2), (1, 5)])\n",
    "\n",
    "# # Second example - one may try with K = 5 or 6\n",
    "# graph = nx.gnm_random_graph(15, 65)\n",
    "\n",
    "# Specify the size of the desired subgraph\n",
    "K = 3\n",
    "\n",
    "# Impose constraints for the right encoding\n",
    "B = 1\n",
    "A = B * K + 1\n",
    "\n",
    "# Draw the graph\n",
    "nodes_positions = nx.spring_layout(graph, iterations=len(graph.nodes())*60)\n",
    "plt.figure(figsize=(10, 6))\n",
    "nx.draw_networkx(graph, \n",
    "                 pos=nodes_positions, \n",
    "                 node_color='#4EEA6A', \n",
    "                 node_size=440, \n",
    "                 font_size=14)\n",
    "plt.show()"
   ]
  },
  {
   "cell_type": "markdown",
   "metadata": {},
   "source": [
    "To encode the problem as QUBO, we will call the `KClique` class."
   ]
  },
  {
   "cell_type": "code",
   "execution_count": 2,
   "metadata": {},
   "outputs": [],
   "source": [
    "from qat.opt import KClique\n",
    "\n",
    "kclique_problem = KClique(graph, K, A, B)"
   ]
  },
  {
   "cell_type": "markdown",
   "metadata": {},
   "source": [
    "# Solution"
   ]
  },
  {
   "cell_type": "markdown",
   "metadata": {},
   "source": [
    "We can now proceed to compute the solution of the problem by following the steps:\n",
    "\n",
    "1. Extract the best SQA parameters found for K-Clique by calling the method `get_best_parameters()`.\n",
    "\n",
    "    The number of Monte Carlo updates is the total number of updates performed for each temperature (and gamma) on the spins of the equivalent 2D classical system. These updates are the product of the number of annealing steps $-$ `n_steps`, the number of \"Trotter replicas\" $-$ `n_trotters`, and the problem size, i.e. the number of qubits needed. Hence, we can use these parameters to get the best inferred value for `n_steps`. In general, the more these steps are, the finer and better the annealing will be. However this will cause the process to take longer to complete.\n",
    "    \n",
    "    Similarly for the `n_trotters` field in `SQAQPU` $-$ the higher it is, the better the final solution could be, but the more time taken by the annealer to reach an answer.\n",
    "\n",
    "\n",
    "2. Create a temperature and a gamma schedule for the annealing.\n",
    "\n",
    "    We use the extracted max and min temperatures and gammas to create a (linear) temperature and a (linear) gamma schedule. These schedules evolve in time from higher to lower values since we simulate the reduction of temperatures and magnetic fields. If one wishes to vary them it may help if the min values are close to $0$, as this will cause the Hamiltonian to reach a lower energy state, potentially closer to its ground state (where the solution is encoded).\n",
    "\n",
    "    It should be noted that non-linear schedules may be investigated too, but for the same number of steps they could lead to a slower annealing. The best min and max values for gamma and the temperature were found for linear schedules.\n",
    "\n",
    "\n",
    "3. Generate the SQAQPU and create a job for the problem. The job is then sent to the QPU and the annealing is performed.\n",
    "\n",
    "\n",
    "4. Present the solution spin configuration and a list of the respective coloured vertices.\n",
    "\n",
    "\n",
    "5. Show the graph with the nodes of the complete subgraph coloured.\n",
    "\n",
    "Each spin from the solution configuration corresponds to a node from the graph at the same position. Note that if the numbering of the input nodes starts from $1$ and not from $0$, one still needs to look at the $0$th spin to extract information for this first node, numbered as $1$.\n",
    "\n",
    "When a spin has the value of $1$, this means that the respective node should be coloured and is part of the complete subgraph."
   ]
  },
  {
   "cell_type": "code",
   "execution_count": 3,
   "metadata": {},
   "outputs": [
    {
     "name": "stdout",
     "output_type": "stream",
     "text": [
      "Solution configuration: \n",
      "[ 1.  1.  1. -1. -1. -1.]\n",
      "\n",
      "The nodes of the complete subgraph are:\n",
      "[0 1 2]\n",
      "\n"
     ]
    },
    {
     "data": {
      "image/png": "[encoded data removed]",
      "text/plain": [
       "<Figure size 720x432 with 1 Axes>"
      ]
     },
     "metadata": {},
     "output_type": "display_data"
    }
   ],
   "source": [
    "from qat.core import Variable\n",
    "from qat.sqa import SQAQPU\n",
    "from qat.sqa.sqa_qpu import integer_to_spins\n",
    "\n",
    "# 1. Extract parameters for SQA\n",
    "problem_parameters_dict = kclique_problem.get_best_parameters()\n",
    "n_monte_carlo_updates = problem_parameters_dict[\"n_monte_carlo_updates\"]\n",
    "n_trotters = problem_parameters_dict[\"n_trotters\"]\n",
    "n_steps = int(n_monte_carlo_updates /\n",
    "              (n_trotters * len(graph.nodes()))) # the last one is the number of spins, i.e. the problem size\n",
    "temp_max = problem_parameters_dict[\"temp_max\"]\n",
    "temp_min = problem_parameters_dict[\"temp_min\"]\n",
    "gamma_max = problem_parameters_dict[\"gamma_max\"]\n",
    "gamma_min = problem_parameters_dict[\"gamma_min\"]\n",
    "\n",
    "# 2. Create a temperature and a gamma schedule\n",
    "tmax = 1.0\n",
    "t = Variable(\"t\", float)\n",
    "temp_t = temp_min * (t / tmax) + temp_max * (1 - t / tmax)\n",
    "gamma_t = gamma_min * (t / tmax) + gamma_max * (1 - t / tmax)\n",
    "\n",
    "# 3. Create a job and send it to a QPU\n",
    "problem_job = kclique_problem.to_job(gamma_t=gamma_t, tmax=tmax, nbshots=1)\n",
    "sqa_qpu = SQAQPU(temp_t=temp_t, n_steps=n_steps, n_trotters=n_trotters)\n",
    "problem_result = sqa_qpu.submit(problem_job)\n",
    "\n",
    "# 4. Present best configuration\n",
    "state_int = problem_result.raw_data[0].state.int  # raw_data is a list of Samples - one per shot\n",
    "solution_configuration = integer_to_spins(state_int, len(graph.nodes()))\n",
    "print(\"Solution configuration: \\n\" + str(solution_configuration) + \"\\n\")\n",
    "indices_spin_1 = np.where(solution_configuration == 1)[0]\n",
    "print(\"The nodes of the complete subgraph are:\\n\" + str(indices_spin_1) + \"\\n\")\n",
    "\n",
    "# 5. Show the coloured subgraph\n",
    "plt.figure(figsize=(10, 6))\n",
    "node_size = 440\n",
    "font_size = 14\n",
    "nx.draw_networkx(graph, \n",
    "                 pos=nodes_positions, \n",
    "                 nodelist=indices_spin_1.tolist(), \n",
    "                 node_color='#FFE033', \n",
    "                 node_size=node_size, \n",
    "                 font_size=font_size)\n",
    "\n",
    "indices_spin_minus_1 = np.where(solution_configuration == -1)[0]\n",
    "nx.draw_networkx(graph, \n",
    "                 pos=nodes_positions, \n",
    "                 nodelist=indices_spin_minus_1.tolist(), \n",
    "                 node_color='#4EEA6A', \n",
    "                 node_size=node_size, \n",
    "                 font_size=font_size)\n",
    "\n",
    "nx.draw_networkx_edges(graph, pos=nodes_positions)\n",
    "plt.show()"
   ]
  },
  {
   "cell_type": "markdown",
   "metadata": {},
   "source": [
    "# Solution analysis\n",
    "\n",
    "For graphs which are quite big, visual examination may be problematic. We can therefore perform a few simple checks so assess the solution. Namely, whether the subgraph found is indeed complete and indeed has $K$ nodes."
   ]
  },
  {
   "cell_type": "code",
   "execution_count": 4,
   "metadata": {},
   "outputs": [
    {
     "name": "stdout",
     "output_type": "stream",
     "text": [
      "Size of the subgraph:\n",
      "3\n",
      "The subgraph is complete!\n"
     ]
    }
   ],
   "source": [
    "number_of_subgraph_nodes = len (indices_spin_1)\n",
    "print(\"Size of the subgraph:\\n\" + str(number_of_subgraph_nodes))\n",
    "\n",
    "from itertools import combinations\n",
    "missing_edges_list = []\n",
    "for node_1, node_2 in combinations(indices_spin_1, 2):\n",
    "    if (node_1, node_2) not in graph.edges() and (node_2, node_1) not in graph.edges() :\n",
    "        missing_edges_list.append((node_1, node_2))\n",
    "\n",
    "if len(missing_edges_list) == 0:\n",
    "    print (\"The subgraph is complete!\")\n",
    "else:\n",
    "    print(\"However, there are \" + \"\\033[1m\" + str(len(missing_edges_list)) + \n",
    "      \"\\033[0;0m\" + \" missing edges for the subgraph of this size to be complete.\")\n",
    "    print(\"They are:\")\n",
    "    for missing_edge in missing_edges_list: print(missing_edge)"
   ]
  }
 ],
 "metadata": {
  "authors": [
   "Grigori Matein"
  ],
  "kernelspec": {
   "display_name": "Python 3",
   "language": "python",
   "name": "python3"
  },
  "language_info": {
   "codemirror_mode": {
    "name": "ipython",
    "version": 3
   },
   "file_extension": ".py",
   "mimetype": "text/x-python",
   "name": "python",
   "nbconvert_exporter": "python",
   "pygments_lexer": "ipython3",
   "version": "3.6.8"
  }
 },
 "nbformat": 4,
 "nbformat_minor": 2
}
