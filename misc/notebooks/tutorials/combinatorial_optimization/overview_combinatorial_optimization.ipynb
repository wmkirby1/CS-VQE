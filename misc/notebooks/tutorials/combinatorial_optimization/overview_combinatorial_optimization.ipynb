{
 "cells": [
  {
   "cell_type": "markdown",
   "metadata": {},
   "source": [
    "# Quantum annealing and QUBO on the QLM\n",
    "\n",
    "All the famous NP problems can be formulated as minimization or maximization problems, whose cost function can be cast to an Ising or Quadratic Unconstrained Binany Optimization (QUBO) form $-$ take a look at the [Introduction](./introduction_combinatorial_optimization.ipynb). \n",
    "At the same time, the QLM is equipped with a Simulator for Quantum Annealing (SQA), which can heuristically find a solution of such Ising or QUBO problems. This simulator is wrapped as a Quantum Processing Unit (QPU) like the rest of the QPUs on the QLM and is called SQAQPU.\n",
    "\n",
    "One is therefore welcome to explore solving some of these NP problems using SQA via the SQAQPU. A list of the problems currently supported is provided below. \n",
    "\n",
    "In general, this folder contains notebooks that combine different tools provided inside the `qat.opt`and `qat.mc` namespaces. \n",
    "\n",
    "#### Unconstrained Graph Problems\n",
    "- [Max Cut](./max_cut.ipynb)\n",
    "- [Graph Partitioning](./graph_partitioning.ipynb)\n",
    "\n",
    "#### Constrained Graph Problems\n",
    "- [Graph Colouring](./graph_colouring.ipynb)\n",
    "- [K-Clique](./k_clique.ipynb)\n",
    "- [Vertex Cover](./vertex_cover.ipynb)\n",
    "\n",
    "#### Other NP Problems\n",
    "- [Number Partitioning](./number_partitioning.ipynb)\n",
    "- [Binary Integer Linear Programming](./binary_integer_linear_programming.ipynb)"
   ]
  }
 ],
 "metadata": {
  "authors": [
   "Grigori Matein"
  ],
  "kernelspec": {
   "display_name": "Python 3",
   "language": "python",
   "name": "python3"
  },
  "language_info": {
   "codemirror_mode": {
    "name": "ipython",
    "version": 3
   },
   "file_extension": ".py",
   "mimetype": "text/x-python",
   "name": "python",
   "nbconvert_exporter": "python",
   "pygments_lexer": "ipython3",
   "version": "3.6.8"
  }
 },
 "nbformat": 4,
 "nbformat_minor": 2
}
