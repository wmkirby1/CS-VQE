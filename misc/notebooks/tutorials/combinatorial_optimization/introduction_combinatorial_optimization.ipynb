{
 "cells": [
  {
   "cell_type": "markdown",
   "metadata": {},
   "source": [
    "# Introduction\n",
    "\n",
    "An instrinsic feature of all NP problems is that they can be formulated as minimization or maximization problems, i.e. with a cost function. At the same time finding the lowest energy of a physical system, represented by a cost Hamiltonian, is also a minimization problem.\n",
    "\n",
    "Due to this intimate relation, we can represent the cost function of an NP problem by a cost Hamiltonian. Such a Hamiltonian $H$, either in an Ising or QUBO form (see below) has two important properties:\n",
    "\n",
    "1. We can encode the solution of our problem in its ground state (which is the one of minimum energy).\n",
    "\n",
    "2. We can bring $H$ to this minimum energy by a heuristic Simulated Quantum Annealer (SQA).\n",
    "\n",
    "This is where the QLM comes in $-$ it is equipped with a QPU for performing SQA on whatever Hamiltonian, provided it is formulated as Ising or QUBO. Hence, each of the NP problems can be solved in this way."
   ]
  },
  {
   "cell_type": "markdown",
   "metadata": {},
   "source": [
    "# Ising formulation\n",
    "\n",
    "Ising problems are represented by a cost Hamiltonian of the following form:\n",
    "\n",
    "$$ \\displaystyle \\large H = - \\sum_{i,j \\neq i}^{n} J_{ij}s_{i}s_{j} - \\sum_{i=1}^{n} h_{i}s_{i} - E_{I}$$\n",
    "\n",
    "where $J$ is the coupling constant, i.e. $J_{ij}$ is the interaction strength between spins $s_i$ and $s_j$, $h$ is the transverse magnetic field acting on all spins. $E_{I}$ is the Ising energy offset. For each of the $n$ spins $s_i \\in \\{1, -1\\}$.\n",
    "\n",
    "The variety in problems we can encode comes from the choice of $h_i$ and $J_{ij}$. For any given problem, our aim is to pick $h$ and $J$ such that only one particular combination of spin values $(s_1, s_2, \\dots, s_n)$ will make $H$ lowest. And this configuration will encode the solution of our problem in a similar way binary numbers encode decimals, $(11001)_2 = (25)_{10}$ for example."
   ]
  },
  {
   "cell_type": "markdown",
   "metadata": {},
   "source": [
    "# QUBO formulation\n",
    "\n",
    "A Quadratic Unconstrained Binary Optimization (QUBO) problem can be represented by a cost Hamiltonian given by:\n",
    "\n",
    "$$ \\displaystyle \\large H = - \\sum_{i,j=1}^{n} Q_{ij}x_{i}x_{j} - E_{Q}$$\n",
    "\n",
    "where $Q_{ij}$ serves as the equivalent of interaction strength between the binary variables $x_i, x_j \\in \\{1,0\\}$ and $E_{Q}$ is the QUBO offset energy. The diagonal terms $Q_{ii}$ play a role similar to that of the magnetic field $h$ in the Ising formulation.\n",
    "\n",
    "This time it is the choice of $Q$ that allows the expression of a large variety of problems. And analogously to Ising, we would want to choose $Q_{ij}$ such that it encodes all the properties of the problem of interest. Furthermore, there should be only one combination of binary values $(x_1, x_2, \\dots, x_n)$ that makes $H$ the smallest possible."
   ]
  },
  {
   "cell_type": "markdown",
   "metadata": {},
   "source": [
    "# Solving NP problems on the QLM\n",
    "\n",
    "A list of the currently supported NP problems could be found in the [Overview](./overview_combinatorial_optimization.ipynb), along with a notebook for each problem. In each of the notebooks, the problems are led to a solution in a similar fashion:\n",
    "1. We are first presented with the cost Hamiltonian to be minimized. The user can then encode a problem instance in this Hamiltonian form by calling one of the in-build classes: a [Max Cut](./max_cut.ipynb) with `MaxCut` by providing a `networkx` graph, [Number Partitioning](./number_partitioning.ipynb) by calling `NumberPartitioning` with a `numpy.array()` of numbers, etc.\n",
    "\n",
    "2. Some well-performing parameters for the SQA solver are called and used to create a job from the problem along with an SQAQPU.\n",
    "\n",
    "3. The job is sent to the QPU for annealing and the spin configuration for the lowest energy Hamiltonian found is returned.\n",
    "\n",
    "4. We are then presented with problem-specific functions to decode the solution in a user-friendly format and to examine its quality and validity. \n"
   ]
  }
 ],
 "metadata": {
  "kernelspec": {
   "display_name": "Python 3",
   "language": "python",
   "name": "python3"
  },
  "language_info": {
   "codemirror_mode": {
    "name": "ipython",
    "version": 3
   },
   "file_extension": ".py",
   "mimetype": "text/x-python",
   "name": "python",
   "nbconvert_exporter": "python",
   "pygments_lexer": "ipython3",
   "version": "3.6.8"
  }
 },
 "nbformat": 4,
 "nbformat_minor": 2
}
