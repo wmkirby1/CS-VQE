{
 "cells": [
  {
   "cell_type": "markdown",
   "metadata": {},
   "source": [
    "# Noisy simulations on GPU\n",
    "\n",
    "Noisy simulations running in \"stochastic\" mode can be offloaded to run on a GPU. As in the case of ideal simulations, to use the GPU based simulator, it is sufficient to set the fields \"use_GPU\" (to 'True') and \"precision\" (to either 1 or 2) while initializing the 'NoisyQProc'. In this notebook we show some use cases, where we obtain a speedup in running the simulations on a GPU. "
   ]
  },
  {
   "cell_type": "code",
   "execution_count": 1,
   "metadata": {
    "collapsed": true
   },
   "outputs": [],
   "source": [
    "import numpy as np\n",
    "\n",
    "from qat.core import Observable, Term\n",
    "from qat.lang.AQASM import Program\n",
    "from qat.lang.AQASM.qftarith import QFT\n",
    "from qat.hardware import DefaultHardwareModel\n",
    "from qat.quops.quantum_channels import ParametricAmplitudeDamping, ParametricPureDephasing\n",
    "from qat.noisy.noisy_simulation import compute_fidelity\n",
    "from qat.qpus import NoisyQProc"
   ]
  },
  {
   "cell_type": "markdown",
   "metadata": {},
   "source": [
    "As an example, we consider the Quantum Fourier Transform (QFT) circuit and we suppose a simple noise model with idle qubits subject to parametric amplitude damping."
   ]
  },
  {
   "cell_type": "code",
   "execution_count": 2,
   "metadata": {
    "collapsed": true
   },
   "outputs": [],
   "source": [
    "nqbits = 14\n",
    "prog = Program()\n",
    "reg = prog.qalloc(nqbits)\n",
    "prog.apply(QFT(nqbits), reg)\n",
    "circ = prog.to_circ()\n",
    "\n",
    "hardware_model = DefaultHardwareModel(gate_times = {\"H\": 0.2, \"C-PH\": lambda angle:0.65},\n",
    "                                      idle_noise = [ParametricAmplitudeDamping(T_1 = 75)])    "
   ]
  },
  {
   "cell_type": "markdown",
   "metadata": {},
   "source": [
    "Here we choose to run the simulation with 1000 samples and initialize the NoisyQProc with different arguments to compare the output and their respective runtimes."
   ]
  },
  {
   "cell_type": "code",
   "execution_count": 3,
   "metadata": {
    "collapsed": true
   },
   "outputs": [],
   "source": [
    "n_samples = 1000\n",
    "\n",
    "noisy_qpu_gpu_single = NoisyQProc(hardware_model=hardware_model, sim_method=\"stochastic\", \n",
    "                                  n_samples=n_samples, use_GPU=True, precision=1)\n",
    "noisy_qpu_gpu_double = NoisyQProc(hardware_model=hardware_model, sim_method=\"stochastic\", \n",
    "                                  n_samples=n_samples, use_GPU=True, precision=2)\n",
    "noisy_qpu_cpu = NoisyQProc(hardware_model=hardware_model, sim_method=\"stochastic\", n_samples=n_samples)"
   ]
  },
  {
   "cell_type": "markdown",
   "metadata": {},
   "source": [
    "# I Fidelity of noisy QFT"
   ]
  },
  {
   "cell_type": "code",
   "execution_count": 4,
   "metadata": {},
   "outputs": [
    {
     "name": "stdout",
     "output_type": "stream",
     "text": [
      "0.8904250448070108 0.011051199884490407\n",
      "CPU times: user 27.1 s, sys: 2.71 s, total: 29.8 s\n",
      "Wall time: 6.04 s\n"
     ]
    }
   ],
   "source": [
    "%%time\n",
    "fid_cpu, err_cpu = compute_fidelity(circ, noisy_qpu_cpu) # Simulation running on 1 node (cpu)\n",
    "print(fid_cpu, err_cpu)"
   ]
  },
  {
   "cell_type": "code",
   "execution_count": 5,
   "metadata": {},
   "outputs": [
    {
     "name": "stdout",
     "output_type": "stream",
     "text": [
      "0.9032124235728615 0.01079993847196731\n",
      "CPU times: user 2.48 s, sys: 334 ms, total: 2.81 s\n",
      "Wall time: 1.59 s\n"
     ]
    }
   ],
   "source": [
    "%%time\n",
    "fid_gpu_single, err_gpu_single = compute_fidelity(circ, noisy_qpu_gpu_single) # Simulation running in single precision on a GPU\n",
    "print(fid_gpu_single, err_gpu_single)"
   ]
  },
  {
   "cell_type": "code",
   "execution_count": 6,
   "metadata": {},
   "outputs": [
    {
     "name": "stdout",
     "output_type": "stream",
     "text": [
      "0.8958888306364972 0.010975832297648416\n",
      "CPU times: user 2.58 s, sys: 83.5 ms, total: 2.67 s\n",
      "Wall time: 1.38 s\n"
     ]
    }
   ],
   "source": [
    "%%time\n",
    "fid_gpu_double, err_gpu_double = compute_fidelity(circ, noisy_qpu_gpu_double) # Simulation running in double precision on a GPU\n",
    "print(fid_gpu_double, err_gpu_double)"
   ]
  },
  {
   "cell_type": "markdown",
   "metadata": {},
   "source": [
    "Here we compare the stochastic results with a deterministic evaluation and check the time it takes to get an exact value."
   ]
  },
  {
   "cell_type": "code",
   "execution_count": 7,
   "metadata": {
    "collapsed": true
   },
   "outputs": [],
   "source": [
    "noisy_qpu_det = NoisyQProc(hardware_model=hardware_model, sim_method=\"deterministic-vectorized\")"
   ]
  },
  {
   "cell_type": "code",
   "execution_count": 8,
   "metadata": {},
   "outputs": [
    {
     "name": "stdout",
     "output_type": "stream",
     "text": [
      "0.9076533148416498\n",
      "CPU times: user 19min 33s, sys: 5.44 s, total: 19min 38s\n",
      "Wall time: 37.4 s\n"
     ]
    }
   ],
   "source": [
    "%%time\n",
    "fid_cpu_det, _ = compute_fidelity(circ, noisy_qpu_det) # Deterministic simulation running on 1 node (cpu)\n",
    "print(fid_cpu_det)"
   ]
  },
  {
   "cell_type": "markdown",
   "metadata": {},
   "source": [
    "# II Sampling a noisy QFT"
   ]
  },
  {
   "cell_type": "code",
   "execution_count": 9,
   "metadata": {
    "collapsed": true
   },
   "outputs": [],
   "source": [
    "job = circ.to_job(nbshots=100)"
   ]
  },
  {
   "cell_type": "code",
   "execution_count": 10,
   "metadata": {},
   "outputs": [
    {
     "name": "stdout",
     "output_type": "stream",
     "text": [
      "CPU times: user 42.7 s, sys: 251 ms, total: 42.9 s\n",
      "Wall time: 6.96 s\n"
     ]
    }
   ],
   "source": [
    "%%time\n",
    "res_cpu = noisy_qpu_cpu.submit(job)"
   ]
  },
  {
   "cell_type": "code",
   "execution_count": 11,
   "metadata": {},
   "outputs": [
    {
     "name": "stdout",
     "output_type": "stream",
     "text": [
      "CPU times: user 3.42 s, sys: 25 ms, total: 3.44 s\n",
      "Wall time: 2.23 s\n"
     ]
    }
   ],
   "source": [
    "%%time\n",
    "res_gpu_single = noisy_qpu_gpu_single.submit(job)"
   ]
  },
  {
   "cell_type": "code",
   "execution_count": 12,
   "metadata": {},
   "outputs": [
    {
     "name": "stdout",
     "output_type": "stream",
     "text": [
      "CPU times: user 3.61 s, sys: 144 ms, total: 3.76 s\n",
      "Wall time: 2.51 s\n"
     ]
    }
   ],
   "source": [
    "%%time\n",
    "res_gpu_double = noisy_qpu_gpu_double.submit(job)"
   ]
  },
  {
   "cell_type": "markdown",
   "metadata": {},
   "source": [
    "# III Observable evaluation\n",
    " Here we generate a random observable with 40 terms and evaluate it"
   ]
  },
  {
   "cell_type": "code",
   "execution_count": 13,
   "metadata": {
    "collapsed": true
   },
   "outputs": [],
   "source": [
    "n_terms = 40\n",
    "terms = [\"X\", \"Y\", \"Z\"]\n",
    "pauli_terms = []\n",
    "for _ in range(n_terms):\n",
    "    term = \"\"\n",
    "    for _ in range(np.random.choice([1, 2], 1)[0]):\n",
    "        term += np.random.choice(terms, 1)[0]\n",
    "    pauli_terms.append(Term(1.0, term, list(np.random.choice(nqbits, len(term), replace=False))))\n",
    "    \n",
    "obs = Observable(nqbits, pauli_terms=pauli_terms)"
   ]
  },
  {
   "cell_type": "code",
   "execution_count": 14,
   "metadata": {
    "collapsed": true
   },
   "outputs": [],
   "source": [
    "job_obs = circ.to_job(\"OBS\", observable=obs)"
   ]
  },
  {
   "cell_type": "code",
   "execution_count": 15,
   "metadata": {},
   "outputs": [
    {
     "name": "stdout",
     "output_type": "stream",
     "text": [
      "10.344816487988275 0.006628395717573745\n",
      "CPU times: user 30.7 s, sys: 193 ms, total: 30.9 s\n",
      "Wall time: 6.82 s\n"
     ]
    }
   ],
   "source": [
    "%%time\n",
    "res_cpu_obs = noisy_qpu_cpu.submit(job_obs)\n",
    "print(res_cpu_obs.value, res_cpu_obs.error)"
   ]
  },
  {
   "cell_type": "code",
   "execution_count": 16,
   "metadata": {},
   "outputs": [
    {
     "name": "stdout",
     "output_type": "stream",
     "text": [
      "10.367441184116432 0.006646644654630753\n",
      "CPU times: user 1min 24s, sys: 127 ms, total: 1min 24s\n",
      "Wall time: 3.12 s\n"
     ]
    }
   ],
   "source": [
    "%%time\n",
    "res_gpu_single_obs = noisy_qpu_gpu_single.submit(job_obs)\n",
    "print(res_gpu_single_obs.value, res_gpu_single_obs.error)"
   ]
  },
  {
   "cell_type": "code",
   "execution_count": 17,
   "metadata": {},
   "outputs": [
    {
     "name": "stdout",
     "output_type": "stream",
     "text": [
      "10.197279732916705 0.006735216986623743\n",
      "CPU times: user 1min 37s, sys: 89.9 ms, total: 1min 37s\n",
      "Wall time: 3.65 s\n"
     ]
    }
   ],
   "source": [
    "%%time\n",
    "res_gpu_double_obs = noisy_qpu_gpu_double.submit(job_obs)\n",
    "print(res_gpu_double_obs.value, res_gpu_double_obs.error)"
   ]
  }
 ],
 "metadata": {
  "authors": [
   "Satyanarayana Bade"
  ],
  "constraints": {
   "use_GPU": true
  },
  "kernelspec": {
   "display_name": "Python 3",
   "language": "python",
   "name": "python3"
  },
  "language_info": {
   "codemirror_mode": {
    "name": "ipython",
    "version": 3
   },
   "file_extension": ".py",
   "mimetype": "text/x-python",
   "name": "python",
   "nbconvert_exporter": "python",
   "pygments_lexer": "ipython3",
   "version": "3.6.8"
  }
 },
 "nbformat": 4,
 "nbformat_minor": 2
}
