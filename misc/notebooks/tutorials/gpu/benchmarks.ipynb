{
 "cells": [
  {
   "cell_type": "markdown",
   "metadata": {},
   "source": [
    "# Benchmarks\n",
    "\n",
    "Here we show the benchmarks comparing the simulation times of LinAlg running on CPU and GPU. The CPU version is timed using one socket (Intel(R) Xeon(R) Platinum 8153 CPU @ 2.00GHz) with 16 cores for the simulation. The GPU used in the benchmarks is a Nvidia Volta 100 (16 GB memory). All simulations are done in double precision."
   ]
  },
  {
   "cell_type": "markdown",
   "metadata": {},
   "source": [
    "# a) Sampling from random circuits\n",
    "\n",
    "Sampling a random circuit with 5000 gates (drawn uniformly from H, X, Y, Z, CNOT, SWAP, T, PH,\n",
    " RX, RY, RZ, X.ctrl()) followed by sampling 1000 states.\n",
    "\n",
    "<img src=\"../figures/sampling.svg\">"
   ]
  },
  {
   "cell_type": "markdown",
   "metadata": {},
   "source": [
    "# b) Solving maxcut problem with QAOA\n",
    "\n",
    "Timed a single a call to QPU (i.e. evolution of  QAOA ansatz + observable evaluation) of a Maxcut problem on a random Erdos-Renyi graph.\n",
    "\n",
    "<img src=\"../figures/maxcut.svg\">"
   ]
  },
  {
   "cell_type": "markdown",
   "metadata": {},
   "source": [
    "# c) Fidelity \n",
    "\n",
    "Here we benchmark the time to obtain the fidelity of a noisy Quantum Fourier Transform assuming a noise level comparable to that of IBM’s chip. For the stochastic simulations we use 200 samples, which is enough to estimate fidelity upto 2% accuracy.\n",
    "\n",
    "<img src=\"../figures/fidelity.svg\">"
   ]
  },
  {
   "cell_type": "code",
   "execution_count": null,
   "metadata": {
    "collapsed": true
   },
   "outputs": [],
   "source": []
  }
 ],
 "metadata": {
  "authors": [
   "Satyanarayana Bade"
  ],
  "kernelspec": {
   "display_name": "Python 3",
   "language": "python",
   "name": "python3"
  },
  "language_info": {
   "codemirror_mode": {
    "name": "ipython",
    "version": 3
   },
   "file_extension": ".py",
   "mimetype": "text/x-python",
   "name": "python",
   "nbconvert_exporter": "python",
   "pygments_lexer": "ipython3",
   "version": "3.6.8"
  }
 },
 "nbformat": 4,
 "nbformat_minor": 2
}
