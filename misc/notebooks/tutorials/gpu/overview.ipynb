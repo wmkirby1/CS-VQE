{
 "cells": [
  {
   "cell_type": "markdown",
   "metadata": {},
   "source": [
    "<tr>\n",
    "<td> <img src=\"../figures/QLM.png\" alt=\"Drawing\" style=\"width: 500px;\"/> </td>\n",
    "<td> <img src=\"../figures/nvidia_v100.jpg\" alt=\"Drawing\" style=\"width: 250px;\"/> </td>\n",
    "</tr>"
   ]
  },
  {
   "cell_type": "markdown",
   "metadata": {},
   "source": [
    "# GPU acceleration feature in QLM\n",
    "\n",
    "Computationally intensive simulations involving LinAlg simulator can be run on a GPU (if your license permits). In this notebook we introduce how to off-load simulations to a GPU and present the key points of this new feature. Typical cases where a performance improvement can be expected are discussed in this notebook.\n",
    "\n",
    "Limitation: Depending on the available free memory in the GPU, there is an upper limit on the number of qubits that can be simulated. Using Nvidia-V100 with (32 GB memory) one can simulate 29 qubits (30 qubits) in double (single) precision, the limit can be lower if multiple users are simultaneously using the same GPU."
   ]
  },
  {
   "cell_type": "markdown",
   "metadata": {},
   "source": [
    "# Executing simulations on a GPU\n",
    "\n",
    "To execute simulation on a GPU it suffices to set \"use_GPU\" to \"True\" in the constructor of LinAlg, as shown below. Note that, by default, \"use_GPU\" is set to \"False\" and it is executed on a CPU. Once a QPU is initialized, jobs (in sampling or observable evaluation modes) can be submitted as usual. Therefore, one can seamlessly toggle between GPU and CPU execution modes with minimal changes in code."
   ]
  },
  {
   "cell_type": "code",
   "execution_count": 1,
   "metadata": {},
   "outputs": [],
   "source": [
    "from qat.qpus import LinAlg\n",
    "\n",
    "linalg_gpu = LinAlg(use_GPU=True)\n",
    "linalg_cpu = LinAlg()"
   ]
  },
  {
   "cell_type": "markdown",
   "metadata": {},
   "source": [
    "The GPU used by LinAlg to simulate a quantum circuit can be selected by using the argument `gpu_index` in the constructor of LinAlg. By default, the chosen GPU is the one of index `0`"
   ]
  },
  {
   "cell_type": "code",
   "execution_count": 2,
   "metadata": {},
   "outputs": [],
   "source": [
    "linalg_selected_gpu = LinAlg(use_GPU=True, gpu_index=1)"
   ]
  },
  {
   "cell_type": "markdown",
   "metadata": {},
   "source": [
    "# Supported gateset\n",
    "\n",
    "Currently, we support any arbitrary gate of arity upto 2. We provide optimized implementations of standard gates i.e., H, X, Y, Z, RX, RY, RZ, PH, T, SWAP and CNOT. We also support any controlled versions of arbitrary single and two qubit gates i.e. of type H.ctrl().ctrl()...ctrl(). GPU based LinAlg simulator also accepts any user defined AbstractGate as long as the arity is 1 or 2. However, for performance reasons, we recommended that you rewrite circuits using only the standard gates rather than custom AbstractGates. \n",
    "\n",
    "In addition, GPU simulator accepts intermediate measurements, reset and gates controlled by classical bits.\n",
    "\n",
    "Submiting jobs involving any unsupported gate raises a QPUException."
   ]
  },
  {
   "cell_type": "markdown",
   "metadata": {},
   "source": [
    "# Example\n",
    "In the following, we give an example to show usage and compare the results of a simulation done on a GPU with that of a CPU."
   ]
  },
  {
   "cell_type": "code",
   "execution_count": 3,
   "metadata": {},
   "outputs": [
    {
     "name": "stdout",
     "output_type": "stream",
     "text": [
      "\n",
      "####Sampling states####\n",
      "\n",
      "Result(raw_data=[Sample(state=|00>, probability=0.494, amplitude=None, intermediate_measurements=None, err=0.015818160898606836, qregs=None), Sample(state=|11>, probability=0.506, amplitude=None, intermediate_measurements=None, err=0.015818160898606836, qregs=None)], _value=None, error=None, value_data=None, error_data=None, meta_data={'final_norm': '1.000000', 'nbshots': '1000'}, in_memory=True, data=None, need_flip=False, nbqbits=None, lsb_first=False, has_statevector=False, statevector=None)\n",
      "Result(raw_data=[Sample(state=|00>, probability=0.504, amplitude=None, intermediate_measurements=None, err=0.01581879370351084, qregs=None), Sample(state=|11>, probability=0.496, amplitude=None, intermediate_measurements=None, err=0.01581879370351084, qregs=None)], _value=None, error=None, value_data=None, error_data=None, meta_data={'nbshots': '1000'}, in_memory=True, data=None, need_flip=False, nbqbits=None, lsb_first=False, has_statevector=False, statevector=None)\n",
      "\n",
      "####Observable evaluation####\n",
      "\n",
      "Result(raw_data=None, _value=ComplexNumber(re=1.0, im=0.0), error=0.0, value_data={'Z0Z1': ComplexNumber(re=1.0, im=0.0)}, error_data={'Z0Z1': 0.0}, meta_data={'final_norm': '1.000000', 'n_circuits': '1', 'simulation_time': '0.001287'}, in_memory=True, data=None, need_flip=False, nbqbits=None, lsb_first=False, has_statevector=False, statevector=None)\n",
      "Result(raw_data=None, _value=ComplexNumber(re=1.0, im=0.0), error=0.0, value_data={'Z0Z1': ComplexNumber(re=1.0, im=0.0)}, error_data={'Z0Z1': 0.0}, meta_data={'n_circuits': '1', 'simulation_time': '0.000268'}, in_memory=True, data=None, need_flip=False, nbqbits=None, lsb_first=False, has_statevector=False, statevector=None)\n"
     ]
    }
   ],
   "source": [
    "from qat.lang.AQASM import Program, H, CNOT\n",
    "from qat.core import Observable, Term\n",
    "\n",
    "prog = Program()\n",
    "qreg = prog.qalloc(2)\n",
    "prog.apply(H, qreg[0])\n",
    "prog.apply(CNOT, qreg)\n",
    "\n",
    "## Sampling\n",
    "print(\"\\n####Sampling states####\\n\")\n",
    "job_sampling = prog.to_circ().to_job(nbshots=1000)\n",
    "\n",
    "result = linalg_gpu.submit(job_sampling)\n",
    "print(result)\n",
    "\n",
    "result = linalg_cpu.submit(job_sampling)\n",
    "print(result)\n",
    "\n",
    "\n",
    "##observable evaluation\n",
    "print(\"\\n####Observable evaluation####\\n\")\n",
    "job_obs = prog.to_circ().to_job(\"OBS\", nbshots=1000, observable=Observable(2, pauli_terms=[Term(1.0, \"ZZ\", [0, 1])]))\n",
    "\n",
    "result = linalg_gpu.submit(job_obs)\n",
    "print(result)\n",
    "\n",
    "result = linalg_cpu.submit(job_obs)\n",
    "print(result)"
   ]
  },
  {
   "cell_type": "markdown",
   "metadata": {},
   "source": [
    "# Cases where we can expect an acceleration\n",
    "\n",
    "As a rule of thumb, we resort to a GPU only when the circuits are huge and the overall simulation time is reasonably long (note that the above example is provided only for illustration).\n",
    "\n",
    "- Sampling mode: Gain can be observed when \"nbshots\" is finite or much smaller than the total number of states. Querying the full state vector by selecting \"nbshots=0\" can hamper the performance, as it involves data transfer from GPU to CPU. It should be used sparingly and only for deep enough circuits.\n",
    "\n",
    "- Observable sampling mode: Gain can be observed in both cases when, \"nbshots=0\" (exact evaluation) and with finite number of shots, as we only transfer few scalar values from GPU to CPU at the end of the simulation.\n",
    "\n",
    "In most cases, a performance gain can be obtained when simulating a variational algorithm involving several calls to the QPU.\n",
    "\n",
    "For benchmarks comparing the performance on random circuits, check: [benchmarks](benchmarks.ipynb)"
   ]
  },
  {
   "cell_type": "markdown",
   "metadata": {},
   "source": [
    "# Simulation precision\n",
    "\n",
    "GPU simulator supports simulations in single and double precision, by default, all calculations are done in double precision. The precision can be explicitly chosen when the QPU is initialized as shown below.\n",
    "\n",
    "We can slash the memory usage and (asymptotically) the simulation time by a factor 2 using single precision. If the circuits are sufficiently deep, errors accumulate in single precision. An indictator of the simulation accuracy is the state vector norm at the end of the simulation. It can be accessed from the \"meta_data\" field of a result object returned by the QPU. Depending on the final norm and the desired accuracy, one can decide for any particular simulation, if single precision is enough or double precision is needed."
   ]
  },
  {
   "cell_type": "code",
   "execution_count": 4,
   "metadata": {},
   "outputs": [
    {
     "name": "stdout",
     "output_type": "stream",
     "text": [
      "1.000000\n"
     ]
    }
   ],
   "source": [
    "linalg_gpu_float = LinAlg(use_GPU=True, precision= 1)\n",
    "result = linalg_gpu_float.submit(job_obs)\n",
    "\n",
    "print(result.meta_data['final_norm'])"
   ]
  },
  {
   "cell_type": "markdown",
   "metadata": {},
   "source": [
    "Usually, single precision calculations are enough for a preliminary assessment of how well a variational algorithm works. One can then switch to double precision for an accurate result. Alternatively, in a variational algorithm, one can redirect first few calls to a single precision QPU and the rest to a double precision QPU. Check [MixedPrecisionQPU](mixed_precision.ipynb) for more details."
   ]
  },
  {
   "cell_type": "markdown",
   "metadata": {
    "collapsed": true
   },
   "source": [
    "# Noisy simulations\n",
    "\n",
    "In addition to ideal circuits, we also have the possibility to run noisy simulations on GPU, check [noisy simulations](noisy_simulations.ipynb) for examples."
   ]
  },
  {
   "cell_type": "code",
   "execution_count": null,
   "metadata": {
    "collapsed": true
   },
   "outputs": [],
   "source": []
  }
 ],
 "metadata": {
  "authors": [
   "Satyanarayana Bade"
  ],
  "constraints": {
   "use_GPU": true
  },
  "kernelspec": {
   "display_name": "Python 3",
   "language": "python",
   "name": "python3"
  },
  "language_info": {
   "codemirror_mode": {
    "name": "ipython",
    "version": 3
   },
   "file_extension": ".py",
   "mimetype": "text/x-python",
   "name": "python",
   "nbconvert_exporter": "python",
   "pygments_lexer": "ipython3",
   "version": "3.6.8"
  }
 },
 "nbformat": 4,
 "nbformat_minor": 2
}
