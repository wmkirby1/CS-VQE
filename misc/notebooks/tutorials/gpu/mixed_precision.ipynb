{
 "cells": [
  {
   "cell_type": "code",
   "execution_count": 1,
   "metadata": {
    "collapsed": true
   },
   "outputs": [],
   "source": [
    "from qat.core.qpu import QPUHandler\n",
    "from qat.qpus import LinAlg\n",
    "from qat.opt import MaxCut\n",
    "from qat.plugins import ObservableSplitter, ScipyMinimizePlugin\n",
    "\n",
    "import networkx\n",
    "import numpy as np\n",
    "import time\n",
    "import matplotlib.pylab as plt"
   ]
  },
  {
   "cell_type": "markdown",
   "metadata": {},
   "source": [
    "# Mixed precision\n",
    "\n",
    "In this notebook, we show how the choice of precision in the GPU simulator can be exploited to obtain faster results in the context of variational algorithms. A straightforward way to obtain a speedup is to use single precision throughout the simulation. However, in certain applications we can not trade accuracy with simulation time. In such cases, we could use single precision for the first iterations and switch to double precision towards the end.\n",
    "\n",
    "We can achieve it by designing a new QPU. To write any new QPU class compliant with QLM architecture, we need to: \n",
    "   - inherit from \"QPUHandler\" \n",
    "   - implement a \"submit_job\" method that takes a \"job\" and returns a \"result\"\n",
    "  \n",
    "The \"MixedPrecisionQPU\" below, has a counter to keep track of the iteration number and simply dispatches the jobs to appropriate QPU depending on some user defined threshold. "
   ]
  },
  {
   "cell_type": "code",
   "execution_count": 2,
   "metadata": {
    "collapsed": true
   },
   "outputs": [],
   "source": [
    "class MixedPrecisionQPU(QPUHandler):## inherit from \"QPUHandler\" of qat.core\n",
    "        \n",
    "    def __init__(self, switch_precision): \n",
    "        self.qpu_float = LinAlg(use_GPU=True, precision=1)\n",
    "        self.qpu_double = LinAlg(use_GPU=True, precision=2)\n",
    "        self.switch_precision = switch_precision ## the iteration number where we switch from single to double precision\n",
    "        self.counter = 0\n",
    "        super(MixedPrecisionQPU, self).__init__()\n",
    "        \n",
    "    def submit_job(self, job):## implement a \"submit_job\" method\n",
    "        self.counter += 1\n",
    "        if self.counter < self.switch_precision:\n",
    "            return self.qpu_float.submit_job(job)\n",
    "        else:\n",
    "            return self.qpu_double.submit_job(job)"
   ]
  },
  {
   "cell_type": "markdown",
   "metadata": {},
   "source": [
    "Here we generate a random graph and solve the Maxcut problem on it using QAOA"
   ]
  },
  {
   "cell_type": "code",
   "execution_count": 3,
   "metadata": {
    "collapsed": true
   },
   "outputs": [],
   "source": [
    "def random_graph(n_edges, n_vertices):\n",
    "    np.random.seed(20)\n",
    "    graph = networkx.Graph()\n",
    "    for i in range(n_edges):\n",
    "        edge_0, edge_1 = np.random.choice(n_vertices, 2, replace=False)\n",
    "        graph.add_edge(edge_0, edge_1)\n",
    "    return graph    "
   ]
  },
  {
   "cell_type": "markdown",
   "metadata": {},
   "source": [
    "Using the tools in qat.vsolve we can automatically convert the problem into a job with a parametrized circuit + an observable to optimize."
   ]
  },
  {
   "cell_type": "code",
   "execution_count": 4,
   "metadata": {
    "collapsed": true
   },
   "outputs": [],
   "source": [
    "graph = random_graph(12, 24)\n",
    "problem = MaxCut(graph)\n",
    "job = problem.qaoa_ansatz(15, cnots=True)"
   ]
  },
  {
   "cell_type": "code",
   "execution_count": 5,
   "metadata": {},
   "outputs": [
    {
     "name": "stdout",
     "output_type": "stream",
     "text": [
      "maxcut with QAOA\n",
      "number of qubits:  24\n",
      "number of gates in the ansatz:  924\n",
      "number of terms in the observable:  12\n"
     ]
    }
   ],
   "source": [
    "print(\"maxcut with QAOA\")\n",
    "print(\"number of qubits: \", job.circuit.nbqbits)\n",
    "print(\"number of gates in the ansatz: \", len(job.circuit.ops))\n",
    "print(\"number of terms in the observable: \", len(job.observable.terms))"
   ]
  },
  {
   "cell_type": "code",
   "execution_count": 6,
   "metadata": {
    "collapsed": true
   },
   "outputs": [],
   "source": [
    "max_iter = 300\n",
    "\n",
    "# for a double precision simulation\n",
    "stack_gpu = ScipyMinimizePlugin(method=\"COBYLA\",\n",
    "                                options={\"maxiter\":max_iter}) | LinAlg(use_GPU=True)\n",
    "\n",
    "# we can stack the mixed precision QPU like any other QPU\n",
    "# here we choose to perform the first 250 iterations in \n",
    "# single precision and the rest in double precision\n",
    "\n",
    "stack_mixed_prec = ScipyMinimizePlugin(method=\"COBYLA\",\n",
    "                                       options={\"maxiter\":max_iter}) | MixedPrecisionQPU(250)"
   ]
  },
  {
   "cell_type": "code",
   "execution_count": 7,
   "metadata": {},
   "outputs": [
    {
     "name": "stdout",
     "output_type": "stream",
     "text": [
      "CPU times: user 1min 34s, sys: 47.6 s, total: 2min 22s\n",
      "Wall time: 2min 22s\n"
     ]
    }
   ],
   "source": [
    "%%time\n",
    "result = stack_gpu.submit(job)"
   ]
  },
  {
   "cell_type": "code",
   "execution_count": 8,
   "metadata": {},
   "outputs": [
    {
     "data": {
      "image/png": "[encoded data removed]",
      "text/plain": [
       "<Figure size 432x288 with 1 Axes>"
      ]
     },
     "metadata": {
      "needs_background": "light"
     },
     "output_type": "display_data"
    }
   ],
   "source": [
    "plt.figure()\n",
    "plt.plot(eval(result.meta_data[\"optimization_trace\"]), 'o')\n",
    "plt.xlabel(\"# of iteration\")\n",
    "plt.ylabel(\"$<O>$\")\n",
    "plt.grid(\"both\")"
   ]
  },
  {
   "cell_type": "code",
   "execution_count": 9,
   "metadata": {},
   "outputs": [
    {
     "name": "stdout",
     "output_type": "stream",
     "text": [
      "CPU times: user 59.6 s, sys: 28.6 s, total: 1min 28s\n",
      "Wall time: 1min 28s\n"
     ]
    }
   ],
   "source": [
    "%%time\n",
    "result = stack_mixed_prec.submit(job)"
   ]
  },
  {
   "cell_type": "code",
   "execution_count": 10,
   "metadata": {},
   "outputs": [
    {
     "data": {
      "image/png": "[encoded data removed]",
      "text/plain": [
       "<Figure size 432x288 with 1 Axes>"
      ]
     },
     "metadata": {
      "needs_background": "light"
     },
     "output_type": "display_data"
    }
   ],
   "source": [
    "plt.figure()\n",
    "plt.plot(eval(result.meta_data[\"optimization_trace\"]), 'o')\n",
    "plt.xlabel(\"# of iteration\")\n",
    "plt.ylabel(\"$<O>$\")\n",
    "plt.grid(\"both\")"
   ]
  },
  {
   "cell_type": "markdown",
   "metadata": {},
   "source": [
    "# Estimated simulation time on a CPU (2 sockets/32 cores)\n",
    "\n",
    "Note: jupyter server used to run this notebook was launched with \"numactl -l -N 4,5 jupyter-notebook ...\""
   ]
  },
  {
   "cell_type": "code",
   "execution_count": 11,
   "metadata": {
    "collapsed": true
   },
   "outputs": [],
   "source": [
    "## here we time 10 iterations by setting maxiter=10\n",
    "stack_cpu = ScipyMinimizePlugin(method=\"COBYLA\",\n",
    "                                options={\"maxiter\":10}) | LinAlg()"
   ]
  },
  {
   "cell_type": "code",
   "execution_count": 12,
   "metadata": {},
   "outputs": [
    {
     "name": "stdout",
     "output_type": "stream",
     "text": [
      "CPU times: user 25min 3s, sys: 1.56 s, total: 25min 5s\n",
      "Wall time: 23.7 s\n"
     ]
    }
   ],
   "source": [
    "%%time\n",
    "result_cpu = stack_cpu.submit(job) "
   ]
  },
  {
   "cell_type": "markdown",
   "metadata": {},
   "source": [
    "a full simulation with 300 iterations would have taken 711 seconds on CPU against 142 seconds (x5) in double precision and 88 seconds (x8) using mixed precision on a GPU."
   ]
  }
 ],
 "metadata": {
  "authors": [
   "Satyanarayana Bade"
  ],
  "constraints": {
   "use_GPU": true
  },
  "kernelspec": {
   "display_name": "Python 3",
   "language": "python",
   "name": "python3"
  },
  "language_info": {
   "codemirror_mode": {
    "name": "ipython",
    "version": 3
   },
   "file_extension": ".py",
   "mimetype": "text/x-python",
   "name": "python",
   "nbconvert_exporter": "python",
   "pygments_lexer": "ipython3",
   "version": "3.6.8"
  }
 },
 "nbformat": 4,
 "nbformat_minor": 2
}
