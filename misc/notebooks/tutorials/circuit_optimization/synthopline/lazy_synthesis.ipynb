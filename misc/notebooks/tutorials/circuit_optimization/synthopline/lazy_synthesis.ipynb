{
 "cells": [
  {
   "cell_type": "markdown",
   "metadata": {},
   "source": [
    "# Lazy synthesis\n",
    "\n",
    "LazySynthesis is an algorithm that can compile quantum circuit for some particular hardware connectivity constraints by lazily synthesizing pieces of circuits.\n",
    "\n",
    "It works by maintaining a classical data structure representing a unitary operator in some simple class of operators (linear boolean operators or Clifford operators).\n",
    "Gates belonging to this simple set of operators are aggregated in the data structure while gates outside of it will trigger partial synthesis of the current operator.\n",
    "\n",
    "Overall, the algorithm tries to minimize the CNOT count of the final circuit.\n",
    "\n",
    "Let us try to compile some circuits!"
   ]
  },
  {
   "cell_type": "code",
   "execution_count": null,
   "metadata": {},
   "outputs": [],
   "source": [
    "from qat.opt import MaxCut\n",
    "import networkx as nx\n",
    "\n",
    "inst_graph = nx.generators.erdos_renyi_graph(16, 0.2)\n",
    "problem = MaxCut(inst_graph)\n",
    "job = problem.qaoa_ansatz(1)"
   ]
  },
  {
   "cell_type": "code",
   "execution_count": null,
   "metadata": {},
   "outputs": [],
   "source": [
    "from qat.synthopline import LazySynthesis\n",
    "from qat.devices import RIGETTI_ASPEN as device\n",
    "print(\"Using:\\n\", device)\n",
    "compiled_circuit, final_table = LazySynthesis.compile_circuit(job.circuit, device, strategy=\"linear\")\n",
    "print(\"CNOT count (linear):\", (sum(1 if op[0] == \"CNOT\" else 0 for op in compiled_circuit.iterate_simple())))\n",
    "\n",
    "compiled_circuit, final_table = LazySynthesis.compile_circuit(job.circuit, device, strategy=\"clifford\")\n",
    "print(\"CNOT count (clifford):\", (sum(1 if op[0] == \"CNOT\" else 0 for op in compiled_circuit.iterate_simple())))"
   ]
  },
  {
   "cell_type": "markdown",
   "metadata": {},
   "source": [
    "Synthesis using Clifford operator is more expressive than the one using linear operators. But it really shines when dealing with circuit containing many arbitrary Pauli rotations (like, for instance, VQE circuits)."
   ]
  },
  {
   "cell_type": "code",
   "execution_count": null,
   "metadata": {},
   "outputs": [],
   "source": [
    "import numpy as np\n",
    "from qat.lang.AQASM import Program, RX, H, CNOT, PH\n",
    "\n",
    "prog = Program()\n",
    "qbits = prog.qalloc(16)\n",
    "for _ in range(10):\n",
    "    args = np.random.choice(qbits, size=3, replace=False)\n",
    "    paulis = np.random.choice([\"X\", \"Y\", \"Z\"], size=3)\n",
    "    for qbit, pauli in zip(args, paulis):\n",
    "        if pauli == \"X\":\n",
    "            H(qbit)\n",
    "        if pauli == \"Y\":\n",
    "            RX(np.pi/2)(qbit)\n",
    "    CNOT(args[0], args[1])\n",
    "    CNOT(args[1], args[2])\n",
    "    PH(np.random.random() * 2 * np.pi)(args[2])\n",
    "    \n",
    "    CNOT(args[1], args[2])\n",
    "    CNOT(args[0], args[1])\n",
    "    for qbit, pauli in zip(args, paulis):\n",
    "        if pauli == \"X\":\n",
    "            H(qbit)\n",
    "        if pauli == \"Y\":\n",
    "            RX(-np.pi/2)(qbit)\n",
    "circuit = prog.to_circ()\n",
    "%qatdisplay circuit"
   ]
  },
  {
   "cell_type": "code",
   "execution_count": null,
   "metadata": {},
   "outputs": [],
   "source": [
    "print(\"Original CNOT count:\", sum(1 if op[0] == \"CNOT\" else 0 for op in circuit.iterate_simple()))\n",
    "\n",
    "compiled_circuit, final_table = LazySynthesis.compile_circuit(circuit, device, strategy=\"linear\")\n",
    "print(\"CNOT count (linear):\", (sum(1 if op[0] == \"CNOT\" else 0 for op in compiled_circuit.iterate_simple())))\n",
    "\n",
    "compiled_circuit, final_table = LazySynthesis.compile_circuit(circuit, device, strategy=\"clifford\")\n",
    "print(\"CNOT count (clifford):\", (sum(1 if op[0] == \"CNOT\" else 0 for op in compiled_circuit.iterate_simple())))"
   ]
  },
  {
   "cell_type": "markdown",
   "metadata": {},
   "source": [
    "# Seach depth\n",
    "\n",
    "The main parameter of the algorithm is the **depth** of local recursive search. Increasing this parameter might greatly reduce the final CNOT count, while increasing the compilation time:"
   ]
  },
  {
   "cell_type": "code",
   "execution_count": null,
   "metadata": {},
   "outputs": [],
   "source": [
    "print(\"Original CNOT count:\", sum(1 if op[0] == \"CNOT\" else 0 for op in circuit.iterate_simple()))\n",
    "\n",
    "print(\"============   Depth = 0\")\n",
    "compiled_circuit, final_table = LazySynthesis.compile_circuit(circuit, device, strategy=\"linear\", depth=0)\n",
    "print(\"CNOT count (linear):\", (sum(1 if op[0] == \"CNOT\" else 0 for op in compiled_circuit.iterate_simple())))\n",
    "\n",
    "compiled_circuit, final_table = LazySynthesis.compile_circuit(circuit, device, strategy=\"clifford\", depth=0)\n",
    "print(\"CNOT count (clifford):\", (sum(1 if op[0] == \"CNOT\" else 0 for op in compiled_circuit.iterate_simple())))\n",
    "print(\"============   Depth = 3\")\n",
    "compiled_circuit, final_table = LazySynthesis.compile_circuit(circuit, device, strategy=\"linear\", depth=3)\n",
    "print(\"CNOT count (linear):\", (sum(1 if op[0] == \"CNOT\" else 0 for op in compiled_circuit.iterate_simple())))\n",
    "\n",
    "compiled_circuit, final_table = LazySynthesis.compile_circuit(circuit, device, strategy=\"clifford\", depth=3)\n",
    "print(\"CNOT count (clifford):\", (sum(1 if op[0] == \"CNOT\" else 0 for op in compiled_circuit.iterate_simple())))"
   ]
  },
  {
   "cell_type": "markdown",
   "metadata": {},
   "source": [
    "# Using LazySynthesis as a Plugin\n",
    "\n",
    "Of course, in practical applications, it is more convenient to include the algorithms as a Plugin in a stack.\n",
    "\n",
    "Notice how we included the target device using the `.as_quameleon` method.\n"
   ]
  },
  {
   "cell_type": "code",
   "execution_count": null,
   "metadata": {},
   "outputs": [],
   "source": [
    "inst_graph = nx.generators.erdos_renyi_graph(8, 0.5)\n",
    "problem = MaxCut(inst_graph)\n",
    "job = problem.qaoa_ansatz(1)\n",
    "\n",
    "from qat.plugins import ScipyMinimizePlugin\n",
    "from qat.qpus import LinAlg\n",
    "\n",
    "stack = LazySynthesis(depth=3, strategy=\"linear\") | ScipyMinimizePlugin(method=\"COBYLA\", tol=1e-5, options={\"maxiter\": 350}) | device.as_quameleon() | LinAlg()\n",
    "result = stack.submit(job)\n",
    "print(\"Final energy:\", result.value)"
   ]
  },
  {
   "cell_type": "code",
   "execution_count": null,
   "metadata": {},
   "outputs": [],
   "source": []
  }
 ],
 "metadata": {
  "kernelspec": {
   "display_name": "Python 3",
   "language": "python",
   "name": "python3"
  },
  "language_info": {
   "codemirror_mode": {
    "name": "ipython",
    "version": 3
   },
   "file_extension": ".py",
   "mimetype": "text/x-python",
   "name": "python",
   "nbconvert_exporter": "python",
   "pygments_lexer": "ipython3",
   "version": "3.6.8"
  }
 },
 "nbformat": 4,
 "nbformat_minor": 2
}
