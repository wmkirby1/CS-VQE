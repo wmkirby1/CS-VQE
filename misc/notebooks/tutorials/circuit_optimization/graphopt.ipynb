{
 "cells": [
  {
   "cell_type": "markdown",
   "metadata": {},
   "source": [
    "# Optimizing circuits via Graphopt\n",
    "This plugin is based on [**Automated optimization of large quantum circuits with continuous parameters**](https://arxiv.org/abs/1710.07345) by Nam and al. \n",
    "\n",
    "The algorithm implemented is a light version of the one introduced in the paper.\n",
    "The optimization relies on two different techniques:\n",
    "- pattern rewriting (an ad hoc version of the mecanics implemented in `qat.pbo`)\n",
    "- phase polynomial optimization (described below)\n",
    "\n",
    "## Step by step walkthrough\n",
    "The algorithm starts by rewriting gates in order to express the circuit in a particular gate set containing only CNOTs, H, and RZ.\n",
    "\n",
    "In order to have an idea of the patterns used during this first rewriting, one can use the `expandonly` parameter to limit the algorithm to this first stage:"
   ]
  },
  {
   "cell_type": "code",
   "execution_count": null,
   "metadata": {},
   "outputs": [],
   "source": [
    "from qat.lang.AQASM import *\n",
    "\n",
    "p_toffoli = Program()\n",
    "qbits = p_toffoli.qalloc(3)\n",
    "p_toffoli.apply(CCNOT, qbits)\n",
    "toffoli = p_toffoli.to_circ()\n",
    "\n",
    "p_cph = Program()\n",
    "qbits = p_cph.qalloc(2)\n",
    "p_cph.apply(PH(0.5).ctrl(), qbits)\n",
    "cph = p_cph.to_circ()"
   ]
  },
  {
   "cell_type": "code",
   "execution_count": null,
   "metadata": {},
   "outputs": [],
   "source": [
    "from qat.graphopt import Graphopt\n",
    "from qat.core import Batch\n",
    "plugin = Graphopt(expandonly=True)\n",
    "batch = Batch(jobs=[toffoli.to_job(), cph.to_job()])\n",
    "compiled = plugin.compile(batch, None)\n",
    "toffoli_split = compiled.jobs[0].circuit\n",
    "cph_split = compiled.jobs[1].circuit\n",
    "print(\">>>> Toffoli expansion:\")\n",
    "%qatdisplay toffoli\n",
    "%qatdisplay toffoli_split\n",
    "print(\">>>> Controled phase expansion:\")\n",
    "%qatdisplay cph\n",
    "%qatdisplay cph_split"
   ]
  },
  {
   "cell_type": "markdown",
   "metadata": {},
   "source": [
    "Of course the resulting circuits are larger than the original ones, but also more realistics in terms of practical gate sets.\n",
    "\n",
    "\n",
    "Once all the gates are expanded, the optimizer alternate between pattern rewriting and phase polynomial reductions.\n",
    "\n",
    "To illustrate the different patterns used in the first stage, lets consider the following circuit:"
   ]
  },
  {
   "cell_type": "code",
   "execution_count": null,
   "metadata": {},
   "outputs": [],
   "source": [
    "from qat.core.simutil import optimize_circuit\n",
    "prog = Program()\n",
    "qbits = prog.qalloc(1)\n",
    "prog.apply(H, qbits)\n",
    "prog.apply(S, qbits)\n",
    "prog.apply(H, qbits)\n",
    "circuit = prog.to_circ()\n",
    "optimized_circuit = optimize_circuit(circuit, Graphopt())\n",
    "%qatdisplay circuit\n",
    "%qatdisplay optimized_circuit"
   ]
  },
  {
   "cell_type": "markdown",
   "metadata": {},
   "source": [
    "The main idea is to reduce the number of H gates in order to build large, Hadamard free, subcircuits.\n",
    "\n",
    "There are 6 different identities that help achieve this same goal:"
   ]
  },
  {
   "cell_type": "code",
   "execution_count": null,
   "metadata": {},
   "outputs": [],
   "source": [
    "prog = Program()\n",
    "qbits = prog.qalloc(1)\n",
    "prog.apply(H, qbits)\n",
    "prog.apply(S.dag(), qbits)\n",
    "prog.apply(H, qbits)\n",
    "circuit = prog.to_circ()\n",
    "optimized_circuit = optimize_circuit(circuit, Graphopt())\n",
    "print(\"===== Second pattern:\")\n",
    "%qatdisplay circuit\n",
    "%qatdisplay optimized_circuit\n",
    "\n",
    "prog = Program()\n",
    "qbits = prog.qalloc(2)\n",
    "for qb in qbits:\n",
    "    prog.apply(H, qb)\n",
    "prog.apply(CNOT, qbits)\n",
    "for qb in qbits:\n",
    "    prog.apply(H, qb)\n",
    "circuit = prog.to_circ()\n",
    "optimized_circuit = optimize_circuit(circuit, Graphopt())\n",
    "print(\"===== Third pattern\")\n",
    "%qatdisplay circuit\n",
    "%qatdisplay optimized_circuit\n",
    "\n",
    "prog = Program()\n",
    "qbits = prog.qalloc(2)\n",
    "prog.apply(H, qbits[1])\n",
    "prog.apply(S, qbits[1])\n",
    "prog.apply(CNOT, qbits)\n",
    "prog.apply(S.dag(), qbits[1])\n",
    "prog.apply(H, qbits[1])\n",
    "circuit = prog.to_circ()\n",
    "optimized_circuit = optimize_circuit(circuit, Graphopt())\n",
    "print(\"===== Fourth pattern\")\n",
    "%qatdisplay circuit\n",
    "%qatdisplay optimized_circuit\n",
    "\n",
    "prog = Program()\n",
    "qbits = prog.qalloc(2)\n",
    "prog.apply(H, qbits[1])\n",
    "prog.apply(S.dag(), qbits[1])\n",
    "prog.apply(CNOT, qbits)\n",
    "prog.apply(S, qbits[1])\n",
    "prog.apply(H, qbits[1])\n",
    "circuit = prog.to_circ()\n",
    "optimized_circuit = optimize_circuit(circuit, Graphopt())\n",
    "print(\"===== Fifth pattern\")\n",
    "%qatdisplay circuit\n",
    "%qatdisplay optimized_circuit\n",
    "\n",
    "prog = Program()\n",
    "qbits = prog.qalloc(1)\n",
    "prog.apply(H, qbits)\n",
    "prog.apply(H, qbits)\n",
    "\n",
    "circuit = prog.to_circ()\n",
    "optimized_circuit = optimize_circuit(circuit, Graphopt())\n",
    "print(\"===== Last pattern\")\n",
    "%qatdisplay circuit\n",
    "%qatdisplay optimized_circuit"
   ]
  },
  {
   "cell_type": "markdown",
   "metadata": {},
   "source": [
    "Notice how all these patterns reduce the Hadamard count of the circuit.\n",
    "\n",
    "Once the Hadamard count is reduced, the optimizer uses phase polynomial identities to reduce the Rz count. \n",
    "\n",
    "To illustrate this technique consider the following CNOT + Rz circuit and its optimized version:"
   ]
  },
  {
   "cell_type": "code",
   "execution_count": null,
   "metadata": {},
   "outputs": [],
   "source": [
    "prog = Program()\n",
    "qbits = prog.qalloc(3)\n",
    "prog.apply(PH(0.3), qbits[2])\n",
    "prog.apply(CNOT, qbits[0], qbits[1])\n",
    "prog.apply(CNOT, qbits[1], qbits[2])\n",
    "prog.apply(CNOT, qbits[2], qbits[1])\n",
    "prog.apply(PH(0.4), qbits[1])\n",
    "circuit = prog.to_circ()\n",
    "optimized_circuit = optimize_circuit(circuit, Graphopt())\n",
    "\n",
    "%qatdisplay circuit\n",
    "%qatdisplay optimized_circuit"
   ]
  },
  {
   "cell_type": "markdown",
   "metadata": {},
   "source": [
    "By tracking how PH gates contribute to the phase of the circuit, the optimizer can merge them when possible, thus reducing the PH/RZ count of the circuit."
   ]
  },
  {
   "cell_type": "markdown",
   "metadata": {},
   "source": [
    "## Overall optimization\n",
    "\n",
    "Lets see how the optimizer behave on a QFT-based adder:"
   ]
  },
  {
   "cell_type": "code",
   "execution_count": null,
   "metadata": {},
   "outputs": [],
   "source": [
    "from qat.lang.AQASM.qftarith import add\n",
    "from qat.core.util import statistics\n",
    "prog = Program()\n",
    "qbits = prog.qalloc(8)\n",
    "prog.apply(add(4, 4), qbits)\n",
    "circuit = prog.to_circ(inline=True)\n",
    "\n",
    "circuit = optimize_circuit(circuit, Graphopt(expandonly=True))\n",
    "optimized_circuit = optimize_circuit(circuit, Graphopt())\n",
    "%qatdisplay circuit\n",
    "print(statistics(circuit))\n",
    "%qatdisplay optimized_circuit\n",
    "print(statistics(optimized_circuit))"
   ]
  },
  {
   "cell_type": "markdown",
   "metadata": {},
   "source": [
    "As you can notice, the number of RZ/PH/T/S gates is indeed lower after optimization. Of course, this type of circuits is not representative, since it is already quite optimized. One can try, for instance to concatecate two of those circuits:"
   ]
  },
  {
   "cell_type": "code",
   "execution_count": null,
   "metadata": {},
   "outputs": [],
   "source": [
    "circuit = circuit + circuit\n",
    "optimized_circuit = optimize_circuit(circuit, Graphopt())\n",
    "%qatdisplay circuit\n",
    "print(statistics(circuit))\n",
    "%qatdisplay optimized_circuit\n",
    "print(statistics(optimized_circuit))"
   ]
  },
  {
   "cell_type": "markdown",
   "metadata": {},
   "source": [
    "Here the gain is much larger!"
   ]
  }
 ],
 "metadata": {
  "authors": [
   "Simon Martiel"
  ],
  "kernelspec": {
   "display_name": "Python 3",
   "language": "python",
   "name": "python3"
  },
  "language_info": {
   "codemirror_mode": {
    "name": "ipython",
    "version": 3
   },
   "file_extension": ".py",
   "mimetype": "text/x-python",
   "name": "python",
   "nbconvert_exporter": "python",
   "pygments_lexer": "ipython3",
   "version": "3.6.8"
  }
 },
 "nbformat": 4,
 "nbformat_minor": 2
}
