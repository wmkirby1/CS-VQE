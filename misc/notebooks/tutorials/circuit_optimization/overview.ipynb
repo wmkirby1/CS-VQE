{
 "cells": [
  {
   "cell_type": "markdown",
   "metadata": {},
   "source": [
    "# Overview: circuit optimization\n",
    "\n",
    "The *circuit optimization* part tackles some aspects of the problematic of adapting a quantum circuit to a specific hardware. This section explains, for instance, how the gate set of a circuit could be updated to deal with the constraints of a hardware, or how a circuit could be updated to be compliant with the topological constraints of a specific hardware.\n",
    "\n",
    "The Quantum Learning Machine provides tools to **optimize** and **compile** quantum circuits. Three main optimizers are already implemented in the QLM:\n",
    "\n",
    " - [**qat-nnize**](./satisfying_connectivity_constraints.ipynb): this tool solves the swap insertion problem on any circuit\n",
    " - **qat-pbo** ([low level optimization](./graph_circuit.ipynb) and [high-level optimization](./pattern_manager.ipynb)): this optimizer can replace patterns (i.e. small subcircuits) in a quantum circuit\n",
    " - [**qat-graphopt**](./graphopt.ipynb): specific optimization algorithm based on [**Automated optimization of large quantum circuits with continuous parameters**](https://arxiv.org/abs/1710.07345) by Nam et al.\n",
    " - [**qat-synthopline**](./synthopline/overview.ipynb): a general purpose quantum circuit synthesis and optimization library. It contains various state-of-the-art synthesis algorithms and compilation tools."
   ]
  },
  {
   "cell_type": "code",
   "execution_count": null,
   "metadata": {
    "collapsed": true
   },
   "outputs": [],
   "source": []
  }
 ],
 "metadata": {
  "authors": [
   "Arnaud Gazda"
  ],
  "kernelspec": {
   "display_name": "Python 3",
   "language": "python",
   "name": "python3"
  },
  "language_info": {
   "codemirror_mode": {
    "name": "ipython",
    "version": 3
   },
   "file_extension": ".py",
   "mimetype": "text/x-python",
   "name": "python",
   "nbconvert_exporter": "python",
   "pygments_lexer": "ipython3",
   "version": "3.6.8"
  }
 },
 "nbformat": 4,
 "nbformat_minor": 2
}
