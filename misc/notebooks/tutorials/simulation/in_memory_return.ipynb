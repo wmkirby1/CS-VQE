{
 "cells": [
  {
   "cell_type": "markdown",
   "metadata": {},
   "source": [
    "# In memory return\n",
    "\n",
    "In some particular cases, QLM QPUs are able to return the final sampling data in the form of a numpy array (usually via some in-memory transfer).\n",
    "\n",
    "This provide a large advantage if you want to extract data using vectorized operation over the final vector.\n",
    "\n",
    "This notebooks uses the LinAlg qpu to illustrate this feature."
   ]
  },
  {
   "cell_type": "code",
   "execution_count": null,
   "metadata": {},
   "outputs": [],
   "source": [
    "import numpy as np\n",
    "import time\n",
    "from qat.qpus import LinAlg\n",
    "from qat.lang.AQASM import Program, H, CNOT\n",
    "program = Program()\n",
    "for qb in program.qalloc(10):\n",
    "    H(qb)\n",
    "circuit = program.to_circ()"
   ]
  },
  {
   "cell_type": "markdown",
   "metadata": {},
   "source": [
    "Lets start with a job requiring all the qubits to be sampled. Since LinAlg is a perfect simulator, it will try and return the full state vector as a complex numpy array.\n",
    "\n",
    "This array can be found in the `.statevector` field of the result object."
   ]
  },
  {
   "cell_type": "code",
   "execution_count": null,
   "metadata": {},
   "outputs": [],
   "source": [
    "qpu = LinAlg()\n",
    "result = qpu.submit(circuit.to_job())\n",
    "if result.has_statevector:\n",
    "    print(\"The result has a numpy data of shape:\", result.statevector.shape)\n",
    "    print(\"The norm of the state vector is\", np.linalg.norm(result.statevector))"
   ]
  },
  {
   "cell_type": "markdown",
   "metadata": {},
   "source": [
    "If we now ask LinAlg to provide a probability distribution on a subset of qubits, the resulting array will be of float type."
   ]
  },
  {
   "cell_type": "code",
   "execution_count": null,
   "metadata": {},
   "outputs": [],
   "source": [
    "qpu = LinAlg()\n",
    "result = qpu.submit(circuit.to_job(qubits=[0, 1]))\n",
    "if result.has_statevector:\n",
    "    print(\"The result has a numpy data of shape:\", result.statevector.shape)\n",
    "    print(result.statevector)"
   ]
  },
  {
   "cell_type": "markdown",
   "metadata": {},
   "source": [
    "LinAlg also has the capability of returning state vectors and probabiluty distributions in sparse format (a c++ map).\n",
    "This c++ map is published as a python object and behaves like a standard dictionary.\n",
    "\n",
    "This can be activated via the `sparse` keyword of LinAlg's constructor:"
   ]
  },
  {
   "cell_type": "code",
   "execution_count": null,
   "metadata": {},
   "outputs": [],
   "source": [
    "qpu = LinAlg(sparse=True)\n",
    "result = qpu.submit(circuit.to_job(qubits=[0, 1]))\n",
    "if result.has_statevector:\n",
    "    print(\"The state vector is a\", type(result.statevector))\n",
    "    print(result.statevector)\n",
    "    for key, value in result.statevector.items():\n",
    "        print(key, \":\", value)"
   ]
  },
  {
   "cell_type": "markdown",
   "metadata": {},
   "source": [
    "In all cases, the `Result` object will always implement some iterator returning `Sample` objects, regardless of the underlying data structure describing the state vector/result. Thus, the standard way (which might be less efficient, depending on your application) is to use a for loop:"
   ]
  },
  {
   "cell_type": "code",
   "execution_count": null,
   "metadata": {},
   "outputs": [],
   "source": [
    "qpu = LinAlg(sparse=True)\n",
    "result = qpu.submit(circuit.to_job(qubits=[0, 1, 2, 3]))\n",
    "print(\">>>>  Sparse mode:\")\n",
    "for sample in result:\n",
    "    print(sample)\n",
    "qpu = LinAlg(sparse=False)\n",
    "print(\">>>>  Full mode:\")\n",
    "result = qpu.submit(circuit.to_job(qubits=[0, 1, 2, 3]))\n",
    "for sample in result:\n",
    "    print(sample)"
   ]
  },
  {
   "cell_type": "code",
   "execution_count": null,
   "metadata": {},
   "outputs": [],
   "source": []
  }
 ],
 "metadata": {
  "kernelspec": {
   "display_name": "Python 3",
   "language": "python",
   "name": "python3"
  },
  "language_info": {
   "codemirror_mode": {
    "name": "ipython",
    "version": 3
   },
   "file_extension": ".py",
   "mimetype": "text/x-python",
   "name": "python",
   "nbconvert_exporter": "python",
   "pygments_lexer": "ipython3",
   "version": "3.6.8"
  }
 },
 "nbformat": 4,
 "nbformat_minor": 2
}
