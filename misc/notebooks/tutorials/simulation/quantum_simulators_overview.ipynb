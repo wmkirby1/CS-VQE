{
 "cells": [
  {
   "cell_type": "markdown",
   "metadata": {},
   "source": [
    "# Overview of quantum simulators\n",
    "\n",
    "\n",
    "In this notebook, we give a basic description of the 5 ideal quantum circuit simulators available on the Quantum Learning Machine.\n",
    "\n",
    "The QLM also provides **noisy** simulation capabilities. For more details see [Setting up a noisy quantum computation](../noisy_simulation/overview.ipynb).\n",
    "\n",
    "\n",
    "## What \"simulation\" means:\n",
    "\n",
    "- By \"simulation of quantum circuits\", we mean one of the following tasks: <br><br>\n",
    "    - **state analysis**: the simulator returns all non-zero amplitudes (default).\n",
    "    \n",
    "    - **strict emulation of quantum computing**: the simulator returns measurement results, sampled from the output probability distribution of the quantum circuit, just like an actual (ideal) quantum computer would. They can be regrouped by value or not, depending on the value assigned to the \"aggregate_data\" argument. See [this notebook](simulation_overview.ipynb) for more details.<br><br>\n",
    "    - **computation of the average value of an observable** You can directly ask a simulator for an observable average. In terms of performance, this more efficient than getting the amplitudes as a numpy array ([which is possible, see this notebook](simulation_overview.ipynb)) and computing it yourself.\n",
    "\n",
    "\n",
    "## Quick description of the simulators:\n",
    "\n",
    "Each of the 5 ideal simulators is based on particular data structures, which make it behave well with specific families of quantum circuits.\n",
    "\n",
    "- The different ideal simulators are the following: <br><br>\n",
    "    - **qat.linalg**: a simulator based on straightforward linear application of unitary matrices onto the amplitude vector. Both its memory usage and execution time are exponential in the number of qubits. <br><br>\n",
    "    *Restrictions*: None. Any circuit can be run on this simulator. <br><br>\n",
    "    \n",
    "    - **qat.feynman**: a simulator based on the Feynman path integral formulation of quantum computing (see [Rudiak-Gould06](https://arxiv.org/abs/quant-ph/0607151) for instance). Its execution time is exponential in the number of *dense* gates. A gate is dense if it is neither logical (like CNOT or Toffoli - containing one 1 per line and column) nor diagonal. As qat.linalg, its memory usage is exponential in the number of qubits, as it still computes the entire amplitude vector.<br><br>\n",
    "    *Restrictions:* gates are limited to arity < 4.\n",
    "    <br><br>\n",
    "    \n",
    "    - **qat.mps**: a simulator where the state vector is stored as a Matrix Product State. This data structure compresses information in slightly entangled cases. In these cases, both memory usage and execution time are greatly reduced. Some references on MPS simulation of quantum computing: [Vidal03](https://arxiv.org/abs/quant-ph/0301063) or [Banuls05](https://arxiv.org/abs/quant-ph/0503174) <br><br>\n",
    "    *Restrictions:* gates are limited to arity < 4 and need to act on neighboring qubits (*i-e* with consecutive qubit indices).\n",
    "    <br><br>\n",
    "    \n",
    "    - **qat.stabs**: a simulator based on the stabilizer formalism ([Gottesman97](https://arxiv.org/abs/quant-ph/9705052), [Aaronson04](https://arxiv.org/abs/quant-ph/0406196)). It is, by construction, restricted to circuits containing Clifford gates (H, CNOT, S and the gates they generate) only. However, on these circuits, it can push the simulation to thousands of qubits.<br><br>\n",
    "    *Restrictions:* only Clifford gates can be used (CNOT, H, S and everything they generate)<br><br>\n",
    "    - **qat.bdd**: Similarly to MPS, its memory footprint will depend on the structure of the state being represented. It can be greatly reduced in cases where the state vector can \"factorized\". see [this article](https://arxiv.org/abs/1707.00865) for more details.\n",
    "\n",
    "$\\rightarrow$ This notebook will demonstrate the execution of some circuits on these different simulators, with the purpose of highlighting their respective weaknesses and strengths.<br>\n",
    "\n",
    "## Testbeds\n",
    "\n",
    "- The different circuits we will use to test the ideal simulators are:\n",
    "    - The Quantum Fourier Transform, with 20 qubits.\n",
    "    - An instance of a quantum arithmetics circuit (typical subpart of Shor's algorithm).\n",
    "    - A cat state generation circuit with many qubits.<br><br>\n",
    "    \n",
    "- For noisy simulations, see [this notebook](../noisy_simulation/overview.ipynb).\n",
    "\n"
   ]
  },
  {
   "cell_type": "markdown",
   "metadata": {},
   "source": [
    "## Quantum Fourier Transform from computational basis state.\n",
    "\n",
    "Let us start with a QFT, which we import from our programming libraries:"
   ]
  },
  {
   "cell_type": "code",
   "execution_count": 1,
   "metadata": {},
   "outputs": [],
   "source": [
    "from qat.lang.AQASM import *\n",
    "from qat.lang.AQASM.qftarith import QFT"
   ]
  },
  {
   "cell_type": "code",
   "execution_count": 2,
   "metadata": {},
   "outputs": [],
   "source": [
    "nqbits = 5\n",
    "prog = Program()\n",
    "reg = prog.qalloc(nqbits)\n",
    "prog.apply(QFT(nqbits), reg)\n",
    "qft_c = prog.to_circ()"
   ]
  },
  {
   "cell_type": "markdown",
   "metadata": {},
   "source": [
    "**Let us now run this QFT circuit on the different simulators:**"
   ]
  },
  {
   "cell_type": "code",
   "execution_count": 3,
   "metadata": {},
   "outputs": [
    {
     "name": "stdout",
     "output_type": "stream",
     "text": [
      "Sample(_state=10, probability=None, _amplitude=None, intermediate_measurements=None, err=None, qregs=[QRegister(scope=<qat.lang.AQASM.program.Program object at 0x14b1238d0438>, length=5, start=0, msb=None, qbits=[<qat.lang.AQASM.bits.Qbit object at 0x14b123880358>, <qat.lang.AQASM.bits.Qbit object at 0x14b1238803c8>, <qat.lang.AQASM.bits.Qbit object at 0x14b123880438>, <qat.lang.AQASM.bits.Qbit object at 0x14b1238804a8>, <qat.lang.AQASM.bits.Qbit object at 0x14b123880518>])])\n",
      "Sample(_state=24, probability=None, _amplitude=None, intermediate_measurements=None, err=None, qregs=[QRegister(scope=<qat.lang.AQASM.program.Program object at 0x14b1238d0438>, length=5, start=0, msb=None, qbits=[<qat.lang.AQASM.bits.Qbit object at 0x14b123880358>, <qat.lang.AQASM.bits.Qbit object at 0x14b1238803c8>, <qat.lang.AQASM.bits.Qbit object at 0x14b123880438>, <qat.lang.AQASM.bits.Qbit object at 0x14b1238804a8>, <qat.lang.AQASM.bits.Qbit object at 0x14b123880518>])])\n",
      "Sample(_state=27, probability=None, _amplitude=None, intermediate_measurements=None, err=None, qregs=[QRegister(scope=<qat.lang.AQASM.program.Program object at 0x14b1238d0438>, length=5, start=0, msb=None, qbits=[<qat.lang.AQASM.bits.Qbit object at 0x14b123880358>, <qat.lang.AQASM.bits.Qbit object at 0x14b1238803c8>, <qat.lang.AQASM.bits.Qbit object at 0x14b123880438>, <qat.lang.AQASM.bits.Qbit object at 0x14b1238804a8>, <qat.lang.AQASM.bits.Qbit object at 0x14b123880518>])])\n",
      "Sample(_state=7, probability=None, _amplitude=None, intermediate_measurements=None, err=None, qregs=[QRegister(scope=<qat.lang.AQASM.program.Program object at 0x14b1238d0438>, length=5, start=0, msb=None, qbits=[<qat.lang.AQASM.bits.Qbit object at 0x14b123880358>, <qat.lang.AQASM.bits.Qbit object at 0x14b1238803c8>, <qat.lang.AQASM.bits.Qbit object at 0x14b123880438>, <qat.lang.AQASM.bits.Qbit object at 0x14b1238804a8>, <qat.lang.AQASM.bits.Qbit object at 0x14b123880518>])])\n",
      "Sample(_state=9, probability=None, _amplitude=None, intermediate_measurements=None, err=None, qregs=[QRegister(scope=<qat.lang.AQASM.program.Program object at 0x14b1238d0438>, length=5, start=0, msb=None, qbits=[<qat.lang.AQASM.bits.Qbit object at 0x14b123880358>, <qat.lang.AQASM.bits.Qbit object at 0x14b1238803c8>, <qat.lang.AQASM.bits.Qbit object at 0x14b123880438>, <qat.lang.AQASM.bits.Qbit object at 0x14b1238804a8>, <qat.lang.AQASM.bits.Qbit object at 0x14b123880518>])])\n"
     ]
    }
   ],
   "source": [
    "#Running on linalg.\n",
    "from qat.qpus import LinAlg\n",
    "\n",
    "job = qft_c.to_job(nbshots=5, aggregate_data=False)\n",
    "\n",
    "qpu = LinAlg()\n",
    "\n",
    "results = qpu.submit(job)\n",
    "\n",
    "for sample in results:\n",
    "    print(sample)\n"
   ]
  },
  {
   "cell_type": "code",
   "execution_count": 4,
   "metadata": {},
   "outputs": [
    {
     "name": "stdout",
     "output_type": "stream",
     "text": [
      "Sample(_state=14, probability=None, _amplitude=None, intermediate_measurements=None, err=None, qregs=[QRegister(scope=<qat.lang.AQASM.program.Program object at 0x14b1238906a0>, length=5, start=0, msb=None, qbits=[<qat.lang.AQASM.bits.Qbit object at 0x14b123890b38>, <qat.lang.AQASM.bits.Qbit object at 0x14b123890ba8>, <qat.lang.AQASM.bits.Qbit object at 0x14b123890c18>, <qat.lang.AQASM.bits.Qbit object at 0x14b123890c88>, <qat.lang.AQASM.bits.Qbit object at 0x14b123890cf8>])])\n",
      "Sample(_state=12, probability=None, _amplitude=None, intermediate_measurements=None, err=None, qregs=[QRegister(scope=<qat.lang.AQASM.program.Program object at 0x14b1238906a0>, length=5, start=0, msb=None, qbits=[<qat.lang.AQASM.bits.Qbit object at 0x14b123890b38>, <qat.lang.AQASM.bits.Qbit object at 0x14b123890ba8>, <qat.lang.AQASM.bits.Qbit object at 0x14b123890c18>, <qat.lang.AQASM.bits.Qbit object at 0x14b123890c88>, <qat.lang.AQASM.bits.Qbit object at 0x14b123890cf8>])])\n",
      "Sample(_state=4, probability=None, _amplitude=None, intermediate_measurements=None, err=None, qregs=[QRegister(scope=<qat.lang.AQASM.program.Program object at 0x14b1238906a0>, length=5, start=0, msb=None, qbits=[<qat.lang.AQASM.bits.Qbit object at 0x14b123890b38>, <qat.lang.AQASM.bits.Qbit object at 0x14b123890ba8>, <qat.lang.AQASM.bits.Qbit object at 0x14b123890c18>, <qat.lang.AQASM.bits.Qbit object at 0x14b123890c88>, <qat.lang.AQASM.bits.Qbit object at 0x14b123890cf8>])])\n",
      "Sample(_state=16, probability=None, _amplitude=None, intermediate_measurements=None, err=None, qregs=[QRegister(scope=<qat.lang.AQASM.program.Program object at 0x14b1238906a0>, length=5, start=0, msb=None, qbits=[<qat.lang.AQASM.bits.Qbit object at 0x14b123890b38>, <qat.lang.AQASM.bits.Qbit object at 0x14b123890ba8>, <qat.lang.AQASM.bits.Qbit object at 0x14b123890c18>, <qat.lang.AQASM.bits.Qbit object at 0x14b123890c88>, <qat.lang.AQASM.bits.Qbit object at 0x14b123890cf8>])])\n",
      "Sample(_state=10, probability=None, _amplitude=None, intermediate_measurements=None, err=None, qregs=[QRegister(scope=<qat.lang.AQASM.program.Program object at 0x14b1238906a0>, length=5, start=0, msb=None, qbits=[<qat.lang.AQASM.bits.Qbit object at 0x14b123890b38>, <qat.lang.AQASM.bits.Qbit object at 0x14b123890ba8>, <qat.lang.AQASM.bits.Qbit object at 0x14b123890c18>, <qat.lang.AQASM.bits.Qbit object at 0x14b123890c88>, <qat.lang.AQASM.bits.Qbit object at 0x14b123890cf8>])])\n"
     ]
    }
   ],
   "source": [
    "#Running on feynman=path-integral based.\n",
    "from qat.feynman import Feynman\n",
    "\n",
    "qpu = Feynman()\n",
    "\n",
    "results = qpu.submit(job)\n",
    "\n",
    "for sample in results:\n",
    "    print(sample)"
   ]
  },
  {
   "cell_type": "code",
   "execution_count": 5,
   "metadata": {},
   "outputs": [
    {
     "name": "stdout",
     "output_type": "stream",
     "text": [
      "Sample(_amplitude=None, probability=0.2, _state=261103782344905, err=0.2, intermediate_measurements=None, qregs=[QRegister(scope=<qat.lang.AQASM.program.Program object at 0x14b11b71fb70>, length=50, start=0, msb=None, qbits=[<qat.lang.AQASM.bits.Qbit object at 0x14b11b71fdd8>, <qat.lang.AQASM.bits.Qbit object at 0x14b11b71fe48>, <qat.lang.AQASM.bits.Qbit object at 0x14b11b71feb8>, <qat.lang.AQASM.bits.Qbit object at 0x14b11b71ff28>, <qat.lang.AQASM.bits.Qbit object at 0x14b11b71ff98>, <qat.lang.AQASM.bits.Qbit object at 0x14b11b71fb00>, <qat.lang.AQASM.bits.Qbit object at 0x14b11b701c18>, <qat.lang.AQASM.bits.Qbit object at 0x14b11b701e48>, <qat.lang.AQASM.bits.Qbit object at 0x14b174402cf8>, <qat.lang.AQASM.bits.Qbit object at 0x14b11b705470>, <qat.lang.AQASM.bits.Qbit object at 0x14b11b705588>, <qat.lang.AQASM.bits.Qbit object at 0x14b11b705630>, <qat.lang.AQASM.bits.Qbit object at 0x14b11b705748>, <qat.lang.AQASM.bits.Qbit object at 0x14b11b7057f0>, <qat.lang.AQASM.bits.Qbit object at 0x14b11b705908>, <qat.lang.AQASM.bits.Qbit object at 0x14b11b7059b0>, <qat.lang.AQASM.bits.Qbit object at 0x14b11b705ac8>, <qat.lang.AQASM.bits.Qbit object at 0x14b11b705b70>, <qat.lang.AQASM.bits.Qbit object at 0x14b11b705c88>, <qat.lang.AQASM.bits.Qbit object at 0x14b11b705d30>, <qat.lang.AQASM.bits.Qbit object at 0x14b11b705e48>, <qat.lang.AQASM.bits.Qbit object at 0x14b11b705ef0>, <qat.lang.AQASM.bits.Qbit object at 0x14b11b705f98>, <qat.lang.AQASM.bits.Qbit object at 0x14b11b70a048>, <qat.lang.AQASM.bits.Qbit object at 0x14b11b70a208>, <qat.lang.AQASM.bits.Qbit object at 0x14b11b70a2b0>, <qat.lang.AQASM.bits.Qbit object at 0x14b11b70a3c8>, <qat.lang.AQASM.bits.Qbit object at 0x14b11b70a470>, <qat.lang.AQASM.bits.Qbit object at 0x14b11b70a588>, <qat.lang.AQASM.bits.Qbit object at 0x14b11b70a630>, <qat.lang.AQASM.bits.Qbit object at 0x14b11b70a748>, <qat.lang.AQASM.bits.Qbit object at 0x14b11b70a7f0>, <qat.lang.AQASM.bits.Qbit object at 0x14b11b70a908>, <qat.lang.AQASM.bits.Qbit object at 0x14b11b70a9b0>, <qat.lang.AQASM.bits.Qbit object at 0x14b11b70aac8>, <qat.lang.AQASM.bits.Qbit object at 0x14b11b70ab70>, <qat.lang.AQASM.bits.Qbit object at 0x14b11b70ac88>, <qat.lang.AQASM.bits.Qbit object at 0x14b11b70ad30>, <qat.lang.AQASM.bits.Qbit object at 0x14b11b70ae48>, <qat.lang.AQASM.bits.Qbit object at 0x14b11b70aef0>, <qat.lang.AQASM.bits.Qbit object at 0x14b11b70af98>, <qat.lang.AQASM.bits.Qbit object at 0x14b11b70f048>, <qat.lang.AQASM.bits.Qbit object at 0x14b11b70f208>, <qat.lang.AQASM.bits.Qbit object at 0x14b11b70f2b0>, <qat.lang.AQASM.bits.Qbit object at 0x14b11b70f3c8>, <qat.lang.AQASM.bits.Qbit object at 0x14b11b70f470>, <qat.lang.AQASM.bits.Qbit object at 0x14b11b70f588>, <qat.lang.AQASM.bits.Qbit object at 0x14b11b70f630>, <qat.lang.AQASM.bits.Qbit object at 0x14b11b70f748>, <qat.lang.AQASM.bits.Qbit object at 0x14b11b70f7f0>])])\n",
      "Sample(_amplitude=None, probability=0.2, _state=766624537967985, err=0.2, intermediate_measurements=None, qregs=[QRegister(scope=<qat.lang.AQASM.program.Program object at 0x14b11b71fb70>, length=50, start=0, msb=None, qbits=[<qat.lang.AQASM.bits.Qbit object at 0x14b11b71fdd8>, <qat.lang.AQASM.bits.Qbit object at 0x14b11b71fe48>, <qat.lang.AQASM.bits.Qbit object at 0x14b11b71feb8>, <qat.lang.AQASM.bits.Qbit object at 0x14b11b71ff28>, <qat.lang.AQASM.bits.Qbit object at 0x14b11b71ff98>, <qat.lang.AQASM.bits.Qbit object at 0x14b11b71fb00>, <qat.lang.AQASM.bits.Qbit object at 0x14b11b701c18>, <qat.lang.AQASM.bits.Qbit object at 0x14b11b701e48>, <qat.lang.AQASM.bits.Qbit object at 0x14b174402cf8>, <qat.lang.AQASM.bits.Qbit object at 0x14b11b705470>, <qat.lang.AQASM.bits.Qbit object at 0x14b11b705588>, <qat.lang.AQASM.bits.Qbit object at 0x14b11b705630>, <qat.lang.AQASM.bits.Qbit object at 0x14b11b705748>, <qat.lang.AQASM.bits.Qbit object at 0x14b11b7057f0>, <qat.lang.AQASM.bits.Qbit object at 0x14b11b705908>, <qat.lang.AQASM.bits.Qbit object at 0x14b11b7059b0>, <qat.lang.AQASM.bits.Qbit object at 0x14b11b705ac8>, <qat.lang.AQASM.bits.Qbit object at 0x14b11b705b70>, <qat.lang.AQASM.bits.Qbit object at 0x14b11b705c88>, <qat.lang.AQASM.bits.Qbit object at 0x14b11b705d30>, <qat.lang.AQASM.bits.Qbit object at 0x14b11b705e48>, <qat.lang.AQASM.bits.Qbit object at 0x14b11b705ef0>, <qat.lang.AQASM.bits.Qbit object at 0x14b11b705f98>, <qat.lang.AQASM.bits.Qbit object at 0x14b11b70a048>, <qat.lang.AQASM.bits.Qbit object at 0x14b11b70a208>, <qat.lang.AQASM.bits.Qbit object at 0x14b11b70a2b0>, <qat.lang.AQASM.bits.Qbit object at 0x14b11b70a3c8>, <qat.lang.AQASM.bits.Qbit object at 0x14b11b70a470>, <qat.lang.AQASM.bits.Qbit object at 0x14b11b70a588>, <qat.lang.AQASM.bits.Qbit object at 0x14b11b70a630>, <qat.lang.AQASM.bits.Qbit object at 0x14b11b70a748>, <qat.lang.AQASM.bits.Qbit object at 0x14b11b70a7f0>, <qat.lang.AQASM.bits.Qbit object at 0x14b11b70a908>, <qat.lang.AQASM.bits.Qbit object at 0x14b11b70a9b0>, <qat.lang.AQASM.bits.Qbit object at 0x14b11b70aac8>, <qat.lang.AQASM.bits.Qbit object at 0x14b11b70ab70>, <qat.lang.AQASM.bits.Qbit object at 0x14b11b70ac88>, <qat.lang.AQASM.bits.Qbit object at 0x14b11b70ad30>, <qat.lang.AQASM.bits.Qbit object at 0x14b11b70ae48>, <qat.lang.AQASM.bits.Qbit object at 0x14b11b70aef0>, <qat.lang.AQASM.bits.Qbit object at 0x14b11b70af98>, <qat.lang.AQASM.bits.Qbit object at 0x14b11b70f048>, <qat.lang.AQASM.bits.Qbit object at 0x14b11b70f208>, <qat.lang.AQASM.bits.Qbit object at 0x14b11b70f2b0>, <qat.lang.AQASM.bits.Qbit object at 0x14b11b70f3c8>, <qat.lang.AQASM.bits.Qbit object at 0x14b11b70f470>, <qat.lang.AQASM.bits.Qbit object at 0x14b11b70f588>, <qat.lang.AQASM.bits.Qbit object at 0x14b11b70f630>, <qat.lang.AQASM.bits.Qbit object at 0x14b11b70f748>, <qat.lang.AQASM.bits.Qbit object at 0x14b11b70f7f0>])])\n",
      "Sample(_amplitude=None, probability=0.2, _state=150914957661689, err=0.2, intermediate_measurements=None, qregs=[QRegister(scope=<qat.lang.AQASM.program.Program object at 0x14b11b71fb70>, length=50, start=0, msb=None, qbits=[<qat.lang.AQASM.bits.Qbit object at 0x14b11b71fdd8>, <qat.lang.AQASM.bits.Qbit object at 0x14b11b71fe48>, <qat.lang.AQASM.bits.Qbit object at 0x14b11b71feb8>, <qat.lang.AQASM.bits.Qbit object at 0x14b11b71ff28>, <qat.lang.AQASM.bits.Qbit object at 0x14b11b71ff98>, <qat.lang.AQASM.bits.Qbit object at 0x14b11b71fb00>, <qat.lang.AQASM.bits.Qbit object at 0x14b11b701c18>, <qat.lang.AQASM.bits.Qbit object at 0x14b11b701e48>, <qat.lang.AQASM.bits.Qbit object at 0x14b174402cf8>, <qat.lang.AQASM.bits.Qbit object at 0x14b11b705470>, <qat.lang.AQASM.bits.Qbit object at 0x14b11b705588>, <qat.lang.AQASM.bits.Qbit object at 0x14b11b705630>, <qat.lang.AQASM.bits.Qbit object at 0x14b11b705748>, <qat.lang.AQASM.bits.Qbit object at 0x14b11b7057f0>, <qat.lang.AQASM.bits.Qbit object at 0x14b11b705908>, <qat.lang.AQASM.bits.Qbit object at 0x14b11b7059b0>, <qat.lang.AQASM.bits.Qbit object at 0x14b11b705ac8>, <qat.lang.AQASM.bits.Qbit object at 0x14b11b705b70>, <qat.lang.AQASM.bits.Qbit object at 0x14b11b705c88>, <qat.lang.AQASM.bits.Qbit object at 0x14b11b705d30>, <qat.lang.AQASM.bits.Qbit object at 0x14b11b705e48>, <qat.lang.AQASM.bits.Qbit object at 0x14b11b705ef0>, <qat.lang.AQASM.bits.Qbit object at 0x14b11b705f98>, <qat.lang.AQASM.bits.Qbit object at 0x14b11b70a048>, <qat.lang.AQASM.bits.Qbit object at 0x14b11b70a208>, <qat.lang.AQASM.bits.Qbit object at 0x14b11b70a2b0>, <qat.lang.AQASM.bits.Qbit object at 0x14b11b70a3c8>, <qat.lang.AQASM.bits.Qbit object at 0x14b11b70a470>, <qat.lang.AQASM.bits.Qbit object at 0x14b11b70a588>, <qat.lang.AQASM.bits.Qbit object at 0x14b11b70a630>, <qat.lang.AQASM.bits.Qbit object at 0x14b11b70a748>, <qat.lang.AQASM.bits.Qbit object at 0x14b11b70a7f0>, <qat.lang.AQASM.bits.Qbit object at 0x14b11b70a908>, <qat.lang.AQASM.bits.Qbit object at 0x14b11b70a9b0>, <qat.lang.AQASM.bits.Qbit object at 0x14b11b70aac8>, <qat.lang.AQASM.bits.Qbit object at 0x14b11b70ab70>, <qat.lang.AQASM.bits.Qbit object at 0x14b11b70ac88>, <qat.lang.AQASM.bits.Qbit object at 0x14b11b70ad30>, <qat.lang.AQASM.bits.Qbit object at 0x14b11b70ae48>, <qat.lang.AQASM.bits.Qbit object at 0x14b11b70aef0>, <qat.lang.AQASM.bits.Qbit object at 0x14b11b70af98>, <qat.lang.AQASM.bits.Qbit object at 0x14b11b70f048>, <qat.lang.AQASM.bits.Qbit object at 0x14b11b70f208>, <qat.lang.AQASM.bits.Qbit object at 0x14b11b70f2b0>, <qat.lang.AQASM.bits.Qbit object at 0x14b11b70f3c8>, <qat.lang.AQASM.bits.Qbit object at 0x14b11b70f470>, <qat.lang.AQASM.bits.Qbit object at 0x14b11b70f588>, <qat.lang.AQASM.bits.Qbit object at 0x14b11b70f630>, <qat.lang.AQASM.bits.Qbit object at 0x14b11b70f748>, <qat.lang.AQASM.bits.Qbit object at 0x14b11b70f7f0>])])\n",
      "Sample(_amplitude=None, probability=0.2, _state=719350153438024, err=0.2, intermediate_measurements=None, qregs=[QRegister(scope=<qat.lang.AQASM.program.Program object at 0x14b11b71fb70>, length=50, start=0, msb=None, qbits=[<qat.lang.AQASM.bits.Qbit object at 0x14b11b71fdd8>, <qat.lang.AQASM.bits.Qbit object at 0x14b11b71fe48>, <qat.lang.AQASM.bits.Qbit object at 0x14b11b71feb8>, <qat.lang.AQASM.bits.Qbit object at 0x14b11b71ff28>, <qat.lang.AQASM.bits.Qbit object at 0x14b11b71ff98>, <qat.lang.AQASM.bits.Qbit object at 0x14b11b71fb00>, <qat.lang.AQASM.bits.Qbit object at 0x14b11b701c18>, <qat.lang.AQASM.bits.Qbit object at 0x14b11b701e48>, <qat.lang.AQASM.bits.Qbit object at 0x14b174402cf8>, <qat.lang.AQASM.bits.Qbit object at 0x14b11b705470>, <qat.lang.AQASM.bits.Qbit object at 0x14b11b705588>, <qat.lang.AQASM.bits.Qbit object at 0x14b11b705630>, <qat.lang.AQASM.bits.Qbit object at 0x14b11b705748>, <qat.lang.AQASM.bits.Qbit object at 0x14b11b7057f0>, <qat.lang.AQASM.bits.Qbit object at 0x14b11b705908>, <qat.lang.AQASM.bits.Qbit object at 0x14b11b7059b0>, <qat.lang.AQASM.bits.Qbit object at 0x14b11b705ac8>, <qat.lang.AQASM.bits.Qbit object at 0x14b11b705b70>, <qat.lang.AQASM.bits.Qbit object at 0x14b11b705c88>, <qat.lang.AQASM.bits.Qbit object at 0x14b11b705d30>, <qat.lang.AQASM.bits.Qbit object at 0x14b11b705e48>, <qat.lang.AQASM.bits.Qbit object at 0x14b11b705ef0>, <qat.lang.AQASM.bits.Qbit object at 0x14b11b705f98>, <qat.lang.AQASM.bits.Qbit object at 0x14b11b70a048>, <qat.lang.AQASM.bits.Qbit object at 0x14b11b70a208>, <qat.lang.AQASM.bits.Qbit object at 0x14b11b70a2b0>, <qat.lang.AQASM.bits.Qbit object at 0x14b11b70a3c8>, <qat.lang.AQASM.bits.Qbit object at 0x14b11b70a470>, <qat.lang.AQASM.bits.Qbit object at 0x14b11b70a588>, <qat.lang.AQASM.bits.Qbit object at 0x14b11b70a630>, <qat.lang.AQASM.bits.Qbit object at 0x14b11b70a748>, <qat.lang.AQASM.bits.Qbit object at 0x14b11b70a7f0>, <qat.lang.AQASM.bits.Qbit object at 0x14b11b70a908>, <qat.lang.AQASM.bits.Qbit object at 0x14b11b70a9b0>, <qat.lang.AQASM.bits.Qbit object at 0x14b11b70aac8>, <qat.lang.AQASM.bits.Qbit object at 0x14b11b70ab70>, <qat.lang.AQASM.bits.Qbit object at 0x14b11b70ac88>, <qat.lang.AQASM.bits.Qbit object at 0x14b11b70ad30>, <qat.lang.AQASM.bits.Qbit object at 0x14b11b70ae48>, <qat.lang.AQASM.bits.Qbit object at 0x14b11b70aef0>, <qat.lang.AQASM.bits.Qbit object at 0x14b11b70af98>, <qat.lang.AQASM.bits.Qbit object at 0x14b11b70f048>, <qat.lang.AQASM.bits.Qbit object at 0x14b11b70f208>, <qat.lang.AQASM.bits.Qbit object at 0x14b11b70f2b0>, <qat.lang.AQASM.bits.Qbit object at 0x14b11b70f3c8>, <qat.lang.AQASM.bits.Qbit object at 0x14b11b70f470>, <qat.lang.AQASM.bits.Qbit object at 0x14b11b70f588>, <qat.lang.AQASM.bits.Qbit object at 0x14b11b70f630>, <qat.lang.AQASM.bits.Qbit object at 0x14b11b70f748>, <qat.lang.AQASM.bits.Qbit object at 0x14b11b70f7f0>])])\n",
      "Sample(_amplitude=None, probability=0.2, _state=381236561252335, err=0.2, intermediate_measurements=None, qregs=[QRegister(scope=<qat.lang.AQASM.program.Program object at 0x14b11b71fb70>, length=50, start=0, msb=None, qbits=[<qat.lang.AQASM.bits.Qbit object at 0x14b11b71fdd8>, <qat.lang.AQASM.bits.Qbit object at 0x14b11b71fe48>, <qat.lang.AQASM.bits.Qbit object at 0x14b11b71feb8>, <qat.lang.AQASM.bits.Qbit object at 0x14b11b71ff28>, <qat.lang.AQASM.bits.Qbit object at 0x14b11b71ff98>, <qat.lang.AQASM.bits.Qbit object at 0x14b11b71fb00>, <qat.lang.AQASM.bits.Qbit object at 0x14b11b701c18>, <qat.lang.AQASM.bits.Qbit object at 0x14b11b701e48>, <qat.lang.AQASM.bits.Qbit object at 0x14b174402cf8>, <qat.lang.AQASM.bits.Qbit object at 0x14b11b705470>, <qat.lang.AQASM.bits.Qbit object at 0x14b11b705588>, <qat.lang.AQASM.bits.Qbit object at 0x14b11b705630>, <qat.lang.AQASM.bits.Qbit object at 0x14b11b705748>, <qat.lang.AQASM.bits.Qbit object at 0x14b11b7057f0>, <qat.lang.AQASM.bits.Qbit object at 0x14b11b705908>, <qat.lang.AQASM.bits.Qbit object at 0x14b11b7059b0>, <qat.lang.AQASM.bits.Qbit object at 0x14b11b705ac8>, <qat.lang.AQASM.bits.Qbit object at 0x14b11b705b70>, <qat.lang.AQASM.bits.Qbit object at 0x14b11b705c88>, <qat.lang.AQASM.bits.Qbit object at 0x14b11b705d30>, <qat.lang.AQASM.bits.Qbit object at 0x14b11b705e48>, <qat.lang.AQASM.bits.Qbit object at 0x14b11b705ef0>, <qat.lang.AQASM.bits.Qbit object at 0x14b11b705f98>, <qat.lang.AQASM.bits.Qbit object at 0x14b11b70a048>, <qat.lang.AQASM.bits.Qbit object at 0x14b11b70a208>, <qat.lang.AQASM.bits.Qbit object at 0x14b11b70a2b0>, <qat.lang.AQASM.bits.Qbit object at 0x14b11b70a3c8>, <qat.lang.AQASM.bits.Qbit object at 0x14b11b70a470>, <qat.lang.AQASM.bits.Qbit object at 0x14b11b70a588>, <qat.lang.AQASM.bits.Qbit object at 0x14b11b70a630>, <qat.lang.AQASM.bits.Qbit object at 0x14b11b70a748>, <qat.lang.AQASM.bits.Qbit object at 0x14b11b70a7f0>, <qat.lang.AQASM.bits.Qbit object at 0x14b11b70a908>, <qat.lang.AQASM.bits.Qbit object at 0x14b11b70a9b0>, <qat.lang.AQASM.bits.Qbit object at 0x14b11b70aac8>, <qat.lang.AQASM.bits.Qbit object at 0x14b11b70ab70>, <qat.lang.AQASM.bits.Qbit object at 0x14b11b70ac88>, <qat.lang.AQASM.bits.Qbit object at 0x14b11b70ad30>, <qat.lang.AQASM.bits.Qbit object at 0x14b11b70ae48>, <qat.lang.AQASM.bits.Qbit object at 0x14b11b70aef0>, <qat.lang.AQASM.bits.Qbit object at 0x14b11b70af98>, <qat.lang.AQASM.bits.Qbit object at 0x14b11b70f048>, <qat.lang.AQASM.bits.Qbit object at 0x14b11b70f208>, <qat.lang.AQASM.bits.Qbit object at 0x14b11b70f2b0>, <qat.lang.AQASM.bits.Qbit object at 0x14b11b70f3c8>, <qat.lang.AQASM.bits.Qbit object at 0x14b11b70f470>, <qat.lang.AQASM.bits.Qbit object at 0x14b11b70f588>, <qat.lang.AQASM.bits.Qbit object at 0x14b11b70f630>, <qat.lang.AQASM.bits.Qbit object at 0x14b11b70f748>, <qat.lang.AQASM.bits.Qbit object at 0x14b11b70f7f0>])])\n"
     ]
    }
   ],
   "source": [
    "# Running on MPS simulator, on even more qubits.\n",
    "from qat.mps import MPS \n",
    "\n",
    "nqbits = 50\n",
    "prog = Program()\n",
    "reg = prog.qalloc(nqbits)\n",
    "prog.apply(QFT(nqbits), reg)\n",
    "qft_c = prog.to_circ()\n",
    "\n",
    "job = qft_c.to_job(nbshots=5) # Note that we are leaving aggregate_data to default True\n",
    "\n",
    "# Since evaluating the true memory requirement of qat-mps is a\n",
    "# very difficult problem, our current memory model will sometimes\n",
    "# reject a legitimate computation.  Setting\n",
    "# disable_resource_management to True allows to override the model,\n",
    "# at the cost of losing guarantees about memory.\n",
    "qpu = MPS(lnnize=True, disable_resource_management=True) # making circuit MPS-compatible. \n",
    "\n",
    "res = qpu.submit(job)\n",
    "\n",
    "for sample in res:\n",
    "    print(sample)"
   ]
  },
  {
   "cell_type": "code",
   "execution_count": 6,
   "metadata": {},
   "outputs": [
    {
     "name": "stdout",
     "output_type": "stream",
     "text": [
      "Expected Exception since Stabs support only Clifford gates\n"
     ]
    }
   ],
   "source": [
    "# Running on stabs, even though we know it won't work.\n",
    "from qat.stabs import Stabs\n",
    "\n",
    "try:\n",
    "    qpu = Stabs()\n",
    "    qpu.submit(job)\n",
    "except:\n",
    "    print(\"Expected Exception since Stabs support only Clifford gates\")"
   ]
  },
  {
   "cell_type": "markdown",
   "metadata": {},
   "source": [
    "### Observations:\n",
    "- As expected, the QFT does not run on the stabilizer simulator, because it contains non-Clifford gates <br><br>\n",
    "- The MPS simulator needs an option called \"lnnize\": by construction, it only acceps circuits containing gates acting on neighboring qubits. The lnnize options tells the simulator to insert SWAP gates in the circuit, in order to make it compliant with this toplogical constraint <br><br>\n",
    "- You could also make the circuit compliant beforehand, by calling the qat-nnizer module on it. More work for optimization has been put into it, and it should return better results for large nnization tasks. However, it will also be slower, and it might be faster overall to call the simpler built-in nnizer, and spend computation time on actual simulation. <br><br>\n",
    "- The Feynman (path integral-based) and linear algebra simulators are flexible enough to accept the circuit as it is. However, because we start from $\\left|0...0\\right>$, and the QFT does not produce much entanglement, MPS is faster and uses less memory.\n",
    "\n",
    "The advantage of MPS on the QFT is best shown by running a 50 qubit example, which is unconceivable on linalg or feynman."
   ]
  },
  {
   "cell_type": "markdown",
   "metadata": {},
   "source": [
    "## Quantum arithmetics: Toffoli-based adder\n",
    "\n",
    "Being a \"classical circuit\", in the sense that it sends computational basis states to other computational basis states, it should highlight the potential of the path-integral simulator (qat.feynman).\n",
    "\n",
    "It is also slightly entangling, so the MPS simulator should also behave nicely on this example.\n",
    "\n",
    "Such arithmetics circuits are typically used in Shor's algorithm. Simulating them as we do here could for instance be useful for debugging purposes, before inserting them into more complicated routines."
   ]
  },
  {
   "cell_type": "code",
   "execution_count": 7,
   "metadata": {},
   "outputs": [
    {
     "name": "stderr",
     "output_type": "stream",
     "text": [
      "UsageError: Line magic function `%jsqatdisplay` not found.\n"
     ]
    }
   ],
   "source": [
    "from qat.lang.AQASM.classarith import add\n",
    "\n",
    "nqbits = 20\n",
    "prog = Program()\n",
    "reg = prog.qalloc(nqbits)\n",
    "for qb in reg[::2]:\n",
    "    prog.apply(X, qb)     # slightly modifying the input to check the output.\n",
    "prog.apply(add(10,10), reg)     # add(5) takes a register of size 5 and adds its state \n",
    "                            # to a register of size 5 + 1.\n",
    "                            # it also uses a third register of 5 qbits.\n",
    "                            # hence the 16 = 5 + 1 + 5 + 5 qbits\n",
    "                            # By convention, the state of the second register \n",
    "                            # (qb 5 to 9) is added to the first (qb 0 to 5).\n",
    "        \n",
    "adder_c = prog.to_circ()\n",
    "%jsqatdisplay adder_c"
   ]
  },
  {
   "cell_type": "code",
   "execution_count": 8,
   "metadata": {},
   "outputs": [
    {
     "name": "stdout",
     "output_type": "stream",
     "text": [
      "Sample(_amplitude=None, probability=None, _state=349866, err=None, intermediate_measurements=[], qregs=[QRegister(scope=<qat.lang.AQASM.program.Program object at 0x14b11b7d0780>, length=20, start=0, msb=None, qbits=[<qat.lang.AQASM.bits.Qbit object at 0x14b11b7d09e8>, <qat.lang.AQASM.bits.Qbit object at 0x14b11b7c83c8>, <qat.lang.AQASM.bits.Qbit object at 0x14b11b7d0ac8>, <qat.lang.AQASM.bits.Qbit object at 0x14b11b7c8438>, <qat.lang.AQASM.bits.Qbit object at 0x14b11b7d0ba8>, <qat.lang.AQASM.bits.Qbit object at 0x14b11b7c84a8>, <qat.lang.AQASM.bits.Qbit object at 0x14b11b7d0c88>, <qat.lang.AQASM.bits.Qbit object at 0x14b11b7c8518>, <qat.lang.AQASM.bits.Qbit object at 0x14b11b7d0d68>, <qat.lang.AQASM.bits.Qbit object at 0x14b11b7c8588>, <qat.lang.AQASM.bits.Qbit object at 0x14b11b7d0e48>, <qat.lang.AQASM.bits.Qbit object at 0x14b11b7c85f8>, <qat.lang.AQASM.bits.Qbit object at 0x14b11b7d0f28>, <qat.lang.AQASM.bits.Qbit object at 0x14b11b7c8668>, <qat.lang.AQASM.bits.Qbit object at 0x14b11b7c8048>, <qat.lang.AQASM.bits.Qbit object at 0x14b11b7c86d8>, <qat.lang.AQASM.bits.Qbit object at 0x14b11b7c8128>, <qat.lang.AQASM.bits.Qbit object at 0x14b11b7c8748>, <qat.lang.AQASM.bits.Qbit object at 0x14b11b7c8208>, <qat.lang.AQASM.bits.Qbit object at 0x14b11b7c87b8>])])\n",
      "Sample(_amplitude=None, probability=None, _state=349866, err=None, intermediate_measurements=[], qregs=[QRegister(scope=<qat.lang.AQASM.program.Program object at 0x14b11b7d0780>, length=20, start=0, msb=None, qbits=[<qat.lang.AQASM.bits.Qbit object at 0x14b11b7d09e8>, <qat.lang.AQASM.bits.Qbit object at 0x14b11b7c83c8>, <qat.lang.AQASM.bits.Qbit object at 0x14b11b7d0ac8>, <qat.lang.AQASM.bits.Qbit object at 0x14b11b7c8438>, <qat.lang.AQASM.bits.Qbit object at 0x14b11b7d0ba8>, <qat.lang.AQASM.bits.Qbit object at 0x14b11b7c84a8>, <qat.lang.AQASM.bits.Qbit object at 0x14b11b7d0c88>, <qat.lang.AQASM.bits.Qbit object at 0x14b11b7c8518>, <qat.lang.AQASM.bits.Qbit object at 0x14b11b7d0d68>, <qat.lang.AQASM.bits.Qbit object at 0x14b11b7c8588>, <qat.lang.AQASM.bits.Qbit object at 0x14b11b7d0e48>, <qat.lang.AQASM.bits.Qbit object at 0x14b11b7c85f8>, <qat.lang.AQASM.bits.Qbit object at 0x14b11b7d0f28>, <qat.lang.AQASM.bits.Qbit object at 0x14b11b7c8668>, <qat.lang.AQASM.bits.Qbit object at 0x14b11b7c8048>, <qat.lang.AQASM.bits.Qbit object at 0x14b11b7c86d8>, <qat.lang.AQASM.bits.Qbit object at 0x14b11b7c8128>, <qat.lang.AQASM.bits.Qbit object at 0x14b11b7c8748>, <qat.lang.AQASM.bits.Qbit object at 0x14b11b7c8208>, <qat.lang.AQASM.bits.Qbit object at 0x14b11b7c87b8>])])\n",
      "Sample(_amplitude=None, probability=None, _state=349866, err=None, intermediate_measurements=[], qregs=[QRegister(scope=<qat.lang.AQASM.program.Program object at 0x14b11b7d0780>, length=20, start=0, msb=None, qbits=[<qat.lang.AQASM.bits.Qbit object at 0x14b11b7d09e8>, <qat.lang.AQASM.bits.Qbit object at 0x14b11b7c83c8>, <qat.lang.AQASM.bits.Qbit object at 0x14b11b7d0ac8>, <qat.lang.AQASM.bits.Qbit object at 0x14b11b7c8438>, <qat.lang.AQASM.bits.Qbit object at 0x14b11b7d0ba8>, <qat.lang.AQASM.bits.Qbit object at 0x14b11b7c84a8>, <qat.lang.AQASM.bits.Qbit object at 0x14b11b7d0c88>, <qat.lang.AQASM.bits.Qbit object at 0x14b11b7c8518>, <qat.lang.AQASM.bits.Qbit object at 0x14b11b7d0d68>, <qat.lang.AQASM.bits.Qbit object at 0x14b11b7c8588>, <qat.lang.AQASM.bits.Qbit object at 0x14b11b7d0e48>, <qat.lang.AQASM.bits.Qbit object at 0x14b11b7c85f8>, <qat.lang.AQASM.bits.Qbit object at 0x14b11b7d0f28>, <qat.lang.AQASM.bits.Qbit object at 0x14b11b7c8668>, <qat.lang.AQASM.bits.Qbit object at 0x14b11b7c8048>, <qat.lang.AQASM.bits.Qbit object at 0x14b11b7c86d8>, <qat.lang.AQASM.bits.Qbit object at 0x14b11b7c8128>, <qat.lang.AQASM.bits.Qbit object at 0x14b11b7c8748>, <qat.lang.AQASM.bits.Qbit object at 0x14b11b7c8208>, <qat.lang.AQASM.bits.Qbit object at 0x14b11b7c87b8>])])\n",
      "Sample(_amplitude=None, probability=None, _state=349866, err=None, intermediate_measurements=[], qregs=[QRegister(scope=<qat.lang.AQASM.program.Program object at 0x14b11b7d0780>, length=20, start=0, msb=None, qbits=[<qat.lang.AQASM.bits.Qbit object at 0x14b11b7d09e8>, <qat.lang.AQASM.bits.Qbit object at 0x14b11b7c83c8>, <qat.lang.AQASM.bits.Qbit object at 0x14b11b7d0ac8>, <qat.lang.AQASM.bits.Qbit object at 0x14b11b7c8438>, <qat.lang.AQASM.bits.Qbit object at 0x14b11b7d0ba8>, <qat.lang.AQASM.bits.Qbit object at 0x14b11b7c84a8>, <qat.lang.AQASM.bits.Qbit object at 0x14b11b7d0c88>, <qat.lang.AQASM.bits.Qbit object at 0x14b11b7c8518>, <qat.lang.AQASM.bits.Qbit object at 0x14b11b7d0d68>, <qat.lang.AQASM.bits.Qbit object at 0x14b11b7c8588>, <qat.lang.AQASM.bits.Qbit object at 0x14b11b7d0e48>, <qat.lang.AQASM.bits.Qbit object at 0x14b11b7c85f8>, <qat.lang.AQASM.bits.Qbit object at 0x14b11b7d0f28>, <qat.lang.AQASM.bits.Qbit object at 0x14b11b7c8668>, <qat.lang.AQASM.bits.Qbit object at 0x14b11b7c8048>, <qat.lang.AQASM.bits.Qbit object at 0x14b11b7c86d8>, <qat.lang.AQASM.bits.Qbit object at 0x14b11b7c8128>, <qat.lang.AQASM.bits.Qbit object at 0x14b11b7c8748>, <qat.lang.AQASM.bits.Qbit object at 0x14b11b7c8208>, <qat.lang.AQASM.bits.Qbit object at 0x14b11b7c87b8>])])\n",
      "Sample(_amplitude=None, probability=None, _state=349866, err=None, intermediate_measurements=[], qregs=[QRegister(scope=<qat.lang.AQASM.program.Program object at 0x14b11b7d0780>, length=20, start=0, msb=None, qbits=[<qat.lang.AQASM.bits.Qbit object at 0x14b11b7d09e8>, <qat.lang.AQASM.bits.Qbit object at 0x14b11b7c83c8>, <qat.lang.AQASM.bits.Qbit object at 0x14b11b7d0ac8>, <qat.lang.AQASM.bits.Qbit object at 0x14b11b7c8438>, <qat.lang.AQASM.bits.Qbit object at 0x14b11b7d0ba8>, <qat.lang.AQASM.bits.Qbit object at 0x14b11b7c84a8>, <qat.lang.AQASM.bits.Qbit object at 0x14b11b7d0c88>, <qat.lang.AQASM.bits.Qbit object at 0x14b11b7c8518>, <qat.lang.AQASM.bits.Qbit object at 0x14b11b7d0d68>, <qat.lang.AQASM.bits.Qbit object at 0x14b11b7c8588>, <qat.lang.AQASM.bits.Qbit object at 0x14b11b7d0e48>, <qat.lang.AQASM.bits.Qbit object at 0x14b11b7c85f8>, <qat.lang.AQASM.bits.Qbit object at 0x14b11b7d0f28>, <qat.lang.AQASM.bits.Qbit object at 0x14b11b7c8668>, <qat.lang.AQASM.bits.Qbit object at 0x14b11b7c8048>, <qat.lang.AQASM.bits.Qbit object at 0x14b11b7c86d8>, <qat.lang.AQASM.bits.Qbit object at 0x14b11b7c8128>, <qat.lang.AQASM.bits.Qbit object at 0x14b11b7c8748>, <qat.lang.AQASM.bits.Qbit object at 0x14b11b7c8208>, <qat.lang.AQASM.bits.Qbit object at 0x14b11b7c87b8>])])\n",
      "Sample(_amplitude=None, probability=None, _state=349866, err=None, intermediate_measurements=[], qregs=[QRegister(scope=<qat.lang.AQASM.program.Program object at 0x14b11b7d0780>, length=20, start=0, msb=None, qbits=[<qat.lang.AQASM.bits.Qbit object at 0x14b11b7d09e8>, <qat.lang.AQASM.bits.Qbit object at 0x14b11b7c83c8>, <qat.lang.AQASM.bits.Qbit object at 0x14b11b7d0ac8>, <qat.lang.AQASM.bits.Qbit object at 0x14b11b7c8438>, <qat.lang.AQASM.bits.Qbit object at 0x14b11b7d0ba8>, <qat.lang.AQASM.bits.Qbit object at 0x14b11b7c84a8>, <qat.lang.AQASM.bits.Qbit object at 0x14b11b7d0c88>, <qat.lang.AQASM.bits.Qbit object at 0x14b11b7c8518>, <qat.lang.AQASM.bits.Qbit object at 0x14b11b7d0d68>, <qat.lang.AQASM.bits.Qbit object at 0x14b11b7c8588>, <qat.lang.AQASM.bits.Qbit object at 0x14b11b7d0e48>, <qat.lang.AQASM.bits.Qbit object at 0x14b11b7c85f8>, <qat.lang.AQASM.bits.Qbit object at 0x14b11b7d0f28>, <qat.lang.AQASM.bits.Qbit object at 0x14b11b7c8668>, <qat.lang.AQASM.bits.Qbit object at 0x14b11b7c8048>, <qat.lang.AQASM.bits.Qbit object at 0x14b11b7c86d8>, <qat.lang.AQASM.bits.Qbit object at 0x14b11b7c8128>, <qat.lang.AQASM.bits.Qbit object at 0x14b11b7c8748>, <qat.lang.AQASM.bits.Qbit object at 0x14b11b7c8208>, <qat.lang.AQASM.bits.Qbit object at 0x14b11b7c87b8>])])\n",
      "Sample(_amplitude=None, probability=None, _state=349866, err=None, intermediate_measurements=[], qregs=[QRegister(scope=<qat.lang.AQASM.program.Program object at 0x14b11b7d0780>, length=20, start=0, msb=None, qbits=[<qat.lang.AQASM.bits.Qbit object at 0x14b11b7d09e8>, <qat.lang.AQASM.bits.Qbit object at 0x14b11b7c83c8>, <qat.lang.AQASM.bits.Qbit object at 0x14b11b7d0ac8>, <qat.lang.AQASM.bits.Qbit object at 0x14b11b7c8438>, <qat.lang.AQASM.bits.Qbit object at 0x14b11b7d0ba8>, <qat.lang.AQASM.bits.Qbit object at 0x14b11b7c84a8>, <qat.lang.AQASM.bits.Qbit object at 0x14b11b7d0c88>, <qat.lang.AQASM.bits.Qbit object at 0x14b11b7c8518>, <qat.lang.AQASM.bits.Qbit object at 0x14b11b7d0d68>, <qat.lang.AQASM.bits.Qbit object at 0x14b11b7c8588>, <qat.lang.AQASM.bits.Qbit object at 0x14b11b7d0e48>, <qat.lang.AQASM.bits.Qbit object at 0x14b11b7c85f8>, <qat.lang.AQASM.bits.Qbit object at 0x14b11b7d0f28>, <qat.lang.AQASM.bits.Qbit object at 0x14b11b7c8668>, <qat.lang.AQASM.bits.Qbit object at 0x14b11b7c8048>, <qat.lang.AQASM.bits.Qbit object at 0x14b11b7c86d8>, <qat.lang.AQASM.bits.Qbit object at 0x14b11b7c8128>, <qat.lang.AQASM.bits.Qbit object at 0x14b11b7c8748>, <qat.lang.AQASM.bits.Qbit object at 0x14b11b7c8208>, <qat.lang.AQASM.bits.Qbit object at 0x14b11b7c87b8>])])\n"
     ]
    }
   ],
   "source": [
    "job = adder_c.to_job(nbshots=7,aggregate_data=False)\n",
    "\n",
    "qpu = MPS(lnnize=True)\n",
    "\n",
    "res = qpu.submit(job)\n",
    "\n",
    "for sample in res:\n",
    "    print(sample)"
   ]
  },
  {
   "cell_type": "code",
   "execution_count": 9,
   "metadata": {},
   "outputs": [
    {
     "name": "stdout",
     "output_type": "stream",
     "text": [
      "Sample(_state=349866, probability=None, _amplitude=None, intermediate_measurements=None, err=None, qregs=[QRegister(scope=<qat.lang.AQASM.program.Program object at 0x14b11b7eff98>, length=20, start=0, msb=None, qbits=[<qat.lang.AQASM.bits.Qbit object at 0x14b11b7c2390>, <qat.lang.AQASM.bits.Qbit object at 0x14b11b7effd0>, <qat.lang.AQASM.bits.Qbit object at 0x14b11b7c2470>, <qat.lang.AQASM.bits.Qbit object at 0x14b11b7efc50>, <qat.lang.AQASM.bits.Qbit object at 0x14b11b7c2550>, <qat.lang.AQASM.bits.Qbit object at 0x14b11b7efb38>, <qat.lang.AQASM.bits.Qbit object at 0x14b11b7c2630>, <qat.lang.AQASM.bits.Qbit object at 0x14b11b7ef9e8>, <qat.lang.AQASM.bits.Qbit object at 0x14b11b7c2710>, <qat.lang.AQASM.bits.Qbit object at 0x14b11b7efa90>, <qat.lang.AQASM.bits.Qbit object at 0x14b11b7c27f0>, <qat.lang.AQASM.bits.Qbit object at 0x14b11b7efcc0>, <qat.lang.AQASM.bits.Qbit object at 0x14b11b7c28d0>, <qat.lang.AQASM.bits.Qbit object at 0x14b11b7efc88>, <qat.lang.AQASM.bits.Qbit object at 0x14b11b7c29b0>, <qat.lang.AQASM.bits.Qbit object at 0x14b11b7efdd8>, <qat.lang.AQASM.bits.Qbit object at 0x14b11b7c2a90>, <qat.lang.AQASM.bits.Qbit object at 0x14b11b7efd68>, <qat.lang.AQASM.bits.Qbit object at 0x14b11b7c2b70>, <qat.lang.AQASM.bits.Qbit object at 0x14b11b7efc18>])])\n",
      "Sample(_state=349866, probability=None, _amplitude=None, intermediate_measurements=None, err=None, qregs=[QRegister(scope=<qat.lang.AQASM.program.Program object at 0x14b11b7eff98>, length=20, start=0, msb=None, qbits=[<qat.lang.AQASM.bits.Qbit object at 0x14b11b7c2390>, <qat.lang.AQASM.bits.Qbit object at 0x14b11b7effd0>, <qat.lang.AQASM.bits.Qbit object at 0x14b11b7c2470>, <qat.lang.AQASM.bits.Qbit object at 0x14b11b7efc50>, <qat.lang.AQASM.bits.Qbit object at 0x14b11b7c2550>, <qat.lang.AQASM.bits.Qbit object at 0x14b11b7efb38>, <qat.lang.AQASM.bits.Qbit object at 0x14b11b7c2630>, <qat.lang.AQASM.bits.Qbit object at 0x14b11b7ef9e8>, <qat.lang.AQASM.bits.Qbit object at 0x14b11b7c2710>, <qat.lang.AQASM.bits.Qbit object at 0x14b11b7efa90>, <qat.lang.AQASM.bits.Qbit object at 0x14b11b7c27f0>, <qat.lang.AQASM.bits.Qbit object at 0x14b11b7efcc0>, <qat.lang.AQASM.bits.Qbit object at 0x14b11b7c28d0>, <qat.lang.AQASM.bits.Qbit object at 0x14b11b7efc88>, <qat.lang.AQASM.bits.Qbit object at 0x14b11b7c29b0>, <qat.lang.AQASM.bits.Qbit object at 0x14b11b7efdd8>, <qat.lang.AQASM.bits.Qbit object at 0x14b11b7c2a90>, <qat.lang.AQASM.bits.Qbit object at 0x14b11b7efd68>, <qat.lang.AQASM.bits.Qbit object at 0x14b11b7c2b70>, <qat.lang.AQASM.bits.Qbit object at 0x14b11b7efc18>])])\n",
      "Sample(_state=349866, probability=None, _amplitude=None, intermediate_measurements=None, err=None, qregs=[QRegister(scope=<qat.lang.AQASM.program.Program object at 0x14b11b7eff98>, length=20, start=0, msb=None, qbits=[<qat.lang.AQASM.bits.Qbit object at 0x14b11b7c2390>, <qat.lang.AQASM.bits.Qbit object at 0x14b11b7effd0>, <qat.lang.AQASM.bits.Qbit object at 0x14b11b7c2470>, <qat.lang.AQASM.bits.Qbit object at 0x14b11b7efc50>, <qat.lang.AQASM.bits.Qbit object at 0x14b11b7c2550>, <qat.lang.AQASM.bits.Qbit object at 0x14b11b7efb38>, <qat.lang.AQASM.bits.Qbit object at 0x14b11b7c2630>, <qat.lang.AQASM.bits.Qbit object at 0x14b11b7ef9e8>, <qat.lang.AQASM.bits.Qbit object at 0x14b11b7c2710>, <qat.lang.AQASM.bits.Qbit object at 0x14b11b7efa90>, <qat.lang.AQASM.bits.Qbit object at 0x14b11b7c27f0>, <qat.lang.AQASM.bits.Qbit object at 0x14b11b7efcc0>, <qat.lang.AQASM.bits.Qbit object at 0x14b11b7c28d0>, <qat.lang.AQASM.bits.Qbit object at 0x14b11b7efc88>, <qat.lang.AQASM.bits.Qbit object at 0x14b11b7c29b0>, <qat.lang.AQASM.bits.Qbit object at 0x14b11b7efdd8>, <qat.lang.AQASM.bits.Qbit object at 0x14b11b7c2a90>, <qat.lang.AQASM.bits.Qbit object at 0x14b11b7efd68>, <qat.lang.AQASM.bits.Qbit object at 0x14b11b7c2b70>, <qat.lang.AQASM.bits.Qbit object at 0x14b11b7efc18>])])\n",
      "Sample(_state=349866, probability=None, _amplitude=None, intermediate_measurements=None, err=None, qregs=[QRegister(scope=<qat.lang.AQASM.program.Program object at 0x14b11b7eff98>, length=20, start=0, msb=None, qbits=[<qat.lang.AQASM.bits.Qbit object at 0x14b11b7c2390>, <qat.lang.AQASM.bits.Qbit object at 0x14b11b7effd0>, <qat.lang.AQASM.bits.Qbit object at 0x14b11b7c2470>, <qat.lang.AQASM.bits.Qbit object at 0x14b11b7efc50>, <qat.lang.AQASM.bits.Qbit object at 0x14b11b7c2550>, <qat.lang.AQASM.bits.Qbit object at 0x14b11b7efb38>, <qat.lang.AQASM.bits.Qbit object at 0x14b11b7c2630>, <qat.lang.AQASM.bits.Qbit object at 0x14b11b7ef9e8>, <qat.lang.AQASM.bits.Qbit object at 0x14b11b7c2710>, <qat.lang.AQASM.bits.Qbit object at 0x14b11b7efa90>, <qat.lang.AQASM.bits.Qbit object at 0x14b11b7c27f0>, <qat.lang.AQASM.bits.Qbit object at 0x14b11b7efcc0>, <qat.lang.AQASM.bits.Qbit object at 0x14b11b7c28d0>, <qat.lang.AQASM.bits.Qbit object at 0x14b11b7efc88>, <qat.lang.AQASM.bits.Qbit object at 0x14b11b7c29b0>, <qat.lang.AQASM.bits.Qbit object at 0x14b11b7efdd8>, <qat.lang.AQASM.bits.Qbit object at 0x14b11b7c2a90>, <qat.lang.AQASM.bits.Qbit object at 0x14b11b7efd68>, <qat.lang.AQASM.bits.Qbit object at 0x14b11b7c2b70>, <qat.lang.AQASM.bits.Qbit object at 0x14b11b7efc18>])])\n",
      "Sample(_state=349866, probability=None, _amplitude=None, intermediate_measurements=None, err=None, qregs=[QRegister(scope=<qat.lang.AQASM.program.Program object at 0x14b11b7eff98>, length=20, start=0, msb=None, qbits=[<qat.lang.AQASM.bits.Qbit object at 0x14b11b7c2390>, <qat.lang.AQASM.bits.Qbit object at 0x14b11b7effd0>, <qat.lang.AQASM.bits.Qbit object at 0x14b11b7c2470>, <qat.lang.AQASM.bits.Qbit object at 0x14b11b7efc50>, <qat.lang.AQASM.bits.Qbit object at 0x14b11b7c2550>, <qat.lang.AQASM.bits.Qbit object at 0x14b11b7efb38>, <qat.lang.AQASM.bits.Qbit object at 0x14b11b7c2630>, <qat.lang.AQASM.bits.Qbit object at 0x14b11b7ef9e8>, <qat.lang.AQASM.bits.Qbit object at 0x14b11b7c2710>, <qat.lang.AQASM.bits.Qbit object at 0x14b11b7efa90>, <qat.lang.AQASM.bits.Qbit object at 0x14b11b7c27f0>, <qat.lang.AQASM.bits.Qbit object at 0x14b11b7efcc0>, <qat.lang.AQASM.bits.Qbit object at 0x14b11b7c28d0>, <qat.lang.AQASM.bits.Qbit object at 0x14b11b7efc88>, <qat.lang.AQASM.bits.Qbit object at 0x14b11b7c29b0>, <qat.lang.AQASM.bits.Qbit object at 0x14b11b7efdd8>, <qat.lang.AQASM.bits.Qbit object at 0x14b11b7c2a90>, <qat.lang.AQASM.bits.Qbit object at 0x14b11b7efd68>, <qat.lang.AQASM.bits.Qbit object at 0x14b11b7c2b70>, <qat.lang.AQASM.bits.Qbit object at 0x14b11b7efc18>])])\n",
      "Sample(_state=349866, probability=None, _amplitude=None, intermediate_measurements=None, err=None, qregs=[QRegister(scope=<qat.lang.AQASM.program.Program object at 0x14b11b7eff98>, length=20, start=0, msb=None, qbits=[<qat.lang.AQASM.bits.Qbit object at 0x14b11b7c2390>, <qat.lang.AQASM.bits.Qbit object at 0x14b11b7effd0>, <qat.lang.AQASM.bits.Qbit object at 0x14b11b7c2470>, <qat.lang.AQASM.bits.Qbit object at 0x14b11b7efc50>, <qat.lang.AQASM.bits.Qbit object at 0x14b11b7c2550>, <qat.lang.AQASM.bits.Qbit object at 0x14b11b7efb38>, <qat.lang.AQASM.bits.Qbit object at 0x14b11b7c2630>, <qat.lang.AQASM.bits.Qbit object at 0x14b11b7ef9e8>, <qat.lang.AQASM.bits.Qbit object at 0x14b11b7c2710>, <qat.lang.AQASM.bits.Qbit object at 0x14b11b7efa90>, <qat.lang.AQASM.bits.Qbit object at 0x14b11b7c27f0>, <qat.lang.AQASM.bits.Qbit object at 0x14b11b7efcc0>, <qat.lang.AQASM.bits.Qbit object at 0x14b11b7c28d0>, <qat.lang.AQASM.bits.Qbit object at 0x14b11b7efc88>, <qat.lang.AQASM.bits.Qbit object at 0x14b11b7c29b0>, <qat.lang.AQASM.bits.Qbit object at 0x14b11b7efdd8>, <qat.lang.AQASM.bits.Qbit object at 0x14b11b7c2a90>, <qat.lang.AQASM.bits.Qbit object at 0x14b11b7efd68>, <qat.lang.AQASM.bits.Qbit object at 0x14b11b7c2b70>, <qat.lang.AQASM.bits.Qbit object at 0x14b11b7efc18>])])\n",
      "Sample(_state=349866, probability=None, _amplitude=None, intermediate_measurements=None, err=None, qregs=[QRegister(scope=<qat.lang.AQASM.program.Program object at 0x14b11b7eff98>, length=20, start=0, msb=None, qbits=[<qat.lang.AQASM.bits.Qbit object at 0x14b11b7c2390>, <qat.lang.AQASM.bits.Qbit object at 0x14b11b7effd0>, <qat.lang.AQASM.bits.Qbit object at 0x14b11b7c2470>, <qat.lang.AQASM.bits.Qbit object at 0x14b11b7efc50>, <qat.lang.AQASM.bits.Qbit object at 0x14b11b7c2550>, <qat.lang.AQASM.bits.Qbit object at 0x14b11b7efb38>, <qat.lang.AQASM.bits.Qbit object at 0x14b11b7c2630>, <qat.lang.AQASM.bits.Qbit object at 0x14b11b7ef9e8>, <qat.lang.AQASM.bits.Qbit object at 0x14b11b7c2710>, <qat.lang.AQASM.bits.Qbit object at 0x14b11b7efa90>, <qat.lang.AQASM.bits.Qbit object at 0x14b11b7c27f0>, <qat.lang.AQASM.bits.Qbit object at 0x14b11b7efcc0>, <qat.lang.AQASM.bits.Qbit object at 0x14b11b7c28d0>, <qat.lang.AQASM.bits.Qbit object at 0x14b11b7efc88>, <qat.lang.AQASM.bits.Qbit object at 0x14b11b7c29b0>, <qat.lang.AQASM.bits.Qbit object at 0x14b11b7efdd8>, <qat.lang.AQASM.bits.Qbit object at 0x14b11b7c2a90>, <qat.lang.AQASM.bits.Qbit object at 0x14b11b7efd68>, <qat.lang.AQASM.bits.Qbit object at 0x14b11b7c2b70>, <qat.lang.AQASM.bits.Qbit object at 0x14b11b7efc18>])])\n"
     ]
    }
   ],
   "source": [
    "qpu = Feynman()\n",
    "\n",
    "res = qpu.submit(job)\n",
    "\n",
    "for sample in res:\n",
    "    print(sample)"
   ]
  },
  {
   "cell_type": "code",
   "execution_count": 10,
   "metadata": {},
   "outputs": [
    {
     "name": "stdout",
     "output_type": "stream",
     "text": [
      "Sample(_state=349866, probability=None, _amplitude=None, intermediate_measurements=None, err=None, qregs=[QRegister(scope=<qat.lang.AQASM.program.Program object at 0x14b11b727ac8>, length=20, start=0, msb=None, qbits=[<qat.lang.AQASM.bits.Qbit object at 0x14b11b727e48>, <qat.lang.AQASM.bits.Qbit object at 0x14b1238767b8>, <qat.lang.AQASM.bits.Qbit object at 0x14b11b727f28>, <qat.lang.AQASM.bits.Qbit object at 0x14b123876828>, <qat.lang.AQASM.bits.Qbit object at 0x14b11b7efd30>, <qat.lang.AQASM.bits.Qbit object at 0x14b123876898>, <qat.lang.AQASM.bits.Qbit object at 0x14b1238760b8>, <qat.lang.AQASM.bits.Qbit object at 0x14b123876908>, <qat.lang.AQASM.bits.Qbit object at 0x14b123876198>, <qat.lang.AQASM.bits.Qbit object at 0x14b123876978>, <qat.lang.AQASM.bits.Qbit object at 0x14b123876278>, <qat.lang.AQASM.bits.Qbit object at 0x14b1238769e8>, <qat.lang.AQASM.bits.Qbit object at 0x14b123876358>, <qat.lang.AQASM.bits.Qbit object at 0x14b123876a58>, <qat.lang.AQASM.bits.Qbit object at 0x14b123876438>, <qat.lang.AQASM.bits.Qbit object at 0x14b123876ac8>, <qat.lang.AQASM.bits.Qbit object at 0x14b123876518>, <qat.lang.AQASM.bits.Qbit object at 0x14b123876b38>, <qat.lang.AQASM.bits.Qbit object at 0x14b1238765f8>, <qat.lang.AQASM.bits.Qbit object at 0x14b123876ba8>])])\n",
      "Sample(_state=349866, probability=None, _amplitude=None, intermediate_measurements=None, err=None, qregs=[QRegister(scope=<qat.lang.AQASM.program.Program object at 0x14b11b727ac8>, length=20, start=0, msb=None, qbits=[<qat.lang.AQASM.bits.Qbit object at 0x14b11b727e48>, <qat.lang.AQASM.bits.Qbit object at 0x14b1238767b8>, <qat.lang.AQASM.bits.Qbit object at 0x14b11b727f28>, <qat.lang.AQASM.bits.Qbit object at 0x14b123876828>, <qat.lang.AQASM.bits.Qbit object at 0x14b11b7efd30>, <qat.lang.AQASM.bits.Qbit object at 0x14b123876898>, <qat.lang.AQASM.bits.Qbit object at 0x14b1238760b8>, <qat.lang.AQASM.bits.Qbit object at 0x14b123876908>, <qat.lang.AQASM.bits.Qbit object at 0x14b123876198>, <qat.lang.AQASM.bits.Qbit object at 0x14b123876978>, <qat.lang.AQASM.bits.Qbit object at 0x14b123876278>, <qat.lang.AQASM.bits.Qbit object at 0x14b1238769e8>, <qat.lang.AQASM.bits.Qbit object at 0x14b123876358>, <qat.lang.AQASM.bits.Qbit object at 0x14b123876a58>, <qat.lang.AQASM.bits.Qbit object at 0x14b123876438>, <qat.lang.AQASM.bits.Qbit object at 0x14b123876ac8>, <qat.lang.AQASM.bits.Qbit object at 0x14b123876518>, <qat.lang.AQASM.bits.Qbit object at 0x14b123876b38>, <qat.lang.AQASM.bits.Qbit object at 0x14b1238765f8>, <qat.lang.AQASM.bits.Qbit object at 0x14b123876ba8>])])\n",
      "Sample(_state=349866, probability=None, _amplitude=None, intermediate_measurements=None, err=None, qregs=[QRegister(scope=<qat.lang.AQASM.program.Program object at 0x14b11b727ac8>, length=20, start=0, msb=None, qbits=[<qat.lang.AQASM.bits.Qbit object at 0x14b11b727e48>, <qat.lang.AQASM.bits.Qbit object at 0x14b1238767b8>, <qat.lang.AQASM.bits.Qbit object at 0x14b11b727f28>, <qat.lang.AQASM.bits.Qbit object at 0x14b123876828>, <qat.lang.AQASM.bits.Qbit object at 0x14b11b7efd30>, <qat.lang.AQASM.bits.Qbit object at 0x14b123876898>, <qat.lang.AQASM.bits.Qbit object at 0x14b1238760b8>, <qat.lang.AQASM.bits.Qbit object at 0x14b123876908>, <qat.lang.AQASM.bits.Qbit object at 0x14b123876198>, <qat.lang.AQASM.bits.Qbit object at 0x14b123876978>, <qat.lang.AQASM.bits.Qbit object at 0x14b123876278>, <qat.lang.AQASM.bits.Qbit object at 0x14b1238769e8>, <qat.lang.AQASM.bits.Qbit object at 0x14b123876358>, <qat.lang.AQASM.bits.Qbit object at 0x14b123876a58>, <qat.lang.AQASM.bits.Qbit object at 0x14b123876438>, <qat.lang.AQASM.bits.Qbit object at 0x14b123876ac8>, <qat.lang.AQASM.bits.Qbit object at 0x14b123876518>, <qat.lang.AQASM.bits.Qbit object at 0x14b123876b38>, <qat.lang.AQASM.bits.Qbit object at 0x14b1238765f8>, <qat.lang.AQASM.bits.Qbit object at 0x14b123876ba8>])])\n",
      "Sample(_state=349866, probability=None, _amplitude=None, intermediate_measurements=None, err=None, qregs=[QRegister(scope=<qat.lang.AQASM.program.Program object at 0x14b11b727ac8>, length=20, start=0, msb=None, qbits=[<qat.lang.AQASM.bits.Qbit object at 0x14b11b727e48>, <qat.lang.AQASM.bits.Qbit object at 0x14b1238767b8>, <qat.lang.AQASM.bits.Qbit object at 0x14b11b727f28>, <qat.lang.AQASM.bits.Qbit object at 0x14b123876828>, <qat.lang.AQASM.bits.Qbit object at 0x14b11b7efd30>, <qat.lang.AQASM.bits.Qbit object at 0x14b123876898>, <qat.lang.AQASM.bits.Qbit object at 0x14b1238760b8>, <qat.lang.AQASM.bits.Qbit object at 0x14b123876908>, <qat.lang.AQASM.bits.Qbit object at 0x14b123876198>, <qat.lang.AQASM.bits.Qbit object at 0x14b123876978>, <qat.lang.AQASM.bits.Qbit object at 0x14b123876278>, <qat.lang.AQASM.bits.Qbit object at 0x14b1238769e8>, <qat.lang.AQASM.bits.Qbit object at 0x14b123876358>, <qat.lang.AQASM.bits.Qbit object at 0x14b123876a58>, <qat.lang.AQASM.bits.Qbit object at 0x14b123876438>, <qat.lang.AQASM.bits.Qbit object at 0x14b123876ac8>, <qat.lang.AQASM.bits.Qbit object at 0x14b123876518>, <qat.lang.AQASM.bits.Qbit object at 0x14b123876b38>, <qat.lang.AQASM.bits.Qbit object at 0x14b1238765f8>, <qat.lang.AQASM.bits.Qbit object at 0x14b123876ba8>])])\n",
      "Sample(_state=349866, probability=None, _amplitude=None, intermediate_measurements=None, err=None, qregs=[QRegister(scope=<qat.lang.AQASM.program.Program object at 0x14b11b727ac8>, length=20, start=0, msb=None, qbits=[<qat.lang.AQASM.bits.Qbit object at 0x14b11b727e48>, <qat.lang.AQASM.bits.Qbit object at 0x14b1238767b8>, <qat.lang.AQASM.bits.Qbit object at 0x14b11b727f28>, <qat.lang.AQASM.bits.Qbit object at 0x14b123876828>, <qat.lang.AQASM.bits.Qbit object at 0x14b11b7efd30>, <qat.lang.AQASM.bits.Qbit object at 0x14b123876898>, <qat.lang.AQASM.bits.Qbit object at 0x14b1238760b8>, <qat.lang.AQASM.bits.Qbit object at 0x14b123876908>, <qat.lang.AQASM.bits.Qbit object at 0x14b123876198>, <qat.lang.AQASM.bits.Qbit object at 0x14b123876978>, <qat.lang.AQASM.bits.Qbit object at 0x14b123876278>, <qat.lang.AQASM.bits.Qbit object at 0x14b1238769e8>, <qat.lang.AQASM.bits.Qbit object at 0x14b123876358>, <qat.lang.AQASM.bits.Qbit object at 0x14b123876a58>, <qat.lang.AQASM.bits.Qbit object at 0x14b123876438>, <qat.lang.AQASM.bits.Qbit object at 0x14b123876ac8>, <qat.lang.AQASM.bits.Qbit object at 0x14b123876518>, <qat.lang.AQASM.bits.Qbit object at 0x14b123876b38>, <qat.lang.AQASM.bits.Qbit object at 0x14b1238765f8>, <qat.lang.AQASM.bits.Qbit object at 0x14b123876ba8>])])\n",
      "Sample(_state=349866, probability=None, _amplitude=None, intermediate_measurements=None, err=None, qregs=[QRegister(scope=<qat.lang.AQASM.program.Program object at 0x14b11b727ac8>, length=20, start=0, msb=None, qbits=[<qat.lang.AQASM.bits.Qbit object at 0x14b11b727e48>, <qat.lang.AQASM.bits.Qbit object at 0x14b1238767b8>, <qat.lang.AQASM.bits.Qbit object at 0x14b11b727f28>, <qat.lang.AQASM.bits.Qbit object at 0x14b123876828>, <qat.lang.AQASM.bits.Qbit object at 0x14b11b7efd30>, <qat.lang.AQASM.bits.Qbit object at 0x14b123876898>, <qat.lang.AQASM.bits.Qbit object at 0x14b1238760b8>, <qat.lang.AQASM.bits.Qbit object at 0x14b123876908>, <qat.lang.AQASM.bits.Qbit object at 0x14b123876198>, <qat.lang.AQASM.bits.Qbit object at 0x14b123876978>, <qat.lang.AQASM.bits.Qbit object at 0x14b123876278>, <qat.lang.AQASM.bits.Qbit object at 0x14b1238769e8>, <qat.lang.AQASM.bits.Qbit object at 0x14b123876358>, <qat.lang.AQASM.bits.Qbit object at 0x14b123876a58>, <qat.lang.AQASM.bits.Qbit object at 0x14b123876438>, <qat.lang.AQASM.bits.Qbit object at 0x14b123876ac8>, <qat.lang.AQASM.bits.Qbit object at 0x14b123876518>, <qat.lang.AQASM.bits.Qbit object at 0x14b123876b38>, <qat.lang.AQASM.bits.Qbit object at 0x14b1238765f8>, <qat.lang.AQASM.bits.Qbit object at 0x14b123876ba8>])])\n",
      "Sample(_state=349866, probability=None, _amplitude=None, intermediate_measurements=None, err=None, qregs=[QRegister(scope=<qat.lang.AQASM.program.Program object at 0x14b11b727ac8>, length=20, start=0, msb=None, qbits=[<qat.lang.AQASM.bits.Qbit object at 0x14b11b727e48>, <qat.lang.AQASM.bits.Qbit object at 0x14b1238767b8>, <qat.lang.AQASM.bits.Qbit object at 0x14b11b727f28>, <qat.lang.AQASM.bits.Qbit object at 0x14b123876828>, <qat.lang.AQASM.bits.Qbit object at 0x14b11b7efd30>, <qat.lang.AQASM.bits.Qbit object at 0x14b123876898>, <qat.lang.AQASM.bits.Qbit object at 0x14b1238760b8>, <qat.lang.AQASM.bits.Qbit object at 0x14b123876908>, <qat.lang.AQASM.bits.Qbit object at 0x14b123876198>, <qat.lang.AQASM.bits.Qbit object at 0x14b123876978>, <qat.lang.AQASM.bits.Qbit object at 0x14b123876278>, <qat.lang.AQASM.bits.Qbit object at 0x14b1238769e8>, <qat.lang.AQASM.bits.Qbit object at 0x14b123876358>, <qat.lang.AQASM.bits.Qbit object at 0x14b123876a58>, <qat.lang.AQASM.bits.Qbit object at 0x14b123876438>, <qat.lang.AQASM.bits.Qbit object at 0x14b123876ac8>, <qat.lang.AQASM.bits.Qbit object at 0x14b123876518>, <qat.lang.AQASM.bits.Qbit object at 0x14b123876b38>, <qat.lang.AQASM.bits.Qbit object at 0x14b1238765f8>, <qat.lang.AQASM.bits.Qbit object at 0x14b123876ba8>])])\n"
     ]
    }
   ],
   "source": [
    "from qat.bdd import Bdd\n",
    "\n",
    "qpu = Bdd()\n",
    "\n",
    "res = qpu.submit(job)\n",
    "\n",
    "for sample in res:\n",
    "    print(sample)"
   ]
  },
  {
   "cell_type": "markdown",
   "metadata": {},
   "source": [
    "### Observations:\n",
    "- As expected, qat.feynman is the fastest method for this kind of circuit. This is because there is only \"one path in the integral\".  <br><br>\n",
    "- The MPS simulator also behaves quite well, indicating that an adder has low entangling power. Results would be different with a more entangled input state. <br><br>\n"
   ]
  },
  {
   "cell_type": "markdown",
   "metadata": {},
   "source": [
    "## An example of pure Clifford circuit: Noisy Steane-encoded qubit.\n",
    "\n",
    "Of course, if only Clifford gates are used, the stabs simulator, based on the stabilizer formalism, is the most reasonable choice. <br>\n",
    "\n",
    "Such circuits emerge when working with quantum error correction, for instance.<br>\n",
    "\n",
    "Then, if noise is modeled as random Pauli gates insertion (which can be far from being realistic), you could still use this simulator.<br>\n",
    "\n",
    "The following piece of code presents the simulation of a noisy encoding of a state into the Steane code. \n",
    "\n",
    "The logical state to prepare is just $|+_{L}\\rangle$, and the starting state is $|0\\rangle^{\\otimes\\cdot n_{\\text{physical qubits}}}$. \n",
    "\n",
    "Noise is naively modeled by random Pauli gate insertions in the encoding circuit. "
   ]
  },
  {
   "cell_type": "code",
   "execution_count": 11,
   "metadata": {},
   "outputs": [],
   "source": [
    "import numpy as np\n",
    "\n",
    "n_logical = 45\n",
    "\n",
    "prog = Program()\n",
    "\n",
    "reg = prog.qalloc(7*n_logical)\n",
    "\n",
    "pairs = [(0,3),(0,5),(0,6),\n",
    "         (1,3),(1,4),(1,6),\n",
    "         (2,3),(2,4),(2,5)]\n",
    "\n",
    "p = 0.1\n"
   ]
  },
  {
   "cell_type": "code",
   "execution_count": 12,
   "metadata": {},
   "outputs": [
    {
     "name": "stdout",
     "output_type": "stream",
     "text": [
      "number of qbits:  315\n",
      "number of gates:  968\n"
     ]
    }
   ],
   "source": [
    "# Actual noisy encoding circuit:\n",
    "                \n",
    "for qb in range(n_logical):\n",
    "    # preparation in the logical |+> state:\n",
    "    \n",
    "    # 1. H on every physical qb.\n",
    "    for phys_qb in range(7*qb,7*(qb+1)):\n",
    "        prog.apply(H,reg[phys_qb])\n",
    "    \n",
    "    # random Pauli gate\n",
    "        if np.random.random() < p:\n",
    "            noise = np.random.choice([X,Y,Z])\n",
    "            prog.apply(noise, reg[qb]) # only works because 1 unique register.\n",
    "    \n",
    "    \n",
    "    \n",
    "    # 2. CZ on some pairs.\n",
    "    for ph_qb_1, ph_qb_2 in pairs:\n",
    "        ctrl = 7*qb + ph_qb_1\n",
    "        targ = 7*qb + ph_qb_2\n",
    "        prog.apply(CSIGN, [reg[ctrl],reg[targ]])\n",
    "\n",
    "    for phys_qb in range(7*qb,7*(qb+1)):\n",
    "        if np.random.random() < p:\n",
    "            noise = np.random.choice([X,Y,Z])\n",
    "            prog.apply(noise, reg[qb]) # only works because 1 unique register.\n",
    "        \n",
    "    # 3. Local Cliffords: H on some qubits.\n",
    "    for phys_qb in range(7*qb,7*qb+4):\n",
    "        prog.apply(H, reg[phys_qb])\n",
    "        if np.random.random() < p:\n",
    "            noise = np.random.choice([X,Y,Z])\n",
    "            prog.apply(noise, reg[qb]) # only works because 1 unique register.\n",
    "        \n",
    "noisy_qec = prog.to_circ()\n",
    "\n",
    "print(\"number of qbits: \", noisy_qec.nbqbits)\n",
    "print(\"number of gates: \", len(noisy_qec.ops))"
   ]
  },
  {
   "cell_type": "code",
   "execution_count": 13,
   "metadata": {},
   "outputs": [
    {
     "name": "stdout",
     "output_type": "stream",
     "text": [
      "Sample(_state=4925384024683308513, probability=1.0, _amplitude=None, intermediate_measurements=None, err=nan, qregs=[QRegister(scope=<qat.lang.AQASM.program.Program object at 0x14b12385c4a8>, length=315, start=0, msb=None, qbits=[<qat.lang.AQASM.bits.Qbit object at 0x14b12385c710>, <qat.lang.AQASM.bits.Qbit object at 0x14b12385c7f0>, <qat.lang.AQASM.bits.Qbit object at 0x14b12385c898>, <qat.lang.AQASM.bits.Qbit object at 0x14b12385c9e8>, <qat.lang.AQASM.bits.Qbit object at 0x14b12385ca58>, <qat.lang.AQASM.bits.Qbit object at 0x14b11b64c710>, <qat.lang.AQASM.bits.Qbit object at 0x14b11b64c4a8>, <qat.lang.AQASM.bits.Qbit object at 0x14b11b64cfd0>, <qat.lang.AQASM.bits.Qbit object at 0x14b11b653128>, <qat.lang.AQASM.bits.Qbit object at 0x14b11b653208>, <qat.lang.AQASM.bits.Qbit object at 0x14b11b6532b0>, <qat.lang.AQASM.bits.Qbit object at 0x14b11b653390>, <qat.lang.AQASM.bits.Qbit object at 0x14b11b6534e0>, <qat.lang.AQASM.bits.Qbit object at 0x14b11b6535c0>, <qat.lang.AQASM.bits.Qbit object at 0x14b11b653c88>, <qat.lang.AQASM.bits.Qbit object at 0x14b11b653d30>, <qat.lang.AQASM.bits.Qbit object at 0x14b11b653e10>, <qat.lang.AQASM.bits.Qbit object at 0x14b11b653f60>, <qat.lang.AQASM.bits.Qbit object at 0x14b11b655080>, <qat.lang.AQASM.bits.Qbit object at 0x14b11b655160>, <qat.lang.AQASM.bits.Qbit object at 0x14b11b655320>, <qat.lang.AQASM.bits.Qbit object at 0x14b11b655a20>, <qat.lang.AQASM.bits.Qbit object at 0x14b11b655b00>, <qat.lang.AQASM.bits.Qbit object at 0x14b11b655be0>, <qat.lang.AQASM.bits.Qbit object at 0x14b11b655cc0>, <qat.lang.AQASM.bits.Qbit object at 0x14b11b655da0>, <qat.lang.AQASM.bits.Qbit object at 0x14b11b655e80>, <qat.lang.AQASM.bits.Qbit object at 0x14b11b655f60>, <qat.lang.AQASM.bits.Qbit object at 0x14b12385c2e8>, <qat.lang.AQASM.bits.Qbit object at 0x14b12385c048>, <qat.lang.AQASM.bits.Qbit object at 0x14b11b65a2b0>, <qat.lang.AQASM.bits.Qbit object at 0x14b11b65a390>, <qat.lang.AQASM.bits.Qbit object at 0x14b11b65a470>, <qat.lang.AQASM.bits.Qbit object at 0x14b11b65a550>, <qat.lang.AQASM.bits.Qbit object at 0x14b11b65a630>, <qat.lang.AQASM.bits.Qbit object at 0x14b11b65ada0>, <qat.lang.AQASM.bits.Qbit object at 0x14b11b65ae80>, <qat.lang.AQASM.bits.Qbit object at 0x14b11b65af60>, <qat.lang.AQASM.bits.Qbit object at 0x14b11b65c080>, <qat.lang.AQASM.bits.Qbit object at 0x14b11b65c160>, <qat.lang.AQASM.bits.Qbit object at 0x14b11b65c240>, <qat.lang.AQASM.bits.Qbit object at 0x14b11b65c320>, <qat.lang.AQASM.bits.Qbit object at 0x14b11b65ca20>, <qat.lang.AQASM.bits.Qbit object at 0x14b11b65cb00>, <qat.lang.AQASM.bits.Qbit object at 0x14b11b65cbe0>, <qat.lang.AQASM.bits.Qbit object at 0x14b11b65cd30>, <qat.lang.AQASM.bits.Qbit object at 0x14b11b65ce10>, <qat.lang.AQASM.bits.Qbit object at 0x14b11b65cef0>, <qat.lang.AQASM.bits.Qbit object at 0x14b11b65cfd0>, <qat.lang.AQASM.bits.Qbit object at 0x14b11b65f710>, <qat.lang.AQASM.bits.Qbit object at 0x14b11b65f7f0>, <qat.lang.AQASM.bits.Qbit object at 0x14b11b65f8d0>, <qat.lang.AQASM.bits.Qbit object at 0x14b11b65f9b0>, <qat.lang.AQASM.bits.Qbit object at 0x14b11b65fa90>, <qat.lang.AQASM.bits.Qbit object at 0x14b11b65fb70>, <qat.lang.AQASM.bits.Qbit object at 0x14b11b65fc50>, <qat.lang.AQASM.bits.Qbit object at 0x14b11b664400>, <qat.lang.AQASM.bits.Qbit object at 0x14b11b6644e0>, <qat.lang.AQASM.bits.Qbit object at 0x14b11b6645c0>, <qat.lang.AQASM.bits.Qbit object at 0x14b11b6646a0>, <qat.lang.AQASM.bits.Qbit object at 0x14b11b664780>, <qat.lang.AQASM.bits.Qbit object at 0x14b11b664860>, <qat.lang.AQASM.bits.Qbit object at 0x14b11b664940>, <qat.lang.AQASM.bits.Qbit object at 0x14b11b667080>, <qat.lang.AQASM.bits.Qbit object at 0x14b11b667160>, <qat.lang.AQASM.bits.Qbit object at 0x14b11b667240>, <qat.lang.AQASM.bits.Qbit object at 0x14b11b667320>, <qat.lang.AQASM.bits.Qbit object at 0x14b11b667400>, <qat.lang.AQASM.bits.Qbit object at 0x14b11b6674e0>, <qat.lang.AQASM.bits.Qbit object at 0x14b11b6675c0>, <qat.lang.AQASM.bits.Qbit object at 0x14b11b667978>, <qat.lang.AQASM.bits.Qbit object at 0x14b11b6679e8>, <qat.lang.AQASM.bits.Qbit object at 0x14b11b667a58>, <qat.lang.AQASM.bits.Qbit object at 0x14b11b667ac8>, <qat.lang.AQASM.bits.Qbit object at 0x14b11b667b38>, <qat.lang.AQASM.bits.Qbit object at 0x14b11b667ba8>, <qat.lang.AQASM.bits.Qbit object at 0x14b11b667c18>, <qat.lang.AQASM.bits.Qbit object at 0x14b11b667f98>, <qat.lang.AQASM.bits.Qbit object at 0x14b11b670048>, <qat.lang.AQASM.bits.Qbit object at 0x14b11b6700b8>, <qat.lang.AQASM.bits.Qbit object at 0x14b11b670128>, <qat.lang.AQASM.bits.Qbit object at 0x14b11b670198>, <qat.lang.AQASM.bits.Qbit object at 0x14b11b670208>, <qat.lang.AQASM.bits.Qbit object at 0x14b11b670278>, <qat.lang.AQASM.bits.Qbit object at 0x14b11b6705f8>, <qat.lang.AQASM.bits.Qbit object at 0x14b11b670668>, <qat.lang.AQASM.bits.Qbit object at 0x14b11b6706d8>, <qat.lang.AQASM.bits.Qbit object at 0x14b11b670748>, <qat.lang.AQASM.bits.Qbit object at 0x14b11b6707b8>, <qat.lang.AQASM.bits.Qbit object at 0x14b11b670828>, <qat.lang.AQASM.bits.Qbit object at 0x14b11b670898>, <qat.lang.AQASM.bits.Qbit object at 0x14b11b670c50>, <qat.lang.AQASM.bits.Qbit object at 0x14b11b670cc0>, <qat.lang.AQASM.bits.Qbit object at 0x14b11b670d30>, <qat.lang.AQASM.bits.Qbit object at 0x14b11b670dd8>, <qat.lang.AQASM.bits.Qbit object at 0x14b11b670e48>, <qat.lang.AQASM.bits.Qbit object at 0x14b11b670e80>, <qat.lang.AQASM.bits.Qbit object at 0x14b11b670ef0>, <qat.lang.AQASM.bits.Qbit object at 0x14b11b67b278>, <qat.lang.AQASM.bits.Qbit object at 0x14b11b67b358>, <qat.lang.AQASM.bits.Qbit object at 0x14b11b67b3c8>, <qat.lang.AQASM.bits.Qbit object at 0x14b11b67b438>, <qat.lang.AQASM.bits.Qbit object at 0x14b11b67b4a8>, <qat.lang.AQASM.bits.Qbit object at 0x14b11b67b518>, <qat.lang.AQASM.bits.Qbit object at 0x14b11b67b588>, <qat.lang.AQASM.bits.Qbit object at 0x14b11b67b908>, <qat.lang.AQASM.bits.Qbit object at 0x14b11b67b978>, <qat.lang.AQASM.bits.Qbit object at 0x14b11b67b9e8>, <qat.lang.AQASM.bits.Qbit object at 0x14b11b67ba58>, <qat.lang.AQASM.bits.Qbit object at 0x14b11b67bac8>, <qat.lang.AQASM.bits.Qbit object at 0x14b11b67bb38>, <qat.lang.AQASM.bits.Qbit object at 0x14b11b67bba8>, <qat.lang.AQASM.bits.Qbit object at 0x14b11b67bf98>, <qat.lang.AQASM.bits.Qbit object at 0x14b1135c0048>, <qat.lang.AQASM.bits.Qbit object at 0x14b1135c00b8>, <qat.lang.AQASM.bits.Qbit object at 0x14b1135c0128>, <qat.lang.AQASM.bits.Qbit object at 0x14b1135c0198>, <qat.lang.AQASM.bits.Qbit object at 0x14b1135c0208>, <qat.lang.AQASM.bits.Qbit object at 0x14b1135c0278>, <qat.lang.AQASM.bits.Qbit object at 0x14b1135c05f8>, <qat.lang.AQASM.bits.Qbit object at 0x14b1135c0668>, <qat.lang.AQASM.bits.Qbit object at 0x14b1135c06d8>, <qat.lang.AQASM.bits.Qbit object at 0x14b1135c0748>, <qat.lang.AQASM.bits.Qbit object at 0x14b1135c07b8>, <qat.lang.AQASM.bits.Qbit object at 0x14b1135c0828>, <qat.lang.AQASM.bits.Qbit object at 0x14b1135c0898>, <qat.lang.AQASM.bits.Qbit object at 0x14b1135c0be0>, <qat.lang.AQASM.bits.Qbit object at 0x14b1135c0c50>, <qat.lang.AQASM.bits.Qbit object at 0x14b1135c0cc0>, <qat.lang.AQASM.bits.Qbit object at 0x14b1135c0d30>, <qat.lang.AQASM.bits.Qbit object at 0x14b1135c0da0>, <qat.lang.AQASM.bits.Qbit object at 0x14b1135c0e10>, <qat.lang.AQASM.bits.Qbit object at 0x14b1135c0e80>, <qat.lang.AQASM.bits.Qbit object at 0x14b1135c9208>, <qat.lang.AQASM.bits.Qbit object at 0x14b1135c9278>, <qat.lang.AQASM.bits.Qbit object at 0x14b1135c9320>, <qat.lang.AQASM.bits.Qbit object at 0x14b1135c9390>, <qat.lang.AQASM.bits.Qbit object at 0x14b1135c9400>, <qat.lang.AQASM.bits.Qbit object at 0x14b1135c9470>, <qat.lang.AQASM.bits.Qbit object at 0x14b1135c94e0>, <qat.lang.AQASM.bits.Qbit object at 0x14b1135c98d0>, <qat.lang.AQASM.bits.Qbit object at 0x14b1135c9940>, <qat.lang.AQASM.bits.Qbit object at 0x14b1135c99b0>, <qat.lang.AQASM.bits.Qbit object at 0x14b1135c9a20>, <qat.lang.AQASM.bits.Qbit object at 0x14b1135c9a90>, <qat.lang.AQASM.bits.Qbit object at 0x14b1135c9b00>, <qat.lang.AQASM.bits.Qbit object at 0x14b1135c9b70>, <qat.lang.AQASM.bits.Qbit object at 0x14b1135c9eb8>, <qat.lang.AQASM.bits.Qbit object at 0x14b1135c9f28>, <qat.lang.AQASM.bits.Qbit object at 0x14b1135c9fd0>, <qat.lang.AQASM.bits.Qbit object at 0x14b1135d4080>, <qat.lang.AQASM.bits.Qbit object at 0x14b1135d40f0>, <qat.lang.AQASM.bits.Qbit object at 0x14b1135d4160>, <qat.lang.AQASM.bits.Qbit object at 0x14b1135d41d0>, <qat.lang.AQASM.bits.Qbit object at 0x14b1135d4518>, <qat.lang.AQASM.bits.Qbit object at 0x14b1135d4588>, <qat.lang.AQASM.bits.Qbit object at 0x14b1135d45f8>, <qat.lang.AQASM.bits.Qbit object at 0x14b1135d4668>, <qat.lang.AQASM.bits.Qbit object at 0x14b1135d46d8>, <qat.lang.AQASM.bits.Qbit object at 0x14b1135d4748>, <qat.lang.AQASM.bits.Qbit object at 0x14b1135d47b8>, <qat.lang.AQASM.bits.Qbit object at 0x14b1135d4b38>, <qat.lang.AQASM.bits.Qbit object at 0x14b1135d4ba8>, <qat.lang.AQASM.bits.Qbit object at 0x14b1135d4c18>, <qat.lang.AQASM.bits.Qbit object at 0x14b1135d4c88>, <qat.lang.AQASM.bits.Qbit object at 0x14b1135d4d30>, <qat.lang.AQASM.bits.Qbit object at 0x14b1135d4da0>, <qat.lang.AQASM.bits.Qbit object at 0x14b1135d4e10>, <qat.lang.AQASM.bits.Qbit object at 0x14b1135de1d0>, <qat.lang.AQASM.bits.Qbit object at 0x14b1135de278>, <qat.lang.AQASM.bits.Qbit object at 0x14b1135de2e8>, <qat.lang.AQASM.bits.Qbit object at 0x14b1135de358>, <qat.lang.AQASM.bits.Qbit object at 0x14b1135de3c8>, <qat.lang.AQASM.bits.Qbit object at 0x14b1135de438>, <qat.lang.AQASM.bits.Qbit object at 0x14b1135de4a8>, <qat.lang.AQASM.bits.Qbit object at 0x14b1135de7f0>, <qat.lang.AQASM.bits.Qbit object at 0x14b1135de898>, <qat.lang.AQASM.bits.Qbit object at 0x14b1135de908>, <qat.lang.AQASM.bits.Qbit object at 0x14b1135de9b0>, <qat.lang.AQASM.bits.Qbit object at 0x14b1135dea58>, <qat.lang.AQASM.bits.Qbit object at 0x14b1135deac8>, <qat.lang.AQASM.bits.Qbit object at 0x14b1135deb38>, <qat.lang.AQASM.bits.Qbit object at 0x14b1135dee80>, <qat.lang.AQASM.bits.Qbit object at 0x14b1135deef0>, <qat.lang.AQASM.bits.Qbit object at 0x14b1135def60>, <qat.lang.AQASM.bits.Qbit object at 0x14b1135defd0>, <qat.lang.AQASM.bits.Qbit object at 0x14b1135e80b8>, <qat.lang.AQASM.bits.Qbit object at 0x14b1135e8128>, <qat.lang.AQASM.bits.Qbit object at 0x14b1135e8198>, <qat.lang.AQASM.bits.Qbit object at 0x14b1135e84e0>, <qat.lang.AQASM.bits.Qbit object at 0x14b1135e8550>, <qat.lang.AQASM.bits.Qbit object at 0x14b1135e85c0>, <qat.lang.AQASM.bits.Qbit object at 0x14b1135e8630>, <qat.lang.AQASM.bits.Qbit object at 0x14b1135e86a0>, <qat.lang.AQASM.bits.Qbit object at 0x14b1135e8710>, <qat.lang.AQASM.bits.Qbit object at 0x14b1135e87b8>, <qat.lang.AQASM.bits.Qbit object at 0x14b1135e8b38>, <qat.lang.AQASM.bits.Qbit object at 0x14b1135e8ba8>, <qat.lang.AQASM.bits.Qbit object at 0x14b1135e8c18>, <qat.lang.AQASM.bits.Qbit object at 0x14b1135e8c88>, <qat.lang.AQASM.bits.Qbit object at 0x14b1135e8cf8>, <qat.lang.AQASM.bits.Qbit object at 0x14b1135e8d68>, <qat.lang.AQASM.bits.Qbit object at 0x14b1135e8dd8>, <qat.lang.AQASM.bits.Qbit object at 0x14b1135f3160>, <qat.lang.AQASM.bits.Qbit object at 0x14b1135f31d0>, <qat.lang.AQASM.bits.Qbit object at 0x14b1135f3240>, <qat.lang.AQASM.bits.Qbit object at 0x14b1135f32b0>, <qat.lang.AQASM.bits.Qbit object at 0x14b1135f3320>, <qat.lang.AQASM.bits.Qbit object at 0x14b1135f3390>, <qat.lang.AQASM.bits.Qbit object at 0x14b1135f3400>, <qat.lang.AQASM.bits.Qbit object at 0x14b1135f3748>, <qat.lang.AQASM.bits.Qbit object at 0x14b1135f37b8>, <qat.lang.AQASM.bits.Qbit object at 0x14b1135f3828>, <qat.lang.AQASM.bits.Qbit object at 0x14b1135f3898>, <qat.lang.AQASM.bits.Qbit object at 0x14b1135f3908>, <qat.lang.AQASM.bits.Qbit object at 0x14b1135f3978>, <qat.lang.AQASM.bits.Qbit object at 0x14b1135f39e8>, <qat.lang.AQASM.bits.Qbit object at 0x14b1135f3d30>, <qat.lang.AQASM.bits.Qbit object at 0x14b1135f3da0>, <qat.lang.AQASM.bits.Qbit object at 0x14b1135f3e10>, <qat.lang.AQASM.bits.Qbit object at 0x14b1135f3e80>, <qat.lang.AQASM.bits.Qbit object at 0x14b1135f3ef0>, <qat.lang.AQASM.bits.Qbit object at 0x14b1135f3f60>, <qat.lang.AQASM.bits.Qbit object at 0x14b1135f3fd0>, <qat.lang.AQASM.bits.Qbit object at 0x14b1237ff3c8>, <qat.lang.AQASM.bits.Qbit object at 0x14b1237ff438>, <qat.lang.AQASM.bits.Qbit object at 0x14b1237ff4a8>, <qat.lang.AQASM.bits.Qbit object at 0x14b1237ff518>, <qat.lang.AQASM.bits.Qbit object at 0x14b1237ff588>, <qat.lang.AQASM.bits.Qbit object at 0x14b1237ff630>, <qat.lang.AQASM.bits.Qbit object at 0x14b1237ff6d8>, <qat.lang.AQASM.bits.Qbit object at 0x14b1237ffa90>, <qat.lang.AQASM.bits.Qbit object at 0x14b1237ffb38>, <qat.lang.AQASM.bits.Qbit object at 0x14b1237ffba8>, <qat.lang.AQASM.bits.Qbit object at 0x14b1237ffc18>, <qat.lang.AQASM.bits.Qbit object at 0x14b1237ffc88>, <qat.lang.AQASM.bits.Qbit object at 0x14b1237ffcf8>, <qat.lang.AQASM.bits.Qbit object at 0x14b1237ffd68>, <qat.lang.AQASM.bits.Qbit object at 0x14b12380e0f0>, <qat.lang.AQASM.bits.Qbit object at 0x14b12380e160>, <qat.lang.AQASM.bits.Qbit object at 0x14b12380e1d0>, <qat.lang.AQASM.bits.Qbit object at 0x14b12380e240>, <qat.lang.AQASM.bits.Qbit object at 0x14b12380e2b0>, <qat.lang.AQASM.bits.Qbit object at 0x14b12380e320>, <qat.lang.AQASM.bits.Qbit object at 0x14b12380e390>, <qat.lang.AQASM.bits.Qbit object at 0x14b12380e748>, <qat.lang.AQASM.bits.Qbit object at 0x14b12380e7b8>, <qat.lang.AQASM.bits.Qbit object at 0x14b12380e828>, <qat.lang.AQASM.bits.Qbit object at 0x14b12380e898>, <qat.lang.AQASM.bits.Qbit object at 0x14b12380e908>, <qat.lang.AQASM.bits.Qbit object at 0x14b12380e9b0>, <qat.lang.AQASM.bits.Qbit object at 0x14b12380ea20>, <qat.lang.AQASM.bits.Qbit object at 0x14b12380ed68>, <qat.lang.AQASM.bits.Qbit object at 0x14b12380ee10>, <qat.lang.AQASM.bits.Qbit object at 0x14b12380ee80>, <qat.lang.AQASM.bits.Qbit object at 0x14b12380eef0>, <qat.lang.AQASM.bits.Qbit object at 0x14b12380ef60>, <qat.lang.AQASM.bits.Qbit object at 0x14b12380efd0>, <qat.lang.AQASM.bits.Qbit object at 0x14b12381b080>, <qat.lang.AQASM.bits.Qbit object at 0x14b12381b3c8>, <qat.lang.AQASM.bits.Qbit object at 0x14b12381b438>, <qat.lang.AQASM.bits.Qbit object at 0x14b12381b4a8>, <qat.lang.AQASM.bits.Qbit object at 0x14b12381b518>, <qat.lang.AQASM.bits.Qbit object at 0x14b12381b588>, <qat.lang.AQASM.bits.Qbit object at 0x14b12381b5f8>, <qat.lang.AQASM.bits.Qbit object at 0x14b12381b6a0>, <qat.lang.AQASM.bits.Qbit object at 0x14b12381ba58>, <qat.lang.AQASM.bits.Qbit object at 0x14b12381bac8>, <qat.lang.AQASM.bits.Qbit object at 0x14b12381bb38>, <qat.lang.AQASM.bits.Qbit object at 0x14b12381bba8>, <qat.lang.AQASM.bits.Qbit object at 0x14b12381bc18>, <qat.lang.AQASM.bits.Qbit object at 0x14b12381bc88>, <qat.lang.AQASM.bits.Qbit object at 0x14b12381bcf8>, <qat.lang.AQASM.bits.Qbit object at 0x14b12382c0f0>, <qat.lang.AQASM.bits.Qbit object at 0x14b12382c160>, <qat.lang.AQASM.bits.Qbit object at 0x14b12382c1d0>, <qat.lang.AQASM.bits.Qbit object at 0x14b12382c240>, <qat.lang.AQASM.bits.Qbit object at 0x14b12382c2b0>, <qat.lang.AQASM.bits.Qbit object at 0x14b12382c320>, <qat.lang.AQASM.bits.Qbit object at 0x14b12382c390>, <qat.lang.AQASM.bits.Qbit object at 0x14b12382c710>, <qat.lang.AQASM.bits.Qbit object at 0x14b12382c780>, <qat.lang.AQASM.bits.Qbit object at 0x14b12382c828>, <qat.lang.AQASM.bits.Qbit object at 0x14b12382c8d0>, <qat.lang.AQASM.bits.Qbit object at 0x14b12382c940>, <qat.lang.AQASM.bits.Qbit object at 0x14b12382c9b0>, <qat.lang.AQASM.bits.Qbit object at 0x14b12382ca20>, <qat.lang.AQASM.bits.Qbit object at 0x14b12382cd68>, <qat.lang.AQASM.bits.Qbit object at 0x14b12382ce10>, <qat.lang.AQASM.bits.Qbit object at 0x14b12382ce80>, <qat.lang.AQASM.bits.Qbit object at 0x14b12382cf28>, <qat.lang.AQASM.bits.Qbit object at 0x14b12382cf98>, <qat.lang.AQASM.bits.Qbit object at 0x14b123836048>, <qat.lang.AQASM.bits.Qbit object at 0x14b1238360b8>, <qat.lang.AQASM.bits.Qbit object at 0x14b123836400>, <qat.lang.AQASM.bits.Qbit object at 0x14b123836470>, <qat.lang.AQASM.bits.Qbit object at 0x14b1238364e0>, <qat.lang.AQASM.bits.Qbit object at 0x14b123836550>, <qat.lang.AQASM.bits.Qbit object at 0x14b1238365c0>, <qat.lang.AQASM.bits.Qbit object at 0x14b123836668>, <qat.lang.AQASM.bits.Qbit object at 0x14b1238366d8>, <qat.lang.AQASM.bits.Qbit object at 0x14b123836a20>, <qat.lang.AQASM.bits.Qbit object at 0x14b123836a90>, <qat.lang.AQASM.bits.Qbit object at 0x14b123836b00>, <qat.lang.AQASM.bits.Qbit object at 0x14b123836b70>, <qat.lang.AQASM.bits.Qbit object at 0x14b123836be0>, <qat.lang.AQASM.bits.Qbit object at 0x14b123836c50>, <qat.lang.AQASM.bits.Qbit object at 0x14b123836cc0>, <qat.lang.AQASM.bits.Qbit object at 0x14b123811198>, <qat.lang.AQASM.bits.Qbit object at 0x14b1238112b0>, <qat.lang.AQASM.bits.Qbit object at 0x14b1238112e8>, <qat.lang.AQASM.bits.Qbit object at 0x14b123811390>, <qat.lang.AQASM.bits.Qbit object at 0x14b1238114a8>, <qat.lang.AQASM.bits.Qbit object at 0x14b123811400>, <qat.lang.AQASM.bits.Qbit object at 0x14b123811550>])])\n"
     ]
    }
   ],
   "source": [
    "from qat.stabs import Stabs\n",
    "\n",
    "job = noisy_qec.to_job(nbshots=1)\n",
    "\n",
    "qpu = Stabs()\n",
    "\n",
    "res = qpu.submit(job)\n",
    "\n",
    "for sample in res:\n",
    "    print(sample)"
   ]
  },
  {
   "cell_type": "markdown",
   "metadata": {},
   "source": [
    "### Observations:\n",
    "   - This circuit can only run on the stab simulator. <br>"
   ]
  }
 ],
 "metadata": {
  "authors": [
   "Thomas Ayral",
   "Simon Martiel"
  ],
  "kernelspec": {
   "display_name": "Python 3",
   "language": "python",
   "name": "python3"
  },
  "language_info": {
   "codemirror_mode": {
    "name": "ipython",
    "version": 3
   },
   "file_extension": ".py",
   "mimetype": "text/x-python",
   "name": "python",
   "nbconvert_exporter": "python",
   "pygments_lexer": "ipython3",
   "version": "3.6.8"
  },
  "qat-category": "3-Circuit simulation in Python",
  "qat-summary": "1-Overview of the quantum simulators"
 },
 "nbformat": 4,
 "nbformat_minor": 1
}
