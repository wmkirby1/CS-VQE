{
 "cells": [
  {
   "cell_type": "markdown",
   "metadata": {},
   "source": [
    "# State preparation\n",
    "\n",
    "## Definition\n",
    "State preparation allows us to load states into the state vector. It performs the following unitary operation :\n",
    "\n",
    "$$\\displaystyle \n",
    "\\large \\lvert 0^{\\bigotimes n} \\rangle \n",
    "\\xrightarrow{\\text{StatePreparation}} \\ \\ \\ \\ \n",
    "\\textstyle\\sum\\limits_{i=0}^{2^n} a_{i}\\displaystyle | i \\rangle\n",
    "$$\n",
    "\n",
    "where $a$ is a vector filled with amplitudes, of length $2^n$."
   ]
  },
  {
   "cell_type": "markdown",
   "metadata": {},
   "source": [
    "## State preparation in pyAQASM\n",
    "StatePreparation is located in the ``qat.lang.AQASM.oracles`` module.\n",
    "\n",
    "It takes as parameter a vector of size $2^n$ where $n$ is the number of qbits on which to apply the gate.\n",
    "\n",
    "Here is a little example using StatePreparation."
   ]
  },
  {
   "cell_type": "code",
   "execution_count": null,
   "metadata": {},
   "outputs": [],
   "source": [
    "from qat.lang.AQASM import *\n",
    "from qat.linalg.oracles import StatePreparation\n",
    "\n",
    "from qat.qpus import LinAlg\n",
    "from math import sqrt\n",
    "\n",
    "import numpy\n",
    "\n",
    "# Creating the vector to be used in StatePreparation\n",
    "vector = numpy.array([1/sqrt(2), 1/2, 0, 1/2])\n",
    "\n",
    "# Lets check that the vector represents a valid quantum state\n",
    "assert numpy.linalg.norm(vector) - 1. < 1e-10\n",
    "\n",
    "prog = Program()\n",
    "qbits = prog.qalloc(3)\n",
    "\n",
    "# Applying StatePreparation\n",
    "prog.apply(StatePreparation(vector), qbits[0], qbits[2])\n",
    "\n",
    "# Print the results\n",
    "circuit = prog.to_circ()\n",
    "qpu = LinAlg()\n",
    "result = qpu.submit(circuit.to_job())\n",
    "for sample in result:\n",
    "    print(\"State %s amplitude %s\\n\" % (sample.state, sample.amplitude))"
   ]
  },
  {
   "cell_type": "markdown",
   "metadata": {},
   "source": [
    "## State preparation and QFT\n",
    "\n",
    "Here is another fancier example:"
   ]
  },
  {
   "cell_type": "code",
   "execution_count": null,
   "metadata": {},
   "outputs": [],
   "source": [
    "# We will need a QFT for this example\n",
    "from qat.lang.AQASM.qftarith import QFT\n",
    "from matplotlib import pyplot as plt\n",
    "\n",
    "\n",
    "N = 10\n",
    "step = 1. / (1 << N)\n",
    "# lets generate a nice signal\n",
    "vector = numpy.array([numpy.sin(i * step * 2.* numpy.pi) for i in range(1 << N)])\n",
    "# And normalize it\n",
    "vector /= numpy.linalg.norm(vector)\n",
    "\n",
    "# Lets prepare the state, and apply a QFT \n",
    "prog = Program()\n",
    "qbits = prog.qalloc(10)\n",
    "prog.apply(StatePreparation(vector), qbits)\n",
    "prog.apply(QFT(10), qbits)\n",
    "circuit = prog.to_circ()\n",
    "\n",
    "# Now we juste need to simulate the circuit and gather the final amplitudes\n",
    "qpu = LinAlg()\n",
    "result = qpu.submit(circuit.to_job())\n",
    "final_state = numpy.zeros(shape=(1 << N))\n",
    "for sample in result:\n",
    "    final_state[sample.state.int] = numpy.absolute(sample.amplitude)\n",
    "\n",
    "# And display everything nicely\n",
    "plt.plot(vector)\n",
    "plt.title(\"Initial signal\")\n",
    "plt.show()\n",
    "plt.plot(final_state)\n",
    "plt.title(\"Fourier transform of the signal\")\n",
    "plt.show()"
   ]
  },
  {
   "cell_type": "code",
   "execution_count": null,
   "metadata": {},
   "outputs": [],
   "source": []
  }
 ],
 "metadata": {
  "authors": [
   "Simon Martiel",
   "Thomas Ayral"
  ],
  "kernelspec": {
   "display_name": "Python 3",
   "language": "python",
   "name": "python3"
  },
  "language_info": {
   "codemirror_mode": {
    "name": "ipython",
    "version": 3
   },
   "file_extension": ".py",
   "mimetype": "text/x-python",
   "name": "python",
   "nbconvert_exporter": "python",
   "pygments_lexer": "ipython3",
   "version": "3.6.8"
  },
  "qat-category": "1-Circuit generation in Python",
  "qat-summary": "6-State Preparation"
 },
 "nbformat": 4,
 "nbformat_minor": 2
}
