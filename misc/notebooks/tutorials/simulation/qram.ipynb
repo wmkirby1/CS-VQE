{
 "cells": [
  {
   "cell_type": "markdown",
   "metadata": {},
   "source": [
    "# QRAM definition\n",
    "\n",
    "A QRAM is a unitary operator that operates as follow :\n",
    "\n",
    "$$\\displaystyle \n",
    "\\large \\textstyle\\sum\\limits_{i=0}^{2^n - 1}\\displaystyle \\alpha_i \\lvert i \\rangle \\lvert 0^{\\bigotimes k} \\rangle \n",
    "\\xrightarrow{\\text{QRAM}} \n",
    "\\large \\textstyle\\sum\\limits_{i=0}^{2^n - 1}\\displaystyle \\frac{\\alpha_i}{\\lvert\\lvert A_i\\rvert\\rvert} \\lvert i \\rangle \\textstyle\\sum\\limits_{j=0}^{2^k - 1} A_{ij}\\displaystyle | j \\rangle $$\n",
    "\n",
    "The first register is called the addresss register and the second is the data register. It is important to note that the data register must be set to 0.\n",
    "$A$ represent the matrix given in parameter of size $\\normalsize 2^n \\times 2^k$, with $n$ being the number of address qbits and $k$ the number of data qbits.\n",
    "\n",
    "\n",
    "For instance, if we have the state vector $ \\displaystyle \\lvert \\psi \\rangle = \\frac{1}{\\sqrt{2}} (\\lvert 00 \\rangle + \\lvert 10 \\rangle)$, by applying a QRAM with the leftmost register being the address register and the following matrix $ A = \\begin{pmatrix}\n",
    "\\displaystyle\\frac{1}{\\sqrt{8}} &  \\displaystyle\\frac{\\displaystyle\\sqrt{7}}{\\sqrt{8}} \\\\\n",
    "\\displaystyle\\frac{\\sqrt{1}}{\\sqrt{2}} &  \\displaystyle\\frac{\\sqrt{1}}{\\sqrt{2}}\n",
    "\\end{pmatrix} $,\n",
    "we obtain the state vector $ \\displaystyle \\lvert \\psi \\rangle = \\frac{1}{4} \\lvert 00 \\rangle + \\frac{\\sqrt{7}}{4}\\lvert 01 \\rangle + \\frac{1}{2} (\\lvert 10 \\rangle + \\lvert 11 \\rangle) $.\n"
   ]
  },
  {
   "cell_type": "markdown",
   "metadata": {},
   "source": [
    "# Creating and using a QRAM in pyAQASM\n",
    "\n",
    "The QRAM gate is located in the oracles module.\n",
    "\n",
    "The numbers $n$ of address qbits and $k$ of data qbits will be deduced by the size of the matrix given in parameter. The address register is considered to be the $n$ first qbits of arity of the gate, therefore, the next $k$ qbits of arity are part of the data register.\n",
    "\n",
    "Just below, we apply our previous example in pyAQASM."
   ]
  },
  {
   "cell_type": "code",
   "execution_count": null,
   "metadata": {},
   "outputs": [],
   "source": [
    "from qat.qpus import LinAlg\n",
    "from qat.linalg.oracles import QRAM\n",
    "from qat.lang.AQASM import *\n",
    "\n",
    "from math import sqrt\n",
    "import numpy as np\n",
    "\n",
    "prog = Program()\n",
    "qbits = prog.qalloc(2)\n",
    "\n",
    "# Creating the matrix\n",
    "A = np.array([[1/sqrt(8), sqrt(7)/sqrt(8)],\n",
    "              [1/sqrt(2),       1/sqrt(2)]])\n",
    "\n",
    "# Hadamard gate on the address register to prepare the state vector\n",
    "prog.apply(H, qbits[1])\n",
    "\n",
    "# Applying the QRAM\n",
    "prog.apply(QRAM(A), qbits[1], qbits[0])\n",
    "\n",
    "# Print the results\n",
    "circuit = prog.to_circ()\n",
    "for result in LinAlg().submit(circuit.to_job()):\n",
    "    print(\"State %s has amplitude %s\\n\" % (result.state.lsb_int, result.amplitude))\n"
   ]
  },
  {
   "cell_type": "code",
   "execution_count": null,
   "metadata": {},
   "outputs": [],
   "source": []
  }
 ],
 "metadata": {
  "authors": [
   "Simon Martiel",
   "Arnaud Gazda",
   "Thomas Ayral"
  ],
  "kernelspec": {
   "display_name": "Python 3",
   "language": "python",
   "name": "python3"
  },
  "language_info": {
   "codemirror_mode": {
    "name": "ipython",
    "version": 3
   },
   "file_extension": ".py",
   "mimetype": "text/x-python",
   "name": "python",
   "nbconvert_exporter": "python",
   "pygments_lexer": "ipython3",
   "version": "3.6.8"
  }
 },
 "nbformat": 4,
 "nbformat_minor": 2
}
