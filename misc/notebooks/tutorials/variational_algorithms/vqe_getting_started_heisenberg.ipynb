{
 "cells": [
  {
   "cell_type": "markdown",
   "metadata": {},
   "source": [
    "# Getting started with Variational Quantum Eigensolving\n",
    "\n",
    "Here, we show how to find a variational ground state to the following Hamiltonian:\n",
    "\n",
    "$$ H = \\vec{\\sigma}_1\\cdot \\vec{\\sigma}_2 = \\sigma^X_1 \\sigma^X_2 + \\sigma^Y_1 \\sigma^Y_2 + \\sigma^Z_1 \\sigma^Z_2 $$\n",
    "\n",
    "We start by defining the Hamiltonian (in the form of an observable), and choose a variational circuit with two parameters:"
   ]
  },
  {
   "cell_type": "code",
   "execution_count": null,
   "metadata": {},
   "outputs": [],
   "source": [
    "from qat.core import Observable, Term\n",
    "from qat.lang.AQASM import Program, CNOT, H, RX, RY, RZ\n",
    "H_XY = Observable(2, \n",
    "                  pauli_terms=[Term(1., \"XX\", [0, 1]),\n",
    "                               Term(1., \"YY\", [0, 1]),\n",
    "                               Term(1., \"ZZ\", [0, 1])]\n",
    "                  )\n",
    "print(\"Hamiltonian:\", H_XY)\n",
    "\n",
    "prog = Program()\n",
    "qbits = prog.qalloc(2)\n",
    "\n",
    "alpha = prog.new_var(float, \"\\\\alpha\")\n",
    "beta = prog.new_var(float, \"\\\\beta\")\n",
    "gamma = prog.new_var(float, \"\\\\gamma\")\n",
    "prog.apply(H, qbits[0])\n",
    "prog.apply(RY(alpha), qbits[1])\n",
    "prog.apply(CNOT, qbits)\n",
    "prog.apply(RX(beta), qbits[0])\n",
    "prog.apply(RY(gamma), qbits[1])\n",
    "\n",
    "circuit = prog.to_circ()\n",
    "\n",
    "%qatdisplay circuit"
   ]
  },
  {
   "cell_type": "markdown",
   "metadata": {},
   "source": [
    "## Optimization\n",
    "\n",
    "We now perform the optimization, using a Variational Plugin:"
   ]
  },
  {
   "cell_type": "code",
   "execution_count": null,
   "metadata": {},
   "outputs": [],
   "source": [
    "from qat.plugins import ScipyMinimizePlugin\n",
    "from qat.qpus import LinAlg\n",
    "\n",
    "linalg_qpu = LinAlg()\n",
    "theta0 = [0.4, -0.3, 0.6]\n",
    "\n",
    "optimizer_scipy = ScipyMinimizePlugin(method=\"COBYLA\",\n",
    "                                      x0=theta0,\n",
    "                                      tol=1e-3,\n",
    "                                      options={\"maxiter\": 2000})\n",
    "\n",
    "qpu = optimizer_scipy | linalg_qpu\n",
    "\n",
    "job = circuit.to_job(job_type=\"OBS\", observable=H_XY)\n",
    "\n",
    "result = qpu.submit(job)\n",
    "\n",
    "print(\"Minimum energy =\", result.value)\n",
    "print(\"Optimal angles =\", result.meta_data[\"parameters\"])\n",
    "#print(\"==========Optimization data=============\\n\", result.meta_data['optimization_trace'])\n",
    "\n",
    "%matplotlib inline\n",
    "import matplotlib.pyplot as plt\n",
    "plt.plot(eval(result.meta_data['optimization_trace']))\n",
    "plt.xlabel(\"Steps\")\n",
    "plt.ylabel(\"Energy\");"
   ]
  },
  {
   "cell_type": "markdown",
   "metadata": {},
   "source": [
    "## True ground state\n",
    "\n",
    "In this simple case, we can compute the ground state energy by diagonalizing the matrix corresponding to the Hamiltonian:"
   ]
  },
  {
   "cell_type": "code",
   "execution_count": null,
   "metadata": {},
   "outputs": [],
   "source": [
    "import numpy as np\n",
    "from qat.dqs.hamiltonians import SpinHamiltonian\n",
    "\n",
    "H_XY_spin = SpinHamiltonian(nqbits=H_XY.nbqbits, pauli_terms=H_XY.terms)\n",
    "H_XY_matrix = H_XY_spin.get_matrix()\n",
    "\n",
    "eigvals, eigvecs = np.linalg.eigh(H_XY_matrix)\n",
    "print(\"Exact ground state energy: \", min(eigvals))"
   ]
  },
  {
   "cell_type": "markdown",
   "metadata": {},
   "source": [
    "## Going further:\n",
    "\n",
    "- play with the Hamiltonian\n",
    "- play with the ansatz\n",
    "- play with the QPU: try with a noisy QPU\n",
    "- play with the optimizer (change the method)"
   ]
  },
  {
   "cell_type": "code",
   "execution_count": null,
   "metadata": {},
   "outputs": [],
   "source": []
  }
 ],
 "metadata": {
  "kernelspec": {
   "display_name": "Python 3",
   "language": "python",
   "name": "python3"
  },
  "language_info": {
   "codemirror_mode": {
    "name": "ipython",
    "version": 3
   },
   "file_extension": ".py",
   "mimetype": "text/x-python",
   "name": "python",
   "nbconvert_exporter": "python",
   "pygments_lexer": "ipython3",
   "version": "3.6.8"
  },
  "tags": [
   "variational"
  ]
 },
 "nbformat": 4,
 "nbformat_minor": 2
}
