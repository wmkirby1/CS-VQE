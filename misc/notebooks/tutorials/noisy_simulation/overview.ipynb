{
 "cells": [
  {
   "cell_type": "markdown",
   "metadata": {},
   "source": [
    "# Running noisy simulations on the QLM\n",
    "\n",
    "The QLM comes with a collection of tools that allow you to design and run noisy quantum programs.\n",
    "\n",
    "This folder contains notebooks introducing the different tools provided inside the `qat.quops`, `qat.hardware` and `qat.noisy` namespaces.\n",
    "\n",
    "#### Basic\n",
    "- [setting up a noisy simulation](./noisy_simulation_service.ipynb)\n",
    "- [a noisy Quantum Fourier transform](./noisy_qft_on_ibm_hardware.ipynb)\n",
    "- [creating one's own hardware model](./create_own_hardware_model.ipynb)\n",
    "- [using predefined hardware models](./using_predefined_hardware_models.ipynb)\n",
    "- [learning about noise models, aka quantum channels](./quantum_channels.ipynb)\n",
    "\n",
    "#### Advanced\n",
    "- [computing the density matrix](./density_matrix_simulation.ipynb)\n",
    "- [parametric quantum channels to describe idling noise](./parametric_channels.ipynb)\n",
    "- [noisy state preparation and measurement](./noisy_spam.ipynb)\n",
    "- [adding gate noise](./gate_noise_example.ipynb)\n",
    "- [how to do tomography](./tomography_basics.ipynb)\n",
    "- [generate and process data for tomography](./tomography_data_collection_and_processing.ipynb)"
   ]
  },
  {
   "cell_type": "code",
   "execution_count": null,
   "metadata": {},
   "outputs": [],
   "source": []
  }
 ],
 "metadata": {
  "authors": [
   "Thomas Ayral",
   "Satyanarayana Bade"
  ],
  "kernelspec": {
   "display_name": "Python 3",
   "language": "python",
   "name": "python3"
  },
  "language_info": {
   "codemirror_mode": {
    "name": "ipython",
    "version": 3
   },
   "file_extension": ".py",
   "mimetype": "text/x-python",
   "name": "python",
   "nbconvert_exporter": "python",
   "pygments_lexer": "ipython3",
   "version": "3.6.8"
  }
 },
 "nbformat": 4,
 "nbformat_minor": 2
}
