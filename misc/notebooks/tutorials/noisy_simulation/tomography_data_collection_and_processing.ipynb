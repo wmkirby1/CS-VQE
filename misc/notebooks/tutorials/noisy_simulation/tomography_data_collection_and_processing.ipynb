{
 "cells": [
  {
   "cell_type": "markdown",
   "metadata": {},
   "source": [
    "# Collecting and post-processing tomography data\n",
    "\n",
    "This notebook shows how to use the QLM functions to collect data for tomography, and how to postprocess it.\n",
    "\n",
    "## Part I: Data collection"
   ]
  },
  {
   "cell_type": "code",
   "execution_count": null,
   "metadata": {},
   "outputs": [],
   "source": [
    "# imports\n",
    "%load_ext autoreload\n",
    "%autoreload 2\n",
    "import numpy as np\n",
    "from qat.core.circuit_builder.matrix_util import get_predef_generator, get_param_generator\n",
    "import qat.mps\n",
    "from qat.quops import QuantumChannelKraus, ParametricAmplitudeDamping\n",
    "from qat.hardware import HardwareModel, GatesSpecification\n",
    "from qat.noisy import NoisyQProc"
   ]
  },
  {
   "cell_type": "markdown",
   "metadata": {},
   "source": [
    "### Preparation and measurement sequences\n",
    "\n",
    "The quantum process corresponding to a gate $G$ is a linear application (quantum channel/CPTP map). It can be fully characterized by its action on a family of linearly independent vectors of the Hilbert space of density matrices (which are of size $d^2 \\times d^2$, with $d=2^{nqbits}$). In other words, one must prepare at least $d^2$ \"informationally complete\" (IC) states, and measure at least $d^2$ IC observables on the final state (i.e after the action of the gate $G$ to be characterized).\n",
    "\n",
    "The sequence of such \"preparation gates\" and \"measurement gates\" (sometimes called \"fiducial sequences\") can be specified by the user, or chosen from predefined sequences that are returned by the function ``prepare_gatesets_and_fiducials``. Note that this function also returns predefined gatesets because the tomography method called Gate Set Tomography (GST) requires some consistency between the gateset and the fiducial sequences.\n",
    "\n",
    "In the following cell, we use this function to generate a simple gateset $\\mathcal{G}$ and fiducial sequences $\\mathcal{F}$ and $\\mathcal{F}'$ (note that here $\\mathcal{F}=\\mathcal{F}'$):"
   ]
  },
  {
   "cell_type": "code",
   "execution_count": null,
   "metadata": {},
   "outputs": [],
   "source": [
    "from qat.tomo.util import prepare_gatesets_and_fiducials\n",
    "gatesets, prep_gates, meas_gates = prepare_gatesets_and_fiducials()\n",
    "\n",
    "print(\"gateset (G) =\", gatesets[\"gb1\"])\n",
    "print(\"prep_gates (F) =\", prep_gates[\"gb1\"])\n",
    "print(\"meas_gates (F') =\", meas_gates[\"gb1\"])"
   ]
  },
  {
   "cell_type": "markdown",
   "metadata": {},
   "source": [
    "Note that here by convention, 'X_PI2' means $R_x(\\pi/2)$ (and so on). \n",
    "\n",
    "The preparation and measurement fiducial sequences are meant to be applied after preparation of a fixed initial state (usually $\\rho=|0\\rangle\\langle 0|$) or measurement of a fixed observable (usually $|1\\rangle \\langle 1|$), respectively.\n",
    "\n",
    "### Data collection\n",
    "\n",
    "Tomography starts by computing the expectation value $\\tilde{G}^{(k)}_{i,j}$ of a series of circuits consisting of the gate sequences $F_j^{(1)},\\dots F_j^{(n_j)},G^{(k)},F_i^{'(1)},\\dots, F_i^{'(n'_i)}$ with $F_j \\in \\mathcal{F}$, $G^{(k)} \\in \\mathcal{G}$, $F'_i \\in \\mathcal{F}'$.\n",
    "\n",
    "This is done in the function ``collect_tomography_data``, which can be used in two ways:\n",
    "- when no \"qpu\" parameter is set, the function merely generates the *.circ files corresponding the circuits which we need to run (this mode is just here temporarily)"
   ]
  },
  {
   "cell_type": "code",
   "execution_count": null,
   "metadata": {},
   "outputs": [],
   "source": [
    "# when no option \"qpu\" is set: we only dump the circuits to *.circ files\n",
    "from qat.tomo import collect_tomography_data\n",
    "_ = collect_tomography_data(prep_gates[\"gb1\"],\n",
    "                            meas_gates[\"gb1\"],\n",
    "                            gate_list=[\"X_PI2\"],\n",
    "                            qbits=[0])"
   ]
  },
  {
   "cell_type": "code",
   "execution_count": null,
   "metadata": {},
   "outputs": [],
   "source": [
    "!ls *.circ"
   ]
  },
  {
   "cell_type": "markdown",
   "metadata": {},
   "source": [
    "- when the \"qpu\" is specified, the circuits are simulated or actually run using the user-supplied QPU:"
   ]
  },
  {
   "cell_type": "code",
   "execution_count": null,
   "metadata": {},
   "outputs": [],
   "source": [
    "# in the cell below, we build a toy QPU and call the function\n",
    "\n",
    "# here I create a QPU from a noise model; this QPU can be replaced\n",
    "# by an actual quantum processor\n",
    "AD = ParametricAmplitudeDamping(T_1=10)(1)\n",
    "kraus_dict = {key: QuantumChannelKraus([get_param_generator()[g_name](angle)])\n",
    "            for key, g_name, angle in [(\"X_PI2\",\"RX\", np.pi/2),\n",
    "                                       (\"Y_PI2\", \"RY\", np.pi/2),\n",
    "                                       (\"X_PI\", \"RX\", np.pi)]}\n",
    "target_gate_spec = GatesSpecification(gate_times={k: 0 for k in kraus_dict.keys()},\n",
    "                                      quantum_channels=kraus_dict)\n",
    "qpu = NoisyQProc(hardware_model=HardwareModel(target_gate_spec),\n",
    "                 sim_method=\"deterministic-vectorized\")\n",
    "\n",
    "G_tilde, G_tilde_err_sq, g_tilde,\\\n",
    "g_tilde_err_sq, E_tilde, E_tilde_err_sq,\\\n",
    "rho_tilde, rho_tilde_err_sq = collect_tomography_data(prep_gates[\"gb1\"],\n",
    "                                                      meas_gates[\"gb1\"],\n",
    "                                                      gate_list=[\"X_PI2\"],\n",
    "                                                      qpu=qpu,\n",
    "                                                      qbits=[0],\n",
    "                                                      n_shots=512,\n",
    "                                                      add_gst_measurements=True)\n",
    "\n",
    "\n",
    "print(G_tilde)\n",
    "print(type(E_tilde), E_tilde.shape)"
   ]
  },
  {
   "cell_type": "markdown",
   "metadata": {},
   "source": [
    "In the cell above, we added an option ``add_gst_measurements``. When set to true, it adds to the above-mentioned $G^{(k)}_{ij}$ measurements other measurements needed for GST:\n",
    "- circuits of the type  $F_j^{(1)},\\dots F_j^{(n_j)}, F_i^{'(1)},\\dots, F_i^{'(n'_i)}$, with corresponding average $ \\tilde{g}_{ij}$,\n",
    "- circuits of the type  $F_j^{(1)},\\dots F_j^{(n_j)}$, with corresponding average $ \\tilde{\\rho}_{j}$,\n",
    "- circuits of the type  $F_i^{'(1)},\\dots, F_i^{'(n'_i)}$, with corresponding average $\\tilde{E}_{i}$.\n",
    "\n",
    "All the variable names `*_err_sq` correspond to the squared error on the mean relative to the respective circuits.\n",
    "\n",
    "A word of warning: the gate names given in the preparation/measurement sequences and in the gateset have to be consistent with the native gateset of the QPU."
   ]
  },
  {
   "cell_type": "markdown",
   "metadata": {},
   "source": [
    "### Dumping data to file and reading from file\n",
    "\n",
    "The data collected from the circuits used in ``collect_tomography_data`` can easily be dumped to a 'json' file, and later read out from it. Here is a example:"
   ]
  },
  {
   "cell_type": "code",
   "execution_count": null,
   "metadata": {},
   "outputs": [],
   "source": [
    "data = {\"G_tilde\": [g.tolist() for g in G_tilde],\n",
    "        \"G_tilde_err\": [g.tolist() for g in G_tilde_err_sq],\n",
    "        \"g_tilde\": g_tilde.tolist(),\n",
    "        \"E_tilde\": E_tilde.tolist(),\n",
    "        \"rho_tilde\": rho_tilde.tolist(),\n",
    "        \"prep_gates\": prep_gates[\"gb1\"], \n",
    "        \"meas_gates\": meas_gates[\"gb1\"],\n",
    "        \"gate_list\": [\"X_PI2\"]\n",
    "       }\n",
    "\n",
    "import io, json\n",
    "with io.open('data.txt', 'w') as f:\n",
    "  f.write(json.dumps(data, ensure_ascii=False))\n",
    "\n",
    "with open('data.txt') as json_file:  \n",
    "    data2 = json.load(json_file)"
   ]
  },
  {
   "cell_type": "markdown",
   "metadata": {},
   "source": [
    "## Part II: Post-processing\n",
    "\n",
    "The next step is to use the measured data to characterize the quantum processor's hardware model. "
   ]
  },
  {
   "cell_type": "code",
   "execution_count": null,
   "metadata": {},
   "outputs": [],
   "source": [
    "%load_ext autoreload\n",
    "%autoreload 2\n",
    "import numpy as np\n",
    "from qat.quops import QuantumChannelPTM, QuantumChannelKraus, ParametricAmplitudeDamping\n",
    "from qat.quops.converters import convert_kraus_to_ptm\n",
    "from qat.core.circuit_builder.matrix_util import get_predef_generator, get_param_generator\n",
    "from qat.hardware import HardwareModel\n",
    "from qat.hardware import GatesSpecification\n",
    "\n",
    "with_ptm = False\n",
    "\n",
    "if with_ptm:\n",
    "    AD = QuantumChannelPTM(convert_kraus_to_ptm(ParametricAmplitudeDamping(T_1=10)(1).kraus_operators))\n",
    "    ptm_dict = {key: AD*QuantumChannelPTM(convert_kraus_to_ptm([get_param_generator()[g_name](angle)]))\n",
    "                for key, g_name, angle in [(\"X_PI2\",\"RX\", np.pi/2),\n",
    "                                           (\"Y_PI2\", \"RY\", np.pi/2),\n",
    "                                           (\"X_PI\", \"RX\", np.pi)]}\n",
    "\n",
    "    target_gate_spec = GatesSpecification(gate_times={k: 0 for k in ptm_dict.keys()},\n",
    "                                          quantum_channels=ptm_dict)\n",
    "else:\n",
    "    AD = ParametricAmplitudeDamping(T_1=10)(1)\n",
    "    kraus_dict = {key: QuantumChannelKraus([get_param_generator()[g_name](angle)])\n",
    "                for key, g_name, angle in [(\"X_PI2\",\"RX\", np.pi/2),\n",
    "                                           (\"Y_PI2\", \"RY\", np.pi/2),\n",
    "                                           (\"X_PI\", \"RX\", np.pi)]}\n",
    "\n",
    "    target_gate_spec = GatesSpecification(gate_times={k: 0 for k in kraus_dict.keys()},\n",
    "                                          quantum_channels=kraus_dict)\n",
    "\n",
    "\n",
    "\n",
    "from qat.tomo import process_tomography_data\n",
    "nqbits = 1\n",
    "gspec = process_tomography_data('lqpt', \n",
    "                              prep_gates[\"gb1\"],\n",
    "                              meas_gates[\"gb1\"],\n",
    "                              G_tilde,\n",
    "                              G_tilde_err_sq,\n",
    "                              g_tilde,\n",
    "                              E_tilde,\n",
    "                              rho_tilde,\n",
    "                              nqbits, target_gates_spec=target_gate_spec,\n",
    "                              gate_list=[\"X_PI2\"], enforce_CP=False,\n",
    "                              enforce_TP=False, verbose=True)"
   ]
  },
  {
   "cell_type": "code",
   "execution_count": null,
   "metadata": {},
   "outputs": [],
   "source": [
    "gspec.quantum_channels['X_PI2'].ptm"
   ]
  }
 ],
 "metadata": {
  "authors": [
   "Thomas Ayral",
   "Satyanarayana Bade"
  ],
  "kernelspec": {
   "display_name": "Python 3",
   "language": "python",
   "name": "python3"
  },
  "language_info": {
   "codemirror_mode": {
    "name": "ipython",
    "version": 3
   },
   "file_extension": ".py",
   "mimetype": "text/x-python",
   "name": "python",
   "nbconvert_exporter": "python",
   "pygments_lexer": "ipython3",
   "version": "3.6.8"
  }
 },
 "nbformat": 4,
 "nbformat_minor": 2
}
