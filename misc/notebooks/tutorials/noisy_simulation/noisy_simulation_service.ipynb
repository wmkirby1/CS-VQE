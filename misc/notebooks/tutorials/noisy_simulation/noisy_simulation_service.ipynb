{
 "cells": [
  {
   "cell_type": "markdown",
   "metadata": {
    "qat-category": "4-Noisy quantum computation",
    "qat-summary": "1-Setting up a noisy quantum computation"
   },
   "source": [
    "# Setting up a noisy quantum computation\n",
    "\n",
    "This notebook shows how to set up a noisy quantum computation, starting from an ideal circuit.\n",
    "\n",
    "\n",
    "## Circuit creation\n",
    "Here we create a simple 3-qubit circuit."
   ]
  },
  {
   "cell_type": "code",
   "execution_count": 1,
   "metadata": {},
   "outputs": [
    {
     "name": "stderr",
     "output_type": "stream",
     "text": [
      "UsageError: Line magic function `%qatdisplay` not found.\n"
     ]
    }
   ],
   "source": [
    "from qat.lang.AQASM import Program, H, PH, SWAP, CNOT\n",
    "prog = Program()\n",
    "reg = prog.qalloc(3)\n",
    "prog.apply(H, reg[2])\n",
    "prog.apply(H.ctrl(), reg[0:2])\n",
    "prog.apply(PH(0.4).ctrl(), reg[0:2])\n",
    "prog.apply(CNOT, reg[0:2])\n",
    "prog.apply(SWAP, reg[1:3])\n",
    "prog.apply(CNOT, reg[1:3])\n",
    "circ = prog.to_circ()\n",
    "\n",
    "%qatdisplay circ"
   ]
  },
  {
   "cell_type": "markdown",
   "metadata": {},
   "source": [
    "For more information about how to write a quantum circuit in Python, check out [this tutorial](../lang/writing_quantum_program.ipynb).\n",
    "\n",
    "## Instantiating a noisy quantum processor\n",
    "\n",
    "\n",
    "A noisy quantum processor is characterized by \n",
    "\n",
    "- a **hardware model**: this object describes the quantum gates (their duration, the *quantum channel* that defines them, ...) and the environment (also described by quantum channels)\n",
    "- a **simulation method**: the user can choose between a deterministic and a stochastic method to compute the final result.\n",
    "    - The deterministic method is based on a density-matrix representation of the system and is hence limited to small numbers of qubits. \n",
    "    - The stochastic method is based a statevector representation, and can thus be used for larger numbers of qubits. It may necessitate a large number of samples to converge to a reliable result \n",
    "\n",
    "In the following, we choose a predefined hardware model, **DefaultHardware**, which describes an ideal set of gates: each gate is represented by a unitary matrix. The gate times and environmental noise can be specified by the user at the creation of the hardware model.\n",
    "\n",
    "To learn more about quantum channels in the QLM, check out [this tutorial](quantum_channels.ipynb).\n",
    "To learn how to define your own hardware model (with e.g gates defined by quantum channels, and custom environmental noise), check out [this tutorial](create_own_hardware_model.ipynb).\n",
    "\n",
    "\n",
    "### Python usage\n",
    "\n",
    "#### Basic usage: instantaneous gates, no noise\n",
    "\n",
    "This code snippet illustrates the different steps to \n",
    "- specify a (oversimplified) noisy quantum processor and \n",
    "- carry out a computation."
   ]
  },
  {
   "cell_type": "code",
   "execution_count": 2,
   "metadata": {
    "scrolled": true
   },
   "outputs": [
    {
     "name": "stdout",
     "output_type": "stream",
     "text": [
      "State |000>, probability 0.6, err 0.2449489742783178\n",
      "State |011>, probability 0.4, err 0.2449489742783178\n"
     ]
    }
   ],
   "source": [
    "from qat.hardware import DefaultHardwareModel\n",
    "# import one Quantum Processor Unit Factory\n",
    "from qat.qpus import NoisyQProc\n",
    "\n",
    "# here, we define a DefaultHardwareModel without arguments: the gates are supposed to be ideal, instantaneous\n",
    "# and there is no environmental noise: this is a perfect quantum hardware\n",
    "hardware_model = DefaultHardwareModel()\n",
    "\n",
    "# we choose the deterministic method to simulate the circuit\n",
    "# this method is costly in terms of memory as it is based on the density matrix\n",
    "noisy_qpu = NoisyQProc(hardware_model=hardware_model, sim_method=\"deterministic\")\n",
    "\n",
    "# create a task for this circuit + qpu\n",
    "job = circ.to_job(nbshots=5)\n",
    "\n",
    "# we submit the job to the noisy QPU\n",
    "# this simulates the measured output state of a quantum computer \n",
    "result = noisy_qpu.submit(job)\n",
    "for sample in result:\n",
    "    print(\"State %s, probability %s, err %s\"%(sample.state, sample.probability, sample.err))"
   ]
  },
  {
   "cell_type": "markdown",
   "metadata": {},
   "source": [
    "In ``res``, the ``err`` field corresponds to the error bar on the probability. It is set to ``None`` for deterministic simulation methods.\n",
    "\n",
    "\n",
    "We can also print out all the computational basis states with nonzero probability. Note that contrary to ideal circuit simulators, we do not have access to the quantum amplitudes, but merely the probabilities:"
   ]
  },
  {
   "cell_type": "code",
   "execution_count": 3,
   "metadata": {},
   "outputs": [
    {
     "name": "stdout",
     "output_type": "stream",
     "text": [
      "State |000>, probability 0.4999999999999999, err None\n",
      "State |011>, probability 0.4999999999999999, err None\n"
     ]
    }
   ],
   "source": [
    "job = circ.to_job()\n",
    "result = noisy_qpu.submit(job)\n",
    "for sample in result:\n",
    "    print(\"State %s, probability %s, err %s\"%(sample.state, sample.probability, sample.err))"
   ]
  },
  {
   "cell_type": "markdown",
   "metadata": {},
   "source": [
    "We can compare the results with those of an ideal circuit simulated with linalg, for instance. Because our current hardware model corresponds to a perfect quantum processor, we should get the same results: "
   ]
  },
  {
   "cell_type": "code",
   "execution_count": 4,
   "metadata": {},
   "outputs": [
    {
     "name": "stdout",
     "output_type": "stream",
     "text": [
      "State |000>, probability 0.4999999999999999, err None\n",
      "State |011>, probability 0.4999999999999999, err None\n"
     ]
    }
   ],
   "source": [
    "# import one Quantum Processor Unit Factory\n",
    "from qat.qpus import LinAlg\n",
    "# Create a Quantum Processor Unit\n",
    "\n",
    "result = LinAlg().submit(circ.to_job())\n",
    "for res in result:\n",
    "    print(\"State %s, probability %s, err %s\"%(res.state, res.probability, res.err))"
   ]
  },
  {
   "cell_type": "markdown",
   "metadata": {},
   "source": [
    "#### Basic usage: user-defined gate times, amplitude-damping and pure-dephasing noises\n",
    "\n",
    "##### Definition of two noisy quantum processors\n",
    "Here, we construct a hardware model with defects. \n",
    "\n",
    "We choose to model environmental noise with two simple kinds of noise: **amplitude damping** and **pure dephasing noise** with their respective characteristic decay times, $T_1$ and $T_\\varphi$ (in the Lindblad approximation). (see [here](quantum_channels.ipynb) for more details.)\n",
    "\n",
    "With this model, we define to noisy quantum processing units (QPUs), one which uses the deterministic simulation method, one which uses the stochastic one."
   ]
  },
  {
   "cell_type": "code",
   "execution_count": 5,
   "metadata": {},
   "outputs": [
    {
     "name": "stderr",
     "output_type": "stream",
     "text": [
      "UsageError: Line magic function `%qatdisplay` not found.\n"
     ]
    }
   ],
   "source": [
    "from qat.hardware import DefaultHardwareModel\n",
    "from qat.quops import ParametricAmplitudeDamping, ParametricPureDephasing\n",
    "\n",
    "# Here, we instantiate the DefaultHardware with gate times and a description of environmental noise\n",
    "hardware_model = DefaultHardwareModel(\n",
    "                    gate_times = {\"H\": 2, \"PH\": lambda angle : 5*angle, \"CNOT\": 30, \"SWAP\": 40,\n",
    "                                  \"C-H\": 40, \"C-PH\": lambda angle : 40},\n",
    "                    idle_noise = [ParametricAmplitudeDamping(T_1=200), ParametricPureDephasing(T_phi=100)]\n",
    "                )\n",
    "\n",
    "# We define a first noisy quantum processor with this hardware model, \n",
    "# and a deterministic method to simulate the computation of the circuit\n",
    "noisy_qpu_1 = NoisyQProc(hardware_model = hardware_model, sim_method = \"deterministic\")\n",
    "\n",
    "# We define a second noisy quantum processor with the same hardware model, \n",
    "# but this time with a stochastic method to simulate the computation of the circuit\n",
    "from qat.qpus import LinAlg\n",
    "noisy_qpu_2 = NoisyQProc(hardware_model=hardware_model,\n",
    "                         sim_method=\"stochastic\", \n",
    "                         backend_simulator=LinAlg(),\n",
    "                         n_samples=10000)\n",
    "\n",
    "# We display the circuit in the form of a time sequence. The horizontal dimension of the boxes is proportional to the gate duration\n",
    "%matplotlib inline\n",
    "%qatdisplay circ --hardware hardware_model"
   ]
  },
  {
   "cell_type": "markdown",
   "metadata": {},
   "source": [
    "We made a particular assumption on the timing of each gate: we assume that gates applied on different qubits can be applied simultaneously. For instance, in the plot above, the first Hadamard gate (qubit Q2) is applied at the same time as the controlled Hadamard gate (qubits Q0 and Q1).\n",
    "\n",
    "\n",
    "If the ``sim_method`` is ``stochastic``, one can specify the backend statevector simulator through the option ``backend_simulator``. Here, we used ``qat.linalg.LinAlg()``, but could also have used e.g ``qat.mps.MPS()`` or ``qat.feynman.Feynman()``.\n",
    "\n",
    "The ``n_samples`` option is also specific to the ``stochastic`` method. The error bar on the output probabilities depends on ``n_samples`` as $\\propto 1/\\sqrt{n_\\mathrm{samples}}$.\n",
    "\n",
    "<div class=\"alert alert-success\">\n",
    "To learn more about how to describe noise sources on the QLM, check out [this more advanced tutorial](quantum_channels.ipynb).\n",
    "</div>"
   ]
  },
  {
   "cell_type": "markdown",
   "metadata": {},
   "source": [
    "##### Finite number of shots\n",
    "Here, run the same circuit 10 times on the first noisy QPU."
   ]
  },
  {
   "cell_type": "code",
   "execution_count": 6,
   "metadata": {},
   "outputs": [
    {
     "name": "stdout",
     "output_type": "stream",
     "text": [
      "State |011>, probability 0.3, err 0.15275252316519466\n",
      "State |000>, probability 0.7, err 0.15275252316519466\n"
     ]
    }
   ],
   "source": [
    "job = circ.to_job(nbshots=10)\n",
    "\n",
    "# we submit the job to the noisy QPU\n",
    "# this simulates the measured output state of a quantum computer \n",
    "result = noisy_qpu_1.submit(job)\n",
    "for sample in result:\n",
    "    print(\"State %s, probability %s, err %s\"%(sample.state, sample.probability, sample.err))"
   ]
  },
  {
   "cell_type": "markdown",
   "metadata": {},
   "source": [
    "We run the same task with the second QPU, which uses a stochastic method to simulate the noisy circuit evolution:"
   ]
  },
  {
   "cell_type": "code",
   "execution_count": 7,
   "metadata": {},
   "outputs": [
    {
     "name": "stdout",
     "output_type": "stream",
     "text": [
      "State |000>, probability 0.7, err 0.15275252316519466\n",
      "State |011>, probability 0.3, err 0.15275252316519466\n"
     ]
    }
   ],
   "source": [
    "job = circ.to_job(nbshots=10)\n",
    "\n",
    "# we submit the job to the noisy QPU\n",
    "# this simulates the measured output state of a quantum computer \n",
    "result = noisy_qpu_2.submit(job)\n",
    "for sample in result:\n",
    "    print(\"State %s, probability %s, err %s\"%(sample.state, sample.probability, sample.err))"
   ]
  },
  {
   "cell_type": "markdown",
   "metadata": {},
   "source": [
    "The ``err`` field in ``Result`` is the error bar on the probability, for the number of samples (here 10000) specified by the user."
   ]
  },
  {
   "cell_type": "markdown",
   "metadata": {},
   "source": [
    "##### Infinite number of shots\n",
    "With a simulator, one can compute the probabilities corresponding to an infinite number of shots or repetitions. The default value of the ``nbshots`` parameter, 0, corresponds to this situation:"
   ]
  },
  {
   "cell_type": "code",
   "execution_count": 8,
   "metadata": {},
   "outputs": [
    {
     "name": "stdout",
     "output_type": "stream",
     "text": [
      "State |000>, probability 0.708625873813005, err None\n",
      "State |011>, probability 0.29137412618699465, err None\n",
      "State |000>, probability 0.7051106374196288, err 0.004764387257037408\n",
      "State |011>, probability 0.2905248826992639, err 0.003566851005927805\n"
     ]
    }
   ],
   "source": [
    "# deterministic simulation\n",
    "result = noisy_qpu_1.submit(circ.to_job())\n",
    "for sample in result:\n",
    "    print(\"State %s, probability %s, err %s\"%(sample.state, sample.probability, sample.err))\n",
    "\n",
    "# stochastic simulation\n",
    "result = noisy_qpu_2.submit(circ.to_job())\n",
    "for sample in result:\n",
    "    print(\"State %s, probability %s, err %s\"%(sample.state, sample.probability, sample.err))"
   ]
  },
  {
   "cell_type": "markdown",
   "metadata": {},
   "source": [
    "Note that the probabilities obtained *via* the stochastic simulation are not exactly equal to those obtained *via* the deterministic one, but will converge as $\\propto 1/\\sqrt{n_\\mathrm{samples}}$ towards the deterministic values. "
   ]
  },
  {
   "cell_type": "markdown",
   "metadata": {},
   "source": [
    "<div class=\"alert alert-success\">\n",
    "In [this more advanced tutorial](create_own_hardware_model.ipynb), learn how to create your own hardware model.\n",
    "</div>"
   ]
  },
  {
   "cell_type": "code",
   "execution_count": null,
   "metadata": {},
   "outputs": [],
   "source": []
  },
  {
   "cell_type": "code",
   "execution_count": null,
   "metadata": {},
   "outputs": [],
   "source": []
  }
 ],
 "metadata": {
  "authors": [
   "Thomas Ayral",
   "Satyanarayana Bade"
  ],
  "kernelspec": {
   "display_name": "Python 3",
   "language": "python",
   "name": "python3"
  },
  "language_info": {
   "codemirror_mode": {
    "name": "ipython",
    "version": 3
   },
   "file_extension": ".py",
   "mimetype": "text/x-python",
   "name": "python",
   "nbconvert_exporter": "python",
   "pygments_lexer": "ipython3",
   "version": "3.6.8"
  }
 },
 "nbformat": 4,
 "nbformat_minor": 2
}
