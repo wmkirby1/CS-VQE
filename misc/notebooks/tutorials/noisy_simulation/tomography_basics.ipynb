{
 "cells": [
  {
   "cell_type": "markdown",
   "metadata": {},
   "source": [
    "# Tomography: getting started\n",
    "\n",
    "In this notebook, you will learn how to use the QLM's tomography module, ``qat.tomo``.\n",
    "\n",
    "## Hardware model definition"
   ]
  },
  {
   "cell_type": "code",
   "execution_count": null,
   "metadata": {},
   "outputs": [],
   "source": [
    "%load_ext autoreload\n",
    "%autoreload 2\n",
    "import numpy as np\n",
    "from qat.core.circuit_builder.matrix_util import get_predef_generator, get_param_generator\n",
    "import qat.mps\n",
    "from qat.hardware import HardwareModel\n",
    "from qat.hardware import GatesSpecification\n",
    "from qat.noisy import NoisyQProc\n",
    "from qat.quops import QuantumChannelPTM, QuantumChannelKraus, ParametricAmplitudeDamping\n",
    "from qat.quops.converters import convert_kraus_to_ptm\n",
    "\n",
    "with_ptm = True\n",
    "\n",
    "if with_ptm:\n",
    "    AD = QuantumChannelPTM(convert_kraus_to_ptm(ParametricAmplitudeDamping(T_1=10)(1).kraus_operators))\n",
    "    ptm_dict = {key: AD*QuantumChannelPTM(convert_kraus_to_ptm([get_param_generator()[g_name](angle)]))\n",
    "                for key, g_name, angle in [(\"X_PI2\",\"RX\", np.pi/2),\n",
    "                                           (\"Y_PI2\", \"RY\", np.pi/2),\n",
    "                                           (\"X_PI\", \"RX\", np.pi)]}\n",
    "\n",
    "    target_gate_spec = GatesSpecification(gate_times={k: 0 for k in ptm_dict.keys()},\n",
    "                                          quantum_channels=ptm_dict)\n",
    "\n",
    "    qpu = NoisyQProc(hardware_model=HardwareModel(target_gate_spec),\n",
    "                     sim_method=\"deterministic-vectorized\")\n",
    "else:\n",
    "    AD = ParametricAmplitudeDamping(T_1=10)(1)\n",
    "    kraus_dict = {key: QuantumChannelKraus([get_param_generator()[g_name](angle)])\n",
    "                for key, g_name, angle in [(\"X_PI2\",\"RX\", np.pi/2),\n",
    "                                           (\"Y_PI2\", \"RY\", np.pi/2),\n",
    "                                           (\"X_PI\", \"RX\", np.pi)]}\n",
    "\n",
    "    target_gate_spec = GatesSpecification(gate_times={k: 0 for k in kraus_dict.keys()},\n",
    "                                          quantum_channels=kraus_dict)\n",
    "\n",
    "    qpu = NoisyQProc(hardware_model=HardwareModel(target_gate_spec),\n",
    "                     sim_method=\"deterministic-vectorized\")"
   ]
  },
  {
   "cell_type": "markdown",
   "metadata": {},
   "source": [
    "## Choosing a gate set, preparations and measurements\n",
    "\n",
    "Tomography consists in using the QPU as a black box, with the only assumption that each quantum process, be it noise or a gate itself, acts as a linear map on the density matrix of the system. (One may also in addition assume that this map is trace-preserving and completely positive, but we will deal with these properties later on). To fully determine this matrix, one needs to prepare families of input states of rank at least the dimension of the underlying Hilbert space; similarly, one needs to determine the value of the projections of the final state on a family of independent measurements.\n",
    "\n",
    "To prepare the input states and the measurements, the user just has to specify lists of gate sequences ${F_j}_j$ and ${F'_i}_i$ such that the corresponding input states $F_j |\\rho_0\\gg$ and measurements $\\ll E| F'_i$ are *informationnally complete*, i.e are independent vectors in the Hilbert space. These two lists of gate sequences are sometimes called \"preparation fiducials\" and \"measurement fiducials\".\n",
    "\n",
    "In the following cell, we prepare three different choices of fiducials."
   ]
  },
  {
   "cell_type": "code",
   "execution_count": null,
   "metadata": {},
   "outputs": [],
   "source": [
    "from qat.tomo.util import prepare_gatesets_and_fiducials\n",
    "gatesets, prep_fiducials, meas_fiducials = prepare_gatesets_and_fiducials()\n"
   ]
  },
  {
   "cell_type": "markdown",
   "metadata": {},
   "source": [
    "## Launching the tomography\n",
    "\n",
    "Two distinct tomography methods are implemented in the QLM:\n",
    "- **Quantum Process Tomography (QPT)** assumes that state preparations and final measurements are know *a priori*. Using this knowledge, one can use the collected tomography data to characterize the quantum channel one wants to determine. \n",
    "- **Gateset Tomography (GST)** handles state preparations and final measurements at the same level as noisy gates, and uses a self-consistent post-processing of the collected tomography data to characterize the full gate set, including the preparation and measurement operations.\n",
    "\n",
    "In the QLM, tomography is performed by the function ``tomography``. The output is a ``DefaultGatesSpecification`` object containing the updated quantum channels (compared to the target gates)."
   ]
  },
  {
   "cell_type": "code",
   "execution_count": null,
   "metadata": {},
   "outputs": [],
   "source": [
    "from qat.tomo import perform_tomography\n",
    "from qat.quops.converters import convert_kraus_to_ptm\n",
    "tomo_gates_spec = perform_tomography(qpu, \n",
    "                             method=\"lgst\",  # which method to use (can also be \"lgst\")\n",
    "                             prep_gates=prep_fiducials[\"gb1\"],\n",
    "                             meas_gates=meas_fiducials[\"gb1\"],\n",
    "                             target_gates_spec=target_gate_spec,  #expected gates (a priori knowledge, used by QPT)\n",
    "                             #target_gates_spec=None,  #expected gates (a priori knowledge, used by QPT)\n",
    "                             n_shots=0,  # number of runs for each circuit\n",
    "                             qbits=[0],  # index of qubit(s) on which gate is applied\n",
    "                             gate_list=[\"X_PI2\",\"Y_PI2\"],  # list of gate names to characterize\n",
    "                             enforce_TP=False,\n",
    "                             verbose=True)\n",
    "\n",
    "# we can know print the corresponding quantum channels. Here, we use the Pauli Transfer Matrix (PTM) representation.\n",
    "for gate_name in [\"X_PI2\"]:\n",
    "    print(\"==== Gate \", gate_name)\n",
    "    if with_ptm:\n",
    "        G_tomo = tomo_gates_spec.quantum_channels[gate_name].ptm\n",
    "        G_theo = target_gate_spec.quantum_channels[gate_name].ptm\n",
    "    else:\n",
    "        #G_tomo = convert_kraus_to_ptm(tomo_gates_spec._quantum_channels[gate_name].kraus_operators)\n",
    "        G_tomo = tomo_gates_spec.quantum_channels[gate_name].ptm\n",
    "        G_theo = convert_kraus_to_ptm(target_gate_spec.quantum_channels[gate_name].kraus_operators)\n",
    "    print(\"G from tomography=\\n\",G_tomo)\n",
    "    print(\"expected G=\\n\", G_theo)\n",
    "    print(\"err = \", np.linalg.norm(G_tomo-G_theo))"
   ]
  },
  {
   "cell_type": "markdown",
   "metadata": {},
   "source": [
    "We can know, using the noise model we just characterized, predict the outcome of a given circuit. Here, instead of using one of the QLM's simulators, we directly compute the final expectation value using the PTM representation of operators and superoperators:"
   ]
  },
  {
   "cell_type": "code",
   "execution_count": null,
   "metadata": {},
   "outputs": [],
   "source": [
    "if with_ptm:\n",
    "    E_theo = np.array([[0.5,0, 0, -0.5]])\n",
    "    rho_theo = np.array([[0.5], [0], [0], [0.5]])\n",
    "    E_tomo = tomo_gates_spec.meas# if tomo_gates_spec.meas is not None else E_theo\n",
    "    rho_tomo = tomo_gates_spec.state_prep# if tomo_gates_spec.state_prep is not None else rho_theo\n",
    "\n",
    "    print(\"<<E tomo| = \", E_tomo)\n",
    "    print(\"| rho tomo>> = \", rho_tomo)\n",
    "\n",
    "    for gate_name in [\"X_PI2\"]:\n",
    "        print(\"==== Gate G = %s =========\"% gate_name)\n",
    "        G_tomo = tomo_gates_spec.quantum_channels[gate_name].ptm\n",
    "        G_theo = target_gate_spec.quantum_channels[gate_name].ptm\n",
    "        print(\"G tomo = \", G_tomo)\n",
    "        print(\"G theor = \", G_theo)\n",
    "        print(\"|0> --- X(pi/2)  ---> |0> - i|1>  --- (measure) ---> 0.5\")\n",
    "        print(\"tr(M G(rho_0))_tomo = \", 2*E_tomo.dot(G_tomo.dot(rho_tomo)))\n",
    "        print(\"tr(M G(rho_0))_theo = \", 2*E_theo.dot(G_theo.dot(rho_theo)))\n",
    "        print(\"|0> --- X(pi/2) X(pi/2)  ---> |1> --- (measure) ---> 1\")\n",
    "        print(\"tr(M G^2(rho_0))_tomo = \", 2*E_tomo.dot(G_tomo.dot(G_tomo.dot(rho_tomo))))\n",
    "        print(\"tr(M G^2(rho_0))_theo = \", 2*E_theo.dot(G_theo.dot(G_theo.dot(rho_theo))))"
   ]
  },
  {
   "cell_type": "code",
   "execution_count": null,
   "metadata": {},
   "outputs": [],
   "source": []
  }
 ],
 "metadata": {
  "authors": [
   "Thomas Ayral",
   "Satyanarayana Bade"
  ],
  "kernelspec": {
   "display_name": "Python 3",
   "language": "python",
   "name": "python3"
  },
  "language_info": {
   "codemirror_mode": {
    "name": "ipython",
    "version": 3
   },
   "file_extension": ".py",
   "mimetype": "text/x-python",
   "name": "python",
   "nbconvert_exporter": "python",
   "pygments_lexer": "ipython3",
   "version": "3.6.8"
  }
 },
 "nbformat": 4,
 "nbformat_minor": 2
}
