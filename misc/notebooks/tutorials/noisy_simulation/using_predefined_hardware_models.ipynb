{
 "cells": [
  {
   "cell_type": "markdown",
   "metadata": {},
   "source": [
    "# Using predefined hardware models\n",
    "\n",
    "The QLM comes with predefined hardware model, in addition to the generic hardware models that one can define using Kraus operators, and to the \"perfect\" hardware model, ``DefaultHardwareModel``.\n",
    "\n",
    "Let us show how to use these hardware model. We first construct a circuit that we want to execute on a noisy QPU."
   ]
  },
  {
   "cell_type": "code",
   "execution_count": null,
   "metadata": {},
   "outputs": [],
   "source": [
    "import numpy as np\n",
    "from itertools import product\n",
    "from qat.lang.AQASM import Program, H, PH, CNOT, SWAP, RX\n",
    "from qat.hardware.default import DefaultGatesSpecification, HardwareModel\n",
    "from qat.quops import QuantumChannelKraus\n",
    "\n",
    "prog = Program()\n",
    "reg = prog.qalloc(2)\n",
    "prog.apply(H, reg[0])\n",
    "prog.apply(CNOT, reg)\n",
    "prog.apply(RX(0.3), reg[0])\n",
    "prog.apply(RX(0.5), reg[1])\n",
    "circ = prog.to_circ()\n",
    "\n",
    "%qatdisplay circ"
   ]
  },
  {
   "cell_type": "markdown",
   "metadata": {},
   "source": [
    "Let us first execute the circuit on a perfect QPU:"
   ]
  },
  {
   "cell_type": "code",
   "execution_count": null,
   "metadata": {},
   "outputs": [],
   "source": [
    "from qat.qpus import LinAlg\n",
    "qpu_0 = LinAlg()\n",
    "results = qpu_0.submit(circ.to_job())\n",
    "for sample in results:\n",
    "    print(sample.state, sample.probability)"
   ]
  },
  {
   "cell_type": "markdown",
   "metadata": {},
   "source": [
    "## Depolarizing noise model\n",
    "\n",
    "Let us now create a depolarizing noise model, and execute the circuit:"
   ]
  },
  {
   "cell_type": "code",
   "execution_count": null,
   "metadata": {},
   "outputs": [],
   "source": [
    "from qat.hardware import make_depolarizing_hardware_model\n",
    "hw_model = make_depolarizing_hardware_model(0.001, 0.01)\n",
    "\n",
    "from qat.qpus import NoisyQProc\n",
    "qpu = NoisyQProc(hardware_model=hw_model)\n",
    "\n",
    "results = qpu.submit(circ.to_job())\n",
    "for sample in results:\n",
    "    print(sample.state, sample.probability)"
   ]
  },
  {
   "cell_type": "markdown",
   "metadata": {},
   "source": [
    "More to come."
   ]
  },
  {
   "cell_type": "code",
   "execution_count": null,
   "metadata": {},
   "outputs": [],
   "source": []
  }
 ],
 "metadata": {
  "kernelspec": {
   "display_name": "Python 3",
   "language": "python",
   "name": "python3"
  },
  "language_info": {
   "codemirror_mode": {
    "name": "ipython",
    "version": 3
   },
   "file_extension": ".py",
   "mimetype": "text/x-python",
   "name": "python",
   "nbconvert_exporter": "python",
   "pygments_lexer": "ipython3",
   "version": "3.6.8"
  }
 },
 "nbformat": 4,
 "nbformat_minor": 4
}
