{
 "cells": [
  {
   "cell_type": "markdown",
   "metadata": {},
   "source": [
    "# Density-matrix simulation\n",
    "\n",
    "This notebook shows how to get the density matrix corresponding to a noisy circuit.\n",
    "\n",
    "We first define a quantum circuit:"
   ]
  },
  {
   "cell_type": "code",
   "execution_count": null,
   "metadata": {},
   "outputs": [],
   "source": [
    "from qat.lang.AQASM import Program, H\n",
    "from qat.lang.AQASM.qftarith import QFT\n",
    "prog = Program()\n",
    "reg = prog.qalloc(4)\n",
    "prog.apply(H, reg[1])\n",
    "prog.apply(QFT(4), reg)\n",
    "qft_circuit = prog.to_circ(inline=True) #convert program to circuit\n",
    "%qatdisplay qft_circuit"
   ]
  },
  {
   "cell_type": "markdown",
   "metadata": {},
   "source": [
    "We then create a hardware model with perfect gates and T1/T2 noise:"
   ]
  },
  {
   "cell_type": "code",
   "execution_count": null,
   "metadata": {},
   "outputs": [],
   "source": [
    "from qat.hardware import DefaultGatesSpecification, HardwareModel\n",
    "from qat.quops import ParametricPureDephasing, ParametricAmplitudeDamping\n",
    "\n",
    "ibm_gates_spec = DefaultGatesSpecification(gate_times={\"H\":60, \"X\":120, \"Y\":120, \"S\":1,\"T\":1,\n",
    "                                                       'D-T':1, \"Z\":1, \"RZ\":lambda angle : 1,\n",
    "                                                       \"PH\": lambda angle : 1, \"CNOT\":386,\n",
    "                                                       \"SWAP\":150, \"C-PH\":lambda angle :150, \"C-T\":150, \"C-S\":150})\n",
    "T1, T2 = 44000, 38900 #nanosecs\n",
    "hardware_model = HardwareModel(ibm_gates_spec, \n",
    "                               idle_noise=[ParametricAmplitudeDamping(T_1=T1),\n",
    "                                           ParametricPureDephasing(T_phi=1/(1/T2 - 1/(2*T1)))])\n",
    "\n",
    "%qatdisplay qft_circuit -hw hardware_model"
   ]
  },
  {
   "cell_type": "markdown",
   "metadata": {},
   "source": [
    "Finally, we compute the density matrix and check that the final state is mixed, i.e $\\mathrm{Tr}(\\rho^2) < \\mathrm{Tr}(\\rho) = 1$\n",
    "\n",
    "Note: if no hardware model is specified, we assume ideal gates."
   ]
  },
  {
   "cell_type": "code",
   "execution_count": null,
   "metadata": {},
   "outputs": [],
   "source": [
    "from qat.qpus import NoisyQProc\n",
    "from qat.noisy import compute_density_matrix\n",
    "qpu = NoisyQProc(hardware_model=hardware_model)\n",
    "rho = compute_density_matrix(qft_circuit, qpu)\n",
    "\n",
    "import numpy as np\n",
    "print(\"Tr(rho) = \", np.trace(rho).real)\n",
    "print(\"Tr(rho^2) = \", np.trace(np.dot(rho, rho)).real)"
   ]
  },
  {
   "cell_type": "code",
   "execution_count": null,
   "metadata": {},
   "outputs": [],
   "source": [
    "from qat.noisy.plot import plot_density_matrix\n",
    "%matplotlib inline\n",
    "plot_density_matrix(rho)"
   ]
  },
  {
   "cell_type": "markdown",
   "metadata": {},
   "source": [
    "Note: because of the high memory overhead of storing the density matrix, this method is limited to a small number of qbits."
   ]
  },
  {
   "cell_type": "code",
   "execution_count": null,
   "metadata": {},
   "outputs": [],
   "source": []
  }
 ],
 "metadata": {
  "authors": [
   "Thomas Ayral",
   "Satyanarayana Bade"
  ],
  "kernelspec": {
   "display_name": "Python 3",
   "language": "python",
   "name": "python3"
  },
  "language_info": {
   "codemirror_mode": {
    "name": "ipython",
    "version": 3
   },
   "file_extension": ".py",
   "mimetype": "text/x-python",
   "name": "python",
   "nbconvert_exporter": "python",
   "pygments_lexer": "ipython3",
   "version": "3.6.8"
  }
 },
 "nbformat": 4,
 "nbformat_minor": 2
}
