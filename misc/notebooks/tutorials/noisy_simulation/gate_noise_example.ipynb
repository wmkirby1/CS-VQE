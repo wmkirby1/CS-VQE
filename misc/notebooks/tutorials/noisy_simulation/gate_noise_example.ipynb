{
 "cells": [
  {
   "cell_type": "markdown",
   "metadata": {},
   "source": [
    "# Simulation with depolarizing gate noise\n",
    "\n",
    "In this notebook, we show how an example of noise model where the gates are perfect, but are followed by a user-defined noisy channel.\n",
    "\n",
    "Here, the noisy channel will be a depolarizing channel (whether one-qbit or two-qbit)."
   ]
  },
  {
   "cell_type": "code",
   "execution_count": null,
   "metadata": {},
   "outputs": [],
   "source": [
    "import numpy as np\n",
    "from itertools import product\n",
    "from qat.lang.AQASM import Program, H, PH, CNOT, SWAP, RX\n",
    "from qat.hardware.default import DefaultGatesSpecification, HardwareModel\n",
    "from qat.quops import QuantumChannelKraus\n",
    "\n",
    "prog = Program()\n",
    "reg = prog.qalloc(2)\n",
    "prog.apply(H, reg[0])\n",
    "prog.apply(CNOT, reg)\n",
    "prog.apply(RX(0.3), reg[0])\n",
    "prog.apply(RX(0.5), reg[1])\n",
    "circ = prog.to_circ()\n",
    "\n",
    "%qatdisplay circ\n",
    "\n",
    "gates_spec = DefaultGatesSpecification()\n",
    "\n",
    "# instantiating a noise model representing a depolarizing noise\n",
    "# with probability 5%\n",
    "prob = 0.05\n",
    "Xmat = np.array([[0, 1], [1, 0]])\n",
    "Ymat = np.array([[0, -1j], [1j, 0]])\n",
    "Zmat = np.array([[1, 0], [0, -1]])\n",
    "kraus_ops = [np.sqrt(1-prob)*np.identity(2),\n",
    "             np.sqrt(prob/3)*Xmat, np.sqrt(prob/3)*Ymat, np.sqrt(prob/3)*Zmat]\n",
    "noise = QuantumChannelKraus(kraus_ops)\n",
    "\n",
    "# two-qbit version\n",
    "noise2 = QuantumChannelKraus([np.kron(K1, K2) for K1, K2 in product(noise.kraus_operators, \n",
    "                                                                    noise.kraus_operators)])\n",
    "# for each gate, we specify the noise\n",
    "# note that the values in this dictionary are lambda functions\n",
    "# with as many arguments as the gate's number of arguments\n",
    "gates_noise = {\"H\": lambda: noise,\n",
    "               \"CNOT\": lambda: noise2,\n",
    "               \"RX\": lambda _: noise}\n",
    "\n",
    "hw_model = HardwareModel(gates_spec, gates_noise, idle_noise=None)"
   ]
  },
  {
   "cell_type": "markdown",
   "metadata": {},
   "source": [
    "### Noisy simulation\n",
    "\n",
    "Let us now run the circuit with a noisy simulator (QPU):"
   ]
  },
  {
   "cell_type": "code",
   "execution_count": null,
   "metadata": {},
   "outputs": [],
   "source": [
    "from qat.noisy import NoisyQProc\n",
    "qpu = NoisyQProc(hardware_model=hw_model)\n",
    "\n",
    "results = qpu.submit(circ.to_job())\n",
    "for sample in results:\n",
    "    print(sample.state, sample.probability)"
   ]
  },
  {
   "cell_type": "markdown",
   "metadata": {},
   "source": [
    "### Perfect simulation\n",
    "Let us compare to a perfect simulation:"
   ]
  },
  {
   "cell_type": "code",
   "execution_count": null,
   "metadata": {},
   "outputs": [],
   "source": [
    "from qat.mps import MPS\n",
    "\n",
    "qpu_mps = MPS()\n",
    "results = qpu_mps.submit(circ.to_job())\n",
    "for sample in results:\n",
    "    print(sample.state, sample.probability)\n"
   ]
  },
  {
   "cell_type": "markdown",
   "metadata": {
    "collapsed": true
   },
   "source": [
    "## Using predefined quantum channels\n",
    "\n",
    "Instead of the custom depolarizing channel defined above, you may want to use predefined quantum channels such as amplitude damping (AD) or pure dephasing (PD):"
   ]
  },
  {
   "cell_type": "code",
   "execution_count": null,
   "metadata": {},
   "outputs": [],
   "source": [
    "from qat.quops import ParametricAmplitudeDamping, ParametricPureDephasing\n",
    "from qat.quops import QuantumChannelKraus\n",
    "\n",
    "T1, T2 = 44000, 38000 #nanosecs\n",
    "\n",
    "#Amplitude Damping\n",
    "amp_damp = ParametricAmplitudeDamping(T_1=T1)\n",
    "\n",
    "#Pure Dephasing \n",
    "pure_deph = ParametricPureDephasing(T_phi=1/(1/T2 - 1/(2*T1)))\n",
    "\n",
    "# for the CNOT gate (whose duration is assumed to be 200 ns)\n",
    "# we choose a noise model with AD on the first (control) qubit,\n",
    "# and PD on the second (target) qubit\n",
    "two_qb_noise = QuantumChannelKraus([np.kron(k1, k2)\n",
    "                                    for k1, k2 in product(amp_damp(tau=200).kraus_operators,\n",
    "                                                          pure_deph(tau=200).kraus_operators)])\n",
    "\n",
    "# we assume that the gate is followed by AD and/or PD noise equivalent to its duration\n",
    "# i.e 40 ns for the Hadamard gate, 5.0 * theta ns for the RX(theta) gate\n",
    "gates_noise_predef = {\"H\": lambda : amp_damp(tau=40) * pure_deph(tau=40), #H will be followed by AD+PD\n",
    "                      \"CNOT\": lambda: two_qb_noise,\n",
    "                      \"RX\": lambda theta: amp_damp(tau=5.0*theta) # RX will be followed by AD only\n",
    "                      }\n",
    "\n",
    "hw_model = HardwareModel(gates_spec, gates_noise_predef, idle_noise=None)\n",
    "qpu_predef = NoisyQProc(hardware_model=hw_model)\n",
    "\n",
    "results = qpu_predef.submit(circ.to_job())\n",
    "for sample in results:\n",
    "    print(sample.state, sample.probability)"
   ]
  },
  {
   "cell_type": "markdown",
   "metadata": {},
   "source": [
    "## Qubit-dependent gate noise\n",
    "\n",
    "One can also specify gate noise on a qubit-specific level. Similarly as for idle noise, one just has to give a dictionary whose keys are the qubit indices and values the corresponding noise channels."
   ]
  },
  {
   "cell_type": "code",
   "execution_count": null,
   "metadata": {},
   "outputs": [],
   "source": [
    "prob_qb2 = 0.10\n",
    "kraus_ops_qb2 = [np.sqrt(1-prob_qb2)*np.identity(2),\n",
    "                 np.sqrt(prob_qb2/3)*Xmat,\n",
    "                 np.sqrt(prob_qb2/3)*Ymat,\n",
    "                 np.sqrt(prob_qb2/3)*Zmat]\n",
    "noise_qb2 = QuantumChannelKraus(kraus_ops_qb2)\n",
    "\n",
    "# for each gate, we specify the noise\n",
    "# note that the values in this dictionary are lambda functions\n",
    "# with as many arguments as the gate's number of arguments\n",
    "gates_noise_2 = {\"H\": lambda: noise,\n",
    "                 \"CNOT\": lambda: noise2,\n",
    "                 \"RX\": {0: (lambda _: noise), 1: (lambda _: noise_qb2)}}\n",
    "\n",
    "hw_model_2 = HardwareModel(gates_spec, gates_noise_2, idle_noise=None)"
   ]
  },
  {
   "cell_type": "code",
   "execution_count": null,
   "metadata": {},
   "outputs": [],
   "source": [
    "qpu_2 = NoisyQProc(hardware_model=hw_model_2)\n",
    "\n",
    "results = qpu_2.submit(circ.to_job())\n",
    "for sample in results:\n",
    "    print(sample.state, sample.probability)"
   ]
  },
  {
   "cell_type": "code",
   "execution_count": null,
   "metadata": {},
   "outputs": [],
   "source": []
  }
 ],
 "metadata": {
  "authors": [
   "Thomas Ayral",
   "Satyanarayana Bade"
  ],
  "kernelspec": {
   "display_name": "Python 3",
   "language": "python",
   "name": "python3"
  },
  "language_info": {
   "codemirror_mode": {
    "name": "ipython",
    "version": 3
   },
   "file_extension": ".py",
   "mimetype": "text/x-python",
   "name": "python",
   "nbconvert_exporter": "python",
   "pygments_lexer": "ipython3",
   "version": "3.6.8"
  }
 },
 "nbformat": 4,
 "nbformat_minor": 2
}
