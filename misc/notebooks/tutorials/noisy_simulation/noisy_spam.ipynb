{
 "cells": [
  {
   "cell_type": "markdown",
   "metadata": {},
   "source": [
    "# Noisy state preparation and measurement\n",
    "\n",
    "The QLM's noise models include noisy state preparations and measurements. To describe those, you will need to specify the initial density matrix as well as the observable corresponding to the measurement.\n",
    "\n",
    "\n",
    "### Simple example\n",
    "\n",
    "Here is a code snippet where we specify a perfect initial state $|0\\rangle \\langle 0|$ and imperfect measurement:"
   ]
  },
  {
   "cell_type": "code",
   "execution_count": null,
   "metadata": {
    "collapsed": true
   },
   "outputs": [],
   "source": [
    "import numpy as np\n",
    "from qat.hardware import DefaultGatesSpecification, HardwareModel\n",
    "\n",
    "eps=0.1\n",
    "\n",
    "gates_spec = DefaultGatesSpecification(gate_times = {\"state_prep\": 1, \"meas\": 1, \"X\": 10},\n",
    "                                       state_prep=np.array([[1.0, 0.0],\n",
    "                                                           [0.0, 0.0]]),\n",
    "                                       meas=np.array([[eps, 0.0],\n",
    "                                                      [0.0, 1.0-eps]]))\n",
    "\n",
    "hw_model = HardwareModel(gates_spec)"
   ]
  },
  {
   "cell_type": "markdown",
   "metadata": {},
   "source": [
    "Note that we suppose that the initial density matrix is factorized among the different qubits:\n",
    "\n",
    "$$\\rho_0 = \\rho^{(1)} \\otimes \\rho^{(2)} \\dots \\otimes \\rho^{(n)}$$\n",
    "\n",
    "and similarly for the measurement observable.\n",
    "\n",
    "You should input valid density matrices and observables in the fields ``state_prep`` and ``meas``.\n",
    "\n",
    "### Qubit-wise specification\n",
    "\n",
    "One can also specify different initial states for each qubit by replacing the ``np.array`` by a dictionary, with one key per qubit:\n"
   ]
  },
  {
   "cell_type": "code",
   "execution_count": null,
   "metadata": {
    "collapsed": true
   },
   "outputs": [],
   "source": [
    "eps0, eps1 = 0.1, 0.05\n",
    "gates_spec = DefaultGatesSpecification(gate_times = {\"state_prep\": 1, \"meas\": 1, \"X\": 10},\n",
    "                                       state_prep={0: np.array([[1.0, 0.0],\n",
    "                                                           [0.0, 0.0]]),\n",
    "                                                   1: np.array([[1.0, 0.0],\n",
    "                                                           [0.0, 0.0]])},\n",
    "                                       meas={0: np.array([[eps0, 0.0],\n",
    "                                                         [0.0, 1.0-eps0]]),\n",
    "                                             1: np.array([[eps1, 0.0],\n",
    "                                                        [0.0, 1.0-eps1]])}\n",
    "                                      )\n",
    "hw_model = HardwareModel(gates_spec)"
   ]
  },
  {
   "cell_type": "markdown",
   "metadata": {},
   "source": [
    "### Running a noisy computation\n",
    "\n",
    "We now run a computation with a QPU affected by these SPAM errors:"
   ]
  },
  {
   "cell_type": "code",
   "execution_count": null,
   "metadata": {
    "collapsed": true
   },
   "outputs": [],
   "source": [
    "from qat.noisy import NoisyQProc\n",
    "\n",
    "qpu_spam = NoisyQProc(hardware_model=hw_model)"
   ]
  },
  {
   "cell_type": "code",
   "execution_count": null,
   "metadata": {
    "collapsed": true
   },
   "outputs": [],
   "source": [
    "from qat.lang.AQASM import X, Program\n",
    "prog = Program()\n",
    "reg = prog.qalloc(2)\n",
    "prog.apply(X, reg[0])\n",
    "job = prog.to_circ().to_job()\n",
    "\n",
    "results = qpu_spam.submit(job)\n",
    "for sample in results:\n",
    "    print(sample)"
   ]
  },
  {
   "cell_type": "code",
   "execution_count": null,
   "metadata": {
    "collapsed": true
   },
   "outputs": [],
   "source": []
  }
 ],
 "metadata": {
  "authors": [
   "Thomas Ayral",
   "Satyanarayana Bade"
  ],
  "kernelspec": {
   "display_name": "Python 3",
   "language": "python",
   "name": "python3"
  },
  "language_info": {
   "codemirror_mode": {
    "name": "ipython",
    "version": 3
   },
   "file_extension": ".py",
   "mimetype": "text/x-python",
   "name": "python",
   "nbconvert_exporter": "python",
   "pygments_lexer": "ipython3",
   "version": "3.6.8"
  }
 },
 "nbformat": 4,
 "nbformat_minor": 2
}
