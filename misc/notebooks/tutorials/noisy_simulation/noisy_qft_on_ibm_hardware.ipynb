{
 "cells": [
  {
   "cell_type": "markdown",
   "metadata": {
    "qat-category": "5-General tutorials",
    "qat-summary": "2-Noisy Quantum Fourier Transform for a dedicated hardware",
    "slideshow": {
     "slide_type": "slide"
    }
   },
   "source": [
    "# A Noisy Quantum Fourier Transform on the Quantum Learning Machine\n",
    "\n",
    "This notebook demonstrates how to study the effects of noise on a quantum algorithm, for a specific hardware.\n",
    "\n",
    "## IBM Quantum Experience: 5 superconducting qubits\n",
    "\n",
    "<table>\n",
    "    <tr><td>\n",
    "        <img src=\"figures/QLM.png\" width=\"100%\"></td><td> \n",
    "        <img src=\"figures/ibmqx4-labeled.png\" width=\"15%\"></td>\n",
    "    </tr>\n",
    "    </table>"
   ]
  },
  {
   "cell_type": "markdown",
   "metadata": {
    "slideshow": {
     "slide_type": "slide"
    }
   },
   "source": [
    "# Part I: Compilation\n",
    "\n",
    "## Step 1: Writing a quantum program\n",
    "\n",
    "QLM provides usual quantum gates + library of quantum routines. **Example:** Quantum Fourier transform, key ingredient to e.g Shor algorithm."
   ]
  },
  {
   "cell_type": "code",
   "execution_count": null,
   "metadata": {
    "slideshow": {
     "slide_type": "fragment"
    }
   },
   "outputs": [],
   "source": [
    "from qat.lang.AQASM import Program\n",
    "from qat.lang.AQASM.qftarith import QFT\n",
    "nqbits = 5\n",
    "prog = Program()\n",
    "reg = prog.qalloc(nqbits)\n",
    "prog.apply(QFT(nqbits), reg)\n",
    "qft_circuit = prog.to_circ(inline=True) #convert program to circuit\n",
    "%qatdisplay qft_circuit"
   ]
  },
  {
   "cell_type": "markdown",
   "metadata": {
    "slideshow": {
     "slide_type": "slide"
    }
   },
   "source": [
    "## Step 2: Optimization for IBM hardware using QLM optimizers \n",
    "\n",
    "IBM QX4 has a limited qubit connectivity, and accepts only CNOT gates for two-qubit operations: <img src=\"figures/topology_ibmqx4_5_qubits2.png\" width=\"10%\">"
   ]
  },
  {
   "cell_type": "code",
   "execution_count": null,
   "metadata": {},
   "outputs": [],
   "source": [
    "from qat.core.wrappers.hardware_specs import Topology, HardwareSpecs\n",
    "from qat.comm.hardware.ttypes import TopologyType\n",
    "import json\n",
    "\n",
    "topology = Topology(is_directed=True)\n",
    "for control, target in [(1, 0), (2, 0), (2, 1), (2, 4), (3, 4), (3, 2)]:\n",
    "    topology.add_edge(control, target)\n",
    "hw_specs = HardwareSpecs(nbqbits=nqbits, topology=topology)"
   ]
  },
  {
   "cell_type": "code",
   "execution_count": null,
   "metadata": {
    "slideshow": {
     "slide_type": "fragment"
    }
   },
   "outputs": [],
   "source": [
    "from qat.core.simutil import optimize_circuit\n",
    "from qat.plugins import Nnizer, GateRewriter, Graphopt\n",
    "qft_ibm_connectivity_circ = optimize_circuit(qft_circuit, Nnizer(), specs=hw_specs)\n",
    "\n",
    "from qat.pbo import VAR\n",
    "compiler = GateRewriter()\n",
    "theta = VAR()\n",
    "compiler.add_gate(\"C-PH\",\n",
    "                  variables=[theta],\n",
    "                  pattern=[(\"CNOT\", [0, 1]),  (\"PH\", [1], -theta / 2),  (\"CNOT\", [0, 1]),\n",
    "                           (\"PH\", [1], theta / 2), (\"PH\", [0], theta)]\n",
    "                 )\n",
    "\n",
    "qft_ibm_connect_gates_circ = optimize_circuit(qft_ibm_connectivity_circ, compiler)\n",
    "    \n",
    "qft_ibm_optimized_circ = optimize_circuit(qft_ibm_connect_gates_circ, Graphopt(directed=True))\n",
    "\n",
    "%matplotlib inline\n",
    "import numpy as np, matplotlib.pyplot as plt\n",
    "plt.bar([0, 1, 2, 3],  [len(c.ops) for c in [qft_circuit, qft_ibm_connectivity_circ, qft_ibm_connect_gates_circ, qft_ibm_optimized_circ]])\n",
    "plt.xticks([0, 1, 2, 3], [\"0-universal\", \"1-IBM connec.\", \"2-IBM connec. + gates\", \"3-IBM optimized\"])\n",
    "plt.xticks(rotation=45); plt.ylabel(\"Number of gates\"); plt.grid();"
   ]
  },
  {
   "cell_type": "code",
   "execution_count": null,
   "metadata": {
    "slideshow": {
     "slide_type": "skip"
    }
   },
   "outputs": [],
   "source": [
    "#reminder:*\n",
    "print(type(qft_ibm_optimized_circ))\n",
    "%qatdisplay qft_ibm_optimized_circ"
   ]
  },
  {
   "cell_type": "markdown",
   "metadata": {
    "slideshow": {
     "slide_type": "slide"
    }
   },
   "source": [
    "# Part II: Noisy simulation\n",
    "\n",
    "<img src=\"figures/noisy_sim_overview.png\" width=\"65%\">\n",
    "\n",
    "Live simulation of noisy simulation on Atos QLM, with **simplified hardware model**:\n",
    "\n",
    "- Gates specs: assuming **perfect gates**\n",
    "- Environment: noise during **qubit idling periods**\n"
   ]
  },
  {
   "cell_type": "markdown",
   "metadata": {
    "slideshow": {
     "slide_type": "slide"
    }
   },
   "source": [
    "## Step 1: Define the Hardware\n",
    "\n",
    "### 1.1 Gate specification\n",
    "\n",
    "- gate times: using **gate times of IBM QX4** (available [online](https://github.com/QISKit/ibmqx-backend-information/blob/master/backends/ibmqx4/README.md))\n",
    "- gates: assuming **ideal** (=default) gates\n",
    "- One could also specify **qubit-specific** gate times"
   ]
  },
  {
   "cell_type": "code",
   "execution_count": null,
   "metadata": {
    "slideshow": {
     "slide_type": "fragment"
    }
   },
   "outputs": [],
   "source": [
    "gate_times = {\"H\":60, \"X\":120, \"Y\":120, \"S\":1,\"T\":1, 'D-T':1, \"Z\":1, \"RZ\":lambda angle : 1, \"PH\": lambda angle : 1, \"CNOT\":386,\n",
    "              \"SWAP\":150, \"C-PH\":lambda angle :150, \"C-T\":150, \"C-S\":150} #not in IBM but needed for comparison\n",
    "\n",
    "from qat.hardware import DefaultGatesSpecification\n",
    "ibm_gates_spec = DefaultGatesSpecification(gate_times)"
   ]
  },
  {
   "cell_type": "markdown",
   "metadata": {
    "slideshow": {
     "slide_type": "slide"
    }
   },
   "source": [
    "### 1.2: Environment: definition of a noise model for idle qubits\n",
    "\n",
    "- Simple models for \"idle\" qubits: **amplitude damping** (A.D) and **pure dephasing** (P.D).\n",
    "\n",
    "\n",
    "- Choose between **Lindblad approximation** (with $T_1$ and $T_2$ taken from IBM), or take a **specific noise spectral function** for P.D channel, e.g 1/f noise: $$ J_z(\\omega) = \\frac{1}{\\omega}\\;\\; (\\omega_\\mathrm{ir} < \\omega < \\omega_c)$$\n",
    "\n",
    "\n",
    "- One could also give one's own **time-dependent Kraus operators** $\\{E_k(t)\\}$."
   ]
  },
  {
   "cell_type": "code",
   "execution_count": null,
   "metadata": {
    "slideshow": {
     "slide_type": "fragment"
    }
   },
   "outputs": [],
   "source": [
    "from qat.quops import ParametricPureDephasing, ParametricAmplitudeDamping\n",
    "T1, T2 = 44000, 38900 #nanosecs\n",
    "\n",
    "#Amplitude Damping in Lindblad approximation\n",
    "AD_Lindblad = ParametricAmplitudeDamping(T_1 = T1)\n",
    "\n",
    "#Pure Dephasing: Lindblad approx. or give spectral function \n",
    "PD_Lindblad = ParametricPureDephasing(T_phi = 1/(1/T2 - 1/(2*T1)))\n",
    "PD_1_over_f = ParametricPureDephasing(spectral_function = {\"type\": \"1/f\", \n",
    "                                                           \"intensity\": 3e-10,\n",
    "                                                           \"w_c\" : 1e-1, #100MHz\n",
    "                                                           \"w_ir\": 1e-9}) #1Hz"
   ]
  },
  {
   "cell_type": "code",
   "execution_count": null,
   "metadata": {
    "slideshow": {
     "slide_type": "skip"
    }
   },
   "outputs": [],
   "source": [
    "times = np.linspace(1, 50000, 1000)\n",
    "plt.title(\"Evolution of the error probability vs idling time\")\n",
    "for channel in [PD_Lindblad, PD_1_over_f, AD_Lindblad]:\n",
    "    plt.plot(times, [channel.prob(t) for t in times], label = str(channel))\n",
    "plt.legend();\n",
    "plt.ylim(0,1)\n",
    "plt.xlabel(\"Time (ns)\");"
   ]
  },
  {
   "cell_type": "markdown",
   "metadata": {
    "slideshow": {
     "slide_type": "slide"
    }
   },
   "source": [
    "### 1.3  Combine gate specs + environment definition: hardware\n",
    "\n",
    "Here: two different models for the environment (white vs 1/f spectrum for pure dephasing noise)"
   ]
  },
  {
   "cell_type": "code",
   "execution_count": null,
   "metadata": {
    "slideshow": {
     "slide_type": "fragment"
    }
   },
   "outputs": [],
   "source": [
    "from qat.hardware import HardwareModel\n",
    "\n",
    "ibm_hardware_lindblad = HardwareModel(ibm_gates_spec, idle_noise=[AD_Lindblad, PD_Lindblad])\n",
    "\n",
    "ibm_hardware_1_over_f = HardwareModel(ibm_gates_spec, idle_noise=[AD_Lindblad, PD_1_over_f])"
   ]
  },
  {
   "cell_type": "markdown",
   "metadata": {
    "slideshow": {
     "slide_type": "slide"
    }
   },
   "source": [
    "## Step 2: Noisy circuit construction\n",
    "\n",
    "<img src=\"figures/noisy_circuit.png\" width=\"80%\">"
   ]
  },
  {
   "cell_type": "markdown",
   "metadata": {
    "slideshow": {
     "slide_type": "slide"
    }
   },
   "source": [
    "### Noisy circuit construction"
   ]
  },
  {
   "cell_type": "code",
   "execution_count": null,
   "metadata": {
    "slideshow": {
     "slide_type": "fragment"
    }
   },
   "outputs": [],
   "source": [
    "from qat.noisy.noisy_circuit import construct_noisy_circuit\n",
    "noisy_circuit_lindblad = construct_noisy_circuit(qft_ibm_optimized_circ, ibm_hardware_lindblad)\n",
    "\n",
    "%qatdisplay qft_ibm_optimized_circ --hardware ibm_hardware_lindblad"
   ]
  },
  {
   "cell_type": "markdown",
   "metadata": {
    "slideshow": {
     "slide_type": "slide"
    }
   },
   "source": [
    "## Step 3: Noisy circuit simulation: fidelity w.r.t ideal circuit"
   ]
  },
  {
   "cell_type": "code",
   "execution_count": null,
   "metadata": {
    "slideshow": {
     "slide_type": "fragment"
    }
   },
   "outputs": [],
   "source": [
    "from qat.noisy import compute_fidelity\n",
    "from qat.qpus import NoisyQProc\n",
    "\n",
    "### Simulation with Lindblad exponential decay ######\n",
    "print(\"Fidelity AD + PD (Lindblad): \", compute_fidelity(qft_ibm_optimized_circ,\n",
    "                                                        NoisyQProc(hardware_model=ibm_hardware_lindblad)))\n",
    "\n",
    "### Simulation with  1/f noise + Lindblad ###########\n",
    "print(\"Fidelity AD + PD (1/f): \", compute_fidelity(qft_ibm_optimized_circ,\n",
    "                                                   NoisyQProc(hardware_model=ibm_hardware_1_over_f)))"
   ]
  },
  {
   "cell_type": "markdown",
   "metadata": {
    "slideshow": {
     "slide_type": "slide"
    }
   },
   "source": [
    "### Influence of limited connectivity and gateset on fidelity"
   ]
  },
  {
   "cell_type": "code",
   "execution_count": null,
   "metadata": {
    "slideshow": {
     "slide_type": "fragment"
    }
   },
   "outputs": [],
   "source": [
    "fidelities = [compute_fidelity(circuit, NoisyQProc(hardware_model=ibm_hardware_lindblad))[0]\n",
    "              for circuit in [qft_circuit, qft_ibm_connectivity_circ,\n",
    "                              qft_ibm_connect_gates_circ,\n",
    "                              qft_ibm_optimized_circ]]\n",
    "plt.bar([1, 2, 3, 4], fidelities);\n",
    "plt.xticks([1, 2, 3, 4], [\"0-universal\", \"1-IBM connec.\", \"2-IBM connec. + gates\", \"3-IBM optimized\"])\n",
    "plt.xticks(rotation=45); plt.ylabel(\"Fidelity\")\n",
    "plt.grid();plt.ylim(0.8,1);"
   ]
  },
  {
   "cell_type": "markdown",
   "metadata": {
    "slideshow": {
     "slide_type": "slide"
    }
   },
   "source": [
    "### Influence of coherence times on fidelity"
   ]
  },
  {
   "cell_type": "code",
   "execution_count": null,
   "metadata": {
    "slideshow": {
     "slide_type": "fragment"
    }
   },
   "outputs": [],
   "source": [
    "def compute_T1_T2_effect(T1 = np.inf, T2 = np.inf):\n",
    "    idle_noise = []\n",
    "    if not T1 == np.inf: idle_noise.append(ParametricAmplitudeDamping(T_1 = T1))\n",
    "    if not T2 == np.inf: idle_noise.append(ParametricPureDephasing(T_phi = 1/(1/T2 - 1/(2*T1))))\n",
    "    ibm_hardware = HardwareModel(ibm_gates_spec, idle_noise = idle_noise)\n",
    "    qpu = NoisyQProc(hardware_model=ibm_hardware)\n",
    "    return compute_fidelity(qft_ibm_optimized_circ, qpu)[0]\n",
    "    \n",
    "#Various T1 and T2 times (in nanoseconds)\n",
    "T1_list, T2_list = np.logspace(4,5.5,6), np.logspace(4,5.5,6)*0.66\n",
    "\n",
    "#Perform simulation for various combinations of noise\n",
    "fidelities = {}\n",
    "fidelities[\"Pure dephasing\"] = [compute_T1_T2_effect(T2 = T2).real for T2 in T2_list]\n",
    "fidelities[\"Amplitude damping\"] = [compute_T1_T2_effect(T1 = T1).real for T1 in T1_list]\n",
    "fidelities[\"Both\"] = [compute_T1_T2_effect(T1 = T1, T2 = T2).real for T1, T2 in zip(T1_list,T2_list) ]"
   ]
  },
  {
   "cell_type": "markdown",
   "metadata": {
    "slideshow": {
     "slide_type": "slide"
    }
   },
   "source": [
    "### Influence of coherence times on fidelity"
   ]
  },
  {
   "cell_type": "code",
   "execution_count": null,
   "metadata": {
    "slideshow": {
     "slide_type": "fragment"
    }
   },
   "outputs": [],
   "source": [
    "for noise_type in fidelities.keys():\n",
    "    plt.plot(np.array(T2_list)/1000.,fidelities[noise_type],'-o', label = noise_type)\n",
    "plt.arrow(40, 0.6, 0., 0.1, head_width=20, head_length=0.05, fc='k', ec='k')\n",
    "plt.text(40,0.55, \"IBM QX4 hardware\")\n",
    "plt.xlabel(r\"$T_2$ ($T_2 = 0.86 T_1$) [$\\mu s$]\");\n",
    "plt.ylim(0.4,1);plt.ylabel(\"Fidelity\");plt.grid()\n",
    "plt.legend(fancybox=True, loc=\"lower right\");"
   ]
  },
  {
   "cell_type": "code",
   "execution_count": null,
   "metadata": {},
   "outputs": [],
   "source": []
  }
 ],
 "metadata": {
  "authors": [
   "Thomas Ayral",
   "Satyanarayana Bade"
  ],
  "kernelspec": {
   "display_name": "Python 3",
   "language": "python",
   "name": "python3"
  },
  "language_info": {
   "codemirror_mode": {
    "name": "ipython",
    "version": 3
   },
   "file_extension": ".py",
   "mimetype": "text/x-python",
   "name": "python",
   "nbconvert_exporter": "python",
   "pygments_lexer": "ipython3",
   "version": "3.6.8"
  }
 },
 "nbformat": 4,
 "nbformat_minor": 2
}
