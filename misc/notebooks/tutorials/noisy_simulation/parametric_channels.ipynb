{
 "cells": [
  {
   "cell_type": "markdown",
   "metadata": {},
   "source": [
    "# Parametric quantum channels\n",
    "\n",
    "\n",
    "## Definition \n",
    "In addition to ``QuantumChannelKraus``, the ``qat.quops`` module contains parametric quantum channels, i.e channels which depend on a parameter $t$. In other words, its Kraus operators are of the form $E_k(t)$.\n",
    "\n",
    "## Predefined parametric quantum channels\n",
    "At the moment, there are two predefined parametric quantum channels : ``ParametricPureDephasing`` and ``ParametricAmplitudeDamping``, which correspond to the well-known pure-dephasing and amplitude-damping channels (see e.g [Nielsen & Chuang](https://dx.doi.org/10.1017/CBO9780511976667))."
   ]
  },
  {
   "cell_type": "code",
   "execution_count": null,
   "metadata": {},
   "outputs": [],
   "source": [
    "import numpy as np\n",
    "from qat.quops import ParametricAmplitudeDamping, ParametricPureDephasing, QuantumChannelKraus"
   ]
  },
  {
   "cell_type": "markdown",
   "metadata": {},
   "source": [
    "Such objects are instantiated in the following way:"
   ]
  },
  {
   "cell_type": "code",
   "execution_count": null,
   "metadata": {},
   "outputs": [],
   "source": [
    "# Amplitude damping channel with exponential decay (Lindblad approximation, characteristic decay time T_1)\n",
    "AD_parametric = ParametricAmplitudeDamping(T_1=1.0)\n",
    "\n",
    "# Pure dephasing channel with exponential decay (Lindblad approximation, characteristic decay time T_phi)\n",
    "PD_parametric = ParametricPureDephasing(T_phi=1.0)\n",
    "\n",
    "# Pure dephasing channel with 1/f spectral function\n",
    "PD_1_over_f = ParametricPureDephasing(spectral_function={\"type\": \"1/f\", \n",
    "                                                           \"intensity\": 3e-10,\n",
    "                                                           \"w_c\" : 1e-1, \n",
    "                                                           \"w_ir\": 1e-9})\n",
    "\n",
    "# Pure dephasing channel with ohmic spectral function\n",
    "PD_ohmic = ParametricPureDephasing(spectral_function={\"type\": \"Ohmic\", \n",
    "                                                           \"intensity\": 3e-10,\n",
    "                                                           \"w_c\" : 1e-1,\n",
    "                                                           \"w_ir\" : 0})"
   ]
  },
  {
   "cell_type": "markdown",
   "metadata": {},
   "source": [
    "Calling the object with a given parameter (the time during which the channel is applied) returns a ``QuantumChannelKraus`` object:"
   ]
  },
  {
   "cell_type": "code",
   "execution_count": null,
   "metadata": {},
   "outputs": [],
   "source": [
    "print(\"type = \",type(AD_parametric(0.5)))\n",
    "print(\"type = \",type(PD_parametric(0.5)))\n",
    "print(\"type = \",type(PD_1_over_f(0.5)))\n",
    "print(\"type = \",type(PD_ohmic(0.5)))"
   ]
  },
  {
   "cell_type": "markdown",
   "metadata": {},
   "source": [
    "To get the value of the Kraus operators, one can write e.g:"
   ]
  },
  {
   "cell_type": "code",
   "execution_count": null,
   "metadata": {},
   "outputs": [],
   "source": [
    "print(\"Kraus operators = \", AD_parametric(0.5).kraus_operators)"
   ]
  },
  {
   "cell_type": "markdown",
   "metadata": {},
   "source": [
    "### Creating one's own parametric quantum channel\n",
    "\n",
    "Creating one's own parametric quantum channel is straightforward, as illustrated in the example below:"
   ]
  },
  {
   "cell_type": "code",
   "execution_count": null,
   "metadata": {},
   "outputs": [],
   "source": [
    "class MyCustomParametricQuantumChannel:\n",
    "    def __init__(self, T_custom):\n",
    "        self.T_custom = T_custom\n",
    "    def __call__(self, t):\n",
    "        p = 1 - np.exp(-t/self.T_custom)\n",
    "        return QuantumChannelKraus([np.sqrt(p)*np.identity(2), np.sqrt(1-p)*np.array([[0, -1j],[1j, 0]], np.complex_)])\n",
    "    \n",
    "custom_chan = MyCustomParametricQuantumChannel(T_custom=2)\n",
    "print(custom_chan(0.5))"
   ]
  },
  {
   "cell_type": "code",
   "execution_count": null,
   "metadata": {},
   "outputs": [],
   "source": []
  }
 ],
 "metadata": {
  "authors": [
   "Thomas Ayral",
   "Satyanarayana Bade"
  ],
  "kernelspec": {
   "display_name": "Python 3",
   "language": "python",
   "name": "python3"
  },
  "language_info": {
   "codemirror_mode": {
    "name": "ipython",
    "version": 3
   },
   "file_extension": ".py",
   "mimetype": "text/x-python",
   "name": "python",
   "nbconvert_exporter": "python",
   "pygments_lexer": "ipython3",
   "version": "3.6.8"
  },
  "qat-category": "4-Noisy quantum computation",
  "qat-summary": "3-Describing quantum noise: Quantum channels"
 },
 "nbformat": 4,
 "nbformat_minor": 2
}
