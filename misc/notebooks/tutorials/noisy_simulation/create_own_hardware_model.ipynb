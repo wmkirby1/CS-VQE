{
 "cells": [
  {
   "cell_type": "markdown",
   "metadata": {
    "qat-category": "4-Noisy quantum computation",
    "qat-summary": "2-Creating a custom hardware model"
   },
   "source": [
    "# Creating a custom hardware model\n",
    "\n",
    "\n",
    "In this tutorial, we show how to define one's own hardware model, with gates specified by *Kraus operators* (learn more about them in [this tutorial](quantum_channels.ipynb)), and predefined environmental noise. \n",
    "\n",
    "As a concrete example, we consider a hardware with three types of gates:\n",
    "- **Foo**: a single-qubit gate with ideal unitary matrix $iZ$ (with $Z$ the Pauli Z matrix)\n",
    "- **Bar**: a parametric two-qubit gate, with ideal unitary matrix $\\left[\\begin{array}{cccc}\n",
    "1 & 0 & 0 & 0\\\\\n",
    "0 & 1 & 0 & 0\\\\\n",
    "0 & 0 & e^{i\\theta} & 0\\\\\n",
    "0 & 0 & 0 & 1\n",
    "\\end{array}\\right]$\n",
    "- **RX**: a parametric single-qubit gate (the usual X rotation)\n",
    "\n",
    "\n",
    "## Circuit creation\n",
    "\n",
    "In the following cell, we define the Foo and Bar gates:"
   ]
  },
  {
   "cell_type": "code",
   "execution_count": null,
   "metadata": {},
   "outputs": [],
   "source": [
    "import numpy as np\n",
    "from qat.lang.AQASM.gates import AbstractGate\n",
    "\n",
    "# Foo gate\n",
    "foo_mat = np.array([[1j, 0], [0, -1j]], dtype=np.complex_)\n",
    "# Foo has no parameters (hence the empty list) and arity 1\n",
    "# Note: at the circuit-writing stage, we do not need to define the 'matrix_generator',\n",
    "# but we nevertheless specify it as it can be useful for fidelity computations\n",
    "Foo = AbstractGate(\"Foo\", [], 1, matrix_generator=lambda foo_mat=foo_mat: foo_mat)\n",
    "\n",
    "# Bar gate\n",
    "bar_generator = lambda theta : np.array([[1, 0, 0, 0],\n",
    "                                         [0, 1, 0, 0],\n",
    "                                         [0, 0, np.exp(theta*1j), 0],\n",
    "                                         [0, 0, 0, 1.]],\n",
    "                                        dtype=np.complex_)\n",
    "Bar = AbstractGate(\"Bar\", [float], 2, \n",
    "                   matrix_generator=lambda theta, mat_gen=bar_generator: mat_gen(theta))"
   ]
  },
  {
   "cell_type": "markdown",
   "metadata": {},
   "source": [
    "We now create our quantum program:"
   ]
  },
  {
   "cell_type": "code",
   "execution_count": null,
   "metadata": {},
   "outputs": [],
   "source": [
    "from qat.lang.AQASM import Program, RX\n",
    "prog = Program(default_gate_set=False)\n",
    "reg = prog.qalloc(2)\n",
    "prog.apply(Foo(), reg[0])\n",
    "prog.apply(Bar(np.pi/4.), reg)\n",
    "prog.apply(RX(np.pi/8.), reg[1])\n",
    "circ = prog.to_circ()\n",
    "\n",
    "%qatdisplay circ"
   ]
  },
  {
   "cell_type": "markdown",
   "metadata": {},
   "source": [
    "Take a look at [this more advanced tutorial](../lang/custom_gate_set.ipynb) to learn more about custom gate sets."
   ]
  },
  {
   "cell_type": "markdown",
   "metadata": {},
   "source": [
    "## An example of custom hardware model\n",
    "\n",
    "In the following cell, we create a hardware model containing information about the hardware's gates and environment:\n",
    "\n",
    "* **the gates**: gate times, and actual quantum channels for each gate. Here, we describe quantum channels using Kraus operators:\n",
    " * **Foo**: this gate is described by two Kraus operators $E_0 = \\sqrt{p} iZ$ and $E_1 = \\sqrt{1-p} X$, where $X$ is the Pauli X matrix. Here, $p=0.75$. It takes 10 units of time to be executed.\n",
    "        \n",
    " * **Bar**: this gate is described by its ideal unitary matrix. It takes $\\theta/5+5$ units of time to be executed\n",
    "        \n",
    " * **RX**: this gate produces a slight over rotation compared to the ideal gate: $\\theta+0.02$ for qubit 0, $\\theta+0.04$ for qubit 1, but is still unitary. It takes $\\theta/10$ units of time to be executed.\n",
    "        \n",
    "* **the environment**: we assume that the environment is described by predefined noise models such as amplitude damping (with $T_1 \\approx 200$ units of time) or pure dephasing (with $T_\\varphi \\approx 100$ units of time), as well as a custom noise with an exponential decay law. These noise models apply only on idle qubits, and generally differ for each qubit."
   ]
  },
  {
   "cell_type": "code",
   "execution_count": null,
   "metadata": {},
   "outputs": [],
   "source": [
    "import numpy as np\n",
    "from qat.hardware import HardwareModel, GatesSpecification\n",
    "from qat.quops import QuantumChannelKraus, ParametricAmplitudeDamping, ParametricPureDephasing\n",
    "    \n",
    "gate_times = {\n",
    "                \"Foo\": 10,\n",
    "                \"Bar\": lambda theta: theta/5.+5.,\n",
    "                \"RX\": lambda theta: theta/10.,\n",
    "             }\n",
    "\n",
    "# specify the Kraus operators\n",
    "# assuming \"Foo\" and \"Bar\" are identical for all qubits/qubit pairs, and \"RX\" depends on the qubit\n",
    "foo_mat = np.array([[1j, 0], [0, -1j]], dtype=np.complex_)\n",
    "quantum_channels = {\n",
    "     \"Foo\": QuantumChannelKraus([np.sqrt(0.75)*foo_mat,\n",
    "                                 np.sqrt(0.25)*np.array([[0,1],[1,0]],\n",
    "                                                        dtype = np.complex_)]),\n",
    "     \"Bar\": lambda theta: QuantumChannelKraus([np.array([[1, 0, 0, 0],\n",
    "                                                       [0, 1, 0, 0],\n",
    "                                                       [0, 0, np.exp(theta*1j), 0],\n",
    "                                                       [0, 0, 0, 1.]],   dtype = np.complex_)]),\n",
    "     \"RX\" : {\n",
    "         0: lambda theta: QuantumChannelKraus([np.array([[np.cos(theta/2+.01), -1j*np.sin(theta/2+.01)],\n",
    "                                                          [-1j*np.sin(theta/2+.01), 1j*np.cos(theta/2+.01)]],\n",
    "                                                         dtype = np.complex_)]),\n",
    "         1: lambda theta: QuantumChannelKraus([np.array([[np.cos(theta/2+.02), -1j*np.sin(theta/2+.02)],\n",
    "                                                          [-1j*np.sin(theta/2+.02), 1j*np.cos(theta/2+.02)]],\n",
    "                                                         dtype = np.complex_)]),\n",
    "     }\n",
    "\n",
    "}\n",
    "\n",
    "gates_spec = GatesSpecification(gate_times, quantum_channels=quantum_channels)\n",
    "\n",
    "########################\n",
    "## environment #########\n",
    "########################\n",
    "# custom noise\n",
    "def my_custom_noise(idling_time):\n",
    "    error_prob = 1 - np.exp(-idling_time / 400.)\n",
    "    return QuantumChannelKraus([np.sqrt(1-error_prob)*np.identity(2), np.sqrt(error_prob)* np.array([[0,1],[1,0]])],\n",
    "                               name = \"MyCustomNoise\")\n",
    "\n",
    "# we assume that each qubit experiences a different AD/PD noise, and the same custom noise    \n",
    "idle_noise = {\n",
    "   0: [ParametricAmplitudeDamping(T_1=210), ParametricPureDephasing(T_phi=105), my_custom_noise],\n",
    "   1: [ParametricAmplitudeDamping(T_1=208), ParametricPureDephasing(T_phi=95), my_custom_noise],\n",
    "   2: [ParametricAmplitudeDamping(T_1=199), ParametricPureDephasing(T_phi=101), my_custom_noise],\n",
    "}\n",
    "# note: in the case of identical noise parameters for each qubit, we could have written:\n",
    "# idle_noise = [ParametricAmplitudeDamping(T_1=200), ParametricPureDephasing(T_phi=100), my_custom_noise]\n",
    "\n",
    "hardware_model = HardwareModel(gates_spec, None, idle_noise)"
   ]
  },
  {
   "cell_type": "markdown",
   "metadata": {},
   "source": [
    "## Noisy simulation\n",
    "\n",
    "In the following cell, we show how to use the hardware model defined above in a noisy simulation:"
   ]
  },
  {
   "cell_type": "code",
   "execution_count": null,
   "metadata": {},
   "outputs": [],
   "source": [
    "from qat.noisy import NoisyQProc\n",
    "\n",
    "\n",
    "# we choose the deterministic method to simulate the circuit\n",
    "# this method is costly in terms of memory as it is based on the density matrix\n",
    "qpu = NoisyQProc(hardware_model=hardware_model, sim_method=\"deterministic\")\n",
    "\n",
    "job = circ.to_job(nbshots=10)\n",
    "\n",
    "# we submit the job\n",
    "result = qpu.submit(job)\n",
    "\n",
    "# this simulates the measured output state of a quantum computer (for 5 successive preparations)\n",
    "for sample in result:\n",
    "    print(\"State %s, probability %s, err %s\"%(sample.state, sample.probability, sample.err))"
   ]
  },
  {
   "cell_type": "markdown",
   "metadata": {},
   "source": [
    "To see more simulation options, check out [this tutorial](./noisy_simulation_service.ipynb)"
   ]
  }
 ],
 "metadata": {
  "authors": [
   "Thomas Ayral",
   "Satyanarayana Bade"
  ],
  "kernelspec": {
   "display_name": "Python 3",
   "language": "python",
   "name": "python3"
  },
  "language_info": {
   "codemirror_mode": {
    "name": "ipython",
    "version": 3
   },
   "file_extension": ".py",
   "mimetype": "text/x-python",
   "name": "python",
   "nbconvert_exporter": "python",
   "pygments_lexer": "ipython3",
   "version": "3.6.8"
  }
 },
 "nbformat": 4,
 "nbformat_minor": 2
}
