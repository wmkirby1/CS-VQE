{
 "cells": [
  {
   "cell_type": "markdown",
   "metadata": {},
   "source": [
    "# Describing quantum noise: Quantum channels\n",
    "\n",
    "In this notebook, we demonstrate how to describe noise in the Quantum Learning Machine.\n",
    "\n",
    "## Definitions\n",
    "\n",
    "Quantum noise is generally described mathematically by completely positive, trace-preserving maps or **quantum channels**, which we will denote $\\mathcal{E}(\\rho)$ in the following (with $\\rho$ the density matrix).\n",
    "\n",
    "A quantum channel $\\mathcal{E}$ can be represented by its **Kraus operators** $\\lbrace E_k \\rbrace_{k=1\\dots K}$. In this Kraus or operator-sum representation, $\\mathcal{E}$ acts on a given density matrix $\\rho$ as follows:\n",
    "\n",
    "$$\\mathcal{E}(\\rho) = \\sum_{k=1}^K E_k \\rho E_k^\\dagger $$\n",
    "\n",
    "$K$ is called the **Kraus rank** of the quantum channel. Since a quantum channel is trace preserving, the Kraus operators fulfill the relation\n",
    "\n",
    "$$\\sum_k E_k^\\dagger E_k = \\mathbf{1} $$\n",
    "\n",
    "## Implementation in the Quantum Learning Machine\n",
    "\n",
    "In the QLM, quantum channels and related tools are implemented in the ``qat.quops`` (for \"quantum operations\") module. The Kraus representation of a quantum channel is implemented by the ``QuantumChannelKraus`` object.\n",
    "\n",
    "\n",
    "### Construction\n",
    "\n",
    "In the code snippet below, we create a quantum channel with two Kraus operators $$E_0 = \\sqrt{p} \\mathbf{1},\\;\\;E_1 = \\sqrt{1-p} \\mathbf{X}$$\n",
    "where $\\mathbf{X}$ is the Pauli X matrix, and $p=0.75$."
   ]
  },
  {
   "cell_type": "code",
   "execution_count": null,
   "metadata": {
    "collapsed": true
   },
   "outputs": [],
   "source": [
    "import numpy as np\n",
    "from qat.quops import QuantumChannelKraus\n",
    "\n",
    "Pauli_X = np.array([[0.,1.],[1.,0.]])\n",
    "\n",
    "my_channel = QuantumChannelKraus(kraus_operators=[np.sqrt(0.75)*np.identity(2), np.sqrt(0.25)*Pauli_X],\n",
    "                                 name=\"my simple channel\")\n",
    "\n",
    "# let us print the Kraus operators and the Kraus rank\n",
    "\n",
    "print(\"Kraus operators = \", my_channel.kraus_operators)\n",
    "print(\"Kraus rank =\", my_channel.kraus_rank())"
   ]
  },
  {
   "cell_type": "markdown",
   "metadata": {},
   "source": [
    "### Application to a density matrix\n",
    "Let us apply this channel to a density matrix:"
   ]
  },
  {
   "cell_type": "code",
   "execution_count": null,
   "metadata": {
    "collapsed": true
   },
   "outputs": [],
   "source": [
    "density_matrix = np.zeros((2,2))\n",
    "density_matrix[0,0] = 1.\n",
    "\n",
    "result = my_channel.apply_to(density_matrix, [0])\n",
    "\n",
    "print(\"result = \", result)"
   ]
  },
  {
   "cell_type": "markdown",
   "metadata": {},
   "source": [
    "### Composition of quantum channels\n",
    "\n",
    "One can compose quantum channels. The cell below shows how to construct $\\mathcal{E_1}\\circ \\mathcal{E_2}$:"
   ]
  },
  {
   "cell_type": "code",
   "execution_count": null,
   "metadata": {
    "collapsed": true
   },
   "outputs": [],
   "source": [
    "Pauli_Z = np.array([[1.,0.],[0.,-1.]])\n",
    "\n",
    "my_channel_2 = QuantumChannelKraus(kraus_operators=[np.sqrt(0.5)*np.identity(2), np.sqrt(0.5)*Pauli_Z],\n",
    "                                 name=\"my simple channel\")\n",
    "\n",
    "final_channel = my_channel*my_channel_2\n",
    "\n",
    "print(\"Kraus rank of composition : \", final_channel.kraus_rank())\n",
    "print(\"Kraus operators of composition : \", final_channel.kraus_operators)"
   ]
  }
 ],
 "metadata": {
  "authors": [
   "Thomas Ayral",
   "Satyanarayana Bade"
  ],
  "kernelspec": {
   "display_name": "Python 3",
   "language": "python",
   "name": "python3"
  },
  "language_info": {
   "codemirror_mode": {
    "name": "ipython",
    "version": 3
   },
   "file_extension": ".py",
   "mimetype": "text/x-python",
   "name": "python",
   "nbconvert_exporter": "python",
   "pygments_lexer": "ipython3",
   "version": "3.6.8"
  },
  "qat-category": "4-Noisy quantum computation",
  "qat-summary": "3-Describing quantum noise: Quantum channels"
 },
 "nbformat": 4,
 "nbformat_minor": 2
}
