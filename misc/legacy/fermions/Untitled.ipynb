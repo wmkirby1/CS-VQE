{
 "cells": [
  {
   "cell_type": "code",
   "execution_count": null,
   "metadata": {},
   "outputs": [],
   "source": [
    "from yaferp.misc import tapering"
   ]
  },
  {
   "cell_type": "code",
   "execution_count": null,
   "metadata": {},
   "outputs": [],
   "source": [
    "ham_data = {\"H3+_STO-3G_SINGLET\": {'IIIIII': (-0.3072011371340735+0j), 'ZIIIII': (0.2132840286163144+0j), 'IZIIII': (0.21328402861631449+0j), 'IIZIII': (-0.11363228842158316+0j), 'IIIZII': (-0.11363228842158318+0j), 'IIIIZI': (-0.11363254995095763+0j), 'IIIIIZ': (-0.11363254995095767+0j), 'ZZIIII': (0.14671371888181664+0j), 'YXXYII': (0.03600691308030867+0j), 'YYXXII': (-0.03600691308030867+0j), 'XXYYII': (-0.03600691308030867+0j), 'XYYXII': (0.03600691308030867+0j), 'YXIIXY': (0.03600691386677172+0j), 'YYIIXX': (-0.03600691386677172+0j), 'XXIIYY': (-0.03600691386677172+0j), 'XYIIYX': (0.03600691386677172+0j), 'ZIZIII': (0.10666963571099194+0j), 'ZIIZII': (0.14267654879130062+0j), 'YZYZII': (-0.02382124592510554+0j), 'XZXZII': (-0.02382124592510554+0j), 'YZZXXY': (-0.0238212380642994+0j), 'YZZYXX': (0.0238212380642994+0j), 'XZZXYY': (0.0238212380642994+0j), 'XZZYYX': (-0.0238212380642994+0j), 'ZIIIZI': (0.1066696588815122+0j), 'ZIIIIZ': (0.1426765727482839+0j), 'YZYIIZ': (0.023821256453232593+0j), 'XZXIIZ': (0.023821256453232593+0j), 'IZZIII': (0.14267654879130062+0j), 'IYIYII': (-0.02382124592510554+0j), 'IXIXII': (-0.02382124592510554+0j), 'IYXIXY': (0.023821238064299397+0j), 'IYYIYY': (0.023821238064299397+0j), 'IXXIXX': (0.023821238064299397+0j), 'IXYIYX': (0.023821238064299397+0j), 'IZIZII': (0.10666963571099194+0j), 'IZIIZI': (0.1426765727482839+0j), 'IYZYZI': (0.023821256453232593+0j), 'IXZXZI': (0.023821256453232593+0j), 'IZIIIZ': (0.1066696588815122+0j), 'IIZZII': (0.1636188593762814+0j), 'IIYXXY': (0.01890849243576002+0j), 'IIYYXX': (-0.01890849243576002+0j), 'IIXXYY': (-0.01890849243576002+0j), 'IIXYYX': (0.01890849243576002+0j), 'IIZIZI': (0.10689334239427402+0j), 'IIZIIZ': (0.12580183483003404+0j), 'YZYIII': (-1.445853014744869e-08+0j), 'XZXIII': (-1.445853014744869e-08+0j), 'IIIZZI': (0.12580183483003404+0j), 'IIIZIZ': (0.10689334239427402+0j), 'IIIIZZ': (0.16361886988259655+0j)}, \"uccsd\": {\"YYYXII\": -0.012181243403146016, \"YXYYII\": 0.012181243403146016, \"XXYXII\": 0.012181243403146016, \"XYYYII\": 0.012181243403146016, \"YXXXII\": -0.012181243403146016, \"YYXYII\": -0.012181243403146016, \"XYXXII\": -0.012181243403146016, \"XXXYII\": 0.012181243403146016, \"YYIIYX\": -0.012181235170586887, \"YXIIYY\": 0.012181235170586887, \"XXIIYX\": 0.012181235170586887, \"XYIIYY\": 0.012181235170586887, \"YXIIXX\": -0.012181235170586887, \"YYIIXY\": -0.012181235170586887, \"XYIIXX\": -0.012181235170586887, \"XXIIXY\": 0.012181235170586887}, \"num_qubits\": 6}}"
   ]
  },
  {
   "cell_type": "code",
   "execution_count": null,
   "metadata": {},
   "outputs": [],
   "source": [
    "ham = ham_data[\"H3+_STO-3G_SINGLET\"][\"ham\"]\n",
    "uccsd = ham_data[\"H3+_STO-3G_SINGLET\"][\"uccsd\"]\n",
    "num_qubits = ham_data[\"H3+_STO-3G_SINGLET\"][\"num_qubits\"]"
   ]
  },
  {
   "cell_type": "code",
   "execution_count": null,
   "metadata": {},
   "outputs": [],
   "source": [
    "PAULI_STRINGS_LOOKUP = {'I':0,'X':1,'Y':2,'Z':3}\n",
    "PAULI_STRINGS_LOOKUP_REVERSE = {0:'I', 1:'X', 2:'Y', 3:'Z'}\n",
    "\n",
    "def hamiltonian_dict_to_list(ham_dict):\n",
    "    \"\"\" Convert Hamiltonian from Pauli string dictionary format to list indices\n",
    "    \"\"\"\n",
    "    ham_list = []\n",
    "    for op in ham_dict.keys():\n",
    "        new_op=[]\n",
    "        for i in op:\n",
    "            new_op.append(PAULI_STRINGS_LOOKUP[i])\n",
    "        ham_list.append((ham_dict[op], new_op))\n",
    "    return ham_list\n",
    "\n",
    "def hamiltonian_list_to_dict(ham_list):\n",
    "    \"\"\" Convert Hamiltonian from list indices to Pauli string dictionary\n",
    "    \"\"\"\n",
    "    ham_dict = {}\n",
    "    for coeff, op in ham_list:\n",
    "        new_op = []\n",
    "        for i in op:\n",
    "            new_op.append(PAULI_STRINGS_LOOKUP_REVERSE[i])\n",
    "        ham_dict[''.join(new_op)] = coeff\n",
    "    return ham_dict"
   ]
  },
  {
   "cell_type": "code",
   "execution_count": 61,
   "metadata": {},
   "outputs": [
    {
     "data": {
      "text/plain": [
       "{'III': (-0.14358226725147596+0j),\n",
       " 'IIX': (-0.02382124592510557+0j),\n",
       " 'IIZ': (-0.3629785200513802+0j),\n",
       " 'IXI': (0.023821238064299418-0j),\n",
       " 'IXX': (0.018908492435760024+0j),\n",
       " 'IXZ': (0.023821238064299418-0j),\n",
       " 'IYY': (-0.018908492435760024+0j),\n",
       " 'IZI': (-0.36297852005138015+0j),\n",
       " 'IZX': (0.023821256453232624-0j),\n",
       " 'IZZ': (0.31033257825809857+0j),\n",
       " 'XII': (0.03600691386677176+0j),\n",
       " 'XIX': (-0.023821238064299418+0j),\n",
       " 'XIZ': (0.03600691386677176-0j),\n",
       " 'XXI': (0.02382124592510557+0j),\n",
       " 'XXZ': (-0.023821241994702487+0j),\n",
       " 'XYY': (-0.0720138261606174+0j),\n",
       " 'XZI': (0.03600691386677176-0j),\n",
       " 'XZX': (-0.023821238064299418+0j),\n",
       " 'XZZ': (0.03600691386677176-0j),\n",
       " 'YIY': (0.023821238064299418+0j),\n",
       " 'YXY': (0.0720138261606174+0j),\n",
       " 'YYI': (0.02382124592510557+0j),\n",
       " 'YYZ': (-0.023821241994702487+0j),\n",
       " 'YZY': (0.023821238064299418-0j),\n",
       " 'ZII': (-0.019411148607994075+0j),\n",
       " 'ZIX': (-0.023821256453232624+0j),\n",
       " 'ZIZ': (0.28535309758260174+0j),\n",
       " 'ZXI': (0.023821238064299418-0j),\n",
       " 'ZXX': (0.018908492435760024-0j),\n",
       " 'ZXZ': (0.023821238064299418+0j),\n",
       " 'ZYY': (-0.018908492435760024+0j),\n",
       " 'ZZI': (0.44060437132390023+0j),\n",
       " 'ZZX': (0.02382124592510557+0j),\n",
       " 'ZZZ': (-0.019411148607994075+0j)}"
      ]
     },
     "execution_count": 61,
     "metadata": {},
     "output_type": "execute_result"
    }
   ],
   "source": [
    "hamiltonian_list_to_dict(tapering.taperOplist(hamiltonian_dict_to_list(ham), 56))"
   ]
  },
  {
   "cell_type": "code",
   "execution_count": null,
   "metadata": {},
   "outputs": [],
   "source": []
  },
  {
   "cell_type": "code",
   "execution_count": null,
   "metadata": {},
   "outputs": [],
   "source": []
  },
  {
   "cell_type": "code",
   "execution_count": null,
   "metadata": {},
   "outputs": [],
   "source": []
  },
  {
   "cell_type": "code",
   "execution_count": null,
   "metadata": {},
   "outputs": [],
   "source": []
  }
 ],
 "metadata": {
  "kernelspec": {
   "display_name": "Python 3",
   "language": "python",
   "name": "python3"
  },
  "language_info": {
   "codemirror_mode": {
    "name": "ipython",
    "version": 3
   },
   "file_extension": ".py",
   "mimetype": "text/x-python",
   "name": "python",
   "nbconvert_exporter": "python",
   "pygments_lexer": "ipython3",
   "version": "3.7.0"
  }
 },
 "nbformat": 4,
 "nbformat_minor": 2
}
