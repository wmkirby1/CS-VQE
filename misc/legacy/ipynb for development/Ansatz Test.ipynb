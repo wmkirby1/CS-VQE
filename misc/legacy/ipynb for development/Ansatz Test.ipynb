{
 "cells": [
  {
   "cell_type": "code",
   "execution_count": 1,
   "metadata": {},
   "outputs": [
    {
     "name": "stdout",
     "output_type": "stream",
     "text": [
      "[[0.7853981633974483, 'IYI'], [0.7853981633974483, 'IYZ']]\n",
      "     ┌───┐ ░  ┌───┐                           ┌───┐      ░  ░  ┌───┐           »\n",
      "q_0: ┤ X ├─░──┤ H ├────────■───────────────■──┤ H ├──────░──░──┤ H ├────────■──»\n",
      "     ├───┤ ░  └───┘        │               │  └───┘      ░  ░ ┌┴───┴┐┌───┐┌─┴─┐»\n",
      "q_1: ┤ X ├─░───────────────┼───────────────┼─────────────░──░─┤ SDG ├┤ H ├┤ X ├»\n",
      "     ├───┤ ░ ┌─────┐┌───┐┌─┴─┐┌─────────┐┌─┴─┐┌───┐┌───┐ ░  ░ └─────┘└───┘└───┘»\n",
      "q_2: ┤ X ├─░─┤ SDG ├┤ H ├┤ X ├┤ RZ(2*α) ├┤ X ├┤ H ├┤ S ├─░──░──────────────────»\n",
      "     └───┘ ░ └─────┘└───┘└───┘└─────────┘└───┘└───┘└───┘ ░  ░                  »\n",
      "«                     ┌───┐      ░  ░                                   ░  ░ »\n",
      "«q_0: ─────────────■──┤ H ├──────░──░───────────────────────────────────░──░─»\n",
      "«     ┌─────────┐┌─┴─┐├───┤┌───┐ ░  ░ ┌─────┐┌───┐┌─────────┐┌───┐┌───┐ ░  ░ »\n",
      "«q_1: ┤ RZ(2*β) ├┤ X ├┤ H ├┤ S ├─░──░─┤ SDG ├┤ H ├┤ RZ(π/2) ├┤ H ├┤ S ├─░──░─»\n",
      "«     └─────────┘└───┘└───┘└───┘ ░  ░ └─────┘└───┘└─────────┘└───┘└───┘ ░  ░ »\n",
      "«q_2: ───────────────────────────░──░───────────────────────────────────░──░─»\n",
      "«                                ░  ░                                   ░  ░ »\n",
      "«                                                 ░ \n",
      "«q_0: ────────────────────────────────────────────░─\n",
      "«     ┌─────┐┌───┐                     ┌───┐┌───┐ ░ \n",
      "«q_1: ┤ SDG ├┤ H ├──■───────────────■──┤ H ├┤ S ├─░─\n",
      "«     └─────┘└───┘┌─┴─┐┌─────────┐┌─┴─┐└───┘└───┘ ░ \n",
      "«q_2: ────────────┤ X ├┤ RZ(π/2) ├┤ X ├───────────░─\n",
      "«                 └───┘└─────────┘└───┘           ░ \n",
      "(['ZII', 'IZZ'], ['ZZI', 'IXX'], {'III': [[], [], 1], 'ZII': [['ZII'], [], 1], 'ZZI': [[], ['ZZI'], 1], 'ZIZ': [['IZZ'], ['ZZI'], 1], 'IXX': [[], ['IXX'], 1], 'IYY': [['IZZ'], ['IXX'], (-1+0j)], 'IZI': [['ZII'], ['ZZI'], 1], 'IZZ': [['IZZ'], [], 1], 'IIZ': [['ZII', 'IZZ'], ['ZZI'], 1]})\n",
      "[['pi/2', 'IYI'], ['pi/2', 'IYZ']]\n",
      "[['pi/2', 'IYI'], ['pi/2', 'IYZ']]\n",
      "[['pi/2', 'IYI'], ['pi/2', 'IYZ']] ['ZII', 'IZI'] [-1. -1.]\n",
      "-6.823060333 * III\n",
      "- 0.1110098029 * ZII\n",
      "+ 0.5370907285 * IZZ\n",
      "- 0.3127149146 * IIZ\n",
      "- 0.383637914 * ZZZ\n",
      "+ 0.2581256772 * ZIZ\n",
      "- 0.2523178271 * IZI\n",
      "+ 0.01764480014 * IZX\n",
      "+ 0.01764480014 * IIX\n",
      "- 0.06593809513 * XXZ\n",
      "- 0.06593809513 * YYI\n",
      "- 0.0121680127 * XYY\n",
      "+ 0.0121680127 * YYX\n",
      "(-7.087524341480094, -7.952199709435632)\n"
     ]
    }
   ],
   "source": [
    "import cs_vqe_ansatz as c\n",
    "import cs_vqe as c_org\n",
    "import numpy as np\n",
    "from qiskit.opflow.primitive_ops import PauliOp\n",
    "from qiskit.quantum_info.operators.symplectic.pauli import Pauli\n",
    "from qiskit.aqua.algorithms import NumPyEigensolver\n",
    "\n",
    "ham = {'III':-6.823060333, 'ZII':-0.1110098029, 'IZI':-0.5370907285, 'IIZ':-0.3127149146, \n",
    "       'ZZI':0.383637914, 'ZIZ':0.2581256772, 'IZZ':0.2523178271, 'IXX':0.01764480014, \n",
    "       'IYY':0.01764480014, 'XXI':0.06593809513, 'YYI':-0.06593809513, 'XIX':0.0121680127, 'YIY':0.0121680127}\n",
    "\n",
    "terms_noncon = ['III','ZII','ZZI','ZIZ','IXX','IYY','IZI','IZZ','IIZ']\n",
    "\n",
    "#rotations = [[3.1415926536432277, 'ZYX'], [np.pi/4, 'IYI'], [np.pi/4, 'IYZ'], [np.pi/4, 'IIY'], [np.pi/4, 'ZZY']]\n",
    "rotations = [[np.pi/4, 'IYI'], [np.pi/4, 'IYZ']]\n",
    "#rotations.reverse()\n",
    "print(rotations)\n",
    "\n",
    "anz = c.construct_ansatz([0, 1, 2], ['XIY', 'XYI'], rotations)\n",
    "print(anz.draw())\n",
    "\n",
    "#new_terms = ['III', 'ZZX', 'IXI', 'XYI', 'YIX', 'YZI', 'XXX']\n",
    "\n",
    "#anz = c.construct_ansatz([0, 1, 2], new_terms)\n",
    "#print(anz.draw())\n",
    "\n",
    "ham_q = sum([PauliOp(Pauli(k), ham[k]) for k in ham.keys()])\n",
    "result = NumPyEigensolver(ham_q).run()\n",
    "\n",
    "exact_result = float(np.real(result.eigenvalues))\n",
    "\n",
    "vqe_result = c.CS_VQE(ham, terms_noncon, num_qubits=3, ansatz=anz)\n",
    "\n",
    "print(vqe_result)"
   ]
  },
  {
   "cell_type": "code",
   "execution_count": null,
   "metadata": {},
   "outputs": [],
   "source": []
  },
  {
   "cell_type": "code",
   "execution_count": 2,
   "metadata": {},
   "outputs": [
    {
     "data": {
      "text/plain": [
       "{'XYI': -1.0, 'YIX': -1.2246467991473532e-16}"
      ]
     },
     "execution_count": 2,
     "metadata": {},
     "output_type": "execute_result"
    }
   ],
   "source": [
    "c_org.apply_rotation([np.pi, 'ZYX'],'XYI')"
   ]
  },
  {
   "cell_type": "code",
   "execution_count": 1,
   "metadata": {},
   "outputs": [],
   "source": [
    "import cirq"
   ]
  },
  {
   "cell_type": "code",
   "execution_count": 3,
   "metadata": {},
   "outputs": [
    {
     "name": "stdout",
     "output_type": "stream",
     "text": [
      "Help on class Qid in module cirq.ops.raw_types:\n",
      "\n",
      "class Qid(builtins.object)\n",
      " |  Identifies a quantum object such as a qubit, qudit, resonator, etc.\n",
      " |  \n",
      " |  Child classes represent specific types of objects, such as a qubit at a\n",
      " |  particular location on a chip or a qubit with a particular name.\n",
      " |  \n",
      " |  The main criteria that a custom qid must satisfy is *comparability*. Child\n",
      " |  classes meet this criteria by implementing the `_comparison_key` method. For\n",
      " |  example, `cirq.LineQubit`'s `_comparison_key` method returns `self.x`. This\n",
      " |  ensures that line qubits with the same `x` are equal, and that line qubits\n",
      " |  will be sorted ascending by `x`. `Qid` implements all equality,\n",
      " |  comparison, and hashing methods via `_comparison_key`.\n",
      " |  \n",
      " |  Methods defined here:\n",
      " |  \n",
      " |  __eq__(self, other)\n",
      " |      Return self==value.\n",
      " |  \n",
      " |  __ge__(self, other)\n",
      " |      Return self>=value.\n",
      " |  \n",
      " |  __gt__(self, other)\n",
      " |      Return self>value.\n",
      " |  \n",
      " |  __hash__(self)\n",
      " |      Return hash(self).\n",
      " |  \n",
      " |  __le__(self, other)\n",
      " |      Return self<=value.\n",
      " |  \n",
      " |  __lt__(self, other)\n",
      " |      Return self<value.\n",
      " |  \n",
      " |  __ne__(self, other)\n",
      " |      Return self!=value.\n",
      " |  \n",
      " |  with_dimension(self, dimension: int) -> 'Qid'\n",
      " |      Returns a new qid with a different dimension.\n",
      " |      \n",
      " |      Child classes can override.  Wraps the qubit object by default.\n",
      " |      \n",
      " |      Args:\n",
      " |          dimension: The new dimension or number of levels.\n",
      " |  \n",
      " |  ----------------------------------------------------------------------\n",
      " |  Static methods defined here:\n",
      " |  \n",
      " |  validate_dimension(dimension: int) -> None\n",
      " |      Raises an exception if `dimension` is not positive.\n",
      " |      \n",
      " |      Raises:\n",
      " |          ValueError: `dimension` is not positive.\n",
      " |  \n",
      " |  ----------------------------------------------------------------------\n",
      " |  Data descriptors defined here:\n",
      " |  \n",
      " |  __dict__\n",
      " |      dictionary for instance variables (if defined)\n",
      " |  \n",
      " |  __weakref__\n",
      " |      list of weak references to the object (if defined)\n",
      " |  \n",
      " |  dimension\n",
      " |      Returns the dimension or the number of quantum levels this qid has.\n",
      " |      E.g. 2 for a qubit, 3 for a qutrit, etc.\n",
      " |  \n",
      " |  ----------------------------------------------------------------------\n",
      " |  Data and other attributes defined here:\n",
      " |  \n",
      " |  __abstractmethods__ = frozenset({'_comparison_key', 'dimension'})\n",
      "\n"
     ]
    }
   ],
   "source": [
    "help(cirq.Qid)"
   ]
  },
  {
   "cell_type": "code",
   "execution_count": null,
   "metadata": {},
   "outputs": [],
   "source": []
  }
 ],
 "metadata": {
  "kernelspec": {
   "display_name": "Python 3",
   "language": "python",
   "name": "python3"
  },
  "language_info": {
   "codemirror_mode": {
    "name": "ipython",
    "version": 3
   },
   "file_extension": ".py",
   "mimetype": "text/x-python",
   "name": "python",
   "nbconvert_exporter": "python",
   "pygments_lexer": "ipython3",
   "version": "3.7.0"
  }
 },
 "nbformat": 4,
 "nbformat_minor": 2
}
