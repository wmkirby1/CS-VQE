{
 "cells": [
  {
   "cell_type": "code",
   "execution_count": 19,
   "metadata": {},
   "outputs": [],
   "source": [
    "import utils\n",
    "import cs_vqe_classes.eigenstate"
   ]
  },
  {
   "cell_type": "code",
   "execution_count": 20,
   "metadata": {},
   "outputs": [
    {
     "name": "stdout",
     "output_type": "stream",
     "text": [
      "None\n"
     ]
    }
   ],
   "source": [
    "print(cs_vqe_classes.eigenstate.__doc__)"
   ]
  },
  {
   "cell_type": "code",
   "execution_count": null,
   "metadata": {},
   "outputs": [],
   "source": []
  },
  {
   "cell_type": "code",
   "execution_count": 32,
   "metadata": {},
   "outputs": [
    {
     "name": "stdout",
     "output_type": "stream",
     "text": [
      "Help on module cs_vqe_classes.eigenstate in cs_vqe_classes:\r\n",
      "\r\n",
      "N\bNA\bAM\bME\bE\r\n",
      "    cs_vqe_classes.eigenstate\r\n",
      "\r\n",
      "C\bCL\bLA\bAS\bSS\bSE\bES\bS\r\n",
      "    builtins.object\r\n",
      "        eigenstate\r\n",
      "    \r\n",
      "    class e\bei\big\bge\ben\bns\bst\bta\bat\bte\be(builtins.object)\r\n",
      "     |  eigenstate(A, n, num_qubits)\r\n",
      "     |  \r\n",
      "     |  Class for constructing the n-th +1-eigenstate of A\r\n",
      "     |  \r\n",
      "     |  Attributes\r\n",
      "     |  ----------\r\n",
      "     |  A : dict\r\n",
      "     |      Dictionary containg two items A = \\{P_1:r_1, P_2:r_2\\}}\r\n",
      "     |  n : int\r\n",
      "     |      The eigenstate index\r\n",
      "     |  num_qubits : int\r\n",
      "     |      The number of qubits in the Hamiltonian\r\n",
      "     |  \r\n",
      "     |  Methods\r\n",
      "     |  -------\r\n",
      "     |  P_index\r\n",
      "     |      Indexes the qubit positions acted upon by each Pauli operator X, Y, Z\r\n",
      "     |  t_val\r\n",
      "     |      Calculates the eigenstate parameter t that satisfies the required amplitude constraint\r\n",
      "     |  construct\r\n",
      "     |      Constructs the eigenstate, stored as a numpy array\r\n",
      "     |  \r\n",
      "     |  Methods defined here:\r\n",
      "     |  \r\n",
      "     |  P\bP_\b_i\bin\bnd\bde\bex\bx(self, q_pos=False)\r\n",
      "     |      Indexes the qubit positions acted upon by each Pauli operator X, Y, Z\r\n",
      "     |      \r\n",
      "     |      Parameters\r\n",
      "     |      ----------\r\n",
      "     |      q_pos: bool optional\r\n",
      "     |          indices of qubits so compatible with qiskit\r\n",
      "     |      \r\n",
      "     |      Returns\r\n",
      "     |      -------\r\n",
      "     |      dict\r\n",
      "     |          Dictionary of qubit indices acted upon by a Pauli P. Accessed via keys 'Pj' where j=1,2.\r\n",
      "     |  \r\n",
      "     |  _\b__\b_i\bin\bni\bit\bt_\b__\b_(self, A, n, num_qubits)\r\n",
      "     |      Initialize self.  See help(type(self)) for accurate signature.\r\n",
      "     |  \r\n",
      "     |  c\bco\bon\bns\bst\btr\bru\buc\bct\bt(self)\r\n",
      "     |      Constructs the eigenstate, stored as a numpy array\r\n",
      "     |      \r\n",
      "     |      Returns\r\n",
      "     |      -------\r\n",
      "     |      numpy.array\r\n",
      "     |          Normalised +1-eigenstate of A, a column vector of 2**num_qubits elements\r\n",
      "     |  \r\n",
      "     |  t\bt_\b_v\bva\bal\bl(self, alt=False)\r\n",
      "     |      Calculates the eigenstate parameter t that satisfies the required amplitude constraint\r\n",
      "     |      \r\n",
      "     |      Returns\r\n",
      "     |      -------\r\n",
      "     |      float\r\n",
      "     |          The eigenstate parameter t\r\n",
      "     |  \r\n",
      "     |  ----------------------------------------------------------------------\r\n",
      "     |  Data descriptors defined here:\r\n",
      "     |  \r\n",
      "     |  _\b__\b_d\bdi\bic\bct\bt_\b__\b_\r\n",
      "     |      dictionary for instance variables (if defined)\r\n",
      "     |  \r\n",
      "     |  _\b__\b_w\bwe\bea\bak\bkr\bre\bef\bf_\b__\b_\r\n",
      "     |      list of weak references to the object (if defined)\r\n",
      "\r\n",
      "F\bFI\bIL\bLE\bE\r\n",
      "    /mnt/c/Users/Tim/Jupyter Projects/ContextualSubspaceVQE/cs_vqe_classes/eigenstate.py\r\n",
      "\r\n",
      "\r\n",
      "No Python documentation found for '-w'.\r\n",
      "Use help() to get the interactive help utility.\r\n",
      "Use help(str) for help on the str class.\r\n",
      "\r\n",
      "file 'documentation/test_doc.txt' does not exist\r\n"
     ]
    }
   ],
   "source": [
    "!python -m pydoc cs_vqe_classes.eigenstate -w documentation/test_doc.txt"
   ]
  },
  {
   "cell_type": "code",
   "execution_count": null,
   "metadata": {},
   "outputs": [],
   "source": []
  }
 ],
 "metadata": {
  "kernelspec": {
   "display_name": "Python 3",
   "language": "python",
   "name": "python3"
  },
  "language_info": {
   "codemirror_mode": {
    "name": "ipython",
    "version": 3
   },
   "file_extension": ".py",
   "mimetype": "text/x-python",
   "name": "python",
   "nbconvert_exporter": "python",
   "pygments_lexer": "ipython3",
   "version": "3.7.0"
  }
 },
 "nbformat": 4,
 "nbformat_minor": 2
}
