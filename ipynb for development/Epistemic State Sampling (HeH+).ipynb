{
 "cells": [
  {
   "cell_type": "code",
   "execution_count": 2,
   "metadata": {
    "scrolled": true
   },
   "outputs": [
    {
     "name": "stdout",
     "output_type": "stream",
     "text": [
      "Hamiltonian: \n",
      " (-1.5419759528969692+0j) [] +\n",
      "(-0.03640948355953764+0j) [X0 X1 Y2 Y3] +\n",
      "(0.03640948355953764+0j) [X0 Y1 Y2 X3] +\n",
      "(0.05246557037552685+0j) [X0 Z1 X2] +\n",
      "(-0.009234661837974558+0j) [X0 Z1 X2 Z3] +\n",
      "(0.04322997146404521+0j) [X0 X2] +\n",
      "(0.03640948355953764+0j) [Y0 X1 X2 Y3] +\n",
      "(-0.03640948355953764+0j) [Y0 Y1 X2 X3] +\n",
      "(0.05246557037552685+0j) [Y0 Z1 Y2] +\n",
      "(-0.009234661837974558+0j) [Y0 Z1 Y2 Z3] +\n",
      "(0.04322997146404521+0j) [Y0 Y2] +\n",
      "(0.7589136134172096+0j) [Z0] +\n",
      "(0.04322997146404521+0j) [Z0 X1 Z2 X3] +\n",
      "(0.04322997146404521+0j) [Z0 Y1 Z2 Y3] +\n",
      "(0.23578727153769516+0j) [Z0 Z1] +\n",
      "(0.12887693985157755+0j) [Z0 Z2] +\n",
      "(0.1652864234111152+0j) [Z0 Z3] +\n",
      "(0.05246557037552685+0j) [X1 Z2 X3] +\n",
      "(-0.009234661837974558+0j) [X1 X3] +\n",
      "(0.05246557037552685+0j) [Y1 Z2 Y3] +\n",
      "(-0.009234661837974558+0j) [Y1 Y3] +\n",
      "(0.7589136134172096+0j) [Z1] +\n",
      "(0.1652864234111152+0j) [Z1 Z2] +\n",
      "(0.12887693985157755+0j) [Z1 Z3] +\n",
      "(0.19140054473500764+0j) [Z2] +\n",
      "(0.18815905542064587+0j) [Z2 Z3] +\n",
      "(0.19140054473500764+0j) [Z3] \n",
      "\n",
      "UCCSD ansatz: \n",
      " 0.008295116013698348j [X0 X1 X2 Y3] +\n",
      "0.008295116013698348j [X0 X1 Y2 X3] +\n",
      "-0.008295116013698348j [X0 Y1 X2 X3] +\n",
      "0.008295116013698348j [X0 Y1 Y2 Y3] +\n",
      "-0.006293861055900036j [X0 Z1 Y2] +\n",
      "-0.008295116013698348j [Y0 X1 X2 X3] +\n",
      "0.008295116013698348j [Y0 X1 Y2 Y3] +\n",
      "-0.008295116013698348j [Y0 Y1 X2 Y3] +\n",
      "-0.008295116013698348j [Y0 Y1 Y2 X3] +\n",
      "0.006293861055900036j [Y0 Z1 X2] +\n",
      "-0.006293861055900036j [X1 Z2 Y3] +\n",
      "0.006293861055900036j [Y1 Z2 X3]\n"
     ]
    }
   ],
   "source": [
    "import openfermion\n",
    "import openfermionpyscf\n",
    "from openfermion import MolecularData\n",
    "from openfermionpyscf import run_pyscf\n",
    "from openfermion.ops import FermionOperator, QubitOperator\n",
    "from openfermion.transforms import jordan_wigner, bravyi_kitaev\n",
    "from openfermion.transforms import get_fermion_operator\n",
    "from openfermion.circuits import (uccsd_singlet_get_packed_amplitudes,\n",
    "                               uccsd_singlet_generator, uccsd_generator,\n",
    "                               uccsd_convert_amplitude_format)\n",
    "import numpy as np\n",
    "import cs_vqe as c\n",
    "import itertools\n",
    "import qubit_conversion as q_conv\n",
    "\n",
    "singlet_bool = True # Set general UCCSD or singlet UCCSD.\n",
    "\n",
    "bond_len = 0.772#1.45\n",
    "atom_1 = 'He'\n",
    "atom_2 = 'H'\n",
    "basis = 'sto3g'\n",
    "multiplicity = 1\n",
    "charge = 1\n",
    "\n",
    "coordinate_1 = (0.0, 0.0, 0.0)\n",
    "coordinate_2 = (0.0, 0.0, bond_len)\n",
    "geometry = [(atom_1, coordinate_1), (atom_2, coordinate_2)]\n",
    "\n",
    "molecule_data = MolecularData(geometry, basis, multiplicity, charge, description='Test')\n",
    "#molecule.load()\n",
    "\n",
    "# Set calculation parameters.\n",
    "run_scf = 1\n",
    "run_mp2 = 1\n",
    "run_cisd = 0\n",
    "run_ccsd = 0\n",
    "run_fci = 1\n",
    "delete_input = True\n",
    "delete_output = True\n",
    "\n",
    "# Run pyscf.\n",
    "molecule = run_pyscf(molecule_data,\n",
    "                     run_scf=run_scf,\n",
    "                     run_mp2=run_mp2,\n",
    "                     run_cisd=run_cisd,\n",
    "                     run_ccsd=run_ccsd,\n",
    "                     run_fci=run_fci)\n",
    "\n",
    "#molecule.load()\n",
    "#print(molecule)\n",
    "\n",
    "ham = get_fermion_operator(molecule.get_molecular_hamiltonian())\n",
    "ham_q = jordan_wigner(ham)\n",
    "print('Hamiltonian:', '\\n', ham_q, '\\n')\n",
    "\n",
    "scf = True      # Hartree-Fock.\n",
    "mp2 = True      # Moller-Plesset 2.\n",
    "cisd = True     # Configuration interaction singles and doubles.\n",
    "ccsd = True     # Coupled cluster singles and doubles.\n",
    "fci = True      # Full configuration interaction.\n",
    "\n",
    "calculated_molecule = run_pyscf(molecule_data, scf, mp2, cisd, ccsd, fci)\n",
    "\n",
    "if ccsd:\n",
    "    ccsd_single_amps = calculated_molecule.ccsd_single_amps\n",
    "    ccsd_double_amps = calculated_molecule.ccsd_double_amps\n",
    "\n",
    "num_electrons = calculated_molecule.n_electrons\n",
    "num_qubits = 2*calculated_molecule.n_orbitals\n",
    "\n",
    "if singlet_bool:\n",
    "    # Get singlet UCCSD generator.\n",
    "    packed_amps = uccsd_singlet_get_packed_amplitudes(ccsd_single_amps,  ccsd_double_amps, num_qubits, num_electrons)\n",
    "    ucc_sing = uccsd_singlet_generator(packed_amps, num_qubits, num_electrons)\n",
    "    #print(ucc_sing)\n",
    "\n",
    "else:\n",
    "    # Get general UCCSD operator.\n",
    "    ucc_op = uccsd_generator(ccsd_single_amps, ccsd_double_amps)\n",
    "    #print(ucc_op)\n",
    "    \n",
    "ucc_q = jordan_wigner(ucc_sing)\n",
    "print('UCCSD ansatz:', '\\n', ucc_q)"
   ]
  },
  {
   "cell_type": "code",
   "execution_count": 3,
   "metadata": {},
   "outputs": [],
   "source": [
    "ham = q_conv.QubitOperator_to_dict(ham_q, num_qubits)\n",
    "anz_terms = list((q_conv.QubitOperator_to_dict(ucc_q, num_qubits)).keys())"
   ]
  },
  {
   "cell_type": "code",
   "execution_count": 4,
   "metadata": {},
   "outputs": [
    {
     "data": {
      "text/plain": [
       "{'IIII': (-1.5419759528969692+0j),\n",
       " 'ZIII': (0.7589136134172096+0j),\n",
       " 'IZII': (0.7589136134172096+0j),\n",
       " 'ZZII': (0.23578727153769516+0j),\n",
       " 'IIZI': (0.19140054473500764+0j),\n",
       " 'IIIZ': (0.19140054473500764+0j),\n",
       " 'IIZZ': (0.18815905542064587+0j),\n",
       " 'ZIIZ': (0.1652864234111152+0j),\n",
       " 'IZZI': (0.1652864234111152+0j),\n",
       " 'ZIZI': (0.12887693985157755+0j),\n",
       " 'IZIZ': (0.12887693985157755+0j),\n",
       " 'YZYI': (0.05246557037552685+0j),\n",
       " 'XZXI': (0.05246557037552685+0j),\n",
       " 'YIYI': (0.04322997146404521+0j),\n",
       " 'XIXI': (0.04322997146404521+0j),\n",
       " 'YZYZ': (-0.009234661837974558+0j),\n",
       " 'XZXZ': (-0.009234661837974558+0j)}"
      ]
     },
     "execution_count": 4,
     "metadata": {},
     "output_type": "execute_result"
    }
   ],
   "source": [
    "terms_noncon = c.greedy_dfs(ham, 1, criterion='weight')[-1]\n",
    "ham_noncon = {t:ham[t] for t in terms_noncon}\n",
    "ham_noncon"
   ]
  },
  {
   "cell_type": "code",
   "execution_count": 5,
   "metadata": {},
   "outputs": [
    {
     "data": {
      "text/plain": [
       "{'ZXZX': (0.04322997146404521+0j),\n",
       " 'YYXX': (-0.03640948355953764+0j),\n",
       " 'XYYX': (0.03640948355953764+0j),\n",
       " 'ZYZY': (0.04322997146404521+0j),\n",
       " 'IXIX': (-0.009234661837974558+0j),\n",
       " 'IYIY': (-0.009234661837974558+0j),\n",
       " 'IYZY': (0.05246557037552685+0j),\n",
       " 'XXYY': (-0.03640948355953764+0j),\n",
       " 'IXZX': (0.05246557037552685+0j),\n",
       " 'YXXY': (0.03640948355953764+0j)}"
      ]
     },
     "execution_count": 5,
     "metadata": {},
     "output_type": "execute_result"
    }
   ],
   "source": [
    "terms_context = list(ham.keys() - terms_noncon)\n",
    "ham_context = {t:ham[t] for t in terms_context}\n",
    "ham_context"
   ]
  },
  {
   "cell_type": "code",
   "execution_count": 6,
   "metadata": {},
   "outputs": [
    {
     "data": {
      "text/plain": [
       "False"
      ]
     },
     "execution_count": 6,
     "metadata": {},
     "output_type": "execute_result"
    }
   ],
   "source": [
    "c.contextualQ_ham(ham_context)"
   ]
  },
  {
   "cell_type": "code",
   "execution_count": 7,
   "metadata": {},
   "outputs": [
    {
     "data": {
      "text/plain": [
       "[-3.0134857192955553,\n",
       " [[-1, -1, -1], [-0.07087650179757096, -0.9974850983813939]],\n",
       " (['ZIZI', 'IZII', 'IIIZ'],\n",
       "  ['YZYI', 'ZIII'],\n",
       "  {'IIII': [[], [], 1],\n",
       "   'ZIII': [[], ['ZIII'], 1],\n",
       "   'IZII': [['IZII'], [], 1],\n",
       "   'ZZII': [['IZII'], ['ZIII'], 1],\n",
       "   'IIZI': [['ZIZI'], ['ZIII'], 1],\n",
       "   'IIIZ': [['IIIZ'], [], 1],\n",
       "   'IIZZ': [['ZIZI', 'IIIZ'], ['ZIII'], 1],\n",
       "   'ZIIZ': [['IIIZ'], ['ZIII'], 1],\n",
       "   'IZZI': [['ZIZI', 'IZII'], ['ZIII'], 1],\n",
       "   'ZIZI': [['ZIZI'], [], 1],\n",
       "   'IZIZ': [['IZII', 'IIIZ'], [], 1],\n",
       "   'YZYI': [[], ['YZYI'], 1],\n",
       "   'XZXI': [['ZIZI'], ['YZYI'], (-1+0j)],\n",
       "   'YIYI': [['IZII'], ['YZYI'], 1],\n",
       "   'XIXI': [['ZIZI', 'IZII'], ['YZYI'], (-1+0j)],\n",
       "   'YZYZ': [['IIIZ'], ['YZYI'], 1],\n",
       "   'XZXZ': [['ZIZI', 'IIIZ'], ['YZYI'], (-1+0j)]}),\n",
       " [3,\n",
       "  2,\n",
       "  [[(-1.5419759528969692+0j), [], [], 'IIII'],\n",
       "   [(0.7589136134172096+0j), [], [1], 'ZIII'],\n",
       "   [(0.7589136134172096+0j), [1], [], 'IZII'],\n",
       "   [(0.23578727153769516+0j), [1], [1], 'ZZII'],\n",
       "   [(0.19140054473500764+0j), [0], [1], 'IIZI'],\n",
       "   [(0.19140054473500764+0j), [2], [], 'IIIZ'],\n",
       "   [(0.18815905542064587+0j), [0, 2], [1], 'IIZZ'],\n",
       "   [(0.1652864234111152+0j), [2], [1], 'ZIIZ'],\n",
       "   [(0.1652864234111152+0j), [0, 1], [1], 'IZZI'],\n",
       "   [(0.12887693985157755+0j), [0], [], 'ZIZI'],\n",
       "   [(0.12887693985157755+0j), [1, 2], [], 'IZIZ'],\n",
       "   [(0.05246557037552685+0j), [], [0], 'YZYI'],\n",
       "   [(-0.05246557037552685+0j), [0], [0], 'XZXI'],\n",
       "   [(0.04322997146404521+0j), [1], [0], 'YIYI'],\n",
       "   [(-0.04322997146404521+0j), [0, 1], [0], 'XIXI'],\n",
       "   [(-0.009234661837974558+0j), [2], [0], 'YZYZ'],\n",
       "   [(0.009234661837974558-0j), [0, 2], [0], 'XZXZ']]]]"
      ]
     },
     "execution_count": 7,
     "metadata": {},
     "output_type": "execute_result"
    }
   ],
   "source": [
    "model = c.quasi_model(ham_noncon)\n",
    "fn_form = c.energy_function_form(ham_noncon, model)\n",
    "gs_noncon = c.find_gs_noncon(ham_noncon)\n",
    "gs_noncon_energy = gs_noncon[0]\n",
    "ep_state = gs_noncon[1]\n",
    "\n",
    "gs_noncon"
   ]
  },
  {
   "cell_type": "code",
   "execution_count": 8,
   "metadata": {},
   "outputs": [],
   "source": [
    "#model_c = c.quasi_model(ham_context)\n",
    "#fn_form_c = c.energy_function_form(ham_context, model_c)\n",
    "#gs_noncon_c = c.find_gs_noncon(ham_context)\n",
    "#gs_noncon_energy_c = gs_noncon_c[0]\n",
    "#ep_state_c = gs_noncon_c[1]\n",
    "\n",
    "#print(gs_noncon_energy_c)\n",
    "#gs_noncon_c"
   ]
  },
  {
   "cell_type": "code",
   "execution_count": 9,
   "metadata": {},
   "outputs": [
    {
     "name": "stdout",
     "output_type": "stream",
     "text": [
      "[-3.0134857192955553, -3.013485719295555, -3.0134857192955584, -3.0134857192955553, -3.0134857192955598, -3.0134857192955575, -3.013485719295557, -3.0134857192955544, -3.0134857192955544]\n",
      "[-3.01348572]\n"
     ]
    },
    {
     "name": "stderr",
     "output_type": "stream",
     "text": [
      "/home/tim/anaconda3/lib/python3.7/site-packages/qiskit/aqua/algorithms/eigen_solvers/eigen_solver.py:38: DeprecationWarning: The package qiskit.aqua.algorithms.eigen_solvers is deprecated. It was moved/refactored to qiskit.algorithms.eigen_solvers (pip install qiskit-terra). For more information see <https://github.com/Qiskit/qiskit-aqua/blob/master/README.md#migration-guide>\n",
      "  'qiskit-terra')\n",
      "/home/tim/anaconda3/lib/python3.7/site-packages/qiskit/aqua/operators/operator_base.py:46: DeprecationWarning: The package qiskit.aqua.operators is deprecated. It was moved/refactored to qiskit.opflow (pip install qiskit-terra). For more information see <https://github.com/Qiskit/qiskit-aqua/blob/master/README.md#migration-guide>\n",
      "  warn_package('aqua.operators', 'qiskit.opflow', 'qiskit-terra')\n"
     ]
    }
   ],
   "source": [
    "from qiskit.aqua.algorithms import NumPyEigensolver\n",
    "\n",
    "order = [0,1,2,3,4,5,6,7]\n",
    "print(c.contextual_subspace_approximations(ham,model,fn_form,ep_state,order))\n",
    "\n",
    "result = NumPyEigensolver(q_conv.dict_to_WeightedPauliOperator(ham)).run()\n",
    "exact_energy = np.real(result.eigenvalues)\n",
    "\n",
    "print(exact_energy)"
   ]
  },
  {
   "cell_type": "code",
   "execution_count": 10,
   "metadata": {},
   "outputs": [
    {
     "data": {
      "text/plain": [
       "(-3.0134857192955553,\n",
       " [[-1, -1, -1], [-0.07087650179757096, -0.9974850983813939]])"
      ]
     },
     "execution_count": 10,
     "metadata": {},
     "output_type": "execute_result"
    }
   ],
   "source": [
    "gs_noncon_energy, ep_state"
   ]
  },
  {
   "cell_type": "code",
   "execution_count": 11,
   "metadata": {},
   "outputs": [],
   "source": [
    "def ontic_prob(ep_state, ontic_state):\n",
    "    \n",
    "    if ep_state[0] != ontic_state[0]:\n",
    "        return 0\n",
    "    \n",
    "    else:\n",
    "        prod = 1\n",
    "        for index, r in enumerate(ep_state[1]):\n",
    "            f = 1/2 * abs(r + ontic_state[1][index])\n",
    "            prod *= f\n",
    "        \n",
    "        return prod    \n",
    "\n",
    "def epistemic_dist(ep_state):\n",
    "    size_G = len(ep_state[0])\n",
    "    size_Ci = len(ep_state[1])\n",
    "    size_R = size_G + size_Ci\n",
    "    \n",
    "    ep_prob = {}\n",
    "    \n",
    "    ontic_states = list(itertools.product([1, -1], repeat=size_R))\n",
    "    \n",
    "    for o in ontic_states:\n",
    "        o_state = [list(o[0:size_G]), list(o[size_G:size_R])]\n",
    "        o_prob = ontic_prob(ep_state, o_state)\n",
    "        \n",
    "        if o_prob != 0:\n",
    "            ep_prob[o] = o_prob\n",
    "    \n",
    "    return ep_prob"
   ]
  },
  {
   "cell_type": "code",
   "execution_count": 17,
   "metadata": {},
   "outputs": [
    {
     "data": {
      "text/plain": [
       "{(-1, -1, -1, 1, 1): 0.0005841635473785683,\n",
       " (-1, -1, -1, 1, -1): 0.46397758555383595,\n",
       " (-1, -1, -1, -1, 1): 0.000673287261924494,\n",
       " (-1, -1, -1, -1, -1): 0.534764963636861}"
      ]
     },
     "execution_count": 17,
     "metadata": {},
     "output_type": "execute_result"
    }
   ],
   "source": [
    "epistemic_dist(ep_state)"
   ]
  },
  {
   "cell_type": "code",
   "execution_count": 26,
   "metadata": {},
   "outputs": [
    {
     "data": {
      "text/plain": [
       "(0.00502347850706108, 0.994976521492939, 1.0)"
      ]
     },
     "execution_count": 26,
     "metadata": {},
     "output_type": "execute_result"
    }
   ],
   "source": [
    "p = ep_state[1][0]**2 #p\n",
    "p2 = ep_state[1][1]**2 #1-p\n",
    "p, p2, p+p2"
   ]
  },
  {
   "cell_type": "code",
   "execution_count": 27,
   "metadata": {},
   "outputs": [
    {
     "data": {
      "text/plain": [
       "[-1.5353283380740328, 0.035467988720863146]"
      ]
     },
     "execution_count": 27,
     "metadata": {},
     "output_type": "execute_result"
    }
   ],
   "source": [
    "t_vals = [-np.arctan((pm1 + np.sqrt(1-p))/np.sqrt(p)) for pm1 in [+1, -1]]\n",
    "t_vals"
   ]
  },
  {
   "cell_type": "code",
   "execution_count": 28,
   "metadata": {},
   "outputs": [],
   "source": [
    "#-(p2+1)/p, p/(p2-1)"
   ]
  },
  {
   "cell_type": "code",
   "execution_count": 20,
   "metadata": {},
   "outputs": [
    {
     "data": {
      "text/plain": [
       "[0,\n",
       " 0,\n",
       " 0,\n",
       " 0,\n",
       " 0,\n",
       " 0,\n",
       " 0,\n",
       " 0,\n",
       " 0,\n",
       " 0,\n",
       " 0,\n",
       " 0,\n",
       " 0,\n",
       " 0,\n",
       " 0,\n",
       " 0,\n",
       " 0,\n",
       " 0,\n",
       " 0,\n",
       " 0,\n",
       " 0,\n",
       " 0,\n",
       " 0,\n",
       " 0,\n",
       " 0,\n",
       " 0,\n",
       " 0,\n",
       " 0,\n",
       " 0,\n",
       " 0,\n",
       " 0,\n",
       " 0,\n",
       " 0,\n",
       " 0,\n",
       " 0,\n",
       " 0,\n",
       " 0,\n",
       " 0,\n",
       " 0,\n",
       " 0,\n",
       " 0,\n",
       " 0,\n",
       " 0,\n",
       " 0,\n",
       " 0,\n",
       " 0,\n",
       " 0,\n",
       " 0,\n",
       " 0,\n",
       " 0,\n",
       " 0,\n",
       " 0,\n",
       " 0,\n",
       " 0,\n",
       " 0,\n",
       " 0,\n",
       " 0,\n",
       " 0,\n",
       " 0,\n",
       " 0,\n",
       " 0,\n",
       " 0,\n",
       " 0,\n",
       " 0,\n",
       " 0,\n",
       " 0,\n",
       " 0,\n",
       " 0,\n",
       " 0,\n",
       " 0,\n",
       " 0,\n",
       " 0,\n",
       " 0,\n",
       " 0,\n",
       " 0,\n",
       " 0,\n",
       " 0,\n",
       " 0,\n",
       " 0,\n",
       " 0,\n",
       " 0,\n",
       " 0,\n",
       " 0.03546055286234321,\n",
       " 0,\n",
       " 0,\n",
       " 0,\n",
       " 0,\n",
       " 0,\n",
       " 0,\n",
       " 0,\n",
       " 0,\n",
       " 0,\n",
       " 0,\n",
       " 0,\n",
       " 0,\n",
       " 0,\n",
       " 0,\n",
       " 0,\n",
       " 0,\n",
       " 0,\n",
       " 0,\n",
       " 0,\n",
       " 0,\n",
       " 0,\n",
       " 0,\n",
       " 0,\n",
       " 0,\n",
       " 0,\n",
       " 0,\n",
       " 0,\n",
       " 0,\n",
       " 0,\n",
       " 0,\n",
       " 0,\n",
       " 0,\n",
       " 0,\n",
       " 0,\n",
       " 0,\n",
       " 0,\n",
       " 0,\n",
       " 0,\n",
       " 0,\n",
       " 0,\n",
       " 0,\n",
       " 0,\n",
       " 0,\n",
       " 0,\n",
       " 0,\n",
       " 0,\n",
       " 0,\n",
       " 0,\n",
       " 0,\n",
       " 0,\n",
       " 0,\n",
       " 0,\n",
       " 0,\n",
       " 0,\n",
       " 0,\n",
       " 0,\n",
       " 0,\n",
       " 0,\n",
       " 0,\n",
       " 0,\n",
       " 0,\n",
       " 0,\n",
       " 0,\n",
       " 0,\n",
       " 0,\n",
       " 0,\n",
       " 0,\n",
       " 0,\n",
       " 0,\n",
       " 0,\n",
       " 0,\n",
       " 0,\n",
       " 0,\n",
       " 0,\n",
       " 0,\n",
       " 0,\n",
       " 0,\n",
       " 0,\n",
       " 0,\n",
       " 0,\n",
       " 0,\n",
       " 0,\n",
       " 0,\n",
       " 0,\n",
       " 0,\n",
       " 0,\n",
       " 0,\n",
       " 0,\n",
       " 0,\n",
       " 0,\n",
       " 0,\n",
       " 0,\n",
       " 0,\n",
       " 0,\n",
       " 0,\n",
       " 0,\n",
       " 0,\n",
       " 0,\n",
       " 0,\n",
       " 0,\n",
       " 0,\n",
       " 0,\n",
       " 0,\n",
       " 0,\n",
       " 0,\n",
       " 0,\n",
       " 0,\n",
       " 0,\n",
       " 0,\n",
       " 0,\n",
       " 0,\n",
       " 0,\n",
       " 0,\n",
       " 0,\n",
       " 0,\n",
       " 0,\n",
       " 0,\n",
       " 0,\n",
       " 0,\n",
       " 0,\n",
       " 0,\n",
       " 0,\n",
       " 0,\n",
       " 0,\n",
       " 0,\n",
       " 0.9993710768231673,\n",
       " 0,\n",
       " 0,\n",
       " 0,\n",
       " 0,\n",
       " 0,\n",
       " 0,\n",
       " 0,\n",
       " 0,\n",
       " 0,\n",
       " 0,\n",
       " 0,\n",
       " 0,\n",
       " 0,\n",
       " 0,\n",
       " 0,\n",
       " 0,\n",
       " 0,\n",
       " 0,\n",
       " 0,\n",
       " 0,\n",
       " 0,\n",
       " 0,\n",
       " 0,\n",
       " 0,\n",
       " 0,\n",
       " 0,\n",
       " 0,\n",
       " 0,\n",
       " 0,\n",
       " 0,\n",
       " 0,\n",
       " 0,\n",
       " 0,\n",
       " 0,\n",
       " 0,\n",
       " 0,\n",
       " 0,\n",
       " 0,\n",
       " 0,\n",
       " 0,\n",
       " 0,\n",
       " 0,\n",
       " 0,\n",
       " 0,\n",
       " 0,\n",
       " 0,\n",
       " 0]"
      ]
     },
     "execution_count": 20,
     "metadata": {},
     "output_type": "execute_result"
    }
   ],
   "source": [
    "def bin_to_int(bin_str):\n",
    "    bits = [int(b) for b in bin_str]\n",
    "    for index, b in enumerate(bits):\n",
    "        bits[index] = b * 2 ** (len(bits)-index-1)\n",
    "    return sum(bits)\n",
    "\n",
    "initial_state = [0 for i in range(2**8)]\n",
    "initial_state[bin_to_int('01010010')] = np.sin(t_vals[1])\n",
    "initial_state[bin_to_int('11010000')] = np.cos(t_vals[1])\n",
    "initial_state"
   ]
  },
  {
   "cell_type": "code",
   "execution_count": 16,
   "metadata": {},
   "outputs": [
    {
     "data": {
      "text/html": [
       "<pre style=\"word-wrap: normal;white-space: pre;background: #fff0;line-height: 1.1;font-family: &quot;Courier New&quot;,Courier,monospace\">     »\n",
       "q_0: »\n",
       "     »\n",
       "q_1: »\n",
       "     »\n",
       "q_2: »\n",
       "     »\n",
       "q_3: »\n",
       "     »\n",
       "q_4: »\n",
       "     »\n",
       "q_5: »\n",
       "     »\n",
       "q_6: »\n",
       "     »\n",
       "q_7: »\n",
       "     »\n",
       "«     ┌───────────────────────────────────────────────────────────────────────────────────────────────────────────────────────────────────────────────────────────────────────────────────────────────────────────────────────────────────────────────────────────────────────────────────────────────────────────────────────────────────────────────────────────────────────────────────────────────────────────────────────────────────────────────────────────────────────────────────────────────────────────────────────────────────────────────────────────┐\n",
       "«q_0: ┤0                                                                                                                                                                                                                                                                                                                                                                                                                                                                                                                                                          ├\n",
       "«     │                                                                                                                                                                                                                                                                                                                                                                                                                                                                                                                                                           │\n",
       "«q_1: ┤1                                                                                                                                                                                                                                                                                                                                                                                                                                                                                                                                                          ├\n",
       "«     │                                                                                                                                                                                                                                                                                                                                                                                                                                                                                                                                                           │\n",
       "«q_2: ┤2                                                                                                                                                                                                                                                                                                                                                                                                                                                                                                                                                          ├\n",
       "«     │                                                                                                                                                                                                                                                                                                                                                                                                                                                                                                                                                           │\n",
       "«q_3: ┤3                                                                                                                                                                                                                                                                                                                                                                                                                                                                                                                                                          ├\n",
       "«     │  initialize(0,0,0,0,0,0,0,0,0,0,0,0,0,0,0,0,0,0,0,0,0,0,0,0,0,0,0,0,0,0,0,0,0,0,0,0,0,0,0,0,0,0,0,0,0,0,0,0,0,0,0,0,0,0,0,0,0,0,0,0,0,0,0,0,0,0,0,0,0,0,0,0,0,0,0,0,0,0,0,0,0,0,0.035461,0,0,0,0,0,0,0,0,0,0,0,0,0,0,0,0,0,0,0,0,0,0,0,0,0,0,0,0,0,0,0,0,0,0,0,0,0,0,0,0,0,0,0,0,0,0,0,0,0,0,0,0,0,0,0,0,0,0,0,0,0,0,0,0,0,0,0,0,0,0,0,0,0,0,0,0,0,0,0,0,0,0,0,0,0,0,0,0,0,0,0,0,0,0,0,0,0,0,0,0,0,0,0,0,0,0,0,0,0,0,0,0,0,0,0,0,0,0,0,0,0,0,0,0,0,0.99937,0,0,0,0,0,0,0,0,0,0,0,0,0,0,0,0,0,0,0,0,0,0,0,0,0,0,0,0,0,0,0,0,0,0,0,0,0,0,0,0,0,0,0,0,0,0,0) │\n",
       "«q_4: ┤4                                                                                                                                                                                                                                                                                                                                                                                                                                                                                                                                                          ├\n",
       "«     │                                                                                                                                                                                                                                                                                                                                                                                                                                                                                                                                                           │\n",
       "«q_5: ┤5                                                                                                                                                                                                                                                                                                                                                                                                                                                                                                                                                          ├\n",
       "«     │                                                                                                                                                                                                                                                                                                                                                                                                                                                                                                                                                           │\n",
       "«q_6: ┤6                                                                                                                                                                                                                                                                                                                                                                                                                                                                                                                                                          ├\n",
       "«     │                                                                                                                                                                                                                                                                                                                                                                                                                                                                                                                                                           │\n",
       "«q_7: ┤7                                                                                                                                                                                                                                                                                                                                                                                                                                                                                                                                                          ├\n",
       "«     └───────────────────────────────────────────────────────────────────────────────────────────────────────────────────────────────────────────────────────────────────────────────────────────────────────────────────────────────────────────────────────────────────────────────────────────────────────────────────────────────────────────────────────────────────────────────────────────────────────────────────────────────────────────────────────────────────────────────────────────────────────────────────────────────────────────────────────────┘</pre>"
      ],
      "text/plain": [
       "     »\n",
       "q_0: »\n",
       "     »\n",
       "q_1: »\n",
       "     »\n",
       "q_2: »\n",
       "     »\n",
       "q_3: »\n",
       "     »\n",
       "q_4: »\n",
       "     »\n",
       "q_5: »\n",
       "     »\n",
       "q_6: »\n",
       "     »\n",
       "q_7: »\n",
       "     »\n",
       "«     ┌───────────────────────────────────────────────────────────────────────────────────────────────────────────────────────────────────────────────────────────────────────────────────────────────────────────────────────────────────────────────────────────────────────────────────────────────────────────────────────────────────────────────────────────────────────────────────────────────────────────────────────────────────────────────────────────────────────────────────────────────────────────────────────────────────────────────────────────┐\n",
       "«q_0: ┤0                                                                                                                                                                                                                                                                                                                                                                                                                                                                                                                                                          ├\n",
       "«     │                                                                                                                                                                                                                                                                                                                                                                                                                                                                                                                                                           │\n",
       "«q_1: ┤1                                                                                                                                                                                                                                                                                                                                                                                                                                                                                                                                                          ├\n",
       "«     │                                                                                                                                                                                                                                                                                                                                                                                                                                                                                                                                                           │\n",
       "«q_2: ┤2                                                                                                                                                                                                                                                                                                                                                                                                                                                                                                                                                          ├\n",
       "«     │                                                                                                                                                                                                                                                                                                                                                                                                                                                                                                                                                           │\n",
       "«q_3: ┤3                                                                                                                                                                                                                                                                                                                                                                                                                                                                                                                                                          ├\n",
       "«     │  initialize(0,0,0,0,0,0,0,0,0,0,0,0,0,0,0,0,0,0,0,0,0,0,0,0,0,0,0,0,0,0,0,0,0,0,0,0,0,0,0,0,0,0,0,0,0,0,0,0,0,0,0,0,0,0,0,0,0,0,0,0,0,0,0,0,0,0,0,0,0,0,0,0,0,0,0,0,0,0,0,0,0,0,0.035461,0,0,0,0,0,0,0,0,0,0,0,0,0,0,0,0,0,0,0,0,0,0,0,0,0,0,0,0,0,0,0,0,0,0,0,0,0,0,0,0,0,0,0,0,0,0,0,0,0,0,0,0,0,0,0,0,0,0,0,0,0,0,0,0,0,0,0,0,0,0,0,0,0,0,0,0,0,0,0,0,0,0,0,0,0,0,0,0,0,0,0,0,0,0,0,0,0,0,0,0,0,0,0,0,0,0,0,0,0,0,0,0,0,0,0,0,0,0,0,0,0,0,0,0,0,0.99937,0,0,0,0,0,0,0,0,0,0,0,0,0,0,0,0,0,0,0,0,0,0,0,0,0,0,0,0,0,0,0,0,0,0,0,0,0,0,0,0,0,0,0,0,0,0,0) │\n",
       "«q_4: ┤4                                                                                                                                                                                                                                                                                                                                                                                                                                                                                                                                                          ├\n",
       "«     │                                                                                                                                                                                                                                                                                                                                                                                                                                                                                                                                                           │\n",
       "«q_5: ┤5                                                                                                                                                                                                                                                                                                                                                                                                                                                                                                                                                          ├\n",
       "«     │                                                                                                                                                                                                                                                                                                                                                                                                                                                                                                                                                           │\n",
       "«q_6: ┤6                                                                                                                                                                                                                                                                                                                                                                                                                                                                                                                                                          ├\n",
       "«     │                                                                                                                                                                                                                                                                                                                                                                                                                                                                                                                                                           │\n",
       "«q_7: ┤7                                                                                                                                                                                                                                                                                                                                                                                                                                                                                                                                                          ├\n",
       "«     └───────────────────────────────────────────────────────────────────────────────────────────────────────────────────────────────────────────────────────────────────────────────────────────────────────────────────────────────────────────────────────────────────────────────────────────────────────────────────────────────────────────────────────────────────────────────────────────────────────────────────────────────────────────────────────────────────────────────────────────────────────────────────────────────────────────────────────────┘"
      ]
     },
     "execution_count": 16,
     "metadata": {},
     "output_type": "execute_result"
    }
   ],
   "source": [
    "from qiskit import QuantumCircuit\n",
    "from qiskit.extensions import Initialize\n",
    "\n",
    "anz = QuantumCircuit(8) # We are redefining qc\n",
    "anz.initialize(initial_state)\n",
    "anz.draw()"
   ]
  },
  {
   "cell_type": "code",
   "execution_count": 28,
   "metadata": {},
   "outputs": [
    {
     "data": {
      "image/png": "[encoded data removed]",
      "text/plain": [
       "<Figure size 504x360 with 1 Axes>"
      ]
     },
     "execution_count": 28,
     "metadata": {},
     "output_type": "execute_result"
    }
   ],
   "source": [
    "from qiskit import QuantumCircuit, assemble, Aer\n",
    "from qiskit.visualization import plot_histogram, plot_bloch_vector\n",
    "from math import sqrt, pi\n",
    "\n",
    "svsim = Aer.get_backend('statevector_simulator') # Tell Qiskit how to simulate our circuit\n",
    "qobj = assemble(anz)\n",
    "result = svsim.run(qobj).result()\n",
    "counts = result.get_counts()\n",
    "plot_histogram(counts)"
   ]
  },
  {
   "cell_type": "code",
   "execution_count": 29,
   "metadata": {},
   "outputs": [
    {
     "ename": "CircuitError",
     "evalue": "\"circuits are not compatible: registers QuantumRegister(8, 'q') and QuantumRegister(4, 'q') not compatible\"",
     "output_type": "error",
     "traceback": [
      "\u001b[0;31m---------------------------------------------------------------------------\u001b[0m",
      "\u001b[0;31mCircuitError\u001b[0m                              Traceback (most recent call last)",
      "\u001b[0;32m<ipython-input-29-a91dc221fed4>\u001b[0m in \u001b[0;36m<module>\u001b[0;34m()\u001b[0m\n\u001b[1;32m      2\u001b[0m \u001b[0;32mfrom\u001b[0m \u001b[0mqiskit\u001b[0m\u001b[0;34m.\u001b[0m\u001b[0mcircuit\u001b[0m \u001b[0;32mimport\u001b[0m \u001b[0mParameter\u001b[0m\u001b[0;34m\u001b[0m\u001b[0m\n\u001b[1;32m      3\u001b[0m \u001b[0;34m\u001b[0m\u001b[0m\n\u001b[0;32m----> 4\u001b[0;31m \u001b[0manz2\u001b[0m \u001b[0;34m=\u001b[0m \u001b[0manz\u001b[0m \u001b[0;34m+\u001b[0m \u001b[0mc_anz\u001b[0m\u001b[0;34m.\u001b[0m\u001b[0mexp_P\u001b[0m\u001b[0;34m(\u001b[0m\u001b[0;34m'ZIII'\u001b[0m\u001b[0;34m,\u001b[0m \u001b[0mParameter\u001b[0m\u001b[0;34m(\u001b[0m\u001b[0;34m'α'\u001b[0m\u001b[0;34m)\u001b[0m\u001b[0;34m)\u001b[0m\u001b[0;34m\u001b[0m\u001b[0m\n\u001b[0m",
      "\u001b[0;32m~/anaconda3/lib/python3.7/site-packages/qiskit/utils/deprecation.py\u001b[0m in \u001b[0;36mwrapper\u001b[0;34m(*args, **kwargs)\u001b[0m\n\u001b[1;32m     76\u001b[0m                 \u001b[0mwarnings\u001b[0m\u001b[0;34m.\u001b[0m\u001b[0mwarn\u001b[0m\u001b[0;34m(\u001b[0m\u001b[0mmsg\u001b[0m\u001b[0;34m,\u001b[0m \u001b[0mDeprecationWarning\u001b[0m\u001b[0;34m,\u001b[0m \u001b[0mstacklevel\u001b[0m\u001b[0;34m=\u001b[0m\u001b[0mstacklevel\u001b[0m\u001b[0;34m)\u001b[0m\u001b[0;34m\u001b[0m\u001b[0m\n\u001b[1;32m     77\u001b[0m                 \u001b[0mwrapper\u001b[0m\u001b[0;34m.\u001b[0m\u001b[0m_warned\u001b[0m \u001b[0;34m=\u001b[0m \u001b[0;32mTrue\u001b[0m\u001b[0;34m\u001b[0m\u001b[0m\n\u001b[0;32m---> 78\u001b[0;31m             \u001b[0;32mreturn\u001b[0m \u001b[0mfunc\u001b[0m\u001b[0;34m(\u001b[0m\u001b[0;34m*\u001b[0m\u001b[0margs\u001b[0m\u001b[0;34m,\u001b[0m \u001b[0;34m**\u001b[0m\u001b[0mkwargs\u001b[0m\u001b[0;34m)\u001b[0m\u001b[0;34m\u001b[0m\u001b[0m\n\u001b[0m\u001b[1;32m     79\u001b[0m         \u001b[0mwrapper\u001b[0m\u001b[0;34m.\u001b[0m\u001b[0m_warned\u001b[0m \u001b[0;34m=\u001b[0m \u001b[0;32mFalse\u001b[0m\u001b[0;34m\u001b[0m\u001b[0m\n\u001b[1;32m     80\u001b[0m         \u001b[0;32mreturn\u001b[0m \u001b[0mwrapper\u001b[0m\u001b[0;34m\u001b[0m\u001b[0m\n",
      "\u001b[0;32m~/anaconda3/lib/python3.7/site-packages/qiskit/circuit/quantumcircuit.py\u001b[0m in \u001b[0;36m__add__\u001b[0;34m(self, rhs)\u001b[0m\n\u001b[1;32m    867\u001b[0m     \u001b[0;32mdef\u001b[0m \u001b[0m__add__\u001b[0m\u001b[0;34m(\u001b[0m\u001b[0mself\u001b[0m\u001b[0;34m,\u001b[0m \u001b[0mrhs\u001b[0m\u001b[0;34m)\u001b[0m\u001b[0;34m:\u001b[0m\u001b[0;34m\u001b[0m\u001b[0m\n\u001b[1;32m    868\u001b[0m         \u001b[0;34m\"\"\"Overload + to implement self.combine.\"\"\"\u001b[0m\u001b[0;34m\u001b[0m\u001b[0m\n\u001b[0;32m--> 869\u001b[0;31m         \u001b[0;32mreturn\u001b[0m \u001b[0mself\u001b[0m\u001b[0;34m.\u001b[0m\u001b[0mcombine\u001b[0m\u001b[0;34m(\u001b[0m\u001b[0mrhs\u001b[0m\u001b[0;34m)\u001b[0m\u001b[0;34m\u001b[0m\u001b[0m\n\u001b[0m\u001b[1;32m    870\u001b[0m \u001b[0;34m\u001b[0m\u001b[0m\n\u001b[1;32m    871\u001b[0m     @deprecate_function('The QuantumCircuit.__iadd__() method is being deprecated. Use the '\n",
      "\u001b[0;32m~/anaconda3/lib/python3.7/site-packages/qiskit/utils/deprecation.py\u001b[0m in \u001b[0;36mwrapper\u001b[0;34m(*args, **kwargs)\u001b[0m\n\u001b[1;32m     76\u001b[0m                 \u001b[0mwarnings\u001b[0m\u001b[0;34m.\u001b[0m\u001b[0mwarn\u001b[0m\u001b[0;34m(\u001b[0m\u001b[0mmsg\u001b[0m\u001b[0;34m,\u001b[0m \u001b[0mDeprecationWarning\u001b[0m\u001b[0;34m,\u001b[0m \u001b[0mstacklevel\u001b[0m\u001b[0;34m=\u001b[0m\u001b[0mstacklevel\u001b[0m\u001b[0;34m)\u001b[0m\u001b[0;34m\u001b[0m\u001b[0m\n\u001b[1;32m     77\u001b[0m                 \u001b[0mwrapper\u001b[0m\u001b[0;34m.\u001b[0m\u001b[0m_warned\u001b[0m \u001b[0;34m=\u001b[0m \u001b[0;32mTrue\u001b[0m\u001b[0;34m\u001b[0m\u001b[0m\n\u001b[0;32m---> 78\u001b[0;31m             \u001b[0;32mreturn\u001b[0m \u001b[0mfunc\u001b[0m\u001b[0;34m(\u001b[0m\u001b[0;34m*\u001b[0m\u001b[0margs\u001b[0m\u001b[0;34m,\u001b[0m \u001b[0;34m**\u001b[0m\u001b[0mkwargs\u001b[0m\u001b[0;34m)\u001b[0m\u001b[0;34m\u001b[0m\u001b[0m\n\u001b[0m\u001b[1;32m     79\u001b[0m         \u001b[0mwrapper\u001b[0m\u001b[0;34m.\u001b[0m\u001b[0m_warned\u001b[0m \u001b[0;34m=\u001b[0m \u001b[0;32mFalse\u001b[0m\u001b[0;34m\u001b[0m\u001b[0m\n\u001b[1;32m     80\u001b[0m         \u001b[0;32mreturn\u001b[0m \u001b[0mwrapper\u001b[0m\u001b[0;34m\u001b[0m\u001b[0m\n",
      "\u001b[0;32m~/anaconda3/lib/python3.7/site-packages/qiskit/circuit/quantumcircuit.py\u001b[0m in \u001b[0;36mcombine\u001b[0;34m(self, rhs)\u001b[0m\n\u001b[1;32m    565\u001b[0m         \"\"\"\n\u001b[1;32m    566\u001b[0m         \u001b[0;31m# Check registers in LHS are compatible with RHS\u001b[0m\u001b[0;34m\u001b[0m\u001b[0;34m\u001b[0m\u001b[0m\n\u001b[0;32m--> 567\u001b[0;31m         \u001b[0mself\u001b[0m\u001b[0;34m.\u001b[0m\u001b[0m_check_compatible_regs\u001b[0m\u001b[0;34m(\u001b[0m\u001b[0mrhs\u001b[0m\u001b[0;34m)\u001b[0m\u001b[0;34m\u001b[0m\u001b[0m\n\u001b[0m\u001b[1;32m    568\u001b[0m \u001b[0;34m\u001b[0m\u001b[0m\n\u001b[1;32m    569\u001b[0m         \u001b[0;31m# Make new circuit with combined registers\u001b[0m\u001b[0;34m\u001b[0m\u001b[0;34m\u001b[0m\u001b[0m\n",
      "\u001b[0;32m~/anaconda3/lib/python3.7/site-packages/qiskit/circuit/quantumcircuit.py\u001b[0m in \u001b[0;36m_check_compatible_regs\u001b[0;34m(self, rhs)\u001b[0m\n\u001b[1;32m   1221\u001b[0m                 \u001b[0;32mif\u001b[0m \u001b[0melement2\u001b[0m\u001b[0;34m.\u001b[0m\u001b[0mname\u001b[0m \u001b[0;34m==\u001b[0m \u001b[0melement1\u001b[0m\u001b[0;34m.\u001b[0m\u001b[0mname\u001b[0m\u001b[0;34m:\u001b[0m\u001b[0;34m\u001b[0m\u001b[0m\n\u001b[1;32m   1222\u001b[0m                     \u001b[0;32mif\u001b[0m \u001b[0melement1\u001b[0m \u001b[0;34m!=\u001b[0m \u001b[0melement2\u001b[0m\u001b[0;34m:\u001b[0m\u001b[0;34m\u001b[0m\u001b[0m\n\u001b[0;32m-> 1223\u001b[0;31m                         raise CircuitError(\"circuits are not compatible:\"\n\u001b[0m\u001b[1;32m   1224\u001b[0m                                            f\" registers {element1} and {element2} not compatible\")\n\u001b[1;32m   1225\u001b[0m \u001b[0;34m\u001b[0m\u001b[0m\n",
      "\u001b[0;31mCircuitError\u001b[0m: \"circuits are not compatible: registers QuantumRegister(8, 'q') and QuantumRegister(4, 'q') not compatible\""
     ]
    }
   ],
   "source": [
    "import cs_vqe_ansatz as c_anz\n",
    "from qiskit.circuit import Parameter\n",
    "\n",
    "anz2 = anz + c_anz.exp_P('ZIII', Parameter('α'))"
   ]
  },
  {
   "cell_type": "code",
   "execution_count": 30,
   "metadata": {},
   "outputs": [
    {
     "data": {
      "text/html": [
       "<pre style=\"word-wrap: normal;white-space: pre;background: #fff0;line-height: 1.1;font-family: &quot;Courier New&quot;,Courier,monospace\">     ┌───┐┌───────┐     ┌───┐         \n",
       "q_0: ┤ H ├┤ RY(x) ├──■──┤ X ├─X───────\n",
       "     ├───┤└───────┘  │  └───┘ │       \n",
       "q_1: ┤ X ├───────────┼────────X──X────\n",
       "     └───┘         ┌─┴─┐         │    \n",
       "q_2: ──────────────┤ X ├─────────X──X─\n",
       "     ┌───┐         └───┘            │ \n",
       "q_3: ┤ X ├──────────────────────────X─\n",
       "     └───┘                            </pre>"
      ],
      "text/plain": [
       "     ┌───┐┌───────┐     ┌───┐         \n",
       "q_0: ┤ H ├┤ RY(x) ├──■──┤ X ├─X───────\n",
       "     ├───┤└───────┘  │  └───┘ │       \n",
       "q_1: ┤ X ├───────────┼────────X──X────\n",
       "     └───┘         ┌─┴─┐         │    \n",
       "q_2: ──────────────┤ X ├─────────X──X─\n",
       "     ┌───┐         └───┘            │ \n",
       "q_3: ┤ X ├──────────────────────────X─\n",
       "     └───┘                            "
      ]
     },
     "execution_count": 30,
     "metadata": {},
     "output_type": "execute_result"
    }
   ],
   "source": [
    "anz3 = QuantumCircuit(4)\n",
    "anz3.h(0)\n",
    "anz3.ry(Parameter('x'), 0)\n",
    "anz3.x(1), anz3.x(3)\n",
    "anz3.cx(0, 2)\n",
    "anz3.x(0)\n",
    "anz3.swap(0, 1), anz3.swap(1, 2), anz3.swap(2, 3)\n",
    "\n",
    "anz3.draw()"
   ]
  },
  {
   "cell_type": "code",
   "execution_count": 31,
   "metadata": {},
   "outputs": [
    {
     "ename": "AlgorithmError",
     "evalue": "'The number of qubits of the ansatz does not match the operator, and the ansatz does not allow setting the number of qubits using `num_qubits`.'",
     "output_type": "error",
     "traceback": [
      "\u001b[0;31m---------------------------------------------------------------------------\u001b[0m",
      "\u001b[0;31mAttributeError\u001b[0m                            Traceback (most recent call last)",
      "\u001b[0;32m~/anaconda3/lib/python3.7/site-packages/qiskit/algorithms/minimum_eigen_solvers/vqe.py\u001b[0m in \u001b[0;36m_check_operator_varform\u001b[0;34m(self, operator)\u001b[0m\n\u001b[1;32m    205\u001b[0m                 \u001b[0;32mtry\u001b[0m\u001b[0;34m:\u001b[0m\u001b[0;34m\u001b[0m\u001b[0m\n\u001b[0;32m--> 206\u001b[0;31m                     \u001b[0mself\u001b[0m\u001b[0;34m.\u001b[0m\u001b[0mansatz\u001b[0m\u001b[0;34m.\u001b[0m\u001b[0mnum_qubits\u001b[0m \u001b[0;34m=\u001b[0m \u001b[0moperator\u001b[0m\u001b[0;34m.\u001b[0m\u001b[0mnum_qubits\u001b[0m\u001b[0;34m\u001b[0m\u001b[0m\n\u001b[0m\u001b[1;32m    207\u001b[0m                     \u001b[0mself\u001b[0m\u001b[0;34m.\u001b[0m\u001b[0m_ansatz_params\u001b[0m \u001b[0;34m=\u001b[0m \u001b[0msorted\u001b[0m\u001b[0;34m(\u001b[0m\u001b[0mself\u001b[0m\u001b[0;34m.\u001b[0m\u001b[0mansatz\u001b[0m\u001b[0;34m.\u001b[0m\u001b[0mparameters\u001b[0m\u001b[0;34m,\u001b[0m \u001b[0mkey\u001b[0m\u001b[0;34m=\u001b[0m\u001b[0;32mlambda\u001b[0m \u001b[0mp\u001b[0m\u001b[0;34m:\u001b[0m \u001b[0mp\u001b[0m\u001b[0;34m.\u001b[0m\u001b[0mname\u001b[0m\u001b[0;34m)\u001b[0m\u001b[0;34m\u001b[0m\u001b[0m\n",
      "\u001b[0;31mAttributeError\u001b[0m: can't set attribute",
      "\nThe above exception was the direct cause of the following exception:\n",
      "\u001b[0;31mAlgorithmError\u001b[0m                            Traceback (most recent call last)",
      "\u001b[0;32m<ipython-input-31-dcd162e4f958>\u001b[0m in \u001b[0;36m<module>\u001b[0;34m()\u001b[0m\n\u001b[1;32m     15\u001b[0m \u001b[0;34m\u001b[0m\u001b[0m\n\u001b[1;32m     16\u001b[0m \u001b[0mvqe\u001b[0m \u001b[0;34m=\u001b[0m \u001b[0mVQE\u001b[0m\u001b[0;34m(\u001b[0m\u001b[0manz3\u001b[0m\u001b[0;34m,\u001b[0m \u001b[0moptimizer\u001b[0m\u001b[0;34m=\u001b[0m\u001b[0mslsqp\u001b[0m\u001b[0;34m,\u001b[0m \u001b[0mquantum_instance\u001b[0m\u001b[0;34m=\u001b[0m\u001b[0mqi\u001b[0m\u001b[0;34m)\u001b[0m\u001b[0;34m\u001b[0m\u001b[0m\n\u001b[0;32m---> 17\u001b[0;31m \u001b[0mvqe_run\u001b[0m    \u001b[0;34m=\u001b[0m \u001b[0mvqe\u001b[0m\u001b[0;34m.\u001b[0m\u001b[0mcompute_minimum_eigenvalue\u001b[0m\u001b[0;34m(\u001b[0m\u001b[0moperator\u001b[0m\u001b[0;34m=\u001b[0m\u001b[0mham_qiskit\u001b[0m\u001b[0;34m)\u001b[0m\u001b[0;34m\u001b[0m\u001b[0m\n\u001b[0m\u001b[1;32m     18\u001b[0m \u001b[0mvqe_result\u001b[0m \u001b[0;34m=\u001b[0m \u001b[0mvqe_run\u001b[0m\u001b[0;34m.\u001b[0m\u001b[0moptimal_value\u001b[0m\u001b[0;31m# + shift\u001b[0m\u001b[0;34m\u001b[0m\u001b[0m\n\u001b[1;32m     19\u001b[0m \u001b[0;34m\u001b[0m\u001b[0m\n",
      "\u001b[0;32m~/anaconda3/lib/python3.7/site-packages/qiskit/algorithms/minimum_eigen_solvers/vqe.py\u001b[0m in \u001b[0;36mcompute_minimum_eigenvalue\u001b[0;34m(self, operator, aux_operators)\u001b[0m\n\u001b[1;32m    380\u001b[0m             \u001b[0;32mraise\u001b[0m \u001b[0mAlgorithmError\u001b[0m\u001b[0;34m(\u001b[0m\u001b[0;34m\"The operator was never provided.\"\u001b[0m\u001b[0;34m)\u001b[0m\u001b[0;34m\u001b[0m\u001b[0m\n\u001b[1;32m    381\u001b[0m \u001b[0;34m\u001b[0m\u001b[0m\n\u001b[0;32m--> 382\u001b[0;31m         \u001b[0moperator\u001b[0m \u001b[0;34m=\u001b[0m \u001b[0mself\u001b[0m\u001b[0;34m.\u001b[0m\u001b[0m_check_operator\u001b[0m\u001b[0;34m(\u001b[0m\u001b[0moperator\u001b[0m\u001b[0;34m)\u001b[0m\u001b[0;34m\u001b[0m\u001b[0m\n\u001b[0m\u001b[1;32m    383\u001b[0m         \u001b[0;31m# We need to handle the array entries being Optional i.e. having value None\u001b[0m\u001b[0;34m\u001b[0m\u001b[0;34m\u001b[0m\u001b[0m\n\u001b[1;32m    384\u001b[0m         \u001b[0;32mif\u001b[0m \u001b[0maux_operators\u001b[0m\u001b[0;34m:\u001b[0m\u001b[0;34m\u001b[0m\u001b[0m\n",
      "\u001b[0;32m~/anaconda3/lib/python3.7/site-packages/qiskit/algorithms/minimum_eigen_solvers/vqe.py\u001b[0m in \u001b[0;36m_check_operator\u001b[0;34m(self, operator)\u001b[0m\n\u001b[1;32m    360\u001b[0m         \u001b[0;34m\"\"\" set operator \"\"\"\u001b[0m\u001b[0;34m\u001b[0m\u001b[0m\n\u001b[1;32m    361\u001b[0m         \u001b[0mself\u001b[0m\u001b[0;34m.\u001b[0m\u001b[0m_expect_op\u001b[0m \u001b[0;34m=\u001b[0m \u001b[0;32mNone\u001b[0m\u001b[0;34m\u001b[0m\u001b[0m\n\u001b[0;32m--> 362\u001b[0;31m         \u001b[0mself\u001b[0m\u001b[0;34m.\u001b[0m\u001b[0m_check_operator_varform\u001b[0m\u001b[0;34m(\u001b[0m\u001b[0moperator\u001b[0m\u001b[0;34m)\u001b[0m\u001b[0;34m\u001b[0m\u001b[0m\n\u001b[0m\u001b[1;32m    363\u001b[0m         \u001b[0;31m# Expectation was not passed by user, try to create one\u001b[0m\u001b[0;34m\u001b[0m\u001b[0;34m\u001b[0m\u001b[0m\n\u001b[1;32m    364\u001b[0m         \u001b[0;32mif\u001b[0m \u001b[0;32mnot\u001b[0m \u001b[0mself\u001b[0m\u001b[0;34m.\u001b[0m\u001b[0m_user_valid_expectation\u001b[0m\u001b[0;34m:\u001b[0m\u001b[0;34m\u001b[0m\u001b[0m\n",
      "\u001b[0;32m~/anaconda3/lib/python3.7/site-packages/qiskit/algorithms/minimum_eigen_solvers/vqe.py\u001b[0m in \u001b[0;36m_check_operator_varform\u001b[0;34m(self, operator)\u001b[0m\n\u001b[1;32m    209\u001b[0m                     raise AlgorithmError(\"The number of qubits of the ansatz does not match the \"\n\u001b[1;32m    210\u001b[0m                                          \u001b[0;34m\"operator, and the ansatz does not allow setting the \"\u001b[0m\u001b[0;34m\u001b[0m\u001b[0m\n\u001b[0;32m--> 211\u001b[0;31m                                          \"number of qubits using `num_qubits`.\") from ex\n\u001b[0m\u001b[1;32m    212\u001b[0m \u001b[0;34m\u001b[0m\u001b[0m\n\u001b[1;32m    213\u001b[0m     \u001b[0;34m@\u001b[0m\u001b[0mVariationalAlgorithm\u001b[0m\u001b[0;34m.\u001b[0m\u001b[0moptimizer\u001b[0m\u001b[0;34m.\u001b[0m\u001b[0msetter\u001b[0m  \u001b[0;31m# type: ignore\u001b[0m\u001b[0;34m\u001b[0m\u001b[0m\n",
      "\u001b[0;31mAlgorithmError\u001b[0m: 'The number of qubits of the ansatz does not match the operator, and the ansatz does not allow setting the number of qubits using `num_qubits`.'"
     ]
    }
   ],
   "source": [
    "from qiskit.utils import QuantumInstance, algorithm_globals\n",
    "from qiskit.aqua.components.optimizers import COBYLA, SPSA, SLSQP\n",
    "from qiskit.algorithms import VQE\n",
    "from qiskit.quantum_info.operators.symplectic.pauli import Pauli\n",
    "from qiskit.opflow.primitive_ops import PauliOp\n",
    "\n",
    "\n",
    "ham_qiskit = sum([PauliOp(Pauli(k), ham_noncon[k]) for k in ham_noncon.keys()])\n",
    "\n",
    "\n",
    "seed = 50\n",
    "algorithm_globals.random_seed = seed\n",
    "qi = QuantumInstance(Aer.get_backend('statevector_simulator'), seed_transpiler=seed, seed_simulator=seed)\n",
    "slsqp = SLSQP(maxiter=1000)\n",
    "\n",
    "vqe = VQE(anz3, optimizer=slsqp, quantum_instance=qi)\n",
    "vqe_run    = vqe.compute_minimum_eigenvalue(operator=ham_qiskit)\n",
    "vqe_result = vqe_run.optimal_value# + shift\n",
    "\n",
    "print('VQE:', vqe_result, '|', 'Noncontextual Ground State:', gs_noncon_energy)"
   ]
  },
  {
   "cell_type": "code",
   "execution_count": null,
   "metadata": {},
   "outputs": [],
   "source": []
  },
  {
   "cell_type": "code",
   "execution_count": 214,
   "metadata": {
    "scrolled": true
   },
   "outputs": [],
   "source": [
    "#qobj = assemble(anz3)\n",
    "#result = svsim.run(qobj).result()\n",
    "#counts = result.get_counts()\n",
    "#plot_histogram(counts)"
   ]
  },
  {
   "cell_type": "code",
   "execution_count": 48,
   "metadata": {},
   "outputs": [
    {
     "data": {
      "text/plain": [
       "0.02009148847369578"
      ]
     },
     "execution_count": 48,
     "metadata": {},
     "output_type": "execute_result"
    }
   ],
   "source": [
    "r1 = ep_state[1][0]\n",
    "r2 = ep_state[1][1]\n",
    "\n",
    "t = np.arctan((-r2+1)/r1)\n",
    "t"
   ]
  },
  {
   "cell_type": "code",
   "execution_count": 49,
   "metadata": {},
   "outputs": [
    {
     "data": {
      "text/plain": [
       "[0,\n",
       " 0,\n",
       " 0,\n",
       " 0,\n",
       " 0,\n",
       " 0,\n",
       " 0,\n",
       " 0,\n",
       " 0,\n",
       " 0,\n",
       " 0,\n",
       " 0,\n",
       " 0,\n",
       " 0,\n",
       " 0,\n",
       " 0,\n",
       " 0,\n",
       " 0,\n",
       " 0,\n",
       " 0,\n",
       " 0,\n",
       " 0,\n",
       " 0,\n",
       " 0,\n",
       " 0,\n",
       " 0,\n",
       " 0,\n",
       " 0,\n",
       " 0,\n",
       " 0,\n",
       " 0,\n",
       " 0,\n",
       " 0,\n",
       " 0,\n",
       " 0,\n",
       " 0,\n",
       " 0,\n",
       " 0,\n",
       " 0,\n",
       " 0,\n",
       " 0,\n",
       " 0,\n",
       " 0,\n",
       " 0,\n",
       " 0,\n",
       " 0,\n",
       " 0,\n",
       " 0,\n",
       " 0,\n",
       " 0,\n",
       " 0,\n",
       " 0,\n",
       " 0,\n",
       " 0,\n",
       " 0,\n",
       " 0,\n",
       " 0,\n",
       " 0,\n",
       " 0,\n",
       " 0,\n",
       " 0,\n",
       " 0,\n",
       " 0,\n",
       " 0,\n",
       " 0,\n",
       " 0,\n",
       " 0,\n",
       " 0,\n",
       " 0,\n",
       " 0,\n",
       " 0,\n",
       " 0,\n",
       " 0,\n",
       " 0,\n",
       " 0,\n",
       " 0,\n",
       " 0,\n",
       " 0,\n",
       " 0,\n",
       " 0,\n",
       " 0,\n",
       " 0,\n",
       " 0.020090136786120604,\n",
       " 0,\n",
       " 0,\n",
       " 0,\n",
       " 0,\n",
       " 0,\n",
       " 0,\n",
       " 0,\n",
       " 0,\n",
       " 0,\n",
       " 0,\n",
       " 0,\n",
       " 0,\n",
       " 0,\n",
       " 0,\n",
       " 0,\n",
       " 0,\n",
       " 0,\n",
       " 0,\n",
       " 0,\n",
       " 0,\n",
       " 0,\n",
       " 0,\n",
       " 0,\n",
       " 0,\n",
       " 0,\n",
       " 0,\n",
       " 0,\n",
       " 0,\n",
       " 0,\n",
       " 0,\n",
       " 0,\n",
       " 0,\n",
       " 0,\n",
       " 0,\n",
       " 0,\n",
       " 0,\n",
       " 0,\n",
       " 0,\n",
       " 0,\n",
       " 0,\n",
       " 0,\n",
       " 0,\n",
       " 0,\n",
       " 0,\n",
       " 0,\n",
       " 0,\n",
       " 0,\n",
       " 0,\n",
       " 0,\n",
       " 0,\n",
       " 0,\n",
       " 0,\n",
       " 0,\n",
       " 0,\n",
       " 0,\n",
       " 0,\n",
       " 0,\n",
       " 0,\n",
       " 0,\n",
       " 0,\n",
       " 0,\n",
       " 0,\n",
       " 0,\n",
       " 0,\n",
       " 0,\n",
       " 0,\n",
       " 0,\n",
       " 0,\n",
       " 0,\n",
       " 0,\n",
       " 0,\n",
       " 0,\n",
       " 0,\n",
       " 0,\n",
       " 0,\n",
       " 0,\n",
       " 0,\n",
       " 0,\n",
       " 0,\n",
       " 0,\n",
       " 0,\n",
       " 0,\n",
       " 0,\n",
       " 0,\n",
       " 0,\n",
       " 0,\n",
       " 0,\n",
       " 0,\n",
       " 0,\n",
       " 0,\n",
       " 0,\n",
       " 0,\n",
       " 0,\n",
       " 0,\n",
       " 0,\n",
       " 0,\n",
       " 0,\n",
       " 0,\n",
       " 0,\n",
       " 0,\n",
       " 0,\n",
       " 0,\n",
       " 0,\n",
       " 0,\n",
       " 0,\n",
       " 0,\n",
       " 0,\n",
       " 0,\n",
       " 0,\n",
       " 0,\n",
       " 0,\n",
       " 0,\n",
       " 0,\n",
       " 0,\n",
       " 0,\n",
       " 0,\n",
       " 0,\n",
       " 0,\n",
       " 0,\n",
       " 0,\n",
       " 0,\n",
       " 0,\n",
       " 0,\n",
       " 0,\n",
       " 0,\n",
       " 0.9997981728348552,\n",
       " 0,\n",
       " 0,\n",
       " 0,\n",
       " 0,\n",
       " 0,\n",
       " 0,\n",
       " 0,\n",
       " 0,\n",
       " 0,\n",
       " 0,\n",
       " 0,\n",
       " 0,\n",
       " 0,\n",
       " 0,\n",
       " 0,\n",
       " 0,\n",
       " 0,\n",
       " 0,\n",
       " 0,\n",
       " 0,\n",
       " 0,\n",
       " 0,\n",
       " 0,\n",
       " 0,\n",
       " 0,\n",
       " 0,\n",
       " 0,\n",
       " 0,\n",
       " 0,\n",
       " 0,\n",
       " 0,\n",
       " 0,\n",
       " 0,\n",
       " 0,\n",
       " 0,\n",
       " 0,\n",
       " 0,\n",
       " 0,\n",
       " 0,\n",
       " 0,\n",
       " 0,\n",
       " 0,\n",
       " 0,\n",
       " 0,\n",
       " 0,\n",
       " 0,\n",
       " 0]"
      ]
     },
     "execution_count": 49,
     "metadata": {},
     "output_type": "execute_result"
    }
   ],
   "source": [
    "initial_state = [0 for i in range(2**8)]\n",
    "initial_state[bin_to_int('01010010')] = np.sin(t)\n",
    "initial_state[bin_to_int('11010000')] = np.cos(t)\n",
    "initial_state"
   ]
  },
  {
   "cell_type": "code",
   "execution_count": 50,
   "metadata": {},
   "outputs": [
    {
     "data": {
      "text/plain": [
       "<256x256 LinearQubitOperator with dtype=complex128>"
      ]
     },
     "execution_count": 50,
     "metadata": {},
     "output_type": "execute_result"
    }
   ],
   "source": [
    "from openfermion.linalg import LinearQubitOperator\n",
    "\n",
    "LinearQubitOperator(ham_q)#.matvec(initial_state)"
   ]
  },
  {
   "cell_type": "code",
   "execution_count": 51,
   "metadata": {},
   "outputs": [
    {
     "name": "stdout",
     "output_type": "stream",
     "text": [
      "[0.         0.         0.         0.         0.         0.\n",
      " 0.         0.         0.         0.         0.         0.\n",
      " 0.         0.         0.         0.         0.         0.\n",
      " 0.         0.         0.         0.         0.         0.\n",
      " 0.         0.         0.         0.         0.         0.\n",
      " 0.         0.         0.         0.         0.         0.\n",
      " 0.         0.         0.         0.         0.         0.\n",
      " 0.         0.         0.         0.         0.         0.\n",
      " 0.         0.         0.         0.         0.         0.\n",
      " 0.         0.         0.         0.         0.         0.\n",
      " 0.         0.         0.         0.         0.         0.\n",
      " 0.         0.         0.         0.         0.         0.\n",
      " 0.         0.         0.         0.         0.         0.\n",
      " 0.         0.         0.         0.         0.02009014 0.\n",
      " 0.         0.         0.         0.         0.         0.\n",
      " 0.         0.         0.         0.         0.         0.\n",
      " 0.         0.         0.         0.         0.         0.\n",
      " 0.         0.         0.         0.         0.         0.\n",
      " 0.         0.         0.         0.         0.         0.\n",
      " 0.         0.         0.         0.         0.         0.\n",
      " 0.         0.         0.         0.         0.         0.\n",
      " 0.         0.         0.         0.         0.         0.\n",
      " 0.         0.         0.         0.         0.         0.\n",
      " 0.         0.         0.         0.         0.         0.\n",
      " 0.         0.         0.         0.         0.         0.\n",
      " 0.         0.         0.         0.         0.         0.\n",
      " 0.         0.         0.         0.         0.         0.\n",
      " 0.         0.         0.         0.         0.         0.\n",
      " 0.         0.         0.         0.         0.         0.\n",
      " 0.         0.         0.         0.         0.         0.\n",
      " 0.         0.         0.         0.         0.         0.\n",
      " 0.         0.         0.         0.         0.         0.\n",
      " 0.         0.         0.         0.         0.         0.\n",
      " 0.         0.         0.         0.         0.         0.\n",
      " 0.         0.         0.         0.         0.99979817 0.\n",
      " 0.         0.         0.         0.         0.         0.\n",
      " 0.         0.         0.         0.         0.         0.\n",
      " 0.         0.         0.         0.         0.         0.\n",
      " 0.         0.         0.         0.         0.         0.\n",
      " 0.         0.         0.         0.         0.         0.\n",
      " 0.         0.         0.         0.         0.         0.\n",
      " 0.         0.         0.         0.         0.         0.\n",
      " 0.         0.         0.         0.        ]\n",
      "[ 0.        +0.j  0.        +0.j  0.        +0.j  0.        +0.j\n",
      "  0.        +0.j  0.        +0.j  0.        +0.j  0.        +0.j\n",
      "  0.        +0.j  0.        +0.j  0.        +0.j  0.        +0.j\n",
      "  0.        +0.j  0.        +0.j  0.        +0.j  0.        +0.j\n",
      "  0.        +0.j  0.        +0.j  0.        +0.j  0.        +0.j\n",
      "  0.        +0.j  0.        +0.j  0.        +0.j  0.        +0.j\n",
      "  0.        +0.j  0.        +0.j  0.        +0.j  0.        +0.j\n",
      "  0.        +0.j  0.        +0.j  0.        +0.j  0.        +0.j\n",
      "  0.        +0.j  0.        +0.j  0.        +0.j  0.        +0.j\n",
      "  0.        +0.j  0.        +0.j  0.        +0.j  0.        +0.j\n",
      "  0.        +0.j  0.        +0.j  0.        +0.j  0.        +0.j\n",
      "  0.        +0.j  0.        +0.j  0.        +0.j  0.        +0.j\n",
      "  0.        +0.j  0.        +0.j  0.        +0.j  0.        +0.j\n",
      "  0.        +0.j  0.        +0.j  0.        +0.j  0.        +0.j\n",
      "  0.        +0.j  0.        +0.j  0.        +0.j  0.        +0.j\n",
      "  0.        +0.j  0.        +0.j  0.        +0.j  0.        +0.j\n",
      "  0.        +0.j  0.        +0.j  0.        +0.j  0.        +0.j\n",
      "  0.        +0.j  0.        +0.j  0.        +0.j  0.        +0.j\n",
      "  0.        +0.j  0.        +0.j  0.        +0.j  0.        +0.j\n",
      "  0.        +0.j  0.        +0.j  0.        +0.j  0.        +0.j\n",
      "  0.        +0.j  0.        +0.j -0.06313978+0.j  0.        +0.j\n",
      "  0.        +0.j  0.        +0.j  0.        +0.j  0.        +0.j\n",
      "  0.        +0.j  0.        +0.j  0.        +0.j  0.        +0.j\n",
      "  0.        +0.j  0.        +0.j  0.        +0.j  0.        +0.j\n",
      "  0.        +0.j  0.        +0.j  0.        +0.j  0.        +0.j\n",
      "  0.        +0.j  0.        +0.j  0.        +0.j  0.        +0.j\n",
      "  0.        +0.j  0.        +0.j  0.        +0.j  0.        +0.j\n",
      "  0.        +0.j  0.        +0.j  0.        +0.j  0.        +0.j\n",
      "  0.        +0.j  0.        +0.j  0.        +0.j  0.        +0.j\n",
      "  0.        +0.j  0.        +0.j  0.        +0.j  0.        +0.j\n",
      "  0.        +0.j  0.        +0.j  0.        +0.j  0.        +0.j\n",
      "  0.        +0.j  0.        +0.j  0.        +0.j  0.        +0.j\n",
      "  0.        +0.j  0.        +0.j  0.        +0.j  0.        +0.j\n",
      "  0.        +0.j  0.        +0.j  0.        +0.j  0.        +0.j\n",
      "  0.        +0.j  0.        +0.j  0.        +0.j  0.        +0.j\n",
      "  0.        +0.j  0.        +0.j  0.        +0.j  0.        +0.j\n",
      "  0.        +0.j  0.        +0.j  0.        +0.j  0.        +0.j\n",
      "  0.        +0.j  0.        +0.j  0.        +0.j  0.        +0.j\n",
      "  0.        +0.j  0.        +0.j  0.        +0.j  0.        +0.j\n",
      "  0.        +0.j  0.        +0.j  0.        +0.j  0.        +0.j\n",
      "  0.        +0.j  0.        +0.j  0.        +0.j  0.        +0.j\n",
      "  0.        +0.j  0.        +0.j  0.        +0.j  0.        +0.j\n",
      "  0.        +0.j  0.        +0.j  0.        +0.j  0.        +0.j\n",
      "  0.        +0.j  0.        +0.j  0.        +0.j  0.        +0.j\n",
      "  0.        +0.j  0.        +0.j  0.        +0.j  0.        +0.j\n",
      "  0.        +0.j  0.        +0.j  0.        +0.j  0.        +0.j\n",
      "  0.        +0.j  0.        +0.j  0.        +0.j  0.        +0.j\n",
      "  0.        +0.j  0.        +0.j  0.        +0.j  0.        +0.j\n",
      "  0.        +0.j  0.        +0.j  0.        +0.j  0.        +0.j\n",
      "  0.        +0.j  0.        +0.j  0.        +0.j  0.        +0.j\n",
      "  0.        +0.j  0.        +0.j  0.        +0.j  0.        +0.j\n",
      "  0.        +0.j  0.        +0.j  0.        +0.j  0.        +0.j\n",
      " -3.14219044+0.j  0.        +0.j  0.        +0.j  0.        +0.j\n",
      "  0.        +0.j  0.        +0.j  0.        +0.j  0.        +0.j\n",
      "  0.        +0.j  0.        +0.j  0.        +0.j  0.        +0.j\n",
      "  0.        +0.j  0.        +0.j  0.        +0.j  0.        +0.j\n",
      "  0.        +0.j  0.        +0.j  0.        +0.j  0.        +0.j\n",
      "  0.        +0.j  0.        +0.j  0.        +0.j  0.        +0.j\n",
      "  0.        +0.j  0.        +0.j  0.        +0.j  0.        +0.j\n",
      "  0.        +0.j  0.        +0.j  0.        +0.j  0.        +0.j\n",
      "  0.        +0.j  0.        +0.j  0.        +0.j  0.        +0.j\n",
      "  0.        +0.j  0.        +0.j  0.        +0.j  0.        +0.j\n",
      "  0.        +0.j  0.        +0.j  0.        +0.j  0.        +0.j\n",
      "  0.        +0.j  0.        +0.j  0.        +0.j  0.        +0.j]\n"
     ]
    },
    {
     "data": {
      "text/plain": [
       "((-3.14282474926818+0j), -3.1428247492681844)"
      ]
     },
     "execution_count": 51,
     "metadata": {},
     "output_type": "execute_result"
    }
   ],
   "source": [
    "#print(ep_state)\n",
    "\n",
    "psi = np.array(initial_state)\n",
    "print(psi)\n",
    "ham_noncon_q = q_conv.dict_to_QubitOperator(ham_noncon, 8)\n",
    "#op = LinearQubitOperator(QubitOperator('Y0 Z1 Y2', ep_state[1][0]) + QubitOperator('Z0', ep_state[1][1]), 4)#ham_noncon_q))\n",
    "H = LinearQubitOperator(ham_noncon_q, 8)\n",
    "H_psi = H.matvec(initial_state)\n",
    "print(H_psi)\n",
    "psi.dot(H_psi), gs_noncon_energy"
   ]
  },
  {
   "cell_type": "code",
   "execution_count": 52,
   "metadata": {},
   "outputs": [
    {
     "ename": "ValueError",
     "evalue": "dimension mismatch",
     "output_type": "error",
     "traceback": [
      "\u001b[0;31m---------------------------------------------------------------------------\u001b[0m",
      "\u001b[0;31mValueError\u001b[0m                                Traceback (most recent call last)",
      "\u001b[0;32m<ipython-input-52-e8a435729764>\u001b[0m in \u001b[0;36m<module>\u001b[0;34m()\u001b[0m\n\u001b[1;32m      2\u001b[0m \u001b[0mA_op\u001b[0m \u001b[0;34m=\u001b[0m \u001b[0mQubitOperator\u001b[0m\u001b[0;34m(\u001b[0m\u001b[0;34m'Y0 Z1 Y2'\u001b[0m\u001b[0;34m,\u001b[0m \u001b[0mep_state\u001b[0m\u001b[0;34m[\u001b[0m\u001b[0;36m1\u001b[0m\u001b[0;34m]\u001b[0m\u001b[0;34m[\u001b[0m\u001b[0;36m0\u001b[0m\u001b[0;34m]\u001b[0m\u001b[0;34m)\u001b[0m \u001b[0;34m+\u001b[0m \u001b[0mQubitOperator\u001b[0m\u001b[0;34m(\u001b[0m\u001b[0;34m'Z0'\u001b[0m\u001b[0;34m,\u001b[0m \u001b[0mep_state\u001b[0m\u001b[0;34m[\u001b[0m\u001b[0;36m1\u001b[0m\u001b[0;34m]\u001b[0m\u001b[0;34m[\u001b[0m\u001b[0;36m1\u001b[0m\u001b[0;34m]\u001b[0m\u001b[0;34m)\u001b[0m\u001b[0;34m\u001b[0m\u001b[0m\n\u001b[1;32m      3\u001b[0m \u001b[0mA\u001b[0m \u001b[0;34m=\u001b[0m \u001b[0mLinearQubitOperator\u001b[0m\u001b[0;34m(\u001b[0m\u001b[0mA_op\u001b[0m\u001b[0;34m,\u001b[0m \u001b[0;36m4\u001b[0m\u001b[0;34m)\u001b[0m\u001b[0;34m\u001b[0m\u001b[0m\n\u001b[0;32m----> 4\u001b[0;31m \u001b[0mA_psi\u001b[0m \u001b[0;34m=\u001b[0m \u001b[0mA\u001b[0m\u001b[0;34m.\u001b[0m\u001b[0mmatvec\u001b[0m\u001b[0;34m(\u001b[0m\u001b[0mpsi\u001b[0m\u001b[0;34m)\u001b[0m\u001b[0;34m\u001b[0m\u001b[0m\n\u001b[0m\u001b[1;32m      5\u001b[0m \u001b[0mprint\u001b[0m\u001b[0;34m(\u001b[0m\u001b[0;34m'psi:'\u001b[0m\u001b[0;34m,\u001b[0m \u001b[0mpsi\u001b[0m\u001b[0;34m,\u001b[0m \u001b[0;34m'\\n'\u001b[0m\u001b[0;34m,\u001b[0m \u001b[0;34m'A_psi:'\u001b[0m\u001b[0;34m,\u001b[0m  \u001b[0mA_psi\u001b[0m\u001b[0;34m,\u001b[0m \u001b[0;34m'\\n'\u001b[0m\u001b[0;34m,\u001b[0m \u001b[0mnp\u001b[0m\u001b[0;34m.\u001b[0m\u001b[0mround\u001b[0m\u001b[0;34m(\u001b[0m\u001b[0mA_psi\u001b[0m \u001b[0;34m-\u001b[0m \u001b[0mpsi\u001b[0m\u001b[0;34m,\u001b[0m \u001b[0;36m10\u001b[0m\u001b[0;34m)\u001b[0m\u001b[0;34m,\u001b[0m \u001b[0;34m'\\n'\u001b[0m\u001b[0;34m,\u001b[0m \u001b[0;34m'eigenvalue:'\u001b[0m\u001b[0;34m,\u001b[0m \u001b[0mpsi\u001b[0m\u001b[0;34m.\u001b[0m\u001b[0mdot\u001b[0m\u001b[0;34m(\u001b[0m\u001b[0mA_psi\u001b[0m\u001b[0;34m)\u001b[0m\u001b[0;34m)\u001b[0m\u001b[0;34m\u001b[0m\u001b[0m\n",
      "\u001b[0;32m~/anaconda3/lib/python3.7/site-packages/scipy/sparse/linalg/interface.py\u001b[0m in \u001b[0;36mmatvec\u001b[0;34m(self, x)\u001b[0m\n\u001b[1;32m    228\u001b[0m \u001b[0;34m\u001b[0m\u001b[0m\n\u001b[1;32m    229\u001b[0m         \u001b[0;32mif\u001b[0m \u001b[0mx\u001b[0m\u001b[0;34m.\u001b[0m\u001b[0mshape\u001b[0m \u001b[0;34m!=\u001b[0m \u001b[0;34m(\u001b[0m\u001b[0mN\u001b[0m\u001b[0;34m,\u001b[0m\u001b[0;34m)\u001b[0m \u001b[0;32mand\u001b[0m \u001b[0mx\u001b[0m\u001b[0;34m.\u001b[0m\u001b[0mshape\u001b[0m \u001b[0;34m!=\u001b[0m \u001b[0;34m(\u001b[0m\u001b[0mN\u001b[0m\u001b[0;34m,\u001b[0m\u001b[0;36m1\u001b[0m\u001b[0;34m)\u001b[0m\u001b[0;34m:\u001b[0m\u001b[0;34m\u001b[0m\u001b[0m\n\u001b[0;32m--> 230\u001b[0;31m             \u001b[0;32mraise\u001b[0m \u001b[0mValueError\u001b[0m\u001b[0;34m(\u001b[0m\u001b[0;34m'dimension mismatch'\u001b[0m\u001b[0;34m)\u001b[0m\u001b[0;34m\u001b[0m\u001b[0m\n\u001b[0m\u001b[1;32m    231\u001b[0m \u001b[0;34m\u001b[0m\u001b[0m\n\u001b[1;32m    232\u001b[0m         \u001b[0my\u001b[0m \u001b[0;34m=\u001b[0m \u001b[0mself\u001b[0m\u001b[0;34m.\u001b[0m\u001b[0m_matvec\u001b[0m\u001b[0;34m(\u001b[0m\u001b[0mx\u001b[0m\u001b[0;34m)\u001b[0m\u001b[0;34m\u001b[0m\u001b[0m\n",
      "\u001b[0;31mValueError\u001b[0m: dimension mismatch"
     ]
    }
   ],
   "source": [
    "psi = np.array(initial_state)\n",
    "A_op = QubitOperator('Y0 Z1 Y2', ep_state[1][0]) + QubitOperator('Z0', ep_state[1][1])\n",
    "A = LinearQubitOperator(A_op, 4)\n",
    "A_psi = A.matvec(psi)\n",
    "print('psi:', psi, '\\n', 'A_psi:',  A_psi, '\\n', np.round(A_psi - psi, 10), '\\n', 'eigenvalue:', psi.dot(A_psi))"
   ]
  },
  {
   "cell_type": "code",
   "execution_count": 53,
   "metadata": {
    "scrolled": false
   },
   "outputs": [
    {
     "ename": "NameError",
     "evalue": "name 'eigs' is not defined",
     "output_type": "error",
     "traceback": [
      "\u001b[0;31m---------------------------------------------------------------------------\u001b[0m",
      "\u001b[0;31mNameError\u001b[0m                                 Traceback (most recent call last)",
      "\u001b[0;32m<ipython-input-53-4a387190dcd3>\u001b[0m in \u001b[0;36m<module>\u001b[0;34m()\u001b[0m\n\u001b[0;32m----> 1\u001b[0;31m \u001b[0mextra_eig\u001b[0m \u001b[0;34m=\u001b[0m \u001b[0;34m(\u001b[0m\u001b[0meigs\u001b[0m\u001b[0;34m(\u001b[0m\u001b[0mA\u001b[0m\u001b[0;34m,\u001b[0m \u001b[0mk\u001b[0m\u001b[0;34m=\u001b[0m\u001b[0;36m1\u001b[0m\u001b[0;34m,\u001b[0m \u001b[0msigma\u001b[0m\u001b[0;34m=\u001b[0m\u001b[0;36m0.9999\u001b[0m\u001b[0;34m)\u001b[0m\u001b[0;34m)\u001b[0m\u001b[0;34m[\u001b[0m\u001b[0;36m1\u001b[0m\u001b[0;34m]\u001b[0m\u001b[0;31m#A[, k, M, sigma, which, v0, ncv, …])\u001b[0m\u001b[0;34m\u001b[0m\u001b[0m\n\u001b[0m",
      "\u001b[0;31mNameError\u001b[0m: name 'eigs' is not defined"
     ]
    }
   ],
   "source": [
    "extra_eig = (eigs(A, k=1, sigma=0.9999))[1]#A[, k, M, sigma, which, v0, ncv, …])"
   ]
  },
  {
   "cell_type": "code",
   "execution_count": 97,
   "metadata": {
    "scrolled": true
   },
   "outputs": [
    {
     "ename": "NameError",
     "evalue": "name 'extra_eig' is not defined",
     "output_type": "error",
     "traceback": [
      "\u001b[0;31m---------------------------------------------------------------------------\u001b[0m",
      "\u001b[0;31mNameError\u001b[0m                                 Traceback (most recent call last)",
      "\u001b[0;32m<ipython-input-97-f8e691eedba9>\u001b[0m in \u001b[0;36m<module>\u001b[0;34m()\u001b[0m\n\u001b[0;32m----> 1\u001b[0;31m \u001b[0mextra_eig\u001b[0m \u001b[0;34m=\u001b[0m \u001b[0mnp\u001b[0m\u001b[0;34m.\u001b[0m\u001b[0marray\u001b[0m\u001b[0;34m(\u001b[0m\u001b[0;34m[\u001b[0m\u001b[0me\u001b[0m\u001b[0;34m[\u001b[0m\u001b[0;36m0\u001b[0m\u001b[0;34m]\u001b[0m \u001b[0;32mfor\u001b[0m \u001b[0me\u001b[0m \u001b[0;32min\u001b[0m \u001b[0mextra_eig\u001b[0m\u001b[0;34m]\u001b[0m\u001b[0;34m)\u001b[0m\u001b[0;34m\u001b[0m\u001b[0m\n\u001b[0m\u001b[1;32m      2\u001b[0m \u001b[0mextra_eig\u001b[0m\u001b[0;34m\u001b[0m\u001b[0m\n",
      "\u001b[0;31mNameError\u001b[0m: name 'extra_eig' is not defined"
     ]
    }
   ],
   "source": [
    "extra_eig = np.array([e[0] for e in extra_eig])\n",
    "extra_eig"
   ]
  },
  {
   "cell_type": "code",
   "execution_count": 98,
   "metadata": {
    "scrolled": true
   },
   "outputs": [
    {
     "ename": "NameError",
     "evalue": "name 'extra_eig' is not defined",
     "output_type": "error",
     "traceback": [
      "\u001b[0;31m---------------------------------------------------------------------------\u001b[0m",
      "\u001b[0;31mNameError\u001b[0m                                 Traceback (most recent call last)",
      "\u001b[0;32m<ipython-input-98-6ea8fee74c15>\u001b[0m in \u001b[0;36m<module>\u001b[0;34m()\u001b[0m\n\u001b[0;32m----> 1\u001b[0;31m \u001b[0mpsi\u001b[0m \u001b[0;34m=\u001b[0m \u001b[0mextra_eig\u001b[0m \u001b[0;34m+\u001b[0m \u001b[0mpsi\u001b[0m\u001b[0;34m\u001b[0m\u001b[0m\n\u001b[0m",
      "\u001b[0;31mNameError\u001b[0m: name 'extra_eig' is not defined"
     ]
    }
   ],
   "source": [
    "psi = extra_eig + psi"
   ]
  },
  {
   "cell_type": "code",
   "execution_count": 99,
   "metadata": {},
   "outputs": [],
   "source": [
    "from scipy.sparse.linalg import eigs"
   ]
  },
  {
   "cell_type": "code",
   "execution_count": 221,
   "metadata": {},
   "outputs": [
    {
     "data": {
      "text/plain": [
       "[-3.0134857192955553,\n",
       " [[-1, -1, -1], [-0.07087650179757096, -0.9974850983813939]],\n",
       " (['ZIZI', 'IZII', 'IIIZ'],\n",
       "  ['YZYI', 'ZIII'],\n",
       "  {'IIII': [[], [], 1],\n",
       "   'ZIII': [[], ['ZIII'], 1],\n",
       "   'IZII': [['IZII'], [], 1],\n",
       "   'ZZII': [['IZII'], ['ZIII'], 1],\n",
       "   'IIZI': [['ZIZI'], ['ZIII'], 1],\n",
       "   'IIIZ': [['IIIZ'], [], 1],\n",
       "   'IIZZ': [['ZIZI', 'IIIZ'], ['ZIII'], 1],\n",
       "   'ZIIZ': [['IIIZ'], ['ZIII'], 1],\n",
       "   'IZZI': [['ZIZI', 'IZII'], ['ZIII'], 1],\n",
       "   'ZIZI': [['ZIZI'], [], 1],\n",
       "   'IZIZ': [['IZII', 'IIIZ'], [], 1],\n",
       "   'YZYI': [[], ['YZYI'], 1],\n",
       "   'XZXI': [['ZIZI'], ['YZYI'], (-1+0j)],\n",
       "   'YIYI': [['IZII'], ['YZYI'], 1],\n",
       "   'XIXI': [['ZIZI', 'IZII'], ['YZYI'], (-1+0j)],\n",
       "   'YZYZ': [['IIIZ'], ['YZYI'], 1],\n",
       "   'XZXZ': [['ZIZI', 'IIIZ'], ['YZYI'], (-1+0j)]}),\n",
       " [3,\n",
       "  2,\n",
       "  [[(-1.5419759528969692+0j), [], [], 'IIII'],\n",
       "   [(0.7589136134172096+0j), [], [1], 'ZIII'],\n",
       "   [(0.7589136134172096+0j), [1], [], 'IZII'],\n",
       "   [(0.23578727153769516+0j), [1], [1], 'ZZII'],\n",
       "   [(0.19140054473500764+0j), [0], [1], 'IIZI'],\n",
       "   [(0.19140054473500764+0j), [2], [], 'IIIZ'],\n",
       "   [(0.18815905542064587+0j), [0, 2], [1], 'IIZZ'],\n",
       "   [(0.1652864234111152+0j), [2], [1], 'ZIIZ'],\n",
       "   [(0.1652864234111152+0j), [0, 1], [1], 'IZZI'],\n",
       "   [(0.12887693985157755+0j), [0], [], 'ZIZI'],\n",
       "   [(0.12887693985157755+0j), [1, 2], [], 'IZIZ'],\n",
       "   [(0.05246557037552685+0j), [], [0], 'YZYI'],\n",
       "   [(-0.05246557037552685+0j), [0], [0], 'XZXI'],\n",
       "   [(0.04322997146404521+0j), [1], [0], 'YIYI'],\n",
       "   [(-0.04322997146404521+0j), [0, 1], [0], 'XIXI'],\n",
       "   [(-0.009234661837974558+0j), [2], [0], 'YZYZ'],\n",
       "   [(0.009234661837974558-0j), [0, 2], [0], 'XZXZ']]]]"
      ]
     },
     "execution_count": 221,
     "metadata": {},
     "output_type": "execute_result"
    }
   ],
   "source": [
    "gs_noncon"
   ]
  },
  {
   "cell_type": "code",
   "execution_count": 6,
   "metadata": {},
   "outputs": [
    {
     "data": {
      "image/png": "[encoded data removed]",
      "text/plain": [
       "<Figure size 3000x2000 with 1 Axes>"
      ]
     },
     "metadata": {
      "needs_background": "light"
     },
     "output_type": "display_data"
    }
   ],
   "source": []
  },
  {
   "cell_type": "code",
   "execution_count": null,
   "metadata": {},
   "outputs": [],
   "source": []
  }
 ],
 "metadata": {
  "kernelspec": {
   "display_name": "Python 3",
   "language": "python",
   "name": "python3"
  },
  "language_info": {
   "codemirror_mode": {
    "name": "ipython",
    "version": 3
   },
   "file_extension": ".py",
   "mimetype": "text/x-python",
   "name": "python",
   "nbconvert_exporter": "python",
   "pygments_lexer": "ipython3",
   "version": "3.7.0"
  }
 },
 "nbformat": 4,
 "nbformat_minor": 2
}
