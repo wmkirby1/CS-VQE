{
 "cells": [
  {
   "cell_type": "code",
   "execution_count": 1,
   "metadata": {},
   "outputs": [
    {
     "name": "stderr",
     "output_type": "stream",
     "text": [
      "/home/tim/anaconda3/lib/python3.7/site-packages/qiskit/aqua/__init__.py:86: DeprecationWarning: The package qiskit.aqua is deprecated. It was moved/refactored to qiskit-terra For more information see <https://github.com/Qiskit/qiskit-aqua/blob/main/README.md#migration-guide>\n",
      "  warn_package('aqua', 'qiskit-terra')\n",
      "/home/tim/anaconda3/lib/python3.7/site-packages/qiskit/aqua/components/optimizers/optimizer.py:50: DeprecationWarning: The package qiskit.aqua.components.optimizers is deprecated. It was moved/refactored to qiskit.algorithms.optimizers (pip install qiskit-terra). For more information see <https://github.com/Qiskit/qiskit-aqua/blob/main/README.md#migration-guide>\n",
      "  'qiskit.algorithms.optimizers', 'qiskit-terra')\n"
     ]
    }
   ],
   "source": [
    "#from utils.molecule_tools import get_molecule\n",
    "from utils.cs_vqe_tools_original import greedy_dfs\n",
    "from cs_vqe.circuit import cs_vqe_circuit\n",
    "import json"
   ]
  },
  {
   "cell_type": "code",
   "execution_count": 2,
   "metadata": {},
   "outputs": [
    {
     "data": {
      "text/plain": [
       "['HeH+_6-311G_SINGLET',\n",
       " 'H2O_STO-3G_SINGLET',\n",
       " 'BeH+_STO-3G_SINGLET',\n",
       " 'LiH_STO-3G_SINGLET',\n",
       " 'CH+_STO-3G_SINGLET',\n",
       " 'HF_STO-3G_SINGLET',\n",
       " 'B+_STO-3G_SINGLET',\n",
       " 'OH+_STO-3G_SINGLET',\n",
       " 'CH2_STO-3G_SINGLET',\n",
       " 'BeH2_STO-3G_SINGLET',\n",
       " 'Be_STO-3G_SINGLET',\n",
       " 'C_STO-3G_SINGLET',\n",
       " 'NH_STO-3G_SINGLET',\n",
       " 'BH_STO-3G_SINGLET',\n",
       " 'NH2+_STO-3G_SINGLET',\n",
       " 'BH2+_STO-3G_SINGLET']"
      ]
     },
     "execution_count": 2,
     "metadata": {},
     "output_type": "execute_result"
    }
   ],
   "source": [
    "file = 'molecule_data'\n",
    "with open('data/'+file+'.json', 'r') as json_file:\n",
    "    molecule_data = json.load(json_file)\n",
    "\n",
    "with open('data/anz_circ_depth.json', 'r') as json_file:\n",
    "    anz_data = json.load(json_file)\n",
    "    \n",
    "speciesname_list = [mol for mol in anz_data if (anz_data[mol]['num_qubits']!=anz_data[mol]['chemaccnum'] and not anz_data[mol]['chemaccnum']==0) and mol.find('alt')==-1]\n",
    "speciesname_list"
   ]
  },
  {
   "cell_type": "code",
   "execution_count": 3,
   "metadata": {},
   "outputs": [],
   "source": [
    "with open('data/old_model_data.json', 'r') as json_file:\n",
    "    old_model_data = json.load(json_file)"
   ]
  },
  {
   "cell_type": "code",
   "execution_count": 4,
   "metadata": {},
   "outputs": [
    {
     "name": "stdout",
     "output_type": "stream",
     "text": [
      "HeH+_6-311G_SINGLET\n",
      "Number of qubits: 10\n",
      "Molecule constructed.\n",
      "\n",
      "H2O_STO-3G_SINGLET\n",
      "Number of qubits: 10\n",
      "Molecule constructed.\n",
      "\n",
      "BeH+_STO-3G_SINGLET\n",
      "Number of qubits: 8\n",
      "Molecule constructed.\n",
      "\n",
      "LiH_STO-3G_SINGLET\n",
      "Number of qubits: 8\n",
      "Molecule constructed.\n",
      "\n",
      "CH+_STO-3G_SINGLET\n",
      "Number of qubits: 8\n",
      "Molecule constructed.\n",
      "\n",
      "HF_STO-3G_SINGLET\n",
      "Number of qubits: 8\n",
      "Molecule constructed.\n",
      "\n",
      "B+_STO-3G_SINGLET\n",
      "Number of qubits: 5\n",
      "Molecule constructed.\n",
      "\n",
      "OH+_STO-3G_SINGLET\n",
      "Number of qubits: 8\n",
      "Molecule constructed.\n",
      "\n",
      "CH2_STO-3G_SINGLET\n",
      "Number of qubits: 10\n",
      "Molecule constructed.\n",
      "\n",
      "BeH2_STO-3G_SINGLET\n",
      "Number of qubits: 9\n",
      "Molecule constructed.\n",
      "\n",
      "Be_STO-3G_SINGLET\n",
      "Number of qubits: 5\n",
      "Molecule constructed.\n",
      "\n",
      "C_STO-3G_SINGLET\n",
      "Number of qubits: 5\n",
      "Molecule constructed.\n",
      "\n",
      "NH_STO-3G_SINGLET\n",
      "Number of qubits: 8\n",
      "Molecule constructed.\n",
      "\n",
      "BH_STO-3G_SINGLET\n",
      "Number of qubits: 8\n",
      "Molecule constructed.\n",
      "\n",
      "NH2+_STO-3G_SINGLET\n",
      "Number of qubits: 10\n",
      "Molecule constructed.\n",
      "\n",
      "BH2+_STO-3G_SINGLET\n",
      "Number of qubits: 10\n",
      "Molecule constructed.\n",
      "\n"
     ]
    }
   ],
   "source": [
    "model_data = {}\n",
    "\n",
    "for speciesname in speciesname_list:\n",
    "    print(speciesname)\n",
    "\n",
    "    molecule    = old_model_data[speciesname]#get_molecule(speciesname, taper=True)\n",
    "    num_qubits  = molecule['num_qubits']\n",
    "    ham         = molecule['ham']\n",
    "    uccsd       = molecule['uccsd']\n",
    "    hf_config   = molecule['hf_config']\n",
    "    num_tapered = molecule['num_tapered']\n",
    "    true_gs_nrg = molecule['true_gs_nrg']\n",
    "    #true_gs_vec = molecule['true_gs_vec']\n",
    "\n",
    "    #for p in ham.keys():\n",
    "    #    ham[p] = ham[p].real    \n",
    "    #for p in uccsd.keys():\n",
    "    #    uccsd[p] = uccsd[p].imag\n",
    "\n",
    "    terms_noncon = old_model_data[speciesname]['terms_noncon']#greedy_dfs(ham, 10, criterion='size')[-1]\n",
    "\n",
    "    print('Number of qubits:', num_qubits)\n",
    "    mol_circ = cs_vqe_circuit(hamiltonian = ham,\n",
    "                              terms_noncon= terms_noncon,\n",
    "                              num_qubits  = num_qubits,\n",
    "                              hf_config   = hf_config)\n",
    "\n",
    "    ham_rotations = mol_circ.ham_rotations\n",
    "    noncon         = mol_circ.noncon\n",
    "    truegs         = mol_circ.truegs\n",
    "    G              = mol_circ.G\n",
    "    A              = mol_circ.A\n",
    "    X_index        = mol_circ.X_index\n",
    "    X_qubit        = mol_circ.X_qubit\n",
    "    cs_vqe_energy  = mol_circ.cs_vqe_energy\n",
    "    cs_vqe_errors  = mol_circ.cs_vqe_errors\n",
    "    chem_acc_num_q = mol_circ.chem_acc_num_q\n",
    "    order          = mol_circ.order\n",
    "    ham_reduced    = mol_circ.ham_reduced\n",
    "    reference_state= mol_circ.reference_state()\n",
    "\n",
    "    model_data[speciesname] = {\"ham\":ham,\n",
    "                               \"uccsd\":uccsd,\n",
    "                               \"num_qubits\":num_qubits,\n",
    "                               \"hf_config\":hf_config,\n",
    "                               \"terms_noncon\":terms_noncon,\n",
    "                               \"num_tapered\":num_tapered,\n",
    "                               \"true_gs_nrg\":true_gs_nrg,\n",
    "                               #\"true_gs_vec\":true_gs_vec,\n",
    "                               \"ham_rotations\":ham_rotations,\n",
    "                               \"noncon\":noncon,\n",
    "                               \"truegs\":truegs,\n",
    "                               \"G\":G,\n",
    "                               \"A\":A,\n",
    "                               \"X_index\":X_index,\n",
    "                               \"X_qubit\":X_qubit,\n",
    "                               \"cs_vqe_energy\":cs_vqe_energy,\n",
    "                               \"cs_vqe_errors\":cs_vqe_errors,\n",
    "                               \"chem_acc_num_q\":chem_acc_num_q,\n",
    "                               \"order\":order,\n",
    "                               \"ham_reduced\":ham_reduced,\n",
    "                               \"reference_state\":reference_state\n",
    "                                }\n",
    "\n",
    "    print('Molecule constructed.\\n')\n"
   ]
  },
  {
   "cell_type": "code",
   "execution_count": 5,
   "metadata": {},
   "outputs": [],
   "source": [
    "#data={}\n",
    "#for k in model_data.keys():\n",
    "#    data[str(k)] = model_data[k]\n",
    "     \n",
    "with open(\"data/model_data.json\", \"w\") as outfile: \n",
    "    json.dump(model_data, outfile)"
   ]
  }
 ],
 "metadata": {
  "kernelspec": {
   "display_name": "Python 3",
   "language": "python",
   "name": "python3"
  },
  "language_info": {
   "codemirror_mode": {
    "name": "ipython",
    "version": 3
   },
   "file_extension": ".py",
   "mimetype": "text/x-python",
   "name": "python",
   "nbconvert_exporter": "python",
   "pygments_lexer": "ipython3",
   "version": "3.7.0"
  }
 },
 "nbformat": 4,
 "nbformat_minor": 2
}
