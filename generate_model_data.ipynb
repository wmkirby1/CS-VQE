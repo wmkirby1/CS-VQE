{
 "cells": [
  {
   "cell_type": "code",
   "execution_count": 13,
   "metadata": {},
   "outputs": [],
   "source": [
    "from utils.molecule_tools import construct_molecule\n",
    "from utils.cs_vqe_tools_original import greedy_dfs\n",
    "from cs_vqe.circuit import cs_vqe_circuit\n",
    "import json"
   ]
  },
  {
   "cell_type": "code",
   "execution_count": 14,
   "metadata": {},
   "outputs": [],
   "source": [
    "with open('data/molecule_data.json', 'r') as json_file:\n",
    "    molecule_data = json.load(json_file)\n",
    "with open('data/model_data.json', 'r') as json_file:\n",
    "    model_data = json.load(json_file)\n",
    "#with open('data/anz_circ_depth.json', 'r') as json_file:\n",
    "#    anz_data = json.load(json_file)\n",
    "    \n",
    "#speciesname_list = [mol for mol in anz_data if (anz_data[mol]['num_qubits']!=anz_data[mol]['chemaccnum'] and not anz_data[mol]['chemaccnum']==0) and mol.find('alt')==-1 and mol.find('+')==-1]\n",
    "#speciesname_list"
   ]
  },
  {
   "cell_type": "code",
   "execution_count": 18,
   "metadata": {},
   "outputs": [
    {
     "name": "stdout",
     "output_type": "stream",
     "text": [
      "HCl_STO-3G_SINGLET\n"
     ]
    },
    {
     "ename": "ValueError",
     "evalue": "'to_matrix' will return an exponentially large matrix, in this case '1048576x1048576' elements. Set algorithm_globals.massive=True or the method argument massive=True if you want to proceed.",
     "output_type": "error",
     "traceback": [
      "\u001b[0;31m---------------------------------------------------------------------------\u001b[0m",
      "\u001b[0;31mValueError\u001b[0m                                Traceback (most recent call last)",
      "\u001b[0;32m/tmp/ipykernel_18842/1009150669.py\u001b[0m in \u001b[0;36m<module>\u001b[0;34m\u001b[0m\n\u001b[1;32m      5\u001b[0m \u001b[0;34m\u001b[0m\u001b[0m\n\u001b[1;32m      6\u001b[0m     \u001b[0matoms\u001b[0m\u001b[0;34m,\u001b[0m \u001b[0mcoords\u001b[0m\u001b[0;34m,\u001b[0m \u001b[0mmultiplicity\u001b[0m\u001b[0;34m,\u001b[0m \u001b[0mcharge\u001b[0m\u001b[0;34m,\u001b[0m \u001b[0mbasis\u001b[0m\u001b[0;34m,\u001b[0m \u001b[0msym_sector\u001b[0m \u001b[0;34m=\u001b[0m \u001b[0mmolecule_data\u001b[0m\u001b[0;34m[\u001b[0m\u001b[0mspeciesname\u001b[0m\u001b[0;34m]\u001b[0m\u001b[0;34m.\u001b[0m\u001b[0mvalues\u001b[0m\u001b[0;34m(\u001b[0m\u001b[0;34m)\u001b[0m\u001b[0;34m\u001b[0m\u001b[0;34m\u001b[0m\u001b[0m\n\u001b[0;32m----> 7\u001b[0;31m     molecule    = construct_molecule(atoms, coords, charge, multiplicity, basis, \n\u001b[0m\u001b[1;32m      8\u001b[0m                                      excitation_threshold=5, taper=True, sym_sector=sym_sector)\n\u001b[1;32m      9\u001b[0m     \u001b[0mnum_qubits\u001b[0m  \u001b[0;34m=\u001b[0m \u001b[0mmolecule\u001b[0m\u001b[0;34m[\u001b[0m\u001b[0;34m'num_qubits'\u001b[0m\u001b[0;34m]\u001b[0m\u001b[0;34m\u001b[0m\u001b[0;34m\u001b[0m\u001b[0m\n",
      "\u001b[0;32m~/qc-research/CS-VQE/utils/molecule_tools.py\u001b[0m in \u001b[0;36mconstruct_molecule\u001b[0;34m(atoms, coords, charge, multiplicity, basis, excitation_threshold, taper, sym_sector)\u001b[0m\n\u001b[1;32m     64\u001b[0m         \u001b[0;31m# determine most significant uccsd terms\u001b[0m\u001b[0;34m\u001b[0m\u001b[0;34m\u001b[0m\u001b[0;34m\u001b[0m\u001b[0m\n\u001b[1;32m     65\u001b[0m         \u001b[0mhf_config\u001b[0m \u001b[0;34m=\u001b[0m \u001b[0;34m''\u001b[0m\u001b[0;34m.\u001b[0m\u001b[0mjoin\u001b[0m\u001b[0;34m(\u001b[0m\u001b[0;34m[\u001b[0m\u001b[0mstr\u001b[0m\u001b[0;34m(\u001b[0m\u001b[0mint\u001b[0m\u001b[0;34m(\u001b[0m\u001b[0mb\u001b[0m\u001b[0;34m)\u001b[0m\u001b[0;34m)\u001b[0m \u001b[0;32mfor\u001b[0m \u001b[0mb\u001b[0m \u001b[0;32min\u001b[0m \u001b[0mhf_config_bool\u001b[0m\u001b[0;34m]\u001b[0m\u001b[0;34m)\u001b[0m\u001b[0;34m\u001b[0m\u001b[0;34m\u001b[0m\u001b[0m\n\u001b[0;32m---> 66\u001b[0;31m         \u001b[0mham_mat\u001b[0m \u001b[0;34m=\u001b[0m \u001b[0mqonvert\u001b[0m\u001b[0;34m.\u001b[0m\u001b[0mdict_to_WeightedPauliOperator\u001b[0m\u001b[0;34m(\u001b[0m\u001b[0mqonvert\u001b[0m\u001b[0;34m.\u001b[0m\u001b[0mQubitOperator_to_dict\u001b[0m\u001b[0;34m(\u001b[0m\u001b[0mjordan_wigner\u001b[0m\u001b[0;34m(\u001b[0m\u001b[0mham_2ndQ\u001b[0m\u001b[0;34m)\u001b[0m\u001b[0;34m,\u001b[0m \u001b[0mnum_qubits\u001b[0m\u001b[0;34m)\u001b[0m\u001b[0;34m)\u001b[0m\u001b[0;34m.\u001b[0m\u001b[0mto_matrix\u001b[0m\u001b[0;34m(\u001b[0m\u001b[0;34m)\u001b[0m\u001b[0;34m\u001b[0m\u001b[0;34m\u001b[0m\u001b[0m\n\u001b[0m\u001b[1;32m     67\u001b[0m         \u001b[0mgsnrg\u001b[0m\u001b[0;34m,\u001b[0m \u001b[0mgsvec\u001b[0m \u001b[0;34m=\u001b[0m \u001b[0mla\u001b[0m\u001b[0;34m.\u001b[0m\u001b[0mget_ground_state\u001b[0m\u001b[0;34m(\u001b[0m\u001b[0mham_mat\u001b[0m\u001b[0;34m)\u001b[0m\u001b[0;34m\u001b[0m\u001b[0;34m\u001b[0m\u001b[0m\n\u001b[1;32m     68\u001b[0m         \u001b[0mgsprobs\u001b[0m \u001b[0;34m=\u001b[0m \u001b[0;34m[\u001b[0m\u001b[0mabs\u001b[0m\u001b[0;34m(\u001b[0m\u001b[0mamp\u001b[0m\u001b[0;34m)\u001b[0m\u001b[0;34m**\u001b[0m\u001b[0;36m2\u001b[0m \u001b[0;32mfor\u001b[0m \u001b[0mamp\u001b[0m \u001b[0;32min\u001b[0m \u001b[0mgsvec\u001b[0m\u001b[0;34m]\u001b[0m\u001b[0;34m\u001b[0m\u001b[0;34m\u001b[0m\u001b[0m\n",
      "\u001b[0;32m~/.local/lib/python3.8/site-packages/qiskit/opflow/primitive_ops/pauli_sum_op.py\u001b[0m in \u001b[0;36mto_matrix\u001b[0;34m(self, massive)\u001b[0m\n\u001b[1;32m    252\u001b[0m \u001b[0;34m\u001b[0m\u001b[0m\n\u001b[1;32m    253\u001b[0m     \u001b[0;32mdef\u001b[0m \u001b[0mto_matrix\u001b[0m\u001b[0;34m(\u001b[0m\u001b[0mself\u001b[0m\u001b[0;34m,\u001b[0m \u001b[0mmassive\u001b[0m\u001b[0;34m:\u001b[0m \u001b[0mbool\u001b[0m \u001b[0;34m=\u001b[0m \u001b[0;32mFalse\u001b[0m\u001b[0;34m)\u001b[0m \u001b[0;34m->\u001b[0m \u001b[0mnp\u001b[0m\u001b[0;34m.\u001b[0m\u001b[0mndarray\u001b[0m\u001b[0;34m:\u001b[0m\u001b[0;34m\u001b[0m\u001b[0;34m\u001b[0m\u001b[0m\n\u001b[0;32m--> 254\u001b[0;31m         \u001b[0mOperatorBase\u001b[0m\u001b[0;34m.\u001b[0m\u001b[0m_check_massive\u001b[0m\u001b[0;34m(\u001b[0m\u001b[0;34m\"to_matrix\"\u001b[0m\u001b[0;34m,\u001b[0m \u001b[0;32mTrue\u001b[0m\u001b[0;34m,\u001b[0m \u001b[0mself\u001b[0m\u001b[0;34m.\u001b[0m\u001b[0mnum_qubits\u001b[0m\u001b[0;34m,\u001b[0m \u001b[0mmassive\u001b[0m\u001b[0;34m)\u001b[0m\u001b[0;34m\u001b[0m\u001b[0;34m\u001b[0m\u001b[0m\n\u001b[0m\u001b[1;32m    255\u001b[0m         \u001b[0;32mif\u001b[0m \u001b[0misinstance\u001b[0m\u001b[0;34m(\u001b[0m\u001b[0mself\u001b[0m\u001b[0;34m.\u001b[0m\u001b[0mcoeff\u001b[0m\u001b[0;34m,\u001b[0m \u001b[0mParameterExpression\u001b[0m\u001b[0;34m)\u001b[0m\u001b[0;34m:\u001b[0m\u001b[0;34m\u001b[0m\u001b[0;34m\u001b[0m\u001b[0m\n\u001b[1;32m    256\u001b[0m             \u001b[0;32mreturn\u001b[0m \u001b[0;34m(\u001b[0m\u001b[0mself\u001b[0m\u001b[0;34m.\u001b[0m\u001b[0mprimitive\u001b[0m\u001b[0;34m.\u001b[0m\u001b[0mto_matrix\u001b[0m\u001b[0;34m(\u001b[0m\u001b[0msparse\u001b[0m\u001b[0;34m=\u001b[0m\u001b[0;32mTrue\u001b[0m\u001b[0;34m)\u001b[0m\u001b[0;34m)\u001b[0m\u001b[0;34m.\u001b[0m\u001b[0mtoarray\u001b[0m\u001b[0;34m(\u001b[0m\u001b[0;34m)\u001b[0m \u001b[0;34m*\u001b[0m \u001b[0mself\u001b[0m\u001b[0;34m.\u001b[0m\u001b[0mcoeff\u001b[0m\u001b[0;34m\u001b[0m\u001b[0;34m\u001b[0m\u001b[0m\n",
      "\u001b[0;32m~/.local/lib/python3.8/site-packages/qiskit/opflow/operator_base.py\u001b[0m in \u001b[0;36m_check_massive\u001b[0;34m(method, matrix, num_qubits, massive)\u001b[0m\n\u001b[1;32m    488\u001b[0m                 \u001b[0mobj_type\u001b[0m \u001b[0;34m=\u001b[0m \u001b[0;34m\"vector\"\u001b[0m\u001b[0;34m\u001b[0m\u001b[0;34m\u001b[0m\u001b[0m\n\u001b[1;32m    489\u001b[0m                 \u001b[0mdimensions\u001b[0m \u001b[0;34m=\u001b[0m \u001b[0;34mf\"{dim}\"\u001b[0m\u001b[0;34m\u001b[0m\u001b[0;34m\u001b[0m\u001b[0m\n\u001b[0;32m--> 490\u001b[0;31m             raise ValueError(\n\u001b[0m\u001b[1;32m    491\u001b[0m                 \u001b[0;34mf\"'{method}' will return an exponentially large {obj_type}, \"\u001b[0m\u001b[0;34m\u001b[0m\u001b[0;34m\u001b[0m\u001b[0m\n\u001b[1;32m    492\u001b[0m                 \u001b[0;34mf\"in this case '{dimensions}' elements. \"\u001b[0m\u001b[0;34m\u001b[0m\u001b[0;34m\u001b[0m\u001b[0m\n",
      "\u001b[0;31mValueError\u001b[0m: 'to_matrix' will return an exponentially large matrix, in this case '1048576x1048576' elements. Set algorithm_globals.massive=True or the method argument massive=True if you want to proceed."
     ]
    }
   ],
   "source": [
    "#model_data = {}\n",
    "\n",
    "for speciesname in ['HCl_STO-3G_SINGLET']:#speciesname_list:\n",
    "    print(speciesname)\n",
    "    \n",
    "    atoms, coords, multiplicity, charge, basis, sym_sector = molecule_data[speciesname].values()\n",
    "    molecule    = construct_molecule(atoms, coords, charge, multiplicity, basis, \n",
    "                                     excitation_threshold=5, taper=True, sym_sector=sym_sector)\n",
    "    num_qubits  = molecule['num_qubits']\n",
    "    ham         = molecule['hamiltonian']\n",
    "    ansatze     = molecule['ansatze']\n",
    "    hf_config   = molecule['hf_config']\n",
    "    hf_energy   = molecule['hf_energy']\n",
    "    num_tapered = molecule['num_tapered']\n",
    "    true_gs_nrg = molecule['true_gs_nrg']\n",
    "    #true_gs_vec = molecule['true_gs_vec']\n",
    "\n",
    "    terms_noncon = greedy_dfs(ham, 30, criterion='size')[-1]\n",
    "\n",
    "    print('Number of qubits:', num_qubits)\n",
    "    mol_circ = cs_vqe_circuit(hamiltonian = ham,\n",
    "                              terms_noncon= terms_noncon,\n",
    "                              num_qubits  = num_qubits,\n",
    "                              hf_config   = hf_config)\n",
    "\n",
    "    ham_rotations  = mol_circ.ham_rotations\n",
    "    noncon         = mol_circ.noncon\n",
    "    truegs         = mol_circ.truegs\n",
    "    G              = mol_circ.G\n",
    "    A              = mol_circ.A\n",
    "    X_index        = mol_circ.X_index\n",
    "    X_qubit        = mol_circ.X_qubit\n",
    "    cs_vqe_energy  = mol_circ.cs_vqe_energy\n",
    "    cs_vqe_errors  = mol_circ.cs_vqe_errors\n",
    "    chem_acc_num_q = mol_circ.chem_acc_num_q\n",
    "    order          = mol_circ.order\n",
    "    ham_reduced    = mol_circ.ham_reduced\n",
    "    reference_state= mol_circ.reference_state()\n",
    "\n",
    "    model_data[speciesname] = {\"ham\":ham,\n",
    "                               \"ansatze\":ansatze,\n",
    "                               \"num_qubits\":num_qubits,\n",
    "                               \"hf_config\":hf_config,\n",
    "                               \"hf_energy\":hf_energy,\n",
    "                               \"terms_noncon\":terms_noncon,\n",
    "                               \"num_tapered\":num_tapered,\n",
    "                               \"true_gs_nrg\":true_gs_nrg,\n",
    "                               #\"true_gs_vec\":true_gs_vec,\n",
    "                               \"ham_rotations\":ham_rotations,\n",
    "                               \"noncon\":noncon,\n",
    "                               \"truegs\":truegs,\n",
    "                               \"G\":G,\n",
    "                               \"A\":A,\n",
    "                               \"X_index\":X_index,\n",
    "                               \"X_qubit\":X_qubit,\n",
    "                               \"cs_vqe_energy\":cs_vqe_energy,\n",
    "                               \"cs_vqe_errors\":cs_vqe_errors,\n",
    "                               \"chem_acc_num_q\":chem_acc_num_q,\n",
    "                               \"order\":order,\n",
    "                               \"ham_reduced\":ham_reduced,\n",
    "                               \"reference_state\":reference_state\n",
    "                                }\n",
    "\n",
    "    print('Molecule constructed.\\n')\n"
   ]
  },
  {
   "cell_type": "code",
   "execution_count": 6,
   "metadata": {},
   "outputs": [],
   "source": [
    "#data={}\n",
    "#for k in model_data.keys():\n",
    "#    data[str(k)] = model_data[k]\n",
    "     \n",
    "with open(\"data/model_data.json\", \"w\") as outfile:\n",
    "    json.dump(model_data, outfile)"
   ]
  },
  {
   "cell_type": "code",
   "execution_count": 12,
   "metadata": {},
   "outputs": [
    {
     "name": "stdout",
     "output_type": "stream",
     "text": [
      "uccsd 44\n",
      "excite3 8\n",
      "excite4 44\n",
      "excite5 44\n"
     ]
    }
   ],
   "source": [
    "for name, a in model_data['HF_STO-3G_SINGLET']['ansatze'].items():\n",
    "    print(name, len(a))"
   ]
  },
  {
   "cell_type": "code",
   "execution_count": 20,
   "metadata": {},
   "outputs": [
    {
     "data": {
      "text/plain": [
       "dict_keys(['H2O_STO-3G_SINGLET', 'LiH_STO-3G_SINGLET', 'HF_STO-3G_SINGLET', 'CH2_STO-3G_SINGLET', 'BeH2_STO-3G_SINGLET', 'Be_STO-3G_SINGLET', 'C_STO-3G_SINGLET', 'NH_STO-3G_SINGLET', 'BH_STO-3G_SINGLET'])"
      ]
     },
     "execution_count": 20,
     "metadata": {},
     "output_type": "execute_result"
    }
   ],
   "source": [
    "model_data.keys()"
   ]
  },
  {
   "cell_type": "code",
   "execution_count": null,
   "metadata": {},
   "outputs": [],
   "source": []
  }
 ],
 "metadata": {
  "kernelspec": {
   "display_name": "Python 3 (ipykernel)",
   "language": "python",
   "name": "python3"
  },
  "language_info": {
   "codemirror_mode": {
    "name": "ipython",
    "version": 3
   },
   "file_extension": ".py",
   "mimetype": "text/x-python",
   "name": "python",
   "nbconvert_exporter": "python",
   "pygments_lexer": "ipython3",
   "version": "3.8.8"
  }
 },
 "nbformat": 4,
 "nbformat_minor": 2
}
