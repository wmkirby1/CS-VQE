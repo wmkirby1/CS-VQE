{
 "cells": [
  {
   "cell_type": "code",
   "execution_count": 1,
   "metadata": {},
   "outputs": [
    {
     "name": "stderr",
     "output_type": "stream",
     "text": [
      "/home/tim/anaconda3/lib/python3.7/site-packages/qiskit/aqua/__init__.py:86: DeprecationWarning: The package qiskit.aqua is deprecated. It was moved/refactored to qiskit-terra For more information see <https://github.com/Qiskit/qiskit-aqua/blob/main/README.md#migration-guide>\n",
      "  warn_package('aqua', 'qiskit-terra')\n",
      "/home/tim/anaconda3/lib/python3.7/site-packages/qiskit/aqua/components/optimizers/optimizer.py:50: DeprecationWarning: The package qiskit.aqua.components.optimizers is deprecated. It was moved/refactored to qiskit.algorithms.optimizers (pip install qiskit-terra). For more information see <https://github.com/Qiskit/qiskit-aqua/blob/main/README.md#migration-guide>\n",
      "  'qiskit.algorithms.optimizers', 'qiskit-terra')\n"
     ]
    }
   ],
   "source": [
    "from utils.molecule_tools import get_molecule\n",
    "from utils.cs_vqe_tools_original import greedy_dfs\n",
    "import json"
   ]
  },
  {
   "cell_type": "code",
   "execution_count": 16,
   "metadata": {},
   "outputs": [
    {
     "data": {
      "text/plain": [
       "['O_STO-3G_SINGLET',\n",
       " 'CH2_STO-3G_SINGLET',\n",
       " 'BeH2_STO-3G_SINGLET',\n",
       " 'Be_STO-3G_SINGLET',\n",
       " 'C_STO-3G_SINGLET']"
      ]
     },
     "execution_count": 16,
     "metadata": {},
     "output_type": "execute_result"
    }
   ],
   "source": [
    "file = 'molecule_data'\n",
    "with open('data/'+file+'.json', 'r') as json_file:\n",
    "    molecule_data = json.load(json_file)\n",
    "\n",
    "speciesname_list = list(molecule_data.keys())\n",
    "len(speciesname_list)"
   ]
  },
  {
   "cell_type": "code",
   "execution_count": 24,
   "metadata": {},
   "outputs": [
    {
     "name": "stdout",
     "output_type": "stream",
     "text": [
      "O_STO-3G_SINGLET\n",
      "*** sector saved, will check tapered ground state energy matches target problem ***\n",
      "Attempting to taper 10 --> 5 qubits\n",
      "~~~~~~~~~~~~~~~~~~~~~~~~~~~~~~~~~~~~\n",
      "Energies match in sector (1, -1, -1, 1, 1), tapering successful!\n",
      "\n"
     ]
    },
    {
     "ename": "TypeError",
     "evalue": "'PauliOp' object is not iterable",
     "output_type": "error",
     "traceback": [
      "\u001b[0;31m---------------------------------------------------------------------------\u001b[0m",
      "\u001b[0;31mTypeError\u001b[0m                                 Traceback (most recent call last)",
      "\u001b[0;32m<ipython-input-24-26ffd556dbae>\u001b[0m in \u001b[0;36m<module>\u001b[0;34m()\u001b[0m\n\u001b[1;32m      2\u001b[0m \u001b[0;32mfor\u001b[0m \u001b[0mspeciesname\u001b[0m \u001b[0;32min\u001b[0m \u001b[0;34m[\u001b[0m\u001b[0;34m'O_STO-3G_SINGLET'\u001b[0m\u001b[0;34m]\u001b[0m\u001b[0;34m:\u001b[0m\u001b[0;34m\u001b[0m\u001b[0m\n\u001b[1;32m      3\u001b[0m     \u001b[0mprint\u001b[0m\u001b[0;34m(\u001b[0m\u001b[0mspeciesname\u001b[0m\u001b[0;34m)\u001b[0m\u001b[0;34m\u001b[0m\u001b[0m\n\u001b[0;32m----> 4\u001b[0;31m     \u001b[0mmolecule\u001b[0m \u001b[0;34m=\u001b[0m \u001b[0mget_molecule\u001b[0m\u001b[0;34m(\u001b[0m\u001b[0mspeciesname\u001b[0m\u001b[0;34m,\u001b[0m \u001b[0mtaper\u001b[0m\u001b[0;34m=\u001b[0m\u001b[0;32mTrue\u001b[0m\u001b[0;34m)\u001b[0m\u001b[0;34m\u001b[0m\u001b[0m\n\u001b[0m\u001b[1;32m      5\u001b[0m     \u001b[0mnum_qubits\u001b[0m  \u001b[0;34m=\u001b[0m \u001b[0mmolecule\u001b[0m\u001b[0;34m[\u001b[0m\u001b[0;34m'num_qubits'\u001b[0m\u001b[0;34m]\u001b[0m\u001b[0;34m\u001b[0m\u001b[0m\n\u001b[1;32m      6\u001b[0m     \u001b[0mham\u001b[0m         \u001b[0;34m=\u001b[0m \u001b[0mmolecule\u001b[0m\u001b[0;34m[\u001b[0m\u001b[0;34m'hamiltonian'\u001b[0m\u001b[0;34m]\u001b[0m\u001b[0;34m\u001b[0m\u001b[0m\n",
      "\u001b[0;32m/mnt/c/Users/Tim/qc_research/CS-VQE/utils/molecule_tools.py\u001b[0m in \u001b[0;36mget_molecule\u001b[0;34m(speciesname, taper)\u001b[0m\n\u001b[1;32m    155\u001b[0m         \u001b[0;32melse\u001b[0m\u001b[0;34m:\u001b[0m\u001b[0;34m\u001b[0m\u001b[0m\n\u001b[1;32m    156\u001b[0m             \u001b[0mprint\u001b[0m\u001b[0;34m(\u001b[0m\u001b[0;34m'*** sector saved, will check tapered ground state energy matches target problem ***'\u001b[0m\u001b[0;34m)\u001b[0m\u001b[0;34m\u001b[0m\u001b[0m\n\u001b[0;32m--> 157\u001b[0;31m \u001b[0;34m\u001b[0m\u001b[0m\n\u001b[0m\u001b[1;32m    158\u001b[0m     \u001b[0mmol_out\u001b[0m \u001b[0;34m=\u001b[0m \u001b[0mconstruct_molecule\u001b[0m\u001b[0;34m(\u001b[0m\u001b[0matoms\u001b[0m\u001b[0;34m,\u001b[0m \u001b[0mcoords\u001b[0m\u001b[0;34m,\u001b[0m \u001b[0mcharge\u001b[0m\u001b[0;34m,\u001b[0m \u001b[0mmultiplicity\u001b[0m\u001b[0;34m,\u001b[0m \u001b[0mbasis\u001b[0m\u001b[0;34m,\u001b[0m \u001b[0mtaper\u001b[0m\u001b[0;34m,\u001b[0m \u001b[0msym_sector\u001b[0m\u001b[0;34m)\u001b[0m\u001b[0;34m\u001b[0m\u001b[0m\n\u001b[1;32m    159\u001b[0m \u001b[0;34m\u001b[0m\u001b[0m\n",
      "\u001b[0;32m/mnt/c/Users/Tim/qc_research/CS-VQE/utils/molecule_tools.py\u001b[0m in \u001b[0;36mconstruct_molecule\u001b[0;34m(atoms, coords, charge, multiplicity, basis, taper, sym_sector)\u001b[0m\n\u001b[1;32m    129\u001b[0m         \u001b[0mnum_qubits\u001b[0m \u001b[0;34m=\u001b[0m \u001b[0mham_tap\u001b[0m\u001b[0;34m.\u001b[0m\u001b[0mnum_qubits\u001b[0m\u001b[0;34m\u001b[0m\u001b[0m\n\u001b[1;32m    130\u001b[0m         \u001b[0mham\u001b[0m \u001b[0;34m=\u001b[0m \u001b[0mqonvert\u001b[0m\u001b[0;34m.\u001b[0m\u001b[0mPauliOp_to_dict\u001b[0m\u001b[0;34m(\u001b[0m\u001b[0mham_tap\u001b[0m\u001b[0;34m)\u001b[0m\u001b[0;34m\u001b[0m\u001b[0m\n\u001b[0;32m--> 131\u001b[0;31m         \u001b[0mucc\u001b[0m \u001b[0;34m=\u001b[0m \u001b[0mqonvert\u001b[0m\u001b[0;34m.\u001b[0m\u001b[0mPauliOp_to_dict\u001b[0m\u001b[0;34m(\u001b[0m\u001b[0mucc_tap\u001b[0m\u001b[0;34m)\u001b[0m\u001b[0;34m\u001b[0m\u001b[0m\n\u001b[0m\u001b[1;32m    132\u001b[0m \u001b[0;34m\u001b[0m\u001b[0m\n\u001b[1;32m    133\u001b[0m     return {'speciesname':speciesname,\n",
      "\u001b[0;32m/mnt/c/Users/Tim/qc_research/CS-VQE/utils/qonversion_tools.py\u001b[0m in \u001b[0;36mPauliOp_to_dict\u001b[0;34m(operator)\u001b[0m\n\u001b[1;32m     95\u001b[0m \u001b[0;32mdef\u001b[0m \u001b[0mPauliOp_to_dict\u001b[0m\u001b[0;34m(\u001b[0m\u001b[0moperator\u001b[0m\u001b[0;34m)\u001b[0m\u001b[0;34m:\u001b[0m\u001b[0;34m\u001b[0m\u001b[0m\n\u001b[1;32m     96\u001b[0m     \u001b[0mop_dict\u001b[0m \u001b[0;34m=\u001b[0m \u001b[0;34m{\u001b[0m\u001b[0;34m}\u001b[0m\u001b[0;34m\u001b[0m\u001b[0m\n\u001b[0;32m---> 97\u001b[0;31m     \u001b[0;32mfor\u001b[0m \u001b[0mterm\u001b[0m \u001b[0;32min\u001b[0m \u001b[0moperator\u001b[0m\u001b[0;34m.\u001b[0m\u001b[0mto_pauli_op\u001b[0m\u001b[0;34m(\u001b[0m\u001b[0;34m)\u001b[0m\u001b[0;34m:\u001b[0m\u001b[0;34m\u001b[0m\u001b[0m\n\u001b[0m\u001b[1;32m     98\u001b[0m         \u001b[0mop_dict\u001b[0m\u001b[0;34m[\u001b[0m\u001b[0mstr\u001b[0m\u001b[0;34m(\u001b[0m\u001b[0mterm\u001b[0m\u001b[0;34m)\u001b[0m\u001b[0;34m[\u001b[0m\u001b[0mstr\u001b[0m\u001b[0;34m(\u001b[0m\u001b[0mterm\u001b[0m\u001b[0;34m)\u001b[0m\u001b[0;34m.\u001b[0m\u001b[0mindex\u001b[0m\u001b[0;34m(\u001b[0m\u001b[0;34m'*'\u001b[0m\u001b[0;34m)\u001b[0m\u001b[0;34m+\u001b[0m\u001b[0;36m2\u001b[0m\u001b[0;34m:\u001b[0m\u001b[0;34m]\u001b[0m\u001b[0;34m]\u001b[0m \u001b[0;34m=\u001b[0m \u001b[0mterm\u001b[0m\u001b[0;34m.\u001b[0m\u001b[0mcoeff\u001b[0m\u001b[0;34m\u001b[0m\u001b[0m\n\u001b[1;32m     99\u001b[0m     \u001b[0;32mreturn\u001b[0m \u001b[0mop_dict\u001b[0m\u001b[0;34m\u001b[0m\u001b[0m\n",
      "\u001b[0;31mTypeError\u001b[0m: 'PauliOp' object is not iterable"
     ]
    }
   ],
   "source": [
    "#model_data = {}\n",
    "for speciesname in ['O_STO-3G_SINGLET']:\n",
    "    print(speciesname)\n",
    "    molecule = get_molecule(speciesname, taper=True)\n",
    "    num_qubits  = molecule['num_qubits']\n",
    "    ham         = molecule['hamiltonian']\n",
    "    uccsd       = molecule['uccsdansatz']\n",
    "    hf_config   = molecule['hf_config']\n",
    "    num_tapered = molecule['num_tapered']\n",
    "    true_gs_nrg = molecule['true_gs_nrg']\n",
    "    true_gs_vec = molecule['true_gs_vec']\n",
    "    \n",
    "    for p in ham.keys():\n",
    "        ham[p] = ham[p].real    \n",
    "    for p in uccsd.keys():\n",
    "        uccsd[p] = uccsd[p].imag\n",
    "    \n",
    "    terms_noncon = greedy_dfs(ham, 10, criterion='size')[-1]\n",
    "    \n",
    "    model_data[speciesname] = {\"ham\":ham,\n",
    "                               \"uccsd\":uccsd,\n",
    "                               \"num_qubits\":num_qubits,\n",
    "                               \"hf_config\":hf_config,\n",
    "                               \"terms_noncon\":terms_noncon,\n",
    "                               \"num_tapered\":num_tapered,\n",
    "                               \"true_gs_nrg\":true_gs_nrg}\n",
    "                               #\"true_gs_vec\":true_gs_vec}"
   ]
  },
  {
   "cell_type": "code",
   "execution_count": 26,
   "metadata": {},
   "outputs": [
    {
     "data": {
      "text/plain": [
       "23"
      ]
     },
     "execution_count": 26,
     "metadata": {},
     "output_type": "execute_result"
    }
   ],
   "source": [
    "len(model_data)"
   ]
  },
  {
   "cell_type": "code",
   "execution_count": 27,
   "metadata": {},
   "outputs": [],
   "source": [
    "data={}\n",
    "for k in model_data.keys():\n",
    "    data[str(k)] = model_data[k]\n",
    "     \n",
    "with open(\"data/model_data.json\", \"w\") as outfile: \n",
    "    json.dump(data, outfile)"
   ]
  },
  {
   "cell_type": "code",
   "execution_count": 21,
   "metadata": {},
   "outputs": [
    {
     "data": {
      "text/plain": [
       "24"
      ]
     },
     "execution_count": 21,
     "metadata": {},
     "output_type": "execute_result"
    }
   ],
   "source": [
    "len(speciesname_list)"
   ]
  },
  {
   "cell_type": "code",
   "execution_count": null,
   "metadata": {},
   "outputs": [],
   "source": []
  }
 ],
 "metadata": {
  "kernelspec": {
   "display_name": "Python 3",
   "language": "python",
   "name": "python3"
  },
  "language_info": {
   "codemirror_mode": {
    "name": "ipython",
    "version": 3
   },
   "file_extension": ".py",
   "mimetype": "text/x-python",
   "name": "python",
   "nbconvert_exporter": "python",
   "pygments_lexer": "ipython3",
   "version": "3.7.0"
  }
 },
 "nbformat": 4,
 "nbformat_minor": 2
}
