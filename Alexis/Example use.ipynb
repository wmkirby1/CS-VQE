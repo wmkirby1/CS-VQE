{
 "cells": [
  {
   "cell_type": "code",
   "execution_count": 1,
   "metadata": {},
   "outputs": [],
   "source": [
    "import UCCSD_ansatz as UCCSD"
   ]
  },
  {
   "cell_type": "code",
   "execution_count": null,
   "metadata": {},
   "outputs": [],
   "source": []
  },
  {
   "cell_type": "code",
   "execution_count": 2,
   "metadata": {},
   "outputs": [],
   "source": [
    "n_electrons=2\n",
    "n_orbitals=4\n",
    "transform='JW'"
   ]
  },
  {
   "cell_type": "code",
   "execution_count": null,
   "metadata": {},
   "outputs": [],
   "source": []
  },
  {
   "cell_type": "code",
   "execution_count": 3,
   "metadata": {},
   "outputs": [
    {
     "data": {
      "text/plain": [
       "[-1.0 [0^ 2] +\n",
       " 1.0 [2^ 0],\n",
       " -1.0 [1^ 3] +\n",
       " 1.0 [3^ 1]]"
      ]
     },
     "execution_count": 3,
     "metadata": {},
     "output_type": "execute_result"
    }
   ],
   "source": [
    "ia_fermionic, theta_ia = UCCSD.Get_UCCSD_ia_terms(n_electrons, n_orbitals)\n",
    "ia_fermionic"
   ]
  },
  {
   "cell_type": "code",
   "execution_count": null,
   "metadata": {},
   "outputs": [],
   "source": []
  },
  {
   "cell_type": "code",
   "execution_count": 4,
   "metadata": {},
   "outputs": [
    {
     "data": {
      "text/plain": [
       "[-1.0 [0^ 1^ 2 3] +\n",
       " 1.0 [3^ 2^ 1 0]]"
      ]
     },
     "execution_count": 4,
     "metadata": {},
     "output_type": "execute_result"
    }
   ],
   "source": [
    "ijab_fermionic, theta_ijab = UCCSD.Get_UCCSD_ijab_terms(n_electrons, n_orbitals)\n",
    "ijab_fermionic"
   ]
  },
  {
   "cell_type": "code",
   "execution_count": null,
   "metadata": {},
   "outputs": [],
   "source": []
  },
  {
   "cell_type": "code",
   "execution_count": 10,
   "metadata": {},
   "outputs": [],
   "source": [
    "qubit_ia, qubit_ijab = UCCSD.UCCSD_single_trotter_step(transform, ia_fermionic, ijab_fermionic)"
   ]
  },
  {
   "cell_type": "markdown",
   "metadata": {},
   "source": [
    "# UCCSD Ansatz"
   ]
  },
  {
   "cell_type": "code",
   "execution_count": 11,
   "metadata": {},
   "outputs": [
    {
     "name": "stdout",
     "output_type": "stream",
     "text": [
      "exp(-0.5j [X0 Z1 Y2] +\n",
      "0.5j [Y0 Z1 X2] * theta_0)\n",
      "\n",
      "exp(-0.5j [X1 Z2 Y3] +\n",
      "0.5j [Y1 Z2 X3] * theta_1)\n",
      "\n"
     ]
    }
   ],
   "source": [
    "for i, op in enumerate(qubit_ia):\n",
    "    print('exp({} * theta_{})'.format(op,i))\n",
    "    print()"
   ]
  },
  {
   "cell_type": "code",
   "execution_count": 12,
   "metadata": {},
   "outputs": [
    {
     "name": "stdout",
     "output_type": "stream",
     "text": [
      "exp(0.125j [X0 X1 X2 Y3] +\n",
      "0.125j [X0 X1 Y2 X3] +\n",
      "-0.125j [X0 Y1 X2 X3] +\n",
      "0.125j [X0 Y1 Y2 Y3] +\n",
      "-0.125j [Y0 X1 X2 X3] +\n",
      "0.125j [Y0 X1 Y2 Y3] +\n",
      "-0.125j [Y0 Y1 X2 Y3] +\n",
      "-0.125j [Y0 Y1 Y2 X3] * theta_0)\n",
      "\n"
     ]
    }
   ],
   "source": [
    "for i, op in enumerate(qubit_ijab):\n",
    "    print('exp({} * theta_{})'.format(op,i))\n",
    "    print()"
   ]
  },
  {
   "cell_type": "code",
   "execution_count": null,
   "metadata": {},
   "outputs": [],
   "source": []
  },
  {
   "cell_type": "markdown",
   "metadata": {},
   "source": [
    "each exp operator can be split up into individual terms (as terms in exp commute!)"
   ]
  }
 ],
 "metadata": {
  "kernelspec": {
   "display_name": "Python 3",
   "language": "python",
   "name": "python3"
  },
  "language_info": {
   "codemirror_mode": {
    "name": "ipython",
    "version": 3
   },
   "file_extension": ".py",
   "mimetype": "text/x-python",
   "name": "python",
   "nbconvert_exporter": "python",
   "pygments_lexer": "ipython3",
   "version": "3.8.5"
  }
 },
 "nbformat": 4,
 "nbformat_minor": 4
}
