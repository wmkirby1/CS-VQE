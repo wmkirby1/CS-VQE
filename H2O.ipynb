{
 "cells": [
  {
   "cell_type": "code",
   "execution_count": 1,
   "metadata": {},
   "outputs": [],
   "source": [
    "import openfermion\n",
    "import openfermionpyscf\n",
    "from openfermion import MolecularData\n",
    "from openfermionpyscf import run_pyscf\n",
    "from openfermion.ops import FermionOperator, QubitOperator\n",
    "from openfermion.transforms import jordan_wigner, bravyi_kitaev\n",
    "from openfermion.transforms import get_fermion_operator\n",
    "from openfermion.circuits import (uccsd_singlet_get_packed_amplitudes,\n",
    "                               uccsd_singlet_generator, uccsd_generator,\n",
    "                               uccsd_convert_amplitude_format)\n",
    "import numpy as np\n",
    "import cs_vqe as c\n",
    "import itertools\n",
    "import qubit_conversion as q_conv\n",
    "from openfermion.linalg import LinearQubitOperator"
   ]
  },
  {
   "cell_type": "code",
   "execution_count": 2,
   "metadata": {},
   "outputs": [
    {
     "name": "stdout",
     "output_type": "stream",
     "text": [
      "H2-S1_STO-3G_singlet # qubits: 18 A terms: ['IIZZZZZZZXIIIIIIII', 'IIIIIIIIIZIIIIIIII']\n",
      "C1-O1_STO-3G_singlet # qubits: 16 A terms: ['IIZZZZZXIIIIIIII', 'IIIIIIIZIIIIIIII']\n",
      "H1-Cl1_STO-3G_singlet # qubits: 16 A terms: ['IIZZZZZXIIIIIIII', 'IIIIIIIZIIIIIIII']\n",
      "H1-Na1_STO-3G_singlet # qubits: 16 A terms: ['IIZZZZZZZXIIIIII', 'IIIIIIIIIZIIIIII']\n",
      "H2-Mg1_STO-3G_singlet # qubits: 17 A terms: ['IIIZZIIZXZZIIZZZZ', 'IIIIIIIIZIIIIIIII']\n",
      "H1-F1_3-21G_singlet # qubits: 18 A terms: ['IIIIZZZZZXZZIIIIII', 'IIZIIIIIZZIIIIIIII']\n",
      "H1-Li1_3-21G_singlet # qubits: 18 A terms: ['IIIIZZZZIIZXIIIIII', 'IIZIIIIIIIZZIIIIII']\n",
      "Be1_STO-3G_singlet # qubits: 5 A terms: ['IIIXI', 'IIIZI']\n",
      "H1-F1_STO-3G_singlet # qubits: 8 A terms: ['IIXZZZZZ', 'IIZIIIII']\n",
      "H1-Li1_STO-3G_singlet # qubits: 8 A terms: ['IIIIIXZZ', 'ZZIZIZIZ']\n",
      "Ar1_STO-3G_singlet # qubits: 13 A terms: ['IIIZZZZZXZZZZ', 'IIIIIIIIZIIII']\n",
      "F2_STO-3G_singlet # qubits: 15 A terms: ['IIIIIIIIIIIIZII', 'IIIIIIIIIIIXXYY']\n",
      "H1-O1_STO-3G_singlet # qubits: 8 A terms: ['IIXZZZZZ', 'IIZIIIII']\n",
      "H2-Be1_STO-3G_singlet # qubits: 9 A terms: ['IIIIIIXIX', 'IIIIIIIIZ']\n",
      "H2-O1_STO-3G_singlet # qubits: 10 A terms: ['IIIIZXZZZZ', 'IIIIIZIIII']\n",
      "H2_3-21G_singlet # qubits: 5 A terms: ['IZZXZ', 'ZZIZI']\n",
      "H2_6-31G_singlet # qubits: 5 A terms: ['IZZXZ', 'ZZIZI']\n",
      "H3-N1_STO-3G_singlet # qubits: 13 A terms: ['XZZZZXZIIIIII', 'IIIIIZIIIIIII']\n",
      "H4-C1_STO-3G_singlet # qubits: 14 A terms: ['IIIIIIIIIIXZZZ', 'IIIIIIIIIIZIII']\n",
      "Mg1_STO-3G_singlet # qubits: 13 A terms: ['IIIZXZZZZZZZZ', 'IIIIZIIIIIIII']\n",
      "N2_STO-3G_singlet # qubits: 15 A terms: ['IIIIIIIIIIIIIIZ', 'IIIIIIIIIIIXXYY']\n",
      "Ne1_STO-3G_singlet # qubits: 5 A terms: ['IIIXZ', 'IIIZI']\n",
      "O2_STO-3G_singlet # qubits: 15 A terms: ['IIIIIIIIIIIIZII', 'IIIIIIIIIIIXXYY']\n",
      "H1-Li1-O1_STO-3G_singlet # qubits: 18 A terms: ['IIIIIIIIIIXZZZZZZZ', 'IIIIIIIIIIZIIIIIII']\n",
      "H1-He1_STO-3G_singlet # qubits: 2 A terms: ['XZ', 'ZI']\n",
      "H3_STO-3G_singlet_1+ # qubits: 3 A terms: ['ZII', 'XXX']\n",
      "H1-He1_3-21G_singlet_1+ # qubits: 6 A terms: ['IZIIII', 'IXZXII']\n",
      "H3_3-21G_singlet_1+ # qubits: 9 A terms: ['IIXZZZZZX', 'IIZIIIIII']\n",
      "H4-N1_STO-3G_singlet_1+ # qubits: 14 A terms: ['IIIXZZZZZZZXII', 'IIIIIIIIIIIZII']\n"
     ]
    }
   ],
   "source": [
    "import ast\n",
    "import matplotlib\n",
    "import matplotlib.pyplot as plt\n",
    "\n",
    "f = open(\"hamiltonians.txt\",\"r\")\n",
    "hamiltonians = ast.literal_eval(f.read())\n",
    "f.close()\n",
    "\n",
    "for h in hamiltonians.keys():\n",
    "    print(h, '# qubits:', hamiltonians[h][1], 'A terms:', hamiltonians[h][5][3][1])"
   ]
  },
  {
   "cell_type": "code",
   "execution_count": 3,
   "metadata": {},
   "outputs": [
    {
     "name": "stdout",
     "output_type": "stream",
     "text": [
      "number of qubits: 10\n",
      "true ground state energy: -83.92870248174707\n",
      "noncontextual approximation to ground state energy: -83.87422390061549\n"
     ]
    }
   ],
   "source": [
    "speciesname = 'H2-O1_STO-3G_singlet'\n",
    "\n",
    "encoding = hamiltonians[speciesname][0] # in this dataset, always 'JW' for Jordan-Wigner, but leaves room for trying Bravyi-Kitaev as well\n",
    "num_qubits = hamiltonians[speciesname][1] # number of qubits (all of these Hamiltonians have been tapered for molecular symmetries)\n",
    "ham = hamiltonians[speciesname][2] # full Hamiltonian\n",
    "ham_noncon = hamiltonians[speciesname][3] # noncontextual part of Hamiltonian, found by greedy DFS\n",
    "true_gs = hamiltonians[speciesname][4] # ground state energy of full Hamiltonian (in Hartree)\n",
    "gs_noncon = hamiltonians[speciesname][5] # list containing information about noncontextual ground state: zeroth entry is ground state energy of noncontextual part of Hamiltonian\n",
    "\n",
    "print('number of qubits:', num_qubits)\n",
    "print('true ground state energy:', true_gs)\n",
    "print('noncontextual approximation to ground state energy:', gs_noncon[0])\n",
    "#print(ham_noncon)"
   ]
  },
  {
   "cell_type": "code",
   "execution_count": 4,
   "metadata": {},
   "outputs": [
    {
     "name": "stdout",
     "output_type": "stream",
     "text": [
      "[-83.92870248174707, [-83.8742239006154, -83.87753476380222, -83.89065311104855, -83.89785356785998, -83.91205889216378, -83.91813131301465, -83.92761703951228, -83.928628377509, -83.9286535410288, -83.92870248174643, -83.92870248174607], [0.054478581131661485, 0.051167717944849755, 0.03804937069851633, 0.030848913887083995, 0.016643589583281937, 0.010571168732411707, 0.0010854422347819082, 7.410423806675226e-05, 4.894071827266089e-05, 6.394884621840902e-13, 9.947598300641403e-13], [4, 0, 3, 2, 6, 5, 1, 7, 8, 9]]\n"
     ]
    }
   ],
   "source": [
    "model = c.quasi_model(ham_noncon)\n",
    "fn_form = c.energy_function_form(ham_noncon, model)\n",
    "gs_noncon = c.find_gs_noncon(ham_noncon)\n",
    "gs_noncon_energy = gs_noncon[0]\n",
    "ep_state = gs_noncon[1]\n",
    "ham_context = {p:c for p,c in ham.items() if p not in ham_noncon}\n",
    "print(c.csvqe_approximations_heuristic(ham, ham_noncon, num_qubits, true_gs))\n",
    "#c.contextualQ_ham(ham_context)"
   ]
  },
  {
   "cell_type": "code",
   "execution_count": 5,
   "metadata": {},
   "outputs": [
    {
     "name": "stdout",
     "output_type": "stream",
     "text": [
      "commuting generators: ['ZIIIIIIIII', 'IZIIIIIIII', 'IIZIIIIIII', 'IIIZIIIIII', 'IIIIZIIIII', 'IIIIIIZIII', 'IIIIIIIZII', 'IIIIIIIIZI', 'IIIIIIIIIZ'] \n",
      "\n",
      "anticommuting generators: ['IIIIZXZZZZ', 'IIIIIZIIII'] \n",
      "\n",
      "Minimising configuration: [[1, -1, -1, -1, -1, -1, -1, -1, -1], [9.576858245891391e-08, -0.9999999999999954]]\n"
     ]
    }
   ],
   "source": [
    "print('commuting generators:',model[0], '\\n')\n",
    "print('anticommuting generators:',model[1], '\\n')\n",
    "print('Minimising configuration:', gs_noncon[1])\n",
    "#print('term reconstruction:',model[2], '\\n')"
   ]
  },
  {
   "cell_type": "code",
   "execution_count": 6,
   "metadata": {},
   "outputs": [
    {
     "data": {
      "text/plain": [
       "{'IIIIZXZZZZ': 9.576858245891391e-08, 'IIIIIZIIII': -0.9999999999999954}"
      ]
     },
     "execution_count": 6,
     "metadata": {},
     "output_type": "execute_result"
    }
   ],
   "source": [
    "A = {p:ep_state[1][index] for index, p in enumerate(model[1])}\n",
    "A"
   ]
  },
  {
   "cell_type": "code",
   "execution_count": 7,
   "metadata": {},
   "outputs": [],
   "source": [
    "def ontic_prob(ep_state, ontic_state):\n",
    "    \n",
    "    if ep_state[0] != ontic_state[0]:\n",
    "        return 0\n",
    "    \n",
    "    else:\n",
    "        prod = 1\n",
    "        for index, r in enumerate(ep_state[1]):\n",
    "            f = 1/2 * abs(r + ontic_state[1][index])\n",
    "            prod *= f\n",
    "        \n",
    "        return prod    \n",
    "\n",
    "def epistemic_dist(ep_state):\n",
    "    size_G = len(ep_state[0])\n",
    "    size_Ci = len(ep_state[1])\n",
    "    size_R = size_G + size_Ci\n",
    "    \n",
    "    ep_prob = {}\n",
    "    \n",
    "    ontic_states = list(itertools.product([1, -1], repeat=size_R))\n",
    "    \n",
    "    for o in ontic_states:\n",
    "        o_state = [list(o[0:size_G]), list(o[size_G:size_R])]\n",
    "        o_prob = ontic_prob(ep_state, o_state)\n",
    "        \n",
    "        if o_prob != 0:\n",
    "            ep_prob[o] = o_prob\n",
    "    \n",
    "    return ep_prob"
   ]
  },
  {
   "cell_type": "code",
   "execution_count": 8,
   "metadata": {},
   "outputs": [
    {
     "data": {
      "text/plain": [
       "{(1, -1, -1, -1, -1, -1, -1, -1, -1, 1, 1): 1.1379787092233828e-15,\n",
       " (1, -1, -1, -1, -1, -1, -1, -1, -1, 1, -1): 0.5000000478842901,\n",
       " (1, -1, -1, -1, -1, -1, -1, -1, -1, -1, 1): 1.137978491258188e-15,\n",
       " (1, -1, -1, -1, -1, -1, -1, -1, -1, -1, -1): 0.49999995211570764}"
      ]
     },
     "execution_count": 8,
     "metadata": {},
     "output_type": "execute_result"
    }
   ],
   "source": [
    "epistemic_dist(ep_state)"
   ]
  },
  {
   "cell_type": "code",
   "execution_count": 9,
   "metadata": {},
   "outputs": [
    {
     "data": {
      "text/plain": [
       "(9.576858245891391e-08, -0.9999999999999954)"
      ]
     },
     "execution_count": 9,
     "metadata": {},
     "output_type": "execute_result"
    }
   ],
   "source": [
    "r1 = ep_state[1][0]\n",
    "r2 = ep_state[1][1]\n",
    "#t = np.arctan((r2 + 1) / r1)\n",
    "r1, r2"
   ]
  },
  {
   "cell_type": "code",
   "execution_count": 10,
   "metadata": {},
   "outputs": [
    {
     "data": {
      "text/plain": [
       "['ZIIIIIIIII',\n",
       " 'IZIIIIIIII',\n",
       " 'IIZIIIIIII',\n",
       " 'IIIZIIIIII',\n",
       " 'IIIIZIIIII',\n",
       " 'IIIIIIZIII',\n",
       " 'IIIIIIIZII',\n",
       " 'IIIIIIIIZI',\n",
       " 'IIIIIIIIIZ']"
      ]
     },
     "execution_count": 10,
     "metadata": {},
     "output_type": "execute_result"
    }
   ],
   "source": [
    "generators = model[0]\n",
    "\n",
    "generators"
   ]
  },
  {
   "cell_type": "code",
   "execution_count": 73,
   "metadata": {},
   "outputs": [],
   "source": [
    "import itertools\n",
    "from itertools import chain, combinations\n",
    "from copy import deepcopy\n",
    "import math\n",
    "\n",
    "def bin_to_int(bits):\n",
    "    bit_string = deepcopy(bits)\n",
    "    \n",
    "    if type(bit_string) == str:\n",
    "        bit_string = [int(b) for b in bit_string]\n",
    "        \n",
    "    for index, b in enumerate(bit_string):\n",
    "        bit_string[index] = b * 2 ** (len(bit_string)-index-1)\n",
    "    \n",
    "    return sum(bit_string)\n",
    "\n",
    "\n",
    "def int_to_bin(integer, num_qubits):\n",
    "    if integer >= 2**num_qubits:\n",
    "        raise ValueError('Input integer larger than specified number of bits.')\n",
    "    bin_str=bin(integer)[2:]\n",
    "    leading_0 = ''.join(['0' for i in range(num_qubits-len(bin_str))])\n",
    "    return leading_0 + bin_str\n",
    "\n",
    "\n",
    "def A_action(molecule, num_qubits, basis_index):\n",
    "    \"\"\"This will be computed programmatically from A operator in the future***\n",
    "    \"\"\"\n",
    "    B = list(itertools.product([0,1], repeat=num_qubits))\n",
    "    b1 = list(B[basis_index])\n",
    "    b2 = deepcopy(b1)\n",
    "    i1 = bin_to_int(b1)\n",
    "    \n",
    "    if molecule == 'H2O':\n",
    "        b2[5] = (b2[5]+1)%2\n",
    "        i2 = bin_to_int(b2)\n",
    "        parity = b1[9]+b1[8]+b1[7]+b1[6]+b1[4]\n",
    "        Z_loc  = b1[5]\n",
    "        \n",
    "    elif molecule == 'HeH+':\n",
    "        b2[0] = (b2[0]+1)%2\n",
    "        b2[6] = (b2[6]+1)%2\n",
    "        i2 = bin_to_int(b2)\n",
    "        parity = sum(b1)\n",
    "        Z_loc  = b1[6]\n",
    "        \n",
    "    else:\n",
    "        raise ValueError('Molecule is not recognised.')\n",
    "    \n",
    "    return i1, i2, parity, Z_loc\n",
    "\n",
    "\n",
    "def add_eigenstate(molecule, r1, r2, index, num_qubits, theta=0, custom_amp=None):\n",
    "    \"\"\"\n",
    "    \"\"\"\n",
    "    i1, i2, parity, Z_loc = A_action(molecule, num_qubits, index)\n",
    "    amp_ratio = (1 + r2 * (-1)**Z_loc) / (r1 * (-1)**(parity))\n",
    "    t = np.arctan(amp_ratio)\n",
    "    #print(q4, t)\n",
    "    #print(i1, ':', np.sin(t), i2, ':', np.cos(t))\n",
    "    psi = [0 for i in range(2**num_qubits)]\n",
    "    \n",
    "    if custom_amp is None:   \n",
    "        psi[i1] = np.sin(t)*np.exp(1j*theta)\n",
    "        psi[i2] = np.cos(t)*np.exp(1j*theta)\n",
    "    else:\n",
    "        psi[i1] = custom_amp[0]\n",
    "        psi[i2] = custom_amp[1]\n",
    "        \n",
    "    return np.array(psi)\n",
    "\n",
    "\n",
    "def expectation(op, state):\n",
    "    state = np.array(state)\n",
    "    conj_state = np.conjugate(state)\n",
    "    O = LinearQubitOperator(op, num_qubits)\n",
    "    \n",
    "    O_state = O.matvec(state)\n",
    "    expect = conj_state.dot(O_state)\n",
    "    \n",
    "    return expect\n",
    "\n",
    "\n",
    "def discard_generator(ham_noncon, ham_context, generators):\n",
    "    new_ham_noncon = deepcopy(ham_noncon)\n",
    "    new_ham_context = deepcopy(ham_context)\n",
    "    \n",
    "    Z_indices = [g.index('Z') for g in generators]\n",
    "    removed=[]\n",
    "    \n",
    "    for index in Z_indices:\n",
    "        for p in ham_noncon:\n",
    "            if p not in removed:\n",
    "                if p[index] == 'Z':\n",
    "                    new_ham_context[p] = ham_noncon[p]\n",
    "                    del new_ham_noncon[p]\n",
    "                    removed.append(p)\n",
    "            \n",
    "    return new_ham_noncon, new_ham_context\n",
    "\n",
    "\n",
    "def rotate_operator(rotations, op):\n",
    "    rot_op = {}\n",
    "    \n",
    "    for p in op.keys():\n",
    "        p_ref = deepcopy(p)\n",
    "        parity = 1\n",
    "        coeff = op[p]\n",
    "        for r in rotations:\n",
    "            rotate_p = c.apply_rotation(r, p)\n",
    "            p = list(rotate_p.keys())[0]\n",
    "            parity *= rotate_p[p]\n",
    "        \n",
    "        rot_op[p] = parity * coeff\n",
    "        \n",
    "    return rot_op\n",
    "\n",
    "def rotate_hamiltonian(rotations, ham, ham_noncon, ham_context):\n",
    "    \n",
    "    rot_ham={}\n",
    "    rot_ham_noncon={}\n",
    "    rot_ham_context={}\n",
    "\n",
    "    for p in ham.keys():\n",
    "        p_ref = deepcopy(p)\n",
    "        parity = 1\n",
    "        coeff = ham[p]\n",
    "        for r in rotations:\n",
    "            rotate_p = c.apply_rotation(r, p)\n",
    "            p = list(rotate_p.keys())[0]\n",
    "            parity *= rotate_p[p]\n",
    "        \n",
    "        rot_ham[p] = parity * coeff\n",
    "        if p_ref in ham_noncon.keys():\n",
    "            rot_ham_noncon[p] = parity * coeff\n",
    "        else:\n",
    "            rot_ham_context[p] = parity * coeff\n",
    "            \n",
    "    return rot_ham, rot_ham_noncon, rot_ham_context\n",
    "\n",
    "\n",
    "def rotate_state(rotations, state):\n",
    "    \n",
    "    rot_state = deepcopy(state)\n",
    "    \n",
    "    for r in rotations:\n",
    "        r_op = QubitOperator('', 1/np.sqrt(2)) - q_conv.dict_to_QubitOperator({r[1]: 1/np.sqrt(2)*1j}, num_qubits)\n",
    "        r_op = LinearQubitOperator(r_op, num_qubits)\n",
    "        rot_state = r_op.matvec(rot_state)\n",
    "        \n",
    "    return rot_state\n",
    "\n",
    "\n",
    "def powerset(iterable):\n",
    "    s = list(iterable)\n",
    "    return chain.from_iterable(combinations(s, r) for r in range(len(s)+1))\n",
    "\n",
    "\n",
    "def qubit_map(molecule, num_qubits):\n",
    "    qubit_map={}\n",
    "    B = list(itertools.product([0,1], repeat=num_qubits))\n",
    "    for i in range(2**(num_qubits)):\n",
    "        b1 = list(B[i])\n",
    "        b2 = A_action(molecule, b1)\n",
    "        i1 = bin_to_int(b1)\n",
    "        i2 = bin_to_int(b2)\n",
    "        qubit_map[i1] = [(i1, b1), (i2, b2)]\n",
    "    return qubit_map\n",
    "\n",
    "\n",
    "def find_eigenstate_indices(initial, removed_Z_indices, include_complement=False, num_qubits = None, molecule=None):\n",
    "    indices = []\n",
    "    index_powerset = list(powerset(removed_Z_indices))\n",
    "    \n",
    "    for comb in index_powerset:\n",
    "        initial_ref = list(deepcopy(initial))\n",
    "        for c in comb:\n",
    "            initial_ref[c] = str((int(initial_ref[c])+1)%2)\n",
    "        indices.append(bin_to_int(''.join(initial_ref)))\n",
    "    \n",
    "    # Complement is simply the negative state, so is the same eigenvector\n",
    "    if include_complement:\n",
    "        indices_ref = deepcopy(indices)\n",
    "        for i in indices_ref:\n",
    "            maps_to = A_action(molecule, num_qubits, basis_index=i)[1]\n",
    "            indices.append(maps_to)\n",
    "            \n",
    "    return indices\n",
    "\n",
    "\n",
    "def random_vector(n):\n",
    "    components = [np.random.normal() for i in range(n)]\n",
    "    r = math.sqrt(sum(x*x for x in components))\n",
    "    v = [x/r for x in components]\n",
    "    return v\n",
    "\n",
    "\n",
    "def random_complex_unit():\n",
    "        rand_vec = random_vector(2)\n",
    "        x = rand_vec[0]\n",
    "        y = rand_vec[1]\n",
    "        \n",
    "        return x + y*1j\n",
    "    \n",
    "def expectation_optimiser(molecule, ham_n, ham_c, amps, initial_state, Z_indices, num_qubits, rotations=None, include_complement = False):\n",
    "    eigenstate_indices = find_eigenstate_indices(initial_state, Z_indices, include_complement, num_qubits, molecule)\n",
    "    \n",
    "    psi = np.array([0 for i in range(2**num_qubits)], dtype=complex)\n",
    "    for index, i in enumerate(eigenstate_indices):\n",
    "        psi += (amps[index])*add_eigenstate(molecule=molecule, r1=r1, r2=r2, theta=0, index=i, num_qubits=num_qubits)\n",
    "    \n",
    "    if rotations is not None:\n",
    "        psi = rotate_state(rotations, psi)\n",
    "    \n",
    "    expect_noncon = expectation(ham_n, psi)\n",
    "    expect_context = expectation(ham_c, psi)\n",
    "    \n",
    "    return expect_noncon, expect_context"
   ]
  },
  {
   "cell_type": "code",
   "execution_count": 71,
   "metadata": {},
   "outputs": [
    {
     "data": {
      "text/plain": [
       "['ZIIIIIIIII',\n",
       " 'IZIIIIIIII',\n",
       " 'IIZIIIIIII',\n",
       " 'IIIZIIIIII',\n",
       " 'IIIIZIIIII',\n",
       " 'IIIIIIZIII',\n",
       " 'IIIIIIIZII',\n",
       " 'IIIIIIIIZI',\n",
       " 'IIIIIIIIIZ']"
      ]
     },
     "execution_count": 71,
     "metadata": {},
     "output_type": "execute_result"
    }
   ],
   "source": [
    "generators"
   ]
  },
  {
   "cell_type": "code",
   "execution_count": 72,
   "metadata": {},
   "outputs": [
    {
     "name": "stdout",
     "output_type": "stream",
     "text": [
      "['IIIIIIIIIZ', 'IIIIIIIIZI', 'IIIIIIIZII', 'IIIIIIZIII', 'IIIIZIIIII', 'IIIZIIIIII', 'IIZIIIIIII', 'IZIIIIIIII', 'ZIIIIIIIII'] [9, 8, 7, 6, 4, 3, 2, 1, 0]\n"
     ]
    },
    {
     "ename": "TypeError",
     "evalue": "expectation_optimiser() missing 1 required positional argument: 'include_complement'",
     "output_type": "error",
     "traceback": [
      "\u001b[0;31m---------------------------------------------------------------------------\u001b[0m",
      "\u001b[0;31mTypeError\u001b[0m                                 Traceback (most recent call last)",
      "\u001b[0;32m<ipython-input-72-5521182c6859>\u001b[0m in \u001b[0;36m<module>\u001b[0;34m()\u001b[0m\n\u001b[1;32m     48\u001b[0m         expect_noncon, expect_context = expectation_optimiser(molecule=molecule, ham_n=new_ham_noncon_q, ham_c=new_ham_context_q, \n\u001b[1;32m     49\u001b[0m                                                               \u001b[0mamps\u001b[0m\u001b[0;34m=\u001b[0m\u001b[0mamps\u001b[0m\u001b[0;34m,\u001b[0m \u001b[0minitial_state\u001b[0m\u001b[0;34m=\u001b[0m\u001b[0minitial_state\u001b[0m\u001b[0;34m,\u001b[0m\u001b[0mnum_qubits\u001b[0m\u001b[0;34m=\u001b[0m\u001b[0mnum_qubits\u001b[0m\u001b[0;34m,\u001b[0m\u001b[0;34m\u001b[0m\u001b[0m\n\u001b[0;32m---> 50\u001b[0;31m                                                               Z_indices=Z_indices)\n\u001b[0m\u001b[1;32m     51\u001b[0m \u001b[0;34m\u001b[0m\u001b[0m\n\u001b[1;32m     52\u001b[0m         \u001b[0;31m#Y_full.append(expect_full)\u001b[0m\u001b[0;34m\u001b[0m\u001b[0;34m\u001b[0m\u001b[0m\n",
      "\u001b[0;31mTypeError\u001b[0m: expectation_optimiser() missing 1 required positional argument: 'include_complement'"
     ]
    },
    {
     "data": {
      "image/png": "[encoded data removed]",
      "text/plain": [
       "<Figure size 1728x936 with 10 Axes>"
      ]
     },
     "metadata": {
      "needs_background": "light"
     },
     "output_type": "display_data"
    }
   ],
   "source": [
    "#take expectation value algebraically\n",
    "from matplotlib import pyplot as plt\n",
    "molecule='H2O'\n",
    "shots=2\n",
    "initial_state = '0111101111'\n",
    "\n",
    "#rot_ham, rot_ham_noncon, rot_ham_context = rotate_hamiltonian(rotations, ham, ham_noncon, ham_context)\n",
    "\n",
    "fig, axs = plt.subplots(nrows = 2, ncols = 5, figsize = (24,13))\n",
    "grid_pos = [(0,0),(0,1),(0,2),(0,3),(0,4),(1,0),(1,1),(1,2),(1,3),(1,4)]\n",
    "grid_pos.reverse()\n",
    "\n",
    "X=list(range(1, shots+1))\n",
    "\n",
    "for index, grid in enumerate(grid_pos):\n",
    "    \n",
    "    removed_index = list(range(index, 9))\n",
    "    removed_index.reverse()\n",
    "    removed_generators = [generators[i] for i in removed_index]\n",
    "    Z_indices = [g.find('Z') for g in removed_generators]\n",
    "    print(removed_generators, Z_indices)\n",
    "    \n",
    "    new_ham_noncon, new_ham_context = discard_generator(ham_noncon, ham_context, removed_generators)\n",
    "\n",
    "    #rot_ham_q = q_conv.dict_to_QubitOperator(ham, num_qubits)\n",
    "    new_ham_noncon_q = q_conv.dict_to_QubitOperator(new_ham_noncon, num_qubits)\n",
    "    new_ham_context_q = q_conv.dict_to_QubitOperator(new_ham_context, num_qubits)\n",
    "\n",
    "    eigenstate_indices = sorted(find_eigenstate_indices(initial_state, Z_indices, num_qubits = num_qubits, molecule='H2O'))\n",
    "    \n",
    "    random_amplitudes=[]\n",
    "    for i in range(shots):  \n",
    "        rand_vec = random_vector(len(eigenstate_indices))\n",
    "        rand_vec = sorted([random_complex_unit()*c for c in rand_vec], key=abs)\n",
    "        rand_vec.reverse()\n",
    "        random_amplitudes.append(rand_vec)\n",
    "\n",
    "    #amps=[random_vector(len(eigenstate_indices)) for i in range(shots)]\n",
    "    Y_noncon=[]\n",
    "    Y_context=[]\n",
    "    Y_combined=[]\n",
    "    Y_full=[]\n",
    "\n",
    "    #A_op = QubitOperator('Y0 Z1 Z2 Z3 Z4 Z5 Y6 Z7', r1) + QubitOperator('Z6', r2)\n",
    "    #A = LinearQubitOperator(A_op, num_qubits)\n",
    "\n",
    "    for amps in random_amplitudes:\n",
    "        expect_noncon, expect_context = expectation_optimiser(molecule=molecule, ham_n=new_ham_noncon_q, ham_c=new_ham_context_q, \n",
    "                                                              amps=amps, initial_state=initial_state,num_qubits=num_qubits,\n",
    "                                                              Z_indices=Z_indices)\n",
    "\n",
    "        #Y_full.append(expect_full)\n",
    "        Y_noncon.append(expect_noncon)\n",
    "        Y_context.append(expect_context)\n",
    "        Y_combined.append(expect_noncon+expect_context)\n",
    "\n",
    "        #print(p, expect_noncon + expect_context < gs_noncon_energy)\n",
    "        #print((np.conjugate(psi)).dot(psi))\n",
    "        #Verify +1-eigenstate\n",
    "        #A_psi = A.matvec(psi)\n",
    "        #print(psi_conj.dot(A_psi))\n",
    "    \n",
    "    axs[grid].plot(X, Y_noncon, color='orange')\n",
    "    #axs[grid].scatter(X, Y_context, color='blue', marker = 'x')\n",
    "    #axs[grid].plot(X, Y_context, color='blue', ls='--')\n",
    "    axs[grid].scatter(X, Y_combined, color='black', marker = 'x')\n",
    "    axs[grid].plot(X, Y_combined, color='black', ls='--')\n",
    "    #plt.plot(range(shots), Y_combined, color='purple')\n",
    "    axs[grid].hlines(gs_noncon_energy, 1, shots, color='r')\n",
    "    axs[grid].hlines(true_gs, 1, shots, color='g')\n",
    "    \n",
    "    axs[grid].set_xticks(X)\n",
    "    axs[grid].set_title(\"%i generators removed\" % abs(index-9))\n",
    "    if grid[0] == 1:\n",
    "        axs[grid].set_xlabel('Sample Number',fontsize=16)\n",
    "    if grid[1] == 0:\n",
    "        axs[grid].set_ylabel('Energy (Ha)',fontsize=18)\n",
    "    #print('<H> w.r.t. simultaneous eigenstate:', expect)\n",
    "    #print('Noncontextual approximation:', gs_noncon_energy)\n",
    "    #print('Expectation values match?', abs(expect - gs_noncon_energy) < 10**-12) #sanity check - expectation values match? "
   ]
  },
  {
   "cell_type": "code",
   "execution_count": 16,
   "metadata": {},
   "outputs": [],
   "source": [
    "#fig.savefig(\"H2O-generator-removal-energies-ordered-random-amplitudes.png\", dpi=300)"
   ]
  },
  {
   "cell_type": "code",
   "execution_count": 69,
   "metadata": {},
   "outputs": [
    {
     "name": "stdout",
     "output_type": "stream",
     "text": [
      "0.0 <H> w.r.t. simultaneous eigenstate: (-83.87422390061549+0j)\n",
      "Noncontextual approximation: -83.87422390061549\n",
      "Expectation values match? True\n"
     ]
    }
   ],
   "source": [
    "from openfermion.linalg import LinearQubitOperator\n",
    "\n",
    "ham_q = q_conv.dict_to_QubitOperator(ham, num_qubits)\n",
    "ham_noncon_q = q_conv.dict_to_QubitOperator(ham_noncon, num_qubits)\n",
    "ham_context_q = q_conv.dict_to_QubitOperator(ham_context, num_qubits)\n",
    "\n",
    "#take expectation value algebraically\n",
    "\n",
    "for p in np.linspace(0, 1, 1):\n",
    "    psi = add_eigenstate(molecule='H2O', r1=r1, r2=r2, index=495, theta=0, num_qubits=num_qubits)\n",
    "    expect = expectation(ham_q, psi)\n",
    "    \n",
    "    print('<H> w.r.t. simultaneous eigenstate:', expect)\n",
    "    print('Noncontextual approximation:', gs_noncon_energy)\n",
    "    print('Expectation values match?', abs(expect - gs_noncon_energy) < 10**-12) #sanity check - expectation values match?"
   ]
  },
  {
   "cell_type": "code",
   "execution_count": 54,
   "metadata": {},
   "outputs": [],
   "source": [
    "test_495 = list(add_eigenstate(molecule='H2O', r1=r1, r2=r2, index=1007, theta=0, num_qubits=num_qubits))\n",
    "test_511 = list(add_eigenstate(molecule='H2O', r1=r1, r2=r2, index=1023, theta=0, num_qubits=num_qubits))"
   ]
  },
  {
   "cell_type": "code",
   "execution_count": 43,
   "metadata": {},
   "outputs": [
    {
     "data": {
      "text/plain": [
       "[495, 1007, 463, 975, 511, 1023, 479, 991]"
      ]
     },
     "execution_count": 43,
     "metadata": {},
     "output_type": "execute_result"
    }
   ],
   "source": [
    "find_eigenstate_indices(initial_state, [0,4], include_complement=True, num_qubits=num_qubits, molecule='H2O')"
   ]
  },
  {
   "cell_type": "code",
   "execution_count": 32,
   "metadata": {},
   "outputs": [
    {
     "data": {
      "text/plain": [
       "['ZIIIIIIIII',\n",
       " 'IZIIIIIIII',\n",
       " 'IIZIIIIIII',\n",
       " 'IIIZIIIIII',\n",
       " 'IIIIZIIIII',\n",
       " 'IIIIIIZIII',\n",
       " 'IIIIIIIZII',\n",
       " 'IIIIIIIIZI',\n",
       " 'IIIIIIIIIZ']"
      ]
     },
     "execution_count": 32,
     "metadata": {},
     "output_type": "execute_result"
    }
   ],
   "source": [
    "generators"
   ]
  },
  {
   "cell_type": "code",
   "execution_count": 33,
   "metadata": {
    "scrolled": true
   },
   "outputs": [
    {
     "name": "stdout",
     "output_type": "stream",
     "text": [
      "['ZIIIIIIIII', 'IIIZIIIIII', 'IIIIZIIIII'] [0, 3, 4]\n",
      "[495, 1007, 431, 463, 943, 975, 399, 911]\n",
      "(-83.87408957812951+0j) False [0.9999949999875, -0.0007301346936698292, -0.0009842163670074407, 0.0008771712052133954, 0.0024344637324038732, -0.0002821249365109868, -0.0007657758129013601, -0.001065913415291055]\n",
      "(-83.87416393341283+0j) False [0.9999949999875, -0.0005777366107283287, 0.0012862920039343588, -0.0007872573192609854, 0.0007011471498967198, -0.0009404029033833664, 0.0022625649510478276, 0.0009469604523172823]\n",
      "(-83.87447167092706+0j) True [0.9999949999875, 0.00033465635145540673, 3.7344363250167833e-06, -0.0009922077230430184, -0.00042763005626373106, 0.002564278938790572, -0.0011643757561682257, 0.0008884538098330257]\n",
      "(-83.8741137799763+0j) False [0.9999949999875, -0.0011946821993961104, 0.0010879183192017768, 0.00036452818521485347, -0.0007946029975821533, -0.0025120761349290647, 0.0004861419169090327, -0.00027934383921437853]\n",
      "(-83.87453099623562+0j) True [0.9999949999875, 0.0014713390276347772, 5.769214520860317e-05, 0.0008321329345054805, -0.0018744142328854256, -0.0007123527836182979, -0.0011840781087204598, 0.0013101418583812009]\n",
      "(-83.87445081218043+0j) True [0.9999949999875, 0.0011588610139101278, -5.533336287805741e-05, 0.0002951492413229755, 0.0008693198023124443, -0.002158379120508633, -0.0017008312052437058, 0.0005096294334335807]\n",
      "(-83.87464609438054+0j) True [0.9999949999875, 0.0007842596554623834, 8.146715018966608e-06, -0.00021644293063264705, -0.0013268860661623874, -0.0015836789723329425, -0.0010424862338721378, 0.001995640151375926]\n",
      "(-83.87394575289174+0j) False [0.9999949999875, 0.0006222436967233561, -0.00042745080751210163, -0.0004369239028941336, 0.0015346992118832942, -0.0022242619374456367, 0.00033113736014500985, -0.0013516291294105507]\n",
      "(-83.87415078273979+0j) False [0.9999949999875, 0.0023868598322285784, -0.000302434207792852, 0.001351065260211527, 0.0006561371702209219, 0.0009745517145680218, 0.0009506148343538161, 0.00031956338971790126]\n",
      "(-83.87432664160019+0j) True [0.9999949999875, 0.0011262866670574546, -0.0016120656753126933, -0.001212355149581931, -0.0017666095195239767, -0.0005930013781075322, 0.0004788715103231572, 0.0009803263951432455]\n"
     ]
    },
    {
     "name": "stderr",
     "output_type": "stream",
     "text": [
      "/home/tim/anaconda3/lib/python3.7/site-packages/numpy/core/_asarray.py:171: ComplexWarning: Casting complex values to real discards the imaginary part\n",
      "  return array(a, dtype, copy=False, order=order, subok=True)\n",
      "/home/tim/anaconda3/lib/python3.7/site-packages/numpy/core/_asarray.py:102: ComplexWarning: Casting complex values to real discards the imaginary part\n",
      "  return array(a, dtype, copy=False, order=order)\n"
     ]
    },
    {
     "data": {
      "text/plain": [
       "<matplotlib.collections.LineCollection at 0x7f354fb9c0b8>"
      ]
     },
     "execution_count": 33,
     "metadata": {},
     "output_type": "execute_result"
    },
    {
     "data": {
      "image/png": "[encoded data removed]",
      "text/plain": [
       "<Figure size 432x288 with 1 Axes>"
      ]
     },
     "metadata": {
      "needs_background": "light"
     },
     "output_type": "display_data"
    }
   ],
   "source": [
    "#take expectation value algebraically\n",
    "from matplotlib import pyplot as plt\n",
    "shots=10\n",
    "initial_state = '0111101111'\n",
    "\n",
    "removed_index = [0, 3, 4]\n",
    "removed_generators = [generators[i] for i in removed_index]\n",
    "Z_indices = [g.find('Z') for g in removed_generators]\n",
    "print(removed_generators, Z_indices)\n",
    "\n",
    "\n",
    "new_ham_noncon, new_ham_context = discard_generator(ham_noncon, ham_context, removed_generators)\n",
    "new_ham_noncon_q = q_conv.dict_to_QubitOperator(new_ham_noncon, num_qubits)\n",
    "new_ham_context_q = q_conv.dict_to_QubitOperator(new_ham_context, num_qubits)\n",
    "\n",
    "eigenstate_indices = find_eigenstate_indices(initial_state, Z_indices)\n",
    "print(eigenstate_indices)\n",
    "\n",
    "prob=0.99999\n",
    "amps=[]\n",
    "for i in range(shots):\n",
    "    amp_1 = [np.sqrt(prob)]\n",
    "    amp_rest = [np.sqrt(1-prob)*a for a in random_vector(len(eigenstate_indices)-1)]\n",
    "    amp_1 += amp_rest\n",
    "    amps.append(amp_1)\n",
    "\n",
    "X=list(range(1, shots+1))\n",
    "Y_noncon=[]\n",
    "Y_context=[]\n",
    "Y_combined=[]\n",
    "Y_full=[]\n",
    "\n",
    "#A_op = QubitOperator('Y0 Z1 Z2 Z3 Z4 Z5 Y6 Z7', r1) + QubitOperator('Z6', r2)\n",
    "#A = LinearQubitOperator(A_op, num_qubits)\n",
    "\n",
    "for p in amps:\n",
    "    expect_noncon, expect_context = expectation_optimiser(ham_n=new_ham_noncon_q, ham_c=new_ham_context_q, amps=p,\n",
    "                                                          initial_state=initial_state,num_qubits=num_qubits,Z_indices=Z_indices)\n",
    "    total = expect_noncon + expect_context\n",
    "    #Y_full.append(expect_full)\n",
    "    Y_noncon.append(expect_noncon)\n",
    "    Y_context.append(expect_context)\n",
    "    Y_combined.append(total)\n",
    "    print(total, total < gs_noncon_energy, p)\n",
    "\n",
    "#plt.plot(X, Y_noncon, color='orange')\n",
    "#plt.scatter(X, Y_context, color='blue', marker = 'x')\n",
    "#plt.plot(X, Y_context, color='blue', ls='--')\n",
    "plt.scatter(X, Y_combined, color='black', marker = 'x')\n",
    "plt.plot(X, Y_combined, color='black', ls='--')\n",
    "plt.hlines(gs_noncon_energy, 1, shots, color='r')\n",
    "#plt.hlines(true_gs, 1, shots, color='g')"
   ]
  },
  {
   "cell_type": "code",
   "execution_count": 34,
   "metadata": {},
   "outputs": [
    {
     "name": "stderr",
     "output_type": "stream",
     "text": [
      "/home/tim/anaconda3/lib/python3.7/site-packages/numpy/core/_asarray.py:171: ComplexWarning: Casting complex values to real discards the imaginary part\n",
      "  return array(a, dtype, copy=False, order=order, subok=True)\n",
      "/home/tim/anaconda3/lib/python3.7/site-packages/numpy/core/_asarray.py:102: ComplexWarning: Casting complex values to real discards the imaginary part\n",
      "  return array(a, dtype, copy=False, order=order)\n"
     ]
    },
    {
     "data": {
      "image/png": "[encoded data removed]",
      "text/plain": [
       "<Figure size 432x288 with 1 Axes>"
      ]
     },
     "metadata": {
      "needs_background": "light"
     },
     "output_type": "display_data"
    }
   ],
   "source": [
    "plt.scatter(X, Y_combined, color='black', marker = 'x')\n",
    "plt.plot(X, Y_combined, color='black', ls='--')\n",
    "plt.hlines(gs_noncon_energy, 1, shots, color='r')\n",
    "plt.hlines(true_gs, 1, shots, color='g')\n",
    "plt.show()"
   ]
  },
  {
   "cell_type": "code",
   "execution_count": 36,
   "metadata": {},
   "outputs": [
    {
     "name": "stdout",
     "output_type": "stream",
     "text": [
      "Terms admitting quantum correction: ['ZIIIIIIIII', 'ZIIIZZIIII', 'ZZZIZIZIZI', 'ZZIZZIIZIZ', 'ZIIIIXZZZZ', 'ZZIIIIIIII', 'ZZIIZZIIII', 'ZIIIIZIIII', 'ZIIZZIIZIZ', 'ZIZIZIZIZI', 'ZIIIZIIIII', 'ZIIIIIIIIZ', 'ZIIIZZIIZI', 'ZIIIIIIIZI', 'ZIIIZZIIIZ', 'ZZIZZIIZZZ', 'ZZZIZIZIZZ', 'ZZIZZIIZII', 'ZZZIZIZIII', 'ZIIIIIIZII', 'ZIIIZZZIII', 'ZZIZZIZZIZ', 'ZZZIZIZZZI', 'ZIIZIIIIII', 'ZIZIZZIIII', 'ZZIZIIIZIZ', 'ZZZIZZZIZI', 'ZIIIIIZIII', 'ZIIIZZIZII', 'ZZZZZIIZIZ', 'ZZZZZIZIZI', 'ZIIZZZIIII', 'ZIZIIIIIII', 'ZZIZZIIIIZ', 'ZZZIZIIIZI', 'ZZIZZZIZIZ', 'ZZZIIIZIZI', 'ZZIIZIIZIZ', 'ZZIIZIZIZI', 'ZIIIIXZZIZ', 'ZZIIIXZZZZ', 'ZIIIIXZZZI', 'ZIIZIXZZZZ', 'ZIZIIXZZZZ', 'ZIIIIXIZZZ', 'ZZIZIXZIZI', 'ZIIIIXZIZZ', 'ZZZIIXIZIZ', 'ZIIIZXZZZZ', 'IIIZIIIIII', 'IZIZIIIIII', 'IIIZIIIIZI', 'IIIZIIIIIZ', 'IIZZIIIIII', 'IIIZIIZIII', 'IIZZIIZZZZ', 'IIIZZIIIII', 'IZIZZIIZIZ', 'IIIZIIIZII', 'IIIZIZIIII', 'IZIZIZIZIZ', 'IIIZZXZZZZ', 'IZIZZXZIZI', 'IIIIZIIIII', 'IIIIZXZZZZ', 'IIIIZZIIII', 'IZIIZIIIII', 'IIIIZIIIIZ', 'IIIIZIIIZI', 'IIIIZIIZII', 'IIZIZIIIII', 'IIIIZIZIII', 'IZZIZIZIZI', 'IIIIZXZZIZ', 'IZIIZXZZZZ', 'IIIIZXZZZI', 'IIZIZXZZZZ', 'IIIIZXIZZZ', 'IIIIZXZIZZ', 'IZZIZXIZIZ']\n"
     ]
    }
   ],
   "source": [
    "new_ham_noncon, new_ham_context = discard_generator(ham_noncon, ham_context, ['ZIIIIIIIII', 'IIIZIIIIII', 'IIIIZIIIII'])\n",
    "\n",
    "q_corr_terms = []\n",
    "\n",
    "for t in list(new_ham_context.keys()):\n",
    "    commutes = []\n",
    "    for g in generators:\n",
    "        if c.commute(t, g):\n",
    "            commutes.append(g)\n",
    "    #print(t, 'commutes with the noncontextual generators:', commutes)\n",
    "    if commutes == generators:\n",
    "        q_corr_terms.append(t)\n",
    "        \n",
    "if q_corr_terms == []:\n",
    "    print('No quantum correction')\n",
    "else:\n",
    "    print('Terms admitting quantum correction:', q_corr_terms)"
   ]
  },
  {
   "cell_type": "code",
   "execution_count": 165,
   "metadata": {},
   "outputs": [
    {
     "data": {
      "text/plain": [
       "[(495, [0, 1, 1, 1, 1, 0, 1, 1, 1, 1]), (511, [0, 1, 1, 1, 1, 1, 1, 1, 1, 1])]"
      ]
     },
     "execution_count": 165,
     "metadata": {},
     "output_type": "execute_result"
    }
   ],
   "source": []
  },
  {
   "cell_type": "code",
   "execution_count": 185,
   "metadata": {},
   "outputs": [
    {
     "data": {
      "image/png": "[encoded data removed]",
      "text/plain": [
       "<Figure size 3000x2000 with 1 Axes>"
      ]
     },
     "metadata": {
      "needs_background": "light"
     },
     "output_type": "display_data"
    }
   ],
   "source": [
    "from openfermion.linalg import get_sparse_operator, get_ground_state\n",
    "\n",
    "gs = get_ground_state(get_sparse_operator(ham_q, num_qubits).toarray())\n",
    "\n",
    "amp_list = [abs(a)**2 for a in list(gs[1])]\n",
    "sig_amp_list = sorted([(str(index), a) for index, a in enumerate(amp_list) if a > 10**-7], key=lambda x:x[1])\n",
    "sig_amp_list.reverse()\n",
    "\n",
    "XY = list(zip(*sig_amp_list))\n",
    "X = XY[0]\n",
    "Y = XY[1]\n",
    "Y_log = [np.log10(a) for a in Y]\n",
    "\n",
    "from matplotlib.pyplot import figure\n",
    "\n",
    "figure(figsize=(15, 10), dpi=200)\n",
    "\n",
    "plt.grid(zorder=0)\n",
    "plt.bar(X, Y, zorder=2, label='Probability of observing basis state')\n",
    "plt.bar(X, Y_log, zorder=3, label = 'log (base 10) of probability')\n",
    "plt.xticks(rotation=90)\n",
    "plt.legend()\n",
    "plt.show()"
   ]
  },
  {
   "cell_type": "code",
   "execution_count": 182,
   "metadata": {},
   "outputs": [
    {
     "data": {
      "text/plain": [
       "['ZIIIIIIIII',\n",
       " 'IZIIIIIIII',\n",
       " 'IIZIIIIIII',\n",
       " 'IIIZIIIIII',\n",
       " 'IIIIZIIIII',\n",
       " 'IIIIIIZIII',\n",
       " 'IIIIIIIZII',\n",
       " 'IIIIIIIIZI',\n",
       " 'IIIIIIIIIZ']"
      ]
     },
     "execution_count": 182,
     "metadata": {},
     "output_type": "execute_result"
    }
   ],
   "source": [
    "generators"
   ]
  },
  {
   "cell_type": "code",
   "execution_count": 181,
   "metadata": {},
   "outputs": [
    {
     "name": "stdout",
     "output_type": "stream",
     "text": [
      "[(495, [0, 1, 1, 1, 1, 0, 1, 1, 1, 1]), (511, [0, 1, 1, 1, 1, 1, 1, 1, 1, 1])]\n",
      "[(1007, [1, 1, 1, 1, 1, 0, 1, 1, 1, 1]), (1023, [1, 1, 1, 1, 1, 1, 1, 1, 1, 1])]\n",
      "[(431, [0, 1, 1, 0, 1, 0, 1, 1, 1, 1]), (447, [0, 1, 1, 0, 1, 1, 1, 1, 1, 1])]\n",
      "[(463, [0, 1, 1, 1, 0, 0, 1, 1, 1, 1]), (479, [0, 1, 1, 1, 0, 1, 1, 1, 1, 1])]\n",
      "[(943, [1, 1, 1, 0, 1, 0, 1, 1, 1, 1]), (959, [1, 1, 1, 0, 1, 1, 1, 1, 1, 1])]\n",
      "[(975, [1, 1, 1, 1, 0, 0, 1, 1, 1, 1]), (991, [1, 1, 1, 1, 0, 1, 1, 1, 1, 1])]\n",
      "[(399, [0, 1, 1, 0, 0, 0, 1, 1, 1, 1]), (415, [0, 1, 1, 0, 0, 1, 1, 1, 1, 1])]\n",
      "[(911, [1, 1, 1, 0, 0, 0, 1, 1, 1, 1]), (927, [1, 1, 1, 0, 0, 1, 1, 1, 1, 1])]\n"
     ]
    }
   ],
   "source": [
    "for i in find_eigenstate_indices('0111101111', [0,3,4]):\n",
    "    print(qubit_map[i])"
   ]
  },
  {
   "cell_type": "code",
   "execution_count": null,
   "metadata": {},
   "outputs": [],
   "source": [
    "import openfermion\n",
    "import openfermionpyscf\n",
    "from openfermion import MolecularData\n",
    "from openfermionpyscf import run_pyscf\n",
    "from openfermion.ops import FermionOperator, QubitOperator\n",
    "from openfermion.transforms import jordan_wigner, bravyi_kitaev\n",
    "from openfermion.transforms import get_fermion_operator\n",
    "from openfermion.circuits import (uccsd_singlet_get_packed_amplitudes,\n",
    "                               uccsd_singlet_generator, uccsd_generator,\n",
    "                               uccsd_convert_amplitude_format)\n",
    "import numpy as np\n",
    "import cs_vqe as c\n",
    "import itertools\n",
    "import qubit_conversion as q_conv\n",
    "\n",
    "singlet_bool = True # Set general UCCSD or singlet UCCSD.\n",
    "\n",
    "bond_len =1#0.96\n",
    "atom_1 = 'O'\n",
    "atom_2 = 'H'\n",
    "atom_3 = 'H'\n",
    "basis = 'sto3g'\n",
    "multiplicity = 1\n",
    "charge = 0\n",
    "\n",
    "coordinate_1 = (0.0, 0.0, 0.0)\n",
    "coordinate_2 = (0.0, 0.0, bond_len)\n",
    "coordinate_3 = (0.0, bond_len, 0.0)\n",
    "geometry = [(atom_1, coordinate_1), (atom_2, coordinate_2), (atom_3, coordinate_3)]\n",
    "\n",
    "molecule_data = MolecularData(geometry, basis, multiplicity, charge, description='Test')\n",
    "#molecule.load()\n",
    "\n",
    "# Set calculation parameters.\n",
    "run_scf = 1\n",
    "run_mp2 = 1\n",
    "run_cisd = 0\n",
    "run_ccsd = 0\n",
    "run_fci = 1\n",
    "delete_input = True\n",
    "delete_output = True\n",
    "\n",
    "# Run pyscf.\n",
    "molecule = run_pyscf(molecule_data,\n",
    "                     run_scf=run_scf,\n",
    "                     run_mp2=run_mp2,\n",
    "                     run_cisd=run_cisd,\n",
    "                     run_ccsd=run_ccsd,\n",
    "                     run_fci=run_fci)\n",
    "\n",
    "#molecule.load()\n",
    "#print(molecule)\n",
    "\n",
    "ham_2 = get_fermion_operator(molecule.get_molecular_hamiltonian())\n",
    "ham_2_q = jordan_wigner(ham_2)\n",
    "print('Hamiltonian:', '\\n', ham_2_q, '\\n')\n",
    "\n",
    "scf = True      # Hartree-Fock.\n",
    "mp2 = True      # Moller-Plesset 2.\n",
    "cisd = True     # Configuration interaction singles and doubles.\n",
    "ccsd = True     # Coupled cluster singles and doubles.\n",
    "fci = True      # Full configuration interaction.\n",
    "\n",
    "calculated_molecule = run_pyscf(molecule_data, scf, mp2, cisd, ccsd, fci)\n",
    "\n",
    "if ccsd:\n",
    "    ccsd_single_amps = calculated_molecule.ccsd_single_amps\n",
    "    ccsd_double_amps = calculated_molecule.ccsd_double_amps\n",
    "\n",
    "num_electrons = calculated_molecule.n_electrons\n",
    "num_qubits = 2*calculated_molecule.n_orbitals\n",
    "\n",
    "if singlet_bool:\n",
    "    # Get singlet UCCSD generator.\n",
    "    packed_amps = uccsd_singlet_get_packed_amplitudes(ccsd_single_amps,  ccsd_double_amps, num_qubits, num_electrons)\n",
    "    ucc_sing = uccsd_singlet_generator(packed_amps, num_qubits, num_electrons)\n",
    "    #print(ucc_sing)\n",
    "\n",
    "else:\n",
    "    # Get general UCCSD operator.\n",
    "    ucc_op = uccsd_generator(ccsd_single_amps, ccsd_double_amps)\n",
    "    #print(ucc_op)\n",
    "    \n",
    "ucc_q = jordan_wigner(ucc_sing)\n",
    "print('UCCSD ansatz:', '\\n', ucc_q)"
   ]
  },
  {
   "cell_type": "code",
   "execution_count": null,
   "metadata": {},
   "outputs": [],
   "source": [
    "from qiskit.aqua.algorithms import NumPyEigensolver\n",
    "\n",
    "ham_2 = q_conv.QubitOperator_to_dict(ham_2_q, 14)\n",
    "result = NumPyEigensolver(q_conv.dict_to_WeightedPauliOperator(ham_2)).run()\n",
    "true_gs = np.real(result.eigenvalues)"
   ]
  },
  {
   "cell_type": "code",
   "execution_count": null,
   "metadata": {},
   "outputs": [],
   "source": [
    "true_gs"
   ]
  },
  {
   "cell_type": "code",
   "execution_count": null,
   "metadata": {},
   "outputs": [],
   "source": [
    "len(list(ham.keys())), len(['IIIIIIIIII', 'ZIIIIIIIII', 'YZYIIIIIII', 'XZXIIIIIII', 'YZZZZZYIII', 'XZZZZZXIII', 'YZZZZZZZZZ', 'XZZZZZZZZZ', 'IZIIIIIIII', 'IYZYIIIIII', 'IXZXIIIIII', 'IYZZZZZYII', 'IXZZZZZXII', 'IYZZZZZZZZ', 'IXZZZZZZZZ', 'IIZIIIIIII', 'IIYZZZYIII', 'IIXZZZXIII', 'IIYZZZZZZZ', 'IIXZZZZZZZ', 'IIIZIIIIII', 'IIIYZZZYII', 'IIIXZZZXII', 'IIIYZZZZZZ', 'IIIXZZZZZZ', 'IIIIZIIIII', 'IIIIYZZZZZ', 'IIIIXZZZZZ', 'IIIIIZIIII', 'IIIIIYZZZZ', 'IIIIIXZZZZ', 'IIIIIIZIII', 'IIIIIIYZZZ', 'IIIIIIXZZZ', 'IIIIIIIZII', 'IIIIIIIYZZ', 'IIIIIIIXZZ', 'IIIIIIIIZI', 'IIIIIIIIIZ', 'ZZIIIIIIII', 'YIYIIIIIII', 'XIXIIIIIII', 'YIZZZZYIII', 'XIZZZZXIII', 'YIZZZZZZZZ', 'XIZZZZZZZZ', 'ZYZYIIIIII', 'ZXZXIIIIII', 'YXXYIIIIII', 'YYXXIIIIII', 'XXYYIIIIII', 'XYYXIIIIII', 'YXIXZZYIII', 'YYIYZZYIII', 'XXIXZZXIII', 'XYIYZZXIII', 'YXIXZZZZZZ', 'YYIYZZZZZZ', 'XXIXZZZZZZ', 'XYIYZZZZZZ', 'YXIIXYIIII', 'YYIIXXIIII', 'XXIIYYIIII', 'XYIIYXIIII', 'YXIIIXZZZZ', 'YYIIIYZZZZ', 'XXIIIXZZZZ', 'XYIIIYZZZZ', 'ZYZZZZZYII', 'ZXZZZZZXII', 'YXXZZZZYII', 'YYXZZZZXII', 'XXYZZZZYII', 'XYYZZZZXII', 'YXIIIIXYII', 'YYIIIIXXII', 'XXIIIIYYII', 'XYIIIIYXII', 'YXIIIIIXZZ', 'YYIIIIIYZZ', 'XXIIIIIXZZ', 'XYIIIIIYZZ', 'YXIIIIIIXY', 'YYIIIIIIXX', 'XXIIIIIIYY', 'XYIIIIIIYX', 'ZYZZZZZZZZ', 'ZXZZZZZZZZ', 'YXXZZZZZZZ', 'YYXZZZZZZZ', 'XXYZZZZZZZ', 'XYYZZZZZZZ', 'YXIIIIXZZZ', 'YYIIIIXZZZ', 'XXIIIIYZZZ', 'XYIIIIYZZZ', 'YXIIIIIIII', 'YYIIIIIIII', 'XXIIIIIIII', 'XYIIIIIIII', 'YXIIXZZZZZ', 'YYIIXZZZZZ', 'XXIIYZZZZZ', 'XYIIYZZZZZ', 'ZIZIIIIIII', 'ZIYZZZYIII', 'ZIXZZZXIII', 'ZIYZZZZZZZ', 'ZIXZZZZZZZ', 'YZIZZZYIII', 'XZIZZZXIII', 'YZIZZZZZZZ', 'XZIZZZZZZZ', 'YZXIXZZZZZ', 'YZYIYZZZZZ', 'YZYIXZZZZZ', 'XZXIYZZZZZ', 'XZXIXZZZZZ', 'XZYIYZZZZZ', 'YZXIIIXZZZ', 'YZYIIIYZZZ', 'YZYIIIXZZZ', 'XZXIIIYZZZ', 'XZXIIIXZZZ', 'XZYIIIYZZZ', 'ZIIZIIIIII', 'YZYZIIIIII', 'XZXZIIIIII', 'YZZIZZYIII', 'XZZIZZXIII', 'YZZIZZZZZZ', 'XZZIZZZZZZ', 'YZZXXYIIII', 'YZZYXXIIII', 'XZZXYYIIII', 'XZZYYXIIII', 'YZZXIXZZZZ', 'YZZYIYZZZZ', 'XZZXIXZZZZ', 'XZZYIYZZZZ', 'ZIIYZZZYII', 'ZIIXZZZXII', 'YZYYZZZYII', 'YZYXZZZXII', 'XZXYZZZYII', 'XZXXZZZXII', 'YZZXIIXYII', 'YZZYIIXXII', 'XZZXIIYYII', 'XZZYIIYXII', 'YZZXIIIXZZ', 'YZZYIIIYZZ', 'XZZXIIIXZZ', 'XZZYIIIYZZ', 'YZZXIIIIXY', 'YZZYIIIIXX', 'XZZXIIIIYY', 'XZZYIIIIYX', 'ZIIYZZZZZZ', 'ZIIXZZZZZZ', 'YZYYZZZZZZ', 'YZYXZZZZZZ', 'XZXYZZZZZZ', 'XZXXZZZZZZ', 'YZZXIIXZZZ', 'YZZYIIXZZZ', 'XZZXIIYZZZ', 'XZZYIIYZZZ', 'YZZXIIIIII', 'YZZYIIIIII', 'XZZXIIIIII', 'XZZYIIIIII', 'YZZXXZZZZZ', 'YZZYXZZZZZ', 'XZZXYZZZZZ', 'XZZYYZZZZZ', 'ZIIIZIIIII', 'ZIIIYZZZZZ', 'ZIIIXZZZZZ', 'YZYIZIIIII', 'XZXIZIIIII', 'YZZZIZYIII', 'XZZZIZXIII', 'YZZZIZZZZZ', 'XZZZIZZZZZ', 'YZZZXIXZZZ', 'YZZZYIYZZZ', 'YZZZYIXZZZ', 'XZZZXIYZZZ', 'XZZZXIXZZZ', 'XZZZYIYZZZ', 'YZZZXIIIII', 'YZZZYIIIII', 'XZZZXIIIII', 'XZZZYIIIII', 'ZIIIIZIIII', 'YZYIIZIIII', 'XZXIIZIIII', 'YZZZZIYIII', 'XZZZZIXIII', 'YZZZZIZZZZ', 'XZZZZIZZZZ', 'YZZZYYZYII', 'YZZZYXZXII', 'XZZZXYZYII', 'XZZZXXZXII', 'YZZZZXIXZZ', 'YZZZZYIYZZ', 'XZZZZXIXZZ', 'XZZZZYIYZZ', 'YZZZYYZZZZ', 'YZZZYXZZZZ', 'XZZZXYZZZZ', 'XZZZXXZZZZ', 'YZZZZXIIII', 'YZZZZYIIII', 'XZZZZXIIII', 'XZZZZYIIII', 'ZIIIIYZZZZ', 'ZIIIIXZZZZ', 'YZYIIYZZZZ', 'YZYIIXZZZZ', 'XZXIIYZZZZ', 'XZXIIXZZZZ', 'YZZZZXXZZZ', 'YZZZZYXZZZ', 'XZZZZXYZZZ', 'XZZZZYYZZZ', 'ZIIIIIZIII', 'ZIIIIIYZZZ', 'ZIIIIIXZZZ', 'YZYIIIZIII', 'XZXIIIZIII', 'YZZZZZIZZZ', 'XZZZZZIZZZ', 'ZIIIIIIZII', 'YZYIIIIZII', 'XZXIIIIZII', 'YZZZZZYZII', 'XZZZZZXZII', 'YZZZZZZIZZ', 'XZZZZZZIZZ', 'YZZZZZZXXY', 'YZZZZZZYXX', 'XZZZZZZXYY', 'XZZZZZZYYX', 'ZIIIIIIYZZ', 'ZIIIIIIXZZ', 'YZYIIIIYZZ', 'YZYIIIIXZZ', 'XZXIIIIYZZ', 'XZXIIIIXZZ', 'YZZZZZYYZZ', 'YZZZZZYXZZ', 'XZZZZZXYZZ', 'XZZZZZXXZZ', 'YZZZZZZXII', 'YZZZZZZYII', 'XZZZZZZXII', 'XZZZZZZYII', 'YZZZYIIYZZ', 'YZZZYIIXZZ', 'XZZZXIIYZZ', 'XZZZXIIXZZ', 'ZIIIIIIIZI', 'YZYIIIIIZI', 'XZXIIIIIZI', 'YZZZZZYIZI', 'XZZZZZXIZI', 'YZZZZZZZIZ', 'XZZZZZZZIZ', 'ZIIIIIIIIZ', 'YZYIIIIIIZ', 'XZXIIIIIIZ', 'YZZZZZYIIZ', 'XZZZZZXIIZ', 'YZZZZZZZZI', 'XZZZZZZZZI', 'YZZZZZZZYY', 'YZZZZZZZYX', 'XZZZZZZZXY', 'XZZZZZZZXX', 'IZZIIIIIII', 'IYIYIIIIII', 'IXIXIIIIII', 'IYIZZZZYII', 'IXIZZZZXII', 'IYIZZZZZZZ', 'IXIZZZZZZZ', 'IYXIXYIIII', 'IYYIYYIIII', 'IXXIXXIIII', 'IXYIYXIIII', 'IYXIXZZZZZ', 'IYYIYZZZZZ', 'IXXIXZZZZZ', 'IXYIYZZZZZ', 'IZYZZZYIII', 'IZXZZZXIII', 'IYXXZZYIII', 'IYYXZZXIII', 'IXXYZZYIII', 'IXYYZZXIII', 'IYXIIIXYII', 'IYYIIIYYII', 'IXXIIIXXII', 'IXYIIIYXII', 'IYXIIIXZZZ', 'IYYIIIYZZZ', 'IXXIIIXZZZ', 'IXYIIIYZZZ', 'IYXIIIIIXY', 'IYYIIIIIYY', 'IXXIIIIIXX', 'IXYIIIIIYX', 'IZYZZZZZZZ', 'IZXZZZZZZZ', 'IYXXZZZZZZ', 'IYYXZZZZZZ', 'IXXYZZZZZZ', 'IXYYZZZZZZ', 'IYXIIIIXZZ', 'IYYIIIIXZZ', 'IXXIIIIYZZ', 'IXYIIIIYZZ', 'IYXIIIIIII', 'IYYIIIIIII', 'IXXIIIIIII', 'IXYIIIIIII', 'IYXIIXZZZZ', 'IYYIIXZZZZ', 'IXXIIYZZZZ', 'IXYIIYZZZZ', 'IZIZIIIIII', 'IZIYZZZYII', 'IZIXZZZXII', 'IZIYZZZZZZ', 'IZIXZZZZZZ', 'IYZIZZZYII', 'IXZIZZZXII', 'IYZIZZZZZZ', 'IXZIZZZZZZ', 'IYZXIXZZZZ', 'IYZYIYZZZZ', 'IYZYIXZZZZ', 'IXZXIYZZZZ', 'IXZXIXZZZZ', 'IXZYIYZZZZ', 'IYZXIIIXZZ', 'IYZYIIIYZZ', 'IYZYIIIXZZ', 'IXZXIIIYZZ', 'IXZXIIIXZZ', 'IXZYIIIYZZ', 'IZIIZIIIII', 'IYZYZIIIII', 'IXZXZIIIII', 'IYZZIZZYII', 'IXZZIZZXII', 'IYZZIZZZZZ', 'IXZZIZZZZZ', 'IYZZXXYIII', 'IYZZYXXIII', 'IXZZXYYIII', 'IXZZYYXIII', 'IYZZXIXZZZ', 'IYZZYIYZZZ', 'IXZZXIXZZZ', 'IXZZYIYZZZ', 'IYZZXXZZZZ', 'IYZZYXZZZZ', 'IXZZXYZZZZ', 'IXZZYYZZZZ', 'IYZZXIIIII', 'IYZZYIIIII', 'IXZZXIIIII', 'IXZZYIIIII', 'IZIIYZZZZZ', 'IZIIXZZZZZ', 'IYZYYZZZZZ', 'IYZYXZZZZZ', 'IXZXYZZZZZ', 'IXZXXZZZZZ', 'IYZZXIIXZZ', 'IYZZYIIXZZ', 'IXZZXIIYZZ', 'IXZZYIIYZZ', 'IZIIIZIIII', 'IZIIIYZZZZ', 'IZIIIXZZZZ', 'IYZYIZIIII', 'IXZXIZIIII', 'IYZZZIZYII', 'IXZZZIZXII', 'IYZZZIZZZZ', 'IXZZZIZZZZ', 'IYZZZXIXZZ', 'IYZZZYIYZZ', 'IYZZZYIXZZ', 'IXZZZXIYZZ', 'IXZZZXIXZZ', 'IXZZZYIYZZ', 'IYZZZXIIII', 'IYZZZYIIII', 'IXZZZXIIII', 'IXZZZYIIII', 'IZIIIIZIII', 'IYZYIIZIII', 'IXZXIIZIII', 'IYZZZZIYII', 'IXZZZZIXII', 'IYZZZZIZZZ', 'IXZZZZIZZZ', 'IYZZZZXIXY', 'IYZZZZYIYY', 'IXZZZZXIXX', 'IXZZZZYIYX', 'IZIIIIYZZZ', 'IZIIIIXZZZ', 'IYZYIIYZZZ', 'IYZYIIXZZZ', 'IXZXIIYZZZ', 'IXZXIIXZZZ', 'IYZZZZXXZZ', 'IYZZZZYXZZ', 'IXZZZZXYZZ', 'IXZZZZYYZZ', 'IYZZZZXIII', 'IYZZZZYIII', 'IXZZZZXIII', 'IXZZZZYIII', 'IYZZZYYZZZ', 'IYZZZYXZZZ', 'IXZZZXYZZZ', 'IXZZZXXZZZ', 'IZIIIIIZII', 'IZIIIIIYZZ', 'IZIIIIIXZZ', 'IYZYIIIZII', 'IXZXIIIZII', 'IYZZZZZIZZ', 'IXZZZZZIZZ', 'IZIIIIIIZI', 'IYZYIIIIZI', 'IXZXIIIIZI', 'IYZZZZZYZI', 'IXZZZZZXZI', 'IYZZZZZZIZ', 'IXZZZZZZIZ', 'IYZZZZZZXX', 'IYZZZZZZYX', 'IXZZZZZZXY', 'IXZZZZZZYY', 'IZIIIIIIIZ', 'IYZYIIIIIZ', 'IXZXIIIIIZ', 'IYZZZZZYIZ', 'IXZZZZZXIZ', 'IYZZZZZZZI', 'IXZZZZZZZI', 'IIZZIIIIII', 'IIYIZZYIII', 'IIXIZZXIII', 'IIYIZZZZZZ', 'IIXIZZZZZZ', 'IIYXXYIIII', 'IIYYXXIIII', 'IIXXYYIIII', 'IIXYYXIIII', 'IIYXIXZZZZ', 'IIYYIYZZZZ', 'IIXXIXZZZZ', 'IIXYIYZZZZ', 'IIZYZZZYII', 'IIZXZZZXII', 'IIYXIIXYII', 'IIYYIIXXII', 'IIXXIIYYII', 'IIXYIIYXII', 'IIYXIIIXZZ', 'IIYYIIIYZZ', 'IIXXIIIXZZ', 'IIXYIIIYZZ', 'IIYXIIIIXY', 'IIYYIIIIXX', 'IIXXIIIIYY', 'IIXYIIIIYX', 'IIZYZZZZZZ', 'IIZXZZZZZZ', 'IIYXIIXZZZ', 'IIYYIIXZZZ', 'IIXXIIYZZZ', 'IIXYIIYZZZ', 'IIYXIIIIII', 'IIYYIIIIII', 'IIXXIIIIII', 'IIXYIIIIII', 'IIYXXZZZZZ', 'IIYYXZZZZZ', 'IIXXYZZZZZ', 'IIXYYZZZZZ', 'IIZIZIIIII', 'IIZIYZZZZZ', 'IIZIXZZZZZ', 'IIYZIZYIII', 'IIXZIZXIII', 'IIYZIZZZZZ', 'IIXZIZZZZZ', 'IIYZXIXZZZ', 'IIYZYIYZZZ', 'IIYZYIXZZZ', 'IIXZXIYZZZ', 'IIXZXIXZZZ', 'IIXZYIYZZZ', 'IIYZXIIIII', 'IIYZYIIIII', 'IIXZXIIIII', 'IIXZYIIIII', 'IIZIIZIIII', 'IIYZZIYIII', 'IIXZZIXIII', 'IIYZZIZZZZ', 'IIXZZIZZZZ', 'IIYZYYZYII', 'IIYZYXZXII', 'IIXZXYZYII', 'IIXZXXZXII', 'IIYZZXIXZZ', 'IIYZZYIYZZ', 'IIXZZXIXZZ', 'IIXZZYIYZZ', 'IIYZYYZZZZ', 'IIYZYXZZZZ', 'IIXZXYZZZZ', 'IIXZXXZZZZ', 'IIYZZXIIII', 'IIYZZYIIII', 'IIXZZXIIII', 'IIXZZYIIII', 'IIZIIYZZZZ', 'IIZIIXZZZZ', 'IIYZZXXZZZ', 'IIYZZYXZZZ', 'IIXZZXYZZZ', 'IIXZZYYZZZ', 'IIZIIIZIII', 'IIZIIIYZZZ', 'IIZIIIXZZZ', 'IIYZZZIZZZ', 'IIXZZZIZZZ', 'IIZIIIIZII', 'IIYZZZYZII', 'IIXZZZXZII', 'IIYZZZZIZZ', 'IIXZZZZIZZ', 'IIYZZZZXXY', 'IIYZZZZYXX', 'IIXZZZZXYY', 'IIXZZZZYYX', 'IIZIIIIYZZ', 'IIZIIIIXZZ', 'IIYZZZYYZZ', 'IIYZZZYXZZ', 'IIXZZZXYZZ', 'IIXZZZXXZZ', 'IIYZZZZXII', 'IIYZZZZYII', 'IIXZZZZXII', 'IIXZZZZYII', 'IIYZYIIYZZ', 'IIYZYIIXZZ', 'IIXZXIIYZZ', 'IIXZXIIXZZ', 'IIZIIIIIZI', 'IIYZZZYIZI', 'IIXZZZXIZI', 'IIYZZZZZIZ', 'IIXZZZZZIZ', 'IIZIIIIIIZ', 'IIYZZZYIIZ', 'IIXZZZXIIZ', 'IIYZZZZZZI', 'IIXZZZZZZI', 'IIYZZZZZYY', 'IIYZZZZZYX', 'IIXZZZZZXY', 'IIXZZZZZXX', 'IIIZZIIIII', 'IIIYIZZYII', 'IIIXIZZXII', 'IIIYIZZZZZ', 'IIIXIZZZZZ', 'IIIYXXYIII', 'IIIYYXXIII', 'IIIXXYYIII', 'IIIXYYXIII', 'IIIYXIXZZZ', 'IIIYYIYZZZ', 'IIIXXIXZZZ', 'IIIXYIYZZZ', 'IIIYXXZZZZ', 'IIIYYXZZZZ', 'IIIXXYZZZZ', 'IIIXYYZZZZ', 'IIIYXIIIII', 'IIIYYIIIII', 'IIIXXIIIII', 'IIIXYIIIII', 'IIIZYZZZZZ', 'IIIZXZZZZZ', 'IIIYXIIXZZ', 'IIIYYIIXZZ', 'IIIXXIIYZZ', 'IIIXYIIYZZ', 'IIIZIZIIII', 'IIIZIYZZZZ', 'IIIZIXZZZZ', 'IIIYZIZYII', 'IIIXZIZXII', 'IIIYZIZZZZ', 'IIIXZIZZZZ', 'IIIYZXIXZZ', 'IIIYZYIYZZ', 'IIIYZYIXZZ', 'IIIXZXIYZZ', 'IIIXZXIXZZ', 'IIIXZYIYZZ', 'IIIYZXIIII', 'IIIYZYIIII', 'IIIXZXIIII', 'IIIXZYIIII', 'IIIZIIZIII', 'IIIYZZIYII', 'IIIXZZIXII', 'IIIYZZIZZZ', 'IIIXZZIZZZ', 'IIIYZZXIXY', 'IIIYZZYIYY', 'IIIXZZXIXX', 'IIIXZZYIYX', 'IIIZIIYZZZ', 'IIIZIIXZZZ', 'IIIYZZXXZZ', 'IIIYZZYXZZ', 'IIIXZZXYZZ', 'IIIXZZYYZZ', 'IIIYZZXIII', 'IIIYZZYIII', 'IIIXZZXIII', 'IIIXZZYIII', 'IIIYZYYZZZ', 'IIIYZYXZZZ', 'IIIXZXYZZZ', 'IIIXZXXZZZ', 'IIIZIIIZII', 'IIIZIIIYZZ', 'IIIZIIIXZZ', 'IIIYZZZIZZ', 'IIIXZZZIZZ', 'IIIZIIIIZI', 'IIIYZZZYZI', 'IIIXZZZXZI', 'IIIYZZZZIZ', 'IIIXZZZZIZ', 'IIIYZZZZXX', 'IIIYZZZZYX', 'IIIXZZZZXY', 'IIIXZZZZYY', 'IIIZIIIIIZ', 'IIIYZZZYIZ', 'IIIXZZZXIZ', 'IIIYZZZZZI', 'IIIXZZZZZI', 'IIIIZZIIII', 'IIIIYIZZZZ', 'IIIIXIZZZZ', 'IIIIYXXYII', 'IIIIYYXXII', 'IIIIXXYYII', 'IIIIXYYXII', 'IIIIYXIXZZ', 'IIIIYYIYZZ', 'IIIIXXIXZZ', 'IIIIXYIYZZ', 'IIIIYXIIXY', 'IIIIYYIIXX', 'IIIIXXIIYY', 'IIIIXYIIYX', 'IIIIYXXZZZ', 'IIIIYYXZZZ', 'IIIIXXYZZZ', 'IIIIXYYZZZ', 'IIIIYXIIII', 'IIIIYYIIII', 'IIIIXXIIII', 'IIIIXYIIII', 'IIIIZYZZZZ', 'IIIIZXZZZZ', 'IIIIZIZIII', 'IIIIZIYZZZ', 'IIIIZIXZZZ', 'IIIIYZIZZZ', 'IIIIXZIZZZ', 'IIIIYZXIII', 'IIIIYZYIII', 'IIIIXZXIII', 'IIIIXZYIII', 'IIIIZIIZII', 'IIIIYZZIZZ', 'IIIIXZZIZZ', 'IIIIZIIYZZ', 'IIIIZIIXZZ', 'IIIIYZZXII', 'IIIIYZZYII', 'IIIIXZZXII', 'IIIIXZZYII', 'IIIIYZYYZZ', 'IIIIYZYXZZ', 'IIIIXZXYZZ', 'IIIIXZXXZZ', 'IIIIZIIIZI', 'IIIIYZZZIZ', 'IIIIXZZZIZ', 'IIIIZIIIIZ', 'IIIIYZZZZI', 'IIIIXZZZZI', 'IIIIYZZZYY', 'IIIIYZZZYX', 'IIIIXZZZXY', 'IIIIXZZZXX', 'IIIIIZZIII', 'IIIIIYIZZZ', 'IIIIIXIZZZ', 'IIIIIZYZZZ', 'IIIIIZXZZZ', 'IIIIIYXIII', 'IIIIIYYIII', 'IIIIIXXIII', 'IIIIIXYIII', 'IIIIIYXXZZ', 'IIIIIYYXZZ', 'IIIIIXXYZZ', 'IIIIIXYYZZ', 'IIIIIZIZII', 'IIIIIZIYZZ', 'IIIIIZIXZZ', 'IIIIIYZIZZ', 'IIIIIXZIZZ', 'IIIIIYZXII', 'IIIIIYZYII', 'IIIIIXZXII', 'IIIIIXZYII', 'IIIIIZIIZI', 'IIIIIYZZIZ', 'IIIIIXZZIZ', 'IIIIIYZZXX', 'IIIIIYZZYX', 'IIIIIXZZXY', 'IIIIIXZZYY', 'IIIIIZIIIZ', 'IIIIIYZZZI', 'IIIIIXZZZI', 'IIIIIIZZII', 'IIIIIIYIZZ', 'IIIIIIXIZZ', 'IIIIIIYXXY', 'IIIIIIYYXX', 'IIIIIIXXYY', 'IIIIIIXYYX', 'IIIIIIZYZZ', 'IIIIIIZXZZ', 'IIIIIIYXII', 'IIIIIIYYII', 'IIIIIIXXII', 'IIIIIIXYII', 'IIIIIIZIZI', 'IIIIIIYZIZ', 'IIIIIIXZIZ', 'IIIIIIZIIZ', 'IIIIIIYZZI', 'IIIIIIXZZI', 'IIIIIIYZYY', 'IIIIIIYZYX', 'IIIIIIXZXY', 'IIIIIIXZXX', 'IIIIIIIZZI', 'IIIIIIIYIZ', 'IIIIIIIXIZ', 'IIIIIIIYXX', 'IIIIIIIYYX', 'IIIIIIIXXY', 'IIIIIIIXYY', 'IIIIIIIZIZ', 'IIIIIIIYZI', 'IIIIIIIXZI', 'IIIIIIIIZZ', 'IIIIIIIIYX', 'IIIIIIIIYY', 'IIIIIIIIXX', 'IIIIIIIIXY'])"
   ]
  },
  {
   "cell_type": "code",
   "execution_count": 32,
   "metadata": {},
   "outputs": [
    {
     "ename": "NameError",
     "evalue": "name 'qubit_map' is not defined",
     "output_type": "error",
     "traceback": [
      "\u001b[0;31m---------------------------------------------------------------------------\u001b[0m",
      "\u001b[0;31mNameError\u001b[0m                                 Traceback (most recent call last)",
      "\u001b[0;32m<ipython-input-32-f3511ae86811>\u001b[0m in \u001b[0;36m<module>\u001b[0;34m()\u001b[0m\n\u001b[0;32m----> 1\u001b[0;31m \u001b[0mqubit_map\u001b[0m\u001b[0;34m\u001b[0m\u001b[0m\n\u001b[0m",
      "\u001b[0;31mNameError\u001b[0m: name 'qubit_map' is not defined"
     ]
    }
   ],
   "source": [
    "qubit_map"
   ]
  },
  {
   "cell_type": "code",
   "execution_count": null,
   "metadata": {},
   "outputs": [],
   "source": []
  },
  {
   "cell_type": "code",
   "execution_count": 1,
   "metadata": {},
   "outputs": [
    {
     "ename": "NameError",
     "evalue": "name 'generators' is not defined",
     "output_type": "error",
     "traceback": [
      "\u001b[0;31m---------------------------------------------------------------------------\u001b[0m",
      "\u001b[0;31mNameError\u001b[0m                                 Traceback (most recent call last)",
      "\u001b[0;32m<ipython-input-1-e964c7ac404a>\u001b[0m in \u001b[0;36m<module>\u001b[0;34m()\u001b[0m\n\u001b[0;32m----> 1\u001b[0;31m \u001b[0mgenerators\u001b[0m\u001b[0;34m\u001b[0m\u001b[0m\n\u001b[0m",
      "\u001b[0;31mNameError\u001b[0m: name 'generators' is not defined"
     ]
    }
   ],
   "source": [
    "generators"
   ]
  },
  {
   "cell_type": "code",
   "execution_count": 120,
   "metadata": {},
   "outputs": [
    {
     "name": "stdout",
     "output_type": "stream",
     "text": [
      "[(495, [0, 1, 1, 1, 1, 0, 1, 1, 1, 1]), (511, [0, 1, 1, 1, 1, 1, 1, 1, 1, 1])]\n",
      "[(1007, [1, 1, 1, 1, 1, 0, 1, 1, 1, 1]), (1023, [1, 1, 1, 1, 1, 1, 1, 1, 1, 1])]\n",
      "[(431, [0, 1, 1, 0, 1, 0, 1, 1, 1, 1]), (447, [0, 1, 1, 0, 1, 1, 1, 1, 1, 1])]\n",
      "[(463, [0, 1, 1, 1, 0, 0, 1, 1, 1, 1]), (479, [0, 1, 1, 1, 0, 1, 1, 1, 1, 1])]\n",
      "[(943, [1, 1, 1, 0, 1, 0, 1, 1, 1, 1]), (959, [1, 1, 1, 0, 1, 1, 1, 1, 1, 1])]\n",
      "[(975, [1, 1, 1, 1, 0, 0, 1, 1, 1, 1]), (991, [1, 1, 1, 1, 0, 1, 1, 1, 1, 1])]\n",
      "[(399, [0, 1, 1, 0, 0, 0, 1, 1, 1, 1]), (415, [0, 1, 1, 0, 0, 1, 1, 1, 1, 1])]\n",
      "[(911, [1, 1, 1, 0, 0, 0, 1, 1, 1, 1]), (927, [1, 1, 1, 0, 0, 1, 1, 1, 1, 1])]\n"
     ]
    }
   ],
   "source": [
    "for i in find_eigenstate_indices('0111101111', [0,3,4]):\n",
    "    print(qubit_map[i])"
   ]
  },
  {
   "cell_type": "code",
   "execution_count": 176,
   "metadata": {},
   "outputs": [
    {
     "name": "stdout",
     "output_type": "stream",
     "text": [
      "-4.753035164654311e-08 4.753035164654311e-08\n"
     ]
    },
    {
     "data": {
      "image/png": "[encoded data removed]",
      "text/plain": [
       "<Figure size 504x360 with 1 Axes>"
      ]
     },
     "execution_count": 176,
     "metadata": {},
     "output_type": "execute_result"
    }
   ],
   "source": [
    "from qiskit.circuit.parameter import Parameter\n",
    "from qiskit.circuit.quantumcircuit import QuantumCircuit\n",
    "from qiskit import QuantumCircuit, BasicAer, execute\n",
    "from qiskit.visualization import plot_histogram\n",
    "\n",
    "r1 = ep_state[1][0]\n",
    "r2 = ep_state[1][1]\n",
    "amp_ratio = (1 + r2) / (r1)\n",
    "t1 = np.arctan(-amp_ratio)\n",
    "t2 = np.arctan(+amp_ratio)\n",
    "print(t1, t2)\n",
    "\n",
    "qc = QuantumCircuit(10)\n",
    "qc.x(0), qc.x(8), qc.x(7), qc.x(6)\n",
    "qc.x(5), qc.x(3), qc.x(2), qc.x(1)\n",
    "qc.x(4)\n",
    "qc.z(4)\n",
    "qc.ry(2*t1, 4)\n",
    "\n",
    "qc.ry(np.pi/5, 9)\n",
    "qc.ry(np.pi/7, 5)\n",
    "qc.ry(np.pi/9, 6)\n",
    "\n",
    "qc.x(5)\n",
    "qc.cry(2*(t2-t1), 5, 4)\n",
    "qc.x(5)\n",
    "\n",
    "qc.measure_all()\n",
    "#print(qc.draw())\n",
    "backend = BasicAer.get_backend('qasm_simulator')\n",
    "job = execute(qc, backend)\n",
    "plot_histogram(job.result().get_counts(), color='midnightblue', title=\"New Histogram\")"
   ]
  },
  {
   "cell_type": "code",
   "execution_count": 199,
   "metadata": {},
   "outputs": [
    {
     "name": "stdout",
     "output_type": "stream",
     "text": [
      "-4.753035164654311e-08 4.753035164654311e-08\n",
      "       ┌───┐                                                     \n",
      "q_0: ──┤ X ├─────────────────────────────────────────────────────\n",
      "       ├───┤                                                     \n",
      "q_1: ──┤ X ├─────────────────────────────────────────────────────\n",
      "       ├───┤                                                     \n",
      "q_2: ──┤ X ├─────────────────────────────────────────────────────\n",
      "       ├───┤                                                     \n",
      "q_3: ──┤ X ├─────────────────────────────────────────────────────\n",
      "       ├───┤    ┌───┐  ┌─────────────────┐┌────────────────┐     \n",
      "q_4: ──┤ X ├────┤ Z ├──┤ RY(-9.5061e-08) ├┤ RY(1.9012e-07) ├─────\n",
      "       ├───┤  ┌─┴───┴─┐└──────┬───┬──────┘└───────┬────────┘┌───┐\n",
      "q_5: ──┤ X ├──┤ RY(γ) ├───────┤ X ├───────────────■─────────┤ X ├\n",
      "       ├───┤  ├───────┤       └───┘                         └───┘\n",
      "q_6: ──┤ X ├──┤ RY(β) ├──────────────────────────────────────────\n",
      "       ├───┤  └───────┘                                          \n",
      "q_7: ──┤ X ├─────────────────────────────────────────────────────\n",
      "       ├───┤                                                     \n",
      "q_8: ──┤ X ├─────────────────────────────────────────────────────\n",
      "     ┌─┴───┴─┐                                                   \n",
      "q_9: ┤ RY(α) ├───────────────────────────────────────────────────\n",
      "     └───────┘                                                   \n"
     ]
    }
   ],
   "source": [
    "from qiskit.circuit.parameter import Parameter\n",
    "from qiskit.circuit.quantumcircuit import QuantumCircuit\n",
    "from qiskit import QuantumCircuit, BasicAer, execute\n",
    "from qiskit.visualization import plot_histogram\n",
    "\n",
    "r1 = ep_state[1][0]\n",
    "r2 = ep_state[1][1]\n",
    "amp_ratio = (1 + r2) / (r1)\n",
    "t1 = np.arctan(-amp_ratio)\n",
    "t2 = np.arctan(+amp_ratio)\n",
    "print(t1, t2)\n",
    "\n",
    "qc = QuantumCircuit(10)\n",
    "qc.x(0), qc.x(8), qc.x(7), qc.x(6)\n",
    "qc.x(5), qc.x(3), qc.x(2), qc.x(1)\n",
    "qc.x(4)\n",
    "qc.z(4)\n",
    "qc.ry(2*t1, 4)\n",
    "\n",
    "qc.ry(Parameter('α'), 9)\n",
    "qc.ry(Parameter('β'), 6)\n",
    "qc.ry(Parameter('γ'), 5)\n",
    "\n",
    "qc.x(5)\n",
    "qc.cry(2*(t2-t1), 5, 4)\n",
    "qc.x(5)\n",
    "\n",
    "#qc.measure_all()\n",
    "print(qc.draw())\n",
    "#backend = BasicAer.get_backend('qasm_simulator')\n",
    "#job = execute(qc, backend)\n",
    "#plot_histogram(job.result().get_counts(), color='midnightblue', title=\"New Histogram\")"
   ]
  },
  {
   "cell_type": "code",
   "execution_count": 200,
   "metadata": {},
   "outputs": [
    {
     "name": "stdout",
     "output_type": "stream",
     "text": [
      "False | VQE: -83.87422386820674 | Noncontextual Ground State: -83.87422390061549 | True Ground State: -83.92870248174707\n"
     ]
    }
   ],
   "source": [
    "from qiskit.utils import QuantumInstance, algorithm_globals\n",
    "from qiskit.aqua.components.optimizers import COBYLA, SPSA, SLSQP\n",
    "from qiskit.algorithms import VQE\n",
    "from qiskit.quantum_info.operators.symplectic.pauli import Pauli\n",
    "from qiskit.opflow.primitive_ops import PauliOp\n",
    "from qiskit import Aer\n",
    "\n",
    "ham_qiskit = q_conv.dict_to_WeightedPauliOperator(ham)\n",
    "\n",
    "seed = 50\n",
    "algorithm_globals.random_seed = seed\n",
    "qi = QuantumInstance(Aer.get_backend('statevector_simulator'), seed_transpiler=seed, seed_simulator=seed)\n",
    "slsqp = SLSQP(maxiter=5000)\n",
    "\n",
    "vqe = VQE(qc, optimizer=slsqp, quantum_instance=qi)\n",
    "vqe_run    = vqe.compute_minimum_eigenvalue(operator=ham_qiskit)\n",
    "vqe_result = vqe_run.optimal_value# + shift\n",
    "\n",
    "print(vqe_result<gs_noncon_energy, '|', 'VQE:', vqe_result, '|', 'Noncontextual Ground State:', gs_noncon_energy, '|', 'True Ground State:', true_gs)"
   ]
  },
  {
   "cell_type": "code",
   "execution_count": 201,
   "metadata": {},
   "outputs": [
    {
     "name": "stdout",
     "output_type": "stream",
     "text": [
      "{   'aux_operator_eigenvalues': None,\n",
      "    'cost_function_evals': 85,\n",
      "    'eigenstate': array([-0.00000000e+00+0.00000000e+00j, -0.00000000e+00+0.00000000e+00j,\n",
      "       -0.00000000e+00+0.00000000e+00j, ...,\n",
      "        0.00000000e+00+0.00000000e+00j,  0.00000000e+00+0.00000000e+00j,\n",
      "        4.21842283e-05-9.65375727e-22j]),\n",
      "    'eigenvalue': -83.87422386820674,\n",
      "    'optimal_parameters': {   Parameter(α): 6.2831009387212635,\n",
      "                              Parameter(γ): -2.3105519843287167e-05,\n",
      "                              Parameter(β): 6.282795531583202},\n",
      "    'optimal_point': array([ 6.28310094e+00,  6.28279553e+00, -2.31055198e-05]),\n",
      "    'optimal_value': -83.87422386820674,\n",
      "    'optimizer_evals': 85,\n",
      "    'optimizer_time': 0.833643913269043}\n"
     ]
    }
   ],
   "source": [
    "print(vqe_run)"
   ]
  },
  {
   "cell_type": "code",
   "execution_count": null,
   "metadata": {},
   "outputs": [],
   "source": [
    "bin_to_int('0111111111')"
   ]
  },
  {
   "cell_type": "code",
   "execution_count": null,
   "metadata": {},
   "outputs": [],
   "source": []
  }
 ],
 "metadata": {
  "kernelspec": {
   "display_name": "Python 3",
   "language": "python",
   "name": "python3"
  },
  "language_info": {
   "codemirror_mode": {
    "name": "ipython",
    "version": 3
   },
   "file_extension": ".py",
   "mimetype": "text/x-python",
   "name": "python",
   "nbconvert_exporter": "python",
   "pygments_lexer": "ipython3",
   "version": "3.7.0"
  }
 },
 "nbformat": 4,
 "nbformat_minor": 2
}
