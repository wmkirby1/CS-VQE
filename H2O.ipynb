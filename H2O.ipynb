{
 "cells": [
  {
   "cell_type": "code",
   "execution_count": 89,
   "metadata": {},
   "outputs": [],
   "source": [
    "import openfermion\n",
    "import openfermionpyscf\n",
    "from openfermion import MolecularData\n",
    "from openfermionpyscf import run_pyscf\n",
    "from openfermion.ops import FermionOperator, QubitOperator\n",
    "from openfermion.transforms import jordan_wigner, bravyi_kitaev\n",
    "from openfermion.transforms import get_fermion_operator\n",
    "from openfermion.circuits import (uccsd_singlet_get_packed_amplitudes,\n",
    "                               uccsd_singlet_generator, uccsd_generator,\n",
    "                               uccsd_convert_amplitude_format)\n",
    "import numpy as np\n",
    "import cs_vqe as c\n",
    "import itertools\n",
    "import qubit_conversion as q_conv\n",
    "from openfermion.linalg import LinearQubitOperator"
   ]
  },
  {
   "cell_type": "code",
   "execution_count": 90,
   "metadata": {},
   "outputs": [
    {
     "name": "stdout",
     "output_type": "stream",
     "text": [
      "H2-S1_STO-3G_singlet # qubits: 18 A terms: ['IIZZZZZZZXIIIIIIII', 'IIIIIIIIIZIIIIIIII']\n",
      "C1-O1_STO-3G_singlet # qubits: 16 A terms: ['IIZZZZZXIIIIIIII', 'IIIIIIIZIIIIIIII']\n",
      "H1-Cl1_STO-3G_singlet # qubits: 16 A terms: ['IIZZZZZXIIIIIIII', 'IIIIIIIZIIIIIIII']\n",
      "H1-Na1_STO-3G_singlet # qubits: 16 A terms: ['IIZZZZZZZXIIIIII', 'IIIIIIIIIZIIIIII']\n",
      "H2-Mg1_STO-3G_singlet # qubits: 17 A terms: ['IIIZZIIZXZZIIZZZZ', 'IIIIIIIIZIIIIIIII']\n",
      "H1-F1_3-21G_singlet # qubits: 18 A terms: ['IIIIZZZZZXZZIIIIII', 'IIZIIIIIZZIIIIIIII']\n",
      "H1-Li1_3-21G_singlet # qubits: 18 A terms: ['IIIIZZZZIIZXIIIIII', 'IIZIIIIIIIZZIIIIII']\n",
      "Be1_STO-3G_singlet # qubits: 5 A terms: ['IIIXI', 'IIIZI']\n",
      "H1-F1_STO-3G_singlet # qubits: 8 A terms: ['IIXZZZZZ', 'IIZIIIII']\n",
      "H1-Li1_STO-3G_singlet # qubits: 8 A terms: ['IIIIIXZZ', 'ZZIZIZIZ']\n",
      "Ar1_STO-3G_singlet # qubits: 13 A terms: ['IIIZZZZZXZZZZ', 'IIIIIIIIZIIII']\n",
      "F2_STO-3G_singlet # qubits: 15 A terms: ['IIIIIIIIIIIIZII', 'IIIIIIIIIIIXXYY']\n",
      "H1-O1_STO-3G_singlet # qubits: 8 A terms: ['IIXZZZZZ', 'IIZIIIII']\n",
      "H2-Be1_STO-3G_singlet # qubits: 9 A terms: ['IIIIIIXIX', 'IIIIIIIIZ']\n",
      "H2-O1_STO-3G_singlet # qubits: 10 A terms: ['IIIIZXZZZZ', 'IIIIIZIIII']\n",
      "H2_3-21G_singlet # qubits: 5 A terms: ['IZZXZ', 'ZZIZI']\n",
      "H2_6-31G_singlet # qubits: 5 A terms: ['IZZXZ', 'ZZIZI']\n",
      "H3-N1_STO-3G_singlet # qubits: 13 A terms: ['XZZZZXZIIIIII', 'IIIIIZIIIIIII']\n",
      "H4-C1_STO-3G_singlet # qubits: 14 A terms: ['IIIIIIIIIIXZZZ', 'IIIIIIIIIIZIII']\n",
      "Mg1_STO-3G_singlet # qubits: 13 A terms: ['IIIZXZZZZZZZZ', 'IIIIZIIIIIIII']\n",
      "N2_STO-3G_singlet # qubits: 15 A terms: ['IIIIIIIIIIIIIIZ', 'IIIIIIIIIIIXXYY']\n",
      "Ne1_STO-3G_singlet # qubits: 5 A terms: ['IIIXZ', 'IIIZI']\n",
      "O2_STO-3G_singlet # qubits: 15 A terms: ['IIIIIIIIIIIIZII', 'IIIIIIIIIIIXXYY']\n",
      "H1-Li1-O1_STO-3G_singlet # qubits: 18 A terms: ['IIIIIIIIIIXZZZZZZZ', 'IIIIIIIIIIZIIIIIII']\n",
      "H1-He1_STO-3G_singlet # qubits: 2 A terms: ['XZ', 'ZI']\n",
      "H3_STO-3G_singlet_1+ # qubits: 3 A terms: ['ZII', 'XXX']\n",
      "H1-He1_3-21G_singlet_1+ # qubits: 6 A terms: ['IZIIII', 'IXZXII']\n",
      "H3_3-21G_singlet_1+ # qubits: 9 A terms: ['IIXZZZZZX', 'IIZIIIIII']\n",
      "H4-N1_STO-3G_singlet_1+ # qubits: 14 A terms: ['IIIXZZZZZZZXII', 'IIIIIIIIIIIZII']\n"
     ]
    }
   ],
   "source": [
    "import ast\n",
    "import matplotlib\n",
    "import matplotlib.pyplot as plt\n",
    "\n",
    "f = open(\"hamiltonians.txt\",\"r\")\n",
    "hamiltonians = ast.literal_eval(f.read())\n",
    "f.close()\n",
    "\n",
    "for h in hamiltonians.keys():\n",
    "    print(h, '# qubits:', hamiltonians[h][1], 'A terms:', hamiltonians[h][5][3][1])"
   ]
  },
  {
   "cell_type": "code",
   "execution_count": 91,
   "metadata": {},
   "outputs": [
    {
     "name": "stdout",
     "output_type": "stream",
     "text": [
      "number of qubits: 10\n",
      "true ground state energy: -83.92870248174707\n",
      "noncontextual approximation to ground state energy: -83.87422390061549\n"
     ]
    }
   ],
   "source": [
    "speciesname = 'H2-O1_STO-3G_singlet'\n",
    "\n",
    "encoding = hamiltonians[speciesname][0] # in this dataset, always 'JW' for Jordan-Wigner, but leaves room for trying Bravyi-Kitaev as well\n",
    "num_qubits = hamiltonians[speciesname][1] # number of qubits (all of these Hamiltonians have been tapered for molecular symmetries)\n",
    "ham = hamiltonians[speciesname][2] # full Hamiltonian\n",
    "ham_noncon = hamiltonians[speciesname][3] # noncontextual part of Hamiltonian, found by greedy DFS\n",
    "true_gs = hamiltonians[speciesname][4] # ground state energy of full Hamiltonian (in Hartree)\n",
    "gs_noncon = hamiltonians[speciesname][5] # list containing information about noncontextual ground state: zeroth entry is ground state energy of noncontextual part of Hamiltonian\n",
    "\n",
    "print('number of qubits:', num_qubits)\n",
    "print('true ground state energy:', true_gs)\n",
    "print('noncontextual approximation to ground state energy:', gs_noncon[0])\n",
    "#print(ham_noncon)"
   ]
  },
  {
   "cell_type": "code",
   "execution_count": 92,
   "metadata": {},
   "outputs": [
    {
     "name": "stdout",
     "output_type": "stream",
     "text": [
      "[-83.92870248174707, [-83.8742239006154, -83.8775347638023, -83.89065311104847, -83.89785356786004, -83.91205889216381, -83.91813131301478, -83.92761703951156, -83.92862837750944, -83.92865354102835, -83.92870248174684, -83.9287024817466], [0.054478581131661485, 0.05116771794476449, 0.03804937069860159, 0.030848913887027152, 0.016643589583253515, 0.010571168732283809, 0.0010854422355066617, 7.410423762621576e-05, 4.8940718713197384e-05, 2.2737367544323206e-13, 4.689582056016661e-13], [4, 0, 3, 2, 5, 6, 1, 8, 7, 9]]\n"
     ]
    }
   ],
   "source": [
    "model = c.quasi_model(ham_noncon)\n",
    "fn_form = c.energy_function_form(ham_noncon, model)\n",
    "gs_noncon = c.find_gs_noncon(ham_noncon)\n",
    "gs_noncon_energy = gs_noncon[0]\n",
    "ep_state = gs_noncon[1]\n",
    "ham_context = {p:c for p,c in ham.items() if p not in ham_noncon}\n",
    "print(c.csvqe_approximations_heuristic(ham, ham_noncon, num_qubits, true_gs))\n",
    "#c.contextualQ_ham(ham_context)"
   ]
  },
  {
   "cell_type": "code",
   "execution_count": 93,
   "metadata": {},
   "outputs": [
    {
     "name": "stdout",
     "output_type": "stream",
     "text": [
      "commuting generators: ['ZIIIIIIIII', 'IZIIIIIIII', 'IIZIIIIIII', 'IIIZIIIIII', 'IIIIZIIIII', 'IIIIIIZIII', 'IIIIIIIZII', 'IIIIIIIIZI', 'IIIIIIIIIZ'] \n",
      "\n",
      "anticommuting generators: ['IIIIZXZZZZ', 'IIIIIZIIII'] \n",
      "\n",
      "Minimising configuration: [[1, -1, -1, -1, -1, -1, -1, -1, -1], [9.576858245891391e-08, -0.9999999999999954]]\n"
     ]
    }
   ],
   "source": [
    "print('commuting generators:',model[0], '\\n')\n",
    "print('anticommuting generators:',model[1], '\\n')\n",
    "print('Minimising configuration:', gs_noncon[1])\n",
    "#print('term reconstruction:',model[2], '\\n')"
   ]
  },
  {
   "cell_type": "code",
   "execution_count": 94,
   "metadata": {},
   "outputs": [
    {
     "data": {
      "text/plain": [
       "{'IIIIZXZZZZ': 9.576858245891391e-08, 'IIIIIZIIII': -0.9999999999999954}"
      ]
     },
     "execution_count": 94,
     "metadata": {},
     "output_type": "execute_result"
    }
   ],
   "source": [
    "A = {p:ep_state[1][index] for index, p in enumerate(model[1])}\n",
    "A"
   ]
  },
  {
   "cell_type": "code",
   "execution_count": 95,
   "metadata": {},
   "outputs": [],
   "source": [
    "def ontic_prob(ep_state, ontic_state):\n",
    "    \n",
    "    if ep_state[0] != ontic_state[0]:\n",
    "        return 0\n",
    "    \n",
    "    else:\n",
    "        prod = 1\n",
    "        for index, r in enumerate(ep_state[1]):\n",
    "            f = 1/2 * abs(r + ontic_state[1][index])\n",
    "            prod *= f\n",
    "        \n",
    "        return prod    \n",
    "\n",
    "def epistemic_dist(ep_state):\n",
    "    size_G = len(ep_state[0])\n",
    "    size_Ci = len(ep_state[1])\n",
    "    size_R = size_G + size_Ci\n",
    "    \n",
    "    ep_prob = {}\n",
    "    \n",
    "    ontic_states = list(itertools.product([1, -1], repeat=size_R))\n",
    "    \n",
    "    for o in ontic_states:\n",
    "        o_state = [list(o[0:size_G]), list(o[size_G:size_R])]\n",
    "        o_prob = ontic_prob(ep_state, o_state)\n",
    "        \n",
    "        if o_prob != 0:\n",
    "            ep_prob[o] = o_prob\n",
    "    \n",
    "    return ep_prob"
   ]
  },
  {
   "cell_type": "code",
   "execution_count": 96,
   "metadata": {},
   "outputs": [
    {
     "data": {
      "text/plain": [
       "{(1, -1, -1, -1, -1, -1, -1, -1, -1, 1, 1): 1.1379787092233828e-15,\n",
       " (1, -1, -1, -1, -1, -1, -1, -1, -1, 1, -1): 0.5000000478842901,\n",
       " (1, -1, -1, -1, -1, -1, -1, -1, -1, -1, 1): 1.137978491258188e-15,\n",
       " (1, -1, -1, -1, -1, -1, -1, -1, -1, -1, -1): 0.49999995211570764}"
      ]
     },
     "execution_count": 96,
     "metadata": {},
     "output_type": "execute_result"
    }
   ],
   "source": [
    "epistemic_dist(ep_state)"
   ]
  },
  {
   "cell_type": "code",
   "execution_count": 97,
   "metadata": {},
   "outputs": [
    {
     "data": {
      "text/plain": [
       "(9.576858245891391e-08, -0.9999999999999954)"
      ]
     },
     "execution_count": 97,
     "metadata": {},
     "output_type": "execute_result"
    }
   ],
   "source": [
    "r1 = ep_state[1][0]\n",
    "r2 = ep_state[1][1]\n",
    "#t = np.arctan((r2 + 1) / r1)\n",
    "r1, r2"
   ]
  },
  {
   "cell_type": "code",
   "execution_count": 98,
   "metadata": {},
   "outputs": [
    {
     "data": {
      "text/plain": [
       "['ZIIIIIIIII',\n",
       " 'IZIIIIIIII',\n",
       " 'IIZIIIIIII',\n",
       " 'IIIZIIIIII',\n",
       " 'IIIIZIIIII',\n",
       " 'IIIIIIZIII',\n",
       " 'IIIIIIIZII',\n",
       " 'IIIIIIIIZI',\n",
       " 'IIIIIIIIIZ']"
      ]
     },
     "execution_count": 98,
     "metadata": {},
     "output_type": "execute_result"
    }
   ],
   "source": [
    "generators = model[0]\n",
    "\n",
    "generators"
   ]
  },
  {
   "cell_type": "code",
   "execution_count": 99,
   "metadata": {},
   "outputs": [],
   "source": [
    "import itertools\n",
    "from itertools import chain, combinations\n",
    "from copy import deepcopy\n",
    "import math\n",
    "\n",
    "def bin_to_int(bits):\n",
    "    bit_string = deepcopy(bits)\n",
    "    \n",
    "    if type(bit_string) == str:\n",
    "        bit_string = [int(b) for b in bit_string]\n",
    "        \n",
    "    for index, b in enumerate(bit_string):\n",
    "        bit_string[index] = b * 2 ** (len(bit_string)-index-1)\n",
    "    \n",
    "    return sum(bit_string)\n",
    "\n",
    "\n",
    "def add_eigenstate(r1, r2, index, num_qubits, theta=0, n=0, custom_amp=None):\n",
    "    \"\"\"\n",
    "    \"\"\"\n",
    "    B = list(itertools.product([0,1], repeat=num_qubits))\n",
    "    b1 = list(B[index])\n",
    "    b2 = deepcopy(b1)\n",
    "    b2[5] = (b2[5]+1)%2\n",
    "    i1 = bin_to_int(b1)\n",
    "    i2 = bin_to_int(b2)\n",
    "    \n",
    "    q0 = b1[9]\n",
    "    q1 = b1[8]\n",
    "    q2 = b1[7]\n",
    "    q3 = b1[6]\n",
    "    q4 = b1[5]\n",
    "    q5 = b1[4] \n",
    "\n",
    "    parity=q0+q1+q2+q3+q5\n",
    "    \n",
    "    amp_ratio = (1 + r2 * (-1)**q4) / (r1 * (-1)**(parity))\n",
    "    t = ((-1)**n)*np.arctan(amp_ratio)\n",
    "    psi = [0 for i in range(2**num_qubits)]\n",
    "    \n",
    "    if custom_amp is None:   \n",
    "        psi[i1] = np.sin(t)*np.exp(1j*theta)\n",
    "        psi[i2] = np.cos(t)*np.exp(1j*(theta - n*np.pi))\n",
    "    else:\n",
    "        psi[i1] = custom_amp[0]\n",
    "        psi[i2] = custom_amp[1]\n",
    "        \n",
    "    return np.array(psi)\n",
    "\n",
    "\n",
    "def expectation(op, state):\n",
    "    state = np.array(state)\n",
    "    conj_state = np.conjugate(state)\n",
    "    O = LinearQubitOperator(op, num_qubits)\n",
    "    \n",
    "    O_state = O.matvec(state)\n",
    "    expect = conj_state.dot(O_state)\n",
    "    \n",
    "    return expect\n",
    "\n",
    "\n",
    "def discard_generator(ham_noncon, ham_context, generators):\n",
    "    new_ham_noncon = deepcopy(ham_noncon)\n",
    "    new_ham_context = deepcopy(ham_context)\n",
    "    \n",
    "    Z_indices = [g.index('Z') for g in generators]\n",
    "    removed=[]\n",
    "    \n",
    "    for index in Z_indices:\n",
    "        for p in ham_noncon:\n",
    "            if p not in removed:\n",
    "                if p[index] == 'Z':\n",
    "                    new_ham_context[p] = ham_noncon[p]\n",
    "                    del new_ham_noncon[p]\n",
    "                    removed.append(p)\n",
    "            \n",
    "    return new_ham_noncon, new_ham_context\n",
    "\n",
    "\n",
    "def rotate_operator(rotations, op):\n",
    "    rot_op = {}\n",
    "    \n",
    "    for p in op.keys():\n",
    "        p_ref = deepcopy(p)\n",
    "        parity = 1\n",
    "        coeff = op[p]\n",
    "        for r in rotations:\n",
    "            rotate_p = c.apply_rotation(r, p)\n",
    "            p = list(rotate_p.keys())[0]\n",
    "            parity *= rotate_p[p]\n",
    "        \n",
    "        rot_op[p] = parity * coeff\n",
    "        \n",
    "    return rot_op\n",
    "\n",
    "def rotate_hamiltonian(rotations, ham, ham_noncon, ham_context):\n",
    "    \n",
    "    rot_ham={}\n",
    "    rot_ham_noncon={}\n",
    "    rot_ham_context={}\n",
    "\n",
    "    for p in ham.keys():\n",
    "        p_ref = deepcopy(p)\n",
    "        parity = 1\n",
    "        coeff = ham[p]\n",
    "        for r in rotations:\n",
    "            rotate_p = c.apply_rotation(r, p)\n",
    "            p = list(rotate_p.keys())[0]\n",
    "            parity *= rotate_p[p]\n",
    "        \n",
    "        rot_ham[p] = parity * coeff\n",
    "        if p_ref in ham_noncon.keys():\n",
    "            rot_ham_noncon[p] = parity * coeff\n",
    "        else:\n",
    "            rot_ham_context[p] = parity * coeff\n",
    "            \n",
    "    return rot_ham, rot_ham_noncon, rot_ham_context\n",
    "\n",
    "\n",
    "def rotate_state(rotations, state):\n",
    "    \n",
    "    rot_state = deepcopy(state)\n",
    "    \n",
    "    for r in rotations:\n",
    "        r_op = QubitOperator('', 1/np.sqrt(2)) - q_conv.dict_to_QubitOperator({r[1]: 1/np.sqrt(2)*1j}, num_qubits)\n",
    "        r_op = LinearQubitOperator(r_op, num_qubits)\n",
    "        rot_state = r_op.matvec(rot_state)\n",
    "        \n",
    "    return rot_state\n",
    "\n",
    "\n",
    "def powerset(iterable):\n",
    "    \"powerset([1,2,3]) --> () (1,) (2,) (3,) (1,2) (1,3) (2,3) (1,2,3)\"\n",
    "    s = list(iterable)\n",
    "    return chain.from_iterable(combinations(s, r) for r in range(len(s)+1))\n",
    "\n",
    "\n",
    "def find_eigenstate_indices(initial, removed_Z_indices):\n",
    "    bins = []\n",
    "    index_powerset = list(powerset(removed_Z_indices))\n",
    "    \n",
    "    for comb in index_powerset:\n",
    "        initial_ref = list(deepcopy(initial))\n",
    "        for c in comb:\n",
    "            initial_ref[c] = str((int(initial_ref[c])+1)%2)\n",
    "        bins.append(bin_to_int(''.join(initial_ref)))\n",
    "    \n",
    "    return bins\n",
    "\n",
    "\n",
    "def random_vector(n):\n",
    "    components = [np.random.normal() for i in range(n)]\n",
    "    r = math.sqrt(sum(x*x for x in components))\n",
    "    v = [x/r for x in components]\n",
    "    return v\n",
    "\n",
    "\n",
    "def random_complex_unit():\n",
    "        rand_vec = random_vector(2)\n",
    "        x = rand_vec[0]\n",
    "        y = rand_vec[1]\n",
    "        \n",
    "        return x + y*1j"
   ]
  },
  {
   "cell_type": "code",
   "execution_count": 100,
   "metadata": {},
   "outputs": [
    {
     "data": {
      "text/plain": [
       "['ZIIIIIIIII',\n",
       " 'IZIIIIIIII',\n",
       " 'IIZIIIIIII',\n",
       " 'IIIZIIIIII',\n",
       " 'IIIIZIIIII',\n",
       " 'IIIIIIZIII',\n",
       " 'IIIIIIIZII',\n",
       " 'IIIIIIIIZI',\n",
       " 'IIIIIIIIIZ']"
      ]
     },
     "execution_count": 100,
     "metadata": {},
     "output_type": "execute_result"
    }
   ],
   "source": [
    "generators"
   ]
  },
  {
   "cell_type": "code",
   "execution_count": 101,
   "metadata": {},
   "outputs": [
    {
     "name": "stdout",
     "output_type": "stream",
     "text": [
      "['IIIIIIIIIZ', 'IIIIIIIIZI', 'IIIIIIIZII', 'IIIIIIZIII', 'IIIIZIIIII', 'IIIZIIIIII', 'IIZIIIIIII', 'IZIIIIIIII', 'ZIIIIIIIII'] [9, 8, 7, 6, 4, 3, 2, 1, 0]\n"
     ]
    },
    {
     "ename": "IndexError",
     "evalue": "list index out of range",
     "output_type": "error",
     "traceback": [
      "\u001b[0;31m---------------------------------------------------------------------------\u001b[0m",
      "\u001b[0;31mIndexError\u001b[0m                                Traceback (most recent call last)",
      "\u001b[0;32m<ipython-input-101-f8f6e62de54e>\u001b[0m in \u001b[0;36m<module>\u001b[0;34m()\u001b[0m\n\u001b[1;32m     56\u001b[0m \u001b[0;34m\u001b[0m\u001b[0m\n\u001b[1;32m     57\u001b[0m     \u001b[0;32mfor\u001b[0m \u001b[0mamps\u001b[0m \u001b[0;32min\u001b[0m \u001b[0mrandom_amplitudes\u001b[0m\u001b[0;34m:\u001b[0m\u001b[0;34m\u001b[0m\u001b[0m\n\u001b[0;32m---> 58\u001b[0;31m         \u001b[0mexpect_noncon\u001b[0m\u001b[0;34m,\u001b[0m \u001b[0mexpect_context\u001b[0m \u001b[0;34m=\u001b[0m \u001b[0mexpectation_optimiser\u001b[0m\u001b[0;34m(\u001b[0m\u001b[0mnew_ham_noncon_q\u001b[0m\u001b[0;34m,\u001b[0m \u001b[0mnew_ham_context_q\u001b[0m\u001b[0;34m,\u001b[0m \u001b[0mamps\u001b[0m\u001b[0;34m,\u001b[0m \u001b[0mZ_indices\u001b[0m\u001b[0;34m)\u001b[0m\u001b[0;34m\u001b[0m\u001b[0m\n\u001b[0m\u001b[1;32m     59\u001b[0m \u001b[0;34m\u001b[0m\u001b[0m\n\u001b[1;32m     60\u001b[0m         \u001b[0;31m#Y_full.append(expect_full)\u001b[0m\u001b[0;34m\u001b[0m\u001b[0;34m\u001b[0m\u001b[0m\n",
      "\u001b[0;32m<ipython-input-101-f8f6e62de54e>\u001b[0m in \u001b[0;36mexpectation_optimiser\u001b[0;34m(ham_n, ham_c, p, Z_indices)\u001b[0m\n\u001b[1;32m     11\u001b[0m     \u001b[0mpsi\u001b[0m \u001b[0;34m=\u001b[0m \u001b[0mnp\u001b[0m\u001b[0;34m.\u001b[0m\u001b[0marray\u001b[0m\u001b[0;34m(\u001b[0m\u001b[0;34m[\u001b[0m\u001b[0;36m0\u001b[0m \u001b[0;32mfor\u001b[0m \u001b[0mi\u001b[0m \u001b[0;32min\u001b[0m \u001b[0mrange\u001b[0m\u001b[0;34m(\u001b[0m\u001b[0;36m2\u001b[0m\u001b[0;34m**\u001b[0m\u001b[0mnum_qubits\u001b[0m\u001b[0;34m)\u001b[0m\u001b[0;34m]\u001b[0m\u001b[0;34m,\u001b[0m \u001b[0mdtype\u001b[0m\u001b[0;34m=\u001b[0m\u001b[0mcomplex\u001b[0m\u001b[0;34m)\u001b[0m\u001b[0;34m\u001b[0m\u001b[0m\n\u001b[1;32m     12\u001b[0m     \u001b[0;32mfor\u001b[0m \u001b[0mindex\u001b[0m\u001b[0;34m,\u001b[0m \u001b[0mi\u001b[0m \u001b[0;32min\u001b[0m \u001b[0menumerate\u001b[0m\u001b[0;34m(\u001b[0m\u001b[0meigenstate_indices\u001b[0m\u001b[0;34m)\u001b[0m\u001b[0;34m:\u001b[0m\u001b[0;34m\u001b[0m\u001b[0m\n\u001b[0;32m---> 13\u001b[0;31m         \u001b[0mpsi\u001b[0m \u001b[0;34m+=\u001b[0m \u001b[0;34m(\u001b[0m\u001b[0mp\u001b[0m\u001b[0;34m[\u001b[0m\u001b[0mindex\u001b[0m\u001b[0;34m]\u001b[0m\u001b[0;34m)\u001b[0m\u001b[0;34m*\u001b[0m\u001b[0madd_eigenstate\u001b[0m\u001b[0;34m(\u001b[0m\u001b[0mr1\u001b[0m\u001b[0;34m=\u001b[0m\u001b[0mr1\u001b[0m\u001b[0;34m,\u001b[0m \u001b[0mr2\u001b[0m\u001b[0;34m=\u001b[0m\u001b[0mr2\u001b[0m\u001b[0;34m,\u001b[0m \u001b[0mtheta\u001b[0m\u001b[0;34m=\u001b[0m\u001b[0;36m0\u001b[0m\u001b[0;34m,\u001b[0m \u001b[0mn\u001b[0m\u001b[0;34m=\u001b[0m\u001b[0;36m0\u001b[0m\u001b[0;34m,\u001b[0m \u001b[0mindex\u001b[0m\u001b[0;34m=\u001b[0m\u001b[0mi\u001b[0m\u001b[0;34m,\u001b[0m \u001b[0mnum_qubits\u001b[0m\u001b[0;34m=\u001b[0m\u001b[0mnum_qubits\u001b[0m\u001b[0;34m)\u001b[0m\u001b[0;34m\u001b[0m\u001b[0m\n\u001b[0m\u001b[1;32m     14\u001b[0m \u001b[0;34m\u001b[0m\u001b[0m\n\u001b[1;32m     15\u001b[0m     \u001b[0mexpect_noncon\u001b[0m \u001b[0;34m=\u001b[0m \u001b[0mexpectation\u001b[0m\u001b[0;34m(\u001b[0m\u001b[0mham_n\u001b[0m\u001b[0;34m,\u001b[0m \u001b[0mpsi\u001b[0m\u001b[0;34m)\u001b[0m\u001b[0;34m\u001b[0m\u001b[0m\n",
      "\u001b[0;31mIndexError\u001b[0m: list index out of range"
     ]
    },
    {
     "data": {
      "image/png": "[encoded data removed]",
      "text/plain": [
       "<Figure size 1728x936 with 10 Axes>"
      ]
     },
     "metadata": {
      "needs_background": "light"
     },
     "output_type": "display_data"
    }
   ],
   "source": [
    "#take expectation value algebraically\n",
    "from matplotlib import pyplot as plt\n",
    "shots=2\n",
    "\n",
    "#rot_ham, rot_ham_noncon, rot_ham_context = rotate_hamiltonian(rotations, ham, ham_noncon, ham_context)\n",
    "\n",
    "def expectation_optimiser(ham_n, ham_c, p, Z_indices):\n",
    "    initial_state = '0111101111'\n",
    "    eigenstate_indices = find_eigenstate_indices(initial_state, Z_indices)\n",
    "    \n",
    "    psi = np.array([0 for i in range(2**num_qubits)], dtype=complex)\n",
    "    for index, i in enumerate(eigenstate_indices):\n",
    "        psi += (p[index])*add_eigenstate(r1=r1, r2=r2, theta=0, n=0, index=i, num_qubits=num_qubits)\n",
    "    \n",
    "    expect_noncon = expectation(ham_n, psi)\n",
    "    expect_context = expectation(ham_c, psi)\n",
    "    \n",
    "    return expect_noncon, expect_context\n",
    "\n",
    "fig, axs = plt.subplots(nrows = 2, ncols = 5, figsize = (24,13))\n",
    "grid_pos = [(0,0),(0,1),(0,2),(0,3),(0,4),(1,0),(1,1),(1,2),(1,3),(1,4)]\n",
    "grid_pos.reverse()\n",
    "\n",
    "X=list(range(1, shots+1))\n",
    "\n",
    "random_amplitudes=[]\n",
    "for i in range(shots):  \n",
    "    rand_vec = random_vector(len(eigenstate_indices))\n",
    "    rand_vec = [random_complex_unit()*c for c in rand_vec]\n",
    "    random_amplitudes.append(rand_vec)\n",
    "\n",
    "for index, grid in enumerate(grid_pos):\n",
    "    \n",
    "    removed_index = list(range(index, 9))\n",
    "    removed_index.reverse()\n",
    "    removed_generators = [generators[i] for i in removed_index]\n",
    "    Z_indices = [g.find('Z') for g in removed_generators]\n",
    "    print(removed_generators, Z_indices)\n",
    "    \n",
    "    new_ham_noncon, new_ham_context = discard_generator(ham_noncon, ham_context, removed_generators)\n",
    "\n",
    "    #rot_ham_q = q_conv.dict_to_QubitOperator(ham, num_qubits)\n",
    "    new_ham_noncon_q = q_conv.dict_to_QubitOperator(new_ham_noncon, num_qubits)\n",
    "    new_ham_context_q = q_conv.dict_to_QubitOperator(new_ham_context, num_qubits)\n",
    "\n",
    "    eigenstate_indices = find_eigenstate_indices(initial_state, Z_indices)\n",
    "    \n",
    "    #amps=[random_vector(len(eigenstate_indices)) for i in range(shots)]\n",
    "    Y_noncon=[]\n",
    "    Y_context=[]\n",
    "    Y_combined=[]\n",
    "    Y_full=[]\n",
    "\n",
    "    #A_op = QubitOperator('Y0 Z1 Z2 Z3 Z4 Z5 Y6 Z7', r1) + QubitOperator('Z6', r2)\n",
    "    #A = LinearQubitOperator(A_op, num_qubits)\n",
    "\n",
    "    for amps in random_amplitudes:\n",
    "        expect_noncon, expect_context = expectation_optimiser(new_ham_noncon_q, new_ham_context_q, amps, Z_indices)\n",
    "\n",
    "        #Y_full.append(expect_full)\n",
    "        Y_noncon.append(expect_noncon)\n",
    "        Y_context.append(expect_context)\n",
    "        Y_combined.append(expect_noncon+expect_context)\n",
    "\n",
    "        #print(p, expect_noncon + expect_context < gs_noncon_energy)\n",
    "        #print((np.conjugate(psi)).dot(psi))\n",
    "        #Verify +1-eigenstate\n",
    "        #A_psi = A.matvec(psi)\n",
    "        #print(psi_conj.dot(A_psi))\n",
    "    \n",
    "    axs[grid].plot(X, Y_noncon, color='orange')\n",
    "    #axs[grid].scatter(X, Y_context, color='blue', marker = 'x')\n",
    "    #axs[grid].plot(X, Y_context, color='blue', ls='--')\n",
    "    axs[grid].scatter(X, Y_combined, color='black', marker = 'x')\n",
    "    axs[grid].plot(X, Y_combined, color='black', ls='--')\n",
    "    #plt.plot(range(shots), Y_combined, color='purple')\n",
    "    axs[grid].hlines(gs_noncon_energy, 1, shots, color='r')\n",
    "    axs[grid].hlines(true_gs, 1, shots, color='g')\n",
    "    \n",
    "    axs[grid].set_xticks(X)\n",
    "    axs[grid].set_title(\"%i generators removed\" % abs(index-9))\n",
    "    if grid[0] == 1:\n",
    "        axs[grid].set_xlabel('Sample Number',fontsize=16)\n",
    "    if grid[1] == 0:\n",
    "        axs[grid].set_ylabel('Energy (Ha)',fontsize=18)\n",
    "    #print('<H> w.r.t. simultaneous eigenstate:', expect)\n",
    "    #print('Noncontextual approximation:', gs_noncon_energy)\n",
    "    #print('Expectation values match?', abs(expect - gs_noncon_energy) < 10**-12) #sanity check - expectation values match? "
   ]
  },
  {
   "cell_type": "code",
   "execution_count": null,
   "metadata": {},
   "outputs": [],
   "source": [
    "find_eigenstate_indices(initial_state, [])"
   ]
  },
  {
   "cell_type": "code",
   "execution_count": 87,
   "metadata": {},
   "outputs": [
    {
     "name": "stdout",
     "output_type": "stream",
     "text": [
      "<H> w.r.t. simultaneous eigenstate: (-83.87422390061549+0j)\n",
      "Noncontextual approximation: -83.87422390061549\n",
      "Expectation values match? True\n"
     ]
    }
   ],
   "source": [
    "from openfermion.linalg import LinearQubitOperator\n",
    "\n",
    "ham_q = q_conv.dict_to_QubitOperator(ham, num_qubits)\n",
    "ham_noncon_q = q_conv.dict_to_QubitOperator(ham_noncon, num_qubits)\n",
    "ham_context_q = q_conv.dict_to_QubitOperator(ham_context, num_qubits)\n",
    "\n",
    "#take expectation value algebraically\n",
    "\n",
    "for p in np.linspace(0, 1, 1):\n",
    "    psi = add_eigenstate(r1=r1, r2=r2, index=495, theta=0, n=0, num_qubits=num_qubits)\n",
    "    expect = expectation(ham_q, psi)\n",
    "    \n",
    "    print('<H> w.r.t. simultaneous eigenstate:', expect)\n",
    "    print('Noncontextual approximation:', gs_noncon_energy)\n",
    "    print('Expectation values match?', abs(expect - gs_noncon_energy) < 10**-12) #sanity check - expectation values match?"
   ]
  },
  {
   "cell_type": "code",
   "execution_count": 88,
   "metadata": {},
   "outputs": [
    {
     "data": {
      "text/plain": [
       "[]"
      ]
     },
     "execution_count": 88,
     "metadata": {},
     "output_type": "execute_result"
    }
   ],
   "source": []
  },
  {
   "cell_type": "code",
   "execution_count": null,
   "metadata": {},
   "outputs": [],
   "source": []
  }
 ],
 "metadata": {
  "kernelspec": {
   "display_name": "Python 3",
   "language": "python",
   "name": "python3"
  },
  "language_info": {
   "codemirror_mode": {
    "name": "ipython",
    "version": 3
   },
   "file_extension": ".py",
   "mimetype": "text/x-python",
   "name": "python",
   "nbconvert_exporter": "python",
   "pygments_lexer": "ipython3",
   "version": "3.7.0"
  }
 },
 "nbformat": 4,
 "nbformat_minor": 2
}
