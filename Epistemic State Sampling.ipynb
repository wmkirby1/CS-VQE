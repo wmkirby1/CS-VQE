{
 "cells": [
  {
   "cell_type": "code",
   "execution_count": 128,
   "metadata": {},
   "outputs": [
    {
     "name": "stdout",
     "output_type": "stream",
     "text": [
      "Hamiltonian: \n",
      " (-1.5419759528969692+0j) [] +\n",
      "(-0.03640948355953764+0j) [X0 X1 Y2 Y3] +\n",
      "(0.03640948355953764+0j) [X0 Y1 Y2 X3] +\n",
      "(0.05246557037552685+0j) [X0 Z1 X2] +\n",
      "(-0.009234661837974558+0j) [X0 Z1 X2 Z3] +\n",
      "(0.04322997146404521+0j) [X0 X2] +\n",
      "(0.03640948355953764+0j) [Y0 X1 X2 Y3] +\n",
      "(-0.03640948355953764+0j) [Y0 Y1 X2 X3] +\n",
      "(0.05246557037552685+0j) [Y0 Z1 Y2] +\n",
      "(-0.009234661837974558+0j) [Y0 Z1 Y2 Z3] +\n",
      "(0.04322997146404521+0j) [Y0 Y2] +\n",
      "(0.7589136134172096+0j) [Z0] +\n",
      "(0.04322997146404521+0j) [Z0 X1 Z2 X3] +\n",
      "(0.04322997146404521+0j) [Z0 Y1 Z2 Y3] +\n",
      "(0.23578727153769516+0j) [Z0 Z1] +\n",
      "(0.12887693985157755+0j) [Z0 Z2] +\n",
      "(0.1652864234111152+0j) [Z0 Z3] +\n",
      "(0.05246557037552685+0j) [X1 Z2 X3] +\n",
      "(-0.009234661837974558+0j) [X1 X3] +\n",
      "(0.05246557037552685+0j) [Y1 Z2 Y3] +\n",
      "(-0.009234661837974558+0j) [Y1 Y3] +\n",
      "(0.7589136134172096+0j) [Z1] +\n",
      "(0.1652864234111152+0j) [Z1 Z2] +\n",
      "(0.12887693985157755+0j) [Z1 Z3] +\n",
      "(0.19140054473500764+0j) [Z2] +\n",
      "(0.18815905542064587+0j) [Z2 Z3] +\n",
      "(0.19140054473500764+0j) [Z3] \n",
      "\n",
      "UCCSD ansatz: \n",
      " 0.008295116013698348j [X0 X1 X2 Y3] +\n",
      "0.008295116013698348j [X0 X1 Y2 X3] +\n",
      "-0.008295116013698348j [X0 Y1 X2 X3] +\n",
      "0.008295116013698348j [X0 Y1 Y2 Y3] +\n",
      "-0.006293861055900036j [X0 Z1 Y2] +\n",
      "-0.008295116013698348j [Y0 X1 X2 X3] +\n",
      "0.008295116013698348j [Y0 X1 Y2 Y3] +\n",
      "-0.008295116013698348j [Y0 Y1 X2 Y3] +\n",
      "-0.008295116013698348j [Y0 Y1 Y2 X3] +\n",
      "0.006293861055900036j [Y0 Z1 X2] +\n",
      "-0.006293861055900036j [X1 Z2 Y3] +\n",
      "0.006293861055900036j [Y1 Z2 X3]\n"
     ]
    }
   ],
   "source": [
    "import openfermion\n",
    "import openfermionpyscf\n",
    "from openfermion import MolecularData\n",
    "from openfermionpyscf import run_pyscf\n",
    "from openfermion.ops import FermionOperator, QubitOperator\n",
    "from openfermion.transforms import jordan_wigner, bravyi_kitaev\n",
    "from openfermion.transforms import get_fermion_operator\n",
    "from openfermion.circuits import (uccsd_singlet_get_packed_amplitudes,\n",
    "                               uccsd_singlet_generator, uccsd_generator,\n",
    "                               uccsd_convert_amplitude_format)\n",
    "import numpy as np\n",
    "\n",
    "singlet_bool = True # Set general UCCSD or singlet UCCSD.\n",
    "\n",
    "bond_len = 0.772#1.45\n",
    "atom_1 = 'He'\n",
    "atom_2 = 'H'\n",
    "basis = 'sto3g'\n",
    "multiplicity = 1\n",
    "charge = 1\n",
    "\n",
    "coordinate_1 = (0.0, 0.0, 0.0)\n",
    "coordinate_2 = (0.0, 0.0, bond_len)\n",
    "geometry = [(atom_1, coordinate_1), (atom_2, coordinate_2)]\n",
    "\n",
    "molecule_data = MolecularData(geometry, basis, multiplicity, charge, description='Test')\n",
    "#molecule.load()\n",
    "\n",
    "# Set calculation parameters.\n",
    "run_scf = 1\n",
    "run_mp2 = 1\n",
    "run_cisd = 0\n",
    "run_ccsd = 0\n",
    "run_fci = 1\n",
    "delete_input = True\n",
    "delete_output = True\n",
    "\n",
    "# Run pyscf.\n",
    "molecule = run_pyscf(molecule_data,\n",
    "                     run_scf=run_scf,\n",
    "                     run_mp2=run_mp2,\n",
    "                     run_cisd=run_cisd,\n",
    "                     run_ccsd=run_ccsd,\n",
    "                     run_fci=run_fci)\n",
    "\n",
    "#molecule.load()\n",
    "#print(molecule)\n",
    "\n",
    "ham = get_fermion_operator(molecule.get_molecular_hamiltonian())\n",
    "ham_q = jordan_wigner(ham)\n",
    "print('Hamiltonian:', '\\n', ham_q, '\\n')\n",
    "\n",
    "scf = True      # Hartree-Fock.\n",
    "mp2 = True      # Moller-Plesset 2.\n",
    "cisd = True     # Configuration interaction singles and doubles.\n",
    "ccsd = True     # Coupled cluster singles and doubles.\n",
    "fci = True      # Full configuration interaction.\n",
    "\n",
    "calculated_molecule = run_pyscf(molecule_data, scf, mp2, cisd, ccsd, fci)\n",
    "\n",
    "if ccsd:\n",
    "    ccsd_single_amps = calculated_molecule.ccsd_single_amps\n",
    "    ccsd_double_amps = calculated_molecule.ccsd_double_amps\n",
    "\n",
    "num_electrons = calculated_molecule.n_electrons\n",
    "num_qubits = 2*calculated_molecule.n_orbitals\n",
    "\n",
    "if singlet_bool:\n",
    "    # Get singlet UCCSD generator.\n",
    "    packed_amps = uccsd_singlet_get_packed_amplitudes(ccsd_single_amps,  ccsd_double_amps, num_qubits, num_electrons)\n",
    "    ucc_sing = uccsd_singlet_generator(packed_amps, num_qubits, num_electrons)\n",
    "    #print(ucc_sing)\n",
    "\n",
    "else:\n",
    "    # Get general UCCSD operator.\n",
    "    ucc_op = uccsd_generator(ccsd_single_amps, ccsd_double_amps)\n",
    "    #print(ucc_op)\n",
    "    \n",
    "ucc_q = jordan_wigner(ucc_sing)\n",
    "print('UCCSD ansatz:', '\\n', ucc_q)"
   ]
  },
  {
   "cell_type": "code",
   "execution_count": 129,
   "metadata": {},
   "outputs": [],
   "source": [
    "def QubitOperator_to_dict(op, num_qubits):\n",
    "    \n",
    "    assert(type(op) == QubitOperator)\n",
    "    \n",
    "    op_dict = {}\n",
    "    \n",
    "    term_dict = op.terms\n",
    "    terms = list(term_dict.keys())\n",
    "\n",
    "    for t in terms:\n",
    "        \n",
    "        letters = ['I' for i in range(num_qubits)]\n",
    "\n",
    "        for i in t:\n",
    "            letters[i[0]] = i[1]\n",
    "        \n",
    "        p_string = ''.join(letters)        \n",
    "        op_dict[p_string] = term_dict[t]\n",
    "         \n",
    "    return op_dict\n",
    "\n",
    "ham = QubitOperator_to_dict(ham_q, num_qubits)\n",
    "anz_terms = list((QubitOperator_to_dict(ucc_q, num_qubits)).keys())"
   ]
  },
  {
   "cell_type": "code",
   "execution_count": 130,
   "metadata": {},
   "outputs": [],
   "source": [
    "terms_noncon = c.greedy_dfs(ham, 1, criterion='weight')[-1]\n",
    "ham_noncon = {t:ham[t] for t in terms_noncon}"
   ]
  },
  {
   "cell_type": "code",
   "execution_count": 131,
   "metadata": {},
   "outputs": [
    {
     "data": {
      "text/plain": [
       "True"
      ]
     },
     "execution_count": 131,
     "metadata": {},
     "output_type": "execute_result"
    }
   ],
   "source": [
    "c.contextualQ_ham(ham)"
   ]
  },
  {
   "cell_type": "code",
   "execution_count": 132,
   "metadata": {},
   "outputs": [],
   "source": [
    "model = c.quasi_model(ham_noncon)\n",
    "fn_form = c.energy_function_form(ham_noncon, model)\n",
    "gs_noncon = c.find_gs_noncon(ham_noncon)\n",
    "ep_state = gs_noncon[1]"
   ]
  },
  {
   "cell_type": "code",
   "execution_count": 133,
   "metadata": {},
   "outputs": [],
   "source": [
    "size_R = fn_form[0] + fn_form[1]"
   ]
  },
  {
   "cell_type": "code",
   "execution_count": 134,
   "metadata": {},
   "outputs": [
    {
     "data": {
      "text/plain": [
       "[[-1, -1, -1], [-0.07087650179757096, -0.9974850983813939]]"
      ]
     },
     "execution_count": 134,
     "metadata": {},
     "output_type": "execute_result"
    }
   ],
   "source": [
    "ep_state"
   ]
  },
  {
   "cell_type": "code",
   "execution_count": 137,
   "metadata": {},
   "outputs": [
    {
     "data": {
      "text/plain": [
       "(['ZIZI', 'IZII', 'IIIZ'],\n",
       " ['YZYI', 'ZIII'],\n",
       " {'IIII': [[], [], 1],\n",
       "  'ZIII': [[], ['ZIII'], 1],\n",
       "  'IZII': [['IZII'], [], 1],\n",
       "  'ZZII': [['IZII'], ['ZIII'], 1],\n",
       "  'IIZI': [['ZIZI'], ['ZIII'], 1],\n",
       "  'IIIZ': [['IIIZ'], [], 1],\n",
       "  'IIZZ': [['ZIZI', 'IIIZ'], ['ZIII'], 1],\n",
       "  'ZIIZ': [['IIIZ'], ['ZIII'], 1],\n",
       "  'IZZI': [['ZIZI', 'IZII'], ['ZIII'], 1],\n",
       "  'ZIZI': [['ZIZI'], [], 1],\n",
       "  'IZIZ': [['IZII', 'IIIZ'], [], 1],\n",
       "  'YZYI': [[], ['YZYI'], 1],\n",
       "  'XZXI': [['ZIZI'], ['YZYI'], (-1+0j)],\n",
       "  'YIYI': [['IZII'], ['YZYI'], 1],\n",
       "  'XIXI': [['ZIZI', 'IZII'], ['YZYI'], (-1+0j)],\n",
       "  'YZYZ': [['IIIZ'], ['YZYI'], 1],\n",
       "  'XZXZ': [['ZIZI', 'IIIZ'], ['YZYI'], (-1+0j)]})"
      ]
     },
     "execution_count": 137,
     "metadata": {},
     "output_type": "execute_result"
    }
   ],
   "source": [
    "model"
   ]
  },
  {
   "cell_type": "code",
   "execution_count": 135,
   "metadata": {},
   "outputs": [],
   "source": [
    "def ontic_prob(ep_state, ontic_state):\n",
    "    \n",
    "    if ep_state[0] != ontic_state[0]:\n",
    "        return 0\n",
    "    \n",
    "    else:\n",
    "        prod = 1\n",
    "        for index, r in enumerate(ep_state[1]):\n",
    "            f = 1/2 * abs(r + ontic_state[1][index])\n",
    "            prod *= f\n",
    "        \n",
    "        return prod    \n",
    "\n",
    "def epistemic_dist(ep_state):\n",
    "    size_G = len(ep_state[0])\n",
    "    size_Ci = len(ep_state[1])\n",
    "    size_R = size_G + size_Ci\n",
    "    \n",
    "    ep_prob = {}\n",
    "    \n",
    "    ontic_states = list(itertools.product([1, -1], repeat=size_R))\n",
    "    \n",
    "    for o in ontic_states:\n",
    "        o_state = [list(o[0:size_G]), list(o[size_G:size_R])]\n",
    "        o_prob = ontic_prob(ep_state, o_state)\n",
    "        \n",
    "        if o_prob != 0:\n",
    "            ep_prob[o] = o_prob\n",
    "    \n",
    "    return ep_prob"
   ]
  },
  {
   "cell_type": "code",
   "execution_count": 136,
   "metadata": {},
   "outputs": [
    {
     "data": {
      "text/plain": [
       "{(-1, -1, -1, 1, 1): 0.0005841635473785683,\n",
       " (-1, -1, -1, 1, -1): 0.46397758555383595,\n",
       " (-1, -1, -1, -1, 1): 0.000673287261924494,\n",
       " (-1, -1, -1, -1, -1): 0.534764963636861}"
      ]
     },
     "execution_count": 136,
     "metadata": {},
     "output_type": "execute_result"
    }
   ],
   "source": [
    "epistemic_dist(ep_state)"
   ]
  },
  {
   "cell_type": "code",
   "execution_count": null,
   "metadata": {},
   "outputs": [],
   "source": []
  }
 ],
 "metadata": {
  "kernelspec": {
   "display_name": "Python 3",
   "language": "python",
   "name": "python3"
  },
  "language_info": {
   "codemirror_mode": {
    "name": "ipython",
    "version": 3
   },
   "file_extension": ".py",
   "mimetype": "text/x-python",
   "name": "python",
   "nbconvert_exporter": "python",
   "pygments_lexer": "ipython3",
   "version": "3.7.0"
  }
 },
 "nbformat": 4,
 "nbformat_minor": 2
}
