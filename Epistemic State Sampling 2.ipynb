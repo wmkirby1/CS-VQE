{
 "cells": [
  {
   "cell_type": "code",
   "execution_count": 1,
   "metadata": {},
   "outputs": [],
   "source": [
    "import openfermion\n",
    "import openfermionpyscf\n",
    "from openfermion import MolecularData\n",
    "from openfermionpyscf import run_pyscf\n",
    "from openfermion.ops import FermionOperator, QubitOperator\n",
    "from openfermion.transforms import jordan_wigner, bravyi_kitaev\n",
    "from openfermion.transforms import get_fermion_operator\n",
    "from openfermion.circuits import (uccsd_singlet_get_packed_amplitudes,\n",
    "                               uccsd_singlet_generator, uccsd_generator,\n",
    "                               uccsd_convert_amplitude_format)\n",
    "import numpy as np\n",
    "import cs_vqe as c\n",
    "import itertools\n",
    "import qubit_conversion as q_conv"
   ]
  },
  {
   "cell_type": "code",
   "execution_count": 70,
   "metadata": {},
   "outputs": [
    {
     "name": "stdout",
     "output_type": "stream",
     "text": [
      "H2-S1_STO-3G_singlet # qubits: 18 A terms: ['IIZZZZZZZXIIIIIIII', 'IIIIIIIIIZIIIIIIII']\n",
      "C1-O1_STO-3G_singlet # qubits: 16 A terms: ['IIZZZZZXIIIIIIII', 'IIIIIIIZIIIIIIII']\n",
      "H1-Cl1_STO-3G_singlet # qubits: 16 A terms: ['IIZZZZZXIIIIIIII', 'IIIIIIIZIIIIIIII']\n",
      "H1-Na1_STO-3G_singlet # qubits: 16 A terms: ['IIZZZZZZZXIIIIII', 'IIIIIIIIIZIIIIII']\n",
      "H2-Mg1_STO-3G_singlet # qubits: 17 A terms: ['IIIZZIIZXZZIIZZZZ', 'IIIIIIIIZIIIIIIII']\n",
      "H1-F1_3-21G_singlet # qubits: 18 A terms: ['IIIIZZZZZXZZIIIIII', 'IIZIIIIIZZIIIIIIII']\n",
      "H1-Li1_3-21G_singlet # qubits: 18 A terms: ['IIIIZZZZIIZXIIIIII', 'IIZIIIIIIIZZIIIIII']\n",
      "Be1_STO-3G_singlet # qubits: 5 A terms: ['IIIXI', 'IIIZI']\n",
      "H1-F1_STO-3G_singlet # qubits: 8 A terms: ['IIXZZZZZ', 'IIZIIIII']\n",
      "H1-Li1_STO-3G_singlet # qubits: 8 A terms: ['IIIIIXZZ', 'ZZIZIZIZ']\n",
      "Ar1_STO-3G_singlet # qubits: 13 A terms: ['IIIZZZZZXZZZZ', 'IIIIIIIIZIIII']\n",
      "F2_STO-3G_singlet # qubits: 15 A terms: ['IIIIIIIIIIIIZII', 'IIIIIIIIIIIXXYY']\n",
      "H1-O1_STO-3G_singlet # qubits: 8 A terms: ['IIXZZZZZ', 'IIZIIIII']\n",
      "H2-Be1_STO-3G_singlet # qubits: 9 A terms: ['IIIIIIXIX', 'IIIIIIIIZ']\n",
      "H2-O1_STO-3G_singlet # qubits: 10 A terms: ['IIIIZXZZZZ', 'IIIIIZIIII']\n",
      "H2_3-21G_singlet # qubits: 5 A terms: ['IZZXZ', 'ZZIZI']\n",
      "H2_6-31G_singlet # qubits: 5 A terms: ['IZZXZ', 'ZZIZI']\n",
      "H3-N1_STO-3G_singlet # qubits: 13 A terms: ['XZZZZXZIIIIII', 'IIIIIZIIIIIII']\n",
      "H4-C1_STO-3G_singlet # qubits: 14 A terms: ['IIIIIIIIIIXZZZ', 'IIIIIIIIIIZIII']\n",
      "Mg1_STO-3G_singlet # qubits: 13 A terms: ['IIIZXZZZZZZZZ', 'IIIIZIIIIIIII']\n",
      "N2_STO-3G_singlet # qubits: 15 A terms: ['IIIIIIIIIIIIIIZ', 'IIIIIIIIIIIXXYY']\n",
      "Ne1_STO-3G_singlet # qubits: 5 A terms: ['IIIXZ', 'IIIZI']\n",
      "O2_STO-3G_singlet # qubits: 15 A terms: ['IIIIIIIIIIIIZII', 'IIIIIIIIIIIXXYY']\n",
      "H1-Li1-O1_STO-3G_singlet # qubits: 18 A terms: ['IIIIIIIIIIXZZZZZZZ', 'IIIIIIIIIIZIIIIIII']\n",
      "H1-He1_STO-3G_singlet # qubits: 2 A terms: ['XZ', 'ZI']\n",
      "H3_STO-3G_singlet_1+ # qubits: 3 A terms: ['ZII', 'XXX']\n",
      "H1-He1_3-21G_singlet_1+ # qubits: 6 A terms: ['IZIIII', 'IXZXII']\n",
      "H3_3-21G_singlet_1+ # qubits: 9 A terms: ['IIXZZZZZX', 'IIZIIIIII']\n",
      "H4-N1_STO-3G_singlet_1+ # qubits: 14 A terms: ['IIIXZZZZZZZXII', 'IIIIIIIIIIIZII']\n"
     ]
    }
   ],
   "source": [
    "import ast\n",
    "import matplotlib\n",
    "import matplotlib.pyplot as plt\n",
    "\n",
    "f = open(\"hamiltonians.txt\",\"r\")\n",
    "hamiltonians = ast.literal_eval(f.read())\n",
    "f.close()\n",
    "\n",
    "for h in hamiltonians.keys():\n",
    "    print(h, '# qubits:', hamiltonians[h][1], 'A terms:', hamiltonians[h][5][3][1])"
   ]
  },
  {
   "cell_type": "code",
   "execution_count": 94,
   "metadata": {},
   "outputs": [
    {
     "name": "stdout",
     "output_type": "stream",
     "text": [
      "number of qubits: 10\n",
      "true ground state energy: -83.92870248174707\n",
      "noncontextual approximation to ground state energy: -83.87422390061549\n",
      "{'IIIIIIIIII': -55.226577416214326, 'IIIIIIIIIZ': 12.411397933347452, 'IIIIIIIIZI': 12.411397933347452, 'IZIIIIIIII': 2.73330884423689, 'IIIIIIIZII': 1.6496131029811243, 'IIIIIIZIII': 1.6496131029811243, 'IIIZIIIIII': 1.2974887568152718, 'IIZIIIIIII': 1.2974887568152718, 'IIIIIZIIII': 1.1909223847985508, 'IIIIZIIIII': 1.1909223847985508, 'IIIIIIIIZZ': 1.1862777224861802, 'ZIIIIIIIII': 0.8108294833868595, 'ZIIIZZIIII': 0.8108294833868593, 'ZZZIZIZIZI': -0.7928440928467336, 'ZZIZZIIZIZ': -0.7928440928467335, 'IZIIIIIIIZ': 0.5511652977306052, 'IZIIIIIIZI': 0.5511652977306052, 'IIIIZXZZZZ': -0.3691171177897613, 'ZIIIIXZZZZ': 0.3691171177897613, 'IZIZIIIIII': 0.3454257236707442, 'IZZIIIIIII': 0.3454257236707442, 'IZIIIIIZII': 0.3377138999112341, 'IZIIIIZIII': 0.3377138999112341, 'IIIIZZIIII': 0.3096300921948822, 'IZIIIZIIII': 0.30522458512105066, 'IZIIZIIIII': 0.30522458512105066, 'ZZIIIIIIII': 0.30326149209063624, 'ZZIIZZIIII': 0.30326149209063624, 'ZIIIIZIIII': 0.3023472282620526, 'ZIIZZIIZIZ': -0.2859627472926451, 'ZIZIZIZIZI': -0.2859627472926451, 'IIIIIIIZZI': 0.2515869355056082, 'IIIIIIZIIZ': 0.2515869355056082, 'IIIZIIIIZI': 0.2450889162133895, 'IIZIIIIIIZ': 0.2450889162133895, 'IIIZIIIIIZ': 0.23830556312108053, 'IIZIIIIIZI': 0.23830556312108053, 'IIIIIIIZIZ': 0.23693603049649825, 'IIIIIIZIZI': 0.23693603049649825, 'ZIIIZIIIII': 0.22466422874207345, 'ZIIIIIIIIZ': 0.21369703529457554, 'ZIIIZZIIZI': 0.21369703529457554, 'ZIIIIIIIZI': 0.20858614874277065, 'ZIIIZZIIIZ': 0.20858614874277065, 'ZZIZZIIZZZ': -0.2018638096705474, 'ZZZIZIZIZZ': -0.2018638096705474, 'IIIIIZIIZI': 0.19873710487294718, 'IIIIZIIIIZ': 0.19873710487294718, 'IIIIIZIIIZ': 0.1959701332597126, 'IIIIZIIIZI': 0.1959701332597126, 'ZZIZZIIZII': -0.194290281941039, 'ZZZIZIZIII': -0.194290281941039, 'IIZZIIIIII': 0.1899186384178306, 'IIIIIIZZII': 0.1817943337373835, 'IIIZIIZIII': 0.1674455267713085, 'IIZIIIIZII': 0.1674455267713085, 'IIIIIZZIII': 0.16016822022287117, 'IIIIZIIZII': 0.16016822022287117, 'ZIIIIIIZII': 0.15482738900315327, 'ZIIIZZZIII': 0.15482738900315327, 'ZZIZZIZZIZ': -0.15360773576612335, 'ZZZIZIZZZI': -0.15360773576612335, 'ZIIZIIIIII': 0.1497361571628462, 'ZIZIZZIIII': 0.1497361571628462, 'IIZZIIZZZZ': 0.1496714977955476, 'IIIZZIIIII': 0.14787452182190847, 'IIZIIZIIII': 0.14787452182190847, 'ZZIZIIIZIZ': -0.14232194717470575, 'ZZZIZZZIZI': -0.14232194717470575, 'IZIZZIIZIZ': -0.14123020666743408, 'IZZIIZZIZI': -0.14123020666743408, 'ZIIIIIZIII': 0.1391124553630781, 'ZIIIZZIZII': 0.1391124553630781, 'ZZZZZIIZIZ': -0.13787227061336532, 'ZZZZZIZIZI': -0.13787227061336532, 'IIIZIIIZII': 0.1361294003611229, 'IIZIIIZIII': 0.1361294003611229, 'IIIZIZIIII': 0.13548520337742273, 'IIZIZIIIII': 0.13548520337742273, 'ZIIZZZIIII': 0.13197538317620938, 'ZIZIIIIIII': 0.13197538317620938, 'ZZIZZIIIIZ': -0.1283112091964325, 'ZZZIZIIIZI': -0.1283112091964325, 'ZZIZZZIZIZ': -0.12508311450106027, 'ZZZIIIZIZI': -0.12508311450106027, 'IIIIIZIZII': 0.12487996093473576, 'IIIIZIZIII': 0.12487996093473576, 'ZZIIZIIZIZ': -0.11846446960175804, 'ZZIIZIZIZI': -0.11846446960175804, 'IZIZIZIZIZ': -0.11304578434412921, 'IZZIZIZIZI': -0.11304578434412921, 'IIIIZXZZIZ': -0.09059781207417017, 'ZIIIIXZZIZ': 0.09059781207417017, 'IZIIZXZZZZ': -0.08988525930731531, 'ZZIIIXZZZZ': 0.08988525930731531, 'IIIIZXZZZI': -0.08684173058065968, 'ZIIIIXZZZI': 0.08684173058065968, 'IIIZZXZZZZ': -0.03877726410881898, 'ZIIZIXZZZZ': 0.03877726410881898, 'IIZIZXZZZZ': -0.03834106234896749, 'ZIZIIXZZZZ': 0.03834106234896749, 'IIIIZXIZZZ': -0.035260177075046036, 'ZIIIIXIZZZ': 0.035260177075046036, 'IZIZZXZIZI': -0.02536135761468948, 'ZZIZIXZIZI': 0.02536135761468948, 'IIIIZXZIZZ': -0.02462860538932332, 'ZIIIIXZIZZ': 0.02462860538932332, 'IZZIZXIZIZ': -0.00991134660592133, 'ZZZIIXIZIZ': 0.00991134660592133, 'IIIIIXZZZZ': -5.791003103036013e-05, 'ZIIIZXZZZZ': 5.791003103036013e-05}\n"
     ]
    }
   ],
   "source": [
    "speciesname = 'H2-O1_STO-3G_singlet'\n",
    "\n",
    "encoding = hamiltonians[speciesname][0] # in this dataset, always 'JW' for Jordan-Wigner, but leaves room for trying Bravyi-Kitaev as well\n",
    "num_qubits = hamiltonians[speciesname][1] # number of qubits (all of these Hamiltonians have been tapered for molecular symmetries)\n",
    "ham = hamiltonians[speciesname][2] # full Hamiltonian\n",
    "ham_noncon = hamiltonians[speciesname][3] # noncontextual part of Hamiltonian, found by greedy DFS\n",
    "true_gs = hamiltonians[speciesname][4] # ground state energy of full Hamiltonian (in Hartree)\n",
    "gs_noncon = hamiltonians[speciesname][5] # list containing information about noncontextual ground state: zeroth entry is ground state energy of noncontextual part of Hamiltonian\n",
    "#print('commuting generators:',model[0], '\\n')\n",
    "#print('anticommuting generators:',model[1], '\\n')\n",
    "#print('term reconstruction:',model[2], '\\n')\n",
    "\n",
    "print('number of qubits:', num_qubits)\n",
    "print('true ground state energy:', true_gs)\n",
    "print('noncontextual approximation to ground state energy:', gs_noncon[0])\n",
    "print(ham_noncon)"
   ]
  },
  {
   "cell_type": "code",
   "execution_count": 4,
   "metadata": {},
   "outputs": [
    {
     "name": "stdout",
     "output_type": "stream",
     "text": [
      "Hamiltonian: \n",
      " (1.1324434021069416+0j) [] +\n",
      "(-0.025810254414815714+0j) [X0 X1 Y2 Y3] +\n",
      "(-0.012799934786436765+0j) [X0 X1 Y2 Z3 Z4 Y5] +\n",
      "(-0.025159645839898225+0j) [X0 X1 Y2 Z3 Z4 Z5 Z6 Y7] +\n",
      "(-0.012799934786436765+0j) [X0 X1 X3 X4] +\n",
      "(-0.025159645839898225+0j) [X0 X1 X3 Z4 Z5 X6] +\n",
      "(-0.01711452882177453+0j) [X0 X1 Y4 Y5] +\n",
      "(-0.0009891049103622836+0j) [X0 X1 Y4 Z5 Z6 Y7] +\n",
      "(-0.0009891049103622836+0j) [X0 X1 X5 X6] +\n",
      "(-0.05469856574684896+0j) [X0 X1 Y6 Y7] +\n",
      "(0.025810254414815714+0j) [X0 Y1 Y2 X3] +\n",
      "(0.012799934786436765+0j) [X0 Y1 Y2 Z3 Z4 X5] +\n",
      "(0.025159645839898225+0j) [X0 Y1 Y2 Z3 Z4 Z5 Z6 X7] +\n",
      "(-0.012799934786436765+0j) [X0 Y1 Y3 X4] +\n",
      "(-0.025159645839898225+0j) [X0 Y1 Y3 Z4 Z5 X6] +\n",
      "(0.01711452882177453+0j) [X0 Y1 Y4 X5] +\n",
      "(0.0009891049103622836+0j) [X0 Y1 Y4 Z5 Z6 X7] +\n",
      "(-0.0009891049103622836+0j) [X0 Y1 Y5 X6] +\n",
      "(0.05469856574684896+0j) [X0 Y1 Y6 X7] +\n",
      "(0.0025779051794141486+0j) [X0 Z1 X2] +\n",
      "(0.004766148105680677+0j) [X0 Z1 X2 X3 Z4 X5] +\n",
      "(-0.009264702923308317+0j) [X0 Z1 X2 X3 Z4 Z5 Z6 X7] +\n",
      "(0.004766148105680677+0j) [X0 Z1 X2 Y3 Z4 Y5] +\n",
      "(-0.009264702923308317+0j) [X0 Z1 X2 Y3 Z4 Z5 Z6 Y7] +\n",
      "(-0.008165544677214167+0j) [X0 Z1 X2 Z3] +\n",
      "(0.011039175390082943+0j) [X0 Z1 X2 X4 Z5 X6] +\n",
      "(0.004031429608004399+0j) [X0 Z1 X2 Y4 Z5 Y6] +\n",
      "(-0.0012599890155227337+0j) [X0 Z1 X2 Z4] +\n",
      "(0.008519234528353322+0j) [X0 Z1 X2 X5 Z6 X7] +\n",
      "(0.008519234528353322+0j) [X0 Z1 X2 Y5 Z6 Y7] +\n",
      "(-0.016838291919083058+0j) [X0 Z1 X2 Z5] +\n",
      "(0.018855524349035768+0j) [X0 Z1 X2 Z6] +\n",
      "(0.042605574570887296+0j) [X0 Z1 X2 Z7] +\n",
      "(0.007007745782078545+0j) [X0 Z1 Y2 Y4 Z5 X6] +\n",
      "(-0.015578302903560324+0j) [X0 Z1 Z2 X3 Y4 Y5] +\n",
      "(-0.004487804920348922+0j) [X0 Z1 Z2 X3 Y4 Z5 Z6 Y7] +\n",
      "(0.0025199408617296234+0j) [X0 Z1 Z2 X3 X5 X6] +\n",
      "(0.023750050221851532+0j) [X0 Z1 Z2 X3 Y6 Y7] +\n",
      "(0.015578302903560324+0j) [X0 Z1 Z2 Y3 Y4 X5] +\n",
      "(0.004487804920348922+0j) [X0 Z1 Z2 Y3 Y4 Z5 Z6 X7] +\n",
      "(0.0025199408617296234+0j) [X0 Z1 Z2 Y3 Y5 X6] +\n",
      "(-0.023750050221851532+0j) [X0 Z1 Z2 Y3 Y6 X7] +\n",
      "(0.057762059101376675+0j) [X0 Z1 Z2 Z3 X4] +\n",
      "(0.009043151009580884+0j) [X0 Z1 Z2 Z3 X4 X5 Z6 X7] +\n",
      "(0.009043151009580884+0j) [X0 Z1 Z2 Z3 X4 Y5 Z6 Y7] +\n",
      "(-0.03282295150197555+0j) [X0 Z1 Z2 Z3 X4 Z5] +\n",
      "(-0.0008004024320864141+0j) [X0 Z1 Z2 Z3 X4 Z6] +\n",
      "(-0.00029621267986946554+0j) [X0 Z1 Z2 Z3 X4 Z7] +\n",
      "(0.0005041897522169487+0j) [X0 Z1 Z2 Z3 Z4 X5 Y6 Y7] +\n",
      "(-0.0005041897522169487+0j) [X0 Z1 Z2 Z3 Z4 Y5 Y6 X7] +\n",
      "(-0.03866070666863565+0j) [X0 Z1 Z2 Z3 Z4 Z5 X6] +\n",
      "(0.07064370485657345+0j) [X0 Z1 Z2 Z3 Z4 Z5 X6 Z7] +\n",
      "(0.004130517996844071+0j) [X0 Z1 Z2 Z3 Z4 X6] +\n",
      "(0.013173669006424955+0j) [X0 Z1 Z2 Z3 Z5 X6] +\n",
      "(-0.018902191774470705+0j) [X0 Z1 Z2 X4] +\n",
      "(0.012909964467238024+0j) [X0 Z1 Z2 Z4 Z5 X6] +\n",
      "(-0.014136043668790028+0j) [X0 Z1 Z3 X4] +\n",
      "(0.003645261543929706+0j) [X0 Z1 Z3 Z4 Z5 X6] +\n",
      "(0.03777517825610142+0j) [X0 X2] +\n",
      "(-0.009195742964429944+0j) [X0 Z2 Z3 X4] +\n",
      "(0.06584241123629389+0j) [X0 Z2 Z3 Z4 Z5 X6] +\n",
      "(0.025810254414815714+0j) [Y0 X1 X2 Y3] +\n",
      "(0.012799934786436765+0j) [Y0 X1 X2 Z3 Z4 Y5] +\n",
      "(0.025159645839898225+0j) [Y0 X1 X2 Z3 Z4 Z5 Z6 Y7] +\n",
      "(-0.012799934786436765+0j) [Y0 X1 X3 Y4] +\n",
      "(-0.025159645839898225+0j) [Y0 X1 X3 Z4 Z5 Y6] +\n",
      "(0.01711452882177453+0j) [Y0 X1 X4 Y5] +\n",
      "(0.0009891049103622836+0j) [Y0 X1 X4 Z5 Z6 Y7] +\n",
      "(-0.0009891049103622836+0j) [Y0 X1 X5 Y6] +\n",
      "(0.05469856574684896+0j) [Y0 X1 X6 Y7] +\n",
      "(-0.025810254414815714+0j) [Y0 Y1 X2 X3] +\n",
      "(-0.012799934786436765+0j) [Y0 Y1 X2 Z3 Z4 X5] +\n",
      "(-0.025159645839898225+0j) [Y0 Y1 X2 Z3 Z4 Z5 Z6 X7] +\n",
      "(-0.012799934786436765+0j) [Y0 Y1 Y3 Y4] +\n",
      "(-0.025159645839898225+0j) [Y0 Y1 Y3 Z4 Z5 Y6] +\n",
      "(-0.01711452882177453+0j) [Y0 Y1 X4 X5] +\n",
      "(-0.0009891049103622836+0j) [Y0 Y1 X4 Z5 Z6 X7] +\n",
      "(-0.0009891049103622836+0j) [Y0 Y1 Y5 Y6] +\n",
      "(-0.05469856574684896+0j) [Y0 Y1 X6 X7] +\n",
      "(0.007007745782078545+0j) [Y0 Z1 X2 X4 Z5 Y6] +\n",
      "(0.0025779051794141486+0j) [Y0 Z1 Y2] +\n",
      "(0.004766148105680677+0j) [Y0 Z1 Y2 X3 Z4 X5] +\n",
      "(-0.009264702923308317+0j) [Y0 Z1 Y2 X3 Z4 Z5 Z6 X7] +\n",
      "(0.004766148105680677+0j) [Y0 Z1 Y2 Y3 Z4 Y5] +\n",
      "(-0.009264702923308317+0j) [Y0 Z1 Y2 Y3 Z4 Z5 Z6 Y7] +\n",
      "(-0.008165544677214167+0j) [Y0 Z1 Y2 Z3] +\n",
      "(0.004031429608004399+0j) [Y0 Z1 Y2 X4 Z5 X6] +\n",
      "(0.011039175390082943+0j) [Y0 Z1 Y2 Y4 Z5 Y6] +\n",
      "(-0.0012599890155227337+0j) [Y0 Z1 Y2 Z4] +\n",
      "(0.008519234528353322+0j) [Y0 Z1 Y2 X5 Z6 X7] +\n",
      "(0.008519234528353322+0j) [Y0 Z1 Y2 Y5 Z6 Y7] +\n",
      "(-0.016838291919083058+0j) [Y0 Z1 Y2 Z5] +\n",
      "(0.018855524349035768+0j) [Y0 Z1 Y2 Z6] +\n",
      "(0.042605574570887296+0j) [Y0 Z1 Y2 Z7] +\n",
      "(0.015578302903560324+0j) [Y0 Z1 Z2 X3 X4 Y5] +\n",
      "(0.004487804920348922+0j) [Y0 Z1 Z2 X3 X4 Z5 Z6 Y7] +\n",
      "(0.0025199408617296234+0j) [Y0 Z1 Z2 X3 X5 Y6] +\n",
      "(-0.023750050221851532+0j) [Y0 Z1 Z2 X3 X6 Y7] +\n",
      "(-0.015578302903560324+0j) [Y0 Z1 Z2 Y3 X4 X5] +\n",
      "(-0.004487804920348922+0j) [Y0 Z1 Z2 Y3 X4 Z5 Z6 X7] +\n",
      "(0.0025199408617296234+0j) [Y0 Z1 Z2 Y3 Y5 Y6] +\n",
      "(0.023750050221851532+0j) [Y0 Z1 Z2 Y3 X6 X7] +\n",
      "(0.057762059101376675+0j) [Y0 Z1 Z2 Z3 Y4] +\n",
      "(0.009043151009580884+0j) [Y0 Z1 Z2 Z3 Y4 X5 Z6 X7] +\n",
      "(0.009043151009580884+0j) [Y0 Z1 Z2 Z3 Y4 Y5 Z6 Y7] +\n",
      "(-0.03282295150197555+0j) [Y0 Z1 Z2 Z3 Y4 Z5] +\n",
      "(-0.0008004024320864141+0j) [Y0 Z1 Z2 Z3 Y4 Z6] +\n",
      "(-0.00029621267986946554+0j) [Y0 Z1 Z2 Z3 Y4 Z7] +\n",
      "(-0.0005041897522169487+0j) [Y0 Z1 Z2 Z3 Z4 X5 X6 Y7] +\n",
      "(0.0005041897522169487+0j) [Y0 Z1 Z2 Z3 Z4 Y5 X6 X7] +\n",
      "(-0.03866070666863565+0j) [Y0 Z1 Z2 Z3 Z4 Z5 Y6] +\n",
      "(0.07064370485657345+0j) [Y0 Z1 Z2 Z3 Z4 Z5 Y6 Z7] +\n",
      "(0.004130517996844071+0j) [Y0 Z1 Z2 Z3 Z4 Y6] +\n",
      "(0.013173669006424955+0j) [Y0 Z1 Z2 Z3 Z5 Y6] +\n",
      "(-0.018902191774470705+0j) [Y0 Z1 Z2 Y4] +\n",
      "(0.012909964467238024+0j) [Y0 Z1 Z2 Z4 Z5 Y6] +\n",
      "(-0.014136043668790028+0j) [Y0 Z1 Z3 Y4] +\n",
      "(0.003645261543929706+0j) [Y0 Z1 Z3 Z4 Z5 Y6] +\n",
      "(0.03777517825610142+0j) [Y0 Y2] +\n",
      "(-0.009195742964429944+0j) [Y0 Z2 Z3 Y4] +\n",
      "(0.06584241123629389+0j) [Y0 Z2 Z3 Z4 Z5 Y6] +\n",
      "(0.13990631760825978+0j) [Z0] +\n",
      "(0.03777517825610142+0j) [Z0 X1 Z2 X3] +\n",
      "(-0.009195742964429944+0j) [Z0 X1 Z2 Z3 Z4 X5] +\n",
      "(0.06584241123629389+0j) [Z0 X1 Z2 Z3 Z4 Z5 Z6 X7] +\n",
      "(0.03777517825610142+0j) [Z0 Y1 Z2 Y3] +\n",
      "(-0.009195742964429944+0j) [Z0 Y1 Z2 Z3 Z4 Y5] +\n",
      "(0.06584241123629389+0j) [Z0 Y1 Z2 Z3 Z4 Z5 Z6 Y7] +\n",
      "(0.2499183879369072+0j) [Z0 Z1] +\n",
      "(-0.022845258753351326+0j) [Z0 X2 Z3 X4] +\n",
      "(-0.018031114213529122+0j) [Z0 X2 Z3 Z4 Z5 X6] +\n",
      "(-0.022845258753351326+0j) [Z0 Y2 Z3 Y4] +\n",
      "(-0.018031114213529122+0j) [Z0 Y2 Z3 Z4 Z5 Y6] +\n",
      "(0.11107234328900804+0j) [Z0 Z2] +\n",
      "(-0.035645193539788095+0j) [Z0 X3 Z4 X5] +\n",
      "(-0.04319076005342734+0j) [Z0 X3 Z4 Z5 Z6 X7] +\n",
      "(-0.035645193539788095+0j) [Z0 Y3 Z4 Y5] +\n",
      "(-0.04319076005342734+0j) [Z0 Y3 Z4 Z5 Z6 Y7] +\n",
      "(0.13688259770382377+0j) [Z0 Z3] +\n",
      "(0.004190195454530705+0j) [Z0 X4 Z5 X6] +\n",
      "(0.004190195454530705+0j) [Z0 Y4 Z5 Y6] +\n",
      "(0.12602660899459125+0j) [Z0 Z4] +\n",
      "(0.0032010905441684214+0j) [Z0 X5 Z6 X7] +\n",
      "(0.0032010905441684214+0j) [Z0 Y5 Z6 Y7] +\n",
      "(0.14314113781636578+0j) [Z0 Z5] +\n",
      "(0.1764219495897224+0j) [Z0 Z6] +\n",
      "(0.23112051533657135+0j) [Z0 Z7] +\n",
      "(-0.004766148105680677+0j) [X1 X2 Y3 Y4] +\n",
      "(0.009264702923308317+0j) [X1 X2 Y3 Z4 Z5 Y6] +\n",
      "(-0.015578302903560324+0j) [X1 X2 X4 X5] +\n",
      "(0.0025199408617296234+0j) [X1 X2 X4 Z5 Z6 X7] +\n",
      "(-0.004487804920348922+0j) [X1 X2 Y5 Y6] +\n",
      "(0.023750050221851532+0j) [X1 X2 X6 X7] +\n",
      "(0.004766148105680677+0j) [X1 Y2 Y3 X4] +\n",
      "(-0.009264702923308317+0j) [X1 Y2 Y3 Z4 Z5 X6] +\n",
      "(-0.015578302903560324+0j) [X1 Y2 Y4 X5] +\n",
      "(0.0025199408617296234+0j) [X1 Y2 Y4 Z5 Z6 X7] +\n",
      "(0.004487804920348922+0j) [X1 Y2 Y5 X6] +\n",
      "(0.023750050221851532+0j) [X1 Y2 Y6 X7] +\n",
      "(0.0025779051794141555+0j) [X1 Z2 X3] +\n",
      "(0.008519234528353322+0j) [X1 Z2 X3 X4 Z5 X6] +\n",
      "(0.008519234528353322+0j) [X1 Z2 X3 Y4 Z5 Y6] +\n",
      "(-0.016838291919083058+0j) [X1 Z2 X3 Z4] +\n",
      "(0.011039175390082943+0j) [X1 Z2 X3 X5 Z6 X7] +\n",
      "(0.004031429608004399+0j) [X1 Z2 X3 Y5 Z6 Y7] +\n",
      "(-0.0012599890155227337+0j) [X1 Z2 X3 Z5] +\n",
      "(0.042605574570887296+0j) [X1 Z2 X3 Z6] +\n",
      "(0.018855524349035768+0j) [X1 Z2 X3 Z7] +\n",
      "(0.007007745782078545+0j) [X1 Z2 Y3 Y5 Z6 X7] +\n",
      "(-0.009043151009580884+0j) [X1 Z2 Z3 X4 Y5 Y6] +\n",
      "(0.0005041897522169487+0j) [X1 Z2 Z3 X4 X6 X7] +\n",
      "(0.009043151009580884+0j) [X1 Z2 Z3 Y4 Y5 X6] +\n",
      "(0.0005041897522169487+0j) [X1 Z2 Z3 Y4 Y6 X7] +\n",
      "(0.05776205910137669+0j) [X1 Z2 Z3 Z4 X5] +\n",
      "(-0.00029621267986946554+0j) [X1 Z2 Z3 Z4 X5 Z6] +\n",
      "(-0.0008004024320864141+0j) [X1 Z2 Z3 Z4 X5 Z7] +\n",
      "(-0.03866070666863566+0j) [X1 Z2 Z3 Z4 Z5 Z6 X7] +\n",
      "(0.07064370485657345+0j) [X1 Z2 Z3 Z4 Z5 X7] +\n",
      "(0.013173669006424955+0j) [X1 Z2 Z3 Z4 Z6 X7] +\n",
      "(-0.03282295150197555+0j) [X1 Z2 Z3 X5] +\n",
      "(0.004130517996844071+0j) [X1 Z2 Z3 Z5 Z6 X7] +\n",
      "(-0.014136043668790028+0j) [X1 Z2 Z4 X5] +\n",
      "(0.003645261543929706+0j) [X1 Z2 Z4 Z5 Z6 X7] +\n",
      "(-0.008165544677214167+0j) [X1 X3] +\n",
      "(-0.018902191774470705+0j) [X1 Z3 Z4 X5] +\n",
      "(0.012909964467238024+0j) [X1 Z3 Z4 Z5 Z6 X7] +\n",
      "(0.004766148105680677+0j) [Y1 X2 X3 Y4] +\n",
      "(-0.009264702923308317+0j) [Y1 X2 X3 Z4 Z5 Y6] +\n",
      "(-0.015578302903560324+0j) [Y1 X2 X4 Y5] +\n",
      "(0.0025199408617296234+0j) [Y1 X2 X4 Z5 Z6 Y7] +\n",
      "(0.004487804920348922+0j) [Y1 X2 X5 Y6] +\n",
      "(0.023750050221851532+0j) [Y1 X2 X6 Y7] +\n",
      "(-0.004766148105680677+0j) [Y1 Y2 X3 X4] +\n",
      "(0.009264702923308317+0j) [Y1 Y2 X3 Z4 Z5 X6] +\n",
      "(-0.015578302903560324+0j) [Y1 Y2 Y4 Y5] +\n",
      "(0.0025199408617296234+0j) [Y1 Y2 Y4 Z5 Z6 Y7] +\n",
      "(-0.004487804920348922+0j) [Y1 Y2 X5 X6] +\n",
      "(0.023750050221851532+0j) [Y1 Y2 Y6 Y7] +\n",
      "(0.007007745782078545+0j) [Y1 Z2 X3 X5 Z6 Y7] +\n",
      "(0.0025779051794141555+0j) [Y1 Z2 Y3] +\n",
      "(0.008519234528353322+0j) [Y1 Z2 Y3 X4 Z5 X6] +\n",
      "(0.008519234528353322+0j) [Y1 Z2 Y3 Y4 Z5 Y6] +\n",
      "(-0.016838291919083058+0j) [Y1 Z2 Y3 Z4] +\n",
      "(0.004031429608004399+0j) [Y1 Z2 Y3 X5 Z6 X7] +\n",
      "(0.011039175390082943+0j) [Y1 Z2 Y3 Y5 Z6 Y7] +\n",
      "(-0.0012599890155227337+0j) [Y1 Z2 Y3 Z5] +\n",
      "(0.042605574570887296+0j) [Y1 Z2 Y3 Z6] +\n",
      "(0.018855524349035768+0j) [Y1 Z2 Y3 Z7] +\n",
      "(0.009043151009580884+0j) [Y1 Z2 Z3 X4 X5 Y6] +\n",
      "(0.0005041897522169487+0j) [Y1 Z2 Z3 X4 X6 Y7] +\n",
      "(-0.009043151009580884+0j) [Y1 Z2 Z3 Y4 X5 X6] +\n",
      "(0.0005041897522169487+0j) [Y1 Z2 Z3 Y4 Y6 Y7] +\n",
      "(0.05776205910137669+0j) [Y1 Z2 Z3 Z4 Y5] +\n",
      "(-0.00029621267986946554+0j) [Y1 Z2 Z3 Z4 Y5 Z6] +\n",
      "(-0.0008004024320864141+0j) [Y1 Z2 Z3 Z4 Y5 Z7] +\n",
      "(-0.03866070666863566+0j) [Y1 Z2 Z3 Z4 Z5 Z6 Y7] +\n",
      "(0.07064370485657345+0j) [Y1 Z2 Z3 Z4 Z5 Y7] +\n",
      "(0.013173669006424955+0j) [Y1 Z2 Z3 Z4 Z6 Y7] +\n",
      "(-0.03282295150197555+0j) [Y1 Z2 Z3 Y5] +\n",
      "(0.004130517996844071+0j) [Y1 Z2 Z3 Z5 Z6 Y7] +\n",
      "(-0.014136043668790028+0j) [Y1 Z2 Z4 Y5] +\n",
      "(0.003645261543929706+0j) [Y1 Z2 Z4 Z5 Z6 Y7] +\n",
      "(-0.008165544677214167+0j) [Y1 Y3] +\n",
      "(-0.018902191774470705+0j) [Y1 Z3 Z4 Y5] +\n",
      "(0.012909964467238024+0j) [Y1 Z3 Z4 Z5 Z6 Y7] +\n",
      "(0.1399063176082597+0j) [Z1] +\n",
      "(-0.035645193539788095+0j) [Z1 X2 Z3 X4] +\n",
      "(-0.04319076005342734+0j) [Z1 X2 Z3 Z4 Z5 X6] +\n",
      "(-0.035645193539788095+0j) [Z1 Y2 Z3 Y4] +\n",
      "(-0.04319076005342734+0j) [Z1 Y2 Z3 Z4 Z5 Y6] +\n",
      "(0.13688259770382377+0j) [Z1 Z2] +\n",
      "(-0.022845258753351326+0j) [Z1 X3 Z4 X5] +\n",
      "(-0.018031114213529122+0j) [Z1 X3 Z4 Z5 Z6 X7] +\n",
      "(-0.022845258753351326+0j) [Z1 Y3 Z4 Y5] +\n",
      "(-0.018031114213529122+0j) [Z1 Y3 Z4 Z5 Z6 Y7] +\n",
      "(0.11107234328900804+0j) [Z1 Z3] +\n",
      "(0.0032010905441684214+0j) [Z1 X4 Z5 X6] +\n",
      "(0.0032010905441684214+0j) [Z1 Y4 Z5 Y6] +\n",
      "(0.14314113781636578+0j) [Z1 Z4] +\n",
      "(0.004190195454530705+0j) [Z1 X5 Z6 X7] +\n",
      "(0.004190195454530705+0j) [Z1 Y5 Z6 Y7] +\n",
      "(0.12602660899459125+0j) [Z1 Z5] +\n",
      "(0.23112051533657135+0j) [Z1 Z6] +\n",
      "(0.1764219495897224+0j) [Z1 Z7] +\n",
      "(-0.026562524812130565+0j) [X2 X3 Y4 Y5] +\n",
      "(-0.009524965740543932+0j) [X2 X3 Y4 Z5 Z6 Y7] +\n",
      "(-0.009524965740543932+0j) [X2 X3 X5 X6] +\n",
      "(-0.015257972303396983+0j) [X2 X3 Y6 Y7] +\n",
      "(0.026562524812130565+0j) [X2 Y3 Y4 X5] +\n",
      "(0.009524965740543932+0j) [X2 Y3 Y4 Z5 Z6 X7] +\n",
      "(-0.009524965740543932+0j) [X2 Y3 Y5 X6] +\n",
      "(0.015257972303396983+0j) [X2 Y3 Y6 X7] +\n",
      "(0.06155545924343523+0j) [X2 Z3 X4] +\n",
      "(0.004924556798160228+0j) [X2 Z3 X4 X5 Z6 X7] +\n",
      "(0.004924556798160228+0j) [X2 Z3 X4 Y5 Z6 Y7] +\n",
      "(-0.043918610245797296+0j) [X2 Z3 X4 Z5] +\n",
      "(-0.02434906311235158+0j) [X2 Z3 X4 Z6] +\n",
      "(-0.02553824321562327+0j) [X2 Z3 X4 Z7] +\n",
      "(-0.0011891801032716904+0j) [X2 Z3 Z4 X5 Y6 Y7] +\n",
      "(0.0011891801032716904+0j) [X2 Z3 Z4 Y5 Y6 X7] +\n",
      "(0.020218321802522407+0j) [X2 Z3 Z4 Z5 X6] +\n",
      "(-0.04084731997672843+0j) [X2 Z3 Z4 Z5 X6 Z7] +\n",
      "(-0.016404649210113375+0j) [X2 Z3 Z4 X6] +\n",
      "(-0.011480092411953146+0j) [X2 Z3 Z5 X6] +\n",
      "(-0.026239994906975737+0j) [X2 X4] +\n",
      "(-0.012708134346713786+0j) [X2 Z4 Z5 X6] +\n",
      "(0.026562524812130565+0j) [Y2 X3 X4 Y5] +\n",
      "(0.009524965740543932+0j) [Y2 X3 X4 Z5 Z6 Y7] +\n",
      "(-0.009524965740543932+0j) [Y2 X3 X5 Y6] +\n",
      "(0.015257972303396983+0j) [Y2 X3 X6 Y7] +\n",
      "(-0.026562524812130565+0j) [Y2 Y3 X4 X5] +\n",
      "(-0.009524965740543932+0j) [Y2 Y3 X4 Z5 Z6 X7] +\n",
      "(-0.009524965740543932+0j) [Y2 Y3 Y5 Y6] +\n",
      "(-0.015257972303396983+0j) [Y2 Y3 X6 X7] +\n",
      "(0.06155545924343523+0j) [Y2 Z3 Y4] +\n",
      "(0.004924556798160228+0j) [Y2 Z3 Y4 X5 Z6 X7] +\n",
      "(0.004924556798160228+0j) [Y2 Z3 Y4 Y5 Z6 Y7] +\n",
      "(-0.043918610245797296+0j) [Y2 Z3 Y4 Z5] +\n",
      "(-0.02434906311235158+0j) [Y2 Z3 Y4 Z6] +\n",
      "(-0.02553824321562327+0j) [Y2 Z3 Y4 Z7] +\n",
      "(0.0011891801032716904+0j) [Y2 Z3 Z4 X5 X6 Y7] +\n",
      "(-0.0011891801032716904+0j) [Y2 Z3 Z4 Y5 X6 X7] +\n",
      "(0.020218321802522407+0j) [Y2 Z3 Z4 Z5 Y6] +\n",
      "(-0.04084731997672843+0j) [Y2 Z3 Z4 Z5 Y6 Z7] +\n",
      "(-0.016404649210113375+0j) [Y2 Z3 Z4 Y6] +\n",
      "(-0.011480092411953146+0j) [Y2 Z3 Z5 Y6] +\n",
      "(-0.026239994906975737+0j) [Y2 Y4] +\n",
      "(-0.012708134346713786+0j) [Y2 Z4 Z5 Y6] +\n",
      "(-0.2460736852001988+0j) [Z2] +\n",
      "(-0.026239994906975737+0j) [Z2 X3 Z4 X5] +\n",
      "(-0.012708134346713784+0j) [Z2 X3 Z4 Z5 Z6 X7] +\n",
      "(-0.026239994906975737+0j) [Z2 Y3 Z4 Y5] +\n",
      "(-0.012708134346713784+0j) [Z2 Y3 Z4 Z5 Z6 Y7] +\n",
      "(0.13657384315761179+0j) [Z2 Z3] +\n",
      "(-0.0006235414810885041+0j) [Z2 X4 Z5 X6] +\n",
      "(-0.0006235414810885041+0j) [Z2 Y4 Z5 Y6] +\n",
      "(0.11407664418119343+0j) [Z2 Z4] +\n",
      "(-0.010148507221632436+0j) [Z2 X5 Z6 X7] +\n",
      "(-0.010148507221632436+0j) [Z2 Y5 Z6 Y7] +\n",
      "(0.14063916899332402+0j) [Z2 Z5] +\n",
      "(0.10734715467055737+0j) [Z2 Z6] +\n",
      "(0.12260512697395436+0j) [Z2 Z7] +\n",
      "(-0.004924556798160228+0j) [X3 X4 Y5 Y6] +\n",
      "(-0.0011891801032716904+0j) [X3 X4 X6 X7] +\n",
      "(0.004924556798160228+0j) [X3 Y4 Y5 X6] +\n",
      "(-0.0011891801032716904+0j) [X3 Y4 Y6 X7] +\n",
      "(0.06155545924343526+0j) [X3 Z4 X5] +\n",
      "(-0.02553824321562327+0j) [X3 Z4 X5 Z6] +\n",
      "(-0.02434906311235158+0j) [X3 Z4 X5 Z7] +\n",
      "(0.020218321802522414+0j) [X3 Z4 Z5 Z6 X7] +\n",
      "(-0.04084731997672843+0j) [X3 Z4 Z5 X7] +\n",
      "(-0.011480092411953146+0j) [X3 Z4 Z6 X7] +\n",
      "(-0.043918610245797296+0j) [X3 X5] +\n",
      "(-0.016404649210113375+0j) [X3 Z5 Z6 X7] +\n",
      "(0.004924556798160228+0j) [Y3 X4 X5 Y6] +\n",
      "(-0.0011891801032716904+0j) [Y3 X4 X6 Y7] +\n",
      "(-0.004924556798160228+0j) [Y3 Y4 X5 X6] +\n",
      "(-0.0011891801032716904+0j) [Y3 Y4 Y6 Y7] +\n",
      "(0.06155545924343526+0j) [Y3 Z4 Y5] +\n",
      "(-0.02553824321562327+0j) [Y3 Z4 Y5 Z6] +\n",
      "(-0.02434906311235158+0j) [Y3 Z4 Y5 Z7] +\n",
      "(0.020218321802522414+0j) [Y3 Z4 Z5 Z6 Y7] +\n",
      "(-0.04084731997672843+0j) [Y3 Z4 Z5 Y7] +\n",
      "(-0.011480092411953146+0j) [Y3 Z4 Z6 Y7] +\n",
      "(-0.043918610245797296+0j) [Y3 Y5] +\n",
      "(-0.016404649210113375+0j) [Y3 Z5 Z6 Y7] +\n",
      "(-0.2460736852001988+0j) [Z3] +\n",
      "(-0.010148507221632436+0j) [Z3 X4 Z5 X6] +\n",
      "(-0.010148507221632436+0j) [Z3 Y4 Z5 Y6] +\n",
      "(0.14063916899332402+0j) [Z3 Z4] +\n",
      "(-0.0006235414810885041+0j) [Z3 X5 Z6 X7] +\n",
      "(-0.0006235414810885041+0j) [Z3 Y5 Z6 Y7] +\n",
      "(0.11407664418119343+0j) [Z3 Z5] +\n",
      "(0.12260512697395436+0j) [Z3 Z6] +\n",
      "(0.10734715467055737+0j) [Z3 Z7] +\n",
      "(-0.007546384867913607+0j) [X4 X5 Y6 Y7] +\n",
      "(0.007546384867913607+0j) [X4 Y5 Y6 X7] +\n",
      "(0.02507683257012396+0j) [X4 Z5 X6] +\n",
      "(0.0075255074988822375+0j) [X4 Z5 X6 Z7] +\n",
      "(-0.01443900553458959+0j) [X4 X6] +\n",
      "(0.007546384867913607+0j) [Y4 X5 X6 Y7] +\n",
      "(-0.007546384867913607+0j) [Y4 Y5 X6 X7] +\n",
      "(0.02507683257012396+0j) [Y4 Z5 Y6] +\n",
      "(0.0075255074988822375+0j) [Y4 Z5 Y6 Z7] +\n",
      "(-0.01443900553458959+0j) [Y4 Y6] +\n",
      "(-0.6730850144698561+0j) [Z4] +\n",
      "(-0.01443900553458959+0j) [Z4 X5 Z6 X7] +\n",
      "(-0.01443900553458959+0j) [Z4 Y5 Z6 Y7] +\n",
      "(0.1709538488886404+0j) [Z4 Z5] +\n",
      "(0.11356297243590323+0j) [Z4 Z6] +\n",
      "(0.12110935730381683+0j) [Z4 Z7] +\n",
      "(0.025076832570123962+0j) [X5 Z6 X7] +\n",
      "(0.0075255074988822375+0j) [X5 X7] +\n",
      "(0.025076832570123962+0j) [Y5 Z6 Y7] +\n",
      "(0.0075255074988822375+0j) [Y5 Y7] +\n",
      "(-0.6730850144698561+0j) [Z5] +\n",
      "(0.12110935730381683+0j) [Z5 Z6] +\n",
      "(0.11356297243590323+0j) [Z5 Z7] +\n",
      "(-1.1402165324907323+0j) [Z6] +\n",
      "(0.23196260932848445+0j) [Z6 Z7] +\n",
      "(-1.1402165324907323+0j) [Z7] \n",
      "\n"
     ]
    },
    {
     "name": "stdout",
     "output_type": "stream",
     "text": [
      "UCCSD ansatz: \n",
      " 0.006478936130102838j [X0 X1 X2 Y3] +\n",
      "0.006478936130102838j [X0 X1 Y2 X3] +\n",
      "0.0020562744029710704j [X0 X1 X4 Y5] +\n",
      "0.0020562744029710704j [X0 X1 Y4 X5] +\n",
      "0.005083283191416048j [X0 X1 X6 Y7] +\n",
      "0.005083283191416048j [X0 X1 Y6 X7] +\n",
      "-0.006478936130102838j [X0 Y1 X2 X3] +\n",
      "0.006478936130102838j [X0 Y1 Y2 Y3] +\n",
      "-0.0020562744029710704j [X0 Y1 X4 X5] +\n",
      "0.0020562744029710704j [X0 Y1 Y4 Y5] +\n",
      "-0.005083283191416048j [X0 Y1 X6 X7] +\n",
      "0.005083283191416048j [X0 Y1 Y6 Y7] +\n",
      "-0.006360390047729467j [X0 Z1 Y2] +\n",
      "-0.002645411873769119j [X0 Z1 Z2 Z3 Y4] +\n",
      "0.0009221551709274561j [X0 Z1 Z2 Z3 Z4 Z5 Y6] +\n",
      "-0.006478936130102838j [Y0 X1 X2 X3] +\n",
      "0.006478936130102838j [Y0 X1 Y2 Y3] +\n",
      "-0.0020562744029710704j [Y0 X1 X4 X5] +\n",
      "0.0020562744029710704j [Y0 X1 Y4 Y5] +\n",
      "-0.005083283191416048j [Y0 X1 X6 X7] +\n",
      "0.005083283191416048j [Y0 X1 Y6 Y7] +\n",
      "-0.006478936130102838j [Y0 Y1 X2 Y3] +\n",
      "-0.006478936130102838j [Y0 Y1 Y2 X3] +\n",
      "-0.0020562744029710704j [Y0 Y1 X4 Y5] +\n",
      "-0.0020562744029710704j [Y0 Y1 Y4 X5] +\n",
      "-0.005083283191416048j [Y0 Y1 X6 Y7] +\n",
      "-0.005083283191416048j [Y0 Y1 Y6 X7] +\n",
      "0.006360390047729467j [Y0 Z1 X2] +\n",
      "0.002645411873769119j [Y0 Z1 Z2 Z3 X4] +\n",
      "-0.0009221551709274561j [Y0 Z1 Z2 Z3 Z4 Z5 X6] +\n",
      "-0.006360390047729467j [X1 Z2 Y3] +\n",
      "-0.002645411873769119j [X1 Z2 Z3 Z4 Y5] +\n",
      "0.0009221551709274561j [X1 Z2 Z3 Z4 Z5 Z6 Y7] +\n",
      "0.006360390047729467j [Y1 Z2 X3] +\n",
      "0.002645411873769119j [Y1 Z2 Z3 Z4 X5] +\n",
      "-0.0009221551709274561j [Y1 Z2 Z3 Z4 Z5 Z6 X7]\n"
     ]
    }
   ],
   "source": [
    "import openfermion\n",
    "import openfermionpyscf\n",
    "from openfermion import MolecularData\n",
    "from openfermionpyscf import run_pyscf\n",
    "from openfermion.ops import FermionOperator, QubitOperator\n",
    "from openfermion.transforms import jordan_wigner, bravyi_kitaev\n",
    "from openfermion.transforms import get_fermion_operator\n",
    "from openfermion.circuits import (uccsd_singlet_get_packed_amplitudes,\n",
    "                               uccsd_singlet_generator, uccsd_generator,\n",
    "                               uccsd_convert_amplitude_format)\n",
    "import numpy as np\n",
    "import cs_vqe as c\n",
    "import itertools\n",
    "import qubit_conversion as q_conv\n",
    "\n",
    "singlet_bool = True # Set general UCCSD or singlet UCCSD.\n",
    "\n",
    "bond_len = 0.772#1.45\n",
    "atom_1 = 'He'\n",
    "atom_2 = 'H'\n",
    "basis = '3-21g'\n",
    "multiplicity = 1\n",
    "charge = 1\n",
    "\n",
    "coordinate_1 = (0.0, 0.0, 0.0)\n",
    "coordinate_2 = (0.0, 0.0, bond_len)\n",
    "geometry = [(atom_1, coordinate_1), (atom_2, coordinate_2)]\n",
    "\n",
    "molecule_data = MolecularData(geometry, basis, multiplicity, charge, description='Test')\n",
    "#molecule.load()\n",
    "\n",
    "# Set calculation parameters.\n",
    "run_scf = 1\n",
    "run_mp2 = 1\n",
    "run_cisd = 0\n",
    "run_ccsd = 0\n",
    "run_fci = 1\n",
    "delete_input = True\n",
    "delete_output = True\n",
    "\n",
    "# Run pyscf.\n",
    "molecule = run_pyscf(molecule_data,\n",
    "                     run_scf=run_scf,\n",
    "                     run_mp2=run_mp2,\n",
    "                     run_cisd=run_cisd,\n",
    "                     run_ccsd=run_ccsd,\n",
    "                     run_fci=run_fci)\n",
    "\n",
    "#molecule.load()\n",
    "#print(molecule)\n",
    "\n",
    "ham = get_fermion_operator(molecule.get_molecular_hamiltonian())\n",
    "ham_q = jordan_wigner(ham)\n",
    "print('Hamiltonian:', '\\n', ham_q, '\\n')\n",
    "\n",
    "scf = True      # Hartree-Fock.\n",
    "mp2 = True      # Moller-Plesset 2.\n",
    "cisd = True     # Configuration interaction singles and doubles.\n",
    "ccsd = True     # Coupled cluster singles and doubles.\n",
    "fci = True      # Full configuration interaction.\n",
    "\n",
    "calculated_molecule = run_pyscf(molecule_data, scf, mp2, cisd, ccsd, fci)\n",
    "\n",
    "if ccsd:\n",
    "    ccsd_single_amps = calculated_molecule.ccsd_single_amps\n",
    "    ccsd_double_amps = calculated_molecule.ccsd_double_amps\n",
    "\n",
    "num_electrons = calculated_molecule.n_electrons\n",
    "num_qubits = 2*calculated_molecule.n_orbitals\n",
    "\n",
    "if singlet_bool:\n",
    "    # Get singlet UCCSD generator.\n",
    "    packed_amps = uccsd_singlet_get_packed_amplitudes(ccsd_single_amps,  ccsd_double_amps, num_qubits, num_electrons)\n",
    "    ucc_sing = uccsd_singlet_generator(packed_amps, num_qubits, num_electrons)\n",
    "    #print(ucc_sing)\n",
    "\n",
    "else:\n",
    "    # Get general UCCSD operator.\n",
    "    ucc_op = uccsd_generator(ccsd_single_amps, ccsd_double_amps)\n",
    "    #print(ucc_op)\n",
    "    \n",
    "ucc_q = jordan_wigner(ucc_sing)\n",
    "print('UCCSD ansatz:', '\\n', ucc_q)"
   ]
  },
  {
   "cell_type": "code",
   "execution_count": 4,
   "metadata": {},
   "outputs": [
    {
     "ename": "NameError",
     "evalue": "name 'ham_q' is not defined",
     "output_type": "error",
     "traceback": [
      "\u001b[0;31m---------------------------------------------------------------------------\u001b[0m",
      "\u001b[0;31mNameError\u001b[0m                                 Traceback (most recent call last)",
      "\u001b[0;32m<ipython-input-4-9a92b1034db3>\u001b[0m in \u001b[0;36m<module>\u001b[0;34m()\u001b[0m\n\u001b[0;32m----> 1\u001b[0;31m \u001b[0mham\u001b[0m \u001b[0;34m=\u001b[0m \u001b[0mq_conv\u001b[0m\u001b[0;34m.\u001b[0m\u001b[0mQubitOperator_to_dict\u001b[0m\u001b[0;34m(\u001b[0m\u001b[0mham_q\u001b[0m\u001b[0;34m,\u001b[0m \u001b[0mnum_qubits\u001b[0m\u001b[0;34m)\u001b[0m\u001b[0;34m\u001b[0m\u001b[0m\n\u001b[0m\u001b[1;32m      2\u001b[0m \u001b[0manz_terms\u001b[0m \u001b[0;34m=\u001b[0m \u001b[0mlist\u001b[0m\u001b[0;34m(\u001b[0m\u001b[0;34m(\u001b[0m\u001b[0mq_conv\u001b[0m\u001b[0;34m.\u001b[0m\u001b[0mQubitOperator_to_dict\u001b[0m\u001b[0;34m(\u001b[0m\u001b[0mucc_q\u001b[0m\u001b[0;34m,\u001b[0m \u001b[0mnum_qubits\u001b[0m\u001b[0;34m)\u001b[0m\u001b[0;34m)\u001b[0m\u001b[0;34m.\u001b[0m\u001b[0mkeys\u001b[0m\u001b[0;34m(\u001b[0m\u001b[0;34m)\u001b[0m\u001b[0;34m)\u001b[0m\u001b[0;34m\u001b[0m\u001b[0m\n\u001b[1;32m      3\u001b[0m \u001b[0mterms_noncon\u001b[0m \u001b[0;34m=\u001b[0m \u001b[0mc\u001b[0m\u001b[0;34m.\u001b[0m\u001b[0mgreedy_dfs\u001b[0m\u001b[0;34m(\u001b[0m\u001b[0mham\u001b[0m\u001b[0;34m,\u001b[0m \u001b[0;36m1\u001b[0m\u001b[0;34m,\u001b[0m \u001b[0mcriterion\u001b[0m\u001b[0;34m=\u001b[0m\u001b[0;34m'weight'\u001b[0m\u001b[0;34m)\u001b[0m\u001b[0;34m[\u001b[0m\u001b[0;34m-\u001b[0m\u001b[0;36m1\u001b[0m\u001b[0;34m]\u001b[0m\u001b[0;34m\u001b[0m\u001b[0m\n\u001b[1;32m      4\u001b[0m \u001b[0mham_noncon\u001b[0m \u001b[0;34m=\u001b[0m \u001b[0;34m{\u001b[0m\u001b[0mt\u001b[0m\u001b[0;34m:\u001b[0m\u001b[0mham\u001b[0m\u001b[0;34m[\u001b[0m\u001b[0mt\u001b[0m\u001b[0;34m]\u001b[0m \u001b[0;32mfor\u001b[0m \u001b[0mt\u001b[0m \u001b[0;32min\u001b[0m \u001b[0mterms_noncon\u001b[0m\u001b[0;34m}\u001b[0m\u001b[0;34m\u001b[0m\u001b[0m\n\u001b[1;32m      5\u001b[0m \u001b[0;31m#ham_noncon\u001b[0m\u001b[0;34m\u001b[0m\u001b[0;34m\u001b[0m\u001b[0m\n",
      "\u001b[0;31mNameError\u001b[0m: name 'ham_q' is not defined"
     ]
    }
   ],
   "source": [
    "ham = q_conv.QubitOperator_to_dict(ham_q, num_qubits)\n",
    "anz_terms = list((q_conv.QubitOperator_to_dict(ucc_q, num_qubits)).keys())\n",
    "terms_noncon = c.greedy_dfs(ham, 1, criterion='weight')[-1]\n",
    "ham_noncon = {t:ham[t] for t in terms_noncon}\n",
    "#ham_noncon\n",
    "terms_context = list(ham.keys() - terms_noncon)\n",
    "ham_context = {t:ham[t] for t in terms_context}\n",
    "#ham_context\n",
    "c.contextualQ_ham(ham_context)"
   ]
  },
  {
   "cell_type": "code",
   "execution_count": 5,
   "metadata": {},
   "outputs": [
    {
     "name": "stderr",
     "output_type": "stream",
     "text": [
      "/home/tim/anaconda3/lib/python3.7/site-packages/qiskit/aqua/algorithms/eigen_solvers/eigen_solver.py:38: DeprecationWarning: The package qiskit.aqua.algorithms.eigen_solvers is deprecated. It was moved/refactored to qiskit.algorithms.eigen_solvers (pip install qiskit-terra). For more information see <https://github.com/Qiskit/qiskit-aqua/blob/master/README.md#migration-guide>\n",
      "  'qiskit-terra')\n"
     ]
    },
    {
     "name": "stdout",
     "output_type": "stream",
     "text": [
      "[-8.93327607]\n"
     ]
    },
    {
     "name": "stderr",
     "output_type": "stream",
     "text": [
      "/home/tim/anaconda3/lib/python3.7/site-packages/qiskit/aqua/operators/operator_base.py:46: DeprecationWarning: The package qiskit.aqua.operators is deprecated. It was moved/refactored to qiskit.opflow (pip install qiskit-terra). For more information see <https://github.com/Qiskit/qiskit-aqua/blob/master/README.md#migration-guide>\n",
      "  warn_package('aqua.operators', 'qiskit.opflow', 'qiskit-terra')\n"
     ]
    }
   ],
   "source": [
    "from qiskit.aqua.algorithms import NumPyEigensolver\n",
    "\n",
    "result = NumPyEigensolver(q_conv.dict_to_WeightedPauliOperator(ham)).run()\n",
    "true_gs = np.real(result.eigenvalues)\n",
    "\n",
    "print(true_gs)"
   ]
  },
  {
   "cell_type": "code",
   "execution_count": 95,
   "metadata": {},
   "outputs": [
    {
     "data": {
      "text/plain": [
       "[-83.92870248174707,\n",
       " [-83.8742239006154,\n",
       "  -83.8775347638022,\n",
       "  -83.89065311104831,\n",
       "  -83.89785356786018,\n",
       "  -83.91205889216387,\n",
       "  -83.91813131301454,\n",
       "  -83.92761703951169,\n",
       "  -83.92862837750931,\n",
       "  -83.92865354102884,\n",
       "  -83.92870248174634,\n",
       "  -83.92870248174634],\n",
       " [0.054478581131661485,\n",
       "  0.051167717944863966,\n",
       "  0.03804937069875791,\n",
       "  0.030848913886885043,\n",
       "  0.016643589583196672,\n",
       "  0.010571168732525393,\n",
       "  0.001085442235378764,\n",
       "  7.410423775411346e-05,\n",
       "  4.8940718230028324e-05,\n",
       "  7.247535904753022e-13,\n",
       "  7.247535904753022e-13],\n",
       " [4, 0, 3, 2, 5, 6, 1, 8, 7, 9]]"
      ]
     },
     "execution_count": 95,
     "metadata": {},
     "output_type": "execute_result"
    }
   ],
   "source": [
    "model = c.quasi_model(ham_noncon)\n",
    "fn_form = c.energy_function_form(ham_noncon, model)\n",
    "gs_noncon = c.find_gs_noncon(ham_noncon)\n",
    "gs_noncon_energy = gs_noncon[0]\n",
    "ep_state = gs_noncon[1]\n",
    "ham_context = {p:c for p,c in ham.items() if p not in ham_noncon}\n",
    "c.csvqe_approximations_heuristic(ham, ham_noncon, num_qubits, true_gs)\n",
    "#c.contextualQ_ham(ham_context)"
   ]
  },
  {
   "cell_type": "code",
   "execution_count": 15,
   "metadata": {},
   "outputs": [
    {
     "data": {
      "text/plain": [
       "((['ZIIIIIIIII',\n",
       "   'IZIIIIIIII',\n",
       "   'IIZIIIIIII',\n",
       "   'IIIZIIIIII',\n",
       "   'IIIIZIIIII',\n",
       "   'IIIIIIZIII',\n",
       "   'IIIIIIIZII',\n",
       "   'IIIIIIIIZI',\n",
       "   'IIIIIIIIIZ'],\n",
       "  ['IIIIZXZZZZ', 'IIIIIZIIII']),\n",
       " -83.87422390061549,\n",
       " [[1, -1, -1, -1, -1, -1, -1, -1, -1],\n",
       "  [9.576858245891391e-08, -0.9999999999999954]])"
      ]
     },
     "execution_count": 15,
     "metadata": {},
     "output_type": "execute_result"
    }
   ],
   "source": [
    "model[0:2], gs_noncon_energy, ep_state"
   ]
  },
  {
   "cell_type": "markdown",
   "metadata": {},
   "source": [
    "# The epistemic state defines a classical probability distribution:"
   ]
  },
  {
   "cell_type": "code",
   "execution_count": 16,
   "metadata": {},
   "outputs": [],
   "source": [
    "def ontic_prob(ep_state, ontic_state):\n",
    "    \n",
    "    if ep_state[0] != ontic_state[0]:\n",
    "        return 0\n",
    "    \n",
    "    else:\n",
    "        prod = 1\n",
    "        for index, r in enumerate(ep_state[1]):\n",
    "            f = 1/2 * abs(r + ontic_state[1][index])\n",
    "            prod *= f\n",
    "        \n",
    "        return prod    \n",
    "\n",
    "def epistemic_dist(ep_state):\n",
    "    size_G = len(ep_state[0])\n",
    "    size_Ci = len(ep_state[1])\n",
    "    size_R = size_G + size_Ci\n",
    "    \n",
    "    ep_prob = {}\n",
    "    \n",
    "    ontic_states = list(itertools.product([1, -1], repeat=size_R))\n",
    "    \n",
    "    for o in ontic_states:\n",
    "        o_state = [list(o[0:size_G]), list(o[size_G:size_R])]\n",
    "        o_prob = ontic_prob(ep_state, o_state)\n",
    "        \n",
    "        if o_prob != 0:\n",
    "            ep_prob[o] = o_prob\n",
    "    \n",
    "    return ep_prob"
   ]
  },
  {
   "cell_type": "code",
   "execution_count": 17,
   "metadata": {},
   "outputs": [
    {
     "data": {
      "text/plain": [
       "{(1, -1, -1, -1, -1, -1, -1, -1, -1, 1, 1): 1.1379787092233828e-15,\n",
       " (1, -1, -1, -1, -1, -1, -1, -1, -1, 1, -1): 0.5000000478842901,\n",
       " (1, -1, -1, -1, -1, -1, -1, -1, -1, -1, 1): 1.137978491258188e-15,\n",
       " (1, -1, -1, -1, -1, -1, -1, -1, -1, -1, -1): 0.49999995211570764}"
      ]
     },
     "execution_count": 17,
     "metadata": {},
     "output_type": "execute_result"
    }
   ],
   "source": [
    "epistemic_dist(ep_state)"
   ]
  },
  {
   "cell_type": "markdown",
   "metadata": {},
   "source": [
    "# Find a simultaneous eigenstate of the operators G_i and A:"
   ]
  },
  {
   "cell_type": "code",
   "execution_count": 18,
   "metadata": {},
   "outputs": [
    {
     "name": "stdout",
     "output_type": "stream",
     "text": [
      "[]\n"
     ]
    }
   ],
   "source": [
    "from copy import deepcopy\n",
    "\n",
    "G = model[0]\n",
    "fixed_qubits = ['I' for i in range(num_qubits)]\n",
    "basis_ops = []\n",
    "mult_Z_indices = []\n",
    "\n",
    "for index, g in enumerate(G):\n",
    "    Z_indices = [i for i, p in enumerate(list(g)) if p == 'Z']\n",
    "    if len(Z_indices) == 1:\n",
    "        if ep_state[0][index] == -1:\n",
    "            fixed_qubits[Z_indices[0]] = 1\n",
    "        else:\n",
    "            fixed_qubits[Z_indices[0]] = 0\n",
    "    else:\n",
    "        mult_Z_indices.append([ep_state[0][index], Z_indices])\n",
    "        \n",
    "\n",
    "for Z_indices in mult_Z_indices:\n",
    "    Z0, Z1 = Z_indices[1][0], Z_indices[1][1] \n",
    "    q0, q1 = fixed_qubits[Z0], fixed_qubits[Z1]\n",
    "    \n",
    "    if q0 != q1:\n",
    "        if q0 != 'I':\n",
    "            if Z_indices[0] == -1:\n",
    "                fixed_qubits[Z1] = (q0+1)%2\n",
    "            else:\n",
    "                fixed_qubits[Z1] = q0\n",
    "        else:\n",
    "            if Z_indices[0] == -1:\n",
    "                fixed_qubits[Z0] = (q1+1)%2\n",
    "            else:\n",
    "                fixed_qubits[Z0] = q1\n",
    "        mult_Z_indices.remove(Z_indices)\n",
    "            \n",
    "for Z_indices in mult_Z_indices:\n",
    "    if Z_indices[0] == -1:\n",
    "        fixed = deepcopy(fixed_qubits)\n",
    "        fixed[Z_indices[1][0]] = 0\n",
    "        fixed[Z_indices[1][1]] = 1\n",
    "        fixed = [str(i) for i in fixed]\n",
    "        basis_ops.append(''.join(fixed))\n",
    "        \n",
    "        fixed = deepcopy(fixed_qubits)\n",
    "        fixed[Z_indices[1][0]] = 1\n",
    "        fixed[Z_indices[1][1]] = 0\n",
    "        fixed = [str(i) for i in fixed]\n",
    "        basis_ops.append(''.join(fixed))\n",
    "    \n",
    "print(basis_ops)"
   ]
  },
  {
   "cell_type": "code",
   "execution_count": 88,
   "metadata": {},
   "outputs": [
    {
     "data": {
      "text/plain": [
       "-4.753035164654311e-08"
      ]
     },
     "execution_count": 88,
     "metadata": {},
     "output_type": "execute_result"
    }
   ],
   "source": [
    "r1 = ep_state[1][0]\n",
    "r2 = ep_state[1][1]\n",
    "t = np.arctan((r2 + 1) / r1)\n",
    "t"
   ]
  },
  {
   "cell_type": "code",
   "execution_count": 91,
   "metadata": {},
   "outputs": [],
   "source": [
    "def bin_to_int(bin_str):\n",
    "    bits = [int(b) for b in bin_str]\n",
    "    for index, b in enumerate(bits):\n",
    "        bits[index] = b * 2 ** (len(bits)-index-1)\n",
    "    return sum(bits)\n",
    "\n",
    "psi = [0 for i in range(2**num_qubits)]\n",
    "psi[bin_to_int('0111101111')] = np.sin(t)\n",
    "psi[bin_to_int('0111111111')] = np.cos(t)\n",
    "#print(psi)"
   ]
  },
  {
   "cell_type": "code",
   "execution_count": 90,
   "metadata": {},
   "outputs": [
    {
     "name": "stdout",
     "output_type": "stream",
     "text": [
      "<H> w.r.t. simultaneous eigenstate: (-83.87422390061543+0j)\n",
      "Noncontextual approximation: -83.87422390061549\n",
      "Expectation values match? True\n"
     ]
    }
   ],
   "source": [
    "from openfermion.linalg import LinearQubitOperator\n",
    "\n",
    "psi = np.array(psi)\n",
    "ham_q = q_conv.dict_to_QubitOperator(ham, num_qubits)\n",
    "ham_noncon_q = q_conv.dict_to_QubitOperator(ham_noncon, num_qubits)\n",
    "ham_context_q = q_conv.dict_to_QubitOperator(ham_context, num_qubits)\n",
    "\n",
    "#take expectation value algebraically\n",
    "H = LinearQubitOperator(ham_noncon_q, num_qubits)\n",
    "H_psi = H.matvec(psi)\n",
    "expect = psi.dot(H_psi)\n",
    "\n",
    "print('<H> w.r.t. simultaneous eigenstate:', expect)\n",
    "print('Noncontextual approximation:', gs_noncon_energy)\n",
    "print('Expectation values match?', abs(expect - gs_noncon_energy) < 10**-12) #sanity check - expectation values match? "
   ]
  },
  {
   "cell_type": "markdown",
   "metadata": {},
   "source": [
    "# Do we have any quantum corrections?"
   ]
  },
  {
   "cell_type": "code",
   "execution_count": 52,
   "metadata": {},
   "outputs": [
    {
     "data": {
      "text/plain": [
       "['ZIIIIIIIII',\n",
       " 'IZIIIIIIII',\n",
       " 'IIZIIIIIII',\n",
       " 'IIIZIIIIII',\n",
       " 'IIIIZIIIII',\n",
       " 'IIIIIIZIII',\n",
       " 'IIIIIIIZII',\n",
       " 'IIIIIIIIZI',\n",
       " 'IIIIIIIIIZ']"
      ]
     },
     "execution_count": 52,
     "metadata": {},
     "output_type": "execute_result"
    }
   ],
   "source": [
    "G = model[0]\n",
    "terms_context = list(ham_context.keys())\n",
    "G"
   ]
  },
  {
   "cell_type": "code",
   "execution_count": 53,
   "metadata": {},
   "outputs": [
    {
     "name": "stdout",
     "output_type": "stream",
     "text": [
      "No quantum correction\n"
     ]
    }
   ],
   "source": [
    "q_corr_terms = []\n",
    "for t in terms_context:\n",
    "    commutes = []\n",
    "    for g in G:\n",
    "        if c.commute(t, g):\n",
    "            commutes.append(g)\n",
    "    #print(t, 'commutes with the noncontextual generators:', commutes)\n",
    "    if commutes == G:\n",
    "        q_corr_terms.append(t)\n",
    "        \n",
    "if q_corr_terms == []:\n",
    "    print('No quantum correction')\n",
    "else:\n",
    "    print('Terms admitting quantum correction:', q_corr_terms)"
   ]
  },
  {
   "cell_type": "code",
   "execution_count": 54,
   "metadata": {},
   "outputs": [],
   "source": [
    "#psi2 = [0 for i in range(2**num_qubits)]\n",
    "#psi2[bin_to_int('000011')] = np.sin(t)\n",
    "#psi2[bin_to_int('010111')] = -np.cos(t)"
   ]
  },
  {
   "cell_type": "code",
   "execution_count": 55,
   "metadata": {},
   "outputs": [],
   "source": [
    "#from qiskit import QuantumCircuit\n",
    "#from qiskit.extensions import Initialize\n",
    "#from qiskit.circuit import Parameter\n",
    "\n",
    "#anz = QuantumCircuit(num_qubits) # We are redefining qc\n",
    "#anz.initialize(psi)\n",
    "#anz.ry(Parameter('x'), 3)\n",
    "#anz.initialize(psi2)\n",
    "#anz.rx(Parameter('y'), 3)"
   ]
  },
  {
   "cell_type": "code",
   "execution_count": 56,
   "metadata": {},
   "outputs": [],
   "source": [
    "#from qiskit.utils import QuantumInstance, algorithm_globals\n",
    "#from qiskit.aqua.components.optimizers import COBYLA, SPSA, SLSQP\n",
    "#from qiskit.algorithms import VQE\n",
    "#from qiskit.quantum_info.operators.symplectic.pauli import Pauli\n",
    "#from qiskit.opflow.primitive_ops import PauliOp\n",
    "#from qiskit import Aer\n",
    "\n",
    "#ham_qiskit = sum([PauliOp(Pauli(k), ham[k]) for k in ham.keys()])\n",
    "\n",
    "#seed = 50\n",
    "#algorithm_globals.random_seed = seed\n",
    "#qi = QuantumInstance(Aer.get_backend('statevector_simulator'), seed_transpiler=seed, seed_simulator=seed)\n",
    "#slsqp = SLSQP(maxiter=1000)\n",
    "\n",
    "#vqe = VQE(anz, optimizer=slsqp, quantum_instance=qi)\n",
    "#vqe_run    = vqe.compute_minimum_eigenvalue(operator=ham_qiskit)\n",
    "#vqe_result = vqe_run.optimal_value# + shift\n",
    "\n",
    "#print('VQE:', vqe_result, '|', 'Noncontextual Ground State:', gs_noncon_energy, 'True Ground State:', true_gs)"
   ]
  },
  {
   "cell_type": "code",
   "execution_count": 57,
   "metadata": {},
   "outputs": [
    {
     "name": "stdout",
     "output_type": "stream",
     "text": [
      "[-83.8742239006154, -83.87422390061546, -83.8758195779362, -83.88240004021091, -83.89086618279309, -83.91323713466015, -83.91937617916174, -83.92862837750964, -83.92865354102884]\n",
      "[-83.92870248]\n"
     ]
    }
   ],
   "source": [
    "from qiskit.aqua.algorithms import NumPyEigensolver\n",
    "\n",
    "order = [0,1,2,3,4,5,6,7]\n",
    "print(c.contextual_subspace_approximations(ham,model,fn_form,ep_state,order))\n",
    "\n",
    "result = NumPyEigensolver(q_conv.dict_to_WeightedPauliOperator(ham)).run()\n",
    "exact_energy = np.real(result.eigenvalues)\n",
    "\n",
    "print(exact_energy)"
   ]
  },
  {
   "cell_type": "code",
   "execution_count": 58,
   "metadata": {},
   "outputs": [
    {
     "data": {
      "text/plain": [
       "[]"
      ]
     },
     "execution_count": 58,
     "metadata": {},
     "output_type": "execute_result"
    }
   ],
   "source": [
    "rotations = (c.diagonalize_epistemic(model,fn_form,ep_state))[0]\n",
    "rotations"
   ]
  },
  {
   "cell_type": "code",
   "execution_count": 59,
   "metadata": {},
   "outputs": [],
   "source": [
    "from copy import deepcopy\n",
    "\n",
    "rot_psi = deepcopy(psi)\n",
    "\n",
    "for r in rotations:\n",
    "    r_op = LinearQubitOperator(QubitOperator('', 1/np.sqrt(2)) + q_conv.dict_to_QubitOperator({r[1]: -1/np.sqrt(2)*1j}, num_qubits), num_qubits)\n",
    "    rot_psi = r_op.matvec(rot_psi)\n",
    "    \n",
    "#print(rot_psi)"
   ]
  },
  {
   "cell_type": "code",
   "execution_count": 60,
   "metadata": {},
   "outputs": [
    {
     "name": "stdout",
     "output_type": "stream",
     "text": [
      "<H> w.r.t. simultaneous eigenstate: (-83.87422390061546+0j)\n",
      "Noncontextual approximation: -83.87422390061549\n",
      "Expectation values match? False\n"
     ]
    }
   ],
   "source": [
    "from openfermion.linalg import LinearQubitOperator\n",
    "\n",
    "rot_psi = np.array(rot_psi)\n",
    "rot_ham = c.get_reduced_hamiltonians(ham,model,fn_form,ep_state,order=[0,1,2,3,4,5,6,7])[8]\n",
    "rot_ham_q = q_conv.dict_to_QubitOperator(rot_ham, num_qubits)\n",
    "\n",
    "#take expectation value algebraically\n",
    "rot_H = LinearQubitOperator(rot_ham_q, num_qubits)\n",
    "rot_H_psi = rot_H.matvec(rot_psi)\n",
    "rot_expect = rot_psi.dot(rot_H_psi)\n",
    "\n",
    "print('<H> w.r.t. simultaneous eigenstate:', rot_expect)\n",
    "print('Noncontextual approximation:', gs_noncon_energy)\n",
    "print('Expectation values match?', abs(rot_expect - gs_noncon_energy) < 10**-14) #sanity check - expectation values match? "
   ]
  },
  {
   "cell_type": "code",
   "execution_count": 61,
   "metadata": {},
   "outputs": [
    {
     "data": {
      "text/plain": [
       "((-83.87422390061546+0j), (-83.87422390061543+0j))"
      ]
     },
     "execution_count": 61,
     "metadata": {},
     "output_type": "execute_result"
    }
   ],
   "source": [
    "rot_psi.dot(rot_H.matvec(rot_psi)), psi.dot(H.matvec(psi))"
   ]
  },
  {
   "cell_type": "code",
   "execution_count": 62,
   "metadata": {},
   "outputs": [
    {
     "data": {
      "text/plain": [
       "array([ True,  True,  True, ...,  True,  True,  True])"
      ]
     },
     "execution_count": 62,
     "metadata": {},
     "output_type": "execute_result"
    }
   ],
   "source": []
  },
  {
   "cell_type": "code",
   "execution_count": null,
   "metadata": {},
   "outputs": [],
   "source": []
  },
  {
   "cell_type": "code",
   "execution_count": null,
   "metadata": {},
   "outputs": [],
   "source": []
  },
  {
   "cell_type": "code",
   "execution_count": null,
   "metadata": {},
   "outputs": [],
   "source": []
  }
 ],
 "metadata": {
  "kernelspec": {
   "display_name": "Python 3",
   "language": "python",
   "name": "python3"
  },
  "language_info": {
   "codemirror_mode": {
    "name": "ipython",
    "version": 3
   },
   "file_extension": ".py",
   "mimetype": "text/x-python",
   "name": "python",
   "nbconvert_exporter": "python",
   "pygments_lexer": "ipython3",
   "version": "3.7.0"
  }
 },
 "nbformat": 4,
 "nbformat_minor": 2
}
