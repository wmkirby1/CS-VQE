{
 "cells": [
  {
   "cell_type": "code",
   "execution_count": 4,
   "metadata": {},
   "outputs": [],
   "source": [
    "import openfermion\n",
    "import openfermionpyscf\n",
    "from openfermion import MolecularData\n",
    "from openfermionpyscf import run_pyscf\n",
    "from openfermion.ops import FermionOperator, QubitOperator\n",
    "from openfermion.transforms import jordan_wigner, bravyi_kitaev\n",
    "from openfermion.transforms import get_fermion_operator\n",
    "from openfermion.circuits import (uccsd_singlet_get_packed_amplitudes,\n",
    "                               uccsd_singlet_generator, uccsd_generator,\n",
    "                               uccsd_convert_amplitude_format)\n",
    "import numpy as np\n",
    "import utils.cs_vqe as c\n",
    "import itertools\n",
    "import utils.qubit_conversion as q_conv"
   ]
  },
  {
   "cell_type": "code",
   "execution_count": 5,
   "metadata": {},
   "outputs": [
    {
     "name": "stdout",
     "output_type": "stream",
     "text": [
      "Hamiltonian: \n",

      " (1.1324434021069383+0j) [] +\n",
      "(-0.02581025441481776+0j) [X0 X1 Y2 Y3] +\n",
      "(-0.012799934786435978+0j) [X0 X1 Y2 Z3 Z4 Y5] +\n",
      "(-0.025159645839899145+0j) [X0 X1 Y2 Z3 Z4 Z5 Z6 Y7] +\n",
      "(-0.012799934786435978+0j) [X0 X1 X3 X4] +\n",
      "(-0.025159645839899145+0j) [X0 X1 X3 Z4 Z5 X6] +\n",
      "(-0.0171145288217741+0j) [X0 X1 Y4 Y5] +\n",
      "(-0.0009891049103608776+0j) [X0 X1 Y4 Z5 Z6 Y7] +\n",
      "(-0.0009891049103608776+0j) [X0 X1 X5 X6] +\n",
      "(-0.054698565746848046+0j) [X0 X1 Y6 Y7] +\n",
      "(0.02581025441481776+0j) [X0 Y1 Y2 X3] +\n",
      "(0.012799934786435978+0j) [X0 Y1 Y2 Z3 Z4 X5] +\n",
      "(0.025159645839899145+0j) [X0 Y1 Y2 Z3 Z4 Z5 Z6 X7] +\n",
      "(-0.012799934786435978+0j) [X0 Y1 Y3 X4] +\n",
      "(-0.025159645839899145+0j) [X0 Y1 Y3 Z4 Z5 X6] +\n",
      "(0.0171145288217741+0j) [X0 Y1 Y4 X5] +\n",
      "(0.0009891049103608776+0j) [X0 Y1 Y4 Z5 Z6 X7] +\n",
      "(-0.0009891049103608776+0j) [X0 Y1 Y5 X6] +\n",
      "(0.054698565746848046+0j) [X0 Y1 Y6 X7] +\n",
      "(0.002577905179419724+0j) [X0 Z1 X2] +\n",
      "(0.004766148105680847+0j) [X0 Z1 X2 X3 Z4 X5] +\n",
      "(-0.009264702923309548+0j) [X0 Z1 X2 X3 Z4 Z5 Z6 X7] +\n",
      "(0.004766148105680847+0j) [X0 Z1 X2 Y3 Z4 Y5] +\n",
      "(-0.009264702923309548+0j) [X0 Z1 X2 Y3 Z4 Z5 Z6 Y7] +\n",
      "(-0.008165544677213348+0j) [X0 Z1 X2 Z3] +\n",
      "(0.011039175390083306+0j) [X0 Z1 X2 X4 Z5 X6] +\n",
      "(0.004031429608004648+0j) [X0 Z1 X2 Y4 Z5 Y6] +\n",
      "(-0.0012599890155223377+0j) [X0 Z1 X2 Z4] +\n",
      "(0.008519234528354352+0j) [X0 Z1 X2 X5 Z6 X7] +\n",
      "(0.008519234528354352+0j) [X0 Z1 X2 Y5 Z6 Y7] +\n",
      "(-0.01683829191908304+0j) [X0 Z1 X2 Z5] +\n",
      "(0.01885552434903694+0j) [X0 Z1 X2 Z6] +\n",
      "(0.04260557457088947+0j) [X0 Z1 X2 Z7] +\n",
      "(0.007007745782078658+0j) [X0 Z1 Y2 Y4 Z5 X6] +\n",
      "(-0.015578302903560702+0j) [X0 Z1 Z2 X3 Y4 Y5] +\n",
      "(-0.004487804920349705+0j) [X0 Z1 Z2 X3 Y4 Z5 Z6 Y7] +\n",
      "(0.0025199408617289534+0j) [X0 Z1 Z2 X3 X5 X6] +\n",
      "(0.02375005022185252+0j) [X0 Z1 Z2 X3 Y6 Y7] +\n",
      "(0.015578302903560702+0j) [X0 Z1 Z2 Y3 Y4 X5] +\n",
      "(0.004487804920349705+0j) [X0 Z1 Z2 Y3 Y4 Z5 Z6 X7] +\n",
      "(0.0025199408617289534+0j) [X0 Z1 Z2 Y3 Y5 X6] +\n",
      "(-0.02375005022185252+0j) [X0 Z1 Z2 Y3 Y6 X7] +\n",
      "(0.057762059101369584+0j) [X0 Z1 Z2 Z3 X4] +\n",
      "(0.00904315100958068+0j) [X0 Z1 Z2 Z3 X4 X5 Z6 X7] +\n",
      "(0.00904315100958068+0j) [X0 Z1 Z2 Z3 X4 Y5 Z6 Y7] +\n",
      "(-0.03282295150197541+0j) [X0 Z1 Z2 Z3 X4 Z5] +\n",
      "(-0.0008004024320877251+0j) [X0 Z1 Z2 Z3 X4 Z6] +\n",
      "(-0.0002962126798720997+0j) [X0 Z1 Z2 Z3 X4 Z7] +\n",
      "(0.0005041897522156254+0j) [X0 Z1 Z2 Z3 Z4 X5 Y6 Y7] +\n",
      "(-0.0005041897522156254+0j) [X0 Z1 Z2 Z3 Z4 Y5 Y6 X7] +\n",
      "(-0.0386607066686353+0j) [X0 Z1 Z2 Z3 Z4 Z5 X6] +\n",
      "(0.07064370485657227+0j) [X0 Z1 Z2 Z3 Z4 Z5 X6 Z7] +\n",
      "(0.004130517996843835+0j) [X0 Z1 Z2 Z3 Z4 X6] +\n",
      "(0.013173669006424514+0j) [X0 Z1 Z2 Z3 Z5 X6] +\n",
      "(-0.018902191774471194+0j) [X0 Z1 Z2 X4] +\n",
      "(0.012909964467239118+0j) [X0 Z1 Z2 Z4 Z5 X6] +\n",
      "(-0.014136043668790347+0j) [X0 Z1 Z3 X4] +\n",
      "(0.0036452615439295684+0j) [X0 Z1 Z3 Z4 Z5 X6] +\n",
      "(0.037775178256103326+0j) [X0 X2] +\n",
      "(-0.009195742964432582+0j) [X0 Z2 Z3 X4] +\n",
      "(0.06584241123629236+0j) [X0 Z2 Z3 Z4 Z5 X6] +\n",
      "(0.02581025441481776+0j) [Y0 X1 X2 Y3] +\n",
      "(0.012799934786435978+0j) [Y0 X1 X2 Z3 Z4 Y5] +\n",
      "(0.025159645839899145+0j) [Y0 X1 X2 Z3 Z4 Z5 Z6 Y7] +\n",
      "(-0.012799934786435978+0j) [Y0 X1 X3 Y4] +\n",
      "(-0.025159645839899145+0j) [Y0 X1 X3 Z4 Z5 Y6] +\n",
      "(0.0171145288217741+0j) [Y0 X1 X4 Y5] +\n",
      "(0.0009891049103608776+0j) [Y0 X1 X4 Z5 Z6 Y7] +\n",
      "(-0.0009891049103608776+0j) [Y0 X1 X5 Y6] +\n",
      "(0.054698565746848046+0j) [Y0 X1 X6 Y7] +\n",
      "(-0.02581025441481776+0j) [Y0 Y1 X2 X3] +\n",
      "(-0.012799934786435978+0j) [Y0 Y1 X2 Z3 Z4 X5] +\n",
      "(-0.025159645839899145+0j) [Y0 Y1 X2 Z3 Z4 Z5 Z6 X7] +\n",
      "(-0.012799934786435978+0j) [Y0 Y1 Y3 Y4] +\n",
      "(-0.025159645839899145+0j) [Y0 Y1 Y3 Z4 Z5 Y6] +\n",
      "(-0.0171145288217741+0j) [Y0 Y1 X4 X5] +\n",
      "(-0.0009891049103608776+0j) [Y0 Y1 X4 Z5 Z6 X7] +\n",
      "(-0.0009891049103608776+0j) [Y0 Y1 Y5 Y6] +\n",
      "(-0.054698565746848046+0j) [Y0 Y1 X6 X7] +\n",
      "(0.007007745782078658+0j) [Y0 Z1 X2 X4 Z5 Y6] +\n",
      "(0.002577905179419724+0j) [Y0 Z1 Y2] +\n",
      "(0.004766148105680847+0j) [Y0 Z1 Y2 X3 Z4 X5] +\n",
      "(-0.009264702923309548+0j) [Y0 Z1 Y2 X3 Z4 Z5 Z6 X7] +\n",
      "(0.004766148105680847+0j) [Y0 Z1 Y2 Y3 Z4 Y5] +\n",
      "(-0.009264702923309548+0j) [Y0 Z1 Y2 Y3 Z4 Z5 Z6 Y7] +\n",
      "(-0.008165544677213348+0j) [Y0 Z1 Y2 Z3] +\n",
      "(0.004031429608004648+0j) [Y0 Z1 Y2 X4 Z5 X6] +\n",
      "(0.011039175390083306+0j) [Y0 Z1 Y2 Y4 Z5 Y6] +\n",
      "(-0.0012599890155223377+0j) [Y0 Z1 Y2 Z4] +\n",
      "(0.008519234528354352+0j) [Y0 Z1 Y2 X5 Z6 X7] +\n",
      "(0.008519234528354352+0j) [Y0 Z1 Y2 Y5 Z6 Y7] +\n",
      "(-0.01683829191908304+0j) [Y0 Z1 Y2 Z5] +\n",
      "(0.01885552434903694+0j) [Y0 Z1 Y2 Z6] +\n",
      "(0.04260557457088947+0j) [Y0 Z1 Y2 Z7] +\n",
      "(0.015578302903560702+0j) [Y0 Z1 Z2 X3 X4 Y5] +\n",
      "(0.004487804920349705+0j) [Y0 Z1 Z2 X3 X4 Z5 Z6 Y7] +\n",
      "(0.0025199408617289534+0j) [Y0 Z1 Z2 X3 X5 Y6] +\n",
      "(-0.02375005022185252+0j) [Y0 Z1 Z2 X3 X6 Y7] +\n",
      "(-0.015578302903560702+0j) [Y0 Z1 Z2 Y3 X4 X5] +\n",
      "(-0.004487804920349705+0j) [Y0 Z1 Z2 Y3 X4 Z5 Z6 X7] +\n",
      "(0.0025199408617289534+0j) [Y0 Z1 Z2 Y3 Y5 Y6] +\n",
      "(0.02375005022185252+0j) [Y0 Z1 Z2 Y3 X6 X7] +\n",
      "(0.057762059101369584+0j) [Y0 Z1 Z2 Z3 Y4] +\n",
      "(0.00904315100958068+0j) [Y0 Z1 Z2 Z3 Y4 X5 Z6 X7] +\n",
      "(0.00904315100958068+0j) [Y0 Z1 Z2 Z3 Y4 Y5 Z6 Y7] +\n",
      "(-0.03282295150197541+0j) [Y0 Z1 Z2 Z3 Y4 Z5] +\n",
      "(-0.0008004024320877251+0j) [Y0 Z1 Z2 Z3 Y4 Z6] +\n",
      "(-0.0002962126798720997+0j) [Y0 Z1 Z2 Z3 Y4 Z7] +\n",
      "(-0.0005041897522156254+0j) [Y0 Z1 Z2 Z3 Z4 X5 X6 Y7] +\n",
      "(0.0005041897522156254+0j) [Y0 Z1 Z2 Z3 Z4 Y5 X6 X7] +\n",
      "(-0.0386607066686353+0j) [Y0 Z1 Z2 Z3 Z4 Z5 Y6] +\n",
      "(0.07064370485657227+0j) [Y0 Z1 Z2 Z3 Z4 Z5 Y6 Z7] +\n",
      "(0.004130517996843835+0j) [Y0 Z1 Z2 Z3 Z4 Y6] +\n",
      "(0.013173669006424514+0j) [Y0 Z1 Z2 Z3 Z5 Y6] +\n",
      "(-0.018902191774471194+0j) [Y0 Z1 Z2 Y4] +\n",
      "(0.012909964467239118+0j) [Y0 Z1 Z2 Z4 Z5 Y6] +\n",
      "(-0.014136043668790347+0j) [Y0 Z1 Z3 Y4] +\n",
      "(0.0036452615439295684+0j) [Y0 Z1 Z3 Z4 Z5 Y6] +\n",
      "(0.037775178256103326+0j) [Y0 Y2] +\n",
      "(-0.009195742964432582+0j) [Y0 Z2 Z3 Y4] +\n",
      "(0.06584241123629236+0j) [Y0 Z2 Z3 Z4 Z5 Y6] +\n",
      "(0.1399063176082609+0j) [Z0] +\n",
      "(0.037775178256103326+0j) [Z0 X1 Z2 X3] +\n",
      "(-0.009195742964432582+0j) [Z0 X1 Z2 Z3 Z4 X5] +\n",
      "(0.06584241123629235+0j) [Z0 X1 Z2 Z3 Z4 Z5 Z6 X7] +\n",
      "(0.037775178256103326+0j) [Z0 Y1 Z2 Y3] +\n",
      "(-0.009195742964432582+0j) [Z0 Y1 Z2 Z3 Z4 Y5] +\n",
      "(0.06584241123629235+0j) [Z0 Y1 Z2 Z3 Z4 Z5 Z6 Y7] +\n",
      "(0.24991838793690488+0j) [Z0 Z1] +\n",
      "(-0.022845258753351215+0j) [Z0 X2 Z3 X4] +\n",
      "(-0.018031114213529743+0j) [Z0 X2 Z3 Z4 Z5 X6] +\n",
      "(-0.022845258753351215+0j) [Z0 Y2 Z3 Y4] +\n",
      "(-0.018031114213529743+0j) [Z0 Y2 Z3 Z4 Z5 Y6] +\n",
      "(0.11107234328900883+0j) [Z0 Z2] +\n",
      "(-0.03564519353978719+0j) [Z0 X3 Z4 X5] +\n",
      "(-0.04319076005342888+0j) [Z0 X3 Z4 Z5 Z6 X7] +\n",
      "(-0.03564519353978719+0j) [Z0 Y3 Z4 Y5] +\n",
      "(-0.04319076005342888+0j) [Z0 Y3 Z4 Z5 Z6 Y7] +\n",
      "(0.1368825977038266+0j) [Z0 Z3] +\n",
      "(0.004190195454531408+0j) [Z0 X4 Z5 X6] +\n",
      "(0.004190195454531408+0j) [Z0 Y4 Z5 Y6] +\n",
      "(0.12602660899459067+0j) [Z0 Z4] +\n",
      "(0.00320109054417053+0j) [Z0 X5 Z6 X7] +\n",
      "(0.00320109054417053+0j) [Z0 Y5 Z6 Y7] +\n",
      "(0.14314113781636478+0j) [Z0 Z5] +\n",
      "(0.17642194958972152+0j) [Z0 Z6] +\n",
      "(0.23112051533656958+0j) [Z0 Z7] +\n",
      "(-0.0047661481056808465+0j) [X1 X2 Y3 Y4] +\n",
      "(0.00926470292330955+0j) [X1 X2 Y3 Z4 Z5 Y6] +\n",
      "(-0.015578302903560702+0j) [X1 X2 X4 X5] +\n",
      "(0.0025199408617289534+0j) [X1 X2 X4 Z5 Z6 X7] +\n",
      "(-0.004487804920349705+0j) [X1 X2 Y5 Y6] +\n",
      "(0.023750050221852524+0j) [X1 X2 X6 X7] +\n",
      "(0.0047661481056808465+0j) [X1 Y2 Y3 X4] +\n",
      "(-0.00926470292330955+0j) [X1 Y2 Y3 Z4 Z5 X6] +\n",
      "(-0.015578302903560702+0j) [X1 Y2 Y4 X5] +\n",
      "(0.0025199408617289534+0j) [X1 Y2 Y4 Z5 Z6 X7] +\n",
      "(0.004487804920349705+0j) [X1 Y2 Y5 X6] +\n",
      "(0.023750050221852524+0j) [X1 Y2 Y6 X7] +\n",
      "(0.0025779051794197093+0j) [X1 Z2 X3] +\n",
      "(0.008519234528354352+0j) [X1 Z2 X3 X4 Z5 X6] +\n",
      "(0.008519234528354352+0j) [X1 Z2 X3 Y4 Z5 Y6] +\n",
      "(-0.01683829191908304+0j) [X1 Z2 X3 Z4] +\n",
      "(0.011039175390083306+0j) [X1 Z2 X3 X5 Z6 X7] +\n",
      "(0.004031429608004648+0j) [X1 Z2 X3 Y5 Z6 Y7] +\n",
      "(-0.0012599890155223377+0j) [X1 Z2 X3 Z5] +\n",
      "(0.04260557457088947+0j) [X1 Z2 X3 Z6] +\n",
      "(0.01885552434903694+0j) [X1 Z2 X3 Z7] +\n",
      "(0.007007745782078658+0j) [X1 Z2 Y3 Y5 Z6 X7] +\n",
      "(-0.00904315100958068+0j) [X1 Z2 Z3 X4 Y5 Y6] +\n",
      "(0.0005041897522156254+0j) [X1 Z2 Z3 X4 X6 X7] +\n",
      "(0.00904315100958068+0j) [X1 Z2 Z3 Y4 Y5 X6] +\n",
      "(0.0005041897522156254+0j) [X1 Z2 Z3 Y4 Y6 X7] +\n",
      "(0.0577620591013696+0j) [X1 Z2 Z3 Z4 X5] +\n",
      "(-0.0002962126798720997+0j) [X1 Z2 Z3 Z4 X5 Z6] +\n",
      "(-0.0008004024320877251+0j) [X1 Z2 Z3 Z4 X5 Z7] +\n",
      "(-0.038660706668635275+0j) [X1 Z2 Z3 Z4 Z5 Z6 X7] +\n",
      "(0.07064370485657227+0j) [X1 Z2 Z3 Z4 Z5 X7] +\n",
      "(0.013173669006424514+0j) [X1 Z2 Z3 Z4 Z6 X7] +\n",
      "(-0.03282295150197541+0j) [X1 Z2 Z3 X5] +\n",
      "(0.004130517996843835+0j) [X1 Z2 Z3 Z5 Z6 X7] +\n",
      "(-0.014136043668790347+0j) [X1 Z2 Z4 X5] +\n",
      "(0.0036452615439295684+0j) [X1 Z2 Z4 Z5 Z6 X7] +\n",
      "(-0.008165544677213348+0j) [X1 X3] +\n",
      "(-0.018902191774471194+0j) [X1 Z3 Z4 X5] +\n",
      "(0.012909964467239118+0j) [X1 Z3 Z4 Z5 Z6 X7] +\n",
      "(0.0047661481056808465+0j) [Y1 X2 X3 Y4] +\n",
      "(-0.00926470292330955+0j) [Y1 X2 X3 Z4 Z5 Y6] +\n",
      "(-0.015578302903560702+0j) [Y1 X2 X4 Y5] +\n",
      "(0.0025199408617289534+0j) [Y1 X2 X4 Z5 Z6 Y7] +\n",
      "(0.004487804920349705+0j) [Y1 X2 X5 Y6] +\n",
      "(0.023750050221852524+0j) [Y1 X2 X6 Y7] +\n",
      "(-0.0047661481056808465+0j) [Y1 Y2 X3 X4] +\n",
      "(0.00926470292330955+0j) [Y1 Y2 X3 Z4 Z5 X6] +\n",
      "(-0.015578302903560702+0j) [Y1 Y2 Y4 Y5] +\n",
      "(0.0025199408617289534+0j) [Y1 Y2 Y4 Z5 Z6 Y7] +\n",
      "(-0.004487804920349705+0j) [Y1 Y2 X5 X6] +\n",
      "(0.023750050221852524+0j) [Y1 Y2 Y6 Y7] +\n",
      "(0.007007745782078658+0j) [Y1 Z2 X3 X5 Z6 Y7] +\n",
      "(0.0025779051794197093+0j) [Y1 Z2 Y3] +\n",
      "(0.008519234528354352+0j) [Y1 Z2 Y3 X4 Z5 X6] +\n",
      "(0.008519234528354352+0j) [Y1 Z2 Y3 Y4 Z5 Y6] +\n",
      "(-0.01683829191908304+0j) [Y1 Z2 Y3 Z4] +\n",
      "(0.004031429608004648+0j) [Y1 Z2 Y3 X5 Z6 X7] +\n",
      "(0.011039175390083306+0j) [Y1 Z2 Y3 Y5 Z6 Y7] +\n",
      "(-0.0012599890155223377+0j) [Y1 Z2 Y3 Z5] +\n",
      "(0.04260557457088947+0j) [Y1 Z2 Y3 Z6] +\n",
      "(0.01885552434903694+0j) [Y1 Z2 Y3 Z7] +\n",
      "(0.00904315100958068+0j) [Y1 Z2 Z3 X4 X5 Y6] +\n",
      "(0.0005041897522156254+0j) [Y1 Z2 Z3 X4 X6 Y7] +\n",
      "(-0.00904315100958068+0j) [Y1 Z2 Z3 Y4 X5 X6] +\n",
      "(0.0005041897522156254+0j) [Y1 Z2 Z3 Y4 Y6 Y7] +\n",
      "(0.0577620591013696+0j) [Y1 Z2 Z3 Z4 Y5] +\n",
      "(-0.0002962126798720997+0j) [Y1 Z2 Z3 Z4 Y5 Z6] +\n",
      "(-0.0008004024320877251+0j) [Y1 Z2 Z3 Z4 Y5 Z7] +\n",
      "(-0.038660706668635275+0j) [Y1 Z2 Z3 Z4 Z5 Z6 Y7] +\n",
      "(0.07064370485657227+0j) [Y1 Z2 Z3 Z4 Z5 Y7] +\n",
      "(0.013173669006424514+0j) [Y1 Z2 Z3 Z4 Z6 Y7] +\n",
      "(-0.03282295150197541+0j) [Y1 Z2 Z3 Y5] +\n",
      "(0.004130517996843835+0j) [Y1 Z2 Z3 Z5 Z6 Y7] +\n",
      "(-0.014136043668790347+0j) [Y1 Z2 Z4 Y5] +\n",
      "(0.0036452615439295684+0j) [Y1 Z2 Z4 Z5 Z6 Y7] +\n",
      "(-0.008165544677213348+0j) [Y1 Y3] +\n",
      "(-0.018902191774471194+0j) [Y1 Z3 Z4 Y5] +\n",
      "(0.012909964467239118+0j) [Y1 Z3 Z4 Z5 Z6 Y7] +\n",
      "(0.13990631760826078+0j) [Z1] +\n",
      "(-0.03564519353978719+0j) [Z1 X2 Z3 X4] +\n",
      "(-0.04319076005342888+0j) [Z1 X2 Z3 Z4 Z5 X6] +\n",
      "(-0.03564519353978719+0j) [Z1 Y2 Z3 Y4] +\n",
      "(-0.04319076005342888+0j) [Z1 Y2 Z3 Z4 Z5 Y6] +\n",
      "(0.1368825977038266+0j) [Z1 Z2] +\n",
      "(-0.022845258753351215+0j) [Z1 X3 Z4 X5] +\n",
      "(-0.018031114213529743+0j) [Z1 X3 Z4 Z5 Z6 X7] +\n",
      "(-0.022845258753351215+0j) [Z1 Y3 Z4 Y5] +\n",
      "(-0.018031114213529743+0j) [Z1 Y3 Z4 Z5 Z6 Y7] +\n",
      "(0.11107234328900883+0j) [Z1 Z3] +\n",
      "(0.00320109054417053+0j) [Z1 X4 Z5 X6] +\n",
      "(0.00320109054417053+0j) [Z1 Y4 Z5 Y6] +\n",
      "(0.14314113781636478+0j) [Z1 Z4] +\n",
      "(0.004190195454531408+0j) [Z1 X5 Z6 X7] +\n",
      "(0.004190195454531408+0j) [Z1 Y5 Z6 Y7] +\n",
      "(0.12602660899459067+0j) [Z1 Z5] +\n",
      "(0.23112051533656958+0j) [Z1 Z6] +\n",
      "(0.17642194958972152+0j) [Z1 Z7] +\n",
      "(-0.026562524812130724+0j) [X2 X3 Y4 Y5] +\n",
      "(-0.009524965740544043+0j) [X2 X3 Y4 Z5 Z6 Y7] +\n",
      "(-0.009524965740544043+0j) [X2 X3 X5 X6] +\n",
      "(-0.01525797230339827+0j) [X2 X3 Y6 Y7] +\n",
      "(0.026562524812130724+0j) [X2 Y3 Y4 X5] +\n",
      "(0.009524965740544043+0j) [X2 Y3 Y4 Z5 Z6 X7] +\n",
      "(-0.009524965740544043+0j) [X2 Y3 Y5 X6] +\n",
      "(0.01525797230339827+0j) [X2 Y3 Y6 X7] +\n",
      "(0.061555459243441205+0j) [X2 Z3 X4] +\n",
      "(0.004924556798160052+0j) [X2 Z3 X4 X5 Z6 X7] +\n",
      "(0.004924556798160052+0j) [X2 Z3 X4 Y5 Z6 Y7] +\n",
      "(-0.04391861024579686+0j) [X2 Z3 X4 Z5] +\n",
      "(-0.024349063112351386+0j) [X2 Z3 X4 Z6] +\n",
      "(-0.0255382432156224+0j) [X2 Z3 X4 Z7] +\n",
      "(-0.001189180103271013+0j) [X2 Z3 Z4 X5 Y6 Y7] +\n",
      "(0.001189180103271013+0j) [X2 Z3 Z4 Y5 Y6 X7] +\n",
      "(0.020218321802530737+0j) [X2 Z3 Z4 Z5 X6] +\n",
      "(-0.04084731997673018+0j) [X2 Z3 Z4 Z5 X6 Z7] +\n",
      "(-0.016404649210113594+0j) [X2 Z3 Z4 X6] +\n",
      "(-0.011480092411953541+0j) [X2 Z3 Z5 X6] +\n",
      "(-0.026239994906976406+0j) [X2 X4] +\n",
      "(-0.01270813434671502+0j) [X2 Z4 Z5 X6] +\n",
      "(0.026562524812130724+0j) [Y2 X3 X4 Y5] +\n",
      "(0.009524965740544043+0j) [Y2 X3 X4 Z5 Z6 Y7] +\n",
      "(-0.009524965740544043+0j) [Y2 X3 X5 Y6] +\n",
      "(0.01525797230339827+0j) [Y2 X3 X6 Y7] +\n",
      "(-0.026562524812130724+0j) [Y2 Y3 X4 X5] +\n",
      "(-0.009524965740544043+0j) [Y2 Y3 X4 Z5 Z6 X7] +\n",
      "(-0.009524965740544043+0j) [Y2 Y3 Y5 Y6] +\n",
      "(-0.01525797230339827+0j) [Y2 Y3 X6 X7] +\n",
      "(0.061555459243441205+0j) [Y2 Z3 Y4] +\n",
      "(0.004924556798160052+0j) [Y2 Z3 Y4 X5 Z6 X7] +\n",
      "(0.004924556798160052+0j) [Y2 Z3 Y4 Y5 Z6 Y7] +\n",
      "(-0.04391861024579686+0j) [Y2 Z3 Y4 Z5] +\n",
      "(-0.024349063112351386+0j) [Y2 Z3 Y4 Z6] +\n",
      "(-0.0255382432156224+0j) [Y2 Z3 Y4 Z7] +\n",
      "(0.001189180103271013+0j) [Y2 Z3 Z4 X5 X6 Y7] +\n",
      "(-0.001189180103271013+0j) [Y2 Z3 Z4 Y5 X6 X7] +\n",
      "(0.020218321802530737+0j) [Y2 Z3 Z4 Z5 Y6] +\n",
      "(-0.04084731997673018+0j) [Y2 Z3 Z4 Z5 Y6 Z7] +\n",
      "(-0.016404649210113594+0j) [Y2 Z3 Z4 Y6] +\n",
      "(-0.011480092411953541+0j) [Y2 Z3 Z5 Y6] +\n",
      "(-0.026239994906976406+0j) [Y2 Y4] +\n",
      "(-0.01270813434671502+0j) [Y2 Z4 Z5 Y6] +\n",
      "(-0.24607368520020115+0j) [Z2] +\n",
      "(-0.02623999490697641+0j) [Z2 X3 Z4 X5] +\n",
      "(-0.01270813434671502+0j) [Z2 X3 Z4 Z5 Z6 X7] +\n",
      "(-0.02623999490697641+0j) [Z2 Y3 Z4 Y5] +\n",
      "(-0.01270813434671502+0j) [Z2 Y3 Z4 Z5 Z6 Y7] +\n",
      "(0.13657384315761337+0j) [Z2 Z3] +\n",
      "(-0.0006235414810879273+0j) [Z2 X4 Z5 X6] +\n",
      "(-0.0006235414810879273+0j) [Z2 Y4 Z5 Y6] +\n",
      "(0.11407664418119384+0j) [Z2 Z4] +\n",
      "(-0.01014850722163197+0j) [Z2 X5 Z6 X7] +\n",
      "(-0.01014850722163197+0j) [Z2 Y5 Z6 Y7] +\n",
      "(0.14063916899332457+0j) [Z2 Z5] +\n",
      "(0.10734715467055872+0j) [Z2 Z6] +\n",
      "(0.12260512697395698+0j) [Z2 Z7] +\n",
      "(-0.004924556798160052+0j) [X3 X4 Y5 Y6] +\n",
      "(-0.001189180103271013+0j) [X3 X4 X6 X7] +\n",
      "(0.004924556798160052+0j) [X3 Y4 Y5 X6] +\n",
      "(-0.001189180103271013+0j) [X3 Y4 Y6 X7] +\n",
      "(0.06155545924344121+0j) [X3 Z4 X5] +\n",
      "(-0.0255382432156224+0j) [X3 Z4 X5 Z6] +\n",
      "(-0.024349063112351386+0j) [X3 Z4 X5 Z7] +\n",
      "(0.020218321802530734+0j) [X3 Z4 Z5 Z6 X7] +\n",
      "(-0.04084731997673018+0j) [X3 Z4 Z5 X7] +\n",
      "(-0.011480092411953541+0j) [X3 Z4 Z6 X7] +\n",
      "(-0.043918610245796866+0j) [X3 X5] +\n",
      "(-0.016404649210113594+0j) [X3 Z5 Z6 X7] +\n",
      "(0.004924556798160052+0j) [Y3 X4 X5 Y6] +\n",
      "(-0.001189180103271013+0j) [Y3 X4 X6 Y7] +\n",
      "(-0.004924556798160052+0j) [Y3 Y4 X5 X6] +\n",
      "(-0.001189180103271013+0j) [Y3 Y4 Y6 Y7] +\n",
      "(0.06155545924344121+0j) [Y3 Z4 Y5] +\n",
      "(-0.0255382432156224+0j) [Y3 Z4 Y5 Z6] +\n",
      "(-0.024349063112351386+0j) [Y3 Z4 Y5 Z7] +\n",
      "(0.020218321802530734+0j) [Y3 Z4 Z5 Z6 Y7] +\n",
      "(-0.04084731997673018+0j) [Y3 Z4 Z5 Y7] +\n",
      "(-0.011480092411953541+0j) [Y3 Z4 Z6 Y7] +\n",
      "(-0.043918610245796866+0j) [Y3 Y5] +\n",
      "(-0.016404649210113594+0j) [Y3 Z5 Z6 Y7] +\n",
      "(-0.24607368520020115+0j) [Z3] +\n",
      "(-0.01014850722163197+0j) [Z3 X4 Z5 X6] +\n",
      "(-0.01014850722163197+0j) [Z3 Y4 Z5 Y6] +\n",
      "(0.14063916899332457+0j) [Z3 Z4] +\n",
      "(-0.0006235414810879273+0j) [Z3 X5 Z6 X7] +\n",
      "(-0.0006235414810879273+0j) [Z3 Y5 Z6 Y7] +\n",
      "(0.11407664418119384+0j) [Z3 Z5] +\n",
      "(0.12260512697395698+0j) [Z3 Z6] +\n",
      "(0.10734715467055872+0j) [Z3 Z7] +\n",
      "(-0.007546384867913738+0j) [X4 X5 Y6 Y7] +\n",
      "(0.007546384867913738+0j) [X4 Y5 Y6 X7] +\n",
      "(0.0250768325701197+0j) [X4 Z5 X6] +\n",
      "(0.007525507498884486+0j) [X4 Z5 X6 Z7] +\n",
      "(-0.014439005534589247+0j) [X4 X6] +\n",
      "(0.007546384867913738+0j) [Y4 X5 X6 Y7] +\n",
      "(-0.007546384867913738+0j) [Y4 Y5 X6 X7] +\n",
      "(0.0250768325701197+0j) [Y4 Z5 Y6] +\n",
      "(0.007525507498884486+0j) [Y4 Z5 Y6 Z7] +\n",
      "(-0.014439005534589247+0j) [Y4 Y6] +\n",
      "(-0.6730850144698549+0j) [Z4] +\n",
      "(-0.014439005534589247+0j) [Z4 X5 Z6 X7] +\n",
      "(-0.014439005534589247+0j) [Z4 Y5 Z6 Y7] +\n",
      "(0.17095384888863852+0j) [Z4 Z5] +\n",
      "(0.1135629724359024+0j) [Z4 Z6] +\n",
      "(0.12110935730381613+0j) [Z4 Z7] +\n",
      "(0.025076832570119695+0j) [X5 Z6 X7] +\n",
      "(0.007525507498884486+0j) [X5 X7] +\n",
      "(0.025076832570119695+0j) [Y5 Z6 Y7] +\n",
      "(0.007525507498884486+0j) [Y5 Y7] +\n",
      "(-0.6730850144698549+0j) [Z5] +\n",
      "(0.12110935730381613+0j) [Z5 Z6] +\n",
      "(0.1135629724359024+0j) [Z5 Z7] +\n",
      "(-1.140216532490732+0j) [Z6] +\n",
      "(0.2319626093284832+0j) [Z6 Z7] +\n",
      "(-1.1402165324907323+0j) [Z7] \n",

      "\n"
     ]
    },
    {
     "name": "stdout",
     "output_type": "stream",
     "text": [
      "UCCSD ansatz: \n",
      " 0.006478936130102658j [X0 X1 X2 Y3] +\n",
      "0.006478936130102658j [X0 X1 Y2 X3] +\n",
      "0.002056274402971196j [X0 X1 X4 Y5] +\n",
      "0.002056274402971196j [X0 X1 Y4 X5] +\n",
      "0.005083283191416127j [X0 X1 X6 Y7] +\n",
      "0.005083283191416127j [X0 X1 Y6 X7] +\n",
      "-0.006478936130102658j [X0 Y1 X2 X3] +\n",
      "0.006478936130102658j [X0 Y1 Y2 Y3] +\n",
      "-0.002056274402971196j [X0 Y1 X4 X5] +\n",
      "0.002056274402971196j [X0 Y1 Y4 Y5] +\n",
      "-0.005083283191416127j [X0 Y1 X6 X7] +\n",
      "0.005083283191416127j [X0 Y1 Y6 Y7] +\n",
      "-0.006360390047739343j [X0 Z1 Y2] +\n",
      "-0.002645411873762702j [X0 Z1 Z2 Z3 Y4] +\n",
      "0.0009221551709269771j [X0 Z1 Z2 Z3 Z4 Z5 Y6] +\n",
      "-0.006478936130102658j [Y0 X1 X2 X3] +\n",
      "0.006478936130102658j [Y0 X1 Y2 Y3] +\n",
      "-0.002056274402971196j [Y0 X1 X4 X5] +\n",
      "0.002056274402971196j [Y0 X1 Y4 Y5] +\n",
      "-0.005083283191416127j [Y0 X1 X6 X7] +\n",
      "0.005083283191416127j [Y0 X1 Y6 Y7] +\n",
      "-0.006478936130102658j [Y0 Y1 X2 Y3] +\n",
      "-0.006478936130102658j [Y0 Y1 Y2 X3] +\n",
      "-0.002056274402971196j [Y0 Y1 X4 Y5] +\n",
      "-0.002056274402971196j [Y0 Y1 Y4 X5] +\n",
      "-0.005083283191416127j [Y0 Y1 X6 Y7] +\n",
      "-0.005083283191416127j [Y0 Y1 Y6 X7] +\n",
      "0.006360390047739343j [Y0 Z1 X2] +\n",
      "0.002645411873762702j [Y0 Z1 Z2 Z3 X4] +\n",
      "-0.0009221551709269771j [Y0 Z1 Z2 Z3 Z4 Z5 X6] +\n",
      "-0.006360390047739343j [X1 Z2 Y3] +\n",
      "-0.002645411873762702j [X1 Z2 Z3 Z4 Y5] +\n",
      "0.0009221551709269771j [X1 Z2 Z3 Z4 Z5 Z6 Y7] +\n",
      "0.006360390047739343j [Y1 Z2 X3] +\n",
      "0.002645411873762702j [Y1 Z2 Z3 Z4 X5] +\n",
      "-0.0009221551709269771j [Y1 Z2 Z3 Z4 Z5 Z6 X7]\n"
     ]
    }
   ],
   "source": [
    "import openfermion\n",
    "import openfermionpyscf\n",
    "from openfermion import MolecularData\n",
    "from openfermionpyscf import run_pyscf\n",
    "from openfermion.ops import FermionOperator, QubitOperator\n",
    "from openfermion.transforms import jordan_wigner, bravyi_kitaev\n",
    "from openfermion.transforms import get_fermion_operator\n",
    "from openfermion.circuits import (uccsd_singlet_get_packed_amplitudes,\n",
    "                               uccsd_singlet_generator, uccsd_generator,\n",
    "                               uccsd_convert_amplitude_format)\n",
    "import numpy as np\n",
    "import utils.cs_vqe as c\n",
    "import itertools\n",
    "import utils.qubit_conversion as q_conv\n",
    "\n",
    "singlet_bool = True # Set general UCCSD or singlet UCCSD.\n",
    "\n",
    "bond_len = 0.772#1.45\n",
    "atom_1 = 'He'\n",
    "atom_2 = 'H'\n",
    "basis = '3-21g'\n",
    "multiplicity = 1\n",
    "charge = 1\n",
    "\n",
    "coordinate_1 = (0.0, 0.0, 0.0)\n",
    "coordinate_2 = (0.0, 0.0, bond_len)\n",
    "geometry = [(atom_1, coordinate_1), (atom_2, coordinate_2)]\n",
    "\n",
    "molecule_data = MolecularData(geometry, basis, multiplicity, charge, description='Test')\n",
    "#molecule.load()\n",
    "\n",
    "# Set calculation parameters.\n",
    "run_scf = 1\n",
    "run_mp2 = 1\n",
    "run_cisd = 0\n",
    "run_ccsd = 0\n",
    "run_fci = 1\n",
    "delete_input = True\n",
    "delete_output = True\n",
    "\n",
    "# Run pyscf.\n",
    "molecule = run_pyscf(molecule_data,\n",
    "                     run_scf=run_scf,\n",
    "                     run_mp2=run_mp2,\n",
    "                     run_cisd=run_cisd,\n",
    "                     run_ccsd=run_ccsd,\n",
    "                     run_fci=run_fci)\n",
    "\n",
    "#molecule.load()\n",
    "#print(molecule)\n",
    "\n",
    "ham = get_fermion_operator(molecule.get_molecular_hamiltonian())\n",
    "ham_q = jordan_wigner(ham)\n",
    "print('Hamiltonian:', '\\n', ham_q, '\\n')\n",
    "\n",
    "scf = True      # Hartree-Fock.\n",
    "mp2 = True      # Moller-Plesset 2.\n",
    "cisd = True     # Configuration interaction singles and doubles.\n",
    "ccsd = True     # Coupled cluster singles and doubles.\n",
    "fci = True      # Full configuration interaction.\n",
    "\n",
    "calculated_molecule = run_pyscf(molecule_data, scf, mp2, cisd, ccsd, fci)\n",
    "\n",
    "if ccsd:\n",
    "    ccsd_single_amps = calculated_molecule.ccsd_single_amps\n",
    "    ccsd_double_amps = calculated_molecule.ccsd_double_amps\n",
    "\n",
    "num_electrons = calculated_molecule.n_electrons\n",
    "num_qubits = 2*calculated_molecule.n_orbitals\n",
    "\n",
    "if singlet_bool:\n",
    "    # Get singlet UCCSD generator.\n",
    "    packed_amps = uccsd_singlet_get_packed_amplitudes(ccsd_single_amps,  ccsd_double_amps, num_qubits, num_electrons)\n",
    "    ucc_sing = uccsd_singlet_generator(packed_amps, num_qubits, num_electrons)\n",
    "    #print(ucc_sing)\n",
    "\n",
    "else:\n",
    "    # Get general UCCSD operator.\n",
    "    ucc_op = uccsd_generator(ccsd_single_amps, ccsd_double_amps)\n",
    "    #print(ucc_op)\n",
    "    \n",
    "ucc_q = jordan_wigner(ucc_sing)\n",
    "print('UCCSD ansatz:', '\\n', ucc_q)"
   ]
  },
  {
   "cell_type": "code",
   "execution_count": 6,
   "metadata": {},
   "outputs": [
    {
     "data": {
      "text/plain": [
       "True"
      ]
     },
     "execution_count": 6,
     "metadata": {},
     "output_type": "execute_result"
    }
   ],
   "source": [
    "ham = q_conv.QubitOperator_to_dict(ham_q, num_qubits)\n",
    "anz_terms = list((q_conv.QubitOperator_to_dict(ucc_q, num_qubits)).keys())\n",
    "terms_noncon = c.greedy_dfs(ham, 1, criterion='weight')[-1]\n",
    "ham_noncon = {t:ham[t] for t in terms_noncon}\n",
    "#ham_noncon\n",
    "terms_context = list(ham.keys() - terms_noncon)\n",
    "ham_context = {t:ham[t] for t in terms_context}\n",
    "#ham_context\n",
    "c.contextualQ_ham(ham_context)"
   ]
  },
  {
   "cell_type": "code",
   "execution_count": 7,
   "metadata": {},
   "outputs": [
    {
     "name": "stderr",
     "output_type": "stream",
     "text": [
      "/home/tim/anaconda3/lib/python3.7/site-packages/qiskit/aqua/algorithms/eigen_solvers/eigen_solver.py:38: DeprecationWarning: The package qiskit.aqua.algorithms.eigen_solvers is deprecated. It was moved/refactored to qiskit.algorithms.eigen_solvers (pip install qiskit-terra). For more information see <https://github.com/Qiskit/qiskit-aqua/blob/master/README.md#migration-guide>\n",
      "  'qiskit-terra')\n"
     ]
    },
    {
     "name": "stdout",
     "output_type": "stream",
     "text": [
      "[-3.16676548]\n"
     ]
    },
    {
     "name": "stderr",
     "output_type": "stream",
     "text": [
      "/home/tim/anaconda3/lib/python3.7/site-packages/qiskit/aqua/operators/operator_base.py:46: DeprecationWarning: The package qiskit.aqua.operators is deprecated. It was moved/refactored to qiskit.opflow (pip install qiskit-terra). For more information see <https://github.com/Qiskit/qiskit-aqua/blob/master/README.md#migration-guide>\n",
      "  warn_package('aqua.operators', 'qiskit.opflow', 'qiskit-terra')\n"
     ]
    }
   ],
   "source": [
    "from qiskit.aqua.algorithms import NumPyEigensolver\n",
    "\n",
    "result = NumPyEigensolver(q_conv.dict_to_WeightedPauliOperator(ham)).run()\n",
    "true_gs = np.real(result.eigenvalues)\n",
    "\n",
    "print(true_gs)"
   ]
  },
  {
   "cell_type": "code",
   "execution_count": 8,
   "metadata": {},
   "outputs": [
    {
     "data": {
      "text/plain": [
       "[array([-3.16676548]),\n",

       " [-3.14282474926818,\n",
       "  -3.151872881862987,\n",
       "  -3.1518728818629858,\n",
       "  -3.1553177976071267,\n",
       "  -3.159114851913753,\n",
       "  -3.159114851913756,\n",
       "  -3.1619490056505137,\n",
       "  -3.1667654772544216,\n",
       "  -3.166765477254425],\n",
       " [array([0.02394073]),\n",
       "  array([0.0148926]),\n",
       "  array([0.0148926]),\n",
       "  array([0.01144768]),\n",
       "  array([0.00765063]),\n",
       "  array([0.00765063]),\n",
       "  array([0.00481647]),\n",
       "  array([-5.32907052e-15]),\n",
       "  array([-8.8817842e-15])],\n",
       " [6, 4, 0, 2, 3, 1, 5, 7]]"

      ]
     },
     "execution_count": 8,
     "metadata": {},
     "output_type": "execute_result"
    }
   ],
   "source": [
    "model = c.quasi_model(ham_noncon)\n",
    "fn_form = c.energy_function_form(ham_noncon, model)\n",
    "gs_noncon = c.find_gs_noncon(ham_noncon)\n",
    "gs_noncon_energy = gs_noncon[0]\n",
    "ep_state = gs_noncon[1]\n",
    "ham_context = {p:c for p,c in ham.items() if p not in ham_noncon}\n",
    "c.csvqe_approximations_heuristic(ham, ham_noncon, num_qubits, true_gs)\n",
    "#c.contextualQ_ham(ham_context)"
   ]
  },
  {
   "cell_type": "code",
   "execution_count": 9,
   "metadata": {},
   "outputs": [
    {
     "data": {
      "text/plain": [

       "{'YZZZZZYZ': 0.040172164101531696, 'IIIIIIZI': 0.9991927728078299}"

      ]
     },
     "execution_count": 9,
     "metadata": {},
     "output_type": "execute_result"
    }
   ],
   "source": [
    "A = {p:ep_state[1][index] for index, p in enumerate(model[1])}\n",
    "A"
   ]
  },
  {
   "cell_type": "markdown",
   "metadata": {},
   "source": [
    "# The epistemic state defines a classical probability distribution:"
   ]
  },
  {
   "cell_type": "code",
   "execution_count": 10,
   "metadata": {},
   "outputs": [],
   "source": [
    "def ontic_prob(ep_state, ontic_state):\n",
    "    \n",
    "    if ep_state[0] != ontic_state[0]:\n",
    "        return 0\n",
    "    \n",
    "    else:\n",
    "        prod = 1\n",
    "        for index, r in enumerate(ep_state[1]):\n",
    "            f = 1/2 * abs(r + ontic_state[1][index])\n",
    "            prod *= f\n",
    "        \n",
    "        return prod    \n",
    "\n",
    "def epistemic_dist(ep_state):\n",
    "    size_G = len(ep_state[0])\n",
    "    size_Ci = len(ep_state[1])\n",
    "    size_R = size_G + size_Ci\n",
    "    \n",
    "    ep_prob = {}\n",
    "    \n",
    "    ontic_states = list(itertools.product([1, -1], repeat=size_R))\n",
    "    \n",
    "    for o in ontic_states:\n",
    "        o_state = [list(o[0:size_G]), list(o[size_G:size_R])]\n",
    "        o_prob = ontic_prob(ep_state, o_state)\n",
    "        \n",
    "        if o_prob != 0:\n",
    "            ep_prob[o] = o_prob\n",
    "    \n",
    "    return ep_prob"
   ]
  },
  {
   "cell_type": "code",
   "execution_count": 11,
   "metadata": {},
   "outputs": [
    {
     "data": {
      "text/plain": [

       "{(-1, -1, 1, -1, 1, 1, 1, 1, 1): 0.5198761682369156,\n",
       " (-1, -1, 1, -1, 1, 1, 1, 1, -1): 0.00020991381385028856,\n",
       " (-1, -1, 1, -1, 1, 1, 1, -1, 1): 0.47972021816699945,\n",
       " (-1, -1, 1, -1, 1, 1, 1, -1, -1): 0.00019369978223475102}"
      ]
     },
     "execution_count": 11,
     "metadata": {},
     "output_type": "execute_result"
    }
   ],
   "source": [
    "epistemic_dist(ep_state)"
   ]
  },
  {
   "cell_type": "markdown",
   "metadata": {},
   "source": [
    "# Find a simultaneous eigenstate of the operators G_i and A:"
   ]
  },
  {
   "cell_type": "code",
   "execution_count": 12,
   "metadata": {},
   "outputs": [
    {
     "name": "stdout",
     "output_type": "stream",
     "text": [
      "['I', 'I', 0, 1, 0, 0, 'I', 0]\n",
      "['01010010', '11010000']\n"
     ]
    }
   ],
   "source": [
    "from copy import deepcopy\n",
    "\n",
    "G = model[0]\n",
    "fixed_qubits = ['I' for i in range(num_qubits)]\n",
    "basis_ops = []\n",
    "mult_Z_indices = []\n",
    "\n",
    "for index, g in enumerate(G):\n",
    "    Z_indices = [i for i, p in enumerate(list(g)) if p == 'Z']\n",
    "    if len(Z_indices) == 1:\n",
    "        if ep_state[0][index] == -1:\n",
    "            fixed_qubits[Z_indices[0]] = 1\n",
    "        else:\n",
    "            fixed_qubits[Z_indices[0]] = 0\n",
    "    else:\n",
    "        mult_Z_indices.append([ep_state[0][index], Z_indices])\n",
    "        \n",
    "print(fixed_qubits)\n",
    "\n",
    "for Z_indices in mult_Z_indices:\n",
    "    Z0, Z1 = Z_indices[1][0], Z_indices[1][1] \n",
    "    q0, q1 = fixed_qubits[Z0], fixed_qubits[Z1]\n",
    "    \n",
    "    if q0 != q1:\n",
    "        if q0 != 'I':\n",
    "            if Z_indices[0] == -1:\n",
    "                fixed_qubits[Z1] = (q0+1)%2\n",
    "            else:\n",
    "                fixed_qubits[Z1] = q0\n",
    "        else:\n",
    "            if Z_indices[0] == -1:\n",
    "                fixed_qubits[Z0] = (q1+1)%2\n",
    "            else:\n",
    "                fixed_qubits[Z0] = q1\n",
    "        mult_Z_indices.remove(Z_indices)\n",
    "            \n",
    "for Z_indices in mult_Z_indices:\n",
    "    if Z_indices[0] == -1:\n",
    "        fixed = deepcopy(fixed_qubits)\n",
    "        fixed[Z_indices[1][0]] = 0\n",
    "        fixed[Z_indices[1][1]] = 1\n",
    "        fixed = [str(i) for i in fixed]\n",
    "        basis_ops.append(''.join(fixed))\n",
    "        \n",
    "        fixed = deepcopy(fixed_qubits)\n",
    "        fixed[Z_indices[1][0]] = 1\n",
    "        fixed[Z_indices[1][1]] = 0\n",
    "        fixed = [str(i) for i in fixed]\n",
    "        basis_ops.append(''.join(fixed))\n",
    "    \n",
    "print(basis_ops)"
   ]
  },
  {
   "cell_type": "markdown",
   "metadata": {},
   "source": [
    "# Construct +1-Eigenstates of A(r)"
   ]
  },
  {
   "cell_type": "code",
   "execution_count": 13,
   "metadata": {},
   "outputs": [
    {
     "data": {
      "text/plain": [

       "(0.040172164101531696,\n",
       " 0.9991927728078299,\n",
       " 0.020090136786120604,\n",
       " 0.9997981728348552)"

      ]
     },
     "execution_count": 13,
     "metadata": {},
     "output_type": "execute_result"
    }
   ],
   "source": [
    "r1 = ep_state[1][0]\n",
    "r2 = ep_state[1][1]\n",
    "#t = np.arctan((r2 + 1) / r1)\n",
    "parity=3\n",
    "q1=1\n",
    "amp_ratio = (1 + r2 * (-1)**q1) / (r1 * (-1)**(1 + parity))\n",
    "t = np.arctan(amp_ratio)\n",
    "\n",
    "r1, r2, np.sin(t), np.cos(t)"
   ]
  },
  {
   "cell_type": "code",
   "execution_count": null,
   "metadata": {},
   "outputs": [],
   "source": []
  },
  {
   "cell_type": "code",
   "execution_count": 14,
   "metadata": {
    "scrolled": true
   },
   "outputs": [
    {

     "ename": "NameError",
     "evalue": "name 'add_eigenstate' is not defined",
     "output_type": "error",
     "traceback": [
      "\u001b[0;31m---------------------------------------------------------------------------\u001b[0m",
      "\u001b[0;31mNameError\u001b[0m                                 Traceback (most recent call last)",
      "\u001b[0;32m<ipython-input-14-116d19f43ade>\u001b[0m in \u001b[0;36m<module>\u001b[0;34m()\u001b[0m\n\u001b[1;32m      8\u001b[0m \u001b[0;34m\u001b[0m\u001b[0m\n\u001b[1;32m      9\u001b[0m \u001b[0;32mfor\u001b[0m \u001b[0mp\u001b[0m \u001b[0;32min\u001b[0m \u001b[0mnp\u001b[0m\u001b[0;34m.\u001b[0m\u001b[0mlinspace\u001b[0m\u001b[0;34m(\u001b[0m\u001b[0;36m0\u001b[0m\u001b[0;34m,\u001b[0m \u001b[0;36m1\u001b[0m\u001b[0;34m,\u001b[0m \u001b[0;36m1\u001b[0m\u001b[0;34m)\u001b[0m\u001b[0;34m:\u001b[0m\u001b[0;34m\u001b[0m\u001b[0m\n\u001b[0;32m---> 10\u001b[0;31m     \u001b[0mpsi\u001b[0m \u001b[0;34m=\u001b[0m \u001b[0madd_eigenstate\u001b[0m\u001b[0;34m(\u001b[0m\u001b[0mr1\u001b[0m\u001b[0;34m=\u001b[0m\u001b[0mr1\u001b[0m\u001b[0;34m,\u001b[0m \u001b[0mr2\u001b[0m\u001b[0;34m=\u001b[0m\u001b[0mr2\u001b[0m\u001b[0;34m,\u001b[0m \u001b[0mindex\u001b[0m\u001b[0;34m=\u001b[0m\u001b[0;36m82\u001b[0m\u001b[0;34m,\u001b[0m \u001b[0mtheta\u001b[0m\u001b[0;34m=\u001b[0m\u001b[0;36m0\u001b[0m\u001b[0;34m,\u001b[0m \u001b[0mn\u001b[0m\u001b[0;34m=\u001b[0m\u001b[0;36m0\u001b[0m\u001b[0;34m,\u001b[0m \u001b[0mnum_qubits\u001b[0m\u001b[0;34m=\u001b[0m\u001b[0mnum_qubits\u001b[0m\u001b[0;34m)\u001b[0m\u001b[0;34m\u001b[0m\u001b[0m\n\u001b[0m\u001b[1;32m     11\u001b[0m     \u001b[0mexpect\u001b[0m \u001b[0;34m=\u001b[0m \u001b[0mexpectation\u001b[0m\u001b[0;34m(\u001b[0m\u001b[0mham_q\u001b[0m\u001b[0;34m,\u001b[0m \u001b[0mpsi\u001b[0m\u001b[0;34m)\u001b[0m\u001b[0;34m\u001b[0m\u001b[0m\n\u001b[1;32m     12\u001b[0m \u001b[0;34m\u001b[0m\u001b[0m\n",
      "\u001b[0;31mNameError\u001b[0m: name 'add_eigenstate' is not defined"

     ]
    }
   ],
   "source": [
    "from openfermion.linalg import LinearQubitOperator\n",
    "\n",
    "ham_q = q_conv.dict_to_QubitOperator(ham, num_qubits)\n",
    "ham_noncon_q = q_conv.dict_to_QubitOperator(ham_noncon, num_qubits)\n",
    "ham_context_q = q_conv.dict_to_QubitOperator(ham_context, num_qubits)\n",
    "\n",
    "#take expectation value algebraically\n",
    "\n",
    "for p in np.linspace(0, 1, 1):\n",
    "    psi = add_eigenstate(r1=r1, r2=r2, index=82, theta=0, n=0, num_qubits=num_qubits)\n",
    "    expect = expectation(ham_q, psi)\n",
    "    \n",
    "    print('<H> w.r.t. simultaneous eigenstate:', expect)\n",
    "    print('Noncontextual approximation:', gs_noncon_energy)\n",
    "    print('Expectation values match?', abs(expect - gs_noncon_energy) < 10**-12) #sanity check - expectation values match?"
   ]
  },
  {
   "cell_type": "code",

   "execution_count": null,

   "metadata": {},
   "outputs": [],
   "source": [
    "from matplotlib import pyplot as plt\n",
    "\n",
    "X=[]\n",
    "Y=[]\n",
    "\n",
    "for i in range(2**(num_qubits-1)):\n",
    "    X.append(i)\n",
    "    psi = add_eigenstate(r1=r1, r2=r2, index=i, theta=0, n=0, num_qubits=num_qubits)\n",
    "\n",
    "    Y.append(expectation(ham_noncon_q, psi))\n",
    "\n",
    "plt.plot(X, Y)\n",
    "plt.hlines(gs_noncon_energy, 0, 127, color='r')\n",
    "plt.show()"
   ]
  },
  {
   "cell_type": "code",

   "execution_count": null,

   "metadata": {},
   "outputs": [],
   "source": [
    "import math\n",
    "\n",
    "def random_vector(n):\n",
    "    components = [np.random.normal() for i in range(n)]\n",
    "    r = math.sqrt(sum(x*x for x in components))\n",
    "    v = [x/r for x in components]\n",
    "    return v"
   ]
  },
  {
   "cell_type": "code",

   "execution_count": null,

   "metadata": {},
   "outputs": [],
   "source": [
    "import itertools\n",
    "from itertools import chain, combinations\n",
    "from copy import deepcopy\n",
    "\n",
    "def bin_to_int(bits):\n",
    "    bit_string = deepcopy(bits)\n",
    "    if type(bit_string) == str:\n",
    "        bit_string = [int(b) for b in bit_string]\n",
    "    for index, b in enumerate(bit_string):\n",
    "        bit_string[index] = b * 2 ** (len(bit_string)-index-1)\n",
    "    return sum(bit_string)\n",
    "\n",
    "\n",
    "def int_to_bin(integer, num_qubits):\n",
    "    if integer >= 2**num_qubits:\n",
    "        raise ValueError('Input integer larger than specified number of bits')\n",
    "    bin_str=bin(integer)[2:]\n",
    "    leading_0 = ''.join(['0' for i in range(num_qubits-len(bin_str))])\n",
    "    return leading_0 + bin_str\n",
    "\n",
    "\n",
    "def add_eigenstate(r1, r2, index, theta, n, num_qubits, custom_amp=None):\n",
    "    \"\"\"\n",
    "    \"\"\"\n",
    "    B = list(itertools.product([0,1], repeat=num_qubits))\n",
    "    b1 = list(B[index])\n",
    "    b2 = deepcopy(b1)\n",
    "    b2[0] = (b2[0]+1)%2\n",
    "    b2[6] = (b2[6]+1)%2\n",
    "    i1 = bin_to_int(b1)\n",
    "    i2 = bin_to_int(b2)\n",
    "\n",
    "    parity=sum(b1)\n",
    "    q1 = b1[6]\n",
    "    \n",
    "    amp_ratio = (1 + r2 * (-1)**q1) / (r1 * (-1)**(1 + parity))\n",
    "    t = ((-1)**n)*np.arctan(amp_ratio)\n",
    "    psi = [0 for i in range(2**num_qubits)]\n",
    "\n",
    "    if custom_amp is None:   \n",
    "        psi[i1] = np.sin(t)*np.exp(1j*theta)\n",
    "        psi[i2] = np.cos(t)*np.exp(1j*(theta - n*np.pi))\n",
    "    else:\n",
    "        psi[i1] = custom_amp[0]\n",
    "        psi[i2] = custom_amp[1]\n",
    "        \n",
    "    return np.array(psi)\n",
    "\n",
    "\n",
    "def expectation(op, state):\n",
    "    state = np.array(state)\n",
    "    conj_state = np.conjugate(state)\n",
    "    O = LinearQubitOperator(op, num_qubits)\n",
    "    \n",
    "    O_state = O.matvec(state)\n",
    "    expect = conj_state.dot(O_state)\n",
    "    \n",
    "    return expect\n",
    "\n",
    "\n",
    "def discard_generator(ham_noncon, ham_context, generators):\n",
    "    new_ham_noncon = deepcopy(ham_noncon)\n",
    "    new_ham_context = deepcopy(ham_context)\n",
    "    \n",
    "    Z_indices = [g.index('Z') for g in generators]\n",
    "    removed=[]\n",
    "    \n",
    "    for index in Z_indices:\n",
    "        for p in ham_noncon:\n",
    "            if p not in removed:\n",
    "                if p[index] == 'Z':\n",
    "                    new_ham_context[p] = ham_noncon[p]\n",
    "                    del new_ham_noncon[p]\n",
    "                    removed.append(p)\n",
    "            \n",
    "    return new_ham_noncon, new_ham_context\n",
    "\n",
    "\n",
    "def rotate_operator(rotations, op):\n",
    "    rot_op = {}\n",
    "    \n",
    "    for p in op.keys():\n",
    "        p_ref = deepcopy(p)\n",
    "        parity = 1\n",
    "        coeff = op[p]\n",
    "        for r in rotations:\n",
    "            rotate_p = c.apply_rotation(r, p)\n",
    "            p = list(rotate_p.keys())[0]\n",
    "            parity *= rotate_p[p]\n",
    "        \n",
    "        rot_op[p] = parity * coeff\n",
    "        \n",
    "    return rot_op\n",
    "\n",
    "def rotate_hamiltonian(rotations, ham, ham_noncon, ham_context):\n",
    "    \n",
    "    rot_ham={}\n",
    "    rot_ham_noncon={}\n",
    "    rot_ham_context={}\n",
    "\n",
    "    for p in ham.keys():\n",
    "        p_ref = deepcopy(p)\n",
    "        parity = 1\n",
    "        coeff = ham[p]\n",
    "        for r in rotations:\n",
    "            rotate_p = c.apply_rotation(r, p)\n",
    "            p = list(rotate_p.keys())[0]\n",
    "            parity *= rotate_p[p]\n",
    "        \n",
    "        rot_ham[p] = parity * coeff\n",
    "        if p_ref in ham_noncon.keys():\n",
    "            rot_ham_noncon[p] = parity * coeff\n",
    "        else:\n",
    "            rot_ham_context[p] = parity * coeff\n",
    "            \n",
    "    return rot_ham, rot_ham_noncon, rot_ham_context\n",
    "\n",
    "\n",
    "def rotate_state(rotations, state):\n",
    "    \n",
    "    rot_state = deepcopy(state)\n",
    "    \n",
    "    for r in rotations:\n",
    "        r_op = QubitOperator('', 1/np.sqrt(2)) - q_conv.dict_to_QubitOperator({r[1]: 1/np.sqrt(2)*1j}, num_qubits)\n",
    "        r_op = LinearQubitOperator(r_op, num_qubits)\n",
    "        rot_state = r_op.matvec(rot_state)\n",
    "        \n",
    "    return rot_state\n",
    "\n",
    "\n",
    "def powerset(iterable):\n",
    "    \"powerset([1,2,3]) --> () (1,) (2,) (3,) (1,2) (1,3) (2,3) (1,2,3)\"\n",
    "    s = list(iterable)\n",
    "    return chain.from_iterable(combinations(s, r) for r in range(len(s)+1))\n",
    "\n",
    "\n",
    "def find_eigenstate_indices(initial, removed_Z_indices):\n",
    "    bins = []\n",
    "    index_powerset = list(powerset(removed_Z_indices))\n",
    "    \n",
    "    for comb in index_powerset:\n",
    "        initial_ref = list(deepcopy(initial))\n",
    "        for c in comb:\n",
    "            initial_ref[c] = str((int(initial_ref[c])+1)%2)\n",
    "        bins.append(bin_to_int(''.join(initial_ref)))\n",
    "    \n",
    "    return bins\n",
    "\n",
    "\n",
    "def expectation_optimiser(ham_n, ham_c, amps, initial_state, Z_indices, num_qubits, rotations=None):\n",
    "    eigenstate_indices = find_eigenstate_indices(initial_state, Z_indices)\n",
    "    \n",
    "    psi = np.array([0 for i in range(2**num_qubits)], dtype=complex)\n",
    "    for index, i in enumerate(eigenstate_indices):\n",
    "        psi += (amps[index])*add_eigenstate(r1=r1, r2=r2, theta=0, n=0, index=i, num_qubits=num_qubits)\n",
    "    \n",
    "    if rotations is not None:\n",
    "        psi = rotate_state(rotations, psi)\n",
    "    \n",
    "    expect_noncon = expectation(ham_n, psi)\n",
    "    expect_context = expectation(ham_c, psi)\n",
    "    \n",
    "    return expect_noncon, expect_context"
   ]
  },
  {
   "cell_type": "code",

   "execution_count": null,
   "metadata": {},
   "outputs": [],

   "source": [
    "generators = model[0]\n",
    "#rot_G=[]\n",
    "#rotations = (c.diagonalize_epistemic(model,fn_form,ep_state))[0]\n",
    "\n",
    "#for g in G:\n",
    "#    for r in rotations:\n",
    "#        rotate_g = c.apply_rotation(r, g)\n",
    "#        g = list(rotate_g.keys())[0]\n",
    "#    rot_G.append(g)\n",
    "    \n",
    "#print(G, rot_G)\n",
    "generators"
   ]
  },
  {
   "cell_type": "code",

   "execution_count": null,
   "metadata": {},
   "outputs": [],

   "source": [
    "#take expectation value algebraically\n",
    "from matplotlib import pyplot as plt\n",
    "shots=10\n",
    "initial_state = '01010010'\n",
    "\n",
    "#rot_ham, rot_ham_noncon, rot_ham_context = rotate_hamiltonian(rotations, ham, ham_noncon, ham_context)\n",
    "\n",
    "fig, axs = plt.subplots(nrows = 2, ncols = 3, figsize = (21,12))\n",
    "grid_pos = [(0,0),(0,1),(0,2),(1,0),(1,1),(1,2)]\n",
    "grid_pos.reverse()\n",
    "\n",
    "X=list(range(1, shots+1))\n",
    "print(X)\n",
    "for index, grid in enumerate(grid_pos):\n",
    "    \n",
    "    removed_index = list(range(index+2, 7))\n",
    "    removed_index.reverse()\n",
    "    removed_generators = [generators[i] for i in removed_index]\n",
    "    Z_indices = [g.find('Z') for g in removed_generators]\n",
    "    print(removed_generators, Z_indices)\n",
    "    \n",
    "    new_ham_noncon, new_ham_context = discard_generator(ham_noncon, ham_context, removed_generators)\n",
    "\n",
    "    #rot_ham_q = q_conv.dict_to_QubitOperator(ham, num_qubits)\n",
    "    new_ham_noncon_q = q_conv.dict_to_QubitOperator(new_ham_noncon, num_qubits)\n",
    "    new_ham_context_q = q_conv.dict_to_QubitOperator(new_ham_context, num_qubits)\n",
    "\n",
    "    eigenstate_indices = find_eigenstate_indices(initial_state, Z_indices)\n",
    "    amps=[random_vector(len(eigenstate_indices)) for i in range(shots)]\n",
    "    Y_noncon=[]\n",
    "    Y_context=[]\n",
    "    Y_combined=[]\n",
    "    Y_full=[]\n",
    "\n",
    "    #A_op = QubitOperator('Y0 Z1 Z2 Z3 Z4 Z5 Y6 Z7', r1) + QubitOperator('Z6', r2)\n",
    "    #A = LinearQubitOperator(A_op, num_qubits)\n",
    "\n",
    "    for p in amps:\n",
    "        expect_noncon, expect_context = expectation_optimiser(ham_n=new_ham_noncon_q, ham_c=new_ham_context_q, \n",
    "                                                              amps=p, initial_state=initial_state, Z_indices=Z_indices, num_qubits=num_qubits)\n",
    "\n",
    "        #Y_full.append(expect_full)\n",
    "        Y_noncon.append(expect_noncon)\n",
    "        Y_context.append(expect_context)\n",
    "        Y_combined.append(expect_noncon+expect_context)\n",
    "\n",
    "        #print(p, expect_noncon + expect_context < gs_noncon_energy)\n",
    "        #print((np.conjugate(psi)).dot(psi))\n",
    "        #Verify +1-eigenstate\n",
    "        #A_psi = A.matvec(psi)\n",
    "        #print(psi_conj.dot(A_psi))\n",
    "    \n",
    "    axs[grid].plot(X, Y_noncon, color='orange')\n",
    "    axs[grid].scatter(X, Y_context, color='blue', marker = 'x')\n",
    "    axs[grid].plot(X, Y_context, color='blue', ls='--')\n",
    "    axs[grid].scatter(X, Y_combined, color='black', marker = 'x')\n",
    "    axs[grid].plot(X, Y_combined, color='black', ls='--')\n",
    "    #plt.plot(range(shots), Y_combined, color='purple')\n",
    "    axs[grid].hlines(gs_noncon_energy, 1, shots, color='r')\n",
    "    axs[grid].hlines(true_gs, 1, shots, color='g')\n",
    "    \n",
    "    axs[grid].set_xticks(X)\n",
    "    axs[grid].set_title(\"%i generators removed\" % abs(index-5))\n",
    "    if grid[0] == 1:\n",
    "        axs[grid].set_xlabel('Sample Number',fontsize=16)\n",
    "    if grid[1] == 0:\n",
    "        axs[grid].set_ylabel('Energy (Ha)',fontsize=18)\n",
    "    #print('<H> w.r.t. simultaneous eigenstate:', expect)\n",
    "    #print('Noncontextual approximation:', gs_noncon_energy)\n",
    "    #print('Expectation values match?', abs(expect - gs_noncon_energy) < 10**-12) #sanity check - expectation values match? "
   ]
  },
  {
   "cell_type": "markdown",
   "metadata": {},
   "source": [
    "# Do we have any quantum corrections?"
   ]
  },
  {
   "cell_type": "code",

   "execution_count": null,
   "metadata": {},
   "outputs": [],

   "source": [
    "G = model[0]\n",
    "terms_context = list(ham_context.keys())\n",
    "G"
   ]
  },
  {
   "cell_type": "code",

   "execution_count": null,

   "metadata": {},
   "outputs": [],
   "source": [
    "new_ham_noncon, new_ham_context = discard_generator(ham_noncon, ham_context, ['ZIIIIIZI'])\n",
    "\n",
    "q_corr_terms = []\n",
    "\n",
    "for t in list(new_ham_context.keys()):\n",
    "    commutes = []\n",
    "    for g in G:\n",
    "        if c.commute(t, g):\n",
    "            commutes.append(g)\n",
    "    #print(t, 'commutes with the noncontextual generators:', commutes)\n",
    "    if commutes == G:\n",
    "        q_corr_terms.append(t)\n",
    "        \n",
    "if q_corr_terms == []:\n",
    "    print('No quantum correction')\n",
    "else:\n",
    "    print('Terms admitting quantum correction:', q_corr_terms)"
   ]
  },
  {
   "cell_type": "code",

   "execution_count": null,

   "metadata": {},
   "outputs": [],
   "source": [
    "ucc = q_conv.QubitOperator_to_dict(ucc_q, num_qubits)\n",
    "anz_terms = list(ucc.keys())\n",
    "print(anz_terms)"
   ]
  },
  {
   "cell_type": "code",

   "execution_count": null,
   "metadata": {},
   "outputs": [],

   "source": [
    "import cs_vqe_ansatz as c_anz\n",
    "\n",
    "anz = c_anz.construct_ansatz(init_state = [1, 3, 6], paulis = anz_terms)\n",
    "anz.draw()\n",
    "#from qiskit import QuantumCircuit\n",
    "#from qiskit.extensions import Initialize\n",
    "#from qiskit.circuit import Parameter\n",
    "\n",
    "#anz = QuantumCircuit(num_qubits) # We are redefining qc\n",
    "#anz.initialize(psi)\n",
    "#anz.ry(Parameter('x'), 3)\n",
    "#anz.initialize(psi2)\n",
    "#anz.rx(Parameter('y'), 3)"
   ]
  },
  {
   "cell_type": "code",

   "execution_count": null,
   "metadata": {},
   "outputs": [],

   "source": [
    "from qiskit.utils import QuantumInstance, algorithm_globals\n",
    "from qiskit.aqua.components.optimizers import COBYLA, SPSA, SLSQP\n",
    "from qiskit.algorithms import VQE\n",
    "from qiskit.quantum_info.operators.symplectic.pauli import Pauli\n",
    "from qiskit.opflow.primitive_ops import PauliOp\n",
    "from qiskit import Aer\n",
    "\n",
    "ham_qiskit = q_conv.dict_to_WeightedPauliOperator(ham)\n",
    "\n",
    "seed = 50\n",
    "algorithm_globals.random_seed = seed\n",
    "qi = QuantumInstance(Aer.get_backend('statevector_simulator'), seed_transpiler=seed, seed_simulator=seed)\n",
    "slsqp = SLSQP(maxiter=10000)\n",
    "\n",
    "vqe = VQE(anz, optimizer=slsqp, quantum_instance=qi)\n",
    "vqe_run    = vqe.compute_minimum_eigenvalue(operator=ham_qiskit)\n",
    "vqe_result = vqe_run.optimal_value# + shift\n",
    "\n",
    "print('VQE:', vqe_result, '|', 'Noncontextual Ground State:', gs_noncon_energy, 'True Ground State:', true_gs)"
   ]
  },
  {
   "cell_type": "code",
   "execution_count": 18,
   "metadata": {},
   "outputs": [
    {
     "name": "stdout",
     "output_type": "stream",
     "text": [
      "[-3.14282474926818, -3.14282474926818, -3.146274540897046, -3.1473405764585216, -3.147340576458527, -3.1489133494755484, -3.1543011047508536, -3.154301104750834, -3.1667654772544176]\n",
      "[-3.16676548]\n"
     ]
    }
   ],
   "source": [
    "from qiskit.aqua.algorithms import NumPyEigensolver\n",
    "\n",
    "order = [4, 0, 2, 3, 1, 5, 7, 6]\n",
    "print(c.contextual_subspace_approximations(ham,model,fn_form,ep_state,order))\n",
    "\n",
    "result = NumPyEigensolver(q_conv.dict_to_WeightedPauliOperator(ham)).run()\n",
    "exact_energy = np.real(result.eigenvalues)\n",
    "\n",
    "print(exact_energy)"
   ]
  },
  {
   "cell_type": "code",
   "execution_count": null,
   "metadata": {},
   "outputs": [],
   "source": [
    "rotations = (c.diagonalize_epistemic(model,fn_form,ep_state))[0]\n",
    "#rotations.reverse()\n",
    "rotations"
   ]
  },
  {
   "cell_type": "code",
   "execution_count": null,
   "metadata": {},
   "outputs": [],
   "source": [
    "rot_G=[]\n",
    "\n",
    "for g in G:\n",
    "    for r in rotations:\n",
    "        rotate_g = c.apply_rotation(r, g)\n",
    "        g = list(rotate_g.keys())[0]\n",
    "    rot_G.append(g)\n",
    "    \n",
    "rot_G"
   ]
  },
  {
   "cell_type": "code",
   "execution_count": null,
   "metadata": {},
   "outputs": [],
   "source": [
    "from openfermion.linalg import LinearQubitOperator\n",
    "\n",
    "psi = add_eigenstate(r1=r1, r2=r2, theta=0, n=0, index=82, num_qubits=num_qubits)\n",
    "rot_psi = rotate_state(rotations, psi)\n",
    "rot_psi_conj = np.conjugate(rot_psi)\n",
    "\n",
    "#rot_ham = c.get_reduced_hamiltonians(ham,model,fn_form,ep_state,order=[0,1,2,3,4,5,6,7])[8]\n",
    "\n",
    "rot_ham, rot_ham_noncon, rot_ham_context = rotate_hamiltonian(rotations, ham, ham_noncon, ham_context)\n",
    "rot_ham_noncon_q = q_conv.dict_to_QubitOperator(rot_ham, num_qubits)\n",
    "\n",
    "#take expectation value algebraically\n",
    "rot_H = LinearQubitOperator(rot_ham_noncon_q, num_qubits)\n",
    "rot_H_psi = rot_H.matvec(rot_psi)\n",
    "rot_expect = rot_psi_conj.dot(rot_H_psi)\n",
    "\n",
    "print('<H> w.r.t. rotated simultaneous eigenstate:', rot_expect)\n",
    "print('Noncontextual approximation:', gs_noncon_energy)\n",
    "print('Expectation values match?', abs(rot_expect - gs_noncon_energy) < 10**-14) #sanity check - expectation values match? "
   ]
  },
  {
   "cell_type": "code",
   "execution_count": null,
   "metadata": {},
   "outputs": [],
   "source": [
    "#take expectation value algebraically\n",
    "from matplotlib import pyplot as plt\n",
    "shots=20\n",
    "initial_state = '01010010'\n",
    "\n",
    "removed_index = [2,3,0]\n",
    "removed_generators = [rot_G[i] for i in removed_index]\n",
    "Z_indices = [g.find('Z') for g in removed_generators]\n",
    "print(removed_generators, Z_indices)\n",
    "\n",
    "rot_ham, rot_ham_noncon, rot_ham_context = rotate_hamiltonian(rotations, ham, ham_noncon, ham_context)\n",
    "new_rot_ham_noncon, new_rot_ham_context = discard_generator(rot_ham_noncon, rot_ham_context, removed_generators)\n",
    "new_rot_ham_noncon_q = q_conv.dict_to_QubitOperator(new_rot_ham_noncon, num_qubits)\n",
    "new_rot_ham_context_q = q_conv.dict_to_QubitOperator(new_rot_ham_context, num_qubits)\n",
    "\n",
    "eigenstate_indices = find_eigenstate_indices(initial_state, Z_indices)\n",
    "print(eigenstate_indices)\n",
    "\n",
    "prob=0.999\n",
    "amps=[]\n",
    "for i in range(shots):\n",
    "    amp_1 = [np.sqrt(prob)]\n",
    "    amp_rest = [np.sqrt(1-prob)*a for a in random_vector(len(eigenstate_indices)-1)]\n",
    "    amp_1 += amp_rest\n",
    "    amps.append(amp_1)\n",
    "\n",
    "X=list(range(1, shots+1))\n",
    "Y_noncon=[]\n",
    "Y_context=[]\n",
    "Y_combined=[]\n",
    "Y_full=[]\n",
    "\n",
    "#A_op = QubitOperator('Y0 Z1 Z2 Z3 Z4 Z5 Y6 Z7', r1) + QubitOperator('Z6', r2)\n",
    "#A = LinearQubitOperator(A_op, num_qubits)\n",
    "\n",
    "for p in amps:\n",
    "    expect_noncon, expect_context = expectation_optimiser(ham_n=new_rot_ham_noncon_q, ham_c=new_rot_ham_context_q, amps=p,\n",
    "                                                          initial_state=initial_state,num_qubits=num_qubits,Z_indices=Z_indices,rotations=rotations)\n",
    "    total = expect_noncon + expect_context\n",
    "    #Y_full.append(expect_full)\n",
    "    Y_noncon.append(expect_noncon)\n",
    "    Y_context.append(expect_context)\n",
    "    Y_combined.append(total)\n",
    "    print(total, total < gs_noncon_energy, p)\n",
    "\n",
    "#plt.plot(X, Y_noncon, color='orange')\n",
    "#plt.scatter(X, Y_context, color='blue', marker = 'x')\n",
    "#plt.plot(X, Y_context, color='blue', ls='--')\n",
    "plt.scatter(X, Y_combined, color='black', marker = 'x')\n",
    "plt.plot(X, Y_combined, color='black', ls='--')\n",
    "plt.hlines(gs_noncon_energy, 1, shots, color='r')\n",
    "#plt.hlines(true_gs, 1, shots, color='g')"
   ]
  },
  {
   "cell_type": "code",
   "execution_count": null,
   "metadata": {},
   "outputs": [],
   "source": [
    "gs_noncon_energy"
   ]
  },
  {
   "cell_type": "code",
   "execution_count": null,
   "metadata": {},
   "outputs": [],
   "source": [
    "(-3.14173689169366+0j) False [-0.6561365569846744, -0.006775889146723866, 0.029173298604223765, -0.7540476275164038], [82, 114, 66, 98]"
   ]
  },
  {
   "cell_type": "code",
   "execution_count": null,
   "metadata": {},
   "outputs": [],
   "source": [
    "#take expectation value algebraically\n",
    "from matplotlib import pyplot as plt\n",
    "shots=100\n",
    "\n",
    "H = LinearQubitOperator(ham_q, num_qubits)\n",
    "indices = [82, 88, 98]\n",
    "X=[random_vector(len(indices)) for i in range(shots)]\n",
    "Y=[]\n",
    "success=[]\n",
    "#A_op = QubitOperator('Y0 Z1 Z2 Z3 Z4 Z5 Y6 Z7', r1) + QubitOperator('Z6', r2)\n",
    "#A = LinearQubitOperator(A_op, num_qubits)\n",
    "\n",
    "for amps in X:\n",
    "    psi = np.array([0 for i in range(2**num_qubits)], dtype=complex)\n",
    "    for index, i in enumerate(indices):\n",
    "        psi += (amps[index])*add_eigenstate(r1=r1, r2=r2, theta=0, n=0, index=i, num_qubits=num_qubits)\n",
    "    psi_conj = np.conjugate(psi)\n",
    "\n",
    "    H_psi = H.matvec(psi)\n",
    "    expect = psi_conj.dot(H_psi)\n",
    "    print(expect<gs_noncon_energy, amps, expect, gs_noncon_energy)\n",
    "    if expect<gs_noncon_energy:\n",
    "        Y.append(expect)\n",
    "        success.append(amps)\n",
    "    #Verify +1-eigenstate\n",
    "    #A_psi = A.matvec(psi)\n",
    "    #print(psi_conj.dot(A_psi))\n",
    "\n",
    "plt.plot(range(len(Y)), Y)\n",
    "plt.scatter(range(len(Y)), Y)\n",
    "plt.hlines(gs_noncon_energy, 0, shots, color='r')\n",
    "#print('<H> w.r.t. simultaneous eigenstate:', expect)\n",
    "#print('Noncontextual approximation:', gs_noncon_energy)\n",
    "#print('Expectation values match?', abs(expect - gs_noncon_energy) < 10**-12) #sanity check - expectation values match? "
   ]
  },
  {
   "cell_type": "code",
   "execution_count": null,
   "metadata": {},
   "outputs": [],
   "source": [
    "success_temp = success"
   ]
  },
  {
   "cell_type": "code",
   "execution_count": null,
   "metadata": {},
   "outputs": [],
   "source": [
    "success_temp, [82, 88, 98]"
   ]
  },
  {
   "cell_type": "code",
   "execution_count": null,
   "metadata": {},
   "outputs": [],
   "source": [
    "optimizers = [COBYLA(maxiter=80),SLSQP(maxiter=60)]\n",
    "len(optimizers)"
   ]
  },
  {
   "cell_type": "code",
   "execution_count": null,
   "metadata": {},
   "outputs": [],
   "source": [
    "def bin_to_int(bits):\n",
    "    if type(bits) == str:\n",
    "        bits = [int(b) for b in bits]\n",
    "    for index, b in enumerate(bits):\n",
    "        bits[index] = b * 2 ** (len(bits)-index-1)\n",
    "    return sum(bits)"
   ]
  },
  {
   "cell_type": "code",
   "execution_count": null,
   "metadata": {},
   "outputs": [],
   "source": [
    "from copy import deepcopy\n",
    "\n",
    "v1 = [0,0,0,0,1,1,1,1]\n",
    "v2 = deepcopy(v1)\n",
    "v2[0] = (v2[0]+1)%2\n",
    "v2[6] = (v2[6]+1)%2"
   ]
  },
  {
   "cell_type": "code",
   "execution_count": null,
   "metadata": {},
   "outputs": [],
   "source": [
    "bin_to_int(v1), bin_to_int(v2)"
   ]
  },
  {
   "cell_type": "code",
   "execution_count": null,
   "metadata": {},
   "outputs": [],
   "source": [
    "import itertools\n",
    "from matplotlib import pyplot as plt\n",
    "\n",
    "B = list(itertools.product([0,1], repeat=8))\n",
    "\n",
    "X=[]\n",
    "Y=[]\n",
    "\n",
    "for b1 in B[0:128]:\n",
    "    b1 = list(b1)\n",
    "    b2 = deepcopy(b1)\n",
    "    b2[0] = (b2[0]+1)%2\n",
    "    b2[6] = (b2[6]+1)%2\n",
    "    i1 = bin_to_int(b1)\n",
    "    i2 = bin_to_int(b2)\n",
    "    X.append(i1)\n",
    "    Y.append(i2)\n",
    "    print(i1, i2, i2-i1)\n",
    "    \n",
    "plt.scatter(X, Y, s=3)"
   ]
  },
  {
   "cell_type": "code",
   "execution_count": null,
   "metadata": {},
   "outputs": [],
   "source": [
    "np.exp(0.6*1j)"
   ]
  },
  {
   "cell_type": "code",
   "execution_count": null,
   "metadata": {},
   "outputs": [],
   "source": [
    "bin_to_int('01011010')"
   ]
  },
  {
   "cell_type": "code",
   "execution_count": null,
   "metadata": {},
   "outputs": [],
   "source": [
    "from openfermion.linalg import get_sparse_operator, get_ground_state, generate_linear_qubit_operator\n",
    "\n",
    "sparse_ham_q = get_ground_state(get_sparse_operator(ham_noncon_q, num_qubits).toarray())\n",
    "sparse_ham_q"
   ]
  },
  {
   "cell_type": "code",
   "execution_count": null,
   "metadata": {},
   "outputs": [],
   "source": [
    "add_eigenstate(r1=r1, r2=r2, index=19, theta=0, n=0, num_qubits=num_qubits)[145]"
   ]
  },
  {
   "cell_type": "code",
   "execution_count": null,
   "metadata": {},
   "outputs": [],
   "source": [
    "discard_generator(ham_noncon, ham_context, ['IIIIIIIZ', 'IIIIIZII', 'IZIIIIII', 'IIZIIIII', 'IIIZIIII', 'IIIIZIII'])[0]"
   ]
  },
  {
   "cell_type": "code",
   "execution_count": null,
   "metadata": {},
   "outputs": [],
   "source": [
    "eigenstate_indices = [82, 83, 86, 87, 90, 91, 94, 95]"
   ]
  },
  {
   "cell_type": "code",
   "execution_count": null,
   "metadata": {},
   "outputs": [],
   "source": [
    "initial = 82\n",
    "indices = []\n",
    "removed_Z_indices = [7, 5, 4]\n",
    "for i in removed_Z_indices:\n",
    "    indices.append(initial)\n",
    "    indices.append(initial+1)\n",
    "    \n",
    "    initial += 2**i\n",
    "\n",
    "indices\n",
    "\n",
    "\n",
    "\n"
   ]
  },
  {
   "cell_type": "code",
   "execution_count": null,
   "metadata": {},
   "outputs": [],
   "source": [
    "print(sorted(find_eigenstate_indices('01010010', [2, 3])))"
   ]
  },
  {
   "cell_type": "code",
   "execution_count": null,
   "metadata": {},
   "outputs": [],
   "source": [
    "from openfermion.linalg import get_sparse_operator, get_ground_state\n",
    "\n",
    "gs = get_ground_state(get_sparse_operator(ham_q, num_qubits).toarray())\n",
    "print(gs[0])"
   ]
  },
  {
   "cell_type": "code",
   "execution_count": null,
   "metadata": {},
   "outputs": [],
   "source": [
    "amp_list = [abs(a)**2 for a in list(gs[1])]\n",
    "sig_amp_list = [(str(index), a) for index, a in enumerate(amp_list) if a > 0.00001]\n",
    "XY = list(zip(*sig_amp_list))\n",
    "X = XY[0]\n",
    "Y = XY[1]"
   ]
  },
  {
   "cell_type": "code",
   "execution_count": null,
   "metadata": {},
   "outputs": [],
   "source": [
    "from matplotlib.pyplot import figure\n",
    "\n",
    "figure(figsize=(12, 6), dpi=80)\n",
    "\n",
    "plt.bar(X, Y)\n",
    "plt.xticks(rotation=90)\n",
    "plt.show()"
   ]
  },
  {
   "cell_type": "code",
   "execution_count": null,
   "metadata": {},
   "outputs": [],
   "source": [
    "gs"
   ]
  },
  {
   "cell_type": "code",

   "execution_count": null,
   "metadata": {},
   "outputs": [],

   "source": [
    "int_to_bin(991, 10)"
   ]
  },
  {
   "cell_type": "code",
   "execution_count": null,
   "metadata": {},
   "outputs": [],
   "source": [
    "B = list(itertools.product([0,1], repeat=num_qubits))\n",
    "for index in range(128):\n",
    "    b1 = list(B[index])\n",
    "    b2 = deepcopy(b1)\n",
    "    b2[0] = (b2[0]+1)%2\n",
    "    b2[6] = (b2[6]+1)%2\n",
    "    i1 = bin_to_int(b1)\n",
    "    i2 = bin_to_int(b2)\n",
    "    print(i1, i2)"
   ]
  },
  {
   "cell_type": "code",
   "execution_count": null,
   "metadata": {},
   "outputs": [],
   "source": []
  },
  {
   "cell_type": "code",
   "execution_count": null,
   "metadata": {},
   "outputs": [],
   "source": []
  },
  {
   "cell_type": "code",
   "execution_count": null,
   "metadata": {},
   "outputs": [],
   "source": [
    "eigenstate_indices = find_eigenstate_indices('01010010', [2, 3])\n",
    "eigenstates = [int_to_bin(i, num_qubits) for i in eigenstate_indices]\n",
    "eigenstate_strings = []\n",
    "for s in eigenstates:\n",
    "    eigenstate_strings.append(s)\n",
    "    b1 = list(s)\n",
    "    b2 = deepcopy(b1)\n",
    "    b2[0] = str((int(b2[0])+1)%2)\n",
    "    b2[6] = str((int(b2[6])+1)%2)\n",
    "    eigenstate_strings.append(''.join(b2))\n",
    "\n",
    "eigenstate_strings"
   ]
  },
  {
   "cell_type": "code",
   "execution_count": null,
   "metadata": {},
   "outputs": [],
   "source": [
    "eigenstate_strings_indices = []\n",
    "for s in eigenstate_strings:\n",
    "    X_index = ['I' for i in range(num_qubits)]\n",
    "    for index, bit in enumerate(list(s)):\n",
    "        if bit == '1':\n",
    "            X_index[index] = 'X'\n",
    "    eigenstate_strings_indices.append(''.join(X_index))\n",
    "eigenstate_strings_indices"
   ]
  },
  {
   "cell_type": "code",

   "execution_count": null,
   "metadata": {},
   "outputs": [],

   "source": [
    "from qiskit import QuantumCircuit, BasicAer, execute\n",
    "from qiskit.visualization import plot_histogram\n",
    "%matplotlib inline\n",
    "param_chars = ['α','β','γ','δ','ε','ζ','η','θ','ι','κ','λ','μ','ν','ξ','ο','π','ρ','ς','σ','τ','υ','φ','χ','ψ','ω']\n",
    "\n",
    "indices = find_eigenstate_indices('01010010', [2, 3, 0])\n",
    "print(indices)\n",
    "psi = np.array([0 for i in range(2**num_qubits)], dtype=complex)\n",
    "for index, i in enumerate(indices):\n",
    "    psi += (np.sqrt(1/len(indices)))*add_eigenstate(r1=r1, r2=r2, theta=0, n=0, index=i, num_qubits=num_qubits)\n",
    "\n",
    "anz = QuantumCircuit(8)\n",
    "anz.initialize(psi)\n",
    "for q in range(8):\n",
    "    anz.ry(Parameter(param_chars[q]), q)\n",
    "#anz.measure_all()\n",
    "\n",
    "anz.draw()\n",
    "#backend = BasicAer.get_backend('qasm_simulator')\n",
    "#job = execute(anz, backend)\n",
    "#plot_histogram(job.result().get_counts(), color='midnightblue', title=\"New Histogram\")"
   ]
  },
  {
   "cell_type": "code",

   "execution_count": null,
   "metadata": {},
   "outputs": [],

   "source": [
    "bin_to_int('11110000')"
   ]
  },
  {
   "cell_type": "code",

   "execution_count": 20,
   "metadata": {},
   "outputs": [
    {
     "ename": "NameError",
     "evalue": "name 'clear' is not defined",
     "output_type": "error",
     "traceback": [
      "\u001b[0;31m---------------------------------------------------------------------------\u001b[0m",
      "\u001b[0;31mNameError\u001b[0m                                 Traceback (most recent call last)",
      "\u001b[0;32m<ipython-input-20-44369e3e22c7>\u001b[0m in \u001b[0;36m<module>\u001b[0;34m()\u001b[0m\n\u001b[0;32m----> 1\u001b[0;31m \u001b[0mprint\u001b[0m\u001b[0;34m(\u001b[0m\u001b[0mclear\u001b[0m\u001b[0;34m(\u001b[0m\u001b[0;34m[\u001b[0m\u001b[0;36m1\u001b[0m\u001b[0;34m,\u001b[0m \u001b[0;36m2\u001b[0m\u001b[0;34m,\u001b[0m \u001b[0;36m3\u001b[0m\u001b[0;34m]\u001b[0m\u001b[0;34m)\u001b[0m\u001b[0;34m)\u001b[0m\u001b[0;34m\u001b[0m\u001b[0m\n\u001b[0m",
      "\u001b[0;31mNameError\u001b[0m: name 'clear' is not defined"
     ]
    }
   ],
   "source": [
    "print(clear([1, 2, 3]))"
   ]
  },
  {
   "cell_type": "code",
   "execution_count": null,
   "metadata": {},
   "outputs": [],
   "source": []
  },
  {
   "cell_type": "code",
   "execution_count": null,
   "metadata": {},
   "outputs": [],
   "source": []
  },
  {
   "cell_type": "code",
   "execution_count": null,
   "metadata": {},
   "outputs": [],
   "source": [
    "from qiskit.circuit.parameter import Parameter\n",
    "\n",
    "r1 = ep_state[1][0]\n",
    "r2 = ep_state[1][1]\n",
    "#t = np.arctan((r2 + 1) / r1)\n",
    "parity=3\n",
    "q1=1\n",
    "amp_ratio = (1 + r2 * (-1)**q1) / (r1 * (-1)**(1 + parity))\n",
    "t = np.arctan(amp_ratio)\n",
    "\n",
    "qc = QuantumCircuit(8)\n",
    "qc.x(6), qc.x(4)\n",
    "qc.ry(Parameter('y'), 7)\n",
    "qc.cx(7, 1)\n",
    "qc.x(7)\n",
    "\n",
    "qc.rx(Parameter('x'), 5)\n",
    "qc.cx(5, 4)\n",
    "#qc.cx(7, 1)\n",
    "\n",
    "#qc = QuantumCircuit(8)\n",
    "#qc.ry(2*t, 7)\n",
    "#qc.x(6), qc.x(4)\n",
    "#qc.cx(7, 1)\n",
    "#qc.x(7)\n",
    "#qc.z(1)\n",
    "#qc.rz(Parameter('x'),0)\n",
    "\n",
    "#qc.measure_all()\n",
    "print(qc.draw())\n",
    "#backend = BasicAer.get_backend('qasm_simulator')\n",
    "#job = execute(qc, backend)\n",
    "#plot_histogram(job.result().get_counts(), color='midnightblue', title=\"New Histogram\")"
   ]
  },
  {
   "cell_type": "code",
   "execution_count": null,
   "metadata": {},
   "outputs": [],
   "source": [
    "from qiskit.utils import QuantumInstance, algorithm_globals\n",
    "from qiskit.aqua.components.optimizers import COBYLA, SPSA, SLSQP\n",
    "from qiskit.algorithms import VQE\n",
    "from qiskit.quantum_info.operators.symplectic.pauli import Pauli\n",
    "from qiskit.opflow.primitive_ops import PauliOp\n",
    "from qiskit import Aer\n",
    "\n",
    "ham_qiskit = q_conv.dict_to_WeightedPauliOperator(ham)\n",
    "\n",
    "seed = 50\n",
    "algorithm_globals.random_seed = seed\n",
    "qi = QuantumInstance(Aer.get_backend('statevector_simulator'), seed_transpiler=seed, seed_simulator=seed)\n",
    "slsqp = SLSQP(maxiter=10000)\n",
    "\n",
    "vqe = VQE(qc, optimizer=slsqp, quantum_instance=qi)\n",
    "vqe_run    = vqe.compute_minimum_eigenvalue(operator=ham_qiskit)\n",
    "vqe_result = vqe_run.optimal_value# + shift\n",
    "\n",
    "print('VQE:', vqe_result, '|', 'Noncontextual Ground State:', gs_noncon_energy, 'True Ground State:', true_gs)"
   ]


  },
  {
   "cell_type": "code",
   "execution_count": null,
   "metadata": {},
   "outputs": [],
   "source": [
    "int_to_bin(98, 8)"
   ]
  },
  {
   "cell_type": "code",

   "execution_count": null,
   "metadata": {},
   "outputs": [],
   "source": [
    "from openfermion.linalg import get_sparse_operator, get_ground_state\n",
    "from matplotlib import pyplot as plt\n",
    "\n",
    "gs = get_ground_state(get_sparse_operator(ham_q, num_qubits).toarray())\n",
    "\n",
    "amp_list = [abs(a)**2 for a in list(gs[1])]\n",
    "sig_amp_list = sorted([(str(index), a) for index, a in enumerate(amp_list) if a > 10**-30], key=lambda x:x[1])\n",
    "sig_amp_list.reverse()\n",
    "\n",
    "XY = list(zip(*sig_amp_list))\n",
    "X = XY[0]\n",
    "Y = XY[1]\n",
    "Y_log = [np.log10(a) for a in Y]\n",
    "\n",
    "from matplotlib.pyplot import figure\n",
    "\n",
    "figure(figsize=(15, 10), dpi=200)\n",
    "\n",
    "plt.grid(zorder=0)\n",
    "plt.bar(X, Y, zorder=2, label='Probability of observing basis state')\n",
    "plt.bar(X, Y_log, zorder=3, label = 'log (base 10) of probability')\n",
    "plt.xticks(rotation=90)\n",
    "plt.legend()\n",
    "plt.show()"

   ]
  },
  {
   "cell_type": "code",

   "execution_count": null,
   "metadata": {},
   "outputs": [],
   "source": [
    "qubit_map={}\n",
    "B = list(itertools.product([0,1], repeat=num_qubits))\n",
    "for index in range(2**(num_qubits)):\n",
    "    b1 = list(B[index])\n",
    "    b2 = deepcopy(b1)\n",
    "    b2[0] = (b2[0]+1)%2\n",
    "    b2[6] = (b2[6]+1)%2\n",
    "    i1 = bin_to_int(b1)\n",
    "    i2 = bin_to_int(b2)\n",
    "    qubit_map[i1] = [(i1, b1), (i2, b2)]\n",
    "\n",
    "for i in find_eigenstate_indices('01010010', [2,3,0]):\n",
    "    print(qubit_map[i])"

   ]
  },
  {
   "cell_type": "code",
   "execution_count": null,
   "metadata": {},
   "outputs": [],
   "source": []
  }
 ],
 "metadata": {
  "kernelspec": {
   "display_name": "Python 3",
   "language": "python",
   "name": "python3"
  },
  "language_info": {
   "codemirror_mode": {
    "name": "ipython",
    "version": 3
   },
   "file_extension": ".py",
   "mimetype": "text/x-python",
   "name": "python",
   "nbconvert_exporter": "python",
   "pygments_lexer": "ipython3",
   "version": "3.7.0"
  }
 },
 "nbformat": 4,
 "nbformat_minor": 2
}
