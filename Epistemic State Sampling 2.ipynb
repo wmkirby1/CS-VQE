{
 "cells": [
  {
   "cell_type": "code",
   "execution_count": 1,
   "metadata": {},
   "outputs": [],
   "source": [
    "import openfermion\n",
    "import openfermionpyscf\n",
    "from openfermion import MolecularData\n",
    "from openfermionpyscf import run_pyscf\n",
    "from openfermion.ops import FermionOperator, QubitOperator\n",
    "from openfermion.transforms import jordan_wigner, bravyi_kitaev\n",
    "from openfermion.transforms import get_fermion_operator\n",
    "from openfermion.circuits import (uccsd_singlet_get_packed_amplitudes,\n",
    "                               uccsd_singlet_generator, uccsd_generator,\n",
    "                               uccsd_convert_amplitude_format)\n",
    "import numpy as np\n",
    "import cs_vqe as c\n",
    "import itertools\n",
    "import qubit_conversion as q_conv"
   ]
  },
  {
   "cell_type": "code",
   "execution_count": 2,
   "metadata": {
    "scrolled": true
   },
   "outputs": [],
   "source": [
    "#import ast\n",
    "#import matplotlib\n",
    "#import matplotlib.pyplot as plt\n",
    "\n",
    "#f = open(\"hamiltonians.txt\",\"r\")\n",
    "#hamiltonians = ast.literal_eval(f.read())\n",
    "#f.close()\n",
    "\n",
    "#for h in hamiltonians.keys():\n",
    "#    print(h, '# qubits:', hamiltonians[h][1], 'A terms:', hamiltonians[h][5][3][1])"
   ]
  },
  {
   "cell_type": "code",
   "execution_count": 3,
   "metadata": {},
   "outputs": [],
   "source": [
    "#speciesname = 'H1-He1_STO-3G_singlet'\n",
    "\n",
    "#encoding = hamiltonians[speciesname][0] # in this dataset, always 'JW' for Jordan-Wigner, but leaves room for trying Bravyi-Kitaev as well\n",
    "#num_qubits = hamiltonians[speciesname][1] # number of qubits (all of these Hamiltonians have been tapered for molecular symmetries)\n",
    "#ham = hamiltonians[speciesname][2] # full Hamiltonian\n",
    "#ham_noncon = hamiltonians[speciesname][3] # noncontextual part of Hamiltonian, found by greedy DFS\n",
    "#true_gs = hamiltonians[speciesname][4] # ground state energy of full Hamiltonian (in Hartree)\n",
    "#gs_noncon = hamiltonians[speciesname][5] # list containing information about noncontextual ground state: zeroth entry is ground state energy of noncontextual part of Hamiltonian\n",
    "#print('commuting generators:',model[0], '\\n')\n",
    "#print('anticommuting generators:',model[1], '\\n')\n",
    "#print('term reconstruction:',model[2], '\\n')\n",
    "\n",
    "#print('number of qubits:', num_qubits)\n",
    "#print('true ground state energy:', true_gs)\n",
    "#print('noncontextual approximation to ground state energy:', gs_noncon[0])\n",
    "#print(ham_noncon)"
   ]
  },
  {
   "cell_type": "code",
   "execution_count": 4,
   "metadata": {},
   "outputs": [
    {
     "name": "stdout",
     "output_type": "stream",
     "text": [
      "Hamiltonian: \n",
      " (1.1324434021069372+0j) [] +\n",
      "(-0.025810254414802718+0j) [X0 X1 Y2 Y3] +\n",
      "(-0.012799934786441543+0j) [X0 X1 Y2 Z3 Z4 Y5] +\n",
      "(-0.025159645839892424+0j) [X0 X1 Y2 Z3 Z4 Z5 Z6 Y7] +\n",
      "(-0.012799934786441543+0j) [X0 X1 X3 X4] +\n",
      "(-0.02515964583989242+0j) [X0 X1 X3 Z4 Z5 X6] +\n",
      "(-0.01711452882177704+0j) [X0 X1 Y4 Y5] +\n",
      "(-0.000989104910370992+0j) [X0 X1 Y4 Z5 Z6 Y7] +\n",
      "(-0.000989104910370992+0j) [X0 X1 X5 X6] +\n",
      "(-0.05469856574685571+0j) [X0 X1 Y6 Y7] +\n",
      "(0.025810254414802718+0j) [X0 Y1 Y2 X3] +\n",
      "(0.012799934786441543+0j) [X0 Y1 Y2 Z3 Z4 X5] +\n",
      "(0.025159645839892424+0j) [X0 Y1 Y2 Z3 Z4 Z5 Z6 X7] +\n",
      "(-0.012799934786441543+0j) [X0 Y1 Y3 X4] +\n",
      "(-0.02515964583989242+0j) [X0 Y1 Y3 Z4 Z5 X6] +\n",
      "(0.01711452882177704+0j) [X0 Y1 Y4 X5] +\n",
      "(0.000989104910370992+0j) [X0 Y1 Y4 Z5 Z6 X7] +\n",
      "(-0.000989104910370992+0j) [X0 Y1 Y5 X6] +\n",
      "(0.05469856574685571+0j) [X0 Y1 Y6 X7] +\n",
      "(0.002577905179377272+0j) [X0 Z1 X2] +\n",
      "(0.004766148105679894+0j) [X0 Z1 X2 X3 Z4 X5] +\n",
      "(-0.009264702923300441+0j) [X0 Z1 X2 X3 Z4 Z5 Z6 X7] +\n",
      "(0.004766148105679894+0j) [X0 Z1 X2 Y3 Z4 Y5] +\n",
      "(-0.009264702923300441+0j) [X0 Z1 X2 Y3 Z4 Z5 Z6 Y7] +\n",
      "(-0.008165544677219465+0j) [X0 Z1 X2 Z3] +\n",
      "(0.01103917539008076+0j) [X0 Z1 X2 X4 Z5 X6] +\n",
      "(0.00403142960800293+0j) [X0 Z1 X2 Y4 Z5 Y6] +\n",
      "(-0.0012599890155251653+0j) [X0 Z1 X2 Z4] +\n",
      "(0.008519234528346842+0j) [X0 Z1 X2 X5 Z6 X7] +\n",
      "(0.008519234528346842+0j) [X0 Z1 X2 Y5 Z6 Y7] +\n",
      "(-0.016838291919083093+0j) [X0 Z1 X2 Z5] +\n",
      "(0.018855524349028114+0j) [X0 Z1 X2 Z6] +\n",
      "(0.04260557457087364+0j) [X0 Z1 X2 Z7] +\n",
      "(0.007007745782077829+0j) [X0 Z1 Y2 Y4 Z5 X6] +\n",
      "(-0.015578302903557925+0j) [X0 Z1 Z2 X3 Y4 Y5] +\n",
      "(-0.004487804920343913+0j) [X0 Z1 Z2 X3 Y4 Z5 Z6 Y7] +\n",
      "(0.0025199408617339173+0j) [X0 Z1 Z2 X3 X5 X6] +\n",
      "(0.023750050221845526+0j) [X0 Z1 Z2 X3 Y6 Y7] +\n",
      "(0.015578302903557925+0j) [X0 Z1 Z2 Y3 Y4 X5] +\n",
      "(0.004487804920343913+0j) [X0 Z1 Z2 Y3 Y4 Z5 Z6 X7] +\n",
      "(0.0025199408617339173+0j) [X0 Z1 Z2 Y3 Y5 X6] +\n",
      "(-0.023750050221845526+0j) [X0 Z1 Z2 Y3 Y6 X7] +\n",
      "(0.057762059101419586+0j) [X0 Z1 Z2 Z3 X4] +\n",
      "(0.009043151009582053+0j) [X0 Z1 Z2 Z3 X4 X5 Z6 X7] +\n",
      "(0.009043151009582053+0j) [X0 Z1 Z2 Z3 X4 Y5 Z6 Y7] +\n",
      "(-0.03282295150197613+0j) [X0 Z1 Z2 Z3 X4 Z5] +\n",
      "(-0.0008004024320779313+0j) [X0 Z1 Z2 Z3 X4 Z6] +\n",
      "(-0.00029621267985288326+0j) [X0 Z1 Z2 Z3 X4 Z7] +\n",
      "(0.0005041897522250481+0j) [X0 Z1 Z2 Z3 Z4 X5 Y6 Y7] +\n",
      "(-0.0005041897522250481+0j) [X0 Z1 Z2 Z3 Z4 Y5 Y6 X7] +\n",
      "(-0.03866070666863612+0j) [X0 Z1 Z2 Z3 Z4 Z5 X6] +\n",
      "(0.07064370485658203+0j) [X0 Z1 Z2 Z3 Z4 Z5 X6 Z7] +\n",
      "(0.004130517996846015+0j) [X0 Z1 Z2 Z3 Z4 X6] +\n",
      "(0.013173669006428065+0j) [X0 Z1 Z2 Z3 Z5 X6] +\n",
      "(-0.018902191774467732+0j) [X0 Z1 Z2 X4] +\n",
      "(0.012909964467231583+0j) [X0 Z1 Z2 Z4 Z5 X6] +\n",
      "(-0.014136043668787839+0j) [X0 Z1 Z3 X4] +\n",
      "(0.0036452615439311405+0j) [X0 Z1 Z3 Z4 Z5 X6] +\n",
      "(0.03777517825608949+0j) [X0 X2] +\n",
      "(-0.009195742964413275+0j) [X0 Z2 Z3 X4] +\n",
      "(0.06584241123630494+0j) [X0 Z2 Z3 Z4 Z5 X6] +\n",
      "(0.025810254414802718+0j) [Y0 X1 X2 Y3] +\n",
      "(0.012799934786441543+0j) [Y0 X1 X2 Z3 Z4 Y5] +\n",
      "(0.025159645839892424+0j) [Y0 X1 X2 Z3 Z4 Z5 Z6 Y7] +\n",
      "(-0.012799934786441543+0j) [Y0 X1 X3 Y4] +\n",
      "(-0.02515964583989242+0j) [Y0 X1 X3 Z4 Z5 Y6] +\n",
      "(0.01711452882177704+0j) [Y0 X1 X4 Y5] +\n",
      "(0.000989104910370992+0j) [Y0 X1 X4 Z5 Z6 Y7] +\n",
      "(-0.000989104910370992+0j) [Y0 X1 X5 Y6] +\n",
      "(0.05469856574685571+0j) [Y0 X1 X6 Y7] +\n",
      "(-0.025810254414802718+0j) [Y0 Y1 X2 X3] +\n",
      "(-0.012799934786441543+0j) [Y0 Y1 X2 Z3 Z4 X5] +\n",
      "(-0.025159645839892424+0j) [Y0 Y1 X2 Z3 Z4 Z5 Z6 X7] +\n",
      "(-0.012799934786441543+0j) [Y0 Y1 Y3 Y4] +\n",
      "(-0.02515964583989242+0j) [Y0 Y1 Y3 Z4 Z5 Y6] +\n",
      "(-0.01711452882177704+0j) [Y0 Y1 X4 X5] +\n",
      "(-0.000989104910370992+0j) [Y0 Y1 X4 Z5 Z6 X7] +\n",
      "(-0.000989104910370992+0j) [Y0 Y1 Y5 Y6] +\n",
      "(-0.05469856574685571+0j) [Y0 Y1 X6 X7] +\n",
      "(0.007007745782077829+0j) [Y0 Z1 X2 X4 Z5 Y6] +\n",
      "(0.002577905179377272+0j) [Y0 Z1 Y2] +\n",
      "(0.004766148105679894+0j) [Y0 Z1 Y2 X3 Z4 X5] +\n",
      "(-0.009264702923300441+0j) [Y0 Z1 Y2 X3 Z4 Z5 Z6 X7] +\n",
      "(0.004766148105679894+0j) [Y0 Z1 Y2 Y3 Z4 Y5] +\n",
      "(-0.009264702923300441+0j) [Y0 Z1 Y2 Y3 Z4 Z5 Z6 Y7] +\n",
      "(-0.008165544677219465+0j) [Y0 Z1 Y2 Z3] +\n",
      "(0.00403142960800293+0j) [Y0 Z1 Y2 X4 Z5 X6] +\n",
      "(0.01103917539008076+0j) [Y0 Z1 Y2 Y4 Z5 Y6] +\n",
      "(-0.0012599890155251653+0j) [Y0 Z1 Y2 Z4] +\n",
      "(0.008519234528346842+0j) [Y0 Z1 Y2 X5 Z6 X7] +\n",
      "(0.008519234528346842+0j) [Y0 Z1 Y2 Y5 Z6 Y7] +\n",
      "(-0.016838291919083093+0j) [Y0 Z1 Y2 Z5] +\n",
      "(0.018855524349028114+0j) [Y0 Z1 Y2 Z6] +\n",
      "(0.04260557457087364+0j) [Y0 Z1 Y2 Z7] +\n",
      "(0.015578302903557925+0j) [Y0 Z1 Z2 X3 X4 Y5] +\n",
      "(0.004487804920343913+0j) [Y0 Z1 Z2 X3 X4 Z5 Z6 Y7] +\n",
      "(0.0025199408617339173+0j) [Y0 Z1 Z2 X3 X5 Y6] +\n",
      "(-0.023750050221845526+0j) [Y0 Z1 Z2 X3 X6 Y7] +\n",
      "(-0.015578302903557925+0j) [Y0 Z1 Z2 Y3 X4 X5] +\n",
      "(-0.004487804920343913+0j) [Y0 Z1 Z2 Y3 X4 Z5 Z6 X7] +\n",
      "(0.0025199408617339173+0j) [Y0 Z1 Z2 Y3 Y5 Y6] +\n",
      "(0.023750050221845526+0j) [Y0 Z1 Z2 Y3 X6 X7] +\n",
      "(0.057762059101419586+0j) [Y0 Z1 Z2 Z3 Y4] +\n",
      "(0.009043151009582053+0j) [Y0 Z1 Z2 Z3 Y4 X5 Z6 X7] +\n",
      "(0.009043151009582053+0j) [Y0 Z1 Z2 Z3 Y4 Y5 Z6 Y7] +\n",
      "(-0.03282295150197613+0j) [Y0 Z1 Z2 Z3 Y4 Z5] +\n",
      "(-0.0008004024320779313+0j) [Y0 Z1 Z2 Z3 Y4 Z6] +\n",
      "(-0.00029621267985288326+0j) [Y0 Z1 Z2 Z3 Y4 Z7] +\n",
      "(-0.0005041897522250481+0j) [Y0 Z1 Z2 Z3 Z4 X5 X6 Y7] +\n",
      "(0.0005041897522250481+0j) [Y0 Z1 Z2 Z3 Z4 Y5 X6 X7] +\n",
      "(-0.03866070666863612+0j) [Y0 Z1 Z2 Z3 Z4 Z5 Y6] +\n",
      "(0.07064370485658203+0j) [Y0 Z1 Z2 Z3 Z4 Z5 Y6 Z7] +\n",
      "(0.004130517996846015+0j) [Y0 Z1 Z2 Z3 Z4 Y6] +\n",
      "(0.013173669006428065+0j) [Y0 Z1 Z2 Z3 Z5 Y6] +\n",
      "(-0.018902191774467732+0j) [Y0 Z1 Z2 Y4] +\n",
      "(0.012909964467231583+0j) [Y0 Z1 Z2 Z4 Z5 Y6] +\n",
      "(-0.014136043668787839+0j) [Y0 Z1 Z3 Y4] +\n",
      "(0.0036452615439311405+0j) [Y0 Z1 Z3 Z4 Z5 Y6] +\n",
      "(0.03777517825608949+0j) [Y0 Y2] +\n",
      "(-0.009195742964413275+0j) [Y0 Z2 Z3 Y4] +\n",
      "(0.06584241123630494+0j) [Y0 Z2 Z3 Z4 Z5 Y6] +\n",
      "(0.1399063176082539+0j) [Z0] +\n",
      "(0.03777517825608949+0j) [Z0 X1 Z2 X3] +\n",
      "(-0.009195742964413275+0j) [Z0 X1 Z2 Z3 Z4 X5] +\n",
      "(0.06584241123630494+0j) [Z0 X1 Z2 Z3 Z4 Z5 Z6 X7] +\n",
      "(0.03777517825608949+0j) [Z0 Y1 Z2 Y3] +\n",
      "(-0.009195742964413275+0j) [Z0 Y1 Z2 Z3 Z4 Y5] +\n",
      "(0.06584241123630494+0j) [Z0 Y1 Z2 Z3 Z4 Z5 Z6 Y7] +\n",
      "(0.24991838793692367+0j) [Z0 Z1] +\n",
      "(-0.02284525875335208+0j) [Z0 X2 Z3 X4] +\n",
      "(-0.018031114213525497+0j) [Z0 X2 Z3 Z4 Z5 X6] +\n",
      "(-0.02284525875335208+0j) [Z0 Y2 Z3 Y4] +\n",
      "(-0.018031114213525497+0j) [Z0 Y2 Z3 Z4 Z5 Y6] +\n",
      "(0.11107234328900373+0j) [Z0 Z2] +\n",
      "(-0.03564519353979362+0j) [Z0 X3 Z4 X5] +\n",
      "(-0.04319076005341792+0j) [Z0 X3 Z4 Z5 Z6 X7] +\n",
      "(-0.03564519353979362+0j) [Z0 Y3 Z4 Y5] +\n",
      "(-0.04319076005341792+0j) [Z0 Y3 Z4 Z5 Z6 Y7] +\n",
      "(0.13688259770380645+0j) [Z0 Z3] +\n",
      "(0.004190195454526547+0j) [Z0 X4 Z5 X6] +\n",
      "(0.004190195454526547+0j) [Z0 Y4 Z5 Y6] +\n",
      "(0.12602660899459506+0j) [Z0 Z4] +\n",
      "(0.003201090544155556+0j) [Z0 X5 Z6 X7] +\n",
      "(0.003201090544155556+0j) [Z0 Y5 Z6 Y7] +\n",
      "(0.1431411378163721+0j) [Z0 Z5] +\n",
      "(0.176421949589728+0j) [Z0 Z6] +\n",
      "(0.23112051533658373+0j) [Z0 Z7] +\n",
      "(-0.004766148105679894+0j) [X1 X2 Y3 Y4] +\n",
      "(0.009264702923300441+0j) [X1 X2 Y3 Z4 Z5 Y6] +\n",
      "(-0.015578302903557925+0j) [X1 X2 X4 X5] +\n",
      "(0.0025199408617339173+0j) [X1 X2 X4 Z5 Z6 X7] +\n",
      "(-0.004487804920343913+0j) [X1 X2 Y5 Y6] +\n",
      "(0.02375005022184553+0j) [X1 X2 X6 X7] +\n",
      "(0.004766148105679894+0j) [X1 Y2 Y3 X4] +\n",
      "(-0.009264702923300441+0j) [X1 Y2 Y3 Z4 Z5 X6] +\n",
      "(-0.015578302903557925+0j) [X1 Y2 Y4 X5] +\n",
      "(0.0025199408617339173+0j) [X1 Y2 Y4 Z5 Z6 X7] +\n",
      "(0.004487804920343913+0j) [X1 Y2 Y5 X6] +\n",
      "(0.02375005022184553+0j) [X1 Y2 Y6 X7] +\n",
      "(0.002577905179377278+0j) [X1 Z2 X3] +\n",
      "(0.008519234528346842+0j) [X1 Z2 X3 X4 Z5 X6] +\n",
      "(0.008519234528346842+0j) [X1 Z2 X3 Y4 Z5 Y6] +\n",
      "(-0.016838291919083093+0j) [X1 Z2 X3 Z4] +\n",
      "(0.01103917539008076+0j) [X1 Z2 X3 X5 Z6 X7] +\n",
      "(0.00403142960800293+0j) [X1 Z2 X3 Y5 Z6 Y7] +\n",
      "(-0.0012599890155251653+0j) [X1 Z2 X3 Z5] +\n",
      "(0.04260557457087364+0j) [X1 Z2 X3 Z6] +\n",
      "(0.018855524349028114+0j) [X1 Z2 X3 Z7] +\n",
      "(0.007007745782077829+0j) [X1 Z2 Y3 Y5 Z6 X7] +\n",
      "(-0.009043151009582053+0j) [X1 Z2 Z3 X4 Y5 Y6] +\n",
      "(0.0005041897522250481+0j) [X1 Z2 Z3 X4 X6 X7] +\n",
      "(0.009043151009582053+0j) [X1 Z2 Z3 Y4 Y5 X6] +\n",
      "(0.0005041897522250481+0j) [X1 Z2 Z3 Y4 Y6 X7] +\n",
      "(0.057762059101419586+0j) [X1 Z2 Z3 Z4 X5] +\n",
      "(-0.00029621267985288326+0j) [X1 Z2 Z3 Z4 X5 Z6] +\n",
      "(-0.0008004024320779313+0j) [X1 Z2 Z3 Z4 X5 Z7] +\n",
      "(-0.038660706668636136+0j) [X1 Z2 Z3 Z4 Z5 Z6 X7] +\n",
      "(0.07064370485658203+0j) [X1 Z2 Z3 Z4 Z5 X7] +\n",
      "(0.013173669006428065+0j) [X1 Z2 Z3 Z4 Z6 X7] +\n",
      "(-0.03282295150197613+0j) [X1 Z2 Z3 X5] +\n",
      "(0.004130517996846015+0j) [X1 Z2 Z3 Z5 Z6 X7] +\n",
      "(-0.014136043668787839+0j) [X1 Z2 Z4 X5] +\n",
      "(0.0036452615439311405+0j) [X1 Z2 Z4 Z5 Z6 X7] +\n",
      "(-0.008165544677219465+0j) [X1 X3] +\n",
      "(-0.018902191774467732+0j) [X1 Z3 Z4 X5] +\n",
      "(0.012909964467231583+0j) [X1 Z3 Z4 Z5 Z6 X7] +\n",
      "(0.004766148105679894+0j) [Y1 X2 X3 Y4] +\n",
      "(-0.009264702923300441+0j) [Y1 X2 X3 Z4 Z5 Y6] +\n",
      "(-0.015578302903557925+0j) [Y1 X2 X4 Y5] +\n",
      "(0.0025199408617339173+0j) [Y1 X2 X4 Z5 Z6 Y7] +\n",
      "(0.004487804920343913+0j) [Y1 X2 X5 Y6] +\n",
      "(0.02375005022184553+0j) [Y1 X2 X6 Y7] +\n",
      "(-0.004766148105679894+0j) [Y1 Y2 X3 X4] +\n",
      "(0.009264702923300441+0j) [Y1 Y2 X3 Z4 Z5 X6] +\n",
      "(-0.015578302903557925+0j) [Y1 Y2 Y4 Y5] +\n",
      "(0.0025199408617339173+0j) [Y1 Y2 Y4 Z5 Z6 Y7] +\n",
      "(-0.004487804920343913+0j) [Y1 Y2 X5 X6] +\n",
      "(0.02375005022184553+0j) [Y1 Y2 Y6 Y7] +\n",
      "(0.007007745782077829+0j) [Y1 Z2 X3 X5 Z6 Y7] +\n",
      "(0.002577905179377278+0j) [Y1 Z2 Y3] +\n",
      "(0.008519234528346842+0j) [Y1 Z2 Y3 X4 Z5 X6] +\n",
      "(0.008519234528346842+0j) [Y1 Z2 Y3 Y4 Z5 Y6] +\n",
      "(-0.016838291919083093+0j) [Y1 Z2 Y3 Z4] +\n",
      "(0.00403142960800293+0j) [Y1 Z2 Y3 X5 Z6 X7] +\n",
      "(0.01103917539008076+0j) [Y1 Z2 Y3 Y5 Z6 Y7] +\n",
      "(-0.0012599890155251653+0j) [Y1 Z2 Y3 Z5] +\n",
      "(0.04260557457087364+0j) [Y1 Z2 Y3 Z6] +\n",
      "(0.018855524349028114+0j) [Y1 Z2 Y3 Z7] +\n",
      "(0.009043151009582053+0j) [Y1 Z2 Z3 X4 X5 Y6] +\n",
      "(0.0005041897522250481+0j) [Y1 Z2 Z3 X4 X6 Y7] +\n",
      "(-0.009043151009582053+0j) [Y1 Z2 Z3 Y4 X5 X6] +\n",
      "(0.0005041897522250481+0j) [Y1 Z2 Z3 Y4 Y6 Y7] +\n",
      "(0.057762059101419586+0j) [Y1 Z2 Z3 Z4 Y5] +\n",
      "(-0.00029621267985288326+0j) [Y1 Z2 Z3 Z4 Y5 Z6] +\n",
      "(-0.0008004024320779313+0j) [Y1 Z2 Z3 Z4 Y5 Z7] +\n",
      "(-0.038660706668636136+0j) [Y1 Z2 Z3 Z4 Z5 Z6 Y7] +\n",
      "(0.07064370485658203+0j) [Y1 Z2 Z3 Z4 Z5 Y7] +\n",
      "(0.013173669006428065+0j) [Y1 Z2 Z3 Z4 Z6 Y7] +\n",
      "(-0.03282295150197613+0j) [Y1 Z2 Z3 Y5] +\n",
      "(0.004130517996846015+0j) [Y1 Z2 Z3 Z5 Z6 Y7] +\n",
      "(-0.014136043668787839+0j) [Y1 Z2 Z4 Y5] +\n",
      "(0.0036452615439311405+0j) [Y1 Z2 Z4 Z5 Z6 Y7] +\n",
      "(-0.008165544677219465+0j) [Y1 Y3] +\n",
      "(-0.018902191774467732+0j) [Y1 Z3 Z4 Y5] +\n",
      "(0.012909964467231583+0j) [Y1 Z3 Z4 Z5 Z6 Y7] +\n",
      "(0.13990631760825406+0j) [Z1] +\n",
      "(-0.03564519353979362+0j) [Z1 X2 Z3 X4] +\n",
      "(-0.04319076005341792+0j) [Z1 X2 Z3 Z4 Z5 X6] +\n",
      "(-0.03564519353979362+0j) [Z1 Y2 Z3 Y4] +\n",
      "(-0.04319076005341792+0j) [Z1 Y2 Z3 Z4 Z5 Y6] +\n",
      "(0.13688259770380645+0j) [Z1 Z2] +\n",
      "(-0.02284525875335208+0j) [Z1 X3 Z4 X5] +\n",
      "(-0.018031114213525497+0j) [Z1 X3 Z4 Z5 Z6 X7] +\n",
      "(-0.02284525875335208+0j) [Z1 Y3 Z4 Y5] +\n",
      "(-0.018031114213525497+0j) [Z1 Y3 Z4 Z5 Z6 Y7] +\n",
      "(0.11107234328900373+0j) [Z1 Z3] +\n",
      "(0.003201090544155556+0j) [Z1 X4 Z5 X6] +\n",
      "(0.003201090544155556+0j) [Z1 Y4 Z5 Y6] +\n",
      "(0.1431411378163721+0j) [Z1 Z4] +\n",
      "(0.004190195454526547+0j) [Z1 X5 Z6 X7] +\n",
      "(0.004190195454526547+0j) [Z1 Y5 Z6 Y7] +\n",
      "(0.12602660899459506+0j) [Z1 Z5] +\n",
      "(0.23112051533658373+0j) [Z1 Z6] +\n",
      "(0.176421949589728+0j) [Z1 Z7] +\n",
      "(-0.026562524812129926+0j) [X2 X3 Y4 Y5] +\n",
      "(-0.009524965740543392+0j) [X2 X3 Y4 Z5 Z6 Y7] +\n",
      "(-0.009524965740543392+0j) [X2 X3 X5 X6] +\n",
      "(-0.015257972303388854+0j) [X2 X3 Y6 Y7] +\n",
      "(0.026562524812129926+0j) [X2 Y3 Y4 X5] +\n",
      "(0.009524965740543392+0j) [X2 Y3 Y4 Z5 Z6 X7] +\n",
      "(-0.009524965740543392+0j) [X2 Y3 Y5 X6] +\n",
      "(0.015257972303388854+0j) [X2 Y3 Y6 X7] +\n",
      "(0.06155545924339915+0j) [X2 Z3 X4] +\n",
      "(0.004924556798161376+0j) [X2 Z3 X4 X5 Z6 X7] +\n",
      "(0.004924556798161376+0j) [X2 Z3 X4 Y5 Z6 Y7] +\n",
      "(-0.043918610245800106+0j) [X2 Z3 X4 Z5] +\n",
      "(-0.024349063112352617+0j) [X2 Z3 X4 Z6] +\n",
      "(-0.02553824321562849+0j) [X2 Z3 X4 Z7] +\n",
      "(-0.0011891801032758692+0j) [X2 Z3 Z4 X5 Y6 Y7] +\n",
      "(0.0011891801032758692+0j) [X2 Z3 Z4 Y5 Y6 X7] +\n",
      "(0.020218321802473037+0j) [X2 Z3 Z4 Z5 X6] +\n",
      "(-0.04084731997671775+0j) [X2 Z3 Z4 Z5 X6 Z7] +\n",
      "(-0.01640464921011206+0j) [X2 Z3 Z4 X6] +\n",
      "(-0.011480092411950683+0j) [X2 Z3 Z5 X6] +\n",
      "(-0.02623999490697159+0j) [X2 X4] +\n",
      "(-0.012708134346706122+0j) [X2 Z4 Z5 X6] +\n",
      "(0.026562524812129926+0j) [Y2 X3 X4 Y5] +\n",
      "(0.009524965740543392+0j) [Y2 X3 X4 Z5 Z6 Y7] +\n",
      "(-0.009524965740543392+0j) [Y2 X3 X5 Y6] +\n",
      "(0.015257972303388854+0j) [Y2 X3 X6 Y7] +\n",
      "(-0.026562524812129926+0j) [Y2 Y3 X4 X5] +\n",
      "(-0.009524965740543392+0j) [Y2 Y3 X4 Z5 Z6 X7] +\n",
      "(-0.009524965740543392+0j) [Y2 Y3 Y5 Y6] +\n",
      "(-0.015257972303388854+0j) [Y2 Y3 X6 X7] +\n",
      "(0.06155545924339915+0j) [Y2 Z3 Y4] +\n",
      "(0.004924556798161376+0j) [Y2 Z3 Y4 X5 Z6 X7] +\n",
      "(0.004924556798161376+0j) [Y2 Z3 Y4 Y5 Z6 Y7] +\n",
      "(-0.043918610245800106+0j) [Y2 Z3 Y4 Z5] +\n",
      "(-0.024349063112352617+0j) [Y2 Z3 Y4 Z6] +\n",
      "(-0.02553824321562849+0j) [Y2 Z3 Y4 Z7] +\n",
      "(0.0011891801032758692+0j) [Y2 Z3 Z4 X5 X6 Y7] +\n",
      "(-0.0011891801032758692+0j) [Y2 Z3 Z4 Y5 X6 X7] +\n",
      "(0.020218321802473037+0j) [Y2 Z3 Z4 Z5 Y6] +\n",
      "(-0.04084731997671775+0j) [Y2 Z3 Z4 Z5 Y6 Z7] +\n",
      "(-0.01640464921011206+0j) [Y2 Z3 Z4 Y6] +\n",
      "(-0.011480092411950683+0j) [Y2 Z3 Z5 Y6] +\n",
      "(-0.02623999490697159+0j) [Y2 Y4] +\n",
      "(-0.012708134346706122+0j) [Y2 Z4 Z5 Y6] +\n",
      "(-0.24607368520018547+0j) [Z2] +\n",
      "(-0.02623999490697159+0j) [Z2 X3 Z4 X5] +\n",
      "(-0.012708134346706122+0j) [Z2 X3 Z4 Z5 Z6 X7] +\n",
      "(-0.02623999490697159+0j) [Z2 Y3 Z4 Y5] +\n",
      "(-0.012708134346706122+0j) [Z2 Y3 Z4 Z5 Z6 Y7] +\n",
      "(0.1365738431576025+0j) [Z2 Z3] +\n",
      "(-0.000623541481092069+0j) [Z2 X4 Z5 X6] +\n",
      "(-0.000623541481092069+0j) [Z2 Y4 Z5 Y6] +\n",
      "(0.11407664418119086+0j) [Z2 Z4] +\n",
      "(-0.010148507221635461+0j) [Z2 X5 Z6 X7] +\n",
      "(-0.010148507221635461+0j) [Z2 Y5 Z6 Y7] +\n",
      "(0.1406391689933208+0j) [Z2 Z5] +\n",
      "(0.10734715467054899+0j) [Z2 Z6] +\n",
      "(0.12260512697393784+0j) [Z2 Z7] +\n",
      "(-0.004924556798161375+0j) [X3 X4 Y5 Y6] +\n",
      "(-0.0011891801032758692+0j) [X3 X4 X6 X7] +\n",
      "(0.004924556798161375+0j) [X3 Y4 Y5 X6] +\n",
      "(-0.0011891801032758692+0j) [X3 Y4 Y6 X7] +\n",
      "(0.06155545924339915+0j) [X3 Z4 X5] +\n",
      "(-0.02553824321562849+0j) [X3 Z4 X5 Z6] +\n",
      "(-0.024349063112352617+0j) [X3 Z4 X5 Z7] +\n",
      "(0.02021832180247304+0j) [X3 Z4 Z5 Z6 X7] +\n",
      "(-0.04084731997671774+0j) [X3 Z4 Z5 X7] +\n",
      "(-0.011480092411950683+0j) [X3 Z4 Z6 X7] +\n",
      "(-0.043918610245800106+0j) [X3 X5] +\n",
      "(-0.01640464921011206+0j) [X3 Z5 Z6 X7] +\n",
      "(0.004924556798161375+0j) [Y3 X4 X5 Y6] +\n",
      "(-0.0011891801032758692+0j) [Y3 X4 X6 Y7] +\n",
      "(-0.004924556798161375+0j) [Y3 Y4 X5 X6] +\n",
      "(-0.0011891801032758692+0j) [Y3 Y4 Y6 Y7] +\n",
      "(0.06155545924339915+0j) [Y3 Z4 Y5] +\n",
      "(-0.02553824321562849+0j) [Y3 Z4 Y5 Z6] +\n",
      "(-0.024349063112352617+0j) [Y3 Z4 Y5 Z7] +\n",
      "(0.02021832180247304+0j) [Y3 Z4 Z5 Z6 Y7] +\n",
      "(-0.04084731997671774+0j) [Y3 Z4 Z5 Y7] +\n",
      "(-0.011480092411950683+0j) [Y3 Z4 Z6 Y7] +\n",
      "(-0.043918610245800106+0j) [Y3 Y5] +\n",
      "(-0.01640464921011206+0j) [Y3 Z5 Z6 Y7] +\n",
      "(-0.24607368520018547+0j) [Z3] +\n",
      "(-0.010148507221635461+0j) [Z3 X4 Z5 X6] +\n",
      "(-0.010148507221635461+0j) [Z3 Y4 Z5 Y6] +\n",
      "(0.1406391689933208+0j) [Z3 Z4] +\n",
      "(-0.000623541481092069+0j) [Z3 X5 Z6 X7] +\n",
      "(-0.000623541481092069+0j) [Z3 Y5 Z6 Y7] +\n",
      "(0.11407664418119086+0j) [Z3 Z5] +\n",
      "(0.12260512697393784+0j) [Z3 Z6] +\n",
      "(0.10734715467054899+0j) [Z3 Z7] +\n",
      "(-0.007546384867912515+0j) [X4 X5 Y6 Y7] +\n",
      "(0.007546384867912515+0j) [X4 Y5 Y6 X7] +\n",
      "(0.025076832570149733+0j) [X4 Z5 X6] +\n",
      "(0.007525507498868777+0j) [X4 Z5 X6 Z7] +\n",
      "(-0.01443900553459177+0j) [X4 X6] +\n",
      "(0.007546384867912515+0j) [Y4 X5 X6 Y7] +\n",
      "(-0.007546384867912515+0j) [Y4 Y5 X6 X7] +\n",
      "(0.025076832570149733+0j) [Y4 Z5 Y6] +\n",
      "(0.007525507498868777+0j) [Y4 Z5 Y6 Z7] +\n",
      "(-0.01443900553459177+0j) [Y4 Y6] +\n",
      "(-0.6730850144698627+0j) [Z4] +\n",
      "(-0.01443900553459177+0j) [Z4 X5 Z6 X7] +\n",
      "(-0.01443900553459177+0j) [Z4 Y5 Z6 Y7] +\n",
      "(0.17095384888865156+0j) [Z4 Z5] +\n",
      "(0.11356297243590895+0j) [Z4 Z6] +\n",
      "(0.12110935730382144+0j) [Z4 Z7] +\n",
      "(0.025076832570149726+0j) [X5 Z6 X7] +\n",
      "(0.007525507498868777+0j) [X5 X7] +\n",
      "(0.025076832570149726+0j) [Y5 Z6 Y7] +\n",
      "(0.007525507498868777+0j) [Y5 Y7] +\n",
      "(-0.6730850144698627+0j) [Z5] +\n",
      "(0.12110935730382144+0j) [Z5 Z6] +\n",
      "(0.11356297243590895+0j) [Z5 Z7] +\n",
      "(-1.1402165324907312+0j) [Z6] +\n",
      "(0.2319626093284933+0j) [Z6 Z7] +\n",
      "(-1.1402165324907312+0j) [Z7] \n",
      "\n"
     ]
    },
    {
     "name": "stdout",
     "output_type": "stream",
     "text": [
      "UCCSD ansatz: \n",
      " 0.006478936130102838j [X0 X1 X2 Y3] +\n",
      "0.006478936130102838j [X0 X1 Y2 X3] +\n",
      "0.0020562744029710704j [X0 X1 X4 Y5] +\n",
      "0.0020562744029710704j [X0 X1 Y4 X5] +\n",
      "0.005083283191416048j [X0 X1 X6 Y7] +\n",
      "0.005083283191416048j [X0 X1 Y6 X7] +\n",
      "-0.006478936130102838j [X0 Y1 X2 X3] +\n",
      "0.006478936130102838j [X0 Y1 Y2 Y3] +\n",
      "-0.0020562744029710704j [X0 Y1 X4 X5] +\n",
      "0.0020562744029710704j [X0 Y1 Y4 Y5] +\n",
      "-0.005083283191416048j [X0 Y1 X6 X7] +\n",
      "0.005083283191416048j [X0 Y1 Y6 Y7] +\n",
      "-0.006360390047729467j [X0 Z1 Y2] +\n",
      "-0.002645411873769119j [X0 Z1 Z2 Z3 Y4] +\n",
      "0.0009221551709274561j [X0 Z1 Z2 Z3 Z4 Z5 Y6] +\n",
      "-0.006478936130102838j [Y0 X1 X2 X3] +\n",
      "0.006478936130102838j [Y0 X1 Y2 Y3] +\n",
      "-0.0020562744029710704j [Y0 X1 X4 X5] +\n",
      "0.0020562744029710704j [Y0 X1 Y4 Y5] +\n",
      "-0.005083283191416048j [Y0 X1 X6 X7] +\n",
      "0.005083283191416048j [Y0 X1 Y6 Y7] +\n",
      "-0.006478936130102838j [Y0 Y1 X2 Y3] +\n",
      "-0.006478936130102838j [Y0 Y1 Y2 X3] +\n",
      "-0.0020562744029710704j [Y0 Y1 X4 Y5] +\n",
      "-0.0020562744029710704j [Y0 Y1 Y4 X5] +\n",
      "-0.005083283191416048j [Y0 Y1 X6 Y7] +\n",
      "-0.005083283191416048j [Y0 Y1 Y6 X7] +\n",
      "0.006360390047729467j [Y0 Z1 X2] +\n",
      "0.002645411873769119j [Y0 Z1 Z2 Z3 X4] +\n",
      "-0.0009221551709274561j [Y0 Z1 Z2 Z3 Z4 Z5 X6] +\n",
      "-0.006360390047729467j [X1 Z2 Y3] +\n",
      "-0.002645411873769119j [X1 Z2 Z3 Z4 Y5] +\n",
      "0.0009221551709274561j [X1 Z2 Z3 Z4 Z5 Z6 Y7] +\n",
      "0.006360390047729467j [Y1 Z2 X3] +\n",
      "0.002645411873769119j [Y1 Z2 Z3 Z4 X5] +\n",
      "-0.0009221551709274561j [Y1 Z2 Z3 Z4 Z5 Z6 X7]\n"
     ]
    }
   ],
   "source": [
    "import openfermion\n",
    "import openfermionpyscf\n",
    "from openfermion import MolecularData\n",
    "from openfermionpyscf import run_pyscf\n",
    "from openfermion.ops import FermionOperator, QubitOperator\n",
    "from openfermion.transforms import jordan_wigner, bravyi_kitaev\n",
    "from openfermion.transforms import get_fermion_operator\n",
    "from openfermion.circuits import (uccsd_singlet_get_packed_amplitudes,\n",
    "                               uccsd_singlet_generator, uccsd_generator,\n",
    "                               uccsd_convert_amplitude_format)\n",
    "import numpy as np\n",
    "import cs_vqe as c\n",
    "import itertools\n",
    "import qubit_conversion as q_conv\n",
    "\n",
    "singlet_bool = True # Set general UCCSD or singlet UCCSD.\n",
    "\n",
    "bond_len = 0.772#1.45\n",
    "atom_1 = 'He'\n",
    "atom_2 = 'H'\n",
    "basis = '3-21g'\n",
    "multiplicity = 1\n",
    "charge = 1\n",
    "\n",
    "coordinate_1 = (0.0, 0.0, 0.0)\n",
    "coordinate_2 = (0.0, 0.0, bond_len)\n",
    "geometry = [(atom_1, coordinate_1), (atom_2, coordinate_2)]\n",
    "\n",
    "molecule_data = MolecularData(geometry, basis, multiplicity, charge, description='Test')\n",
    "#molecule.load()\n",
    "\n",
    "# Set calculation parameters.\n",
    "run_scf = 1\n",
    "run_mp2 = 1\n",
    "run_cisd = 0\n",
    "run_ccsd = 0\n",
    "run_fci = 1\n",
    "delete_input = True\n",
    "delete_output = True\n",
    "\n",
    "# Run pyscf.\n",
    "molecule = run_pyscf(molecule_data,\n",
    "                     run_scf=run_scf,\n",
    "                     run_mp2=run_mp2,\n",
    "                     run_cisd=run_cisd,\n",
    "                     run_ccsd=run_ccsd,\n",
    "                     run_fci=run_fci)\n",
    "\n",
    "#molecule.load()\n",
    "#print(molecule)\n",
    "\n",
    "ham = get_fermion_operator(molecule.get_molecular_hamiltonian())\n",
    "ham_q = jordan_wigner(ham)\n",
    "print('Hamiltonian:', '\\n', ham_q, '\\n')\n",
    "\n",
    "scf = True      # Hartree-Fock.\n",
    "mp2 = True      # Moller-Plesset 2.\n",
    "cisd = True     # Configuration interaction singles and doubles.\n",
    "ccsd = True     # Coupled cluster singles and doubles.\n",
    "fci = True      # Full configuration interaction.\n",
    "\n",
    "calculated_molecule = run_pyscf(molecule_data, scf, mp2, cisd, ccsd, fci)\n",
    "\n",
    "if ccsd:\n",
    "    ccsd_single_amps = calculated_molecule.ccsd_single_amps\n",
    "    ccsd_double_amps = calculated_molecule.ccsd_double_amps\n",
    "\n",
    "num_electrons = calculated_molecule.n_electrons\n",
    "num_qubits = 2*calculated_molecule.n_orbitals\n",
    "\n",
    "if singlet_bool:\n",
    "    # Get singlet UCCSD generator.\n",
    "    packed_amps = uccsd_singlet_get_packed_amplitudes(ccsd_single_amps,  ccsd_double_amps, num_qubits, num_electrons)\n",
    "    ucc_sing = uccsd_singlet_generator(packed_amps, num_qubits, num_electrons)\n",
    "    #print(ucc_sing)\n",
    "\n",
    "else:\n",
    "    # Get general UCCSD operator.\n",
    "    ucc_op = uccsd_generator(ccsd_single_amps, ccsd_double_amps)\n",
    "    #print(ucc_op)\n",
    "    \n",
    "ucc_q = jordan_wigner(ucc_sing)\n",
    "print('UCCSD ansatz:', '\\n', ucc_q)"
   ]
  },
  {
   "cell_type": "code",
   "execution_count": 5,
   "metadata": {},
   "outputs": [
    {
     "data": {
      "text/plain": [
       "True"
      ]
     },
     "execution_count": 5,
     "metadata": {},
     "output_type": "execute_result"
    }
   ],
   "source": [
    "ham = q_conv.QubitOperator_to_dict(ham_q, num_qubits)\n",
    "anz_terms = list((q_conv.QubitOperator_to_dict(ucc_q, num_qubits)).keys())\n",
    "terms_noncon = c.greedy_dfs(ham, 1, criterion='weight')[-1]\n",
    "ham_noncon = {t:ham[t] for t in terms_noncon}\n",
    "#ham_noncon\n",
    "terms_context = list(ham.keys() - terms_noncon)\n",
    "ham_context = {t:ham[t] for t in terms_context}\n",
    "#ham_context\n",
    "c.contextualQ_ham(ham_context)"
   ]
  },
  {
   "cell_type": "code",
   "execution_count": 6,
   "metadata": {},
   "outputs": [
    {
     "name": "stderr",
     "output_type": "stream",
     "text": [
      "/home/tim/anaconda3/lib/python3.7/site-packages/qiskit/aqua/algorithms/eigen_solvers/eigen_solver.py:38: DeprecationWarning: The package qiskit.aqua.algorithms.eigen_solvers is deprecated. It was moved/refactored to qiskit.algorithms.eigen_solvers (pip install qiskit-terra). For more information see <https://github.com/Qiskit/qiskit-aqua/blob/master/README.md#migration-guide>\n",
      "  'qiskit-terra')\n"
     ]
    },
    {
     "name": "stdout",
     "output_type": "stream",
     "text": [
      "[-3.16676548]\n"
     ]
    },
    {
     "name": "stderr",
     "output_type": "stream",
     "text": [
      "/home/tim/anaconda3/lib/python3.7/site-packages/qiskit/aqua/operators/operator_base.py:46: DeprecationWarning: The package qiskit.aqua.operators is deprecated. It was moved/refactored to qiskit.opflow (pip install qiskit-terra). For more information see <https://github.com/Qiskit/qiskit-aqua/blob/master/README.md#migration-guide>\n",
      "  warn_package('aqua.operators', 'qiskit.opflow', 'qiskit-terra')\n"
     ]
    }
   ],
   "source": [
    "from qiskit.aqua.algorithms import NumPyEigensolver\n",
    "\n",
    "result = NumPyEigensolver(q_conv.dict_to_WeightedPauliOperator(ham)).run()\n",
    "true_gs = np.real(result.eigenvalues)\n",
    "\n",
    "print(true_gs)"
   ]
  },
  {
   "cell_type": "code",
   "execution_count": 7,
   "metadata": {},
   "outputs": [
    {
     "data": {
      "text/plain": [
       "[array([-3.16676548]),\n",
       " [-3.1428247492681685,\n",
       "  -3.1518728818629755,\n",
       "  -3.1518728818629778,\n",
       "  -3.155710388287116,\n",
       "  -3.159114851913749,\n",
       "  -3.1591148519137544,\n",
       "  -3.161949005650515,\n",
       "  -3.166765477254412,\n",
       "  -3.166765477254408],\n",
       " [array([0.02394073]),\n",
       "  array([0.0148926]),\n",
       "  array([0.0148926]),\n",
       "  array([0.01105509]),\n",
       "  array([0.00765063]),\n",
       "  array([0.00765063]),\n",
       "  array([0.00481647]),\n",
       "  array([3.99680289e-15]),\n",
       "  array([7.99360578e-15])],\n",
       " [6, 2, 0, 4, 1, 3, 5, 7]]"
      ]
     },
     "execution_count": 7,
     "metadata": {},
     "output_type": "execute_result"
    }
   ],
   "source": [
    "model = c.quasi_model(ham_noncon)\n",
    "fn_form = c.energy_function_form(ham_noncon, model)\n",
    "gs_noncon = c.find_gs_noncon(ham_noncon)\n",
    "gs_noncon_energy = gs_noncon[0]\n",
    "ep_state = gs_noncon[1]\n",
    "ham_context = {p:c for p,c in ham.items() if p not in ham_noncon}\n",
    "c.csvqe_approximations_heuristic(ham, ham_noncon, num_qubits, true_gs)\n",
    "#c.contextualQ_ham(ham_context)"
   ]
  },
  {
   "cell_type": "code",
   "execution_count": 8,
   "metadata": {},
   "outputs": [
    {
     "data": {
      "text/plain": [
       "((['ZIIIIIZI',\n",
       "   'IZIIIIIZ',\n",
       "   'IIZIIIII',\n",
       "   'IIIZIIII',\n",
       "   'IIIIZIII',\n",
       "   'IIIIIZII',\n",
       "   'IIIIIIIZ'],\n",
       "  ['YZZZZZYZ', 'IIIIIIZI']),\n",
       " -3.1428247492681693,\n",
       " [[-1, -1, 1, -1, 1, 1, 1], [0.04017214145130927, 0.9991927737184733]])"
      ]
     },
     "execution_count": 8,
     "metadata": {},
     "output_type": "execute_result"
    }
   ],
   "source": [
    "model[0:2], gs_noncon_energy, ep_state"
   ]
  },
  {
   "cell_type": "code",
   "execution_count": 26,
   "metadata": {},
   "outputs": [
    {
     "data": {
      "text/plain": [
       "((['ZIIIIIZI', 'IZIIZIII', 'IIZIIIII', 'IIIZIIII', 'IIIIZIII', 'IIIIIZII'],\n",
       "  ['YIZZZZYI', 'IIIIIIZI']),\n",
       " -2.090320174450916,\n",
       " [[-1, -1, 1, -1, 1, 1], [-0.14844358230034105, 0.9889208779643809]])"
      ]
     },
     "execution_count": 26,
     "metadata": {},
     "output_type": "execute_result"
    }
   ],
   "source": [
    "new_model = c.quasi_model(new_rot_ham_noncon)\n",
    "new_fn_form = c.energy_function_form(new_rot_ham_noncon, new_model)\n",
    "new_gs_noncon = c.find_gs_noncon(new_rot_ham_noncon)\n",
    "new_gs_noncon_energy = new_gs_noncon[0]\n",
    "new_ep_state = new_gs_noncon[1]\n",
    "\n",
    "new_model[0:2], new_gs_noncon_energy, new_ep_state"
   ]
  },
  {
   "cell_type": "markdown",
   "metadata": {},
   "source": [
    "# The epistemic state defines a classical probability distribution:"
   ]
  },
  {
   "cell_type": "code",
   "execution_count": 9,
   "metadata": {},
   "outputs": [],
   "source": [
    "def ontic_prob(ep_state, ontic_state):\n",
    "    \n",
    "    if ep_state[0] != ontic_state[0]:\n",
    "        return 0\n",
    "    \n",
    "    else:\n",
    "        prod = 1\n",
    "        for index, r in enumerate(ep_state[1]):\n",
    "            f = 1/2 * abs(r + ontic_state[1][index])\n",
    "            prod *= f\n",
    "        \n",
    "        return prod    \n",
    "\n",
    "def epistemic_dist(ep_state):\n",
    "    size_G = len(ep_state[0])\n",
    "    size_Ci = len(ep_state[1])\n",
    "    size_R = size_G + size_Ci\n",
    "    \n",
    "    ep_prob = {}\n",
    "    \n",
    "    ontic_states = list(itertools.product([1, -1], repeat=size_R))\n",
    "    \n",
    "    for o in ontic_states:\n",
    "        o_state = [list(o[0:size_G]), list(o[size_G:size_R])]\n",
    "        o_prob = ontic_prob(ep_state, o_state)\n",
    "        \n",
    "        if o_prob != 0:\n",
    "            ep_prob[o] = o_prob\n",
    "    \n",
    "    return ep_prob"
   ]
  },
  {
   "cell_type": "code",
   "execution_count": 10,
   "metadata": {},
   "outputs": [
    {
     "data": {
      "text/plain": [
       "{(-1, -1, 1, -1, 1, 1, 1, 1, 1): 0.5198761571531817,\n",
       " (-1, -1, 1, -1, 1, 1, 1, 1, -1): 0.00020991357247286178,\n",
       " (-1, -1, 1, -1, 1, 1, 1, -1, 1): 0.4797202297060548,\n",
       " (-1, -1, 1, -1, 1, 1, 1, -1, -1): 0.00019369956829050849}"
      ]
     },
     "execution_count": 10,
     "metadata": {},
     "output_type": "execute_result"
    }
   ],
   "source": [
    "epistemic_dist(ep_state)"
   ]
  },
  {
   "cell_type": "markdown",
   "metadata": {},
   "source": [
    "# Find a simultaneous eigenstate of the operators G_i and A:"
   ]
  },
  {
   "cell_type": "code",
   "execution_count": 11,
   "metadata": {},
   "outputs": [
    {
     "name": "stdout",
     "output_type": "stream",
     "text": [
      "['I', 'I', 0, 1, 0, 0, 'I', 0]\n",
      "['01010010', '11010000']\n"
     ]
    }
   ],
   "source": [
    "from copy import deepcopy\n",
    "\n",
    "G = model[0]\n",
    "fixed_qubits = ['I' for i in range(num_qubits)]\n",
    "basis_ops = []\n",
    "mult_Z_indices = []\n",
    "\n",
    "for index, g in enumerate(G):\n",
    "    Z_indices = [i for i, p in enumerate(list(g)) if p == 'Z']\n",
    "    if len(Z_indices) == 1:\n",
    "        if ep_state[0][index] == -1:\n",
    "            fixed_qubits[Z_indices[0]] = 1\n",
    "        else:\n",
    "            fixed_qubits[Z_indices[0]] = 0\n",
    "    else:\n",
    "        mult_Z_indices.append([ep_state[0][index], Z_indices])\n",
    "        \n",
    "print(fixed_qubits)\n",
    "\n",
    "for Z_indices in mult_Z_indices:\n",
    "    Z0, Z1 = Z_indices[1][0], Z_indices[1][1] \n",
    "    q0, q1 = fixed_qubits[Z0], fixed_qubits[Z1]\n",
    "    \n",
    "    if q0 != q1:\n",
    "        if q0 != 'I':\n",
    "            if Z_indices[0] == -1:\n",
    "                fixed_qubits[Z1] = (q0+1)%2\n",
    "            else:\n",
    "                fixed_qubits[Z1] = q0\n",
    "        else:\n",
    "            if Z_indices[0] == -1:\n",
    "                fixed_qubits[Z0] = (q1+1)%2\n",
    "            else:\n",
    "                fixed_qubits[Z0] = q1\n",
    "        mult_Z_indices.remove(Z_indices)\n",
    "            \n",
    "for Z_indices in mult_Z_indices:\n",
    "    if Z_indices[0] == -1:\n",
    "        fixed = deepcopy(fixed_qubits)\n",
    "        fixed[Z_indices[1][0]] = 0\n",
    "        fixed[Z_indices[1][1]] = 1\n",
    "        fixed = [str(i) for i in fixed]\n",
    "        basis_ops.append(''.join(fixed))\n",
    "        \n",
    "        fixed = deepcopy(fixed_qubits)\n",
    "        fixed[Z_indices[1][0]] = 1\n",
    "        fixed[Z_indices[1][1]] = 0\n",
    "        fixed = [str(i) for i in fixed]\n",
    "        basis_ops.append(''.join(fixed))\n",
    "    \n",
    "print(basis_ops)"
   ]
  },
  {
   "cell_type": "markdown",
   "metadata": {},
   "source": [
    "# Construct +1-Eigenstates of A(r)"
   ]
  },
  {
   "cell_type": "code",
   "execution_count": 12,
   "metadata": {},
   "outputs": [
    {
     "data": {
      "text/plain": [
       "(0.04017214145130927, 0.9991927737184733)"
      ]
     },
     "execution_count": 12,
     "metadata": {},
     "output_type": "execute_result"
    }
   ],
   "source": [
    "r1 = ep_state[1][0]\n",
    "r2 = ep_state[1][1]\n",
    "#t = np.arctan((r2 + 1) / r1)\n",
    "r1, r2"
   ]
  },
  {
   "cell_type": "code",
   "execution_count": 105,
   "metadata": {},
   "outputs": [],
   "source": [
    "import itertools\n",
    "from itertools import chain, combinations\n",
    "from copy import deepcopy\n",
    "\n",
    "def bin_to_int(bits):\n",
    "    bit_string = deepcopy(bits)\n",
    "    \n",
    "    if type(bit_string) == str:\n",
    "        bit_string = [int(b) for b in bit_string]\n",
    "        \n",
    "    for index, b in enumerate(bit_string):\n",
    "        bit_string[index] = b * 2 ** (len(bit_string)-index-1)\n",
    "    \n",
    "    return sum(bit_string)\n",
    "\n",
    "\n",
    "def add_eigenstate(r1, r2, index, theta, n, num_qubits, custom_amp=None):\n",
    "    \"\"\"\n",
    "    \"\"\"\n",
    "    B = list(itertools.product([0,1], repeat=num_qubits))\n",
    "    b1 = list(B[index])\n",
    "    b2 = deepcopy(b1)\n",
    "    b2[0] = (b2[0]+1)%2\n",
    "    b2[6] = (b2[6]+1)%2\n",
    "    i1 = bin_to_int(b1)\n",
    "    i2 = bin_to_int(b2)\n",
    "\n",
    "    parity=sum(b1)\n",
    "    q1 = b1[6]\n",
    "    \n",
    "    amp_ratio = (1 + r2 * (-1)**q1) / (r1 * (-1)**(1 + parity))\n",
    "    t = ((-1)**n)*np.arctan(amp_ratio)\n",
    "    psi = [0 for i in range(2**num_qubits)]\n",
    "    \n",
    "    if custom_amp is None:   \n",
    "        psi[i1] = np.sin(t)*np.exp(1j*theta)\n",
    "        psi[i2] = np.cos(t)*np.exp(1j*(theta - n*np.pi))\n",
    "    else:\n",
    "        psi[i1] = custom_amp[0]\n",
    "        psi[i2] = custom_amp[1]\n",
    "        \n",
    "    return np.array(psi)\n",
    "\n",
    "\n",
    "def expectation(op, state):\n",
    "    state = np.array(state)\n",
    "    conj_state = np.conjugate(state)\n",
    "    O = LinearQubitOperator(op, num_qubits)\n",
    "    \n",
    "    O_state = O.matvec(state)\n",
    "    expect = conj_state.dot(O_state)\n",
    "    \n",
    "    return expect\n",
    "\n",
    "\n",
    "def discard_generator(ham_noncon, ham_context, generators):\n",
    "    new_ham_noncon = deepcopy(ham_noncon)\n",
    "    new_ham_context = deepcopy(ham_context)\n",
    "    \n",
    "    Z_indices = [g.index('Z') for g in generators]\n",
    "    removed=[]\n",
    "    \n",
    "    for index in Z_indices:\n",
    "        for p in ham_noncon:\n",
    "            if p not in removed:\n",
    "                if p[index] == 'Z':\n",
    "                    new_ham_context[p] = ham_noncon[p]\n",
    "                    del new_ham_noncon[p]\n",
    "                    removed.append(p)\n",
    "            \n",
    "    return new_ham_noncon, new_ham_context\n",
    "\n",
    "\n",
    "def rotate_hamiltonian(rotations, ham, ham_noncon, ham_context):\n",
    "    \n",
    "    rot_ham={}\n",
    "    rot_ham_noncon={}\n",
    "    rot_ham_context={}\n",
    "\n",
    "    for p in ham.keys():\n",
    "        p_ref = deepcopy(p)\n",
    "        parity = 1\n",
    "        coeff = ham[p]\n",
    "        for r in rotations:\n",
    "            rotate_p = c.apply_rotation(r, p)\n",
    "            p = list(rotate_p.keys())[0]\n",
    "            parity *= rotate_p[p]\n",
    "        \n",
    "        rot_ham[p] = parity * coeff\n",
    "        if p_ref in ham_noncon.keys():\n",
    "            rot_ham_noncon[p] = parity * coeff\n",
    "        else:\n",
    "            rot_ham_context[p] = parity * coeff\n",
    "            \n",
    "    return rot_ham, rot_ham_noncon, rot_ham_context\n",
    "\n",
    "\n",
    "def rotate_state(rotations, state):\n",
    "    \n",
    "    rot_state = deepcopy(state)\n",
    "    \n",
    "    for r in rotations:\n",
    "        r_op = QubitOperator('', 1/np.sqrt(2)) - q_conv.dict_to_QubitOperator({r[1]: 1/np.sqrt(2)*1j}, num_qubits)\n",
    "        r_op = LinearQubitOperator(r_op, num_qubits)\n",
    "        rot_state = r_op.matvec(rot_state)\n",
    "        \n",
    "    return rot_state\n",
    "\n",
    "\n",
    "def powerset(iterable):\n",
    "    \"powerset([1,2,3]) --> () (1,) (2,) (3,) (1,2) (1,3) (2,3) (1,2,3)\"\n",
    "    s = list(iterable)\n",
    "    return chain.from_iterable(combinations(s, r) for r in range(len(s)+1))\n",
    "\n",
    "def find_eigenstate_indices(initial, removed_Z_indices):\n",
    "    bins = []\n",
    "    index_powerset = list(powerset(removed_Z_indices))\n",
    "    \n",
    "    for comb in index_powerset:\n",
    "        initial_ref = list(deepcopy(initial))\n",
    "        for c in comb:\n",
    "            initial_ref[c] = str((int(initial_ref[c])+1)%2)\n",
    "        bins.append(bin_to_int(''.join(initial_ref)))\n",
    "    \n",
    "    return bins"
   ]
  },
  {
   "cell_type": "code",
   "execution_count": 14,
   "metadata": {
    "scrolled": true
   },
   "outputs": [
    {
     "name": "stdout",
     "output_type": "stream",
     "text": [
      "<H> w.r.t. simultaneous eigenstate: (-3.1428247492681685+0j)\n",
      "Noncontextual approximation: -3.1428247492681693\n",
      "Expectation values match? True\n"
     ]
    }
   ],
   "source": [
    "from openfermion.linalg import LinearQubitOperator\n",
    "\n",
    "ham_q = q_conv.dict_to_QubitOperator(ham, num_qubits)\n",
    "ham_noncon_q = q_conv.dict_to_QubitOperator(ham_noncon, num_qubits)\n",
    "ham_context_q = q_conv.dict_to_QubitOperator(ham_context, num_qubits)\n",
    "\n",
    "#take expectation value algebraically\n",
    "\n",
    "for p in np.linspace(0, 1, 1):\n",
    "    psi = add_eigenstate(r1=r1, r2=r2, index=82, theta=0, n=0, num_qubits=num_qubits)\n",
    "    expect = expectation(ham_q, psi)\n",
    "    \n",
    "    print('<H> w.r.t. simultaneous eigenstate:', expect)\n",
    "    print('Noncontextual approximation:', gs_noncon_energy)\n",
    "    print('Expectation values match?', abs(expect - gs_noncon_energy) < 10**-12) #sanity check - expectation values match?"
   ]
  },
  {
   "cell_type": "code",
   "execution_count": 15,
   "metadata": {},
   "outputs": [
    {
     "name": "stderr",
     "output_type": "stream",
     "text": [
      "/home/tim/anaconda3/lib/python3.7/site-packages/numpy/core/_asarray.py:102: ComplexWarning: Casting complex values to real discards the imaginary part\n",
      "  return array(a, dtype, copy=False, order=order)\n"
     ]
    },
    {
     "data": {
      "image/png": "[encoded data removed]",
      "text/plain": [
       "<Figure size 432x288 with 1 Axes>"
      ]
     },
     "metadata": {
      "needs_background": "light"
     },
     "output_type": "display_data"
    }
   ],
   "source": [
    "from matplotlib import pyplot as plt\n",
    "\n",
    "X=[]\n",
    "Y=[]\n",
    "\n",
    "for i in range(2**(num_qubits-1)):\n",
    "    X.append(i)\n",
    "    psi = add_eigenstate(r1=r1, r2=r2, index=i, theta=0, n=0, num_qubits=num_qubits)\n",
    "\n",
    "    Y.append(expectation(ham_noncon_q, psi))\n",
    "\n",
    "plt.plot(X, Y)\n",
    "plt.hlines(gs_noncon_energy, 0, 127, color='r')\n",
    "plt.show()"
   ]
  },
  {
   "cell_type": "code",
   "execution_count": 16,
   "metadata": {},
   "outputs": [],
   "source": [
    "import math\n",
    "\n",
    "def random_vector(n):\n",
    "    components = [np.random.normal() for i in range(n)]\n",
    "    r = math.sqrt(sum(x*x for x in components))\n",
    "    v = [x/r for x in components]\n",
    "    return v"
   ]
  },
  {
   "cell_type": "code",
   "execution_count": 135,
   "metadata": {},
   "outputs": [
    {
     "name": "stderr",
     "output_type": "stream",
     "text": [
      "/home/tim/anaconda3/lib/python3.7/site-packages/numpy/core/_asarray.py:102: ComplexWarning: Casting complex values to real discards the imaginary part\n",
      "  return array(a, dtype, copy=False, order=order)\n"
     ]
    },
    {
     "data": {
      "text/plain": [
       "<matplotlib.collections.LineCollection at 0x7f41f5fc6828>"
      ]
     },
     "execution_count": 135,
     "metadata": {},
     "output_type": "execute_result"
    },
    {
     "data": {
      "image/png": "[encoded data removed]",
      "text/plain": [
       "<Figure size 432x288 with 1 Axes>"
      ]
     },
     "metadata": {
      "needs_background": "light"
     },
     "output_type": "display_data"
    }
   ],
   "source": [
    "#take expectation value algebraically\n",
    "from matplotlib import pyplot as plt\n",
    "shots=10\n",
    "\n",
    "#rot_ham, rot_ham_noncon, rot_ham_context = rotate_hamiltonian(rotations, ham, ham_noncon, ham_context)\n",
    "new_rot_ham_noncon, new_rot_ham_context = discard_generator(ham_noncon, ham_context, ['IIIIIIIZ', 'IIIIIZII', 'IIIIZIII', 'IIIZIIII', 'IIZIIIII'])\n",
    "\n",
    "rot_ham_q = q_conv.dict_to_QubitOperator(ham, num_qubits)\n",
    "new_rot_ham_noncon_q = q_conv.dict_to_QubitOperator(new_rot_ham_noncon, num_qubits)\n",
    "new_rot_ham_context_q = q_conv.dict_to_QubitOperator(new_rot_ham_context, num_qubits)\n",
    "\n",
    "\n",
    "def expectation_optimiser(ham_noncon_q, ham_context_q, p):\n",
    "    eigenstate_indices = find_eigenstate_indices('01010010', [7, 5, 4, 3, 2])\n",
    "    \n",
    "    psi = np.array([0 for i in range(2**num_qubits)], dtype=complex)\n",
    "    for index, i in enumerate(eigenstate_indices):\n",
    "        psi += (p[index])*add_eigenstate(r1=r1, r2=r2, theta=0, n=0, index=i, num_qubits=num_qubits)\n",
    "    \n",
    "    expect_noncon = expectation(ham_noncon_q, psi)\n",
    "    expect_context = expectation(ham_context_q, psi)\n",
    "    \n",
    "    return expect_noncon + expect_context\n",
    "\n",
    "eigenstate_indices = find_eigenstate_indices('01010010', [7, 5, 4, 3, 2])\n",
    "X=[random_vector(len(eigenstate_indices)) for i in range(shots)]\n",
    "Y_noncon=[]\n",
    "Y_context=[]\n",
    "Y_combined=[]\n",
    "Y_full=[]\n",
    "\n",
    "#A_op = QubitOperator('Y0 Z1 Z2 Z3 Z4 Z5 Y6 Z7', r1) + QubitOperator('Z6', r2)\n",
    "#A = LinearQubitOperator(A_op, num_qubits)\n",
    "\n",
    "for p in X:\n",
    "    expect = expectation_optimiser(new_rot_ham_noncon_q, new_rot_ham_context_q, p)\n",
    "\n",
    "    #Y_full.append(expect_full)\n",
    "    #Y_noncon.append(expect_noncon)\n",
    "    #Y_context.append(expect_context)\n",
    "    Y_combined.append(expect)\n",
    "    \n",
    "    #print(p, expect_noncon + expect_context < gs_noncon_energy)\n",
    "    #print((np.conjugate(psi)).dot(psi))\n",
    "    #Verify +1-eigenstate\n",
    "    #A_psi = A.matvec(psi)\n",
    "    #print(psi_conj.dot(A_psi))\n",
    "\n",
    "#plt.plot(range(shots), Y_noncon, color='orange')\n",
    "#plt.plot(range(shots), Y_context, color='blue')\n",
    "plt.plot(range(shots), Y_combined, color='black')\n",
    "#plt.plot(range(shots), Y_combined, color='purple')\n",
    "plt.hlines(gs_noncon_energy, 0, shots, color='r')\n",
    "plt.hlines(true_gs, 0, shots, color='g')\n",
    "#print('<H> w.r.t. simultaneous eigenstate:', expect)\n",
    "#print('Noncontextual approximation:', gs_noncon_energy)\n",
    "#print('Expectation values match?', abs(expect - gs_noncon_energy) < 10**-12) #sanity check - expectation values match? "
   ]
  },
  {
   "cell_type": "code",
   "execution_count": 131,
   "metadata": {},
   "outputs": [
    {
     "ename": "NameError",
     "evalue": "name 'rosen_der' is not defined",
     "output_type": "error",
     "traceback": [
      "\u001b[0;31m---------------------------------------------------------------------------\u001b[0m",
      "\u001b[0;31mNameError\u001b[0m                                 Traceback (most recent call last)",
      "\u001b[0;32m<ipython-input-131-abe8ae06040d>\u001b[0m in \u001b[0;36m<module>\u001b[0;34m()\u001b[0m\n\u001b[1;32m      7\u001b[0m \u001b[0mp0\u001b[0m \u001b[0;34m=\u001b[0m \u001b[0mnp\u001b[0m\u001b[0;34m.\u001b[0m\u001b[0marray\u001b[0m\u001b[0;34m(\u001b[0m\u001b[0mrandom_vector\u001b[0m\u001b[0;34m(\u001b[0m\u001b[0mlen\u001b[0m\u001b[0;34m(\u001b[0m\u001b[0meigenstate_indices\u001b[0m\u001b[0;34m)\u001b[0m\u001b[0;34m)\u001b[0m\u001b[0;34m)\u001b[0m\u001b[0;34m\u001b[0m\u001b[0m\n\u001b[1;32m      8\u001b[0m \u001b[0;34m\u001b[0m\u001b[0m\n\u001b[0;32m----> 9\u001b[0;31m res = minimize(opt, p0, method='BFGS', jac=rosen_der,\n\u001b[0m\u001b[1;32m     10\u001b[0m                options={'disp': True})\n",
      "\u001b[0;31mNameError\u001b[0m: name 'rosen_der' is not defined"
     ]
    }
   ],
   "source": [
    "import numpy as np\n",
    "from scipy.optimize import minimize\n",
    "\n",
    "def opt(p):\n",
    "    return expectation_optimiser(new_rot_ham_noncon_q, new_rot_ham_context_q, p)\n",
    "\n",
    "p0 = np.array(random_vector(len(eigenstate_indices)))\n",
    "\n",
    "res = minimize(opt, p0, method='BFGS', jac=rosen_der,\n",
    "               options={'disp': True})"
   ]
  },
  {
   "cell_type": "markdown",
   "metadata": {},
   "source": [
    "# Do we have any quantum corrections?"
   ]
  },
  {
   "cell_type": "code",
   "execution_count": 263,
   "metadata": {},
   "outputs": [
    {
     "data": {
      "text/plain": [
       "['ZIIIIIZI',\n",
       " 'IZIIIIIZ',\n",
       " 'IIZIIIII',\n",
       " 'IIIZIIII',\n",
       " 'IIIIZIII',\n",
       " 'IIIIIZII',\n",
       " 'IIIIIIIZ']"
      ]
     },
     "execution_count": 263,
     "metadata": {},
     "output_type": "execute_result"
    }
   ],
   "source": [
    "G = model[0]\n",
    "terms_context = list(ham_context.keys())\n",
    "G"
   ]
  },
  {
   "cell_type": "code",
   "execution_count": 264,
   "metadata": {},
   "outputs": [
    {
     "name": "stdout",
     "output_type": "stream",
     "text": [
      "No quantum correction\n"
     ]
    }
   ],
   "source": [
    "q_corr_terms = []\n",
    "for t in terms_context:\n",
    "    commutes = []\n",
    "    for g in G:\n",
    "        if c.commute(t, g):\n",
    "            commutes.append(g)\n",
    "    #print(t, 'commutes with the noncontextual generators:', commutes)\n",
    "    if commutes == G:\n",
    "        q_corr_terms.append(t)\n",
    "        \n",
    "if q_corr_terms == []:\n",
    "    print('No quantum correction')\n",
    "else:\n",
    "    print('Terms admitting quantum correction:', q_corr_terms)"
   ]
  },
  {
   "cell_type": "code",
   "execution_count": 265,
   "metadata": {},
   "outputs": [],
   "source": [
    "#psi2 = [0 for i in range(2**num_qubits)]\n",
    "#psi2[bin_to_int('000011')] = np.sin(t)\n",
    "#psi2[bin_to_int('010111')] = -np.cos(t)"
   ]
  },
  {
   "cell_type": "code",
   "execution_count": 266,
   "metadata": {},
   "outputs": [],
   "source": [
    "#from qiskit import QuantumCircuit\n",
    "#from qiskit.extensions import Initialize\n",
    "#from qiskit.circuit import Parameter\n",
    "\n",
    "#anz = QuantumCircuit(num_qubits) # We are redefining qc\n",
    "#anz.initialize(psi)\n",
    "#anz.ry(Parameter('x'), 3)\n",
    "#anz.initialize(psi2)\n",
    "#anz.rx(Parameter('y'), 3)"
   ]
  },
  {
   "cell_type": "code",
   "execution_count": 267,
   "metadata": {},
   "outputs": [],
   "source": [
    "#from qiskit.utils import QuantumInstance, algorithm_globals\n",
    "#from qiskit.aqua.components.optimizers import COBYLA, SPSA, SLSQP\n",
    "#from qiskit.algorithms import VQE\n",
    "#from qiskit.quantum_info.operators.symplectic.pauli import Pauli\n",
    "#from qiskit.opflow.primitive_ops import PauliOp\n",
    "#from qiskit import Aer\n",
    "\n",
    "#ham_qiskit = sum([PauliOp(Pauli(k), ham[k]) for k in ham.keys()])\n",
    "\n",
    "#seed = 50\n",
    "#algorithm_globals.random_seed = seed\n",
    "#qi = QuantumInstance(Aer.get_backend('statevector_simulator'), seed_transpiler=seed, seed_simulator=seed)\n",
    "#slsqp = SLSQP(maxiter=1000)\n",
    "\n",
    "#vqe = VQE(anz, optimizer=slsqp, quantum_instance=qi)\n",
    "#vqe_run    = vqe.compute_minimum_eigenvalue(operator=ham_qiskit)\n",
    "#vqe_result = vqe_run.optimal_value# + shift\n",
    "\n",
    "#print('VQE:', vqe_result, '|', 'Noncontextual Ground State:', gs_noncon_energy, 'True Ground State:', true_gs)"
   ]
  },
  {
   "cell_type": "code",
   "execution_count": 268,
   "metadata": {},
   "outputs": [
    {
     "name": "stdout",
     "output_type": "stream",
     "text": [
      "[-3.14282474926818, -3.14282474926818, -3.142824749268179, -3.143939975054505, -3.1459507148542003, -3.148913349475541, -3.154301104750847, -3.1667654772544287, -3.166765477254425]\n",
      "[-3.16676548]\n"
     ]
    }
   ],
   "source": [
    "from qiskit.aqua.algorithms import NumPyEigensolver\n",
    "\n",
    "order = [0,1,2,3,4,5,6,7]\n",
    "print(c.contextual_subspace_approximations(ham,model,fn_form,ep_state,order))\n",
    "\n",
    "result = NumPyEigensolver(q_conv.dict_to_WeightedPauliOperator(ham)).run()\n",
    "exact_energy = np.real(result.eigenvalues)\n",
    "\n",
    "print(exact_energy)"
   ]
  },
  {
   "cell_type": "code",
   "execution_count": 269,
   "metadata": {},
   "outputs": [
    {
     "data": {
      "text/plain": [
       "[['pi/2', 'YIIIIIII'],\n",
       " ['pi/2', 'YIIIIIZI'],\n",
       " ['pi/2', 'IYIIIIII'],\n",
       " ['pi/2', 'IYIIIIIZ']]"
      ]
     },
     "execution_count": 269,
     "metadata": {},
     "output_type": "execute_result"
    }
   ],
   "source": [
    "rotations = (c.diagonalize_epistemic(model,fn_form,ep_state))[0]\n",
    "#rotations.reverse()\n",
    "rotations"
   ]
  },
  {
   "cell_type": "code",
   "execution_count": 25,
   "metadata": {},
   "outputs": [
    {
     "data": {
      "text/plain": [
       "['ZIIIIIII',\n",
       " 'IZIIIIII',\n",
       " 'IIZIIIII',\n",
       " 'IIIZIIII',\n",
       " 'IIIIZIII',\n",
       " 'IIIIIZII',\n",
       " 'IIIIIIIZ']"
      ]
     },
     "execution_count": 25,
     "metadata": {},
     "output_type": "execute_result"
    }
   ],
   "source": [
    "rot_G=[]\n",
    "\n",
    "for g in G:\n",
    "    for r in rotations:\n",
    "        rotate_g = c.apply_rotation(r, g)\n",
    "        g = list(rotate_g.keys())[0]\n",
    "    rot_G.append(g)\n",
    "    \n",
    "rot_G"
   ]
  },
  {
   "cell_type": "code",
   "execution_count": 215,
   "metadata": {},
   "outputs": [
    {
     "data": {
      "text/plain": [
       "array([ 0.        +0.j,  0.        +0.j,  0.        +0.j,  0.        +0.j,\n",
       "        0.        +0.j,  0.        +0.j,  0.        +0.j,  0.        +0.j,\n",
       "        0.        +0.j,  0.        +0.j,  0.        +0.j,  0.        +0.j,\n",
       "        0.        +0.j,  0.        +0.j,  0.        +0.j,  0.        +0.j,\n",
       "        0.99979817+0.j,  0.        +0.j, -0.02009013+0.j,  0.        +0.j,\n",
       "        0.        +0.j,  0.        +0.j,  0.        +0.j,  0.        +0.j,\n",
       "        0.        +0.j,  0.        +0.j,  0.        +0.j,  0.        +0.j,\n",
       "        0.        +0.j,  0.        +0.j,  0.        +0.j,  0.        +0.j,\n",
       "        0.        +0.j,  0.        +0.j,  0.        +0.j,  0.        +0.j,\n",
       "        0.        +0.j,  0.        +0.j,  0.        +0.j,  0.        +0.j,\n",
       "        0.        +0.j,  0.        +0.j,  0.        +0.j,  0.        +0.j,\n",
       "        0.        +0.j,  0.        +0.j,  0.        +0.j,  0.        +0.j,\n",
       "        0.        +0.j,  0.        +0.j,  0.        +0.j,  0.        +0.j,\n",
       "        0.        +0.j,  0.        +0.j,  0.        +0.j,  0.        +0.j,\n",
       "        0.        +0.j,  0.        +0.j,  0.        +0.j,  0.        +0.j,\n",
       "        0.        +0.j,  0.        +0.j,  0.        +0.j,  0.        +0.j,\n",
       "        0.        +0.j,  0.        +0.j,  0.        +0.j,  0.        +0.j,\n",
       "        0.        +0.j,  0.        +0.j,  0.        +0.j,  0.        +0.j,\n",
       "        0.        +0.j,  0.        +0.j,  0.        +0.j,  0.        +0.j,\n",
       "        0.        +0.j,  0.        +0.j,  0.        +0.j,  0.        +0.j,\n",
       "        0.        +0.j,  0.        +0.j,  0.        +0.j,  0.        +0.j,\n",
       "        0.        +0.j,  0.        +0.j,  0.        +0.j,  0.        +0.j,\n",
       "        0.        +0.j,  0.        +0.j,  0.        +0.j,  0.        +0.j,\n",
       "        0.        +0.j,  0.        +0.j,  0.        +0.j,  0.        +0.j,\n",
       "        0.        +0.j,  0.        +0.j,  0.        +0.j,  0.        +0.j,\n",
       "        0.        +0.j,  0.        +0.j,  0.        +0.j,  0.        +0.j,\n",
       "        0.        +0.j,  0.        +0.j,  0.        +0.j,  0.        +0.j,\n",
       "        0.        +0.j,  0.        +0.j,  0.        +0.j,  0.        +0.j,\n",
       "        0.        +0.j,  0.        +0.j,  0.        +0.j,  0.        +0.j,\n",
       "        0.        +0.j,  0.        +0.j,  0.        +0.j,  0.        +0.j,\n",
       "        0.        +0.j,  0.        +0.j,  0.        +0.j,  0.        +0.j,\n",
       "        0.        +0.j,  0.        +0.j,  0.        +0.j,  0.        +0.j,\n",
       "        0.        +0.j,  0.        +0.j,  0.        +0.j,  0.        +0.j,\n",
       "        0.        +0.j,  0.        +0.j,  0.        +0.j,  0.        +0.j,\n",
       "        0.        +0.j,  0.        +0.j,  0.        +0.j,  0.        +0.j,\n",
       "        0.        +0.j,  0.        +0.j,  0.        +0.j,  0.        +0.j,\n",
       "        0.        +0.j,  0.        +0.j,  0.        +0.j,  0.        +0.j,\n",
       "        0.        +0.j,  0.        +0.j,  0.        +0.j,  0.        +0.j,\n",
       "        0.        +0.j,  0.        +0.j,  0.        +0.j,  0.        +0.j,\n",
       "        0.        +0.j,  0.        +0.j,  0.        +0.j,  0.        +0.j,\n",
       "        0.        +0.j,  0.        +0.j,  0.        +0.j,  0.        +0.j,\n",
       "        0.        +0.j,  0.        +0.j,  0.        +0.j,  0.        +0.j,\n",
       "        0.        +0.j,  0.        +0.j,  0.        +0.j,  0.        +0.j,\n",
       "        0.        +0.j,  0.        +0.j,  0.        +0.j,  0.        +0.j,\n",
       "        0.        +0.j,  0.        +0.j,  0.        +0.j,  0.        +0.j,\n",
       "        0.        +0.j,  0.        +0.j,  0.        +0.j,  0.        +0.j,\n",
       "        0.        +0.j,  0.        +0.j,  0.        +0.j,  0.        +0.j,\n",
       "        0.        +0.j,  0.        +0.j,  0.        +0.j,  0.        +0.j,\n",
       "        0.        +0.j,  0.        +0.j,  0.        +0.j,  0.        +0.j,\n",
       "        0.        +0.j,  0.        +0.j,  0.        +0.j,  0.        +0.j,\n",
       "        0.        +0.j,  0.        +0.j,  0.        +0.j,  0.        +0.j,\n",
       "        0.        +0.j,  0.        +0.j,  0.        +0.j,  0.        +0.j,\n",
       "        0.        +0.j,  0.        +0.j,  0.        +0.j,  0.        +0.j,\n",
       "        0.        +0.j,  0.        +0.j,  0.        +0.j,  0.        +0.j,\n",
       "        0.        +0.j,  0.        +0.j,  0.        +0.j,  0.        +0.j,\n",
       "        0.        +0.j,  0.        +0.j,  0.        +0.j,  0.        +0.j,\n",
       "        0.        +0.j,  0.        +0.j,  0.        +0.j,  0.        +0.j,\n",
       "        0.        +0.j,  0.        +0.j,  0.        +0.j,  0.        +0.j,\n",
       "        0.        +0.j,  0.        +0.j,  0.        +0.j,  0.        +0.j,\n",
       "        0.        +0.j,  0.        +0.j,  0.        +0.j,  0.        +0.j,\n",
       "        0.        +0.j,  0.        +0.j,  0.        +0.j,  0.        +0.j,\n",
       "        0.        +0.j,  0.        +0.j,  0.        +0.j,  0.        +0.j,\n",
       "        0.        +0.j,  0.        +0.j,  0.        +0.j,  0.        +0.j,\n",
       "        0.        +0.j,  0.        +0.j,  0.        +0.j,  0.        +0.j])"
      ]
     },
     "execution_count": 215,
     "metadata": {},
     "output_type": "execute_result"
    }
   ],
   "source": [
    "from copy import deepcopy\n",
    "\n",
    "psi = add_eigenstate(r1=r1, r2=r2, index=82, theta=0, n=0, num_qubits=num_qubits)\n",
    "\n",
    "\n",
    "    \n",
    "\n",
    "\n",
    "rotate_state(rotations, psi)\n"
   ]
  },
  {
   "cell_type": "code",
   "execution_count": 209,
   "metadata": {},
   "outputs": [
    {
     "name": "stdout",
     "output_type": "stream",
     "text": [
      "<H> w.r.t. rotated simultaneous eigenstate: (-3.142824749268176+0j)\n",
      "Noncontextual approximation: -3.142824749268179\n",
      "Expectation values match? True\n"
     ]
    }
   ],
   "source": [
    "from openfermion.linalg import LinearQubitOperator\n",
    "\n",
    "rot_psi = np.array(rot_psi)\n",
    "rot_psi_conj = np.conjugate(rot_psi)\n",
    "\n",
    "\n",
    "#rot_ham = c.get_reduced_hamiltonians(ham,model,fn_form,ep_state,order=[0,1,2,3,4,5,6,7])[8]\n",
    "\n",
    "rot_ham, rot_ham_noncon, rot_ham_context = rotate_hamiltonian(rotations, ham, ham_noncon, ham_context)\n",
    "\n",
    "rot_ham_q = q_conv.dict_to_QubitOperator(rot_ham_noncon, num_qubits)\n",
    "\n",
    "#take expectation value algebraically\n",
    "rot_H = LinearQubitOperator(rot_ham_q, num_qubits)\n",
    "rot_H_psi = rot_H.matvec(rot_psi)\n",
    "rot_expect = rot_psi_conj.dot(rot_H_psi)\n",
    "\n",
    "print('<H> w.r.t. rotated simultaneous eigenstate:', rot_expect)\n",
    "print('Noncontextual approximation:', gs_noncon_energy)\n",
    "print('Expectation values match?', abs(rot_expect - gs_noncon_energy) < 10**-14) #sanity check - expectation values match? "
   ]
  },
  {
   "cell_type": "code",
   "execution_count": 133,
   "metadata": {},
   "outputs": [
    {
     "data": {
      "text/plain": [
       "{'IIIIIIII': (1.1324434021069387+0j),\n",
       " 'ZIIIIIZI': (-0.1399063176082593+0j),\n",
       " 'IIZIIIII': (-0.2460736852001976+0j),\n",
       " 'IIIZIIII': (-0.24607368520019762+0j),\n",
       " 'IIIIZIII': (-0.6730850144698568+0j),\n",
       " 'IIIIIZII': (-0.6730850144698568+0j),\n",
       " 'IIIIIIZI': (-1.140216532490733+0j),\n",
       " 'IIZZZZXI': (-0.06584241123629504+0j),\n",
       " 'ZIZZZZXI': (-0.06584241123629504+0j),\n",
       " 'ZIZIIIZI': (-0.11107234328900764+0j),\n",
       " 'ZIIZIIZI': (-0.13688259770382208+0j),\n",
       " 'ZIIIZIZI': (-0.12602660899459167+0j),\n",
       " 'ZIIIIZZI': (-0.14314113781636645+0j),\n",
       " 'ZIIIIIII': (-0.17642194958972313+0j),\n",
       " 'IZZZZZXI': (0.07064370485657431+0j),\n",
       " 'ZZZZZZXI': (0.07064370485657431+0j),\n",
       " 'IZIIIIII': (-0.17642194958972313+0j),\n",
       " 'IIZZIIII': (0.13657384315761087+0j),\n",
       " 'IIZIZIII': (0.11407664418119323+0j),\n",
       " 'IIZIIZII': (0.14063916899332368+0j),\n",
       " 'IIZIIIZI': (0.10734715467055655+0j),\n",
       " 'IIIZZIII': (0.14063916899332368+0j),\n",
       " 'IIIZIZII': (0.11407664418119323+0j),\n",
       " 'IIIZIIZI': (0.12260512697395277+0j),\n",
       " 'IIIIZZII': (0.17095384888864143+0j),\n",
       " 'IIIIZIZI': (0.11356297243590377+0j),\n",
       " 'IIIIIZZI': (0.1211093573038173+0j)}"
      ]
     },
     "execution_count": 133,
     "metadata": {},
     "output_type": "execute_result"
    }
   ],
   "source": []
  },
  {
   "cell_type": "code",
   "execution_count": 100,
   "metadata": {},
   "outputs": [
    {
     "data": {
      "text/plain": [
       "True"
      ]
     },
     "execution_count": 100,
     "metadata": {},
     "output_type": "execute_result"
    }
   ],
   "source": [
    "#take expectation value algebraically\n",
    "from matplotlib import pyplot as plt\n",
    "shots=10\n",
    "\n",
    "H = LinearQubitOperator(ham_noncon_q, num_qubits)\n",
    "X=[random_vector(2) for i in range(shots)]\n",
    "indices = [82, 19]\n",
    "Y=[]\n",
    "\n",
    "#A_op = QubitOperator('Y0 Z1 Z2 Z3 Z4 Z5 Y6 Z7', r1) + QubitOperator('Z6', r2)\n",
    "#A = LinearQubitOperator(A_op, num_qubits)\n",
    "\n",
    "for p in X:\n",
    "    psi = np.array([0 for i in range(2**num_qubits)], dtype=complex)\n",
    "    for index, i in enumerate(indices):\n",
    "        psi += (p[index])*add_eigenstate(r1=r1, r2=r2, theta=0, n=0, index=i, num_qubits=num_qubits)\n",
    "    psi_conj = np.conjugate(psi)\n",
    "\n",
    "    rot_H_psi = rot_H.matvec(rot_psi)\n",
    "    expect = psi_conj.dot(H_psi)\n",
    "    Y.append(expect)\n",
    "    \n",
    "    #Verify +1-eigenstate\n",
    "    A_psi = A.matvec(psi)\n",
    "    #print(psi_conj.dot(A_psi))\n",
    "\n",
    "plt.plot(range(shots), Y)\n",
    "plt.hlines(gs_noncon_energy, 0, 10, color='r')\n",
    "#print('<H> w.r.t. simultaneous eigenstate:', expect)\n",
    "#print('Noncontextual approximation:', gs_noncon_energy)\n",
    "#print('Expectation values match?', abs(expect - gs_noncon_energy) < 10**-12) #sanity check - expectation values match? "
   ]
  },
  {
   "cell_type": "code",
   "execution_count": 78,
   "metadata": {},
   "outputs": [
    {
     "data": {
      "text/plain": [
       "((-3.142824749268176+0j), (-3.14282474926818+0j))"
      ]
     },
     "execution_count": 78,
     "metadata": {},
     "output_type": "execute_result"
    }
   ],
   "source": [
    "rot_psi.dot(rot_H.matvec(rot_psi)), psi.dot(H.matvec(psi))"
   ]
  },
  {
   "cell_type": "code",
   "execution_count": 44,
   "metadata": {},
   "outputs": [
    {
     "ename": "NameError",
     "evalue": "name 'get_ground_state' is not defined",
     "output_type": "error",
     "traceback": [
      "\u001b[0;31m---------------------------------------------------------------------------\u001b[0m",
      "\u001b[0;31mNameError\u001b[0m                                 Traceback (most recent call last)",
      "\u001b[0;32m<ipython-input-44-bd67f95c367c>\u001b[0m in \u001b[0;36m<module>\u001b[0;34m()\u001b[0m\n\u001b[0;32m----> 1\u001b[0;31m \u001b[0mget_ground_state\u001b[0m\u001b[0;34m(\u001b[0m\u001b[0mget_sparse_operator\u001b[0m\u001b[0;34m(\u001b[0m\u001b[0mrot_ham_q\u001b[0m\u001b[0;34m,\u001b[0m \u001b[0mnum_qubits\u001b[0m\u001b[0;34m)\u001b[0m\u001b[0;34m.\u001b[0m\u001b[0mtoarray\u001b[0m\u001b[0;34m(\u001b[0m\u001b[0;34m)\u001b[0m\u001b[0;34m)\u001b[0m\u001b[0;34m\u001b[0m\u001b[0m\n\u001b[0m",
      "\u001b[0;31mNameError\u001b[0m: name 'get_ground_state' is not defined"
     ]
    }
   ],
   "source": [
    "get_ground_state(get_sparse_operator(rot_ham_q, num_qubits).toarray())"
   ]
  },
  {
   "cell_type": "code",
   "execution_count": 52,
   "metadata": {},
   "outputs": [
    {
     "data": {
      "text/plain": [
       "('IIIIIIIZ',\n",
       " {'IIIIIIZI': (-1.140216532490733+0j),\n",
       "  'IIIIIIIZ': (-1.1402165324907327+0j),\n",
       "  'IIIIIIII': (1.1324434021069387+0j),\n",
       "  'IIIIZIII': (-0.6730850144698568+0j),\n",
       "  'IIIIIZII': (-0.6730850144698568+0j),\n",
       "  'ZZIIIIII': (0.249918387936909+0j),\n",
       "  'IIIZIIII': (-0.24607368520019762+0j),\n",
       "  'IIZIIIII': (-0.2460736852001976+0j),\n",
       "  'IIIIIIZZ': (0.23196260932848578+0j),\n",
       "  'ZIIIIIIZ': (0.23112051533657274+0j),\n",
       "  'IZIIIIZI': (0.23112051533657274+0j),\n",
       "  'ZIIIIIZI': (0.17642194958972313+0j),\n",
       "  'IZIIIIIZ': (0.17642194958972313+0j),\n",
       "  'IIIIZZII': (0.17095384888864143+0j),\n",
       "  'ZIIIIZII': (0.14314113781636645+0j),\n",
       "  'IZIIZIII': (0.14314113781636645+0j),\n",
       "  'IIZIIZII': (0.14063916899332368+0j),\n",
       "  'IIIZZIII': (0.14063916899332368+0j),\n",
       "  'ZIIIIIII': (0.1399063176082593+0j),\n",
       "  'IZIIIIII': (0.13990631760825928+0j),\n",
       "  'ZIIZIIII': (0.13688259770382208+0j),\n",
       "  'IZZIIIII': (0.13688259770382208+0j),\n",
       "  'IIZZIIII': (0.13657384315761087+0j),\n",
       "  'ZIIIZIII': (0.12602660899459167+0j),\n",
       "  'IZIIIZII': (0.12602660899459167+0j),\n",
       "  'IIZIIIIZ': (0.12260512697395277+0j),\n",
       "  'IIIZIIZI': (0.12260512697395277+0j),\n",
       "  'IIIIZIIZ': (0.1211093573038173+0j),\n",
       "  'IIIIIZZI': (0.1211093573038173+0j),\n",
       "  'IIZIZIII': (0.11407664418119323+0j),\n",
       "  'IIIZIZII': (0.11407664418119323+0j),\n",
       "  'IIIIZIZI': (0.11356297243590377+0j),\n",
       "  'IIIIIZIZ': (0.11356297243590377+0j),\n",
       "  'ZIZIIIII': (0.11107234328900764+0j),\n",
       "  'IZIZIIII': (0.11107234328900764+0j),\n",
       "  'IIZIIIZI': (0.10734715467055655+0j),\n",
       "  'IIIZIIIZ': (0.10734715467055655+0j),\n",
       "  'YZZZZZYZ': (0.07064370485657431+0j),\n",
       "  'XZZZZZXZ': (0.07064370485657431+0j),\n",
       "  'YIZZZZYI': (0.06584241123629504+0j),\n",
       "  'XIZZZZXI': (0.06584241123629504+0j),\n",
       "  'YZZZZZYI': (-0.03866070666863532+0j),\n",
       "  'XZZZZZXI': (-0.03866070666863532+0j),\n",
       "  'YZZZIZYI': (0.013173669006425293+0j),\n",
       "  'XZZZIZXI': (0.013173669006425293+0j),\n",
       "  'YZZIZZYI': (0.0129099644672374+0j),\n",
       "  'XZZIZZXI': (0.0129099644672374+0j),\n",
       "  'YZZZZIYI': (0.004130517996844269+0j),\n",
       "  'XZZZZIXI': (0.004130517996844269+0j),\n",
       "  'YZIZZZYI': (0.003645261543929871+0j),\n",
       "  'XZIZZZXI': (0.003645261543929871+0j)})"
      ]
     },
     "execution_count": 52,
     "metadata": {},
     "output_type": "execute_result"
    }
   ],
   "source": [
    "rot_G[6], ham_noncon"
   ]
  },
  {
   "cell_type": "code",
   "execution_count": null,
   "metadata": {},
   "outputs": [],
   "source": [
    "def bin_to_int(bits):\n",
    "    if type(bits) == str:\n",
    "        bits = [int(b) for b in bits]\n",
    "    for index, b in enumerate(bits):\n",
    "        bits[index] = b * 2 ** (len(bits)-index-1)\n",
    "    return sum(bits)"
   ]
  },
  {
   "cell_type": "code",
   "execution_count": null,
   "metadata": {},
   "outputs": [],
   "source": [
    "from copy import deepcopy\n",
    "\n",
    "v1 = [0,0,0,0,1,1,1,1]\n",
    "v2 = deepcopy(v1)\n",
    "v2[0] = (v2[0]+1)%2\n",
    "v2[6] = (v2[6]+1)%2"
   ]
  },
  {
   "cell_type": "code",
   "execution_count": null,
   "metadata": {},
   "outputs": [],
   "source": [
    "bin_to_int(v1), bin_to_int(v2)"
   ]
  },
  {
   "cell_type": "code",
   "execution_count": null,
   "metadata": {},
   "outputs": [],
   "source": [
    "import itertools\n",
    "from matplotlib import pyplot as plt\n",
    "\n",
    "B = list(itertools.product([0,1], repeat=8))\n",
    "\n",
    "X=[]\n",
    "Y=[]\n",
    "\n",
    "for b1 in B[0:128]:\n",
    "    b1 = list(b1)\n",
    "    b2 = deepcopy(b1)\n",
    "    b2[0] = (b2[0]+1)%2\n",
    "    b2[6] = (b2[6]+1)%2\n",
    "    i1 = bin_to_int(b1)\n",
    "    i2 = bin_to_int(b2)\n",
    "    X.append(i1)\n",
    "    Y.append(i2)\n",
    "    print(i1, i2, i2-i1)\n",
    "    \n",
    "plt.scatter(X, Y, s=3)"
   ]
  },
  {
   "cell_type": "code",
   "execution_count": null,
   "metadata": {},
   "outputs": [],
   "source": [
    "np.exp(0.6*1j)"
   ]
  },
  {
   "cell_type": "code",
   "execution_count": 44,
   "metadata": {},
   "outputs": [
    {
     "data": {
      "text/plain": [
       "90"
      ]
     },
     "execution_count": 44,
     "metadata": {},
     "output_type": "execute_result"
    }
   ],
   "source": [
    "bin_to_int('01011010')"
   ]
  },
  {
   "cell_type": "code",
   "execution_count": 243,
   "metadata": {},
   "outputs": [
    {
     "data": {
      "text/plain": [
       "(-3.142824749268173,\n",
       " array([ 1.37853761e-17-1.33832817e-17j, -1.22049888e-18-4.81352046e-18j,\n",
       "         8.45315419e-18+4.84771373e-18j, -7.18006173e-18+2.27654512e-18j,\n",
       "        -2.42738100e-17+9.15729735e-18j,  1.24272315e-17-9.17423256e-18j,\n",
       "        -1.85363597e-18+8.40111083e-18j, -2.47633257e-17+2.51438650e-17j,\n",
       "         1.25605255e-17+4.39165369e-17j,  2.15517847e-18-1.21592665e-17j,\n",
       "        -1.32232039e-18-1.03215746e-17j, -6.83978915e-18-9.85398234e-18j,\n",
       "        -1.79315232e-18-1.93927738e-17j, -2.06565097e-17+1.41043086e-17j,\n",
       "         1.45265706e-17-1.03092762e-17j,  5.58826039e-18-9.63121827e-19j,\n",
       "         3.14503694e-18-1.11282339e-18j,  1.21595805e-17+9.72910383e-18j,\n",
       "         9.35197322e-18+2.80658016e-18j, -2.27423720e-18-1.22590709e-17j,\n",
       "         4.46911997e-20-1.20475896e-19j,  1.94332092e-17+9.33972304e-19j,\n",
       "         5.35778353e-18+8.31916212e-18j, -1.62180622e-17+1.64989253e-17j,\n",
       "        -3.48354834e-19-1.42083864e-17j, -2.84263830e-19-9.99230390e-19j,\n",
       "         3.97928599e-19-4.57001308e-18j,  1.68697604e-19+4.04094409e-19j,\n",
       "         3.51522927e-17-3.19197581e-17j, -2.83154474e-19-4.10027214e-19j,\n",
       "         4.04264405e-19+4.10741323e-18j,  1.37814023e-17-4.72272234e-17j,\n",
       "        -1.86312013e-18+5.16109760e-18j, -1.85475175e-17-1.21847267e-17j,\n",
       "         1.81539491e-17+2.93555644e-17j,  6.28504073e-18-6.08368058e-19j,\n",
       "         7.21134112e-18-1.54302326e-18j,  5.99596838e-19-1.61587078e-18j,\n",
       "        -2.38575165e-17-7.52836025e-18j, -1.04122515e-18+9.20828191e-19j,\n",
       "         1.81479009e-20-5.10986423e-18j, -7.52737575e-18+1.43396839e-18j,\n",
       "        -3.05936337e-17-3.01246358e-18j, -1.72653306e-17+1.08005930e-17j,\n",
       "         1.37023436e-17+8.45577994e-18j,  1.35831618e-18+8.66677890e-19j,\n",
       "        -1.58683207e-18-1.48441750e-18j,  8.74687080e-18-1.23051238e-17j,\n",
       "        -9.57136231e-18-4.36936111e-17j, -9.94559183e-18+2.31214193e-17j,\n",
       "         7.84632505e-18-3.83700829e-17j, -4.30201992e-18-5.25548322e-19j,\n",
       "         3.14621740e-17-2.08373559e-17j, -1.39324621e-17-9.16003871e-18j,\n",
       "         3.70334508e-18-8.24300648e-18j, -2.37876458e-17-1.17380902e-17j,\n",
       "        -1.82877895e-17+2.30515002e-17j, -2.53920136e-18-1.01190094e-17j,\n",
       "         4.79055541e-18-4.76433280e-18j,  1.17458011e-18+1.28166557e-17j,\n",
       "         7.28063291e-18-3.68536915e-18j, -8.52159739e-18+8.12074999e-18j,\n",
       "         1.11227806e-17-4.80463497e-18j,  9.53061906e-19-2.70128977e-17j,\n",
       "        -2.22271893e-17-1.28877107e-16j, -1.38423379e-17-1.69312671e-17j,\n",
       "        -6.90507711e-18+3.23171383e-17j,  1.57632531e-17+1.43402837e-17j,\n",
       "         7.84787173e-17+1.06267054e-17j, -2.25677067e-17+2.06670620e-17j,\n",
       "        -1.97709349e-17+5.95261836e-19j, -1.04177964e-17+3.95575052e-18j,\n",
       "         1.73807690e-17+1.14581887e-17j,  1.06855410e-17-9.82160029e-19j,\n",
       "         4.21529353e-17-1.96865848e-17j, -2.30817130e-19+2.50338866e-18j,\n",
       "        -1.66195607e-17+3.77945821e-17j,  1.24498130e-18+2.85244896e-18j,\n",
       "         1.46108481e-18-1.60154137e-17j,  2.00751352e-18-4.58234991e-18j,\n",
       "        -4.71133924e-18-3.36027113e-17j,  6.93151810e-17+1.64862948e-17j,\n",
       "        -3.79867631e-03-1.97277382e-02j, -3.21561414e-21+3.04705104e-18j,\n",
       "        -2.50227582e-16-3.03015417e-16j, -5.74561704e-18+5.56448153e-18j,\n",
       "         2.64738060e-18-9.96460745e-18j, -4.51415862e-18-1.46965062e-17j,\n",
       "         9.77685538e-17-4.57960073e-17j, -1.56603489e-17+6.88131109e-18j,\n",
       "         7.44537976e-18+2.31925173e-18j, -2.25444961e-17+5.02350794e-18j,\n",
       "        -3.01517369e-17-4.29174310e-17j, -1.57516242e-17-1.88413088e-17j,\n",
       "         9.66010564e-18+1.73622261e-18j, -1.27018756e-17-6.68244474e-18j,\n",
       "        -9.15897881e-16-2.29679716e-17j, -1.89196431e-17+3.85500935e-17j,\n",
       "        -5.20970333e-15-5.86176446e-15j, -1.07185396e-17-1.38911589e-17j,\n",
       "        -1.12685911e-17+7.75908410e-17j,  1.45549832e-17+1.06633780e-17j,\n",
       "         2.06782662e-18+2.81267569e-18j,  5.60424507e-18+3.31063121e-18j,\n",
       "         4.68196603e-17-8.41642764e-17j,  8.18606190e-18-1.04698905e-17j,\n",
       "         2.35007427e-17+1.00972325e-17j, -3.99463833e-18-4.60517853e-18j,\n",
       "        -3.46865068e-17+3.20997302e-17j,  6.36090237e-18-3.35495571e-18j,\n",
       "        -5.38427881e-18-5.19849171e-19j,  2.49240553e-17+1.21456744e-17j,\n",
       "         1.40188059e-15-6.37747496e-17j, -2.43266125e-17+1.47511819e-17j,\n",
       "        -3.29102380e-19-9.11556428e-17j, -9.62246835e-18-5.86601170e-18j,\n",
       "         1.24688106e-16-2.55789922e-17j, -5.14533026e-18-2.88964934e-17j,\n",
       "        -1.31138917e-18+2.00141519e-18j,  1.07665561e-17-5.55733642e-18j,\n",
       "        -6.10207526e-18-3.39271675e-18j,  1.00114247e-17+7.81054284e-18j,\n",
       "        -1.19133906e-18-2.99351153e-18j, -1.73561436e-17-2.41766552e-18j,\n",
       "        -4.07716958e-18+2.99765855e-18j, -6.54145885e-18+1.39137083e-17j,\n",
       "         9.47151563e-18-1.63501629e-17j, -2.45602293e-17+4.46356710e-17j,\n",
       "        -9.95812353e-17-8.99374929e-17j, -3.75344600e-17-1.20581626e-17j,\n",
       "         5.76316317e-18+6.23250265e-18j, -6.91720841e-18+1.72811302e-18j,\n",
       "        -4.08281108e-17-9.45338300e-17j, -1.44534128e-17-2.48871976e-18j,\n",
       "         2.05258486e-18+1.21840356e-17j, -3.01582509e-18-8.81980808e-19j,\n",
       "        -1.97226206e-16+3.03467930e-17j,  3.02427776e-18+2.96957273e-18j,\n",
       "         1.20342222e-17+1.44540478e-17j, -5.81061781e-18-6.65606100e-18j,\n",
       "        -4.04069806e-18-2.43670232e-18j,  2.05236568e-18-1.90749632e-18j,\n",
       "         2.14735751e-18+1.22185190e-18j, -3.87995878e-19-2.57054116e-19j,\n",
       "         3.75599723e-17+2.75066979e-16j, -2.02331446e-17+2.85162173e-17j,\n",
       "        -2.10517822e-17-1.84960255e-17j, -2.72539540e-18+2.75319347e-18j,\n",
       "        -8.40027075e-17-1.20491080e-16j, -1.82255749e-18-4.43555947e-18j,\n",
       "         1.19303332e-17+2.60265143e-18j, -3.04645317e-18+1.53863620e-18j,\n",
       "         1.13818370e-17+1.22567642e-16j,  2.22631260e-18-1.38446289e-17j,\n",
       "         1.60400554e-17+1.66774700e-17j,  5.95771076e-18-1.44249815e-20j,\n",
       "        -4.63431017e-17+1.77536403e-17j,  3.19802276e-18-1.17056749e-17j,\n",
       "         1.39846560e-17-1.01076528e-17j, -2.77237223e-17-7.60104717e-18j,\n",
       "         1.36416298e-16+1.43988083e-16j, -1.90855668e-17-2.72936688e-17j,\n",
       "        -3.29132081e-18-1.24195095e-17j,  8.12944693e-19-4.75746945e-19j,\n",
       "         2.81534060e-16+8.18812866e-17j, -4.68519445e-18+8.79388396e-19j,\n",
       "         1.61452185e-17+2.83337453e-18j,  1.38429224e-18-3.96671739e-18j,\n",
       "         5.47484194e-16+1.54631999e-16j,  2.03178935e-17+1.69669971e-17j,\n",
       "        -6.93196676e-18-3.44755056e-18j,  1.49951144e-17-2.54227598e-17j,\n",
       "         9.65139415e-20-1.62167121e-17j, -6.38449128e-18-4.01407374e-18j,\n",
       "         2.04793256e-17-1.06045233e-17j, -2.52723798e-18+1.96070971e-18j,\n",
       "        -1.11426559e-16+4.33683213e-16j, -5.84033782e-18+2.74792262e-18j,\n",
       "         8.23373742e-19-6.36244726e-18j, -2.21085081e-18-6.48374006e-18j,\n",
       "        -7.95906451e-17-7.44263357e-17j, -3.90032463e-18-1.44351512e-18j,\n",
       "         1.65171267e-17+1.32254424e-19j,  2.58214269e-17-2.63622333e-17j,\n",
       "         2.66857044e-17+1.36669401e-16j,  4.38383078e-18-3.39311290e-19j,\n",
       "        -1.52802609e-17+1.96952710e-18j, -1.97655795e-17+2.61602810e-18j,\n",
       "        -1.98812180e-18+5.61795646e-18j,  4.81914227e-17-2.66651146e-17j,\n",
       "         2.19270125e-18+1.51986190e-17j,  9.49735486e-18+6.60219389e-18j,\n",
       "         3.54202689e-15-9.13435016e-15j, -1.15219528e-16-6.81351776e-17j,\n",
       "         8.33511899e-17-4.51789739e-17j, -4.15642809e-18-5.65663290e-18j,\n",
       "        -7.99268918e-16-6.64708105e-16j, -4.00156887e-17+5.02018550e-18j,\n",
       "        -1.34684731e-17-4.13758455e-17j, -2.40032388e-17-2.82343705e-17j,\n",
       "         1.33604494e-15-1.44636454e-15j, -4.08226919e-18+9.06280941e-18j,\n",
       "        -5.12606333e-17-3.41327945e-17j, -3.17901855e-17-5.87038987e-18j,\n",
       "         3.86780036e-17-3.34654099e-17j,  2.48241066e-18+1.18199051e-18j,\n",
       "         1.40284376e-18-1.35134949e-18j,  6.27776010e-17+1.90202020e-17j,\n",
       "        -1.89043493e-01-9.81763181e-01j, -4.06994732e-18+1.83294381e-17j,\n",
       "        -4.12024150e-18-9.69454131e-18j,  7.39382971e-18+1.73189254e-18j,\n",
       "         2.48651183e-16+4.75980727e-16j,  5.10187344e-18+4.34111475e-18j,\n",
       "        -1.04844383e-18+4.27823706e-18j, -3.81133413e-18+5.04841658e-18j,\n",
       "        -1.94406368e-16-4.05143267e-17j, -3.63746422e-19+5.06395902e-18j,\n",
       "         6.61899535e-18-6.15005183e-18j, -8.76190686e-18-1.10021541e-18j,\n",
       "         6.41480201e-18+1.83496311e-18j,  1.97393424e-17+1.11247410e-17j,\n",
       "         2.18640845e-17-2.58005467e-17j, -1.29202172e-17-3.43811993e-18j,\n",
       "        -9.37041724e-13-1.05298155e-12j,  8.82986094e-18+7.60749303e-19j,\n",
       "         6.45233963e-18-2.29759165e-17j, -1.81640602e-19+8.40404354e-18j,\n",
       "        -2.11814271e-16-2.67739522e-16j, -9.77556795e-18+7.71533288e-18j,\n",
       "         1.08933551e-17-8.38805704e-18j, -1.09354249e-17-3.63057398e-18j,\n",
       "        -5.10749876e-16-2.48983568e-16j, -1.22372861e-18+1.84686444e-18j,\n",
       "         2.84334113e-19-7.86398098e-18j,  2.73556289e-19-5.68824064e-18j,\n",
       "        -3.99733905e-17+3.72930674e-17j,  1.13701831e-17+1.40620893e-17j,\n",
       "        -4.60154680e-18-1.07921018e-18j,  3.10733805e-17-2.01253799e-18j,\n",
       "         1.45895963e-15+3.31179640e-15j,  2.22600224e-17-1.02486633e-18j,\n",
       "         8.97410850e-18-2.02078476e-17j,  3.59408135e-17-2.68122584e-17j,\n",
       "        -2.49354396e-18+5.50302248e-17j, -1.77500407e-17+4.45518982e-18j,\n",
       "         1.46398873e-17+1.04340889e-17j,  2.84830530e-17-7.37003559e-18j,\n",
       "        -9.57579013e-18-1.03590415e-16j,  2.93698870e-17-8.15848743e-18j,\n",
       "        -2.07077519e-17+9.21233983e-18j,  4.17174742e-17-5.60020768e-17j,\n",
       "         6.05327485e-18-1.07984036e-17j, -1.36667046e-17-7.30908116e-18j,\n",
       "        -1.25025316e-18+5.25052951e-19j,  2.81949401e-18+3.53943377e-18j]))"
      ]
     },
     "execution_count": 243,
     "metadata": {},
     "output_type": "execute_result"
    }
   ],
   "source": [
    "from openfermion.linalg import get_sparse_operator, get_ground_state, generate_linear_qubit_operator\n",
    "\n",
    "sparse_ham_q = get_ground_state(get_sparse_operator(ham_noncon_q, num_qubits).toarray())\n",
    "sparse_ham_q"
   ]
  },
  {
   "cell_type": "code",
   "execution_count": 113,
   "metadata": {},
   "outputs": [
    {
     "data": {
      "text/plain": [
       "(0.9997981730624983+0j)"
      ]
     },
     "execution_count": 113,
     "metadata": {},
     "output_type": "execute_result"
    }
   ],
   "source": [
    "add_eigenstate(r1=r1, r2=r2, index=19, theta=0, n=0, num_qubits=num_qubits)[145]"
   ]
  },
  {
   "cell_type": "code",
   "execution_count": 179,
   "metadata": {},
   "outputs": [
    {
     "data": {
      "text/plain": [
       "{'IIIIIIZI': (-1.140216532490733+0j),\n",
       " 'IIIIIIII': (1.1324434021069387+0j),\n",
       " 'ZIIIIIZI': (0.17642194958972313+0j),\n",
       " 'ZIIIIIII': (0.1399063176082593+0j)}"
      ]
     },
     "execution_count": 179,
     "metadata": {},
     "output_type": "execute_result"
    }
   ],
   "source": [
    "discard_generator(ham_noncon, ham_context, ['IIIIIIIZ', 'IIIIIZII', 'IZIIIIII', 'IIZIIIII', 'IIIZIIII', 'IIIIZIII'])[0]"
   ]
  },
  {
   "cell_type": "code",
   "execution_count": 62,
   "metadata": {},
   "outputs": [],
   "source": [
    "eigenstate_indices = [82, 83, 86, 87, 90, 91, 94, 95]"
   ]
  },
  {
   "cell_type": "code",
   "execution_count": 72,
   "metadata": {},
   "outputs": [
    {
     "data": {
      "text/plain": [
       "[82, 83, 86, 87, 94, 95]"
      ]
     },
     "execution_count": 72,
     "metadata": {},
     "output_type": "execute_result"
    }
   ],
   "source": [
    "initial = 82\n",
    "indices = []\n",
    "removed_Z_indices = [7, 5, 4]\n",
    "for i in removed_Z_indices:\n",
    "    indices.append(initial)\n",
    "    indices.append(initial+1)\n",
    "    \n",
    "    initial += 2**i\n",
    "\n",
    "indices\n",
    "\n",
    "\n",
    "\n"
   ]
  },
  {
   "cell_type": "code",
   "execution_count": null,
   "metadata": {},
   "outputs": [],
   "source": []
  },
  {
   "cell_type": "code",
   "execution_count": null,
   "metadata": {},
   "outputs": [],
   "source": []
  }
 ],
 "metadata": {
  "kernelspec": {
   "display_name": "Python 3",
   "language": "python",
   "name": "python3"
  },
  "language_info": {
   "codemirror_mode": {
    "name": "ipython",
    "version": 3
   },
   "file_extension": ".py",
   "mimetype": "text/x-python",
   "name": "python",
   "nbconvert_exporter": "python",
   "pygments_lexer": "ipython3",
   "version": "3.7.0"
  }
 },
 "nbformat": 4,
 "nbformat_minor": 2
}
