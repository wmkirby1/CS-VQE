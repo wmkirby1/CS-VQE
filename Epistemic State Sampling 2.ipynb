{
 "cells": [
  {
   "cell_type": "code",
   "execution_count": 55,
   "metadata": {},
   "outputs": [],
   "source": [
    "import openfermion\n",
    "import openfermionpyscf\n",
    "from openfermion import MolecularData\n",
    "from openfermionpyscf import run_pyscf\n",
    "from openfermion.ops import FermionOperator, QubitOperator\n",
    "from openfermion.transforms import jordan_wigner, bravyi_kitaev\n",
    "from openfermion.transforms import get_fermion_operator\n",
    "from openfermion.circuits import (uccsd_singlet_get_packed_amplitudes,\n",
    "                               uccsd_singlet_generator, uccsd_generator,\n",
    "                               uccsd_convert_amplitude_format)\n",
    "import numpy as np\n",
    "import cs_vqe as c\n",
    "import itertools\n",
    "import qubit_conversion as q_conv"
   ]
  },
  {
   "cell_type": "code",
   "execution_count": 2,
   "metadata": {
    "scrolled": true
   },
   "outputs": [
    {
     "name": "stdout",
     "output_type": "stream",
     "text": [
      "H2-S1_STO-3G_singlet # qubits: 18 A terms: ['IIZZZZZZZXIIIIIIII', 'IIIIIIIIIZIIIIIIII']\n",
      "C1-O1_STO-3G_singlet # qubits: 16 A terms: ['IIZZZZZXIIIIIIII', 'IIIIIIIZIIIIIIII']\n",
      "H1-Cl1_STO-3G_singlet # qubits: 16 A terms: ['IIZZZZZXIIIIIIII', 'IIIIIIIZIIIIIIII']\n",
      "H1-Na1_STO-3G_singlet # qubits: 16 A terms: ['IIZZZZZZZXIIIIII', 'IIIIIIIIIZIIIIII']\n",
      "H2-Mg1_STO-3G_singlet # qubits: 17 A terms: ['IIIZZIIZXZZIIZZZZ', 'IIIIIIIIZIIIIIIII']\n",
      "H1-F1_3-21G_singlet # qubits: 18 A terms: ['IIIIZZZZZXZZIIIIII', 'IIZIIIIIZZIIIIIIII']\n",
      "H1-Li1_3-21G_singlet # qubits: 18 A terms: ['IIIIZZZZIIZXIIIIII', 'IIZIIIIIIIZZIIIIII']\n",
      "Be1_STO-3G_singlet # qubits: 5 A terms: ['IIIXI', 'IIIZI']\n",
      "H1-F1_STO-3G_singlet # qubits: 8 A terms: ['IIXZZZZZ', 'IIZIIIII']\n",
      "H1-Li1_STO-3G_singlet # qubits: 8 A terms: ['IIIIIXZZ', 'ZZIZIZIZ']\n",
      "Ar1_STO-3G_singlet # qubits: 13 A terms: ['IIIZZZZZXZZZZ', 'IIIIIIIIZIIII']\n",
      "F2_STO-3G_singlet # qubits: 15 A terms: ['IIIIIIIIIIIIZII', 'IIIIIIIIIIIXXYY']\n",
      "H1-O1_STO-3G_singlet # qubits: 8 A terms: ['IIXZZZZZ', 'IIZIIIII']\n",
      "H2-Be1_STO-3G_singlet # qubits: 9 A terms: ['IIIIIIXIX', 'IIIIIIIIZ']\n",
      "H2-O1_STO-3G_singlet # qubits: 10 A terms: ['IIIIZXZZZZ', 'IIIIIZIIII']\n",
      "H2_3-21G_singlet # qubits: 5 A terms: ['IZZXZ', 'ZZIZI']\n",
      "H2_6-31G_singlet # qubits: 5 A terms: ['IZZXZ', 'ZZIZI']\n",
      "H3-N1_STO-3G_singlet # qubits: 13 A terms: ['XZZZZXZIIIIII', 'IIIIIZIIIIIII']\n",
      "H4-C1_STO-3G_singlet # qubits: 14 A terms: ['IIIIIIIIIIXZZZ', 'IIIIIIIIIIZIII']\n",
      "Mg1_STO-3G_singlet # qubits: 13 A terms: ['IIIZXZZZZZZZZ', 'IIIIZIIIIIIII']\n",
      "N2_STO-3G_singlet # qubits: 15 A terms: ['IIIIIIIIIIIIIIZ', 'IIIIIIIIIIIXXYY']\n",
      "Ne1_STO-3G_singlet # qubits: 5 A terms: ['IIIXZ', 'IIIZI']\n",
      "O2_STO-3G_singlet # qubits: 15 A terms: ['IIIIIIIIIIIIZII', 'IIIIIIIIIIIXXYY']\n",
      "H1-Li1-O1_STO-3G_singlet # qubits: 18 A terms: ['IIIIIIIIIIXZZZZZZZ', 'IIIIIIIIIIZIIIIIII']\n",
      "H1-He1_STO-3G_singlet # qubits: 2 A terms: ['XZ', 'ZI']\n",
      "H3_STO-3G_singlet_1+ # qubits: 3 A terms: ['ZII', 'XXX']\n",
      "H1-He1_3-21G_singlet_1+ # qubits: 6 A terms: ['IZIIII', 'IXZXII']\n",
      "H3_3-21G_singlet_1+ # qubits: 9 A terms: ['IIXZZZZZX', 'IIZIIIIII']\n",
      "H4-N1_STO-3G_singlet_1+ # qubits: 14 A terms: ['IIIXZZZZZZZXII', 'IIIIIIIIIIIZII']\n"
     ]
    }
   ],
   "source": [
    "import ast\n",
    "import matplotlib\n",
    "import matplotlib.pyplot as plt\n",
    "\n",
    "f = open(\"hamiltonians.txt\",\"r\")\n",
    "hamiltonians = ast.literal_eval(f.read())\n",
    "f.close()\n",
    "\n",
    "for h in hamiltonians.keys():\n",
    "    print(h, '# qubits:', hamiltonians[h][1], 'A terms:', hamiltonians[h][5][3][1])"
   ]
  },
  {
   "cell_type": "code",
   "execution_count": 53,
   "metadata": {},
   "outputs": [
    {
     "name": "stdout",
     "output_type": "stream",
     "text": [
      "number of qubits: 2\n",
      "true ground state energy: -4.001240607721688\n",
      "noncontextual approximation to ground state energy: -3.9930146990720448\n",
      "{'II': -3.0847221710636843, 'IZ': 0.5160798861830592, 'ZI': 0.5160798861830591, 'ZZ': 0.12386724435775806, 'XZ': -0.11608931078542636, 'XI': -0.1160893107234352}\n"
     ]
    }
   ],
   "source": [
    "speciesname = 'H1-He1_STO-3G_singlet'\n",
    "\n",
    "encoding = hamiltonians[speciesname][0] # in this dataset, always 'JW' for Jordan-Wigner, but leaves room for trying Bravyi-Kitaev as well\n",
    "num_qubits = hamiltonians[speciesname][1] # number of qubits (all of these Hamiltonians have been tapered for molecular symmetries)\n",
    "ham = hamiltonians[speciesname][2] # full Hamiltonian\n",
    "ham_noncon = hamiltonians[speciesname][3] # noncontextual part of Hamiltonian, found by greedy DFS\n",
    "true_gs = hamiltonians[speciesname][4] # ground state energy of full Hamiltonian (in Hartree)\n",
    "gs_noncon = hamiltonians[speciesname][5] # list containing information about noncontextual ground state: zeroth entry is ground state energy of noncontextual part of Hamiltonian\n",
    "#print('commuting generators:',model[0], '\\n')\n",
    "#print('anticommuting generators:',model[1], '\\n')\n",
    "#print('term reconstruction:',model[2], '\\n')\n",
    "\n",
    "print('number of qubits:', num_qubits)\n",
    "print('true ground state energy:', true_gs)\n",
    "print('noncontextual approximation to ground state energy:', gs_noncon[0])\n",
    "print(ham_noncon)"
   ]
  },
  {
   "cell_type": "code",
   "execution_count": 56,
   "metadata": {},
   "outputs": [
    {
     "name": "stdout",
     "output_type": "stream",
     "text": [
      "Hamiltonian: \n",
      " (1.1324434021069396+0j) [] +\n",
      "(-0.02581025441481505+0j) [X0 X1 Y2 Y3] +\n",
      "(-0.012799934786437012+0j) [X0 X1 Y2 Z3 Z4 Y5] +\n",
      "(-0.025159645839897923+0j) [X0 X1 Y2 Z3 Z4 Z5 Z6 Y7] +\n",
      "(-0.012799934786437012+0j) [X0 X1 X3 X4] +\n",
      "(-0.025159645839897923+0j) [X0 X1 X3 Z4 Z5 X6] +\n",
      "(-0.01711452882177465+0j) [X0 X1 Y4 Y5] +\n",
      "(-0.0009891049103627398+0j) [X0 X1 Y4 Z5 Z6 Y7] +\n",
      "(-0.0009891049103627398+0j) [X0 X1 X5 X6] +\n",
      "(-0.054698565746849274+0j) [X0 X1 Y6 Y7] +\n",
      "(0.02581025441481505+0j) [X0 Y1 Y2 X3] +\n",
      "(0.012799934786437012+0j) [X0 Y1 Y2 Z3 Z4 X5] +\n",
      "(0.025159645839897923+0j) [X0 Y1 Y2 Z3 Z4 Z5 Z6 X7] +\n",
      "(-0.012799934786437012+0j) [X0 Y1 Y3 X4] +\n",
      "(-0.025159645839897923+0j) [X0 Y1 Y3 Z4 Z5 X6] +\n",
      "(0.01711452882177465+0j) [X0 Y1 Y4 X5] +\n",
      "(0.0009891049103627398+0j) [X0 Y1 Y4 Z5 Z6 X7] +\n",
      "(-0.0009891049103627398+0j) [X0 Y1 Y5 X6] +\n",
      "(0.054698565746849274+0j) [X0 Y1 Y6 X7] +\n",
      "(0.002577905179412112+0j) [X0 Z1 X2] +\n",
      "(0.004766148105680643+0j) [X0 Z1 X2 X3 Z4 X5] +\n",
      "(-0.009264702923307932+0j) [X0 Z1 X2 X3 Z4 Z5 Z6 X7] +\n",
      "(0.004766148105680643+0j) [X0 Z1 X2 Y3 Z4 Y5] +\n",
      "(-0.009264702923307932+0j) [X0 Z1 X2 Y3 Z4 Z5 Z6 Y7] +\n",
      "(-0.008165544677214424+0j) [X0 Z1 X2 Z3] +\n",
      "(0.011039175390082825+0j) [X0 Z1 X2 X4 Z5 X6] +\n",
      "(0.004031429608004342+0j) [X0 Z1 X2 Y4 Z5 Y6] +\n",
      "(-0.0012599890155228608+0j) [X0 Z1 X2 Z4] +\n",
      "(0.008519234528352985+0j) [X0 Z1 X2 X5 Z6 X7] +\n",
      "(0.008519234528352985+0j) [X0 Z1 X2 Y5 Z6 Y7] +\n",
      "(-0.01683829191908305+0j) [X0 Z1 X2 Z5] +\n",
      "(0.018855524349035365+0j) [X0 Z1 X2 Z6] +\n",
      "(0.04260557457088657+0j) [X0 Z1 X2 Z7] +\n",
      "(0.007007745782078484+0j) [X0 Z1 Y2 Y4 Z5 X6] +\n",
      "(-0.01557830290356019+0j) [X0 Z1 Z2 X3 Y4 Y5] +\n",
      "(-0.004487804920348642+0j) [X0 Z1 Z2 X3 Y4 Z5 Z6 Y7] +\n",
      "(0.0025199408617298433+0j) [X0 Z1 Z2 X3 X5 X6] +\n",
      "(0.02375005022185121+0j) [X0 Z1 Z2 X3 Y6 Y7] +\n",
      "(0.01557830290356019+0j) [X0 Z1 Z2 Y3 Y4 X5] +\n",
      "(0.004487804920348642+0j) [X0 Z1 Z2 Y3 Y4 Z5 Z6 X7] +\n",
      "(0.0025199408617298433+0j) [X0 Z1 Z2 Y3 Y5 X6] +\n",
      "(-0.02375005022185121+0j) [X0 Z1 Z2 Y3 Y6 X7] +\n",
      "(0.05776205910137884+0j) [X0 Z1 Z2 Z3 X4] +\n",
      "(0.009043151009580938+0j) [X0 Z1 Z2 Z3 X4 X5 Z6 X7] +\n",
      "(0.009043151009580938+0j) [X0 Z1 Z2 Z3 X4 Y5 Z6 Y7] +\n",
      "(-0.03282295150197555+0j) [X0 Z1 Z2 Z3 X4 Z5] +\n",
      "(-0.0008004024320859579+0j) [X0 Z1 Z2 Z3 X4 Z6] +\n",
      "(-0.0002962126798685804+0j) [X0 Z1 Z2 Z3 X4 Z7] +\n",
      "(0.0005041897522173774+0j) [X0 Z1 Z2 Z3 Z4 X5 Y6 Y7] +\n",
      "(-0.0005041897522173774+0j) [X0 Z1 Z2 Z3 Z4 Y5 Y6 X7] +\n",
      "(-0.03866070666863576+0j) [X0 Z1 Z2 Z3 Z4 Z5 X6] +\n",
      "(0.07064370485657381+0j) [X0 Z1 Z2 Z3 Z4 Z5 X6 Z7] +\n",
      "(0.004130517996844182+0j) [X0 Z1 Z2 Z3 Z4 X6] +\n",
      "(0.01317366900642512+0j) [X0 Z1 Z2 Z3 Z5 X6] +\n",
      "(-0.01890219177447055+0j) [X0 Z1 Z2 X4] +\n",
      "(0.01290996446723773+0j) [X0 Z1 Z2 Z4 Z5 X6] +\n",
      "(-0.014136043668789906+0j) [X0 Z1 Z3 X4] +\n",
      "(0.003645261543929798+0j) [X0 Z1 Z3 Z4 Z5 X6] +\n",
      "(0.037775178256100814+0j) [X0 X2] +\n",
      "(-0.009195742964429078+0j) [X0 Z2 Z3 X4] +\n",
      "(0.06584241123629447+0j) [X0 Z2 Z3 Z4 Z5 X6] +\n",
      "(0.02581025441481505+0j) [Y0 X1 X2 Y3] +\n",
      "(0.012799934786437012+0j) [Y0 X1 X2 Z3 Z4 Y5] +\n",
      "(0.025159645839897923+0j) [Y0 X1 X2 Z3 Z4 Z5 Z6 Y7] +\n",
      "(-0.012799934786437012+0j) [Y0 X1 X3 Y4] +\n",
      "(-0.025159645839897923+0j) [Y0 X1 X3 Z4 Z5 Y6] +\n",
      "(0.01711452882177465+0j) [Y0 X1 X4 Y5] +\n",
      "(0.0009891049103627398+0j) [Y0 X1 X4 Z5 Z6 Y7] +\n",
      "(-0.0009891049103627398+0j) [Y0 X1 X5 Y6] +\n",
      "(0.054698565746849274+0j) [Y0 X1 X6 Y7] +\n",
      "(-0.02581025441481505+0j) [Y0 Y1 X2 X3] +\n",
      "(-0.012799934786437012+0j) [Y0 Y1 X2 Z3 Z4 X5] +\n",
      "(-0.025159645839897923+0j) [Y0 Y1 X2 Z3 Z4 Z5 Z6 X7] +\n",
      "(-0.012799934786437012+0j) [Y0 Y1 Y3 Y4] +\n",
      "(-0.025159645839897923+0j) [Y0 Y1 Y3 Z4 Z5 Y6] +\n",
      "(-0.01711452882177465+0j) [Y0 Y1 X4 X5] +\n",
      "(-0.0009891049103627398+0j) [Y0 Y1 X4 Z5 Z6 X7] +\n",
      "(-0.0009891049103627398+0j) [Y0 Y1 Y5 Y6] +\n",
      "(-0.054698565746849274+0j) [Y0 Y1 X6 X7] +\n",
      "(0.007007745782078484+0j) [Y0 Z1 X2 X4 Z5 Y6] +\n",
      "(0.002577905179412112+0j) [Y0 Z1 Y2] +\n",
      "(0.004766148105680643+0j) [Y0 Z1 Y2 X3 Z4 X5] +\n",
      "(-0.009264702923307932+0j) [Y0 Z1 Y2 X3 Z4 Z5 Z6 X7] +\n",
      "(0.004766148105680643+0j) [Y0 Z1 Y2 Y3 Z4 Y5] +\n",
      "(-0.009264702923307932+0j) [Y0 Z1 Y2 Y3 Z4 Z5 Z6 Y7] +\n",
      "(-0.008165544677214424+0j) [Y0 Z1 Y2 Z3] +\n",
      "(0.004031429608004342+0j) [Y0 Z1 Y2 X4 Z5 X6] +\n",
      "(0.011039175390082825+0j) [Y0 Z1 Y2 Y4 Z5 Y6] +\n",
      "(-0.0012599890155228608+0j) [Y0 Z1 Y2 Z4] +\n",
      "(0.008519234528352985+0j) [Y0 Z1 Y2 X5 Z6 X7] +\n",
      "(0.008519234528352985+0j) [Y0 Z1 Y2 Y5 Z6 Y7] +\n",
      "(-0.01683829191908305+0j) [Y0 Z1 Y2 Z5] +\n",
      "(0.018855524349035365+0j) [Y0 Z1 Y2 Z6] +\n",
      "(0.04260557457088657+0j) [Y0 Z1 Y2 Z7] +\n",
      "(0.01557830290356019+0j) [Y0 Z1 Z2 X3 X4 Y5] +\n",
      "(0.004487804920348642+0j) [Y0 Z1 Z2 X3 X4 Z5 Z6 Y7] +\n",
      "(0.0025199408617298433+0j) [Y0 Z1 Z2 X3 X5 Y6] +\n",
      "(-0.02375005022185121+0j) [Y0 Z1 Z2 X3 X6 Y7] +\n",
      "(-0.01557830290356019+0j) [Y0 Z1 Z2 Y3 X4 X5] +\n",
      "(-0.004487804920348642+0j) [Y0 Z1 Z2 Y3 X4 Z5 Z6 X7] +\n",
      "(0.0025199408617298433+0j) [Y0 Z1 Z2 Y3 Y5 Y6] +\n",
      "(0.02375005022185121+0j) [Y0 Z1 Z2 Y3 X6 X7] +\n",
      "(0.05776205910137884+0j) [Y0 Z1 Z2 Z3 Y4] +\n",
      "(0.009043151009580938+0j) [Y0 Z1 Z2 Z3 Y4 X5 Z6 X7] +\n",
      "(0.009043151009580938+0j) [Y0 Z1 Z2 Z3 Y4 Y5 Z6 Y7] +\n",
      "(-0.03282295150197555+0j) [Y0 Z1 Z2 Z3 Y4 Z5] +\n",
      "(-0.0008004024320859579+0j) [Y0 Z1 Z2 Z3 Y4 Z6] +\n",
      "(-0.0002962126798685804+0j) [Y0 Z1 Z2 Z3 Y4 Z7] +\n",
      "(-0.0005041897522173774+0j) [Y0 Z1 Z2 Z3 Z4 X5 X6 Y7] +\n",
      "(0.0005041897522173774+0j) [Y0 Z1 Z2 Z3 Z4 Y5 X6 X7] +\n",
      "(-0.03866070666863576+0j) [Y0 Z1 Z2 Z3 Z4 Z5 Y6] +\n",
      "(0.07064370485657381+0j) [Y0 Z1 Z2 Z3 Z4 Z5 Y6 Z7] +\n",
      "(0.004130517996844182+0j) [Y0 Z1 Z2 Z3 Z4 Y6] +\n",
      "(0.01317366900642512+0j) [Y0 Z1 Z2 Z3 Z5 Y6] +\n",
      "(-0.01890219177447055+0j) [Y0 Z1 Z2 Y4] +\n",
      "(0.01290996446723773+0j) [Y0 Z1 Z2 Z4 Z5 Y6] +\n",
      "(-0.014136043668789906+0j) [Y0 Z1 Z3 Y4] +\n",
      "(0.003645261543929798+0j) [Y0 Z1 Z3 Z4 Z5 Y6] +\n",
      "(0.037775178256100814+0j) [Y0 Y2] +\n",
      "(-0.009195742964429078+0j) [Y0 Z2 Z3 Y4] +\n",
      "(0.06584241123629447+0j) [Y0 Z2 Z3 Z4 Z5 Y6] +\n",
      "(0.13990631760825956+0j) [Z0] +\n",
      "(0.03777517825610082+0j) [Z0 X1 Z2 X3] +\n",
      "(-0.009195742964429078+0j) [Z0 X1 Z2 Z3 Z4 X5] +\n",
      "(0.06584241123629447+0j) [Z0 X1 Z2 Z3 Z4 Z5 Z6 X7] +\n",
      "(0.03777517825610082+0j) [Z0 Y1 Z2 Y3] +\n",
      "(-0.009195742964429078+0j) [Z0 Y1 Z2 Z3 Z4 Y5] +\n",
      "(0.06584241123629447+0j) [Z0 Y1 Z2 Z3 Z4 Z5 Z6 Y7] +\n",
      "(0.24991838793690804+0j) [Z0 Z1] +\n",
      "(-0.02284525875335133+0j) [Z0 X2 Z3 X4] +\n",
      "(-0.01803111421352894+0j) [Z0 X2 Z3 Z4 Z5 X6] +\n",
      "(-0.02284525875335133+0j) [Z0 Y2 Z3 Y4] +\n",
      "(-0.01803111421352894+0j) [Z0 Y2 Z3 Z4 Z5 Y6] +\n",
      "(0.11107234328900781+0j) [Z0 Z2] +\n",
      "(-0.035645193539788345+0j) [Z0 X3 Z4 X5] +\n",
      "(-0.04319076005342686+0j) [Z0 X3 Z4 Z5 Z6 X7] +\n",
      "(-0.035645193539788345+0j) [Z0 Y3 Z4 Y5] +\n",
      "(-0.04319076005342686+0j) [Z0 Y3 Z4 Z5 Z6 Y7] +\n",
      "(0.13688259770382286+0j) [Z0 Z3] +\n",
      "(0.004190195454530508+0j) [Z0 X4 Z5 X6] +\n",
      "(0.004190195454530508+0j) [Z0 Y4 Z5 Y6] +\n",
      "(0.1260266089945914+0j) [Z0 Z4] +\n",
      "(0.0032010905441677683+0j) [Z0 X5 Z6 X7] +\n",
      "(0.0032010905441677683+0j) [Z0 Y5 Z6 Y7] +\n",
      "(0.14314113781636606+0j) [Z0 Z5] +\n",
      "(0.17642194958972263+0j) [Z0 Z6] +\n",
      "(0.2311205153365719+0j) [Z0 Z7] +\n",
      "(-0.004766148105680643+0j) [X1 X2 Y3 Y4] +\n",
      "(0.009264702923307932+0j) [X1 X2 Y3 Z4 Z5 Y6] +\n",
      "(-0.01557830290356019+0j) [X1 X2 X4 X5] +\n",
      "(0.0025199408617298433+0j) [X1 X2 X4 Z5 Z6 X7] +\n",
      "(-0.004487804920348642+0j) [X1 X2 Y5 Y6] +\n",
      "(0.023750050221851206+0j) [X1 X2 X6 X7] +\n",
      "(0.004766148105680643+0j) [X1 Y2 Y3 X4] +\n",
      "(-0.009264702923307932+0j) [X1 Y2 Y3 Z4 Z5 X6] +\n",
      "(-0.01557830290356019+0j) [X1 Y2 Y4 X5] +\n",
      "(0.0025199408617298433+0j) [X1 Y2 Y4 Z5 Z6 X7] +\n",
      "(0.004487804920348642+0j) [X1 Y2 Y5 X6] +\n",
      "(0.023750050221851206+0j) [X1 Y2 Y6 X7] +\n",
      "(0.002577905179412126+0j) [X1 Z2 X3] +\n",
      "(0.008519234528352985+0j) [X1 Z2 X3 X4 Z5 X6] +\n",
      "(0.008519234528352985+0j) [X1 Z2 X3 Y4 Z5 Y6] +\n",
      "(-0.01683829191908305+0j) [X1 Z2 X3 Z4] +\n",
      "(0.011039175390082825+0j) [X1 Z2 X3 X5 Z6 X7] +\n",
      "(0.004031429608004342+0j) [X1 Z2 X3 Y5 Z6 Y7] +\n",
      "(-0.0012599890155228608+0j) [X1 Z2 X3 Z5] +\n",
      "(0.04260557457088657+0j) [X1 Z2 X3 Z6] +\n",
      "(0.018855524349035365+0j) [X1 Z2 X3 Z7] +\n",
      "(0.007007745782078484+0j) [X1 Z2 Y3 Y5 Z6 X7] +\n",
      "(-0.009043151009580938+0j) [X1 Z2 Z3 X4 Y5 Y6] +\n",
      "(0.0005041897522173774+0j) [X1 Z2 Z3 X4 X6 X7] +\n",
      "(0.009043151009580938+0j) [X1 Z2 Z3 Y4 Y5 X6] +\n",
      "(0.0005041897522173774+0j) [X1 Z2 Z3 Y4 Y6 X7] +\n",
      "(0.05776205910137885+0j) [X1 Z2 Z3 Z4 X5] +\n",
      "(-0.0002962126798685804+0j) [X1 Z2 Z3 Z4 X5 Z6] +\n",
      "(-0.0008004024320859579+0j) [X1 Z2 Z3 Z4 X5 Z7] +\n",
      "(-0.038660706668635754+0j) [X1 Z2 Z3 Z4 Z5 Z6 X7] +\n",
      "(0.07064370485657381+0j) [X1 Z2 Z3 Z4 Z5 X7] +\n",
      "(0.01317366900642512+0j) [X1 Z2 Z3 Z4 Z6 X7] +\n",
      "(-0.03282295150197555+0j) [X1 Z2 Z3 X5] +\n",
      "(0.004130517996844182+0j) [X1 Z2 Z3 Z5 Z6 X7] +\n",
      "(-0.014136043668789906+0j) [X1 Z2 Z4 X5] +\n",
      "(0.003645261543929798+0j) [X1 Z2 Z4 Z5 Z6 X7] +\n",
      "(-0.008165544677214424+0j) [X1 X3] +\n",
      "(-0.01890219177447055+0j) [X1 Z3 Z4 X5] +\n",
      "(0.01290996446723773+0j) [X1 Z3 Z4 Z5 Z6 X7] +\n",
      "(0.004766148105680643+0j) [Y1 X2 X3 Y4] +\n",
      "(-0.009264702923307932+0j) [Y1 X2 X3 Z4 Z5 Y6] +\n",
      "(-0.01557830290356019+0j) [Y1 X2 X4 Y5] +\n",
      "(0.0025199408617298433+0j) [Y1 X2 X4 Z5 Z6 Y7] +\n",
      "(0.004487804920348642+0j) [Y1 X2 X5 Y6] +\n",
      "(0.023750050221851206+0j) [Y1 X2 X6 Y7] +\n",
      "(-0.004766148105680643+0j) [Y1 Y2 X3 X4] +\n",
      "(0.009264702923307932+0j) [Y1 Y2 X3 Z4 Z5 X6] +\n",
      "(-0.01557830290356019+0j) [Y1 Y2 Y4 Y5] +\n",
      "(0.0025199408617298433+0j) [Y1 Y2 Y4 Z5 Z6 Y7] +\n",
      "(-0.004487804920348642+0j) [Y1 Y2 X5 X6] +\n",
      "(0.023750050221851206+0j) [Y1 Y2 Y6 Y7] +\n",
      "(0.007007745782078484+0j) [Y1 Z2 X3 X5 Z6 Y7] +\n",
      "(0.002577905179412126+0j) [Y1 Z2 Y3] +\n",
      "(0.008519234528352985+0j) [Y1 Z2 Y3 X4 Z5 X6] +\n",
      "(0.008519234528352985+0j) [Y1 Z2 Y3 Y4 Z5 Y6] +\n",
      "(-0.01683829191908305+0j) [Y1 Z2 Y3 Z4] +\n",
      "(0.004031429608004342+0j) [Y1 Z2 Y3 X5 Z6 X7] +\n",
      "(0.011039175390082825+0j) [Y1 Z2 Y3 Y5 Z6 Y7] +\n",
      "(-0.0012599890155228608+0j) [Y1 Z2 Y3 Z5] +\n",
      "(0.04260557457088657+0j) [Y1 Z2 Y3 Z6] +\n",
      "(0.018855524349035365+0j) [Y1 Z2 Y3 Z7] +\n",
      "(0.009043151009580938+0j) [Y1 Z2 Z3 X4 X5 Y6] +\n",
      "(0.0005041897522173774+0j) [Y1 Z2 Z3 X4 X6 Y7] +\n",
      "(-0.009043151009580938+0j) [Y1 Z2 Z3 Y4 X5 X6] +\n",
      "(0.0005041897522173774+0j) [Y1 Z2 Z3 Y4 Y6 Y7] +\n",
      "(0.05776205910137885+0j) [Y1 Z2 Z3 Z4 Y5] +\n",
      "(-0.0002962126798685804+0j) [Y1 Z2 Z3 Z4 Y5 Z6] +\n",
      "(-0.0008004024320859579+0j) [Y1 Z2 Z3 Z4 Y5 Z7] +\n",
      "(-0.038660706668635754+0j) [Y1 Z2 Z3 Z4 Z5 Z6 Y7] +\n",
      "(0.07064370485657381+0j) [Y1 Z2 Z3 Z4 Z5 Y7] +\n",
      "(0.01317366900642512+0j) [Y1 Z2 Z3 Z4 Z6 Y7] +\n",
      "(-0.03282295150197555+0j) [Y1 Z2 Z3 Y5] +\n",
      "(0.004130517996844182+0j) [Y1 Z2 Z3 Z5 Z6 Y7] +\n",
      "(-0.014136043668789906+0j) [Y1 Z2 Z4 Y5] +\n",
      "(0.003645261543929798+0j) [Y1 Z2 Z4 Z5 Z6 Y7] +\n",
      "(-0.008165544677214424+0j) [Y1 Y3] +\n",
      "(-0.01890219177447055+0j) [Y1 Z3 Z4 Y5] +\n",
      "(0.01290996446723773+0j) [Y1 Z3 Z4 Z5 Z6 Y7] +\n",
      "(0.13990631760825964+0j) [Z1] +\n",
      "(-0.035645193539788345+0j) [Z1 X2 Z3 X4] +\n",
      "(-0.04319076005342686+0j) [Z1 X2 Z3 Z4 Z5 X6] +\n",
      "(-0.035645193539788345+0j) [Z1 Y2 Z3 Y4] +\n",
      "(-0.04319076005342686+0j) [Z1 Y2 Z3 Z4 Z5 Y6] +\n",
      "(0.13688259770382286+0j) [Z1 Z2] +\n",
      "(-0.02284525875335133+0j) [Z1 X3 Z4 X5] +\n",
      "(-0.01803111421352894+0j) [Z1 X3 Z4 Z5 Z6 X7] +\n",
      "(-0.02284525875335133+0j) [Z1 Y3 Z4 Y5] +\n",
      "(-0.01803111421352894+0j) [Z1 Y3 Z4 Z5 Z6 Y7] +\n",
      "(0.11107234328900781+0j) [Z1 Z3] +\n",
      "(0.0032010905441677683+0j) [Z1 X4 Z5 X6] +\n",
      "(0.0032010905441677683+0j) [Z1 Y4 Z5 Y6] +\n",
      "(0.14314113781636606+0j) [Z1 Z4] +\n",
      "(0.004190195454530508+0j) [Z1 X5 Z6 X7] +\n",
      "(0.004190195454530508+0j) [Z1 Y5 Z6 Y7] +\n",
      "(0.1260266089945914+0j) [Z1 Z5] +\n",
      "(0.2311205153365719+0j) [Z1 Z6] +\n",
      "(0.17642194958972263+0j) [Z1 Z7] +\n",
      "(-0.02656252481213053+0j) [X2 X3 Y4 Y5] +\n",
      "(-0.009524965740543912+0j) [X2 X3 Y4 Z5 Z6 Y7] +\n",
      "(-0.009524965740543912+0j) [X2 X3 X5 X6] +\n",
      "(-0.015257972303396584+0j) [X2 X3 Y6 Y7] +\n",
      "(0.02656252481213053+0j) [X2 Y3 Y4 X5] +\n",
      "(0.009524965740543912+0j) [X2 Y3 Y4 Z5 Z6 X7] +\n",
      "(-0.009524965740543912+0j) [X2 Y3 Y5 X6] +\n",
      "(0.015257972303396584+0j) [X2 Y3 Y6 X7] +\n",
      "(0.061555459243433336+0j) [X2 Z3 X4] +\n",
      "(0.0049245567981602905+0j) [X2 Z3 X4 X5 Z6 X7] +\n",
      "(0.0049245567981602905+0j) [X2 Z3 X4 Y5 Z6 Y7] +\n",
      "(-0.04391861024579741+0j) [X2 Z3 X4 Z5] +\n",
      "(-0.024349063112351625+0j) [X2 Z3 X4 Z6] +\n",
      "(-0.0255382432156235+0j) [X2 Z3 X4 Z7] +\n",
      "(-0.0011891801032718782+0j) [X2 Z3 Z4 X5 Y6 Y7] +\n",
      "(0.0011891801032718782+0j) [X2 Z3 Z4 Y5 Y6 X7] +\n",
      "(0.02021832180252041+0j) [X2 Z3 Z4 Z5 X6] +\n",
      "(-0.04084731997672787+0j) [X2 Z3 Z4 Z5 X6 Z7] +\n",
      "(-0.01640464921011333+0j) [X2 Z3 Z4 X6] +\n",
      "(-0.011480092411953037+0j) [X2 Z3 Z5 X6] +\n",
      "(-0.026239994906975508+0j) [X2 X4] +\n",
      "(-0.012708134346713373+0j) [X2 Z4 Z5 X6] +\n",
      "(0.02656252481213053+0j) [Y2 X3 X4 Y5] +\n",
      "(0.009524965740543912+0j) [Y2 X3 X4 Z5 Z6 Y7] +\n",
      "(-0.009524965740543912+0j) [Y2 X3 X5 Y6] +\n",
      "(0.015257972303396584+0j) [Y2 X3 X6 Y7] +\n",
      "(-0.02656252481213053+0j) [Y2 Y3 X4 X5] +\n",
      "(-0.009524965740543912+0j) [Y2 Y3 X4 Z5 Z6 X7] +\n",
      "(-0.009524965740543912+0j) [Y2 Y3 Y5 Y6] +\n",
      "(-0.015257972303396584+0j) [Y2 Y3 X6 X7] +\n",
      "(0.061555459243433336+0j) [Y2 Z3 Y4] +\n",
      "(0.0049245567981602905+0j) [Y2 Z3 Y4 X5 Z6 X7] +\n",
      "(0.0049245567981602905+0j) [Y2 Z3 Y4 Y5 Z6 Y7] +\n",
      "(-0.04391861024579741+0j) [Y2 Z3 Y4 Z5] +\n",
      "(-0.024349063112351625+0j) [Y2 Z3 Y4 Z6] +\n",
      "(-0.0255382432156235+0j) [Y2 Z3 Y4 Z7] +\n",
      "(0.0011891801032718782+0j) [Y2 Z3 Z4 X5 X6 Y7] +\n",
      "(-0.0011891801032718782+0j) [Y2 Z3 Z4 Y5 X6 X7] +\n",
      "(0.02021832180252041+0j) [Y2 Z3 Z4 Z5 Y6] +\n",
      "(-0.04084731997672787+0j) [Y2 Z3 Z4 Z5 Y6 Z7] +\n",
      "(-0.01640464921011333+0j) [Y2 Z3 Z4 Y6] +\n",
      "(-0.011480092411953037+0j) [Y2 Z3 Z5 Y6] +\n",
      "(-0.026239994906975508+0j) [Y2 Y4] +\n",
      "(-0.012708134346713373+0j) [Y2 Z4 Z5 Y6] +\n",
      "(-0.2460736852001977+0j) [Z2] +\n",
      "(-0.026239994906975508+0j) [Z2 X3 Z4 X5] +\n",
      "(-0.012708134346713373+0j) [Z2 X3 Z4 Z5 Z6 X7] +\n",
      "(-0.026239994906975508+0j) [Z2 Y3 Z4 Y5] +\n",
      "(-0.012708134346713373+0j) [Z2 Y3 Z4 Z5 Z6 Y7] +\n",
      "(0.13657384315761126+0j) [Z2 Z3] +\n",
      "(-0.0006235414810886594+0j) [Z2 X4 Z5 X6] +\n",
      "(-0.0006235414810886594+0j) [Z2 Y4 Z5 Y6] +\n",
      "(0.11407664418119319+0j) [Z2 Z4] +\n",
      "(-0.010148507221632571+0j) [Z2 X5 Z6 X7] +\n",
      "(-0.010148507221632571+0j) [Z2 Y5 Z6 Y7] +\n",
      "(0.14063916899332374+0j) [Z2 Z5] +\n",
      "(0.10734715467055686+0j) [Z2 Z6] +\n",
      "(0.12260512697395344+0j) [Z2 Z7] +\n",
      "(-0.0049245567981602905+0j) [X3 X4 Y5 Y6] +\n",
      "(-0.0011891801032718782+0j) [X3 X4 X6 X7] +\n",
      "(0.0049245567981602905+0j) [X3 Y4 Y5 X6] +\n",
      "(-0.0011891801032718782+0j) [X3 Y4 Y6 X7] +\n",
      "(0.061555459243433364+0j) [X3 Z4 X5] +\n",
      "(-0.0255382432156235+0j) [X3 Z4 X5 Z6] +\n",
      "(-0.024349063112351625+0j) [X3 Z4 X5 Z7] +\n",
      "(0.02021832180252038+0j) [X3 Z4 Z5 Z6 X7] +\n",
      "(-0.04084731997672787+0j) [X3 Z4 Z5 X7] +\n",
      "(-0.011480092411953037+0j) [X3 Z4 Z6 X7] +\n",
      "(-0.04391861024579741+0j) [X3 X5] +\n",
      "(-0.01640464921011333+0j) [X3 Z5 Z6 X7] +\n",
      "(0.0049245567981602905+0j) [Y3 X4 X5 Y6] +\n",
      "(-0.0011891801032718782+0j) [Y3 X4 X6 Y7] +\n",
      "(-0.0049245567981602905+0j) [Y3 Y4 X5 X6] +\n",
      "(-0.0011891801032718782+0j) [Y3 Y4 Y6 Y7] +\n",
      "(0.061555459243433364+0j) [Y3 Z4 Y5] +\n",
      "(-0.0255382432156235+0j) [Y3 Z4 Y5 Z6] +\n",
      "(-0.024349063112351625+0j) [Y3 Z4 Y5 Z7] +\n",
      "(0.02021832180252038+0j) [Y3 Z4 Z5 Z6 Y7] +\n",
      "(-0.04084731997672787+0j) [Y3 Z4 Z5 Y7] +\n",
      "(-0.011480092411953037+0j) [Y3 Z4 Z6 Y7] +\n",
      "(-0.04391861024579741+0j) [Y3 Y5] +\n",
      "(-0.01640464921011333+0j) [Y3 Z5 Z6 Y7] +\n",
      "(-0.2460736852001977+0j) [Z3] +\n",
      "(-0.010148507221632571+0j) [Z3 X4 Z5 X6] +\n",
      "(-0.010148507221632571+0j) [Z3 Y4 Z5 Y6] +\n",
      "(0.14063916899332374+0j) [Z3 Z4] +\n",
      "(-0.0006235414810886594+0j) [Z3 X5 Z6 X7] +\n",
      "(-0.0006235414810886594+0j) [Z3 Y5 Z6 Y7] +\n",
      "(0.11407664418119319+0j) [Z3 Z5] +\n",
      "(0.12260512697395344+0j) [Z3 Z6] +\n",
      "(0.10734715467055686+0j) [Z3 Z7] +\n",
      "(-0.007546384867913551+0j) [X4 X5 Y6 Y7] +\n",
      "(0.007546384867913551+0j) [X4 Y5 Y6 X7] +\n",
      "(0.025076832570125128+0j) [X4 Z5 X6] +\n",
      "(0.007525507498881586+0j) [X4 Z5 X6 Z7] +\n",
      "(-0.014439005534589619+0j) [X4 X6] +\n",
      "(0.007546384867913551+0j) [Y4 X5 X6 Y7] +\n",
      "(-0.007546384867913551+0j) [Y4 Y5 X6 X7] +\n",
      "(0.025076832570125128+0j) [Y4 Z5 Y6] +\n",
      "(0.007525507498881586+0j) [Y4 Z5 Y6 Z7] +\n",
      "(-0.014439005534589619+0j) [Y4 Y6] +\n",
      "(-0.6730850144698557+0j) [Z4] +\n",
      "(-0.014439005534589619+0j) [Z4 X5 Z6 X7] +\n",
      "(-0.014439005534589619+0j) [Z4 Y5 Z6 Y7] +\n",
      "(0.17095384888864082+0j) [Z4 Z5] +\n",
      "(0.11356297243590335+0j) [Z4 Z6] +\n",
      "(0.12110935730381692+0j) [Z4 Z7] +\n",
      "(0.02507683257012513+0j) [X5 Z6 X7] +\n",
      "(0.007525507498881586+0j) [X5 X7] +\n",
      "(0.02507683257012513+0j) [Y5 Z6 Y7] +\n",
      "(0.007525507498881586+0j) [Y5 Y7] +\n",
      "(-0.6730850144698557+0j) [Z5] +\n",
      "(0.12110935730381692+0j) [Z5 Z6] +\n",
      "(0.11356297243590335+0j) [Z5 Z7] +\n",
      "(-1.1402165324907312+0j) [Z6] +\n",
      "(0.23196260932848445+0j) [Z6 Z7] +\n",
      "(-1.1402165324907312+0j) [Z7] \n",
      "\n"
     ]
    },
    {
     "name": "stdout",
     "output_type": "stream",
     "text": [
      "UCCSD ansatz: \n",
      " 0.006478936130102838j [X0 X1 X2 Y3] +\n",
      "0.006478936130102838j [X0 X1 Y2 X3] +\n",
      "0.0020562744029710704j [X0 X1 X4 Y5] +\n",
      "0.0020562744029710704j [X0 X1 Y4 X5] +\n",
      "0.005083283191416048j [X0 X1 X6 Y7] +\n",
      "0.005083283191416048j [X0 X1 Y6 X7] +\n",
      "-0.006478936130102838j [X0 Y1 X2 X3] +\n",
      "0.006478936130102838j [X0 Y1 Y2 Y3] +\n",
      "-0.0020562744029710704j [X0 Y1 X4 X5] +\n",
      "0.0020562744029710704j [X0 Y1 Y4 Y5] +\n",
      "-0.005083283191416048j [X0 Y1 X6 X7] +\n",
      "0.005083283191416048j [X0 Y1 Y6 Y7] +\n",
      "-0.006360390047729467j [X0 Z1 Y2] +\n",
      "-0.002645411873769119j [X0 Z1 Z2 Z3 Y4] +\n",
      "0.0009221551709274561j [X0 Z1 Z2 Z3 Z4 Z5 Y6] +\n",
      "-0.006478936130102838j [Y0 X1 X2 X3] +\n",
      "0.006478936130102838j [Y0 X1 Y2 Y3] +\n",
      "-0.0020562744029710704j [Y0 X1 X4 X5] +\n",
      "0.0020562744029710704j [Y0 X1 Y4 Y5] +\n",
      "-0.005083283191416048j [Y0 X1 X6 X7] +\n",
      "0.005083283191416048j [Y0 X1 Y6 Y7] +\n",
      "-0.006478936130102838j [Y0 Y1 X2 Y3] +\n",
      "-0.006478936130102838j [Y0 Y1 Y2 X3] +\n",
      "-0.0020562744029710704j [Y0 Y1 X4 Y5] +\n",
      "-0.0020562744029710704j [Y0 Y1 Y4 X5] +\n",
      "-0.005083283191416048j [Y0 Y1 X6 Y7] +\n",
      "-0.005083283191416048j [Y0 Y1 Y6 X7] +\n",
      "0.006360390047729467j [Y0 Z1 X2] +\n",
      "0.002645411873769119j [Y0 Z1 Z2 Z3 X4] +\n",
      "-0.0009221551709274561j [Y0 Z1 Z2 Z3 Z4 Z5 X6] +\n",
      "-0.006360390047729467j [X1 Z2 Y3] +\n",
      "-0.002645411873769119j [X1 Z2 Z3 Z4 Y5] +\n",
      "0.0009221551709274561j [X1 Z2 Z3 Z4 Z5 Z6 Y7] +\n",
      "0.006360390047729467j [Y1 Z2 X3] +\n",
      "0.002645411873769119j [Y1 Z2 Z3 Z4 X5] +\n",
      "-0.0009221551709274561j [Y1 Z2 Z3 Z4 Z5 Z6 X7]\n"
     ]
    }
   ],
   "source": [
    "import openfermion\n",
    "import openfermionpyscf\n",
    "from openfermion import MolecularData\n",
    "from openfermionpyscf import run_pyscf\n",
    "from openfermion.ops import FermionOperator, QubitOperator\n",
    "from openfermion.transforms import jordan_wigner, bravyi_kitaev\n",
    "from openfermion.transforms import get_fermion_operator\n",
    "from openfermion.circuits import (uccsd_singlet_get_packed_amplitudes,\n",
    "                               uccsd_singlet_generator, uccsd_generator,\n",
    "                               uccsd_convert_amplitude_format)\n",
    "import numpy as np\n",
    "import cs_vqe as c\n",
    "import itertools\n",
    "import qubit_conversion as q_conv\n",
    "\n",
    "singlet_bool = True # Set general UCCSD or singlet UCCSD.\n",
    "\n",
    "bond_len = 0.772#1.45\n",
    "atom_1 = 'He'\n",
    "atom_2 = 'H'\n",
    "basis = '3-21g'\n",
    "multiplicity = 1\n",
    "charge = 1\n",
    "\n",
    "coordinate_1 = (0.0, 0.0, 0.0)\n",
    "coordinate_2 = (0.0, 0.0, bond_len)\n",
    "geometry = [(atom_1, coordinate_1), (atom_2, coordinate_2)]\n",
    "\n",
    "molecule_data = MolecularData(geometry, basis, multiplicity, charge, description='Test')\n",
    "#molecule.load()\n",
    "\n",
    "# Set calculation parameters.\n",
    "run_scf = 1\n",
    "run_mp2 = 1\n",
    "run_cisd = 0\n",
    "run_ccsd = 0\n",
    "run_fci = 1\n",
    "delete_input = True\n",
    "delete_output = True\n",
    "\n",
    "# Run pyscf.\n",
    "molecule = run_pyscf(molecule_data,\n",
    "                     run_scf=run_scf,\n",
    "                     run_mp2=run_mp2,\n",
    "                     run_cisd=run_cisd,\n",
    "                     run_ccsd=run_ccsd,\n",
    "                     run_fci=run_fci)\n",
    "\n",
    "#molecule.load()\n",
    "#print(molecule)\n",
    "\n",
    "ham = get_fermion_operator(molecule.get_molecular_hamiltonian())\n",
    "ham_q = jordan_wigner(ham)\n",
    "print('Hamiltonian:', '\\n', ham_q, '\\n')\n",
    "\n",
    "scf = True      # Hartree-Fock.\n",
    "mp2 = True      # Moller-Plesset 2.\n",
    "cisd = True     # Configuration interaction singles and doubles.\n",
    "ccsd = True     # Coupled cluster singles and doubles.\n",
    "fci = True      # Full configuration interaction.\n",
    "\n",
    "calculated_molecule = run_pyscf(molecule_data, scf, mp2, cisd, ccsd, fci)\n",
    "\n",
    "if ccsd:\n",
    "    ccsd_single_amps = calculated_molecule.ccsd_single_amps\n",
    "    ccsd_double_amps = calculated_molecule.ccsd_double_amps\n",
    "\n",
    "num_electrons = calculated_molecule.n_electrons\n",
    "num_qubits = 2*calculated_molecule.n_orbitals\n",
    "\n",
    "if singlet_bool:\n",
    "    # Get singlet UCCSD generator.\n",
    "    packed_amps = uccsd_singlet_get_packed_amplitudes(ccsd_single_amps,  ccsd_double_amps, num_qubits, num_electrons)\n",
    "    ucc_sing = uccsd_singlet_generator(packed_amps, num_qubits, num_electrons)\n",
    "    #print(ucc_sing)\n",
    "\n",
    "else:\n",
    "    # Get general UCCSD operator.\n",
    "    ucc_op = uccsd_generator(ccsd_single_amps, ccsd_double_amps)\n",
    "    #print(ucc_op)\n",
    "    \n",
    "ucc_q = jordan_wigner(ucc_sing)\n",
    "print('UCCSD ansatz:', '\\n', ucc_q)"
   ]
  },
  {
   "cell_type": "code",
   "execution_count": 57,
   "metadata": {},
   "outputs": [
    {
     "data": {
      "text/plain": [
       "True"
      ]
     },
     "execution_count": 57,
     "metadata": {},
     "output_type": "execute_result"
    }
   ],
   "source": [
    "ham = q_conv.QubitOperator_to_dict(ham_q, num_qubits)\n",
    "anz_terms = list((q_conv.QubitOperator_to_dict(ucc_q, num_qubits)).keys())\n",
    "terms_noncon = c.greedy_dfs(ham, 1, criterion='weight')[-1]\n",
    "ham_noncon = {t:ham[t] for t in terms_noncon}\n",
    "#ham_noncon\n",
    "terms_context = list(ham.keys() - terms_noncon)\n",
    "ham_context = {t:ham[t] for t in terms_context}\n",
    "#ham_context\n",
    "c.contextualQ_ham(ham_context)"
   ]
  },
  {
   "cell_type": "code",
   "execution_count": 58,
   "metadata": {},
   "outputs": [
    {
     "name": "stdout",
     "output_type": "stream",
     "text": [
      "[-3.16676548]\n"
     ]
    }
   ],
   "source": [
    "from qiskit.aqua.algorithms import NumPyEigensolver\n",
    "\n",
    "result = NumPyEigensolver(q_conv.dict_to_WeightedPauliOperator(ham)).run()\n",
    "true_gs = np.real(result.eigenvalues)\n",
    "\n",
    "print(true_gs)"
   ]
  },
  {
   "cell_type": "code",
   "execution_count": 59,
   "metadata": {},
   "outputs": [
    {
     "data": {
      "text/plain": [
       "[array([-3.16676548]),\n",
       " [-3.142824749268174,\n",
       "  -3.151872881862979,\n",
       "  -3.151872881862984,\n",
       "  -3.1557103882871225,\n",
       "  -3.159114851913751,\n",
       "  -3.1591148519137566,\n",
       "  -3.1619490056505186,\n",
       "  -3.1667654772544034,\n",
       "  -3.1667654772544074],\n",
       " [array([0.02394073]),\n",
       "  array([0.0148926]),\n",
       "  array([0.0148926]),\n",
       "  array([0.01105509]),\n",
       "  array([0.00765063]),\n",
       "  array([0.00765063]),\n",
       "  array([0.00481647]),\n",
       "  array([-1.77635684e-15]),\n",
       "  array([-5.77315973e-15])],\n",
       " [6, 2, 0, 4, 1, 3, 5, 7]]"
      ]
     },
     "execution_count": 59,
     "metadata": {},
     "output_type": "execute_result"
    }
   ],
   "source": [
    "model = c.quasi_model(ham_noncon)\n",
    "fn_form = c.energy_function_form(ham_noncon, model)\n",
    "gs_noncon = c.find_gs_noncon(ham_noncon)\n",
    "gs_noncon_energy = gs_noncon[0]\n",
    "ep_state = gs_noncon[1]\n",
    "ham_context = {p:c for p,c in ham.items() if p not in ham_noncon}\n",
    "c.csvqe_approximations_heuristic(ham, ham_noncon, num_qubits, true_gs)\n",
    "#c.contextualQ_ham(ham_context)"
   ]
  },
  {
   "cell_type": "code",
   "execution_count": 61,
   "metadata": {},
   "outputs": [
    {
     "data": {
      "text/plain": [
       "((['ZIIIIIZI',\n",
       "   'IZIIIIIZ',\n",
       "   'IIZIIIII',\n",
       "   'IIIZIIII',\n",
       "   'IIIIZIII',\n",
       "   'IIIIIZII',\n",
       "   'IIIIIIIZ'],\n",
       "  ['YZZZZZYZ', 'IIIIIIZI']),\n",
       " -3.1428247492681742,\n",
       " [[-1, -1, 1, -1, 1, 1, 1], [0.04017214144809311, 0.9991927737186025]])"
      ]
     },
     "execution_count": 61,
     "metadata": {},
     "output_type": "execute_result"
    }
   ],
   "source": [
    "model[0:2], gs_noncon_energy, ep_state"
   ]
  },
  {
   "cell_type": "markdown",
   "metadata": {},
   "source": [
    "# The epistemic state defines a classical probability distribution:"
   ]
  },
  {
   "cell_type": "code",
   "execution_count": 62,
   "metadata": {},
   "outputs": [],
   "source": [
    "def ontic_prob(ep_state, ontic_state):\n",
    "    \n",
    "    if ep_state[0] != ontic_state[0]:\n",
    "        return 0\n",
    "    \n",
    "    else:\n",
    "        prod = 1\n",
    "        for index, r in enumerate(ep_state[1]):\n",
    "            f = 1/2 * abs(r + ontic_state[1][index])\n",
    "            prod *= f\n",
    "        \n",
    "        return prod    \n",
    "\n",
    "def epistemic_dist(ep_state):\n",
    "    size_G = len(ep_state[0])\n",
    "    size_Ci = len(ep_state[1])\n",
    "    size_R = size_G + size_Ci\n",
    "    \n",
    "    ep_prob = {}\n",
    "    \n",
    "    ontic_states = list(itertools.product([1, -1], repeat=size_R))\n",
    "    \n",
    "    for o in ontic_states:\n",
    "        o_state = [list(o[0:size_G]), list(o[size_G:size_R])]\n",
    "        o_prob = ontic_prob(ep_state, o_state)\n",
    "        \n",
    "        if o_prob != 0:\n",
    "            ep_prob[o] = o_prob\n",
    "    \n",
    "    return ep_prob"
   ]
  },
  {
   "cell_type": "code",
   "execution_count": 63,
   "metadata": {},
   "outputs": [
    {
     "data": {
      "text/plain": [
       "{(-1, -1, 1, -1, 1, 1, 1, 1, 1): 0.519876157151608,\n",
       " (-1, -1, 1, -1, 1, 1, 1, 1, -1): 0.00020991357243860741,\n",
       " (-1, -1, 1, -1, 1, 1, 1, -1, 1): 0.4797202297076933,\n",
       " (-1, -1, 1, -1, 1, 1, 1, -1, -1): 0.0001936995682601479}"
      ]
     },
     "execution_count": 63,
     "metadata": {},
     "output_type": "execute_result"
    }
   ],
   "source": [
    "epistemic_dist(ep_state)"
   ]
  },
  {
   "cell_type": "markdown",
   "metadata": {},
   "source": [
    "# Find a simultaneous eigenstate of the operators G_i and A:"
   ]
  },
  {
   "cell_type": "code",
   "execution_count": 323,
   "metadata": {},
   "outputs": [
    {
     "name": "stdout",
     "output_type": "stream",
     "text": [
      "['I', 'I', 0, 1, 0, 0, 'I', 0]\n",
      "['01010010', '11010000']\n"
     ]
    }
   ],
   "source": [
    "from copy import deepcopy\n",
    "\n",
    "G = model[0]\n",
    "fixed_qubits = ['I' for i in range(num_qubits)]\n",
    "basis_ops = []\n",
    "mult_Z_indices = []\n",
    "\n",
    "for index, g in enumerate(G):\n",
    "    Z_indices = [i for i, p in enumerate(list(g)) if p == 'Z']\n",
    "    if len(Z_indices) == 1:\n",
    "        if ep_state[0][index] == -1:\n",
    "            fixed_qubits[Z_indices[0]] = 1\n",
    "        else:\n",
    "            fixed_qubits[Z_indices[0]] = 0\n",
    "    else:\n",
    "        mult_Z_indices.append([ep_state[0][index], Z_indices])\n",
    "        \n",
    "print(fixed_qubits)\n",
    "\n",
    "for Z_indices in mult_Z_indices:\n",
    "    Z0, Z1 = Z_indices[1][0], Z_indices[1][1] \n",
    "    q0, q1 = fixed_qubits[Z0], fixed_qubits[Z1]\n",
    "    \n",
    "    if q0 != q1:\n",
    "        if q0 != 'I':\n",
    "            if Z_indices[0] == -1:\n",
    "                fixed_qubits[Z1] = (q0+1)%2\n",
    "            else:\n",
    "                fixed_qubits[Z1] = q0\n",
    "        else:\n",
    "            if Z_indices[0] == -1:\n",
    "                fixed_qubits[Z0] = (q1+1)%2\n",
    "            else:\n",
    "                fixed_qubits[Z0] = q1\n",
    "        mult_Z_indices.remove(Z_indices)\n",
    "            \n",
    "for Z_indices in mult_Z_indices:\n",
    "    if Z_indices[0] == -1:\n",
    "        fixed = deepcopy(fixed_qubits)\n",
    "        fixed[Z_indices[1][0]] = 0\n",
    "        fixed[Z_indices[1][1]] = 1\n",
    "        fixed = [str(i) for i in fixed]\n",
    "        basis_ops.append(''.join(fixed))\n",
    "        \n",
    "        fixed = deepcopy(fixed_qubits)\n",
    "        fixed[Z_indices[1][0]] = 1\n",
    "        fixed[Z_indices[1][1]] = 0\n",
    "        fixed = [str(i) for i in fixed]\n",
    "        basis_ops.append(''.join(fixed))\n",
    "    \n",
    "print(basis_ops)"
   ]
  },
  {
   "cell_type": "markdown",
   "metadata": {},
   "source": [
    "# Construct +1-Eigenstates of A(r)"
   ]
  },
  {
   "cell_type": "code",
   "execution_count": 65,
   "metadata": {},
   "outputs": [
    {
     "data": {
      "text/plain": [
       "(0.04017214144809311, 0.9991927737186025)"
      ]
     },
     "execution_count": 65,
     "metadata": {},
     "output_type": "execute_result"
    }
   ],
   "source": [
    "r1 = ep_state[1][0]\n",
    "r2 = ep_state[1][1]\n",
    "#t = np.arctan((r2 + 1) / r1)\n",
    "r1, r2"
   ]
  },
  {
   "cell_type": "code",
   "execution_count": 230,
   "metadata": {},
   "outputs": [],
   "source": [
    "import itertools\n",
    "from copy import deepcopy\n",
    "\n",
    "def bin_to_int(bits):\n",
    "    bit_string = deepcopy(bits)\n",
    "    \n",
    "    if type(bit_string) == str:\n",
    "        bit_string = [int(b) for b in bit_string]\n",
    "        \n",
    "    for index, b in enumerate(bit_string):\n",
    "        bit_string[index] = b * 2 ** (len(bit_string)-index-1)\n",
    "    \n",
    "    return sum(bit_string)\n",
    "\n",
    "\n",
    "def add_eigenstate(r1, r2, index, theta, n, num_qubits):\n",
    "    \"\"\"\n",
    "    \"\"\"\n",
    "    B = list(itertools.product([0,1], repeat=num_qubits))\n",
    "    b1 = list(B[index])\n",
    "    b2 = deepcopy(b1)\n",
    "    b2[0] = (b2[0]+1)%2\n",
    "    b2[6] = (b2[6]+1)%2\n",
    "    i1 = bin_to_int(b1)\n",
    "    i2 = bin_to_int(b2)\n",
    "    \n",
    "    parity=sum(b1)\n",
    "    q1 = b1[6]\n",
    "    \n",
    "    amp_ratio = (1 + r2 * (-1)**q1) / (r1 * (-1)**(1 + parity))\n",
    "    t = ((-1)**n)*np.arctan(amp_ratio)\n",
    "    \n",
    "    psi = [0 for i in range(2**num_qubits)]\n",
    "    psi[i1] = np.sin(t)*np.exp(1j*theta)\n",
    "    psi[i2] = np.cos(t)*np.exp(1j*(theta - n*np.pi))\n",
    "\n",
    "    return np.array(psi)\n",
    "\n",
    "#psi = add_eigenstate(r1=r1, r2=r2, index=82, num_qubits=num_qubits)"
   ]
  },
  {
   "cell_type": "code",
   "execution_count": 330,
   "metadata": {
    "scrolled": true
   },
   "outputs": [
    {
     "ename": "TypeError",
     "evalue": "'float' object cannot be interpreted as an integer",
     "output_type": "error",
     "traceback": [
      "\u001b[0;31m---------------------------------------------------------------------------\u001b[0m",
      "\u001b[0;31mTypeError\u001b[0m                                 Traceback (most recent call last)",
      "\u001b[0;32m<ipython-input-330-86af1a2dd837>\u001b[0m in \u001b[0;36m<module>\u001b[0;34m()\u001b[0m\n\u001b[1;32m      6\u001b[0m \u001b[0;34m\u001b[0m\u001b[0m\n\u001b[1;32m      7\u001b[0m \u001b[0;31m#take expectation value algebraically\u001b[0m\u001b[0;34m\u001b[0m\u001b[0;34m\u001b[0m\u001b[0m\n\u001b[0;32m----> 8\u001b[0;31m \u001b[0;32mfor\u001b[0m \u001b[0mt\u001b[0m \u001b[0;32min\u001b[0m \u001b[0mnp\u001b[0m\u001b[0;34m.\u001b[0m\u001b[0mlinspace\u001b[0m\u001b[0;34m(\u001b[0m\u001b[0;36m0\u001b[0m\u001b[0;34m,\u001b[0m \u001b[0;36m3\u001b[0m\u001b[0;34m,\u001b[0m \u001b[0;36m0.1\u001b[0m\u001b[0;34m)\u001b[0m\u001b[0;34m:\u001b[0m\u001b[0;34m\u001b[0m\u001b[0m\n\u001b[0m\u001b[1;32m      9\u001b[0m     \u001b[0mH\u001b[0m \u001b[0;34m=\u001b[0m \u001b[0mLinearQubitOperator\u001b[0m\u001b[0;34m(\u001b[0m\u001b[0mham_context_q\u001b[0m\u001b[0;34m,\u001b[0m \u001b[0mnum_qubits\u001b[0m\u001b[0;34m)\u001b[0m\u001b[0;34m\u001b[0m\u001b[0m\n\u001b[1;32m     10\u001b[0m     \u001b[0mpsi\u001b[0m \u001b[0;34m=\u001b[0m \u001b[0madd_eigenstate\u001b[0m\u001b[0;34m(\u001b[0m\u001b[0mr1\u001b[0m\u001b[0;34m=\u001b[0m\u001b[0mr1\u001b[0m\u001b[0;34m,\u001b[0m \u001b[0mr2\u001b[0m\u001b[0;34m=\u001b[0m\u001b[0mr2\u001b[0m\u001b[0;34m,\u001b[0m \u001b[0mindex\u001b[0m\u001b[0;34m=\u001b[0m\u001b[0;36m82\u001b[0m\u001b[0;34m,\u001b[0m \u001b[0mtheta\u001b[0m\u001b[0;34m=\u001b[0m\u001b[0mt\u001b[0m\u001b[0;34m,\u001b[0m \u001b[0mn\u001b[0m\u001b[0;34m=\u001b[0m\u001b[0;36m0\u001b[0m\u001b[0;34m,\u001b[0m \u001b[0mnum_qubits\u001b[0m\u001b[0;34m=\u001b[0m\u001b[0mnum_qubits\u001b[0m\u001b[0;34m)\u001b[0m\u001b[0;34m\u001b[0m\u001b[0m\n",
      "\u001b[0;32m<__array_function__ internals>\u001b[0m in \u001b[0;36mlinspace\u001b[0;34m(*args, **kwargs)\u001b[0m\n",
      "\u001b[0;32m~/anaconda3/lib/python3.7/site-packages/numpy/core/function_base.py\u001b[0m in \u001b[0;36mlinspace\u001b[0;34m(start, stop, num, endpoint, retstep, dtype, axis)\u001b[0m\n\u001b[1;32m    118\u001b[0m \u001b[0;34m\u001b[0m\u001b[0m\n\u001b[1;32m    119\u001b[0m     \"\"\"\n\u001b[0;32m--> 120\u001b[0;31m     \u001b[0mnum\u001b[0m \u001b[0;34m=\u001b[0m \u001b[0moperator\u001b[0m\u001b[0;34m.\u001b[0m\u001b[0mindex\u001b[0m\u001b[0;34m(\u001b[0m\u001b[0mnum\u001b[0m\u001b[0;34m)\u001b[0m\u001b[0;34m\u001b[0m\u001b[0m\n\u001b[0m\u001b[1;32m    121\u001b[0m     \u001b[0;32mif\u001b[0m \u001b[0mnum\u001b[0m \u001b[0;34m<\u001b[0m \u001b[0;36m0\u001b[0m\u001b[0;34m:\u001b[0m\u001b[0;34m\u001b[0m\u001b[0m\n\u001b[1;32m    122\u001b[0m         \u001b[0;32mraise\u001b[0m \u001b[0mValueError\u001b[0m\u001b[0;34m(\u001b[0m\u001b[0;34m\"Number of samples, %s, must be non-negative.\"\u001b[0m \u001b[0;34m%\u001b[0m \u001b[0mnum\u001b[0m\u001b[0;34m)\u001b[0m\u001b[0;34m\u001b[0m\u001b[0m\n",
      "\u001b[0;31mTypeError\u001b[0m: 'float' object cannot be interpreted as an integer"
     ]
    }
   ],
   "source": [
    "from openfermion.linalg import LinearQubitOperator\n",
    "\n",
    "ham_q = q_conv.dict_to_QubitOperator(ham, num_qubits)\n",
    "ham_noncon_q = q_conv.dict_to_QubitOperator(ham_noncon, num_qubits)\n",
    "ham_context_q = q_conv.dict_to_QubitOperator(ham_context, num_qubits)\n",
    "\n",
    "#take expectation value algebraically\n",
    "for t in np.linspace(0, 3, 0.1):\n",
    "    H = LinearQubitOperator(ham_context_q, num_qubits)\n",
    "    psi = add_eigenstate(r1=r1, r2=r2, index=82, theta=t, n=0, num_qubits=num_qubits)\n",
    "    psi_conj = np.conjugate(psi)\n",
    "\n",
    "    H_psi = H.matvec(psi)\n",
    "    expect = psi_conj.dot(H_psi)\n",
    "\n",
    "    print('<H> w.r.t. simultaneous eigenstate:', expect)\n",
    "    print('Noncontextual approximation:', gs_noncon_energy)\n",
    "    print('Expectation values match?', abs(expect - gs_noncon_energy) < 10**-12) #sanity check - expectation values match?"
   ]
  },
  {
   "cell_type": "code",
   "execution_count": 303,
   "metadata": {},
   "outputs": [
    {
     "name": "stderr",
     "output_type": "stream",
     "text": [
      "/home/tim/anaconda3/lib/python3.7/site-packages/numpy/core/_asarray.py:102: ComplexWarning: Casting complex values to real discards the imaginary part\n",
      "  return array(a, dtype, copy=False, order=order)\n"
     ]
    },
    {
     "data": {
      "image/png": "[encoded data removed]",
      "text/plain": [
       "<Figure size 432x288 with 1 Axes>"
      ]
     },
     "metadata": {
      "needs_background": "light"
     },
     "output_type": "display_data"
    }
   ],
   "source": [
    "from matplotlib import pyplot as plt\n",
    "\n",
    "X=[]\n",
    "Y=[]\n",
    "\n",
    "H = LinearQubitOperator(ham_q, num_qubits)\n",
    "\n",
    "for i in range(2**(num_qubits-1)):\n",
    "    X.append(i)\n",
    "    psi = add_eigenstate(r1=r1, r2=r2, index=i, theta=0, n=0, num_qubits=num_qubits)\n",
    "    psi_conj = np.conjugate(psi)\n",
    "    \n",
    "    H_psi = H.matvec(psi)\n",
    "    expect = psi_conj.dot(H_psi)\n",
    "    Y.append(expect)\n",
    "\n",
    "plt.plot(X, Y)\n",
    "plt.hlines(gs_noncon_energy, 0, 127, color='r')\n",
    "plt.show()"
   ]
  },
  {
   "cell_type": "code",
   "execution_count": 304,
   "metadata": {},
   "outputs": [],
   "source": [
    "import math\n",
    "\n",
    "def random_vector(n):\n",
    "    components = [np.random.normal() for i in range(n)]\n",
    "    r = math.sqrt(sum(x*x for x in components))\n",
    "    v = [x/r for x in components]\n",
    "    return v"
   ]
  },
  {
   "cell_type": "code",
   "execution_count": 321,
   "metadata": {},
   "outputs": [
    {
     "name": "stderr",
     "output_type": "stream",
     "text": [
      "/home/tim/anaconda3/lib/python3.7/site-packages/numpy/core/_asarray.py:102: ComplexWarning: Casting complex values to real discards the imaginary part\n",
      "  return array(a, dtype, copy=False, order=order)\n"
     ]
    },
    {
     "data": {
      "text/plain": [
       "<matplotlib.collections.LineCollection at 0x7f725b6ce128>"
      ]
     },
     "execution_count": 321,
     "metadata": {},
     "output_type": "execute_result"
    },
    {
     "data": {
      "image/png": "[encoded data removed]",
      "text/plain": [
       "<Figure size 432x288 with 1 Axes>"
      ]
     },
     "metadata": {
      "needs_background": "light"
     },
     "output_type": "display_data"
    }
   ],
   "source": [
    "#take expectation value algebraically\n",
    "shots=100\n",
    "\n",
    "H = LinearQubitOperator(ham_q, num_qubits)\n",
    "X=[random_vector(5) for i in range(shots)]\n",
    "indices = [83, 84, 85, 127, 82]\n",
    "Y=[]\n",
    "\n",
    "A_op = QubitOperator('Y0 Z1 Z2 Z3 Z4 Z5 Y6 Z7', r1) + QubitOperator('Z6', r2)\n",
    "A = LinearQubitOperator(A_op, num_qubits)\n",
    "\n",
    "for p in X:\n",
    "    psi = np.array([0 for i in range(2**num_qubits)], dtype=complex)\n",
    "    for index, i in enumerate(indices):\n",
    "        psi += (p[index])*add_eigenstate(r1=r1, r2=r2, theta=2*i, n=i, index=i, num_qubits=num_qubits)\n",
    "    psi_conj = np.conjugate(psi)\n",
    "    \n",
    "    H_psi = H.matvec(psi)\n",
    "    expect = psi_conj.dot(H_psi)\n",
    "    Y.append(expect)\n",
    "    \n",
    "    #Verify +1-eigenstate\n",
    "    #A_psi = A.matvec(psi)\n",
    "    #print(psi_conj.dot(A_psi))\n",
    "\n",
    "plt.plot(range(shots), Y)\n",
    "plt.hlines(gs_noncon_energy, 0, 10, color='r')\n",
    "#print('<H> w.r.t. simultaneous eigenstate:', expect)\n",
    "#print('Noncontextual approximation:', gs_noncon_energy)\n",
    "#print('Expectation values match?', abs(expect - gs_noncon_energy) < 10**-12) #sanity check - expectation values match? "
   ]
  },
  {
   "cell_type": "markdown",
   "metadata": {},
   "source": [
    "# Do we have any quantum corrections?"
   ]
  },
  {
   "cell_type": "code",
   "execution_count": 52,
   "metadata": {},
   "outputs": [
    {
     "data": {
      "text/plain": [
       "['ZIIIIIIIII',\n",
       " 'IZIIIIIIII',\n",
       " 'IIZIIIIIII',\n",
       " 'IIIZIIIIII',\n",
       " 'IIIIZIIIII',\n",
       " 'IIIIIIZIII',\n",
       " 'IIIIIIIZII',\n",
       " 'IIIIIIIIZI',\n",
       " 'IIIIIIIIIZ']"
      ]
     },
     "execution_count": 52,
     "metadata": {},
     "output_type": "execute_result"
    }
   ],
   "source": [
    "G = model[0]\n",
    "terms_context = list(ham_context.keys())\n",
    "G"
   ]
  },
  {
   "cell_type": "code",
   "execution_count": 53,
   "metadata": {},
   "outputs": [
    {
     "name": "stdout",
     "output_type": "stream",
     "text": [
      "No quantum correction\n"
     ]
    }
   ],
   "source": [
    "q_corr_terms = []\n",
    "for t in terms_context:\n",
    "    commutes = []\n",
    "    for g in G:\n",
    "        if c.commute(t, g):\n",
    "            commutes.append(g)\n",
    "    #print(t, 'commutes with the noncontextual generators:', commutes)\n",
    "    if commutes == G:\n",
    "        q_corr_terms.append(t)\n",
    "        \n",
    "if q_corr_terms == []:\n",
    "    print('No quantum correction')\n",
    "else:\n",
    "    print('Terms admitting quantum correction:', q_corr_terms)"
   ]
  },
  {
   "cell_type": "code",
   "execution_count": 54,
   "metadata": {},
   "outputs": [],
   "source": [
    "#psi2 = [0 for i in range(2**num_qubits)]\n",
    "#psi2[bin_to_int('000011')] = np.sin(t)\n",
    "#psi2[bin_to_int('010111')] = -np.cos(t)"
   ]
  },
  {
   "cell_type": "code",
   "execution_count": 55,
   "metadata": {},
   "outputs": [],
   "source": [
    "#from qiskit import QuantumCircuit\n",
    "#from qiskit.extensions import Initialize\n",
    "#from qiskit.circuit import Parameter\n",
    "\n",
    "#anz = QuantumCircuit(num_qubits) # We are redefining qc\n",
    "#anz.initialize(psi)\n",
    "#anz.ry(Parameter('x'), 3)\n",
    "#anz.initialize(psi2)\n",
    "#anz.rx(Parameter('y'), 3)"
   ]
  },
  {
   "cell_type": "code",
   "execution_count": 56,
   "metadata": {},
   "outputs": [],
   "source": [
    "#from qiskit.utils import QuantumInstance, algorithm_globals\n",
    "#from qiskit.aqua.components.optimizers import COBYLA, SPSA, SLSQP\n",
    "#from qiskit.algorithms import VQE\n",
    "#from qiskit.quantum_info.operators.symplectic.pauli import Pauli\n",
    "#from qiskit.opflow.primitive_ops import PauliOp\n",
    "#from qiskit import Aer\n",
    "\n",
    "#ham_qiskit = sum([PauliOp(Pauli(k), ham[k]) for k in ham.keys()])\n",
    "\n",
    "#seed = 50\n",
    "#algorithm_globals.random_seed = seed\n",
    "#qi = QuantumInstance(Aer.get_backend('statevector_simulator'), seed_transpiler=seed, seed_simulator=seed)\n",
    "#slsqp = SLSQP(maxiter=1000)\n",
    "\n",
    "#vqe = VQE(anz, optimizer=slsqp, quantum_instance=qi)\n",
    "#vqe_run    = vqe.compute_minimum_eigenvalue(operator=ham_qiskit)\n",
    "#vqe_result = vqe_run.optimal_value# + shift\n",
    "\n",
    "#print('VQE:', vqe_result, '|', 'Noncontextual Ground State:', gs_noncon_energy, 'True Ground State:', true_gs)"
   ]
  },
  {
   "cell_type": "code",
   "execution_count": 57,
   "metadata": {},
   "outputs": [
    {
     "name": "stdout",
     "output_type": "stream",
     "text": [
      "[-83.8742239006154, -83.87422390061546, -83.8758195779362, -83.88240004021091, -83.89086618279309, -83.91323713466015, -83.91937617916174, -83.92862837750964, -83.92865354102884]\n",
      "[-83.92870248]\n"
     ]
    }
   ],
   "source": [
    "from qiskit.aqua.algorithms import NumPyEigensolver\n",
    "\n",
    "order = [0,1,2,3,4,5,6,7]\n",
    "print(c.contextual_subspace_approximations(ham,model,fn_form,ep_state,order))\n",
    "\n",
    "result = NumPyEigensolver(q_conv.dict_to_WeightedPauliOperator(ham)).run()\n",
    "exact_energy = np.real(result.eigenvalues)\n",
    "\n",
    "print(exact_energy)"
   ]
  },
  {
   "cell_type": "code",
   "execution_count": 58,
   "metadata": {},
   "outputs": [
    {
     "data": {
      "text/plain": [
       "[]"
      ]
     },
     "execution_count": 58,
     "metadata": {},
     "output_type": "execute_result"
    }
   ],
   "source": [
    "rotations = (c.diagonalize_epistemic(model,fn_form,ep_state))[0]\n",
    "rotations"
   ]
  },
  {
   "cell_type": "code",
   "execution_count": 59,
   "metadata": {},
   "outputs": [],
   "source": [
    "from copy import deepcopy\n",
    "\n",
    "rot_psi = deepcopy(psi)\n",
    "\n",
    "for r in rotations:\n",
    "    r_op = LinearQubitOperator(QubitOperator('', 1/np.sqrt(2)) + q_conv.dict_to_QubitOperator({r[1]: -1/np.sqrt(2)*1j}, num_qubits), num_qubits)\n",
    "    rot_psi = r_op.matvec(rot_psi)\n",
    "    \n",
    "#print(rot_psi)"
   ]
  },
  {
   "cell_type": "code",
   "execution_count": 60,
   "metadata": {},
   "outputs": [
    {
     "name": "stdout",
     "output_type": "stream",
     "text": [
      "<H> w.r.t. simultaneous eigenstate: (-83.87422390061546+0j)\n",
      "Noncontextual approximation: -83.87422390061549\n",
      "Expectation values match? False\n"
     ]
    }
   ],
   "source": [
    "from openfermion.linalg import LinearQubitOperator\n",
    "\n",
    "rot_psi = np.array(rot_psi)\n",
    "rot_ham = c.get_reduced_hamiltonians(ham,model,fn_form,ep_state,order=[0,1,2,3,4,5,6,7])[8]\n",
    "rot_ham_q = q_conv.dict_to_QubitOperator(rot_ham, num_qubits)\n",
    "\n",
    "#take expectation value algebraically\n",
    "rot_H = LinearQubitOperator(rot_ham_q, num_qubits)\n",
    "rot_H_psi = rot_H.matvec(rot_psi)\n",
    "rot_expect = rot_psi.dot(rot_H_psi)\n",
    "\n",
    "print('<H> w.r.t. simultaneous eigenstate:', rot_expect)\n",
    "print('Noncontextual approximation:', gs_noncon_energy)\n",
    "print('Expectation values match?', abs(rot_expect - gs_noncon_energy) < 10**-14) #sanity check - expectation values match? "
   ]
  },
  {
   "cell_type": "code",
   "execution_count": 61,
   "metadata": {},
   "outputs": [
    {
     "data": {
      "text/plain": [
       "((-83.87422390061546+0j), (-83.87422390061543+0j))"
      ]
     },
     "execution_count": 61,
     "metadata": {},
     "output_type": "execute_result"
    }
   ],
   "source": [
    "rot_psi.dot(rot_H.matvec(rot_psi)), psi.dot(H.matvec(psi))"
   ]
  },
  {
   "cell_type": "code",
   "execution_count": 62,
   "metadata": {},
   "outputs": [
    {
     "data": {
      "text/plain": [
       "array([ True,  True,  True, ...,  True,  True,  True])"
      ]
     },
     "execution_count": 62,
     "metadata": {},
     "output_type": "execute_result"
    }
   ],
   "source": []
  },
  {
   "cell_type": "code",
   "execution_count": null,
   "metadata": {},
   "outputs": [],
   "source": []
  },
  {
   "cell_type": "code",
   "execution_count": 9,
   "metadata": {},
   "outputs": [],
   "source": [
    "def bin_to_int(bits):\n",
    "    if type(bits) == str:\n",
    "        bits = [int(b) for b in bits]\n",
    "    for index, b in enumerate(bits):\n",
    "        bits[index] = b * 2 ** (len(bits)-index-1)\n",
    "    return sum(bits)"
   ]
  },
  {
   "cell_type": "code",
   "execution_count": 27,
   "metadata": {},
   "outputs": [],
   "source": [
    "from copy import deepcopy\n",
    "\n",
    "v1 = [0,0,0,0,1,1,1,1]\n",
    "v2 = deepcopy(v1)\n",
    "v2[0] = (v2[0]+1)%2\n",
    "v2[6] = (v2[6]+1)%2"
   ]
  },
  {
   "cell_type": "code",
   "execution_count": 28,
   "metadata": {},
   "outputs": [
    {
     "data": {
      "text/plain": [
       "(15, 141)"
      ]
     },
     "execution_count": 28,
     "metadata": {},
     "output_type": "execute_result"
    }
   ],
   "source": [
    "bin_to_int(v1), bin_to_int(v2)"
   ]
  },
  {
   "cell_type": "code",
   "execution_count": 51,
   "metadata": {},
   "outputs": [
    {
     "name": "stdout",
     "output_type": "stream",
     "text": [
      "0 130 130\n",
      "1 131 130\n",
      "2 128 126\n",
      "3 129 126\n",
      "4 134 130\n",
      "5 135 130\n",
      "6 132 126\n",
      "7 133 126\n",
      "8 138 130\n",
      "9 139 130\n",
      "10 136 126\n",
      "11 137 126\n",
      "12 142 130\n",
      "13 143 130\n",
      "14 140 126\n",
      "15 141 126\n",
      "16 146 130\n",
      "17 147 130\n",
      "18 144 126\n",
      "19 145 126\n",
      "20 150 130\n",
      "21 151 130\n",
      "22 148 126\n",
      "23 149 126\n",
      "24 154 130\n",
      "25 155 130\n",
      "26 152 126\n",
      "27 153 126\n",
      "28 158 130\n",
      "29 159 130\n",
      "30 156 126\n",
      "31 157 126\n",
      "32 162 130\n",
      "33 163 130\n",
      "34 160 126\n",
      "35 161 126\n",
      "36 166 130\n",
      "37 167 130\n",
      "38 164 126\n",
      "39 165 126\n",
      "40 170 130\n",
      "41 171 130\n",
      "42 168 126\n",
      "43 169 126\n",
      "44 174 130\n",
      "45 175 130\n",
      "46 172 126\n",
      "47 173 126\n",
      "48 178 130\n",
      "49 179 130\n",
      "50 176 126\n",
      "51 177 126\n",
      "52 182 130\n",
      "53 183 130\n",
      "54 180 126\n",
      "55 181 126\n",
      "56 186 130\n",
      "57 187 130\n",
      "58 184 126\n",
      "59 185 126\n",
      "60 190 130\n",
      "61 191 130\n",
      "62 188 126\n",
      "63 189 126\n",
      "64 194 130\n",
      "65 195 130\n",
      "66 192 126\n",
      "67 193 126\n",
      "68 198 130\n",
      "69 199 130\n",
      "70 196 126\n",
      "71 197 126\n",
      "72 202 130\n",
      "73 203 130\n",
      "74 200 126\n",
      "75 201 126\n",
      "76 206 130\n",
      "77 207 130\n",
      "78 204 126\n",
      "79 205 126\n",
      "80 210 130\n",
      "81 211 130\n",
      "82 208 126\n",
      "83 209 126\n",
      "84 214 130\n",
      "85 215 130\n",
      "86 212 126\n",
      "87 213 126\n",
      "88 218 130\n",
      "89 219 130\n",
      "90 216 126\n",
      "91 217 126\n",
      "92 222 130\n",
      "93 223 130\n",
      "94 220 126\n",
      "95 221 126\n",
      "96 226 130\n",
      "97 227 130\n",
      "98 224 126\n",
      "99 225 126\n",
      "100 230 130\n",
      "101 231 130\n",
      "102 228 126\n",
      "103 229 126\n",
      "104 234 130\n",
      "105 235 130\n",
      "106 232 126\n",
      "107 233 126\n",
      "108 238 130\n",
      "109 239 130\n",
      "110 236 126\n",
      "111 237 126\n",
      "112 242 130\n",
      "113 243 130\n",
      "114 240 126\n",
      "115 241 126\n",
      "116 246 130\n",
      "117 247 130\n",
      "118 244 126\n",
      "119 245 126\n",
      "120 250 130\n",
      "121 251 130\n",
      "122 248 126\n",
      "123 249 126\n",
      "124 254 130\n",
      "125 255 130\n",
      "126 252 126\n",
      "127 253 126\n"
     ]
    },
    {
     "data": {
      "text/plain": [
       "<matplotlib.collections.PathCollection at 0x7fbe26943160>"
      ]
     },
     "execution_count": 51,
     "metadata": {},
     "output_type": "execute_result"
    },
    {
     "data": {
      "image/png": "[encoded data removed]",
      "text/plain": [
       "<Figure size 432x288 with 1 Axes>"
      ]
     },
     "metadata": {
      "needs_background": "light"
     },
     "output_type": "display_data"
    }
   ],
   "source": [
    "import itertools\n",
    "from matplotlib import pyplot as plt\n",
    "\n",
    "B = list(itertools.product([0,1], repeat=8))\n",
    "\n",
    "X=[]\n",
    "Y=[]\n",
    "\n",
    "for b1 in B[0:128]:\n",
    "    b1 = list(b1)\n",
    "    b2 = deepcopy(b1)\n",
    "    b2[0] = (b2[0]+1)%2\n",
    "    b2[6] = (b2[6]+1)%2\n",
    "    i1 = bin_to_int(b1)\n",
    "    i2 = bin_to_int(b2)\n",
    "    X.append(i1)\n",
    "    Y.append(i2)\n",
    "    print(i1, i2, i2-i1)\n",
    "    \n",
    "plt.scatter(X, Y, s=3)"
   ]
  },
  {
   "cell_type": "code",
   "execution_count": 198,
   "metadata": {},
   "outputs": [
    {
     "data": {
      "text/plain": [
       "(0.8253356149096783+0.5646424733950354j)"
      ]
     },
     "execution_count": 198,
     "metadata": {},
     "output_type": "execute_result"
    }
   ],
   "source": [
    "np.exp(0.6*1j)"
   ]
  },
  {
   "cell_type": "code",
   "execution_count": 277,
   "metadata": {},
   "outputs": [
    {
     "data": {
      "text/plain": [
       "[0, -3, 5]"
      ]
     },
     "execution_count": 277,
     "metadata": {},
     "output_type": "execute_result"
    }
   ],
   "source": [
    "sorted([0, 5, -3], key=abs)"
   ]
  },
  {
   "cell_type": "code",
   "execution_count": 264,
   "metadata": {},
   "outputs": [
    {
     "data": {
      "text/plain": [
       "361"
      ]
     },
     "execution_count": 264,
     "metadata": {},
     "output_type": "execute_result"
    }
   ],
   "source": []
  },
  {
   "cell_type": "code",
   "execution_count": null,
   "metadata": {},
   "outputs": [],
   "source": []
  }
 ],
 "metadata": {
  "kernelspec": {
   "display_name": "Python 3",
   "language": "python",
   "name": "python3"
  },
  "language_info": {
   "codemirror_mode": {
    "name": "ipython",
    "version": 3
   },
   "file_extension": ".py",
   "mimetype": "text/x-python",
   "name": "python",
   "nbconvert_exporter": "python",
   "pygments_lexer": "ipython3",
   "version": "3.7.0"
  }
 },
 "nbformat": 4,
 "nbformat_minor": 2
}
