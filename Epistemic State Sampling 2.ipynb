{
 "cells": [
  {
   "cell_type": "code",
   "execution_count": 1,
   "metadata": {},
   "outputs": [],
   "source": [
    "import openfermion\n",
    "import openfermionpyscf\n",
    "from openfermion import MolecularData\n",
    "from openfermionpyscf import run_pyscf\n",
    "from openfermion.ops import FermionOperator, QubitOperator\n",
    "from openfermion.transforms import jordan_wigner, bravyi_kitaev\n",
    "from openfermion.transforms import get_fermion_operator\n",
    "from openfermion.circuits import (uccsd_singlet_get_packed_amplitudes,\n",
    "                               uccsd_singlet_generator, uccsd_generator,\n",
    "                               uccsd_convert_amplitude_format)\n",
    "import numpy as np\n",
    "import cs_vqe as c\n",
    "import itertools\n",
    "import qubit_conversion as q_conv"
   ]
  },
  {
   "cell_type": "code",
   "execution_count": 17,
   "metadata": {},
   "outputs": [
    {
     "name": "stdout",
     "output_type": "stream",
     "text": [
      "H2-S1_STO-3G_singlet # qubits: 18\n",
      "C1-O1_STO-3G_singlet # qubits: 16\n",
      "H1-Cl1_STO-3G_singlet # qubits: 16\n",
      "H1-Na1_STO-3G_singlet # qubits: 16\n",
      "H2-Mg1_STO-3G_singlet # qubits: 17\n",
      "H1-F1_3-21G_singlet # qubits: 18\n",
      "H1-Li1_3-21G_singlet # qubits: 18\n",
      "Be1_STO-3G_singlet # qubits: 5\n",
      "H1-F1_STO-3G_singlet # qubits: 8\n",
      "H1-Li1_STO-3G_singlet # qubits: 8\n",
      "Ar1_STO-3G_singlet # qubits: 13\n",
      "F2_STO-3G_singlet # qubits: 15\n",
      "H1-O1_STO-3G_singlet # qubits: 8\n",
      "H2-Be1_STO-3G_singlet # qubits: 9\n",
      "H2-O1_STO-3G_singlet # qubits: 10\n",
      "H2_3-21G_singlet # qubits: 5\n",
      "H2_6-31G_singlet # qubits: 5\n",
      "H3-N1_STO-3G_singlet # qubits: 13\n",
      "H4-C1_STO-3G_singlet # qubits: 14\n",
      "Mg1_STO-3G_singlet # qubits: 13\n",
      "N2_STO-3G_singlet # qubits: 15\n",
      "Ne1_STO-3G_singlet # qubits: 5\n",
      "O2_STO-3G_singlet # qubits: 15\n",
      "H1-Li1-O1_STO-3G_singlet # qubits: 18\n",
      "H1-He1_STO-3G_singlet # qubits: 2\n",
      "H3_STO-3G_singlet_1+ # qubits: 3\n",
      "H1-He1_3-21G_singlet_1+ # qubits: 6\n",
      "H3_3-21G_singlet_1+ # qubits: 9\n",
      "H4-N1_STO-3G_singlet_1+ # qubits: 14\n"
     ]
    }
   ],
   "source": [
    "import ast\n",
    "import matplotlib\n",
    "import matplotlib.pyplot as plt\n",
    "\n",
    "f = open(\"hamiltonians.txt\",\"r\")\n",
    "hamiltonians = ast.literal_eval(f.read())\n",
    "f.close()\n",
    "\n",
    "for h in hamiltonians.keys():\n",
    "    print(h, '# qubits:', hamiltonians[h][1])"
   ]
  },
  {
   "cell_type": "code",
   "execution_count": 61,
   "metadata": {},
   "outputs": [
    {
     "name": "stdout",
     "output_type": "stream",
     "text": [
      "number of qubits: 6\n",
      "true ground state energy: -4.259188160411326\n",
      "noncontextual approximation to ground state energy: -4.235679984712036\n",
      "{'IZIZIZ': 1.137117313013182, 'ZIZIZI': 1.137117313013182, 'ZIIIII': -0.6757846691545434, 'IZIIII': -0.6757846691545433, 'IIIIZZ': 0.24918329066787195, 'IIIZII': -0.24459538421117766, 'IIZIII': -0.24459538421117766, 'ZZZZZZ': 0.2324217371047461, 'IZIZZZ': -0.23101530963627243, 'ZIZIZZ': -0.23101530963627243, 'IIIIII': -0.22683086324346313, 'ZZIIII': 0.17119154268004644, 'IZZIII': 0.14145232769859284, 'ZIIZII': 0.14145232769859284, 'IZIIZI': 0.1411974641913617, 'ZIIIIZ': 0.1411974641913617, 'IIIIIZ': 0.13839367136530806, 'IIIIZI': 0.13839367136530806, 'IIZZII': 0.13734855781563715, 'IIIZZI': 0.1365862143604441, 'IIZIIZ': 0.1365862143604441, 'IZZZIZ': -0.12223086443933409, 'ZIZZZI': -0.12223086443933409, 'ZZIZIZ': -0.11934196603424856, 'ZZZIZI': -0.11934196603424856, 'IXZXII': -0.0627599937687078, 'IYZYII': -0.0627599937687078, 'IZIZII': -0.062018161862349985, 'ZIZIII': -0.062018161862349985, 'IXZXIZ': 0.04686234682152872, 'IYZYIZ': 0.04686234682152872, 'ZXZXII': 0.04446603519884609, 'ZYZYII': 0.04446603519884609, 'IXZXZI': 0.035360399429748814, 'IYZYZI': 0.035360399429748814, 'IXIXII': 0.02695800423792636, 'IYIYII': 0.02695800423792636, 'ZXIXZI': -0.025245384316051042, 'ZYIYZI': -0.025245384316051042, 'IZIIIZ': 0.017536026085030076, 'ZIIIZI': 0.017536026085030076, 'IIIZIZ': -0.0017219308390574728, 'IIZIZI': -0.0017219308390574728}\n"
     ]
    }
   ],
   "source": [
    "speciesname = 'H1-He1_3-21G_singlet_1+'\n",
    "\n",
    "encoding = hamiltonians[speciesname][0] # in this dataset, always 'JW' for Jordan-Wigner, but leaves room for trying Bravyi-Kitaev as well\n",
    "num_qubits = hamiltonians[speciesname][1] # number of qubits (all of these Hamiltonians have been tapered for molecular symmetries)\n",
    "ham = hamiltonians[speciesname][2] # full Hamiltonian\n",
    "ham_noncon = hamiltonians[speciesname][3] # noncontextual part of Hamiltonian, found by greedy DFS\n",
    "true_gs = hamiltonians[speciesname][4] # ground state energy of full Hamiltonian (in Hartree)\n",
    "gs_noncon = hamiltonians[speciesname][5] # list containing information about noncontextual ground state: zeroth entry is ground state energy of noncontextual part of Hamiltonian\n",
    "#print('commuting generators:',model[0], '\\n')\n",
    "#print('anticommuting generators:',model[1], '\\n')\n",
    "#print('term reconstruction:',model[2], '\\n')\n",
    "\n",
    "print('number of qubits:', num_qubits)\n",
    "print('true ground state energy:', true_gs)\n",
    "print('noncontextual approximation to ground state energy:', gs_noncon[0])\n",
    "print(ham_noncon)"
   ]
  },
  {
   "cell_type": "code",
   "execution_count": 41,
   "metadata": {},
   "outputs": [],
   "source": [
    "model = c.quasi_model(ham_noncon)\n",
    "fn_form = c.energy_function_form(ham_noncon, model)\n",
    "gs_noncon = c.find_gs_noncon(ham_noncon)\n",
    "gs_noncon_energy = gs_noncon[0]\n",
    "ep_state = gs_noncon[1]\n",
    "ham_context = {p:c for p,c in ham.items() if p not in ham_noncon}"
   ]
  },
  {
   "cell_type": "code",
   "execution_count": 54,
   "metadata": {},
   "outputs": [
    {
     "data": {
      "text/plain": [
       "((['ZIZIZI', 'IZIZIZ', 'IIZIZI', 'IIIIZZ', 'IIIIIZ'], ['IZIIII', 'IXZXII']),\n",
       " -4.235679984712036,\n",
       " [[-1, -1, -1, 1, -1], [0.9999999999999987, 5.068707371578793e-08]])"
      ]
     },
     "execution_count": 54,
     "metadata": {},
     "output_type": "execute_result"
    }
   ],
   "source": [
    "model[0:2], gs_noncon_energy, ep_state"
   ]
  },
  {
   "cell_type": "markdown",
   "metadata": {},
   "source": [
    "# The epistemic state defines a classical probability distribution:"
   ]
  },
  {
   "cell_type": "code",
   "execution_count": 44,
   "metadata": {},
   "outputs": [],
   "source": [
    "def ontic_prob(ep_state, ontic_state):\n",
    "    \n",
    "    if ep_state[0] != ontic_state[0]:\n",
    "        return 0\n",
    "    \n",
    "    else:\n",
    "        prod = 1\n",
    "        for index, r in enumerate(ep_state[1]):\n",
    "            f = 1/2 * abs(r + ontic_state[1][index])\n",
    "            prod *= f\n",
    "        \n",
    "        return prod    \n",
    "\n",
    "def epistemic_dist(ep_state):\n",
    "    size_G = len(ep_state[0])\n",
    "    size_Ci = len(ep_state[1])\n",
    "    size_R = size_G + size_Ci\n",
    "    \n",
    "    ep_prob = {}\n",
    "    \n",
    "    ontic_states = list(itertools.product([1, -1], repeat=size_R))\n",
    "    \n",
    "    for o in ontic_states:\n",
    "        o_state = [list(o[0:size_G]), list(o[size_G:size_R])]\n",
    "        o_prob = ontic_prob(ep_state, o_state)\n",
    "        \n",
    "        if o_prob != 0:\n",
    "            ep_prob[o] = o_prob\n",
    "    \n",
    "    return ep_prob"
   ]
  },
  {
   "cell_type": "code",
   "execution_count": 45,
   "metadata": {},
   "outputs": [
    {
     "data": {
      "text/plain": [
       "{(-1, -1, -1, 1, -1, 1, 1): 0.5000000253435365,\n",
       " (-1, -1, -1, 1, -1, 1, -1): 0.4999999746564628,\n",
       " (-1, -1, -1, 1, -1, -1, 1): 3.3306692426973383e-16,\n",
       " (-1, -1, -1, 1, -1, -1, -1): 3.3306689050536005e-16}"
      ]
     },
     "execution_count": 45,
     "metadata": {},
     "output_type": "execute_result"
    }
   ],
   "source": [
    "epistemic_dist(ep_state)"
   ]
  },
  {
   "cell_type": "markdown",
   "metadata": {},
   "source": [
    "# Find a simultaneous eigenstate of the operators G_i and A:"
   ]
  },
  {
   "cell_type": "code",
   "execution_count": 127,
   "metadata": {},
   "outputs": [
    {
     "data": {
      "text/plain": [
       "1.5707963014513597"
      ]
     },
     "execution_count": 127,
     "metadata": {},
     "output_type": "execute_result"
    }
   ],
   "source": [
    "r1 = ep_state[1][0]\n",
    "r2 = ep_state[1][1]\n",
    "t = np.arctan((r1 + 1) / r2)\n",
    "t"
   ]
  },
  {
   "cell_type": "code",
   "execution_count": 128,
   "metadata": {},
   "outputs": [
    {
     "name": "stdout",
     "output_type": "stream",
     "text": [
      "[0, 0, 0, 0.9999999999999997, 0, 0, 0, 0, 0, 0, 0, 0, 0, 0, 0, 0, 0, 0, 0, 0, 0, 0, 0, 2.534353688593914e-08, 0, 0, 0, 0, 0, 0, 0, 0, 0, 0, 0, 0, 0, 0, 0, 0, 0, 0, 0, 0, 0, 0, 0, 0, 0, 0, 0, 0, 0, 0, 0, 0, 0, 0, 0, 0, 0, 0, 0, 0]\n"
     ]
    }
   ],
   "source": [
    "def bin_to_int(bin_str):\n",
    "    bits = [int(b) for b in bin_str]\n",
    "    for index, b in enumerate(bits):\n",
    "        bits[index] = b * 2 ** (len(bits)-index-1)\n",
    "    return sum(bits)\n",
    "\n",
    "psi = [0 for i in range(2**num_qubits)]\n",
    "psi[bin_to_int('000011')] = np.sin(t)\n",
    "psi[bin_to_int('010111')] = np.cos(t)\n",
    "print(psi)"
   ]
  },
  {
   "cell_type": "code",
   "execution_count": 139,
   "metadata": {},
   "outputs": [
    {
     "name": "stdout",
     "output_type": "stream",
     "text": [
      "<H> w.r.t. simultaneous eigenstate: (-4.235679984712033+0j)\n",
      "Noncontextual approximation: -4.235679984712036\n",
      "Expectation values match? True\n"
     ]
    }
   ],
   "source": [
    "from openfermion.linalg import LinearQubitOperator\n",
    "\n",
    "psi = np.array(psi)\n",
    "ham_q = q_conv.dict_to_QubitOperator(ham, num_qubits)\n",
    "ham_noncon_q = q_conv.dict_to_QubitOperator(ham_noncon, num_qubits)\n",
    "ham_context_q = q_conv.dict_to_QubitOperator(ham_context, num_qubits)\n",
    "\n",
    "#take expectation value algebraically\n",
    "H = LinearQubitOperator(ham_q, num_qubits)\n",
    "H_psi = H.matvec(psi)\n",
    "expect = psi.dot(H_psi)\n",
    "\n",
    "print('<H> w.r.t. simultaneous eigenstate:', expect)\n",
    "print('Noncontextual approximation:', gs_noncon_energy)\n",
    "print('Expectation values match?', abs(expect - gs_noncon_energy) < 10**-12) #sanity check - expectation values match? "
   ]
  },
  {
   "cell_type": "markdown",
   "metadata": {},
   "source": [
    "# Do we have any quantum corrections?"
   ]
  },
  {
   "cell_type": "code",
   "execution_count": 172,
   "metadata": {},
   "outputs": [
    {
     "data": {
      "text/plain": [
       "['ZIZIZI', 'IZIZIZ', 'IIZIZI', 'IIIIZZ', 'IIIIIZ']"
      ]
     },
     "execution_count": 172,
     "metadata": {},
     "output_type": "execute_result"
    }
   ],
   "source": [
    "G = model[0]\n",
    "terms_context = list(ham_context.keys())\n",
    "G"
   ]
  },
  {
   "cell_type": "code",
   "execution_count": 179,
   "metadata": {},
   "outputs": [
    {
     "name": "stdout",
     "output_type": "stream",
     "text": [
      "IIIIIX commutes with the noncontextual generators: ['ZIZIZI', 'IIZIZI']\n",
      "IIIIXI commutes with the noncontextual generators: ['IZIZIZ', 'IIIIIZ']\n",
      "IIIIXZ commutes with the noncontextual generators: ['IZIZIZ', 'IIIIIZ']\n",
      "IIIIYY commutes with the noncontextual generators: ['IIIIZZ']\n",
      "IIIXIX commutes with the noncontextual generators: ['ZIZIZI', 'IZIZIZ', 'IIZIZI']\n",
      "IIIXXI commutes with the noncontextual generators: ['IIIIIZ']\n",
      "IIIXYY commutes with the noncontextual generators: ['IZIZIZ', 'IIIIZZ']\n",
      "IIIXZX commutes with the noncontextual generators: ['ZIZIZI', 'IZIZIZ', 'IIZIZI']\n",
      "IIIXZZ commutes with the noncontextual generators: ['ZIZIZI', 'IIZIZI', 'IIIIZZ', 'IIIIIZ']\n",
      "IIIYIY commutes with the noncontextual generators: ['ZIZIZI', 'IZIZIZ', 'IIZIZI']\n",
      "IIIYYX commutes with the noncontextual generators: ['IZIZIZ', 'IIIIZZ']\n",
      "IIIYZY commutes with the noncontextual generators: ['ZIZIZI', 'IZIZIZ', 'IIZIZI']\n",
      "IIIZXZ commutes with the noncontextual generators: ['IZIZIZ', 'IIIIIZ']\n",
      "IIXIXI commutes with the noncontextual generators: ['ZIZIZI', 'IZIZIZ', 'IIZIZI', 'IIIIIZ']\n",
      "IIXIZZ commutes with the noncontextual generators: ['IZIZIZ', 'IIIIZZ', 'IIIIIZ']\n",
      "IIXXIX commutes with the noncontextual generators: ['IZIZIZ']\n",
      "IIXXYY commutes with the noncontextual generators: ['ZIZIZI', 'IZIZIZ', 'IIZIZI', 'IIIIZZ']\n",
      "IIXYIY commutes with the noncontextual generators: ['IZIZIZ']\n",
      "IIXYYX commutes with the noncontextual generators: ['ZIZIZI', 'IZIZIZ', 'IIZIZI', 'IIIIZZ']\n",
      "IIXZIZ commutes with the noncontextual generators: ['IZIZIZ', 'IIIIZZ', 'IIIIIZ']\n",
      "IIXZXI commutes with the noncontextual generators: ['ZIZIZI', 'IZIZIZ', 'IIZIZI', 'IIIIIZ']\n",
      "IIXZXZ commutes with the noncontextual generators: ['ZIZIZI', 'IZIZIZ', 'IIZIZI', 'IIIIIZ']\n",
      "IIXZZI commutes with the noncontextual generators: ['IZIZIZ', 'IIIIZZ', 'IIIIIZ']\n",
      "IIXZZZ commutes with the noncontextual generators: ['IZIZIZ', 'IIIIZZ', 'IIIIIZ']\n",
      "IIYIYI commutes with the noncontextual generators: ['ZIZIZI', 'IZIZIZ', 'IIZIZI', 'IIIIIZ']\n",
      "IIYXXY commutes with the noncontextual generators: ['ZIZIZI', 'IZIZIZ', 'IIZIZI', 'IIIIZZ']\n",
      "IIYYII commutes with the noncontextual generators: ['IIIIZZ', 'IIIIIZ']\n",
      "IIYYXX commutes with the noncontextual generators: ['ZIZIZI', 'IZIZIZ', 'IIZIZI', 'IIIIZZ']\n",
      "IIYZYI commutes with the noncontextual generators: ['ZIZIZI', 'IZIZIZ', 'IIZIZI', 'IIIIIZ']\n",
      "IIYZYZ commutes with the noncontextual generators: ['ZIZIZI', 'IZIZIZ', 'IIZIZI', 'IIIIIZ']\n",
      "IIYZZY commutes with the noncontextual generators: []\n",
      "IIZIXZ commutes with the noncontextual generators: ['IZIZIZ', 'IIIIIZ']\n",
      "IIZIZX commutes with the noncontextual generators: ['ZIZIZI', 'IIZIZI']\n",
      "IIZXIZ commutes with the noncontextual generators: ['ZIZIZI', 'IIZIZI', 'IIIIZZ', 'IIIIIZ']\n",
      "IIZXZX commutes with the noncontextual generators: ['ZIZIZI', 'IZIZIZ', 'IIZIZI']\n",
      "IIZYZY commutes with the noncontextual generators: ['ZIZIZI', 'IZIZIZ', 'IIZIZI']\n",
      "IXIIII commutes with the noncontextual generators: ['ZIZIZI', 'IIZIZI', 'IIIIZZ', 'IIIIIZ']\n",
      "IXIZIZ commutes with the noncontextual generators: ['ZIZIZI', 'IIZIZI', 'IIIIZZ', 'IIIIIZ']\n",
      "IXIZZX commutes with the noncontextual generators: ['ZIZIZI', 'IZIZIZ', 'IIZIZI']\n",
      "IXXIII commutes with the noncontextual generators: ['IIIIZZ', 'IIIIIZ']\n",
      "IXXIXX commutes with the noncontextual generators: ['ZIZIZI', 'IZIZIZ', 'IIZIZI', 'IIIIZZ']\n",
      "IXXYYI commutes with the noncontextual generators: ['ZIZIZI', 'IZIZIZ', 'IIZIZI', 'IIIIIZ']\n",
      "IXXZIZ commutes with the noncontextual generators: ['IIIIZZ', 'IIIIIZ']\n",
      "IXYIIY commutes with the noncontextual generators: ['IZIZIZ']\n",
      "IXYIYX commutes with the noncontextual generators: ['ZIZIZI', 'IZIZIZ', 'IIZIZI', 'IIIIZZ']\n",
      "IXYYXI commutes with the noncontextual generators: ['ZIZIZI', 'IZIZIZ', 'IIZIZI', 'IIIIIZ']\n",
      "IXYYZZ commutes with the noncontextual generators: ['IZIZIZ', 'IIIIZZ', 'IIIIIZ']\n",
      "IXZIXZ commutes with the noncontextual generators: ['IIIIIZ']\n",
      "IXZIZI commutes with the noncontextual generators: ['ZIZIZI', 'IIZIZI', 'IIIIZZ', 'IIIIIZ']\n",
      "IXZIZX commutes with the noncontextual generators: ['ZIZIZI', 'IZIZIZ', 'IIZIZI']\n",
      "IXZXXZ commutes with the noncontextual generators: ['IZIZIZ', 'IIIIIZ']\n",
      "IXZZIX commutes with the noncontextual generators: ['ZIZIZI', 'IZIZIZ', 'IIZIZI']\n",
      "IXZZXI commutes with the noncontextual generators: ['IIIIIZ']\n",
      "IXZZYY commutes with the noncontextual generators: ['IZIZIZ', 'IIIIZZ']\n",
      "IXZZZX commutes with the noncontextual generators: ['ZIZIZI', 'IZIZIZ', 'IIZIZI']\n",
      "IXZZZZ commutes with the noncontextual generators: ['ZIZIZI', 'IIZIZI', 'IIIIZZ', 'IIIIIZ']\n",
      "IYIZZY commutes with the noncontextual generators: ['ZIZIZI', 'IZIZIZ', 'IIZIZI']\n",
      "IYXIXY commutes with the noncontextual generators: ['ZIZIZI', 'IZIZIZ', 'IIZIZI', 'IIIIZZ']\n",
      "IYXXYI commutes with the noncontextual generators: ['ZIZIZI', 'IZIZIZ', 'IIZIZI', 'IIIIIZ']\n",
      "IYYIIX commutes with the noncontextual generators: ['IZIZIZ']\n",
      "IYYIYY commutes with the noncontextual generators: ['ZIZIZI', 'IZIZIZ', 'IIZIZI', 'IIIIZZ']\n",
      "IYYXXI commutes with the noncontextual generators: ['ZIZIZI', 'IZIZIZ', 'IIZIZI', 'IIIIIZ']\n",
      "IYYXZZ commutes with the noncontextual generators: ['IZIZIZ', 'IIIIZZ', 'IIIIIZ']\n",
      "IYZIZY commutes with the noncontextual generators: ['ZIZIZI', 'IZIZIZ', 'IIZIZI']\n",
      "IYZYXZ commutes with the noncontextual generators: ['IZIZIZ', 'IIIIIZ']\n",
      "IYZZIY commutes with the noncontextual generators: ['ZIZIZI', 'IZIZIZ', 'IIZIZI']\n",
      "IYZZYX commutes with the noncontextual generators: ['IZIZIZ', 'IIIIZZ']\n",
      "IYZZZY commutes with the noncontextual generators: ['ZIZIZI', 'IZIZIZ', 'IIZIZI']\n",
      "IZIIXZ commutes with the noncontextual generators: ['IZIZIZ', 'IIIIIZ']\n",
      "IZIXXZ commutes with the noncontextual generators: ['IIIIIZ']\n",
      "IZIXZI commutes with the noncontextual generators: ['ZIZIZI', 'IIZIZI', 'IIIIZZ', 'IIIIIZ']\n",
      "IZIXZX commutes with the noncontextual generators: ['ZIZIZI', 'IZIZIZ', 'IIZIZI']\n",
      "IZIYZY commutes with the noncontextual generators: ['ZIZIZI', 'IZIZIZ', 'IIZIZI']\n",
      "IZIZIX commutes with the noncontextual generators: ['ZIZIZI', 'IIZIZI']\n",
      "IZIZXI commutes with the noncontextual generators: ['IZIZIZ', 'IIIIIZ']\n",
      "IZIZYY commutes with the noncontextual generators: ['IIIIZZ']\n",
      "IZXIXZ commutes with the noncontextual generators: ['ZIZIZI', 'IZIZIZ', 'IIZIZI', 'IIIIIZ']\n",
      "IZXIZI commutes with the noncontextual generators: ['IZIZIZ', 'IIIIZZ', 'IIIIIZ']\n",
      "IZXZXI commutes with the noncontextual generators: ['ZIZIZI', 'IZIZIZ', 'IIZIZI', 'IIIIIZ']\n",
      "IZXZZZ commutes with the noncontextual generators: ['IZIZIZ', 'IIIIZZ', 'IIIIIZ']\n",
      "IZYIYZ commutes with the noncontextual generators: ['ZIZIZI', 'IZIZIZ', 'IIZIZI', 'IIIIIZ']\n",
      "IZYIZY commutes with the noncontextual generators: []\n",
      "IZYYIZ commutes with the noncontextual generators: ['IIIIZZ', 'IIIIIZ']\n",
      "IZYZYI commutes with the noncontextual generators: ['ZIZIZI', 'IZIZIZ', 'IIZIZI', 'IIIIIZ']\n",
      "IZZXII commutes with the noncontextual generators: ['ZIZIZI', 'IIZIZI', 'IIIIZZ', 'IIIIIZ']\n",
      "IZZZZX commutes with the noncontextual generators: ['ZIZIZI', 'IIZIZI']\n",
      "XIIIII commutes with the noncontextual generators: ['IZIZIZ', 'IIZIZI', 'IIIIZZ', 'IIIIIZ']\n",
      "XIIIXX commutes with the noncontextual generators: ['ZIZIZI', 'IIIIZZ']\n",
      "XIIYYI commutes with the noncontextual generators: ['ZIZIZI', 'IIIIIZ']\n",
      "XIIZIZ commutes with the noncontextual generators: ['IZIZIZ', 'IIZIZI', 'IIIIZZ', 'IIIIIZ']\n",
      "XIXIII commutes with the noncontextual generators: ['ZIZIZI', 'IZIZIZ', 'IIIIZZ', 'IIIIIZ']\n",
      "XIXXII commutes with the noncontextual generators: ['ZIZIZI', 'IIIIZZ', 'IIIIIZ']\n",
      "XIXZIZ commutes with the noncontextual generators: ['ZIZIZI', 'IZIZIZ', 'IIIIZZ', 'IIIIIZ']\n",
      "XIXZZX commutes with the noncontextual generators: ['ZIZIZI']\n",
      "XIZIXZ commutes with the noncontextual generators: ['ZIZIZI', 'IZIZIZ', 'IIIIIZ']\n",
      "XIZIZI commutes with the noncontextual generators: ['IZIZIZ', 'IIZIZI', 'IIIIZZ', 'IIIIIZ']\n",
      "XIZZXI commutes with the noncontextual generators: ['ZIZIZI', 'IZIZIZ', 'IIIIIZ']\n",
      "XIZZZZ commutes with the noncontextual generators: ['IZIZIZ', 'IIZIZI', 'IIIIZZ', 'IIIIIZ']\n",
      "XXIIIX commutes with the noncontextual generators: ['IZIZIZ', 'IIZIZI']\n",
      "XXIIYY commutes with the noncontextual generators: ['ZIZIZI', 'IZIZIZ', 'IIIIZZ']\n",
      "XXIXXI commutes with the noncontextual generators: ['ZIZIZI', 'IZIZIZ', 'IIIIIZ']\n",
      "XXIXZZ commutes with the noncontextual generators: ['IZIZIZ', 'IIZIZI', 'IIIIZZ', 'IIIIIZ']\n",
      "XXYYII commutes with the noncontextual generators: ['ZIZIZI', 'IZIZIZ', 'IIIIZZ', 'IIIIIZ']\n",
      "XXYZZY commutes with the noncontextual generators: ['ZIZIZI', 'IZIZIZ']\n",
      "XXZIZX commutes with the noncontextual generators: ['IZIZIZ', 'IIZIZI']\n",
      "XXZXIZ commutes with the noncontextual generators: ['IZIZIZ', 'IIZIZI', 'IIIIZZ', 'IIIIIZ']\n",
      "XYIIIY commutes with the noncontextual generators: ['IZIZIZ', 'IIZIZI']\n",
      "XYIIYX commutes with the noncontextual generators: ['ZIZIZI', 'IZIZIZ', 'IIIIZZ']\n",
      "XYIYXI commutes with the noncontextual generators: ['ZIZIZI', 'IZIZIZ', 'IIIIIZ']\n",
      "XYIYZZ commutes with the noncontextual generators: ['IZIZIZ', 'IIZIZI', 'IIIIZZ', 'IIIIIZ']\n",
      "XYYIII commutes with the noncontextual generators: ['ZIZIZI', 'IIIIZZ', 'IIIIIZ']\n",
      "XYYXII commutes with the noncontextual generators: ['ZIZIZI', 'IZIZIZ', 'IIIIZZ', 'IIIIIZ']\n",
      "XYYZIZ commutes with the noncontextual generators: ['ZIZIZI', 'IIIIZZ', 'IIIIIZ']\n",
      "XYYZZX commutes with the noncontextual generators: ['ZIZIZI', 'IZIZIZ']\n",
      "XYZIYZ commutes with the noncontextual generators: ['ZIZIZI', 'IIIIIZ']\n",
      "XYZIZY commutes with the noncontextual generators: ['IZIZIZ', 'IIZIZI']\n",
      "XYZYIZ commutes with the noncontextual generators: ['IZIZIZ', 'IIZIZI', 'IIIIZZ', 'IIIIIZ']\n",
      "XYZZYI commutes with the noncontextual generators: ['ZIZIZI', 'IIIIIZ']\n",
      "XZIIIZ commutes with the noncontextual generators: ['IZIZIZ', 'IIZIZI', 'IIIIZZ', 'IIIIIZ']\n",
      "XZIXZX commutes with the noncontextual generators: ['IZIZIZ', 'IIZIZI']\n",
      "XZIYYZ commutes with the noncontextual generators: ['ZIZIZI', 'IIIIIZ']\n",
      "XZIYZY commutes with the noncontextual generators: ['IZIZIZ', 'IIZIZI']\n",
      "XZIZII commutes with the noncontextual generators: ['IZIZIZ', 'IIZIZI', 'IIIIZZ', 'IIIIIZ']\n",
      "XZIZIZ commutes with the noncontextual generators: ['IZIZIZ', 'IIZIZI', 'IIIIZZ', 'IIIIIZ']\n",
      "XZIZXI commutes with the noncontextual generators: ['ZIZIZI', 'IZIZIZ', 'IIIIIZ']\n",
      "XZIZXX commutes with the noncontextual generators: ['ZIZIZI', 'IIIIZZ']\n",
      "XZIZZZ commutes with the noncontextual generators: ['IZIZIZ', 'IIZIZI', 'IIIIZZ', 'IIIIIZ']\n",
      "XZXIII commutes with the noncontextual generators: ['ZIZIZI', 'IZIZIZ', 'IIIIZZ', 'IIIIIZ']\n",
      "XZXIIZ commutes with the noncontextual generators: ['ZIZIZI', 'IZIZIZ', 'IIIIZZ', 'IIIIIZ']\n",
      "XZXIZI commutes with the noncontextual generators: ['ZIZIZI', 'IZIZIZ', 'IIIIZZ', 'IIIIIZ']\n",
      "XZXIZX commutes with the noncontextual generators: ['ZIZIZI']\n",
      "XZXXIZ commutes with the noncontextual generators: ['ZIZIZI', 'IIIIZZ', 'IIIIIZ']\n",
      "XZXXZX commutes with the noncontextual generators: ['ZIZIZI', 'IZIZIZ']\n",
      "XZXYZY commutes with the noncontextual generators: ['ZIZIZI', 'IZIZIZ']\n",
      "XZXZII commutes with the noncontextual generators: ['ZIZIZI', 'IZIZIZ', 'IIIIZZ', 'IIIIIZ']\n",
      "XZZIXI commutes with the noncontextual generators: ['ZIZIZI', 'IZIZIZ', 'IIIIIZ']\n",
      "XZZIZZ commutes with the noncontextual generators: ['IZIZIZ', 'IIZIZI', 'IIIIZZ', 'IIIIIZ']\n",
      "XZZXIX commutes with the noncontextual generators: ['IZIZIZ', 'IIZIZI']\n",
      "XZZXYY commutes with the noncontextual generators: ['ZIZIZI', 'IZIZIZ', 'IIIIZZ']\n",
      "XZZYIY commutes with the noncontextual generators: ['IZIZIZ', 'IIZIZI']\n",
      "XZZYYX commutes with the noncontextual generators: ['ZIZIZI', 'IZIZIZ', 'IIIIZZ']\n",
      "XZZZIZ commutes with the noncontextual generators: ['IZIZIZ', 'IIZIZI', 'IIIIZZ', 'IIIIIZ']\n",
      "XZZZXI commutes with the noncontextual generators: ['ZIZIZI', 'IZIZIZ', 'IIIIIZ']\n",
      "XZZZXZ commutes with the noncontextual generators: ['ZIZIZI', 'IZIZIZ', 'IIIIIZ']\n",
      "XZZZZI commutes with the noncontextual generators: ['IZIZIZ', 'IIZIZI', 'IIIIZZ', 'IIIIIZ']\n",
      "XZZZZZ commutes with the noncontextual generators: ['IZIZIZ', 'IIZIZI', 'IIIIZZ', 'IIIIIZ']\n",
      "YIIIIY commutes with the noncontextual generators: ['IIZIZI']\n",
      "YIIIYX commutes with the noncontextual generators: ['ZIZIZI', 'IIIIZZ']\n",
      "YIIYXI commutes with the noncontextual generators: ['ZIZIZI', 'IIIIIZ']\n",
      "YIIYZZ commutes with the noncontextual generators: ['IIZIZI', 'IIIIZZ', 'IIIIIZ']\n",
      "YIYIII commutes with the noncontextual generators: ['ZIZIZI', 'IZIZIZ', 'IIIIZZ', 'IIIIIZ']\n",
      "YIYXII commutes with the noncontextual generators: ['ZIZIZI', 'IIIIZZ', 'IIIIIZ']\n",
      "YIYZIZ commutes with the noncontextual generators: ['ZIZIZI', 'IZIZIZ', 'IIIIZZ', 'IIIIIZ']\n",
      "YIYZZX commutes with the noncontextual generators: ['ZIZIZI']\n",
      "YIZIYZ commutes with the noncontextual generators: ['ZIZIZI', 'IZIZIZ', 'IIIIIZ']\n",
      "YIZIZY commutes with the noncontextual generators: ['IIZIZI']\n",
      "YIZYIZ commutes with the noncontextual generators: ['IIZIZI', 'IIIIZZ', 'IIIIIZ']\n",
      "YIZZYI commutes with the noncontextual generators: ['ZIZIZI', 'IZIZIZ', 'IIIIIZ']\n",
      "YXIIXY commutes with the noncontextual generators: ['ZIZIZI', 'IZIZIZ', 'IIIIZZ']\n",
      "YXIXYI commutes with the noncontextual generators: ['ZIZIZI', 'IZIZIZ', 'IIIIIZ']\n",
      "YXXYII commutes with the noncontextual generators: ['ZIZIZI', 'IZIZIZ', 'IIIIZZ', 'IIIIIZ']\n",
      "YXXZZY commutes with the noncontextual generators: ['ZIZIZI', 'IZIZIZ']\n",
      "YYIIII commutes with the noncontextual generators: ['IIZIZI', 'IIIIZZ', 'IIIIIZ']\n",
      "YYIIXX commutes with the noncontextual generators: ['ZIZIZI', 'IZIZIZ', 'IIIIZZ']\n",
      "YYIYYI commutes with the noncontextual generators: ['ZIZIZI', 'IZIZIZ', 'IIIIIZ']\n",
      "YYIZIZ commutes with the noncontextual generators: ['IIZIZI', 'IIIIZZ', 'IIIIIZ']\n",
      "YYXIII commutes with the noncontextual generators: ['ZIZIZI', 'IIIIZZ', 'IIIIIZ']\n",
      "YYXXII commutes with the noncontextual generators: ['ZIZIZI', 'IZIZIZ', 'IIIIZZ', 'IIIIIZ']\n",
      "YYXZIZ commutes with the noncontextual generators: ['ZIZIZI', 'IIIIZZ', 'IIIIIZ']\n",
      "YYXZZX commutes with the noncontextual generators: ['ZIZIZI', 'IZIZIZ']\n",
      "YYZIXZ commutes with the noncontextual generators: ['ZIZIZI', 'IIIIIZ']\n",
      "YYZIZI commutes with the noncontextual generators: ['IIZIZI', 'IIIIZZ', 'IIIIIZ']\n",
      "YYZZXI commutes with the noncontextual generators: ['ZIZIZI', 'IIIIIZ']\n",
      "YYZZZZ commutes with the noncontextual generators: ['IIZIZI', 'IIIIZZ', 'IIIIIZ']\n",
      "YZIYXZ commutes with the noncontextual generators: ['ZIZIZI', 'IIIIIZ']\n",
      "YZIYZI commutes with the noncontextual generators: ['IIZIZI', 'IIIIZZ', 'IIIIIZ']\n",
      "YZIZIY commutes with the noncontextual generators: ['IIZIZI']\n",
      "YZIZYI commutes with the noncontextual generators: ['ZIZIZI', 'IZIZIZ', 'IIIIIZ']\n",
      "YZIZYX commutes with the noncontextual generators: ['ZIZIZI', 'IIIIZZ']\n",
      "YZYIII commutes with the noncontextual generators: ['ZIZIZI', 'IZIZIZ', 'IIIIZZ', 'IIIIIZ']\n",
      "YZYIIZ commutes with the noncontextual generators: ['ZIZIZI', 'IZIZIZ', 'IIIIZZ', 'IIIIIZ']\n",
      "YZYIZI commutes with the noncontextual generators: ['ZIZIZI', 'IZIZIZ', 'IIIIZZ', 'IIIIIZ']\n",
      "YZYIZX commutes with the noncontextual generators: ['ZIZIZI']\n",
      "YZYXIZ commutes with the noncontextual generators: ['ZIZIZI', 'IIIIZZ', 'IIIIIZ']\n",
      "YZYXZX commutes with the noncontextual generators: ['ZIZIZI', 'IZIZIZ']\n",
      "YZYYZY commutes with the noncontextual generators: ['ZIZIZI', 'IZIZIZ']\n",
      "YZYZII commutes with the noncontextual generators: ['ZIZIZI', 'IZIZIZ', 'IIIIZZ', 'IIIIIZ']\n",
      "YZZIYI commutes with the noncontextual generators: ['ZIZIZI', 'IZIZIZ', 'IIIIIZ']\n",
      "YZZXXY commutes with the noncontextual generators: ['ZIZIZI', 'IZIZIZ', 'IIIIZZ']\n",
      "YZZYII commutes with the noncontextual generators: ['IIZIZI', 'IIIIZZ', 'IIIIIZ']\n",
      "YZZYXX commutes with the noncontextual generators: ['ZIZIZI', 'IZIZIZ', 'IIIIZZ']\n",
      "YZZZYI commutes with the noncontextual generators: ['ZIZIZI', 'IZIZIZ', 'IIIIIZ']\n",
      "YZZZYZ commutes with the noncontextual generators: ['ZIZIZI', 'IZIZIZ', 'IIIIIZ']\n",
      "YZZZZY commutes with the noncontextual generators: ['IIZIZI']\n",
      "ZIIIXZ commutes with the noncontextual generators: ['IZIZIZ', 'IIIIIZ']\n",
      "ZIIIZX commutes with the noncontextual generators: ['ZIZIZI', 'IIZIZI']\n",
      "ZIIXIZ commutes with the noncontextual generators: ['ZIZIZI', 'IIZIZI', 'IIIIZZ', 'IIIIIZ']\n",
      "ZIIXZX commutes with the noncontextual generators: ['ZIZIZI', 'IZIZIZ', 'IIZIZI']\n",
      "ZIIYZY commutes with the noncontextual generators: ['ZIZIZI', 'IZIZIZ', 'IIZIZI']\n",
      "ZIXIIZ commutes with the noncontextual generators: ['IZIZIZ', 'IIIIZZ', 'IIIIIZ']\n",
      "ZIXXZX commutes with the noncontextual generators: ['IZIZIZ']\n",
      "ZIXYYZ commutes with the noncontextual generators: ['ZIZIZI', 'IIZIZI', 'IIIIIZ']\n",
      "ZIXYZY commutes with the noncontextual generators: ['IZIZIZ']\n",
      "ZIXZII commutes with the noncontextual generators: ['IZIZIZ', 'IIIIZZ', 'IIIIIZ']\n",
      "ZIXZIZ commutes with the noncontextual generators: ['IZIZIZ', 'IIIIZZ', 'IIIIIZ']\n",
      "ZIXZXI commutes with the noncontextual generators: ['ZIZIZI', 'IZIZIZ', 'IIZIZI', 'IIIIIZ']\n",
      "ZIXZXX commutes with the noncontextual generators: ['ZIZIZI', 'IIZIZI', 'IIIIZZ']\n",
      "ZIXZZZ commutes with the noncontextual generators: ['IZIZIZ', 'IIIIZZ', 'IIIIIZ']\n",
      "ZIYYXZ commutes with the noncontextual generators: ['ZIZIZI', 'IIZIZI', 'IIIIIZ']\n",
      "ZIYYZI commutes with the noncontextual generators: ['IIIIZZ', 'IIIIIZ']\n",
      "ZIYZIY commutes with the noncontextual generators: []\n",
      "ZIYZYI commutes with the noncontextual generators: ['ZIZIZI', 'IZIZIZ', 'IIZIZI', 'IIIIIZ']\n",
      "ZIYZYX commutes with the noncontextual generators: ['ZIZIZI', 'IIZIZI', 'IIIIZZ']\n",
      "ZIZIIX commutes with the noncontextual generators: ['ZIZIZI', 'IIZIZI']\n",
      "ZIZIXI commutes with the noncontextual generators: ['IZIZIZ', 'IIIIIZ']\n",
      "ZIZIXZ commutes with the noncontextual generators: ['IZIZIZ', 'IIIIIZ']\n",
      "ZIZIYY commutes with the noncontextual generators: ['IIIIZZ']\n",
      "ZIZIZX commutes with the noncontextual generators: ['ZIZIZI', 'IIZIZI']\n",
      "ZIZXII commutes with the noncontextual generators: ['ZIZIZI', 'IIZIZI', 'IIIIZZ', 'IIIIIZ']\n",
      "ZIZXIX commutes with the noncontextual generators: ['ZIZIZI', 'IZIZIZ', 'IIZIZI']\n",
      "ZIZXIZ commutes with the noncontextual generators: ['ZIZIZI', 'IIZIZI', 'IIIIZZ', 'IIIIIZ']\n",
      "ZIZXXI commutes with the noncontextual generators: ['IIIIIZ']\n",
      "ZIZXYY commutes with the noncontextual generators: ['IZIZIZ', 'IIIIZZ']\n",
      "ZIZXZZ commutes with the noncontextual generators: ['ZIZIZI', 'IIZIZI', 'IIIIZZ', 'IIIIIZ']\n",
      "ZIZYIY commutes with the noncontextual generators: ['ZIZIZI', 'IZIZIZ', 'IIZIZI']\n",
      "ZIZYYX commutes with the noncontextual generators: ['IZIZIZ', 'IIIIZZ']\n",
      "ZIZZXZ commutes with the noncontextual generators: ['IZIZIZ', 'IIIIIZ']\n",
      "ZIZZZX commutes with the noncontextual generators: ['ZIZIZI', 'IIZIZI']\n",
      "ZXIIII commutes with the noncontextual generators: ['ZIZIZI', 'IIZIZI', 'IIIIZZ', 'IIIIIZ']\n",
      "ZXIIIZ commutes with the noncontextual generators: ['ZIZIZI', 'IIZIZI', 'IIIIZZ', 'IIIIIZ']\n",
      "ZXIIXZ commutes with the noncontextual generators: ['IIIIIZ']\n",
      "ZXIIZI commutes with the noncontextual generators: ['ZIZIZI', 'IIZIZI', 'IIIIZZ', 'IIIIIZ']\n",
      "ZXIXXZ commutes with the noncontextual generators: ['IZIZIZ', 'IIIIIZ']\n",
      "ZXIZII commutes with the noncontextual generators: ['ZIZIZI', 'IIZIZI', 'IIIIZZ', 'IIIIIZ']\n",
      "ZXIZIX commutes with the noncontextual generators: ['ZIZIZI', 'IZIZIZ', 'IIZIZI']\n",
      "ZXIZIZ commutes with the noncontextual generators: ['ZIZIZI', 'IIZIZI', 'IIIIZZ', 'IIIIIZ']\n",
      "ZXIZXI commutes with the noncontextual generators: ['IIIIIZ']\n",
      "ZXIZYY commutes with the noncontextual generators: ['IZIZIZ', 'IIIIZZ']\n",
      "ZXIZZZ commutes with the noncontextual generators: ['ZIZIZI', 'IIZIZI', 'IIIIZZ', 'IIIIIZ']\n",
      "ZXXIXZ commutes with the noncontextual generators: ['ZIZIZI', 'IIZIZI', 'IIIIIZ']\n",
      "ZXXIZI commutes with the noncontextual generators: ['IIIIZZ', 'IIIIIZ']\n",
      "ZXXZXI commutes with the noncontextual generators: ['ZIZIZI', 'IIZIZI', 'IIIIIZ']\n",
      "ZXXZZZ commutes with the noncontextual generators: ['IIIIZZ', 'IIIIIZ']\n",
      "ZXYIYZ commutes with the noncontextual generators: ['ZIZIZI', 'IIZIZI', 'IIIIIZ']\n",
      "ZXYIZY commutes with the noncontextual generators: ['IZIZIZ']\n",
      "ZXYYIZ commutes with the noncontextual generators: ['IZIZIZ', 'IIIIZZ', 'IIIIIZ']\n",
      "ZXYZYI commutes with the noncontextual generators: ['ZIZIZI', 'IIZIZI', 'IIIIIZ']\n",
      "ZXZIII commutes with the noncontextual generators: ['ZIZIZI', 'IIZIZI', 'IIIIZZ', 'IIIIIZ']\n",
      "ZXZZIZ commutes with the noncontextual generators: ['ZIZIZI', 'IIZIZI', 'IIIIZZ', 'IIIIIZ']\n",
      "ZXZZZX commutes with the noncontextual generators: ['ZIZIZI', 'IZIZIZ', 'IIZIZI']\n",
      "ZYIYXZ commutes with the noncontextual generators: ['IZIZIZ', 'IIIIIZ']\n",
      "ZYIZIY commutes with the noncontextual generators: ['ZIZIZI', 'IZIZIZ', 'IIZIZI']\n",
      "ZYIZYX commutes with the noncontextual generators: ['IZIZIZ', 'IIIIZZ']\n",
      "ZYYIZX commutes with the noncontextual generators: ['IZIZIZ']\n",
      "ZYYXIZ commutes with the noncontextual generators: ['IZIZIZ', 'IIIIZZ', 'IIIIIZ']\n",
      "ZYZZZY commutes with the noncontextual generators: ['ZIZIZI', 'IZIZIZ', 'IIZIZI']\n",
      "ZZIXII commutes with the noncontextual generators: ['ZIZIZI', 'IIZIZI', 'IIIIZZ', 'IIIIIZ']\n",
      "ZZIZZX commutes with the noncontextual generators: ['ZIZIZI', 'IIZIZI']\n",
      "ZZXIII commutes with the noncontextual generators: ['IZIZIZ', 'IIIIZZ', 'IIIIIZ']\n",
      "ZZXIXX commutes with the noncontextual generators: ['ZIZIZI', 'IIZIZI', 'IIIIZZ']\n",
      "ZZXYYI commutes with the noncontextual generators: ['ZIZIZI', 'IIZIZI', 'IIIIIZ']\n",
      "ZZXZIZ commutes with the noncontextual generators: ['IZIZIZ', 'IIIIZZ', 'IIIIIZ']\n",
      "ZZYIIY commutes with the noncontextual generators: []\n",
      "ZZYIYX commutes with the noncontextual generators: ['ZIZIZI', 'IIZIZI', 'IIIIZZ']\n",
      "ZZYYXI commutes with the noncontextual generators: ['ZIZIZI', 'IIZIZI', 'IIIIIZ']\n",
      "ZZYYZZ commutes with the noncontextual generators: ['IIIIZZ', 'IIIIIZ']\n",
      "ZZZIXZ commutes with the noncontextual generators: ['IZIZIZ', 'IIIIIZ']\n",
      "ZZZIZX commutes with the noncontextual generators: ['ZIZIZI', 'IIZIZI']\n",
      "ZZZXII commutes with the noncontextual generators: ['ZIZIZI', 'IIZIZI', 'IIIIZZ', 'IIIIIZ']\n",
      "ZZZXIZ commutes with the noncontextual generators: ['ZIZIZI', 'IIZIZI', 'IIIIZZ', 'IIIIIZ']\n",
      "ZZZXXZ commutes with the noncontextual generators: ['IIIIIZ']\n",
      "ZZZXZI commutes with the noncontextual generators: ['ZIZIZI', 'IIZIZI', 'IIIIZZ', 'IIIIIZ']\n",
      "ZZZZIX commutes with the noncontextual generators: ['ZIZIZI', 'IIZIZI']\n",
      "ZZZZXI commutes with the noncontextual generators: ['IZIZIZ', 'IIIIIZ']\n",
      "ZZZZYY commutes with the noncontextual generators: ['IIIIZZ']\n",
      "ZZZZZX commutes with the noncontextual generators: ['ZIZIZI', 'IIZIZI']\n"
     ]
    },
    {
     "data": {
      "text/plain": [
       "[]"
      ]
     },
     "execution_count": 179,
     "metadata": {},
     "output_type": "execute_result"
    }
   ],
   "source": [
    "q_corr_terms = []\n",
    "for t in terms_context:\n",
    "    commutes = []\n",
    "    for g in G:\n",
    "        if c.commute(t, g):\n",
    "            commutes.append(g)\n",
    "    print(t, 'commutes with the noncontextual generators:', commutes)\n",
    "    if commutes == G:\n",
    "        q_corr_terms.append(t)\n",
    "        \n",
    "q_corr_terms"
   ]
  },
  {
   "cell_type": "code",
   "execution_count": 101,
   "metadata": {},
   "outputs": [],
   "source": [
    "psi2 = [0 for i in range(2**num_qubits)]\n",
    "psi2[bin_to_int('000011')] = np.sin(t)\n",
    "psi2[bin_to_int('010111')] = -np.cos(t)"
   ]
  },
  {
   "cell_type": "code",
   "execution_count": 121,
   "metadata": {},
   "outputs": [
    {
     "data": {
      "text/plain": [
       "<qiskit.circuit.instructionset.InstructionSet at 0x7fdb360a79b0>"
      ]
     },
     "execution_count": 121,
     "metadata": {},
     "output_type": "execute_result"
    }
   ],
   "source": [
    "from qiskit import QuantumCircuit\n",
    "from qiskit.extensions import Initialize\n",
    "from qiskit.circuit import Parameter\n",
    "\n",
    "anz = QuantumCircuit(num_qubits) # We are redefining qc\n",
    "anz.initialize(psi)\n",
    "anz.ry(Parameter('x'), 3)\n",
    "anz.initialize(psi2)\n",
    "anz.rx(Parameter('y'), 3)"
   ]
  },
  {
   "cell_type": "code",
   "execution_count": 122,
   "metadata": {},
   "outputs": [
    {
     "name": "stdout",
     "output_type": "stream",
     "text": [
      "VQE: -4.235679984707565 | Noncontextual Ground State: -4.235679984712036 True Ground State: -4.259188160411326\n"
     ]
    }
   ],
   "source": [
    "from qiskit.utils import QuantumInstance, algorithm_globals\n",
    "from qiskit.aqua.components.optimizers import COBYLA, SPSA, SLSQP\n",
    "from qiskit.algorithms import VQE\n",
    "from qiskit.quantum_info.operators.symplectic.pauli import Pauli\n",
    "from qiskit.opflow.primitive_ops import PauliOp\n",
    "\n",
    "ham_qiskit = sum([PauliOp(Pauli(k), ham[k]) for k in ham.keys()])\n",
    "\n",
    "seed = 50\n",
    "algorithm_globals.random_seed = seed\n",
    "qi = QuantumInstance(Aer.get_backend('statevector_simulator'), seed_transpiler=seed, seed_simulator=seed)\n",
    "slsqp = SLSQP(maxiter=1000)\n",
    "\n",
    "vqe = VQE(anz, optimizer=slsqp, quantum_instance=qi)\n",
    "vqe_run    = vqe.compute_minimum_eigenvalue(operator=ham_qiskit)\n",
    "vqe_result = vqe_run.optimal_value# + shift\n",
    "\n",
    "print('VQE:', vqe_result, '|', 'Noncontextual Ground State:', gs_noncon_energy, 'True Ground State:', true_gs)"
   ]
  },
  {
   "cell_type": "code",
   "execution_count": 180,
   "metadata": {},
   "outputs": [
    {
     "name": "stdout",
     "output_type": "stream",
     "text": [
      "[-4.235679984712035, -4.235679984712034, -4.235679984712036, -4.2356799847120365, -4.235679984712036, -4.2572886431457135, -4.259188160411331, -4.259188160411323, -4.2591881604113135]\n",
      "[-4.25918816]\n"
     ]
    }
   ],
   "source": [
    "from qiskit.aqua.algorithms import NumPyEigensolver\n",
    "\n",
    "order = [0,1,2,3,4,5,6,7]\n",
    "print(c.contextual_subspace_approximations(ham,model,fn_form,ep_state,order))\n",
    "\n",
    "result = NumPyEigensolver(q_conv.dict_to_WeightedPauliOperator(ham)).run()\n",
    "exact_energy = np.real(result.eigenvalues)\n",
    "\n",
    "print(exact_energy)"
   ]
  },
  {
   "cell_type": "code",
   "execution_count": null,
   "metadata": {},
   "outputs": [],
   "source": []
  },
  {
   "cell_type": "code",
   "execution_count": null,
   "metadata": {},
   "outputs": [],
   "source": []
  }
 ],
 "metadata": {
  "kernelspec": {
   "display_name": "Python 3",
   "language": "python",
   "name": "python3"
  },
  "language_info": {
   "codemirror_mode": {
    "name": "ipython",
    "version": 3
   },
   "file_extension": ".py",
   "mimetype": "text/x-python",
   "name": "python",
   "nbconvert_exporter": "python",
   "pygments_lexer": "ipython3",
   "version": "3.7.0"
  }
 },
 "nbformat": 4,
 "nbformat_minor": 2
}
