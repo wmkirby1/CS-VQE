{
 "cells": [
  {
   "cell_type": "code",
   "execution_count": 33,
   "metadata": {},
   "outputs": [],
   "source": [
    "import os\n",
    "import sys\n",
    "module_path = os.path.abspath(os.path.join('..'))\n",
    "if module_path not in sys.path:\n",
    "    sys.path.append(module_path)"
   ]
  },
  {
   "cell_type": "code",
   "execution_count": 50,
   "metadata": {},
   "outputs": [
    {
     "name": "stderr",
     "output_type": "stream",
     "text": [
      "/home/tim/anaconda3/lib/python3.7/site-packages/qiskit/aqua/components/optimizers/optimizer.py:50: DeprecationWarning: The package qiskit.aqua.components.optimizers is deprecated. It was moved/refactored to qiskit.algorithms.optimizers (pip install qiskit-terra). For more information see <https://github.com/Qiskit/qiskit-aqua/blob/master/README.md#migration-guide>\n",
      "  'qiskit.algorithms.optimizers', 'qiskit-terra')\n"
     ]
    }
   ],
   "source": [
    "from cs_vqe_classes.eigenstate import eigenstate\n",
    "from cs_vqe_classes.cs_vqe import cs_vqe\n",
    "from cs_vqe_classes.cs_vqe_circuit import cs_vqe_circuit"
   ]
  },
  {
   "cell_type": "code",
   "execution_count": 54,
   "metadata": {},
   "outputs": [
    {
     "name": "stdout",
     "output_type": "stream",
     "text": [
      "No Python documentation found for 'cs_vqe.__doc__'.\r\n",
      "Use help() to get the interactive help utility.\r\n",
      "Use help(str) for help on the str class.\r\n"
     ]
    }
   ],
   "source": [
    "!python -m pydoc -w cs_vqe.__doc__"
   ]
  },
  {
   "cell_type": "code",
   "execution_count": 55,
   "metadata": {},
   "outputs": [
    {
     "data": {
      "text/plain": [
       "'Class for constructing the n-th +1-eigenstate of A\\n\\n    Attributes\\n    ----------\\n    A : dict\\n        Dictionary containg two items A = \\\\{P_1:r_1, P_2:r_2\\\\}}\\n    n : int\\n        The eigenstate index\\n    num_qubits : int\\n        The number of qubits in the Hamiltonian\\n\\n    Methods\\n    -------\\n    P_index\\n        Indexes the qubit positions acted upon by each Pauli operator X, Y, Z\\n    t_val\\n        Calculates the eigenstate parameter t that satisfies the required amplitude constraint\\n    construct\\n        Constructs the eigenstate, stored as a numpy array\\n    '"
      ]
     },
     "execution_count": 55,
     "metadata": {},
     "output_type": "execute_result"
    }
   ],
   "source": [
    "eigenstate.__doc__"
   ]
  },
  {
   "cell_type": "code",
   "execution_count": null,
   "metadata": {},
   "outputs": [],
   "source": []
  }
 ],
 "metadata": {
  "kernelspec": {
   "display_name": "Python 3",
   "language": "python",
   "name": "python3"
  },
  "language_info": {
   "codemirror_mode": {
    "name": "ipython",
    "version": 3
   },
   "file_extension": ".py",
   "mimetype": "text/x-python",
   "name": "python",
   "nbconvert_exporter": "python",
   "pygments_lexer": "ipython3",
   "version": "3.7.0"
  }
 },
 "nbformat": 4,
 "nbformat_minor": 2
}
