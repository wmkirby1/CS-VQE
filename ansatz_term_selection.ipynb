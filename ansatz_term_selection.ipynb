{
 "cells": [
  {
   "cell_type": "code",
   "execution_count": 1,
   "metadata": {},
   "outputs": [
    {
     "name": "stdout",
     "output_type": "stream",
     "text": [
      "Will store matrices in sparse form\n"
     ]
    },
    {
     "name": "stderr",
     "output_type": "stream",
     "text": [
      "/home/tweaving/.local/lib/python3.8/site-packages/qiskit/aqua/__init__.py:86: DeprecationWarning: The package qiskit.aqua is deprecated. It was moved/refactored to qiskit-terra For more information see <https://github.com/Qiskit/qiskit-aqua/blob/main/README.md#migration-guide>\n",
      "  warn_package('aqua', 'qiskit-terra')\n"
     ]
    }
   ],
   "source": [
    "import json\n",
    "import utils.molecule_tools as mol\n",
    "import numpy as np\n",
    "import json\n",
    "from collections import Counter\n",
    "import utils.qonversion_tools as qonvert\n",
    "import utils.bit_tools as bit\n",
    "import utils.linalg_tools as la\n",
    "import itertools\n",
    "from matplotlib import pyplot as plt\n",
    "# OpenFermion libraries\n",
    "from openfermion import MolecularData\n",
    "from openfermionpyscf import run_pyscf\n",
    "from openfermion.ops import FermionOperator, QubitOperator\n",
    "from openfermion.transforms import jordan_wigner, bravyi_kitaev\n",
    "from openfermion.transforms import get_fermion_operator\n",
    "from openfermion.circuits import (uccsd_singlet_get_packed_amplitudes,\n",
    "                               uccsd_singlet_generator)\n",
    "from pyscf import gto, scf, cc"
   ]
  },
  {
   "cell_type": "code",
   "execution_count": 2,
   "metadata": {},
   "outputs": [],
   "source": [
    "with open('data/molecule_data.json', 'r') as data:\n",
    "    molecule_data = json.load(data)"
   ]
  },
  {
   "cell_type": "code",
   "execution_count": 3,
   "metadata": {},
   "outputs": [],
   "source": [
    "atoms, coords, multiplicity, charge, basis, sym_sector = molecule_data['Be_STO-3G_SINGLET'].values()"
   ]
  },
  {
   "cell_type": "code",
   "execution_count": 4,
   "metadata": {},
   "outputs": [
    {
     "name": "stdout",
     "output_type": "stream",
     "text": [
      "Attempting to taper 10 --> 5 qubits\n",
      "~~~~~~~~~~~~~~~~~~~~~~~~~~~~~~~~~~~~\n",
      "Energies match in sector (1, 1, 1, 1, 1), tapering successful!\n",
      "\n"
     ]
    }
   ],
   "source": [
    "moltap=mol.construct_molecule(atoms, coords, charge, multiplicity, basis, ucc_threshold=1e-3, taper=True, sym_sector=sym_sector)\n",
    "moluntap=mol.construct_molecule(atoms, coords, charge, multiplicity, basis, ucc_threshold=1e-3)"
   ]
  },
  {
   "cell_type": "code",
   "execution_count": 7,
   "metadata": {},
   "outputs": [
    {
     "data": {
      "text/plain": [
       "{'YIIXX': (1.734723475976807e-18-0.4999999999999999j),\n",
       " 'XIIYX': (-1.734723475976807e-18+0.4999999999999999j),\n",
       " 'XIIXY': (-5.204170427930421e-18+0.49999999999999994j),\n",
       " 'YIIYY': (-5.204170427930421e-18+0.49999999999999994j),\n",
       " 'IYIXX': (1.734723475976807e-18-0.4999999999999999j),\n",
       " 'IXIYX': (-1.734723475976807e-18+0.4999999999999999j),\n",
       " 'IXIXY': (-5.204170427930421e-18+0.49999999999999994j),\n",
       " 'IYIYY': (-5.204170427930421e-18+0.49999999999999994j),\n",
       " 'IIYXX': (-1.734723475976807e-18-0.4999999999999999j),\n",
       " 'IIXYX': (1.734723475976807e-18+0.4999999999999999j),\n",
       " 'IIXXY': (-5.204170427930421e-18+0.49999999999999994j),\n",
       " 'IIYYY': (-5.204170427930421e-18+0.49999999999999994j)}"
      ]
     },
     "execution_count": 7,
     "metadata": {},
     "output_type": "execute_result"
    }
   ],
   "source": [
    "moltap['uccsdansatz']"
   ]
  },
  {
   "cell_type": "code",
   "execution_count": 6,
   "metadata": {},
   "outputs": [
    {
     "name": "stdout",
     "output_type": "stream",
     "text": [
      "111100000000\n"
     ]
    }
   ],
   "source": [
    "mult = Counter(atoms)\n",
    "speciesname = ''\n",
    "for a in mult.keys():\n",
    "    speciesname += (a+str(mult[a])+'_')\n",
    "speciesname += str(basis)\n",
    "\n",
    "# ensure correct format for geometry\n",
    "geometry = []\n",
    "for index, a in enumerate(atoms):\n",
    "    geometry.append((a, coords[index]))\n",
    "\n",
    "# construct with PySCF through OpenFermion for actual molecular calculations (including coupled cluster amps)\n",
    "moldata = MolecularData(geometry, basis, multiplicity, charge, description=speciesname)\n",
    "#delete_input = True\n",
    "#delete_output = True\n",
    "molecule = run_pyscf(moldata,\n",
    "                      run_scf=True,\n",
    "                      run_mp2=True,\n",
    "                      run_cisd=True,\n",
    "                      run_ccsd=True,\n",
    "                      run_fci=True)\n",
    "num_electrons =molecule.n_electrons # total number of particles\n",
    "num_particles =(molecule.get_n_alpha_electrons(),\n",
    "                molecule.get_n_beta_electrons()) # number of alpha (spin up) and beta (spin down) electrons\n",
    "num_qubits = 2*molecule.n_orbitals\n",
    "# construct second quantised Hamiltonian:\n",
    "ham_2ndQ = get_fermion_operator(molecule.get_molecular_hamiltonian())\n",
    "# construct second quantised UCCSD operator:\n",
    "ccsd_single_amps = molecule.ccsd_single_amps\n",
    "ccsd_double_amps = molecule.ccsd_double_amps\n",
    "packed_amps = uccsd_singlet_get_packed_amplitudes(ccsd_single_amps,  ccsd_double_amps, num_qubits, num_electrons)\n",
    "ucc_2ndQ = uccsd_singlet_generator(packed_amps, num_qubits, num_electrons)\n",
    "\n",
    "hf_config= ''.join(['1' for i in range(num_electrons)]+['0' for i in range(num_qubits-num_electrons)])\n",
    "print(hf_config)"
   ]
  },
  {
   "cell_type": "code",
   "execution_count": 7,
   "metadata": {},
   "outputs": [
    {
     "data": {
      "text/plain": [
       "-0.00030795433637807485 [0^ 4] +\n",
       "0.0019024109678974534 [0^ 4 1^ 5] +\n",
       "0.0009064336270445089 [0^ 6 1^ 7] +\n",
       "0.0009064336270445094 [0^ 8 1^ 9] +\n",
       "0.0004742387082844445 [0^ 10] +\n",
       "0.0004862598310061071 [0^ 10 1^ 11] +\n",
       "0.00040798151647315235 [0^ 10 2^ 4] +\n",
       "0.00040798151647315235 [0^ 10 3^ 5] +\n",
       "-0.00030795433637807485 [1^ 5] +\n",
       "0.0019024109678974534 [1^ 5 0^ 4] +\n",
       "0.0009064336270445089 [1^ 7 0^ 6] +\n",
       "0.0009064336270445094 [1^ 9 0^ 8] +\n",
       "0.0004742387082844445 [1^ 11] +\n",
       "0.0004862598310061071 [1^ 11 0^ 10] +\n",
       "0.00040798151647315235 [1^ 11 2^ 4] +\n",
       "0.00040798151647315235 [1^ 11 3^ 5] +\n",
       "-0.037484399331219824 [2^ 4] +\n",
       "0.017141621708289423 [2^ 4 3^ 5] +\n",
       "0.014017635470433993 [2^ 6 3^ 7] +\n",
       "0.014017635470433991 [2^ 8 3^ 9] +\n",
       "-0.0033503033732066915 [2^ 10] +\n",
       "-0.00040798151647315235 [2^ 10 0^ 4] +\n",
       "-0.00040798151647315235 [2^ 10 1^ 5] +\n",
       "0.05577395168389476 [2^ 10 3^ 11] +\n",
       "-0.037484399331219824 [3^ 5] +\n",
       "0.017141621708289423 [3^ 5 2^ 4] +\n",
       "0.014017635470433993 [3^ 7 2^ 6] +\n",
       "0.014017635470433991 [3^ 9 2^ 8] +\n",
       "-0.0033503033732066915 [3^ 11] +\n",
       "-0.00040798151647315235 [3^ 11 0^ 4] +\n",
       "-0.00040798151647315235 [3^ 11 1^ 5] +\n",
       "0.05577395168389476 [3^ 11 2^ 10] +\n",
       "0.00030795433637807485 [4^ 0] +\n",
       "-0.0019024109678974534 [4^ 0 5^ 1] +\n",
       "0.00040798151647315235 [4^ 0 10^ 2] +\n",
       "0.00040798151647315235 [4^ 0 11^ 3] +\n",
       "0.037484399331219824 [4^ 2] +\n",
       "-0.017141621708289423 [4^ 2 5^ 3] +\n",
       "-0.00040798151647315235 [4^ 2 10^ 0] +\n",
       "-0.00040798151647315235 [4^ 2 11^ 1] +\n",
       "0.00030795433637807485 [5^ 1] +\n",
       "-0.0019024109678974534 [5^ 1 4^ 0] +\n",
       "0.00040798151647315235 [5^ 1 10^ 2] +\n",
       "0.00040798151647315235 [5^ 1 11^ 3] +\n",
       "0.037484399331219824 [5^ 3] +\n",
       "-0.017141621708289423 [5^ 3 4^ 2] +\n",
       "-0.00040798151647315235 [5^ 3 10^ 0] +\n",
       "-0.00040798151647315235 [5^ 3 11^ 1] +\n",
       "-0.0009064336270445089 [6^ 0 7^ 1] +\n",
       "-0.014017635470433993 [6^ 2 7^ 3] +\n",
       "-0.0009064336270445089 [7^ 1 6^ 0] +\n",
       "-0.014017635470433993 [7^ 3 6^ 2] +\n",
       "-0.0009064336270445094 [8^ 0 9^ 1] +\n",
       "-0.014017635470433991 [8^ 2 9^ 3] +\n",
       "-0.0009064336270445094 [9^ 1 8^ 0] +\n",
       "-0.014017635470433991 [9^ 3 8^ 2] +\n",
       "-0.0004742387082844445 [10^ 0] +\n",
       "-0.0004862598310061071 [10^ 0 11^ 1] +\n",
       "0.0033503033732066915 [10^ 2] +\n",
       "-0.05577395168389476 [10^ 2 11^ 3] +\n",
       "-0.0004742387082844445 [11^ 1] +\n",
       "-0.0004862598310061071 [11^ 1 10^ 0] +\n",
       "0.0033503033732066915 [11^ 3] +\n",
       "-0.05577395168389476 [11^ 3 10^ 2]"
      ]
     },
     "execution_count": 7,
     "metadata": {},
     "output_type": "execute_result"
    }
   ],
   "source": [
    "ucc_2ndQ"
   ]
  },
  {
   "cell_type": "code",
   "execution_count": 8,
   "metadata": {},
   "outputs": [
    {
     "name": "stdout",
     "output_type": "stream",
     "text": [
      "-7.882762230972004\n"
     ]
    }
   ],
   "source": [
    "ham_mat = qonvert.dict_to_WeightedPauliOperator(qonvert.QubitOperator_to_dict(jordan_wigner(ham_2ndQ), num_qubits)).to_matrix()\n",
    "gsnrg, gsvec = la.get_ground_state(ham_mat)\n",
    "print(gsnrg)\n",
    "gsprobs = [abs(amp)**2 for amp in gsvec]\n",
    "bstates = [bit.int_to_bin(i, num_qubits) for i in range(2**num_qubits)]"
   ]
  },
  {
   "cell_type": "code",
   "execution_count": 9,
   "metadata": {},
   "outputs": [
    {
     "data": {
      "text/plain": [
       "[(0.9759572276560825, '111100000000'),\n",
       " (0.012144188720822343, '110000000011'),\n",
       " (0.0032300081299143015, '110001000010'),\n",
       " (0.003230008129914104, '110010000001'),\n",
       " (0.0013748904008232057, '111001000000'),\n",
       " (0.0013748904008226354, '110110000000'),\n",
       " (0.0010596284109832639, '110011000000')]"
      ]
     },
     "execution_count": 9,
     "metadata": {},
     "output_type": "execute_result"
    }
   ],
   "source": [
    "sig_state_order = [s for s in sorted(list(zip(gsprobs, bstates)), key=lambda x:-x[0]) if s[0]>1e-3]\n",
    "sig_state_order"
   ]
  },
  {
   "cell_type": "code",
   "execution_count": 10,
   "metadata": {},
   "outputs": [
    {
     "data": {
      "text/plain": [
       "1.0 [2^ 4] +\n",
       "-1.0 [2^ 4 3^ 5] +\n",
       "-1.0 [2^ 4 3^ 11] +\n",
       "-1.0 [2^ 5 3^ 10] +\n",
       "-1.0 [2^ 10 3^ 11] +\n",
       "1.0 [3^ 5] +\n",
       "-1.0 [3^ 5 2^ 4] +\n",
       "-1.0 [3^ 10 2^ 5] +\n",
       "-1.0 [3^ 11 2^ 4] +\n",
       "-1.0 [3^ 11 2^ 10] +\n",
       "-1.0 [4^ 2] +\n",
       "1.0 [4^ 2 5^ 3] +\n",
       "1.0 [4^ 2 11^ 3] +\n",
       "1.0 [5^ 2 10^ 3] +\n",
       "-1.0 [5^ 3] +\n",
       "1.0 [5^ 3 4^ 2] +\n",
       "1.0 [10^ 2 11^ 3] +\n",
       "1.0 [10^ 3 5^ 2] +\n",
       "1.0 [11^ 3 4^ 2] +\n",
       "1.0 [11^ 3 10^ 2]"
      ]
     },
     "execution_count": 10,
     "metadata": {},
     "output_type": "execute_result"
    }
   ],
   "source": [
    "sig_ucc = FermionOperator()\n",
    "\n",
    "for amp, state in sig_state_order:\n",
    "    exCite = [index for index, b in enumerate(zip(state, hf_config)) if len(set(b))==2]\n",
    "    if len(exCite)==2:\n",
    "        sig_ucc += FermionOperator([(exCite[0],1),(exCite[1],0)])\n",
    "        sig_ucc -= FermionOperator([(exCite[1],1),(exCite[0],0)])\n",
    "    if len(exCite)==4:\n",
    "        order1 = [2, 0, 3, 1]\n",
    "        order2 = [3, 1, 2, 0]\n",
    "        sig_ucc += FermionOperator([(cite, (index+1)%2) for index, cite in enumerate([exCite[i] for i in order1])])\n",
    "        sig_ucc -= FermionOperator([(cite, (index+1)%2) for index, cite in enumerate([exCite[i] for i in order1][::-1])])\n",
    "        sig_ucc += FermionOperator([(cite, (index+1)%2) for index, cite in enumerate([exCite[i] for i in order2])])\n",
    "        sig_ucc -= FermionOperator([(cite, (index+1)%2) for index, cite in enumerate([exCite[i] for i in order2][::-1])])\n",
    "\n",
    "sig_ucc"
   ]
  },
  {
   "cell_type": "code",
   "execution_count": 11,
   "metadata": {},
   "outputs": [
    {
     "ename": "NameError",
     "evalue": "name 'reduccsd' is not defined",
     "output_type": "error",
     "traceback": [
      "\u001b[0;31m---------------------------------------------------------------------------\u001b[0m",
      "\u001b[0;31mNameError\u001b[0m                                 Traceback (most recent call last)",
      "\u001b[0;32m/tmp/ipykernel_27973/2749871487.py\u001b[0m in \u001b[0;36m<module>\u001b[0;34m\u001b[0m\n\u001b[0;32m----> 1\u001b[0;31m \u001b[0mreduccsd\u001b[0m\u001b[0;34m\u001b[0m\u001b[0;34m\u001b[0m\u001b[0m\n\u001b[0m",
      "\u001b[0;31mNameError\u001b[0m: name 'reduccsd' is not defined"
     ]
    }
   ],
   "source": [
    "reduccsd"
   ]
  },
  {
   "cell_type": "code",
   "execution_count": null,
   "metadata": {},
   "outputs": [],
   "source": []
  }
 ],
 "metadata": {
  "interpreter": {
   "hash": "916dbcbb3f70747c44a77c7bcd40155683ae19c65e1c03b4aa3499c5328201f1"
  },
  "kernelspec": {
   "display_name": "Python 3 (ipykernel)",
   "language": "python",
   "name": "python3"
  },
  "language_info": {
   "codemirror_mode": {
    "name": "ipython",
    "version": 3
   },
   "file_extension": ".py",
   "mimetype": "text/x-python",
   "name": "python",
   "nbconvert_exporter": "python",
   "pygments_lexer": "ipython3",
   "version": "3.8.8"
  }
 },
 "nbformat": 4,
 "nbformat_minor": 2
}
