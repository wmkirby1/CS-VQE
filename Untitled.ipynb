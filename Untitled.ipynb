{
 "cells": [
  {
   "cell_type": "code",
   "execution_count": 1,
   "metadata": {},
   "outputs": [],
   "source": [
    "from utils.orquestra.get_ham_data import get_ham_data\n",
    "from utils.orquestra.extract_noncon import extract_noncon"
   ]
  },
  {
   "cell_type": "code",
   "execution_count": 2,
   "metadata": {},
   "outputs": [],
   "source": [
    "speciesname, ham, uccsd, num_qubits = get_ham_data('H3+_STO-3G_SINGLET')"
   ]
  },
  {
   "cell_type": "code",
   "execution_count": 5,
   "metadata": {},
   "outputs": [
    {
     "data": {
      "text/plain": [
       "['IIIIII',\n",
       " 'ZIIIII',\n",
       " 'IZIIII',\n",
       " 'IIIIZZ',\n",
       " 'IIZZII',\n",
       " 'ZZIIII',\n",
       " 'ZIIIIZ',\n",
       " 'IZIIZI',\n",
       " 'ZIIZII',\n",
       " 'IZZIII',\n",
       " 'IIZIIZ',\n",
       " 'IIIZZI',\n",
       " 'IIIIZI',\n",
       " 'IIIIIZ',\n",
       " 'IIIZII',\n",
       " 'IIZIII',\n",
       " 'IIZIZI',\n",
       " 'IIIZIZ',\n",
       " 'ZIIIZI',\n",
       " 'IZIIIZ',\n",
       " 'ZIZIII',\n",
       " 'IZIZII',\n",
       " 'YXIIXY',\n",
       " 'YYIIXX',\n",
       " 'XXIIYY',\n",
       " 'XYIIYX']"
      ]
     },
     "execution_count": 5,
     "metadata": {},
     "output_type": "execute_result"
    }
   ],
   "source": [
    "extract_noncon(ham)"
   ]
  },
  {
   "cell_type": "code",
   "execution_count": null,
   "metadata": {},
   "outputs": [],
   "source": []
  }
 ],
 "metadata": {
  "kernelspec": {
   "display_name": "Python 3",
   "language": "python",
   "name": "python3"
  },
  "language_info": {
   "codemirror_mode": {
    "name": "ipython",
    "version": 3
   },
   "file_extension": ".py",
   "mimetype": "text/x-python",
   "name": "python",
   "nbconvert_exporter": "python",
   "pygments_lexer": "ipython3",
   "version": "3.7.0"
  }
 },
 "nbformat": 4,
 "nbformat_minor": 2
}
