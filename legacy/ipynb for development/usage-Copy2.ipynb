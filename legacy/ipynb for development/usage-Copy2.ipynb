{
 "cells": [
  {
   "cell_type": "markdown",
   "metadata": {},
   "source": [
    "# CS-VQE usage\n",
    "\n",
    "Here we run through a simple example of CS-VQE to simulate a small test molucule for varying quantum resource expenditure."
   ]
  },
  {
   "cell_type": "code",
   "execution_count": 1,
   "metadata": {},
   "outputs": [
    {
     "name": "stderr",
     "output_type": "stream",
     "text": [
      "/home/tim/anaconda3/lib/python3.7/site-packages/qiskit/aqua/components/optimizers/optimizer.py:50: DeprecationWarning: The package qiskit.aqua.components.optimizers is deprecated. It was moved/refactored to qiskit.algorithms.optimizers (pip install qiskit-terra). For more information see <https://github.com/Qiskit/qiskit-aqua/blob/master/README.md#migration-guide>\n",
      "  'qiskit.algorithms.optimizers', 'qiskit-terra')\n"
     ]
    }
   ],
   "source": [
    "import cs_vqe_classes.cs_vqe_circuit as cs_circ\n",
    "import utils.cs_vqe_tools as cs_tools\n",
    "import utils.plotting_tools as plot\n",
    "from utils.molecule_tools import get_molecule\n",
    "from matplotlib import pyplot as plt"
   ]
  },
  {
   "cell_type": "markdown",
   "metadata": {},
   "source": [
    "First we construct the calculated molecule, obtaining the corresponding Hamiltonian and UCCSD Ansatz operator:"
   ]
  },
  {
   "cell_type": "code",
   "execution_count": 2,
   "metadata": {},
   "outputs": [
    {
     "name": "stdout",
     "output_type": "stream",
     "text": [
      "Num qubits: 10\n",
      "Hamiltonian: {'IIIIIIIIII': (-24.43336166259357+0j), 'ZIIIIIIIII': (6.323494958088604+0j), 'YZYIIIIIII': (0.08374130177201292+0j), 'XZXIIIIIII': (0.08374130177201292+0j), 'IZIIIIIIII': (6.323494958088606+0j), 'IYZYIIIIII': (0.08374130177201289+0j), 'IXZXIIIIII': (0.08374130177201289+0j), 'IIZIIIIIII': (0.587253863444877+0j), 'IIIZIIIIII': (0.5872538634448765+0j), 'IIIIZIIIII': (0.39026732133668585+0j), 'IIIIIZIIII': (0.39026732133668635+0j), 'IIIIIIZIII': (0.3902673213366863+0j), 'IIIIIIIZII': (0.390267321336686+0j), 'IIIIIIIIZI': (0.3902673213366862+0j), 'IIIIIIIIIZ': (0.39026732133668607+0j), 'ZZIIIIIIII': (0.8780153541704965+0j), 'YIYIIIIIII': (0.09224795199275918+0j), 'XIXIIIIIII': (0.09224795199275918+0j), 'ZYZYIIIIII': (0.09224795199275918+0j), 'ZXZXIIIIII': (0.09224795199275918+0j), 'YXXYIIIIII': (0.015242871172763375+0j), 'YYXXIIIIII': (-0.015242871172763375+0j), 'XXYYIIIIII': (-0.015242871172763375+0j), 'XYYXIIIIII': (0.015242871172763375+0j), 'YXIIXYIIII': (0.0053795080101926365+0j), 'YYIIXXIIII': (-0.0053795080101926365+0j), 'XXIIYYIIII': (-0.0053795080101926365+0j), 'XYIIYXIIII': (0.0053795080101926365+0j), 'YXIIIIXYII': (0.0053795080101926365+0j), 'YYIIIIXXII': (-0.0053795080101926365+0j), 'XXIIIIYYII': (-0.0053795080101926365+0j), 'XYIIIIYXII': (0.0053795080101926365+0j), 'YXIIIIIIXY': (0.0053795080101926365+0j), 'YYIIIIIIXX': (-0.0053795080101926365+0j), 'XXIIIIIIYY': (-0.0053795080101926365+0j), 'XYIIIIIIYX': (0.0053795080101926365+0j), 'ZIZIIIIIII': (0.19790602272130486+0j), 'ZIIZIIIIII': (0.21314889389406824+0j), 'YZYZIIIIII': (0.004674541605838311+0j), 'XZXZIIIIII': (0.004674541605838311+0j), 'YZZXXYIIII': (0.0072688086295972796+0j), 'YZZYXXIIII': (-0.0072688086295972796+0j), 'XZZXYYIIII': (-0.0072688086295972796+0j), 'XZZYYXIIII': (0.0072688086295972796+0j), 'YZZXIIXYII': (0.0072688086295972796+0j), 'YZZYIIXXII': (-0.0072688086295972796+0j), 'XZZXIIYYII': (-0.0072688086295972796+0j), 'XZZYIIYXII': (0.0072688086295972796+0j), 'YZZXIIIIXY': (0.0072688086295972796+0j), 'YZZYIIIIXX': (-0.0072688086295972796+0j), 'XZZXIIIIYY': (-0.0072688086295972796+0j), 'XZZYIIIIYX': (0.0072688086295972796+0j), 'ZIIIZIIIII': (0.2076286276287467+0j), 'YZYIZIIIII': (0.010225000228090912+0j), 'XZXIZIIIII': (0.010225000228090912+0j), 'ZIIIIZIIII': (0.21300813563893933+0j), 'YZYIIZIIII': (0.0029561915984936326+0j), 'XZXIIZIIII': (0.0029561915984936326+0j), 'ZIIIIIZIII': (0.2076286276287467+0j), 'YZYIIIZIII': (0.010225000228090912+0j), 'XZXIIIZIII': (0.010225000228090912+0j), 'ZIIIIIIZII': (0.21300813563893933+0j), 'YZYIIIIZII': (0.0029561915984936326+0j), 'XZXIIIIZII': (0.0029561915984936326+0j), 'ZIIIIIIIZI': (0.2076286276287467+0j), 'YZYIIIIIZI': (0.010225000228090912+0j), 'XZXIIIIIZI': (0.010225000228090912+0j), 'ZIIIIIIIIZ': (0.21300813563893933+0j), 'YZYIIIIIIZ': (0.0029561915984936326+0j), 'XZXIIIIIIZ': (0.0029561915984936326+0j), 'IZZIIIIIII': (0.21314889389406824+0j), 'IYIYIIIIII': (0.004674541605838311+0j), 'IXIXIIIIII': (0.004674541605838311+0j), 'IYXIXYIIII': (-0.0072688086295972796+0j), 'IYYIYYIIII': (-0.0072688086295972796+0j), 'IXXIXXIIII': (-0.0072688086295972796+0j), 'IXYIYXIIII': (-0.0072688086295972796+0j), 'IYXIIIXYII': (-0.0072688086295972796+0j), 'IYYIIIYYII': (-0.0072688086295972796+0j), 'IXXIIIXXII': (-0.0072688086295972796+0j), 'IXYIIIYXII': (-0.0072688086295972796+0j), 'IYXIIIIIXY': (-0.0072688086295972796+0j), 'IYYIIIIIYY': (-0.0072688086295972796+0j), 'IXXIIIIIXX': (-0.0072688086295972796+0j), 'IXYIIIIIYX': (-0.0072688086295972796+0j), 'IZIZIIIIII': (0.19790602272130486+0j), 'IZIIZIIIII': (0.21300813563893933+0j), 'IYZYZIIIII': (0.0029561915984936326+0j), 'IXZXZIIIII': (0.0029561915984936326+0j), 'IZIIIZIIII': (0.2076286276287467+0j), 'IYZYIZIIII': (0.010225000228090912+0j), 'IXZXIZIIII': (0.010225000228090912+0j), 'IZIIIIZIII': (0.21300813563893933+0j), 'IYZYIIZIII': (0.0029561915984936326+0j), 'IXZXIIZIII': (0.0029561915984936326+0j), 'IZIIIIIZII': (0.2076286276287467+0j), 'IYZYIIIZII': (0.010225000228090912+0j), 'IXZXIIIZII': (0.010225000228090912+0j), 'IZIIIIIIZI': (0.21300813563893933+0j), 'IYZYIIIIZI': (0.0029561915984936326+0j), 'IXZXIIIIZI': (0.0029561915984936326+0j), 'IZIIIIIIIZ': (0.2076286276287467+0j), 'IYZYIIIIIZ': (0.010225000228090912+0j), 'IXZXIIIIIZ': (0.010225000228090912+0j), 'IIZZIIIIII': (0.15136881274980038+0j), 'IIYXXYIIII': (0.03271131471660944+0j), 'IIYYXXIIII': (-0.03271131471660944+0j), 'IIXXYYIIII': (-0.03271131471660944+0j), 'IIXYYXIIII': (0.03271131471660944+0j), 'IIYXIIXYII': (0.03271131471660944+0j), 'IIYYIIXXII': (-0.03271131471660944+0j), 'IIXXIIYYII': (-0.03271131471660944+0j), 'IIXYIIYXII': (0.03271131471660944+0j), 'IIYXIIIIXY': (0.03271131471660944+0j), 'IIYYIIIIXX': (-0.03271131471660944+0j), 'IIXXIIIIYY': (-0.03271131471660944+0j), 'IIXYIIIIYX': (0.03271131471660944+0j), 'IIZIZIIIII': (0.1206308110200113+0j), 'IIZIIZIIII': (0.15334212573662073+0j), 'IIZIIIZIII': (0.1206308110200113+0j), 'IIZIIIIZII': (0.15334212573662073+0j), 'IIZIIIIIZI': (0.1206308110200113+0j), 'IIZIIIIIIZ': (0.15334212573662073+0j), 'IIIZZIIIII': (0.15334212573662073+0j), 'IIIZIZIIII': (0.1206308110200113+0j), 'IIIZIIZIII': (0.15334212573662073+0j), 'IIIZIIIZII': (0.1206308110200113+0j), 'IIIZIIIIZI': (0.15334212573662073+0j), 'IIIZIIIIIZ': (0.1206308110200113+0j), 'IIIIZZIIII': (0.1682081801304148+0j), 'IIIIYXXYII': (0.00906716035822386+0j), 'IIIIYYXXII': (-0.00906716035822386+0j), 'IIIIXXYYII': (-0.00906716035822386+0j), 'IIIIXYYXII': (0.00906716035822386+0j), 'IIIIYXIIXY': (0.009067160358223865+0j), 'IIIIYYIIXX': (-0.009067160358223865+0j), 'IIIIXXIIYY': (-0.009067160358223865+0j), 'IIIIXYIIYX': (0.009067160358223865+0j), 'IIIIZIZIII': (0.1410066990557432+0j), 'IIIIZIIZII': (0.15007385941396706+0j), 'IIIIZIIIZI': (0.1410066990557432+0j), 'IIIIZIIIIZ': (0.15007385941396706+0j), 'IIIIIZZIII': (0.15007385941396706+0j), 'IIIIIZIZII': (0.1410066990557432+0j), 'IIIIIZIIZI': (0.15007385941396706+0j), 'IIIIIZIIIZ': (0.1410066990557432+0j), 'IIIIIIZZII': (0.1682081801304148+0j), 'IIIIIIYXXY': (0.009067160358223865+0j), 'IIIIIIYYXX': (-0.009067160358223865+0j), 'IIIIIIXXYY': (-0.009067160358223865+0j), 'IIIIIIXYYX': (0.009067160358223865+0j), 'IIIIIIZIZI': (0.1410066990557432+0j), 'IIIIIIZIIZ': (0.15007385941396706+0j), 'IIIIIIIZZI': (0.15007385941396706+0j), 'IIIIIIIZIZ': (0.1410066990557432+0j), 'IIIIIIIIZZ': (0.1682081801304148+0j)}\n",
      "UCCSD Ansatz: {'YYIIIIYXII': -4.654550590301856e-05j, 'YXIIIIYYII': 4.654550590301856e-05j, 'XXIIIIYXII': 4.654550590301856e-05j, 'XYIIIIYYII': 4.654550590301856e-05j, 'YXIIIIXXII': -4.654550590301856e-05j, 'YYIIIIXYII': -4.654550590301856e-05j, 'XYIIIIXXII': -4.654550590301856e-05j, 'XXIIIIXYII': 4.654550590301856e-05j, 'IIYYIIYXII': -0.011428592903543915j, 'IIYXIIYYII': 0.011428592903543915j, 'IIXXIIYXII': 0.011428592903543915j, 'IIXYIIYYII': 0.011428592903543915j, 'IIYXIIXXII': -0.011428592903543915j, 'IIYYIIXYII': -0.011428592903543915j, 'IIXYIIXXII': -0.011428592903543915j, 'IIXXIIXYII': 0.011428592903543915j, 'IIIIYYYXII': -0.04744669517264524j, 'IIIIYXYYII': 0.04744669517264524j, 'IIIIXXYXII': 0.04744669517264524j, 'IIIIXYYYII': 0.04744669517264524j, 'IIIIYXXXII': -0.04744669517264524j, 'IIIIYYXYII': -0.04744669517264524j, 'IIIIXYXXII': -0.04744669517264524j, 'IIIIXXXYII': 0.04744669517264524j, 'YYIIIIIIYX': -4.6545505903018515e-05j, 'YXIIIIIIYY': 4.6545505903018515e-05j, 'XXIIIIIIYX': 4.6545505903018515e-05j, 'XYIIIIIIYY': 4.6545505903018515e-05j, 'YXIIIIIIXX': -4.6545505903018515e-05j, 'YYIIIIIIXY': -4.6545505903018515e-05j, 'XYIIIIIIXX': -4.6545505903018515e-05j, 'XXIIIIIIXY': 4.6545505903018515e-05j, 'IIYYIIIIYX': -0.011428592903543897j, 'IIYXIIIIYY': 0.011428592903543897j, 'IIXXIIIIYX': 0.011428592903543897j, 'IIXYIIIIYY': 0.011428592903543897j, 'IIYXIIIIXX': -0.011428592903543897j, 'IIYYIIIIXY': -0.011428592903543897j, 'IIXYIIIIXX': -0.011428592903543897j, 'IIXXIIIIXY': 0.011428592903543897j, 'IIIIYYIIYX': -0.047446695172645326j, 'IIIIYXIIYY': 0.047446695172645326j, 'IIIIXXIIYX': 0.047446695172645326j, 'IIIIXYIIYY': 0.047446695172645326j, 'IIIIYXIIXX': -0.047446695172645326j, 'IIIIYYIIXY': -0.047446695172645326j, 'IIIIXYIIXX': -0.047446695172645326j, 'IIIIXXIIXY': 0.047446695172645326j}\n"
     ]
    }
   ],
   "source": [
    "speciesname = \"C_STO-3G_SINGLET\"\n",
    "molecule    = get_molecule(speciesname)\n",
    "num_qubits  = molecule['num_qubits']\n",
    "ham         = molecule['hamiltonian']\n",
    "uccsd       = molecule['uccsdansatz']\n",
    "\n",
    "print('Num qubits:',   num_qubits)\n",
    "print('Hamiltonian:',  ham)\n",
    "print('UCCSD Ansatz:', uccsd)"
   ]
  },
  {
   "cell_type": "markdown",
   "metadata": {},
   "source": [
    "# Create a CS-VQE circuit instance\n",
    "\n",
    "Our CS-VQE circuit class requires an input Hamiltonian, a noncontextual subset of terms therein, along with the number of qubits and electrons in the full system. The latter is necessary for determining the Hartree-Fock state to be used as the UCCSD reference. \n",
    "\n",
    "Optionally, we may specify the qubit inclusion order (by default the optimal ordering will be determined) and choose which rotations to perform (i.e. just those diagonalising G or the additional unitary partitioning A rotations)."
   ]
  },
  {
   "cell_type": "code",
   "execution_count": 3,
   "metadata": {},
   "outputs": [
    {
     "name": "stdout",
     "output_type": "stream",
     "text": [
      "Hamiltonian is contextual? True\n",
      "['IIIIIIIIII', 'IZIIIIIIII', 'ZIIIIIIIII', 'ZZIIIIIIII', 'IIZIIIIIII', 'IIIZIIIIII', 'IIIIIZIIII', 'IIIIIIZIII', 'IIIIIIIIZI', 'IIIIIIIIIZ', 'IIIIIIIZII', 'IIIIZIIIII', 'ZIIZIIIIII', 'IZZIIIIIII', 'ZIIIIZIIII', 'ZIIIIIIZII', 'ZIIIIIIIIZ', 'IZIIZIIIII', 'IZIIIIZIII', 'IZIIIIIIZI', 'ZIIIZIIIII', 'ZIIIIIZIII', 'ZIIIIIIIZI', 'IZIIIZIIII', 'IZIIIIIZII', 'IZIIIIIIIZ', 'ZIZIIIIIII', 'IZIZIIIIII', 'IIIIZZIIII', 'IIIIIIZZII', 'IIIIIIIIZZ', 'IIZIIZIIII', 'IIZIIIIZII', 'IIZIIIIIIZ', 'IIIZZIIIII', 'IIIZIIZIII', 'IIIZIIIIZI', 'IIZZIIIIII', 'IIIIZIIZII', 'IIIIZIIIIZ', 'IIIIIZZIII', 'IIIIIZIIZI', 'IIIIIIZIIZ', 'IIIIIIIZZI', 'IIIIZIZIII', 'IIIIZIIIZI', 'IIIIIZIZII', 'IIIIIZIIIZ', 'IIIIIIZIZI', 'IIIIIIIZIZ', 'IIZIZIIIII', 'IIZIIIZIII', 'IIZIIIIIZI', 'IIIZIZIIII', 'IIIZIIIZII', 'IIIZIIIIIZ', 'YIYIIIIIII', 'XIXIIIIIII', 'YZYIIIIIII', 'XZXIIIIIII', 'YZYIZIIIII', 'XZXIZIIIII', 'YZYIIIZIII', 'XZXIIIZIII', 'YZYIIIIIZI', 'XZXIIIIIZI', 'YZYZIIIIII', 'XZXZIIIIII', 'YZYIIZIIII', 'XZXIIZIIII', 'YZYIIIIZII', 'XZXIIIIZII', 'YZYIIIIIIZ', 'XZXIIIIIIZ']\n",
      "Noncontextual ground state: 1101000101\n"
     ]
    }
   ],
   "source": [
    "print('Hamiltonian is contextual?', cs_tools.contextualQ_ham(ham))\n",
    "#terms_noncon = cs_tools.greedy_dfs(ham, 300, criterion='weight')[-1]\n",
    "terms_noncon=['IIIIIIIIII', 'IZIIIIIIII', 'ZIIIIIIIII', 'ZZIIIIIIII', 'IIZIIIIIII', 'IIIZIIIIII', 'IIIIIZIIII', 'IIIIIIZIII', 'IIIIIIIIZI', 'IIIIIIIIIZ', 'IIIIIIIZII', 'IIIIZIIIII', 'ZIIZIIIIII', 'IZZIIIIIII', 'ZIIIIZIIII', 'ZIIIIIIZII', 'ZIIIIIIIIZ', 'IZIIZIIIII', 'IZIIIIZIII', 'IZIIIIIIZI', 'ZIIIZIIIII', 'ZIIIIIZIII', 'ZIIIIIIIZI', 'IZIIIZIIII', 'IZIIIIIZII', 'IZIIIIIIIZ', 'ZIZIIIIIII', 'IZIZIIIIII', 'IIIIZZIIII', 'IIIIIIZZII', 'IIIIIIIIZZ', 'IIZIIZIIII', 'IIZIIIIZII', 'IIZIIIIIIZ', 'IIIZZIIIII', 'IIIZIIZIII', 'IIIZIIIIZI', 'IIZZIIIIII', 'IIIIZIIZII', 'IIIIZIIIIZ', 'IIIIIZZIII', 'IIIIIZIIZI', 'IIIIIIZIIZ', 'IIIIIIIZZI', 'IIIIZIZIII', 'IIIIZIIIZI', 'IIIIIZIZII', 'IIIIIZIIIZ', 'IIIIIIZIZI', 'IIIIIIIZIZ', 'IIZIZIIIII', 'IIZIIIZIII', 'IIZIIIIIZI', 'IIIZIZIIII', 'IIIZIIIZII', 'IIIZIIIIIZ', 'YIYIIIIIII', 'XIXIIIIIII', 'YZYIIIIIII', 'XZXIIIIIII', 'YZYIZIIIII', 'XZXIZIIIII', 'YZYIIIZIII', 'XZXIIIZIII', 'YZYIIIIIZI', 'XZXIIIIIZI', 'YZYZIIIIII', 'XZXZIIIIII', 'YZYIIZIIII', 'XZXIIZIIII', 'YZYIIIIZII', 'XZXIIIIZII', 'YZYIIIIIIZ', 'XZXIIIIIIZ']\n",
    "print(terms_noncon)\n",
    "#H2 terms_noncon = ['IIIIIIII', 'IIIIIIZI', 'IIIIIIIZ', 'IIIIZIII', 'IIIIIZII', 'IIZIIIII', 'IIIZIIII', 'ZIIIIIII', 'IZIIIIII', 'IIIIIIZZ', 'ZIIIIIIZ', 'IZIIIIZI', 'ZZIIIIII', 'IIIIZIIZ', 'IIIIIZZI', 'ZIIIIZII', 'IZIIZIII', 'ZIIIIIZI', 'IZIIIIIZ', 'IIIIZZII', 'IIZIIIIZ', 'IIIZIIZI', 'ZIIZIIII', 'IZZIIIII', 'ZIIIZIII', 'IZIIIZII', 'IIIIZIZI', 'IIIIIZIZ', 'IIZZIIII', 'IIZIIZII', 'IIIZZIII', 'IIZIIIZI', 'IIIZIIIZ', 'IIZIZIII', 'IIIZIZII', 'YZZZYIII', 'XZZZXIII', 'ZIZIIIII', 'IZIZIIII', 'YZZZYIIZ', 'XZZZXIIZ', 'YIZZYIII', 'XIZZXIII', 'YZZZYZII', 'XZZZXZII', 'YZZZYIZI', 'XZZZXIZI', 'YZIZYIII', 'XZIZXIII', 'YZZIYIII', 'XZZIXIII']\n",
    "#H3 terms_noncon = ['IIIIII', 'ZIIIII', 'IZIIII', 'IIIIZZ', 'IIZZII', 'ZZIIII', 'ZIIIIZ', 'IZIIZI', 'ZIIZII', 'IZZIII', 'IIZIIZ', 'IIIZZI', 'IIIIZI', 'IIIIIZ', 'IIIZII', 'IIZIII', 'IIZIZI', 'IIIZIZ', 'ZIIIZI', 'IZIIIZ', 'ZIZIII', 'IZIZII', 'YXIIXY', 'YYIIXX', 'XXIIYY', 'XYIIYX'] \n",
    "#BeH+ terms_noncon = ['IIIIIIIIIIII', 'ZIIIIIIIIIII', 'IZIIIIIIIIII', 'IIZIIIIIIIII', 'IIIZIIIIIIII', 'IIIIIIZIIIII', 'IIIIIIIZIIII', 'IIIIIIIIZIII', 'IIIIIIIIIZII', 'IIIIZIIIIIII', 'IIIIIZIIIIII', 'ZZIIIIIIIIII', 'IIIIIIIIIIZI', 'IIIIIIIIIIIZ', 'ZIIIIIIIIZII', 'IZIIIIIIZIII', 'ZIIIIIIZIIII', 'IZIIIIZIIIII', 'ZIIIIIIIZIII', 'IZIIIIIIIZII', 'ZIIIIIZIIIII', 'IZIIIIIZIIII', 'ZIIZIIIIIIII', 'IZZIIIIIIIII', 'ZIZIIIIIIIII', 'IZIZIIIIIIII', 'ZIIIIZIIIIII', 'IZIIZIIIIIII', 'ZIIIZIIIIIII', 'IZIIIZIIIIII', 'IIIIYZZZZZYI', 'IIIIXZZZZZXI', 'IIIIIIIIZZII', 'IIIIIIZZIIII', 'IIIIIIZIIZII', 'IIIIIIIZZIII', 'IIZIIIIIIZII', 'IIIZIIIIZIII', 'IIZIIIIZIIII', 'IIIZIIZIIIII', 'IIZZIIIIIIII', 'IIIIZZIIIIII', 'IIIIIIZIZIII', 'IIIIIIIZIZII', 'IIIIZIIIIZII', 'IIIIIZIIZIII', 'IIIIZIIZIIII', 'IIIIIZZIIIII', 'IIZIIZIIIIII', 'IIIZZIIIIIII', 'ZIIIIIIIIIIZ', 'IZIIIIIIIIZI', 'IIIIIIIIIIZZ', 'ZIIIIIIIIIZI', 'IZIIIIIIIIIZ', 'IIIIZIIIZIII', 'IIIIIZIIIZII', 'IIIIZIZIIIII', 'IIIIIZIZIIII', 'IIZIIIIIZIII', 'IIIZIIIIIZII', 'IIZIIIZIIIII', 'IIIZIIIZIIII', 'IIZIIIIIIIIZ', 'IIIZIIIIIIZI', 'IIIIZIIIIIIZ', 'IIIIIZIIIIZI', 'IIZIZIIIIIII', 'IIIZIZIIIIII', 'IIIIIIIIZIIZ', 'IIIIIIIIIZZI', 'IIIIIIZIIIIZ', 'IIIIIIIZIIZI', 'IIIIIIIIZIZI', 'IIIIIIIIIZIZ', 'IIIIIIZIIIZI', 'IIIIIIIZIIIZ', 'IIZIIIIIIIZI', 'IIIZIIIIIIIZ', 'IIIIZIIIIIZI', 'IIIIIZIIIIIZ', 'IZIIYZZZZZYI', 'IZIIXZZZZZXI', 'ZIIIYZZZZZYI', 'ZIIIXZZZZZXI', 'IIIIYZZZZIYI', 'IIIIXZZZZIXI', 'IIIIYZZIZZYI', 'IIIIXZZIZZXI', 'IIIIYZZZIZYI', 'IIIIXZZZIZXI', 'IIIIYZIZZZYI', 'IIIIXZIZZZXI', 'IIIIYIZZZZYI', 'IIIIXIZZZZXI', 'IIIZYZZZZZYI', 'IIIZXZZZZZXI', 'IIZIYZZZZZYI', 'IIZIXZZZZZXI', 'IIIIYZZZZZYZ', 'IIIIXZZZZZXZ']\n",
    "mol_circ = cs_circ.cs_vqe_circuit(hamiltonian=ham,\n",
    "                                  terms_noncon=terms_noncon,\n",
    "                                  num_qubits=num_qubits)\n",
    "\n",
    "print('Noncontextual ground state:', mol_circ.reference_state())"
   ]
  },
  {
   "cell_type": "markdown",
   "metadata": {},
   "source": [
    "Given the number of qubits we wish to simulate, our circ_vqe_circuit instance includes functionality for computing various parameters necessary for constructing a corresponding quantum circuit for our CS-VQE routine:"
   ]
  },
  {
   "cell_type": "code",
   "execution_count": 4,
   "metadata": {},
   "outputs": [
    {
     "name": "stdout",
     "output_type": "stream",
     "text": [
      "Qubits Included in Simulation: (9, 8)\n",
      "Mapping onto available qubits: {9: 1, 8: 0} \n",
      "\n",
      "2-qubit reduced Hamiltonian: {'II': (-31.286042760254222+0j), 'IZ': (5.678969362324752+0j), 'ZZ': (0.21314889573394402+0j), 'ZI': (0.44652933688658286+0j)} \n",
      "\n",
      "II\n",
      "2-qubit reduced Ansatz: ({}, 'II')\n"
     ]
    }
   ],
   "source": [
    "num_sim_q = 2\n",
    "\n",
    "print('Qubits Included in Simulation:', mol_circ.sim_qubits(num_sim_q)[0])\n",
    "print('Mapping onto available qubits:', mol_circ.qubit_map(num_sim_q), '\\n')\n",
    "print('%i-qubit reduced Hamiltonian:'%num_sim_q, mol_circ.ham_reduced[num_sim_q], '\\n')\n",
    "print('%i-qubit reduced Ansatz:'%num_sim_q, mol_circ.project_anz_terms(uccsd, num_sim_q))"
   ]
  },
  {
   "cell_type": "markdown",
   "metadata": {},
   "source": [
    "# Constructing the CS-VQE circuit\n",
    "\n",
    "The main feature of the cs_vqe_circuit class is its ability to construct a CS-VQE circuit (within Qiskit) given a specified Ansatz and the number of qubits to simulate. The method has been designed with modularity in mind, with the quantum circuit being defined in separate 'blocks' that can be selected at will. The current blocks that have been implemented are as follows:\n",
    "\n",
    "- **ref_state_block** initialises the circuit in the refernce state, typically HF_config though for smaller example one may wish to select the most significant basis state in the Hamiltonian spectrum\n",
    "- **anz_block** gets the reduced Ansatz (as above) and converts it into series of gates using functionality from utils.circuit_tools; by default it will be Trotterized with n_T=2.\n",
    "- **swap_entgl_block** requires an ancilla qubit and will fix a specified qubit to the single-qubit basis state |0> (typically this will be the 'X index' of the observable A, or if using unitary partitioning it will be the qubit position of the single Pauli Z therein). It does this at the expense of entangling the ancilla with the other qubits.\n",
    "- **rot_ham_block** implements the noncontextual generator rotations in the quantum circuit\n",
    "- **rot_A_block** implemetns only the unitary partitioning A rotations in the quantum circuit\n",
    "- **A_eig_block** uses functionality from utils.eigenstate and forces the quantum state into the +1-eigenspace of A \n",
    "- **parity_cascade_block** takes a list of qubits and stores their parity in an ancilla bit, then inserts an input circuit block before reversing the parity computation. It will also compensate for the 'lost parity' as a consequnce of reducing the simulation dimension by introducing an X gate on the ancilla conditional on the parity of qubits not included in the simulation (fixed by the noncontextual ground state).\n",
    "\n",
    "All of these blocks are compiled in the build_circuit method - let's see this in action..."
   ]
  },
  {
   "cell_type": "code",
   "execution_count": 5,
   "metadata": {
    "scrolled": true
   },
   "outputs": [
    {
     "name": "stdout",
     "output_type": "stream",
     "text": [
      "II\n"
     ]
    },
    {
     "data": {
      "image/png": "[encoded data removed]",
      "text/plain": [
       "<Figure size 267.052x144.48 with 1 Axes>"
      ]
     },
     "execution_count": 5,
     "metadata": {},
     "output_type": "execute_result"
    }
   ],
   "source": [
    "mol_circ.build_circuit(uccsd, 2).draw(output='mpl')"
   ]
  },
  {
   "cell_type": "code",
   "execution_count": 6,
   "metadata": {},
   "outputs": [],
   "source": [
    "#fig.savefig(\"plots/usage_circuit.png\", dpi=300)"
   ]
  },
  {
   "cell_type": "markdown",
   "metadata": {},
   "source": [
    "# Executing the reduced CS-VQE circuits\n",
    "\n",
    "Finally, we are able to execute our CS-VQE routine with the CS_VQE method, taking as input an Ansatz and the number of qubits to simulate. This returns a python dict with the simulation results:"
   ]
  },
  {
   "cell_type": "code",
   "execution_count": 7,
   "metadata": {},
   "outputs": [
    {
     "name": "stdout",
     "output_type": "stream",
     "text": [
      "II\n",
      "II\n",
      "*   Performing 2-qubit CS-VQE over qubit positions 9, 8 ...\n"
     ]
    },
    {
     "data": {
      "text/plain": [
       "<matplotlib.collections.LineCollection at 0x7ff91cc38a20>"
      ]
     },
     "execution_count": 7,
     "metadata": {},
     "output_type": "execute_result"
    },
    {
     "data": {
      "image/png": "[encoded data removed]",
      "text/plain": [
       "<Figure size 432x288 with 1 Axes>"
      ]
     },
     "metadata": {
      "needs_background": "light"
     },
     "output_type": "display_data"
    }
   ],
   "source": [
    "cs_vqe_results = mol_circ.CS_VQE(uccsd, num_sim_q)\n",
    "plt.title('CS-VQE convergence'), plt.xlabel('Optimisation count'), plt.ylabel('Energy (Ha)')\n",
    "X, Y = cs_vqe_results['counts'], cs_vqe_results['values']\n",
    "plt.plot(X, Y)\n",
    "plt.hlines(cs_vqe_results['target'], 0, X[-1], color='green')"
   ]
  },
  {
   "cell_type": "markdown",
   "metadata": {},
   "source": [
    "Furthermore, if we wish to compare the CS-VQE results across different numbers of simulation qubits we can use run_cs_vqe, specifying the maximum number of qubits (and optionally the minumum number) to be included. The resulting data can be plotted with utils.plotting_tools.plot_cs_vqe_convergence."
   ]
  },
  {
   "cell_type": "code",
   "execution_count": null,
   "metadata": {},
   "outputs": [
    {
     "name": "stdout",
     "output_type": "stream",
     "text": [
      "I\n",
      "I\n",
      "*   Performing 1-qubit CS-VQE over qubit positions 9 ...\n",
      "**  Contextual target: -37.1983925637316 | VQE result: -37.19839256373162\n",
      "*** Succesfully converged on CS-VQE target energy\n",
      " \n",
      "II\n",
      "II\n",
      "*   Performing 2-qubit CS-VQE over qubit positions 9, 8 ...\n"
     ]
    },
    {
     "name": "stderr",
     "output_type": "stream",
     "text": [
      "/home/tim/anaconda3/lib/python3.7/site-packages/scipy/sparse/linalg/eigen/arpack/arpack.py:1268: RuntimeWarning: k >= N - 1 for N * N square matrix. Attempting to use scipy.linalg.eig instead.\n",
      "  RuntimeWarning)\n"
     ]
    },
    {
     "name": "stdout",
     "output_type": "stream",
     "text": [
      "**  Contextual target: -37.19839256373161 | VQE result: -37.19839256373162\n",
      "*** Succesfully converged on CS-VQE target energy\n",
      " \n",
      "III\n",
      "III\n",
      "*   Performing 3-qubit CS-VQE over qubit positions 9, 8, 5 ...\n",
      "**  Contextual target: -37.19839256373158 | VQE result: -37.19839256373162\n",
      "*** Succesfully converged on CS-VQE target energy\n",
      " \n",
      "IIII\n",
      "IIII\n",
      "*   Performing 4-qubit CS-VQE over qubit positions 9, 8, 5, 4 ...\n",
      "**  Contextual target: -37.19847164405745 | VQE result: -37.19839256373162\n",
      "*** Succesfully converged on CS-VQE target energy\n",
      " \n",
      "IIIII\n",
      "IIIII\n",
      "*   Performing 5-qubit CS-VQE over qubit positions 9, 8, 6, 5, 4 ...\n",
      "**  Contextual target: -37.2186516790914 | VQE result: -37.19839256373162\n",
      "*** Did not converge on contextual target | Error =  0.02026\n",
      " \n",
      "IIIIII\n",
      "IIIIII\n",
      "*   Performing 6-qubit CS-VQE over qubit positions 9, 8, 7, 6, 5, 4 ...\n",
      "**  Contextual target: -37.21873039110215 | VQE result: -37.19839256373162\n",
      "*** Did not converge on contextual target | Error =  0.02034\n",
      " \n",
      "IIIIIII\n",
      "IIIIIII\n",
      "*   Performing 7-qubit CS-VQE over qubit positions 9, 8, 7, 6, 5, 4, 3 ...\n",
      "**  Contextual target: -37.21873039110228 | VQE result: -37.19839256373162\n",
      "*** Did not converge on contextual target | Error =  0.02034\n",
      " \n",
      "IIIIIIII\n",
      "IIIIIIII\n",
      "*   Performing 8-qubit CS-VQE over qubit positions 9, 8, 7, 6, 5, 4, 3, 2 ...\n"
     ]
    },
    {
     "name": "stderr",
     "output_type": "stream",
     "text": [
      "/home/tim/anaconda3/lib/python3.7/site-packages/qiskit/circuit/quantumcircuit.py:876: DeprecationWarning: The QuantumCircuit.extend() method is being deprecated. Use the compose() (potentially with the inplace=True argument) and tensor() methods which are more flexible w.r.t circuit register compatibility.\n",
      "  return self.extend(rhs)\n"
     ]
    },
    {
     "name": "stdout",
     "output_type": "stream",
     "text": [
      "**  Contextual target: -37.21873196517778 | VQE result: -37.19834699279235\n",
      "*** Did not converge on contextual target | Error =  0.02038\n",
      " \n",
      "IIIIIIIII\n",
      "IIIIIIIII\n",
      "*   Performing 9-qubit CS-VQE over qubit positions 9, 8, 7, 6, 5, 4, 3, 2, 0 ...\n"
     ]
    }
   ],
   "source": [
    "mol_circ.run_cs_vqe(uccsd, max_sim_q=num_qubits)"
   ]
  },
  {
   "cell_type": "code",
   "execution_count": null,
   "metadata": {},
   "outputs": [],
   "source": [
    "cs_vqe_results = mol_circ.cs_vqe_results\n",
    "title = 'CS-VQE Convergence Test %s' % speciesname\n",
    "fig = plot.plot_cs_vqe_convergence_alt(data=cs_vqe_results, title=title)"
   ]
  },
  {
   "cell_type": "code",
   "execution_count": null,
   "metadata": {},
   "outputs": [],
   "source": [
    "#fig.savefig(\"plots/FH-CS-VQE-uccsd_ansatz.png\", dpi=300)"
   ]
  },
  {
   "cell_type": "code",
   "execution_count": null,
   "metadata": {},
   "outputs": [],
   "source": [
    "import json \n",
    "\n",
    "data={}\n",
    "for k in cs_vqe_results.keys():\n",
    "    data[str(k)] = cs_vqe_results[k]\n",
    "     \n",
    "with open(\"data/final/\"+speciesname+\"_UCCSD_CS-VQE_convergence_projected_ansatz.json\", \"w\") as outfile: \n",
    "    json.dump(data, outfile)"
   ]
  },
  {
   "cell_type": "code",
   "execution_count": null,
   "metadata": {},
   "outputs": [],
   "source": []
  },
  {
   "cell_type": "code",
   "execution_count": null,
   "metadata": {},
   "outputs": [],
   "source": []
  },
  {
   "cell_type": "code",
   "execution_count": null,
   "metadata": {},
   "outputs": [],
   "source": []
  },
  {
   "cell_type": "code",
   "execution_count": null,
   "metadata": {},
   "outputs": [],
   "source": []
  }
 ],
 "metadata": {
  "kernelspec": {
   "display_name": "Python 3",
   "language": "python",
   "name": "python3"
  },
  "language_info": {
   "codemirror_mode": {
    "name": "ipython",
    "version": 3
   },
   "file_extension": ".py",
   "mimetype": "text/x-python",
   "name": "python",
   "nbconvert_exporter": "python",
   "pygments_lexer": "ipython3",
   "version": "3.7.0"
  }
 },
 "nbformat": 4,
 "nbformat_minor": 2
}
